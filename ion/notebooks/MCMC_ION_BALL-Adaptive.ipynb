{
 "metadata": {
  "language": "Julia",
  "name": ""
 },
 "nbformat": 3,
 "nbformat_minor": 0,
 "worksheets": [
  {
   "cells": [
    {
     "cell_type": "code",
     "collapsed": false,
     "input": [
      "projbasedir = \"/home/michaelepstein/Ion/\";"
     ],
     "language": "python",
     "metadata": {},
     "outputs": [],
     "prompt_number": 12
    },
    {
     "cell_type": "code",
     "collapsed": false,
     "input": [
      "\n",
      "cd(projbasedir)\n",
      "using MAT\n",
      "using Distributions\n",
      "using MCMCTypes\n",
      "using PyPlot\n",
      "using StatsBase"
     ],
     "language": "python",
     "metadata": {},
     "outputs": [],
     "prompt_number": 13
    },
    {
     "cell_type": "code",
     "collapsed": false,
     "input": [
      "\n",
      "\n",
      "# Function for updating parameters - Gibbs step 1\n",
      "include(string(projbasedir,\"MCMCUpdateParameters.jl\"))\n",
      "\n",
      "# Function for updating indicator - Gibbs step 2\n",
      "include(string(projbasedir,\"MCMCUpdateIndicator.jl\"))\n",
      "\n",
      "# Function for the main MCMC routine\n",
      "include(string(projbasedir,\"MCMCRun.jl\"))\n",
      "\n",
      "# Enum of Ion-channel models which can be created\n",
      "AvailableModels = include(string(projbasedir,\"ion/model/ModelEnum.jl\"))\n",
      "\n",
      "# Function to create available models\n",
      "include(string(projbasedir,\"ion/model/CreateModel.jl\"))\n",
      "\n",
      "# Function to parse matlab data files\n",
      "include(string(projbasedir,\"ion/data/MatlabParser.jl\"))\n",
      "\n",
      "Sampler             = \"AdaptiveMH\"\n",
      "OutputID            = \"Output/ION_Ball_$Sampler\\_Output\"\n",
      "print(OutputID)\n",
      "InitialStepSize     = 1 # MH stepsize\n",
      "NumOfIterations     = 10000\n",
      "\n",
      "NumOfProposals      = 10\n",
      "ProposalCovariance  = [ 100 0.0; 0.0 10^8 ]\n",
      "InitialiseFromPrior = false # Sample starting parameters from prior\n",
      "\n",
      "# Define function for updating the parameters (1st Gibbs step)\n",
      "UpdateParasFunction     = UpdateParameters\n",
      "\n",
      "# Define function for sampling the indicator variable (2nd Gibbs step)\n",
      "SampleIndicatorFunction = SampleIndicator\n",
      "\n",
      "#create the Ball model\n",
      "println(\"Creating model BALL 1989\")\n",
      "model = CreateModel(AvailableModels.BALL1989)\n",
      "\n",
      "#data parsing from MATLAB experimental files\n",
      "\n",
      "datafile = string(projbasedir,\"ion/data/balldata.mat\")\n",
      "println(\"Parsing datafile $datafile\")\n",
      "data = MatlabParser(datafile)\n",
      "\n",
      "println(string(\"Likelihood with default params = \", model.LLEval(model.DefaultParas,model,data)))\n",
      "\n",
      "MySimulation = MCMCSimulation( OutputID,\n",
      "                               Sampler,\n",
      "                               NumOfProposals,\n",
      "                               NumOfIterations,\n",
      "                               InitialStepSize,\n",
      "                               ProposalCovariance,\n",
      "                               InitialiseFromPrior,\n",
      "                               UpdateParasFunction,\n",
      "                               SampleIndicatorFunction,\n",
      "                               model,\n",
      "                               data)\n",
      "\n",
      "\n",
      "# Run the MCMC code, passing in the MCMCSimulation object\n",
      "MCMCRun( MySimulation );\n",
      "println(\"done\")\n"
     ],
     "language": "python",
     "metadata": {},
     "outputs": [
      {
       "output_type": "stream",
       "stream": "stdout",
       "text": [
        "Output/ION_Ball_AdaptiveMH_OutputCreating model BALL 1989"
       ]
      },
      {
       "output_type": "stream",
       "stream": "stdout",
       "text": [
        "\n",
        "Creating Ball 1989 Model. Params = 2, States = 2\n",
        "Parsing datafile /home/michaelepstein/Ion/ion/data/balldata.mat\n",
        "Likelihood with default params = 74892.11410304286"
       ]
      },
      {
       "output_type": "stream",
       "stream": "stdout",
       "text": [
        "\n",
        "Setting up Markov chain proposal..."
       ]
      },
      {
       "output_type": "stream",
       "stream": "stdout",
       "text": [
        "\n",
        "Creating chain object...\n",
        "Initialising..."
       ]
      },
      {
       "output_type": "stream",
       "stream": "stdout",
       "text": [
        "\n",
        "The chosen sampler is Adaptive Metropolis-Hastings.\n",
        "Starting main MCMC routine...\n",
        "100"
       ]
      },
      {
       "output_type": "stream",
       "stream": "stdout",
       "text": [
        "\n",
        "LL = 79711.31126403602\n",
        "Param values 202.3292410706228,4.999948397984284e6\n",
        "0.13131313131313133\n",
        "Local Acceptance Rate = 0.13131313131313133\n",
        "200"
       ]
      },
      {
       "output_type": "stream",
       "stream": "stdout",
       "text": [
        "\n",
        "LL = 85930.27755011371\n",
        "Param values 960.7765966768197,4.999580687665145e6\n",
        "0.135678391959799\n",
        "Local Acceptance Rate = 0.14\n",
        "300"
       ]
      },
      {
       "output_type": "stream",
       "stream": "stdout",
       "text": [
        "\n",
        "LL = 85930.26275978828\n",
        "Param values 953.7763517449649,4.999584926552925e6\n",
        "0.20066889632107024\n",
        "Local Acceptance Rate = 0.33\n",
        "400"
       ]
      },
      {
       "output_type": "stream",
       "stream": "stdout",
       "text": [
        "\n",
        "LL = 85930.26275978828\n",
        "Param values 953.7763517449649,4.999584926552925e6\n",
        "0.16040100250626566\n",
        "Local Acceptance Rate = 0.04\n",
        "Shrinking StepSize to 0.9\n",
        "\n",
        "500"
       ]
      },
      {
       "output_type": "stream",
       "stream": "stdout",
       "text": [
        "\n",
        "LL = 85930.30229553944\n",
        "Param values 959.8109310549356,4.999582524814828e6\n",
        "0.1462925851703407\n",
        "Local Acceptance Rate = 0.09\n",
        "Shrinking StepSize to 0.81\n",
        "\n",
        "600"
       ]
      },
      {
       "output_type": "stream",
       "stream": "stdout",
       "text": [
        "\n",
        "LL = 85929.04679197348\n",
        "Param values 940.6365544262183,4.999590286130199e6\n",
        "0.13689482470784642\n",
        "Local Acceptance Rate = 0.09\n",
        "Shrinking StepSize to 0.7290000000000001\n",
        "\n",
        "700"
       ]
      },
      {
       "output_type": "stream",
       "stream": "stdout",
       "text": [
        "\n",
        "LL = 85929.9351466465\n",
        "Param values 966.9402496100315,4.999578937964301e6\n",
        "0.15450643776824036\n",
        "Local Acceptance Rate = 0.26\n",
        "800"
       ]
      },
      {
       "output_type": "stream",
       "stream": "stdout",
       "text": [
        "\n",
        "LL = 85929.22324659592\n",
        "Param values 941.8300796298071,4.9995913360022e6\n",
        "0.15018773466833543\n",
        "Local Acceptance Rate = 0.12\n",
        "900"
       ]
      },
      {
       "output_type": "stream",
       "stream": "stdout",
       "text": [
        "\n",
        "LL = 85927.51389449208\n",
        "Param values 932.5571264104344,4.999591851053693e6\n",
        "0.16240266963292546\n",
        "Local Acceptance Rate = 0.26\n",
        "1000"
       ]
      },
      {
       "output_type": "stream",
       "stream": "stdout",
       "text": [
        "\n",
        "LL = 85930.31853599254\n",
        "Param values 957.9557037489093,4.999575915242934e6\n",
        "0.18518518518518517\n",
        "Local Acceptance Rate = 0.39\n",
        "1100"
       ]
      },
      {
       "output_type": "stream",
       "stream": "stdout",
       "text": [
        "\n",
        "LL = 85930.31853599254\n",
        "Param values 957.9557037489093,4.999575915242934e6\n",
        "0.181073703366697\n",
        "Local Acceptance Rate = 0.14\n",
        "1200"
       ]
      },
      {
       "output_type": "stream",
       "stream": "stdout",
       "text": [
        "\n",
        "LL = 85930.24761182728\n",
        "Param values 961.6518579753599,4.999578501348423e6\n",
        "0.1834862385321101\n",
        "Local Acceptance Rate = 0.21\n",
        "1300"
       ]
      },
      {
       "output_type": "stream",
       "stream": "stdout",
       "text": [
        "\n",
        "LL = 85929.23099601216\n",
        "Param values 973.3121443276625,4.999572917009206e6\n",
        "0.18167821401077752\n",
        "Local Acceptance Rate = 0.16\n",
        "1400"
       ]
      },
      {
       "output_type": "stream",
       "stream": "stdout",
       "text": [
        "\n",
        "LL = 85930.23916305992\n",
        "Param values 961.9550527247616,4.999582046338216e6\n",
        "0.182987848463188\n",
        "Local Acceptance Rate = 0.2\n",
        "1500"
       ]
      },
      {
       "output_type": "stream",
       "stream": "stdout",
       "text": [
        "\n",
        "LL = 85930.25805159009\n",
        "Param values 961.5050963936111,4.999584968562432e6\n",
        "0.18612408272181455\n",
        "Local Acceptance Rate = 0.23\n",
        "1600"
       ]
      },
      {
       "output_type": "stream",
       "stream": "stdout",
       "text": [
        "\n",
        "LL = 85930.10035911066\n",
        "Param values 964.773140435753,4.9995881823095605e6\n",
        "0.19011882426516574\n",
        "Local Acceptance Rate = 0.25\n",
        "1700"
       ]
      },
      {
       "output_type": "stream",
       "stream": "stdout",
       "text": [
        "\n",
        "LL = 85930.2641753583\n",
        "Param values 961.4824946736901,4.999591550921631e6\n",
        "0.19952913478516773\n",
        "Local Acceptance Rate = 0.35\n",
        "1800"
       ]
      },
      {
       "output_type": "stream",
       "stream": "stdout",
       "text": [
        "\n",
        "LL = 85930.16307116658\n",
        "Param values 951.4202868009884,4.99959047901019e6\n",
        "0.2001111728738188\n",
        "Local Acceptance Rate = 0.21\n",
        "1900"
       ]
      },
      {
       "output_type": "stream",
       "stream": "stdout",
       "text": [
        "\n",
        "LL = 85930.28508756541\n",
        "Param values 960.5898818673893,4.999583646858446e6\n",
        "0.2001053185887309\n",
        "Local Acceptance Rate = 0.2\n",
        "2000"
       ]
      },
      {
       "output_type": "stream",
       "stream": "stdout",
       "text": [
        "\n",
        "LL = 85929.07186238318\n",
        "Param values 974.4638922006836,4.999578487839611e6\n",
        "0.2061030515257629\n",
        "Local Acceptance Rate = 0.32\n",
        "2100"
       ]
      },
      {
       "output_type": "stream",
       "stream": "stdout",
       "text": [
        "\n",
        "LL = 85930.1907426135\n",
        "Param values 963.0999552789136,4.999584035265787e6\n",
        "0.21534063839923773\n",
        "Local Acceptance Rate = 0.4\n",
        "2200"
       ]
      },
      {
       "output_type": "stream",
       "stream": "stdout",
       "text": [
        "\n",
        "LL = 85929.3997297075\n",
        "Param values 943.1391068830433,4.9995899476312585e6\n",
        "0.21737153251477945\n",
        "Local Acceptance Rate = 0.26\n",
        "2300"
       ]
      },
      {
       "output_type": "stream",
       "stream": "stdout",
       "text": [
        "\n",
        "LL = 85930.07823681999\n",
        "Param values 964.9805580081431,4.999577343603379e6\n",
        "0.21574597651152674\n",
        "Local Acceptance Rate = 0.18\n",
        "2400"
       ]
      },
      {
       "output_type": "stream",
       "stream": "stdout",
       "text": [
        "\n",
        "LL = 85930.07823681999\n",
        "Param values 964.9805580081431,4.999577343603379e6\n",
        "0.21717382242601083\n",
        "Local Acceptance Rate = 0.25\n",
        "2500"
       ]
      },
      {
       "output_type": "stream",
       "stream": "stdout",
       "text": [
        "\n",
        "LL = 85929.99693601936\n",
        "Param values 949.081859557715,4.999573827877151e6\n",
        "0.22168867547018808\n",
        "Local Acceptance Rate = 0.33\n",
        "2600"
       ]
      },
      {
       "output_type": "stream",
       "stream": "stdout",
       "text": [
        "\n",
        "LL = 85929.45820846077\n",
        "Param values 971.5695693206611,4.999574417598876e6\n",
        "0.22431704501731436\n",
        "Local Acceptance Rate = 0.29\n",
        "2700"
       ]
      },
      {
       "output_type": "stream",
       "stream": "stdout",
       "text": [
        "\n",
        "LL = 85929.72278768843\n",
        "Param values 969.3179776413475,4.999588284200575e6\n",
        "0.2230455724342349\n",
        "Local Acceptance Rate = 0.19\n",
        "2800"
       ]
      },
      {
       "output_type": "stream",
       "stream": "stdout",
       "text": [
        "\n",
        "LL = 85930.31861708866\n",
        "Param values 956.2082428606212,4.999585262403789e6\n",
        "0.22901036084315826\n",
        "Local Acceptance Rate = 0.39\n",
        "2900"
       ]
      },
      {
       "output_type": "stream",
       "stream": "stdout",
       "text": [
        "\n",
        "LL = 85930.32160940206\n",
        "Param values 958.8949266988814,4.999588503421559e6\n",
        "0.22559503276992066\n",
        "Local Acceptance Rate = 0.13\n",
        "3000"
       ]
      },
      {
       "output_type": "stream",
       "stream": "stdout",
       "text": [
        "\n",
        "LL = 85930.17374090012\n",
        "Param values 951.2952418825674,4.99961217798326e6\n",
        "0.22440813604534846\n",
        "Local Acceptance Rate = 0.19\n",
        "3100"
       ]
      },
      {
       "output_type": "stream",
       "stream": "stdout",
       "text": [
        "\n",
        "LL = 85930.06677786303\n",
        "Param values 949.6592238267368,4.999607861097564e6\n",
        "0.22781542433042917\n",
        "Local Acceptance Rate = 0.33\n",
        "3200"
       ]
      },
      {
       "output_type": "stream",
       "stream": "stdout",
       "text": [
        "\n",
        "LL = 85930.24734901775\n",
        "Param values 952.7675474303505,4.999613446451623e6\n",
        "0.22663332291341043\n",
        "Local Acceptance Rate = 0.19\n",
        "3300"
       ]
      },
      {
       "output_type": "stream",
       "stream": "stdout",
       "text": [
        "\n",
        "LL = 85930.24734901775\n",
        "Param values 952.7675474303505,4.999613446451623e6\n",
        "0.22521976356471657\n",
        "Local Acceptance Rate = 0.18\n",
        "3400"
       ]
      },
      {
       "output_type": "stream",
       "stream": "stdout",
       "text": [
        "\n",
        "LL = 85930.33533524924\n",
        "Param values 955.41286284981,4.999621155189984e6\n",
        "0.22359517505148574\n",
        "Local Acceptance Rate = 0.17\n",
        "3500"
       ]
      },
      {
       "output_type": "stream",
       "stream": "stdout",
       "text": [
        "\n",
        "LL = 85930.33839968072\n",
        "Param values 955.1716713827325,4.999630938351113e6\n",
        "0.2243498142326379\n",
        "Local Acceptance Rate = 0.25\n",
        "3600"
       ]
      },
      {
       "output_type": "stream",
       "stream": "stdout",
       "text": [
        "\n",
        "LL = 85929.9703535874\n",
        "Param values 947.8902740593908,4.999660386925416e6\n",
        "0.2333981661572659\n",
        "Local Acceptance Rate = 0.55\n",
        "Increasing StepSize to 0.8019000000000002\n",
        "\n",
        "3700"
       ]
      },
      {
       "output_type": "stream",
       "stream": "stdout",
       "text": [
        "\n",
        "LL = 85929.28881256605\n",
        "Param values 973.2156297887086,4.999627841294535e6\n",
        "0.23492835901595024\n",
        "Local Acceptance Rate = 0.29\n",
        "3800"
       ]
      },
      {
       "output_type": "stream",
       "stream": "stdout",
       "text": [
        "\n",
        "LL = 85930.34265030504\n",
        "Param values 954.1762499098215,4.999667722540665e6\n",
        "0.23374572255856804\n",
        "Local Acceptance Rate = 0.19\n",
        "3900"
       ]
      },
      {
       "output_type": "stream",
       "stream": "stdout",
       "text": [
        "\n",
        "LL = 85930.38894305035\n",
        "Param values 958.308065403507,4.999664890207339e6\n",
        "0.23493203385483458\n",
        "Local Acceptance Rate = 0.28\n",
        "4000"
       ]
      },
      {
       "output_type": "stream",
       "stream": "stdout",
       "text": [
        "\n",
        "LL = 85930.39063977478\n",
        "Param values 959.3565845023363,4.999681443397221e6\n",
        "0.23330832708177043\n",
        "Local Acceptance Rate = 0.17\n",
        "4100"
       ]
      },
      {
       "output_type": "stream",
       "stream": "stdout",
       "text": [
        "\n",
        "LL = 85928.26478388823\n",
        "Param values 936.4448332887508,4.999514319710276e6\n",
        "0.23737496950475725\n",
        "Local Acceptance Rate = 0.4\n",
        "4200"
       ]
      },
      {
       "output_type": "stream",
       "stream": "stdout",
       "text": [
        "\n",
        "LL = 85930.10935967635\n",
        "Param values 964.6244643529482,4.999587788599212e6\n",
        "0.23910454870207193\n",
        "Local Acceptance Rate = 0.31\n",
        "4300"
       ]
      },
      {
       "output_type": "stream",
       "stream": "stdout",
       "text": [
        "\n",
        "LL = 85928.68870132882\n",
        "Param values 977.0359682534156,4.999607069054503e6\n",
        "0.23749709234705746\n",
        "Local Acceptance Rate = 0.17\n",
        "4400"
       ]
      },
      {
       "output_type": "stream",
       "stream": "stdout",
       "text": [
        "\n",
        "LL = 85930.29986768856\n",
        "Param values 961.4396259822738,4.999633725100597e6\n",
        "0.23891793589452148\n",
        "Local Acceptance Rate = 0.3\n",
        "4500"
       ]
      },
      {
       "output_type": "stream",
       "stream": "stdout",
       "text": [
        "\n",
        "LL = 85930.30683265938\n",
        "Param values 953.2693619683097,4.99966177221912e6\n",
        "0.24205378973105135\n",
        "Local Acceptance Rate = 0.38\n",
        "4600"
       ]
      },
      {
       "output_type": "stream",
       "stream": "stdout",
       "text": [
        "\n",
        "LL = 85930.41384917531\n",
        "Param values 961.0953585528243,4.999760359741778e6\n",
        "0.24744509676016524\n",
        "Local Acceptance Rate = 0.49\n",
        "4700"
       ]
      },
      {
       "output_type": "stream",
       "stream": "stdout",
       "text": [
        "\n",
        "LL = 85928.60988379004\n",
        "Param values 978.5392283161436,4.999834402672608e6\n",
        "0.24984039157267504\n",
        "Local Acceptance Rate = 0.36\n",
        "4800"
       ]
      },
      {
       "output_type": "stream",
       "stream": "stdout",
       "text": [
        "\n",
        "LL = 85929.57685105268\n",
        "Param values 942.1945473600631,4.999964992789907e6\n",
        "0.2515107314023755\n",
        "Local Acceptance Rate = 0.33\n",
        "4900"
       ]
      },
      {
       "output_type": "stream",
       "stream": "stdout",
       "text": [
        "\n",
        "LL = 85930.52464088041\n",
        "Param values 960.9786641223402,4.999892519955535e6\n",
        "0.25086752398448664\n",
        "Local Acceptance Rate = 0.22\n",
        "5000"
       ]
      },
      {
       "output_type": "stream",
       "stream": "stdout",
       "text": [
        "\n",
        "LL = 85930.43843747221\n",
        "Param values 964.8264774699611,5.000008912672898e6\n",
        "0.25165033006601323\n",
        "Local Acceptance Rate = 0.29\n",
        "5100"
       ]
      },
      {
       "output_type": "stream",
       "stream": "stdout",
       "text": [
        "\n",
        "LL = 85929.43872854083\n",
        "Param values 943.131346602239,4.999639342743677e6\n",
        "0.25436360070602076\n",
        "Local Acceptance Rate = 0.39\n",
        "5200"
       ]
      },
      {
       "output_type": "stream",
       "stream": "stdout",
       "text": [
        "\n",
        "LL = 85929.63971553875\n",
        "Param values 943.6998857514868,4.999798222048476e6\n",
        "0.25447201384881707\n",
        "Local Acceptance Rate = 0.26\n",
        "5300"
       ]
      },
      {
       "output_type": "stream",
       "stream": "stdout",
       "text": [
        "\n",
        "LL = 85930.60883638558\n",
        "Param values 953.9945245228639,5.000002991048435e6\n",
        "0.2575957727873184\n",
        "Local Acceptance Rate = 0.42\n",
        "5400"
       ]
      },
      {
       "output_type": "stream",
       "stream": "stdout",
       "text": [
        "\n",
        "LL = 85929.15371328699\n",
        "Param values 976.1904411154328,5.000007298805343e6\n",
        "0.2609742544915725\n",
        "Local Acceptance Rate = 0.44\n",
        "5500"
       ]
      },
      {
       "output_type": "stream",
       "stream": "stdout",
       "text": [
        "\n",
        "LL = 85930.41913551991\n",
        "Param values 960.3538346372937,4.999741411808614e6\n",
        "0.2591380250954719\n",
        "Local Acceptance Rate = 0.16\n",
        "5600"
       ]
      },
      {
       "output_type": "stream",
       "stream": "stdout",
       "text": [
        "\n",
        "LL = 85927.60053443174\n",
        "Param values 932.3177271052505,4.999766561524058e6\n",
        "0.2575459903554206\n",
        "Local Acceptance Rate = 0.17\n",
        "5700"
       ]
      },
      {
       "output_type": "stream",
       "stream": "stdout",
       "text": [
        "\n",
        "LL = 85930.46311835405\n",
        "Param values 949.7428552509595,5.000089699963137e6\n",
        "0.26057203018073344\n",
        "Local Acceptance Rate = 0.43\n",
        "5800"
       ]
      },
      {
       "output_type": "stream",
       "stream": "stdout",
       "text": [
        "\n",
        "LL = 85929.8324216781\n",
        "Param values 946.3045437632286,4.999673589842426e6\n",
        "0.26297637523710987\n",
        "Local Acceptance Rate = 0.4\n",
        "5900"
       ]
      },
      {
       "output_type": "stream",
       "stream": "stdout",
       "text": [
        "\n",
        "LL = 85928.06447462455\n",
        "Param values 980.2426271002059,4.999559320477048e6\n",
        "0.2641125614510934\n",
        "Local Acceptance Rate = 0.33\n",
        "6000"
       ]
      },
      {
       "output_type": "stream",
       "stream": "stdout",
       "text": [
        "\n",
        "LL = 85930.72621331959\n",
        "Param values 957.3931259995272,5.000077936575151e6\n",
        "0.26671111851975327\n",
        "Local Acceptance Rate = 0.42\n",
        "6100"
       ]
      },
      {
       "output_type": "stream",
       "stream": "stdout",
       "text": [
        "\n",
        "LL = 85928.13363917275\n",
        "Param values 977.7546436436124,4.999076262656957e6\n",
        "0.2688965404164617\n",
        "Local Acceptance Rate = 0.4\n",
        "6200"
       ]
      },
      {
       "output_type": "stream",
       "stream": "stdout",
       "text": [
        "\n",
        "LL = 85929.49748354743\n",
        "Param values 951.299262114229,4.998777745990101e6\n",
        "0.2682690756573641\n",
        "Local Acceptance Rate = 0.23\n",
        "6300"
       ]
      },
      {
       "output_type": "stream",
       "stream": "stdout",
       "text": [
        "\n",
        "LL = 85926.21888671814\n",
        "Param values 928.7472649271768,4.999145811361151e6\n",
        "0.2671852675027782\n",
        "Local Acceptance Rate = 0.2\n",
        "6400"
       ]
      },
      {
       "output_type": "stream",
       "stream": "stdout",
       "text": [
        "\n",
        "LL = 85929.88607621248\n",
        "Param values 960.8369147300353,4.99910036735591e6\n",
        "0.26707298015314895\n",
        "Local Acceptance Rate = 0.26\n",
        "6500"
       ]
      },
      {
       "output_type": "stream",
       "stream": "stdout",
       "text": [
        "\n",
        "LL = 85929.68076413625\n",
        "Param values 957.8945813294579,4.998789514871672e6\n",
        "0.26557931989536854\n",
        "Local Acceptance Rate = 0.17\n",
        "6600"
       ]
      },
      {
       "output_type": "stream",
       "stream": "stdout",
       "text": [
        "\n",
        "LL = 85928.28665331402\n",
        "Param values 968.2434173831775,4.997690383008018e6\n",
        "0.26716169116532806\n",
        "Local Acceptance Rate = 0.37\n",
        "6700"
       ]
      },
      {
       "output_type": "stream",
       "stream": "stdout",
       "text": [
        "\n",
        "LL = 85928.02524095688\n",
        "Param values 960.9922158269044,4.996814073168889e6\n",
        "0.26809971637557845\n",
        "Local Acceptance Rate = 0.33\n",
        "6800"
       ]
      },
      {
       "output_type": "stream",
       "stream": "stdout",
       "text": [
        "\n",
        "LL = 85928.26057611754\n",
        "Param values 961.0635974696601,4.997106516341268e6\n",
        "0.2681276658332108\n",
        "Local Acceptance Rate = 0.27\n",
        "6900"
       ]
      },
      {
       "output_type": "stream",
       "stream": "stdout",
       "text": [
        "\n",
        "LL = 85929.6852648274\n",
        "Param values 950.5040159412587,4.999067590806525e6\n",
        "0.26858965067401075\n",
        "Local Acceptance Rate = 0.3\n",
        "7000"
       ]
      },
      {
       "output_type": "stream",
       "stream": "stdout",
       "text": [
        "\n",
        "LL = 85931.52898114115\n",
        "Param values 950.2039312956225,5.001366790453091e6\n",
        "0.2706100871553079\n",
        "Local Acceptance Rate = 0.41\n",
        "7100"
       ]
      },
      {
       "output_type": "stream",
       "stream": "stdout",
       "text": [
        "\n",
        "LL = 85932.05184634837\n",
        "Param values 948.3917212700316,5.0021782231556745e6\n",
        "0.2722918720946612\n",
        "Local Acceptance Rate = 0.39\n",
        "7200"
       ]
      },
      {
       "output_type": "stream",
       "stream": "stdout",
       "text": [
        "\n",
        "LL = 85935.80293198378\n",
        "Param values 941.4588308718962,5.00779584875252e6\n",
        "0.27170440338935964\n",
        "Local Acceptance Rate = 0.23\n",
        "7300"
       ]
      },
      {
       "output_type": "stream",
       "stream": "stdout",
       "text": [
        "\n",
        "LL = 85943.7701305021\n",
        "Param values 956.2103270678672,5.016227505488314e6\n",
        "0.273051102890807\n",
        "Local Acceptance Rate = 0.37\n",
        "7400"
       ]
      },
      {
       "output_type": "stream",
       "stream": "stdout",
       "text": [
        "\n",
        "LL = 85951.18038441396\n",
        "Param values 973.9815593692738,5.026854196645381e6\n",
        "0.2704419516150831\n",
        "Local Acceptance Rate = 0.08\n",
        "Shrinking StepSize to 0.7217100000000002\n",
        "\n",
        "7500"
       ]
      },
      {
       "output_type": "stream",
       "stream": "stdout",
       "text": [
        "\n",
        "LL = 85970.73362169156\n",
        "Param values 935.5872669639989,5.052762172712154e6\n",
        "0.2701693559141219\n",
        "Local Acceptance Rate = 0.25\n",
        "7600"
       ]
      },
      {
       "output_type": "stream",
       "stream": "stdout",
       "text": [
        "\n",
        "LL = 86018.78436791855\n",
        "Param values 952.5994655022917,5.11130779357439e6\n",
        "0.2684563758389262\n",
        "Local Acceptance Rate = 0.14\n",
        "7700"
       ]
      },
      {
       "output_type": "stream",
       "stream": "stdout",
       "text": [
        "\n",
        "LL = 86176.12190643557\n",
        "Param values 964.7093694966707,5.32281147180419e6\n",
        "0.26665800753344593\n",
        "Local Acceptance Rate = 0.13\n",
        "7800"
       ]
      },
      {
       "output_type": "stream",
       "stream": "stdout",
       "text": [
        "\n",
        "LL = 86344.66482517261\n",
        "Param values 990.3143284493053,5.576421522771489e6\n",
        "0.2642646493140146\n",
        "Local Acceptance Rate = 0.08\n",
        "Shrinking StepSize to 0.6495390000000002\n",
        "\n",
        "7900"
       ]
      },
      {
       "output_type": "stream",
       "stream": "stdout",
       "text": [
        "\n",
        "LL = 86900.77132741486\n",
        "Param values 1084.183588221274,6.7635968285642555e6\n",
        "0.26256488163058617\n",
        "Local Acceptance Rate = 0.13\n",
        "8000"
       ]
      },
      {
       "output_type": "stream",
       "stream": "stdout",
       "text": [
        "\n",
        "LL = 87486.4274689397\n",
        "Param values 998.0023243062839,9.730685952289151e6\n",
        "0.26015751968996126\n",
        "Local Acceptance Rate = 0.07\n",
        "Shrinking StepSize to 0.5845851000000002\n",
        "\n",
        "8100"
       ]
      },
      {
       "output_type": "stream",
       "stream": "stdout",
       "text": [
        "\n",
        "LL = 87487.86645661772\n",
        "Param values 998.255121413625,9.82471184824044e6\n",
        "0.2585504383257192\n",
        "Local Acceptance Rate = 0.13\n",
        "8200"
       ]
      },
      {
       "output_type": "stream",
       "stream": "stdout",
       "text": [
        "\n",
        "LL = 87487.87342436079\n",
        "Param values 1017.9330326799825,9.988951034989832e6\n",
        "0.25673862666178804\n",
        "Local Acceptance Rate = 0.11\n",
        "8300"
       ]
      },
      {
       "output_type": "stream",
       "stream": "stdout",
       "text": [
        "\n",
        "LL = 87487.35166350308\n",
        "Param values 1010.4047249949583,9.80185843275806e6\n",
        "0.2555729605976624\n",
        "Local Acceptance Rate = 0.16\n",
        "8400"
       ]
      },
      {
       "output_type": "stream",
       "stream": "stdout",
       "text": [
        "\n",
        "LL = 87488.57912877217\n",
        "Param values 1008.935020151707,9.986864456381833e6\n",
        "0.25336349565424454\n",
        "Local Acceptance Rate = 0.07\n",
        "Shrinking StepSize to 0.5261265900000002\n",
        "\n",
        "8500"
       ]
      },
      {
       "output_type": "stream",
       "stream": "stdout",
       "text": [
        "\n",
        "LL = 87487.49204819814\n",
        "Param values 999.8227023059712,9.79218065398493e6\n",
        "0.2520296505471232\n",
        "Local Acceptance Rate = 0.14\n",
        "8600"
       ]
      },
      {
       "output_type": "stream",
       "stream": "stdout",
       "text": [
        "\n",
        "LL = 87487.49204819814\n",
        "Param values 999.8227023059712,9.79218065398493e6\n",
        "0.24933131759506919\n",
        "Local Acceptance Rate = 0.02\n",
        "Shrinking StepSize to 0.47351393100000017\n",
        "\n",
        "8700"
       ]
      },
      {
       "output_type": "stream",
       "stream": "stdout",
       "text": [
        "\n",
        "LL = 87487.49204819814\n",
        "Param values 999.8227023059712,9.79218065398493e6\n",
        "0.24715484538452695\n",
        "Local Acceptance Rate = 0.06\n",
        "Shrinking StepSize to 0.42616253790000014\n",
        "\n",
        "8800"
       ]
      },
      {
       "output_type": "stream",
       "stream": "stdout",
       "text": [
        "\n",
        "LL = 87488.18039980948\n",
        "Param values 992.6631002793043,9.91151188612948e6\n",
        "0.2452551426298443\n",
        "Local Acceptance Rate = 0.08\n",
        "Shrinking StepSize to 0.38354628411000014\n",
        "\n",
        "8900"
       ]
      },
      {
       "output_type": "stream",
       "stream": "stdout",
       "text": [
        "\n",
        "LL = 87488.18039980948\n",
        "Param values 992.6631002793043,9.91151188612948e6\n",
        "0.24249915720867513\n",
        "Local Acceptance Rate = 0.0\n",
        "Shrinking StepSize to 0.3451916556990001\n",
        "\n",
        "9000"
       ]
      },
      {
       "output_type": "stream",
       "stream": "stdout",
       "text": [
        "\n",
        "LL = 87488.18039980948\n",
        "Param values 992.6631002793043,9.91151188612948e6\n",
        "0.240693410378931\n",
        "Local Acceptance Rate = 0.08\n",
        "Shrinking StepSize to 0.31067249012910014\n",
        "\n",
        "9100"
       ]
      },
      {
       "output_type": "stream",
       "stream": "stdout",
       "text": [
        "\n",
        "LL = 87488.18039980948\n",
        "Param values 992.6631002793043,9.91151188612948e6\n",
        "0.23804813715792944\n",
        "Local Acceptance Rate = 0.0\n",
        "Shrinking StepSize to 0.2796052411161901\n",
        "\n",
        "9200"
       ]
      },
      {
       "output_type": "stream",
       "stream": "stdout",
       "text": [
        "\n",
        "LL = 87488.18039980948\n",
        "Param values 992.6631002793043,9.91151188612948e6\n",
        "0.23611262093705837\n",
        "Local Acceptance Rate = 0.06\n",
        "Shrinking StepSize to 0.25164471700457114\n",
        "\n",
        "9300"
       ]
      },
      {
       "output_type": "stream",
       "stream": "stdout",
       "text": [
        "\n",
        "LL = 87488.18039980948\n",
        "Param values 992.6631002793043,9.91151188612948e6\n",
        "0.23357350252715345\n",
        "Local Acceptance Rate = 0.0\n",
        "Shrinking StepSize to 0.22648024530411404\n",
        "\n",
        "9400"
       ]
      },
      {
       "output_type": "stream",
       "stream": "stdout",
       "text": [
        "\n",
        "LL = 87488.18039980948\n",
        "Param values 992.6631002793043,9.91151188612948e6\n",
        "0.23151399085009045\n",
        "Local Acceptance Rate = 0.04\n",
        "Shrinking StepSize to 0.20383222077370264\n",
        "\n",
        "9500"
       ]
      },
      {
       "output_type": "stream",
       "stream": "stdout",
       "text": [
        "\n",
        "LL = 87487.4865806829\n",
        "Param values 1016.9076679968783,9.864563701207267e6\n",
        "0.22981366459627328\n",
        "Local Acceptance Rate = 0.07\n",
        "Shrinking StepSize to 0.18344899869633238\n",
        "\n",
        "9600"
       ]
      },
      {
       "output_type": "stream",
       "stream": "stdout",
       "text": [
        "\n",
        "LL = 87487.4865806829\n",
        "Param values 1016.9076679968783,9.864563701207267e6\n",
        "0.22762787790394834\n",
        "Local Acceptance Rate = 0.02\n",
        "Shrinking StepSize to 0.16510409882669916\n",
        "\n",
        "9700"
       ]
      },
      {
       "output_type": "stream",
       "stream": "stdout",
       "text": [
        "\n",
        "LL = 87487.4865806829\n",
        "Param values 1016.9076679968783,9.864563701207267e6\n",
        "0.22528095679967006\n",
        "Local Acceptance Rate = 0.0\n",
        "Shrinking StepSize to 0.14859368894402925\n",
        "\n",
        "9800"
       ]
      },
      {
       "output_type": "stream",
       "stream": "stdout",
       "text": [
        "\n",
        "LL = 87487.4865806829\n",
        "Param values 1016.9076679968783,9.864563701207267e6\n",
        "0.22379834677007857\n",
        "Local Acceptance Rate = 0.08\n",
        "Shrinking StepSize to 0.13373432004962632\n",
        "\n",
        "9900"
       ]
      },
      {
       "output_type": "stream",
       "stream": "stdout",
       "text": [
        "\n",
        "LL = 87486.34271591186\n",
        "Param values 1014.9570961828726,1.018576722922248e7\n",
        "0.22264875239923224\n",
        "Local Acceptance Rate = 0.11\n",
        "10000"
       ]
      },
      {
       "output_type": "stream",
       "stream": "stdout",
       "text": [
        "\n",
        "LL = 87485.4761128624\n",
        "Param values 975.2453371834305,9.952748546768706e6\n",
        "0.222022202220222\n",
        "Local Acceptance Rate = 0.16\n",
        "10100"
       ]
      },
      {
       "output_type": "stream",
       "stream": "stdout",
       "text": [
        "\n",
        "LL = 87485.4761128624\n",
        "Param values 975.2453371834305,9.952748546768706e6\n",
        "0.2204178631547678\n",
        "Local Acceptance Rate = 0.06\n",
        "Shrinking StepSize to 0.12036088804466369\n",
        "\n",
        "10200"
       ]
      },
      {
       "output_type": "stream",
       "stream": "stdout",
       "text": [
        "\n",
        "LL = 87485.4761128624\n",
        "Param values 975.2453371834305,9.952748546768706e6\n",
        "0.2182566918325326\n",
        "Local Acceptance Rate = 0.0\n",
        "Shrinking StepSize to 0.10832479924019732\n",
        "\n",
        "10300"
       ]
      },
      {
       "output_type": "stream",
       "stream": "stdout",
       "text": [
        "\n",
        "LL = 87485.4761128624\n",
        "Param values 975.2453371834305,9.952748546768706e6\n",
        "0.21633168268763958\n",
        "Local Acceptance Rate = 0.02\n",
        "Shrinking StepSize to 0.09749231931617759\n",
        "\n",
        "10400"
       ]
      },
      {
       "output_type": "stream",
       "stream": "stdout",
       "text": [
        "\n",
        "LL = 87485.4761128624\n",
        "Param values 975.2453371834305,9.952748546768706e6\n",
        "0.21425137032406963\n",
        "Local Acceptance Rate = 0.0\n",
        "Shrinking StepSize to 0.08774308738455984\n",
        "\n",
        "10500"
       ]
      },
      {
       "output_type": "stream",
       "stream": "stdout",
       "text": [
        "\n",
        "LL = 87485.4761128624\n",
        "Param values 975.2453371834305,9.952748546768706e6\n",
        "0.21221068673206972\n",
        "Local Acceptance Rate = 0.0\n",
        "Shrinking StepSize to 0.07896877864610385\n",
        "\n",
        "10600"
       ]
      },
      {
       "output_type": "stream",
       "stream": "stdout",
       "text": [
        "\n",
        "LL = 87485.4761128624\n",
        "Param values 975.2453371834305,9.952748546768706e6\n",
        "0.210397207283706\n",
        "Local Acceptance Rate = 0.02\n",
        "Shrinking StepSize to 0.07107190078149347\n",
        "\n",
        "10700"
       ]
      },
      {
       "output_type": "stream",
       "stream": "stdout",
       "text": [
        "\n",
        "LL = 87485.4761128624\n",
        "Param values 975.2453371834305,9.952748546768706e6\n",
        "0.20917842789045704\n",
        "Local Acceptance Rate = 0.08\n",
        "Shrinking StepSize to 0.06396471070334413\n",
        "\n",
        "10800"
       ]
      },
      {
       "output_type": "stream",
       "stream": "stdout",
       "text": [
        "\n",
        "LL = 87485.4761128624\n",
        "Param values 975.2453371834305,9.952748546768706e6\n",
        "0.20761181590888045\n",
        "Local Acceptance Rate = 0.04\n",
        "Shrinking StepSize to 0.057568239633009714\n",
        "\n",
        "10900"
       ]
      },
      {
       "output_type": "stream",
       "stream": "stdout",
       "text": [
        "\n",
        "LL = 87487.68069678465\n",
        "Param values 1011.236342648527,1.0108695407728568e7\n",
        "0.20616570327552985\n",
        "Local Acceptance Rate = 0.05\n",
        "Shrinking StepSize to 0.051811415669708746\n",
        "\n",
        "11000"
       ]
      },
      {
       "output_type": "stream",
       "stream": "stdout",
       "text": [
        "\n",
        "LL = 87487.68069678465\n",
        "Param values 1011.236342648527,1.0108695407728568e7\n",
        "0.2048368033457587\n",
        "Local Acceptance Rate = 0.06\n",
        "Shrinking StepSize to 0.04663027410273787\n",
        "\n",
        "11100"
       ]
      },
      {
       "output_type": "stream",
       "stream": "stdout",
       "text": [
        "\n",
        "LL = 87487.68069678465\n",
        "Param values 1011.236342648527,1.0108695407728568e7\n",
        "0.20299126047391658\n",
        "Local Acceptance Rate = 0.0\n",
        "Shrinking StepSize to 0.041967246692464086\n",
        "\n",
        "11200"
       ]
      },
      {
       "output_type": "stream",
       "stream": "stdout",
       "text": [
        "\n",
        "LL = 87487.68069678465\n",
        "Param values 1011.236342648527,1.0108695407728568e7\n",
        "0.20135726404143228\n",
        "Local Acceptance Rate = 0.02\n",
        "Shrinking StepSize to 0.03777052202321768\n",
        "\n",
        "11300"
       ]
      },
      {
       "output_type": "stream",
       "stream": "stdout",
       "text": [
        "\n",
        "LL = 87488.19790005035\n",
        "Param values 1013.1564825823685,9.913338302876746e6\n",
        "0.19984069386671388\n",
        "Local Acceptance Rate = 0.03\n",
        "Shrinking StepSize to 0.03399346982089591\n",
        "\n",
        "11400"
       ]
      },
      {
       "output_type": "stream",
       "stream": "stdout",
       "text": [
        "\n",
        "LL = 87488.19790005035\n",
        "Param values 1013.1564825823685,9.913338302876746e6\n",
        "0.19861391350118432\n",
        "Local Acceptance Rate = 0.06\n",
        "Shrinking StepSize to 0.03059412283880632\n",
        "\n",
        "11500"
       ]
      },
      {
       "output_type": "stream",
       "stream": "stdout",
       "text": [
        "\n",
        "LL = 87488.19790005035\n",
        "Param values 1013.1564825823685,9.913338302876746e6\n",
        "0.19688668579876512\n",
        "Local Acceptance Rate = 0.0\n",
        "Shrinking StepSize to 0.02753471055492569\n",
        "\n",
        "11600"
       ]
      },
      {
       "output_type": "stream",
       "stream": "stdout",
       "text": [
        "\n",
        "LL = 87487.2036218299\n",
        "Param values 984.9333197591766,1.000241795687541e7\n",
        "0.19544788343822744\n",
        "Local Acceptance Rate = 0.03\n",
        "Shrinking StepSize to 0.02478123949943312\n",
        "\n",
        "11700"
       ]
      },
      {
       "output_type": "stream",
       "stream": "stdout",
       "text": [
        "\n",
        "LL = 87487.2036218299\n",
        "Param values 984.9333197591766,1.000241795687541e7\n",
        "0.19377724591845458\n",
        "Local Acceptance Rate = 0.0\n",
        "Shrinking StepSize to 0.02230311554948981\n",
        "\n",
        "11800"
       ]
      },
      {
       "output_type": "stream",
       "stream": "stdout",
       "text": [
        "\n",
        "LL = 87486.39848453325\n",
        "Param values 989.4084589285914,9.759448974417364e6\n",
        "0.19238918552419695\n",
        "Local Acceptance Rate = 0.03\n",
        "Shrinking StepSize to 0.02007280399454083\n",
        "\n",
        "11900"
       ]
      },
      {
       "output_type": "stream",
       "stream": "stdout",
       "text": [
        "\n",
        "LL = 87485.03701478789\n",
        "Param values 1008.7854608941526,1.0263781516724428e7\n",
        "0.1916967812421212\n",
        "Local Acceptance Rate = 0.11\n",
        "12000"
       ]
      },
      {
       "output_type": "stream",
       "stream": "stdout",
       "text": [
        "\n",
        "LL = 87485.03701478789\n",
        "Param values 1008.7854608941526,1.0263781516724428e7\n",
        "0.1907658971580965\n",
        "Local Acceptance Rate = 0.08\n",
        "Shrinking StepSize to 0.018065523595086747\n",
        "\n",
        "12100"
       ]
      },
      {
       "output_type": "stream",
       "stream": "stdout",
       "text": [
        "\n",
        "LL = 87483.98351157155\n",
        "Param values 977.078156601739,1.0154771582592232e7\n",
        "0.18976774940077692\n",
        "Local Acceptance Rate = 0.07\n",
        "Shrinking StepSize to 0.01625897123557807\n",
        "\n",
        "12200"
       ]
      },
      {
       "output_type": "stream",
       "stream": "stdout",
       "text": [
        "\n",
        "LL = 87486.67022090881\n",
        "Param values 983.0691564483803,9.850164416789318e6\n",
        "0.18829412246905483\n",
        "Local Acceptance Rate = 0.01\n",
        "Shrinking StepSize to 0.014633074112020264\n",
        "\n",
        "12300"
       ]
      },
      {
       "output_type": "stream",
       "stream": "stdout",
       "text": [
        "\n",
        "LL = 87486.67022090881\n",
        "Param values 983.0691564483803,9.850164416789318e6\n",
        "0.18676315147572972\n",
        "Local Acceptance Rate = 0.0\n",
        "Shrinking StepSize to 0.013169766700818238\n",
        "\n",
        "12400"
       ]
      },
      {
       "output_type": "stream",
       "stream": "stdout",
       "text": [
        "\n",
        "LL = 87486.67022090881\n",
        "Param values 983.0691564483803,9.850164416789318e6\n",
        "0.1852568755544802\n",
        "Local Acceptance Rate = 0.0\n",
        "Shrinking StepSize to 0.011852790030736414\n",
        "\n",
        "12500"
       ]
      },
      {
       "output_type": "stream",
       "stream": "stdout",
       "text": [
        "\n",
        "LL = 87486.67022090881\n",
        "Param values 983.0691564483803,9.850164416789318e6\n",
        "0.18393471477718218\n",
        "Local Acceptance Rate = 0.02\n",
        "Shrinking StepSize to 0.010667511027662772\n",
        "\n",
        "12600"
       ]
      },
      {
       "output_type": "stream",
       "stream": "stdout",
       "text": [
        "\n",
        "LL = 87486.67022090881\n",
        "Param values 983.0691564483803,9.850164416789318e6\n",
        "0.18247479958726884\n",
        "Local Acceptance Rate = 0.0\n",
        "Shrinking StepSize to 0.009600759924896495\n",
        "\n",
        "12700"
       ]
      },
      {
       "output_type": "stream",
       "stream": "stdout",
       "text": [
        "\n",
        "LL = 87487.49374840708\n",
        "Param values 1019.6573486405808,1.0043154028816292e7\n",
        "0.18127411607213167\n",
        "Local Acceptance Rate = 0.03\n",
        "Shrinking StepSize to 0.008640683932406846\n",
        "\n",
        "12800"
       ]
      },
      {
       "output_type": "stream",
       "stream": "stdout",
       "text": [
        "\n",
        "LL = 87488.11582185683\n",
        "Param values 993.8131056036765,1.0028678067837413e7\n",
        "0.18040471911868114\n",
        "Local Acceptance Rate = 0.07\n",
        "Shrinking StepSize to 0.007776615539166161\n",
        "\n",
        "12900"
       ]
      },
      {
       "output_type": "stream",
       "stream": "stdout",
       "text": [
        "\n",
        "LL = 87488.11582185683\n",
        "Param values 993.8131056036765,1.0028678067837413e7\n",
        "0.17931622606403597\n",
        "Local Acceptance Rate = 0.04\n",
        "Shrinking StepSize to 0.006998953985249545\n",
        "\n",
        "13000"
       ]
      },
      {
       "output_type": "stream",
       "stream": "stdout",
       "text": [
        "\n",
        "LL = 87486.95060669267\n",
        "Param values 999.4046802836389,1.016296772622408e7\n",
        "0.17847526732825603\n",
        "Local Acceptance Rate = 0.07\n",
        "Shrinking StepSize to 0.0062990585867245905\n",
        "\n",
        "13100"
       ]
      },
      {
       "output_type": "stream",
       "stream": "stdout",
       "text": [
        "\n",
        "LL = 87486.95060669267\n",
        "Param values 999.4046802836389,1.016296772622408e7\n",
        "0.17787617375372167\n",
        "Local Acceptance Rate = 0.1\n",
        "13200"
       ]
      },
      {
       "output_type": "stream",
       "stream": "stdout",
       "text": [
        "\n",
        "LL = 87487.06786320616\n",
        "Param values 1002.9808333730824,1.016298917084481e7\n",
        "0.17766497461928935\n",
        "Local Acceptance Rate = 0.15\n",
        "13300"
       ]
      },
      {
       "output_type": "stream",
       "stream": "stdout",
       "text": [
        "\n",
        "LL = 87486.60850139777\n",
        "Param values 1024.8984579063028,1.0065795443410318e7\n",
        "0.17708098353259644\n",
        "Local Acceptance Rate = 0.1\n",
        "13400"
       ]
      },
      {
       "output_type": "stream",
       "stream": "stdout",
       "text": [
        "\n",
        "LL = 87486.60850139777\n",
        "Param values 1024.8984579063028,1.0065795443410318e7\n",
        "0.17575938502873348\n",
        "Local Acceptance Rate = 0.0\n",
        "Shrinking StepSize to 0.005669152728052132\n",
        "\n",
        "13500"
       ]
      },
      {
       "output_type": "stream",
       "stream": "stdout",
       "text": [
        "\n",
        "LL = 87485.90552104243\n",
        "Param values 977.6001427866005,9.989084875635907e6\n",
        "0.17505000370397808\n",
        "Local Acceptance Rate = 0.08\n",
        "Shrinking StepSize to 0.005102237455246919\n",
        "\n",
        "13600"
       ]
      },
      {
       "output_type": "stream",
       "stream": "stdout",
       "text": [
        "\n",
        "LL = 87485.90552104243\n",
        "Param values 977.6001427866005,9.989084875635907e6\n",
        "0.17390984631222883\n",
        "Local Acceptance Rate = 0.02\n",
        "Shrinking StepSize to 0.004592013709722227\n",
        "\n",
        "13700"
       ]
      },
      {
       "output_type": "stream",
       "stream": "stdout",
       "text": [
        "\n",
        "LL = 87485.90552104243\n",
        "Param values 977.6001427866005,9.989084875635907e6\n",
        "0.1726403387108548\n",
        "Local Acceptance Rate = 0.0\n",
        "Shrinking StepSize to 0.004132812338750004\n",
        "\n",
        "13800"
       ]
      },
      {
       "output_type": "stream",
       "stream": "stdout",
       "text": [
        "\n",
        "LL = 87485.90552104243\n",
        "Param values 977.6001427866005,9.989084875635907e6\n",
        "0.17138923110370316\n",
        "Local Acceptance Rate = 0.0\n",
        "Shrinking StepSize to 0.003719531104875004\n",
        "\n",
        "13900"
       ]
      },
      {
       "output_type": "stream",
       "stream": "stdout",
       "text": [
        "\n",
        "LL = 87485.90552104243\n",
        "Param values 977.6001427866005,9.989084875635907e6\n",
        "0.17015612634002447\n",
        "Local Acceptance Rate = 0.0\n",
        "Shrinking StepSize to 0.0033475779943875038\n",
        "\n",
        "14000"
       ]
      },
      {
       "output_type": "stream",
       "stream": "stdout",
       "text": [
        "\n",
        "LL = 87485.90552104243\n",
        "Param values 977.6001427866005,9.989084875635907e6\n",
        "0.16908350596471178\n",
        "Local Acceptance Rate = 0.02\n",
        "Shrinking StepSize to 0.0030128201949487536\n",
        "\n",
        "14100"
       ]
      },
      {
       "output_type": "stream",
       "stream": "stdout",
       "text": [
        "\n",
        "LL = 87485.90552104243\n",
        "Param values 977.6001427866005,9.989084875635907e6\n",
        "0.16816795517412583\n",
        "Local Acceptance Rate = 0.04\n",
        "Shrinking StepSize to 0.0027115381754538783\n",
        "\n",
        "14200"
       ]
      },
      {
       "output_type": "stream",
       "stream": "stdout",
       "text": [
        "\n",
        "LL = 87485.90552104243\n",
        "Param values 977.6001427866005,9.989084875635907e6\n",
        "0.16740615536305373\n",
        "Local Acceptance Rate = 0.06\n",
        "Shrinking StepSize to 0.0024403843579084905\n",
        "\n",
        "14300"
       ]
      },
      {
       "output_type": "stream",
       "stream": "stdout",
       "text": [
        "\n",
        "LL = 87485.90552104243\n",
        "Param values 977.6001427866005,9.989084875635907e6\n",
        "0.1663752709979719\n",
        "Local Acceptance Rate = 0.02\n",
        "Shrinking StepSize to 0.0021963459221176415\n",
        "\n",
        "14400"
       ]
      },
      {
       "output_type": "stream",
       "stream": "stdout",
       "text": [
        "\n",
        "LL = 87485.90552104243\n",
        "Param values 977.6001427866005,9.989084875635907e6\n",
        "0.16521980693103688\n",
        "Local Acceptance Rate = 0.0\n",
        "Shrinking StepSize to 0.0019767113299058773\n",
        "\n",
        "14500"
       ]
      },
      {
       "output_type": "stream",
       "stream": "stdout",
       "text": [
        "\n",
        "LL = 87485.90552104243\n",
        "Param values 977.6001427866005,9.989084875635907e6\n",
        "0.16449410304158907\n",
        "Local Acceptance Rate = 0.06\n",
        "Shrinking StepSize to 0.0017790401969152896\n",
        "\n",
        "14600"
       ]
      },
      {
       "output_type": "stream",
       "stream": "stdout",
       "text": [
        "\n",
        "LL = 87488.19451475279\n",
        "Param values 993.640652907835,1.0011655804234613e7\n",
        "0.16370984313994108\n",
        "Local Acceptance Rate = 0.05\n",
        "Shrinking StepSize to 0.0016011361772237606\n",
        "\n",
        "14700"
       ]
      },
      {
       "output_type": "stream",
       "stream": "stdout",
       "text": [
        "\n",
        "LL = 87487.82052330609\n",
        "Param values 996.7841511006374,9.825524842033558e6\n",
        "0.16300428600585073\n",
        "Local Acceptance Rate = 0.06\n",
        "Shrinking StepSize to 0.0014410225595013846\n",
        "\n",
        "14800"
       ]
      },
      {
       "output_type": "stream",
       "stream": "stdout",
       "text": [
        "\n",
        "LL = 87487.82052330609\n",
        "Param values 996.7841511006374,9.825524842033558e6\n",
        "0.16190283127238328\n",
        "Local Acceptance Rate = 0.0\n",
        "Shrinking StepSize to 0.0012969203035512462\n",
        "\n",
        "14900"
       ]
      },
      {
       "output_type": "stream",
       "stream": "stdout",
       "text": [
        "\n",
        "LL = 87487.82052330609\n",
        "Param values 996.7841511006374,9.825524842033558e6\n",
        "0.1610846365527888\n",
        "Local Acceptance Rate = 0.04\n",
        "Shrinking StepSize to 0.0011672282731961217\n",
        "\n",
        "15000"
       ]
      },
      {
       "output_type": "stream",
       "stream": "stdout",
       "text": [
        "\n",
        "LL = 87487.82052330609\n",
        "Param values 996.7841511006374,9.825524842033558e6\n",
        "0.16014400960064004\n",
        "Local Acceptance Rate = 0.02\n",
        "Shrinking StepSize to 0.0010505054458765095\n",
        "\n",
        "15100"
       ]
      },
      {
       "output_type": "stream",
       "stream": "stdout",
       "text": [
        "\n",
        "LL = 87485.83929607054\n",
        "Param values 1016.2675811480016,9.744350890534483e6\n",
        "0.15914961255712298\n",
        "Local Acceptance Rate = 0.01\n",
        "Shrinking StepSize to 0.0009454549012888586\n",
        "\n",
        "15200"
       ]
      },
      {
       "output_type": "stream",
       "stream": "stdout",
       "text": [
        "\n",
        "LL = 87485.30754323203\n",
        "Param values 1001.4532938628412,1.0249725411071965e7\n",
        "0.15843147575498387\n",
        "Local Acceptance Rate = 0.05\n",
        "Shrinking StepSize to 0.0008509094111599728\n",
        "\n",
        "15300"
       ]
      },
      {
       "output_type": "stream",
       "stream": "stdout",
       "text": [
        "\n",
        "LL = 87487.08158705922\n",
        "Param values 984.9620285105024,9.867345558602097e6\n",
        "0.1579188182234133\n",
        "Local Acceptance Rate = 0.08\n",
        "Shrinking StepSize to 0.0007658184700439756\n",
        "\n",
        "15400"
       ]
      },
      {
       "output_type": "stream",
       "stream": "stdout",
       "text": [
        "\n",
        "LL = 87487.08158705922\n",
        "Param values 984.9620285105024,9.867345558602097e6\n",
        "0.15715306188713551\n",
        "Local Acceptance Rate = 0.04\n",
        "Shrinking StepSize to 0.000689236623039578\n",
        "\n",
        "15500"
       ]
      },
      {
       "output_type": "stream",
       "stream": "stdout",
       "text": [
        "\n",
        "LL = 87488.0630270336\n",
        "Param values 992.2404258472567,9.892290742500864e6\n",
        "0.1569778695399703\n",
        "Local Acceptance Rate = 0.13\n",
        "15600"
       ]
      },
      {
       "output_type": "stream",
       "stream": "stdout",
       "text": [
        "\n",
        "LL = 87488.0630270336\n",
        "Param values 992.2404258472567,9.892290742500864e6\n",
        "0.15609974998397333\n",
        "Local Acceptance Rate = 0.02\n",
        "Shrinking StepSize to 0.0006203129607356202\n",
        "\n",
        "15700"
       ]
      },
      {
       "output_type": "stream",
       "stream": "stdout",
       "text": [
        "\n",
        "LL = 87488.0630270336\n",
        "Param values 992.2404258472567,9.892290742500864e6\n",
        "0.15548761067583922\n",
        "Local Acceptance Rate = 0.06\n",
        "Shrinking StepSize to 0.0005582816646620582\n",
        "\n",
        "15800"
       ]
      },
      {
       "output_type": "stream",
       "stream": "stdout",
       "text": [
        "\n",
        "LL = 87488.0630270336\n",
        "Param values 992.2404258472567,9.892290742500864e6\n",
        "0.1546300398759415\n",
        "Local Acceptance Rate = 0.02\n",
        "Shrinking StepSize to 0.0005024534981958524\n",
        "\n",
        "15900"
       ]
      },
      {
       "output_type": "stream",
       "stream": "stdout",
       "text": [
        "\n",
        "LL = 87488.0630270336\n",
        "Param values 992.2404258472567,9.892290742500864e6\n",
        "0.1541606390339015\n",
        "Local Acceptance Rate = 0.08\n",
        "Shrinking StepSize to 0.0004522081483762672\n",
        "\n",
        "16000"
       ]
      },
      {
       "output_type": "stream",
       "stream": "stdout",
       "text": [
        "\n",
        "LL = 87488.0630270336\n",
        "Param values 992.2404258472567,9.892290742500864e6\n",
        "0.1534470904431527\n",
        "Local Acceptance Rate = 0.04\n",
        "Shrinking StepSize to 0.0004069873335386405\n",
        "\n",
        "16100"
       ]
      },
      {
       "output_type": "stream",
       "stream": "stdout",
       "text": [
        "\n",
        "LL = 87488.0630270336\n",
        "Param values 992.2404258472567,9.892290742500864e6\n",
        "0.15261817504192807\n",
        "Local Acceptance Rate = 0.02\n",
        "Shrinking StepSize to 0.00036628860018477643\n",
        "\n",
        "16200"
       ]
      },
      {
       "output_type": "stream",
       "stream": "stdout",
       "text": [
        "\n",
        "LL = 87487.48117231495\n",
        "Param values 990.4700177322202,9.835215301444551e6\n",
        "0.15260201246990554\n",
        "Local Acceptance Rate = 0.15\n",
        "16300"
       ]
      },
      {
       "output_type": "stream",
       "stream": "stdout",
       "text": [
        "\n",
        "LL = 87487.48117231495\n",
        "Param values 990.4700177322202,9.835215301444551e6\n",
        "0.15166574636480765\n",
        "Local Acceptance Rate = 0.0\n",
        "Shrinking StepSize to 0.0003296597401662988\n",
        "\n",
        "16400"
       ]
      },
      {
       "output_type": "stream",
       "stream": "stdout",
       "text": [
        "\n",
        "LL = 87487.48117231495\n",
        "Param values 990.4700177322202,9.835215301444551e6\n",
        "0.15098481614732606\n",
        "Local Acceptance Rate = 0.04\n",
        "Shrinking StepSize to 0.00029669376614966894\n",
        "\n",
        "16500"
       ]
      },
      {
       "output_type": "stream",
       "stream": "stdout",
       "text": [
        "\n",
        "LL = 87487.31437027823\n",
        "Param values 1019.5516501296505,9.88290841636277e6\n",
        "0.15128189587247712\n",
        "Local Acceptance Rate = 0.2\n",
        "16600"
       ]
      },
      {
       "output_type": "stream",
       "stream": "stdout",
       "text": [
        "\n",
        "LL = 87487.31437027823\n",
        "Param values 1019.5516501296505,9.88290841636277e6\n",
        "0.1503705042472438\n",
        "Local Acceptance Rate = 0.0\n",
        "Shrinking StepSize to 0.00026702438953470206\n",
        "\n",
        "16700"
       ]
      },
      {
       "output_type": "stream",
       "stream": "stdout",
       "text": [
        "\n",
        "LL = 87488.02325271395\n",
        "Param values 993.658537616604,9.867539013838824e6\n",
        "0.14976944727229174\n",
        "Local Acceptance Rate = 0.05\n",
        "Shrinking StepSize to 0.00024032195058123186\n",
        "\n",
        "16800"
       ]
      },
      {
       "output_type": "stream",
       "stream": "stdout",
       "text": [
        "\n",
        "LL = 87488.02325271395\n",
        "Param values 993.658537616604,9.867539013838824e6\n",
        "0.14911601881064349\n",
        "Local Acceptance Rate = 0.04\n",
        "Shrinking StepSize to 0.00021628975552310866\n",
        "\n",
        "16900"
       ]
      },
      {
       "output_type": "stream",
       "stream": "stdout",
       "text": [
        "\n",
        "LL = 87488.35691240417\n",
        "Param values 997.2578620418316,9.886499062578013e6\n",
        "0.14864784898514705\n",
        "Local Acceptance Rate = 0.07\n",
        "Shrinking StepSize to 0.0001946607799707978\n",
        "\n",
        "17000"
       ]
      },
      {
       "output_type": "stream",
       "stream": "stdout",
       "text": [
        "\n",
        "LL = 87488.34125684608\n",
        "Param values 1011.3392618958621,9.915104571168825e6\n",
        "0.1484204953232543\n",
        "Local Acceptance Rate = 0.11\n",
        "17100"
       ]
      },
      {
       "output_type": "stream",
       "stream": "stdout",
       "text": [
        "\n",
        "LL = 87486.91937082112\n",
        "Param values 1024.199764936381,9.93443758850688e6\n",
        "0.14761097140183638\n",
        "Local Acceptance Rate = 0.01\n",
        "Shrinking StepSize to 0.00017519470197371802\n",
        "\n",
        "17200"
       ]
      },
      {
       "output_type": "stream",
       "stream": "stdout",
       "text": [
        "\n",
        "LL = 87487.19658548728\n",
        "Param values 986.0673618294999,1.0032794586061269e7\n",
        "0.1473922902494331\n",
        "Local Acceptance Rate = 0.11\n",
        "17300"
       ]
      },
      {
       "output_type": "stream",
       "stream": "stdout",
       "text": [
        "\n",
        "LL = 87487.08076194747\n",
        "Param values 1022.8704847627505,9.922186963535897e6\n",
        "0.14706052372969536\n",
        "Local Acceptance Rate = 0.09\n",
        "Shrinking StepSize to 0.00015767523177634621\n",
        "\n",
        "17400"
       ]
      },
      {
       "output_type": "stream",
       "stream": "stdout",
       "text": [
        "\n",
        "LL = 87487.38244977705\n",
        "Param values 994.1755691577478,1.0109649972673925e7\n",
        "0.14736479107994713\n",
        "Local Acceptance Rate = 0.2\n",
        "17500"
       ]
      },
      {
       "output_type": "stream",
       "stream": "stdout",
       "text": [
        "\n",
        "LL = 87488.23954491875\n",
        "Param values 1004.0643694667473,9.856586930755598e6\n",
        "0.1468083890508029\n",
        "Local Acceptance Rate = 0.05\n",
        "Shrinking StepSize to 0.0001419077085987116\n",
        "\n",
        "17600"
       ]
      },
      {
       "output_type": "stream",
       "stream": "stdout",
       "text": [
        "\n",
        "LL = 87488.23954491875\n",
        "Param values 1004.0643694667473,9.856586930755598e6\n",
        "0.14620148872095004\n",
        "Local Acceptance Rate = 0.04\n",
        "Shrinking StepSize to 0.00012771693773884043\n",
        "\n",
        "17700"
       ]
      },
      {
       "output_type": "stream",
       "stream": "stdout",
       "text": [
        "\n",
        "LL = 87488.23954491875\n",
        "Param values 1004.0643694667473,9.856586930755598e6\n",
        "0.14560144640940167\n",
        "Local Acceptance Rate = 0.04\n",
        "Shrinking StepSize to 0.0001149452439649564\n",
        "\n",
        "17800"
       ]
      },
      {
       "output_type": "stream",
       "stream": "stdout",
       "text": [
        "\n",
        "LL = 87487.3655999751\n",
        "Param values 1005.3992317283612,1.0145035939003171e7\n",
        "0.14528906118321255\n",
        "Local Acceptance Rate = 0.09\n",
        "Shrinking StepSize to 0.00010345071956846076\n",
        "\n",
        "17900"
       ]
      },
      {
       "output_type": "stream",
       "stream": "stdout",
       "text": [
        "\n",
        "LL = 87487.3655999751\n",
        "Param values 1005.3992317283612,1.0145035939003171e7\n",
        "0.14458908318900499\n",
        "Local Acceptance Rate = 0.02\n",
        "Shrinking StepSize to 9.310564761161468e-5\n",
        "\n",
        "18000"
       ]
      },
      {
       "output_type": "stream",
       "stream": "stdout",
       "text": [
        "\n",
        "LL = 87487.56958479446\n",
        "Param values 1012.9376989537583,1.0109731694359004e7\n",
        "0.14406355908661592\n",
        "Local Acceptance Rate = 0.05\n",
        "Shrinking StepSize to 8.379508285045322e-5\n",
        "\n",
        "18100"
       ]
      },
      {
       "output_type": "stream",
       "stream": "stdout",
       "text": [
        "\n",
        "LL = 87488.3128830877\n",
        "Param values 1013.0516662363743,9.99994865560125e6\n",
        "0.14398585557213106\n",
        "Local Acceptance Rate = 0.13\n",
        "18200"
       ]
      },
      {
       "output_type": "stream",
       "stream": "stdout",
       "text": [
        "\n",
        "LL = 87488.3128830877\n",
        "Param values 1013.0516662363743,9.99994865560125e6\n",
        "0.14341447332271004\n",
        "Local Acceptance Rate = 0.04\n",
        "Shrinking StepSize to 7.54155745654079e-5\n",
        "\n",
        "18300"
       ]
      },
      {
       "output_type": "stream",
       "stream": "stdout",
       "text": [
        "\n",
        "LL = 87488.3128830877\n",
        "Param values 1013.0516662363743,9.99994865560125e6\n",
        "0.14263074484944532\n",
        "Local Acceptance Rate = 0.0\n",
        "Shrinking StepSize to 6.787401710886712e-5\n",
        "\n",
        "18400"
       ]
      },
      {
       "output_type": "stream",
       "stream": "stdout",
       "text": [
        "\n",
        "LL = 87488.3128830877\n",
        "Param values 1013.0516662363743,9.99994865560125e6\n",
        "0.14196423718680362\n",
        "Local Acceptance Rate = 0.02\n",
        "Shrinking StepSize to 6.108661539798041e-5\n",
        "\n",
        "18500"
       ]
      },
      {
       "output_type": "stream",
       "stream": "stdout",
       "text": [
        "\n",
        "LL = 87488.3128830877\n",
        "Param values 1013.0516662363743,9.99994865560125e6\n",
        "0.1413049354019136\n",
        "Local Acceptance Rate = 0.02\n",
        "Shrinking StepSize to 5.497795385818237e-5\n",
        "\n",
        "18600"
       ]
      },
      {
       "output_type": "stream",
       "stream": "stdout",
       "text": [
        "\n",
        "LL = 87488.3128830877\n",
        "Param values 1013.0516662363743,9.99994865560125e6\n",
        "0.14054519060164525\n",
        "Local Acceptance Rate = 0.0\n",
        "Shrinking StepSize to 4.948015847236413e-5\n",
        "\n",
        "18700"
       ]
      },
      {
       "output_type": "stream",
       "stream": "stdout",
       "text": [
        "\n",
        "LL = 87488.3128830877\n",
        "Param values 1013.0516662363743,9.99994865560125e6\n",
        "0.139900529440077\n",
        "Local Acceptance Rate = 0.02\n",
        "Shrinking StepSize to 4.453214262512772e-5\n",
        "\n",
        "18800"
       ]
      },
      {
       "output_type": "stream",
       "stream": "stdout",
       "text": [
        "\n",
        "LL = 87488.3128830877\n",
        "Param values 1013.0516662363743,9.99994865560125e6\n",
        "0.13936911537847757\n",
        "Local Acceptance Rate = 0.04\n",
        "Shrinking StepSize to 4.007892836261495e-5\n",
        "\n",
        "18900"
       ]
      },
      {
       "output_type": "stream",
       "stream": "stdout",
       "text": [
        "\n",
        "LL = 87488.3128830877\n",
        "Param values 1013.0516662363743,9.99994865560125e6\n",
        "0.13916080215884438\n",
        "Local Acceptance Rate = 0.1\n",
        "19000"
       ]
      },
      {
       "output_type": "stream",
       "stream": "stdout",
       "text": [
        "\n",
        "LL = 87488.3128830877\n",
        "Param values 1013.0516662363743,9.99994865560125e6\n",
        "0.1384283383335965\n",
        "Local Acceptance Rate = 0.0\n",
        "Shrinking StepSize to 3.607103552635346e-5\n",
        "\n",
        "19100"
       ]
      },
      {
       "output_type": "stream",
       "stream": "stdout",
       "text": [
        "\n",
        "LL = 87488.3128830877\n",
        "Param values 1013.0516662363743,9.99994865560125e6\n",
        "0.13801769726163673\n",
        "Local Acceptance Rate = 0.06\n",
        "Shrinking StepSize to 3.246393197371811e-5\n",
        "\n",
        "19200"
       ]
      },
      {
       "output_type": "stream",
       "stream": "stdout",
       "text": [
        "\n",
        "LL = 87488.3128830877\n",
        "Param values 1013.0516662363743,9.99994865560125e6\n",
        "0.1376634199697901\n",
        "Local Acceptance Rate = 0.07\n",
        "Shrinking StepSize to 2.9217538776346303e-5\n",
        "\n",
        "19300"
       ]
      },
      {
       "output_type": "stream",
       "stream": "stdout",
       "text": [
        "\n",
        "LL = 87488.3128830877\n",
        "Param values 1013.0516662363743,9.99994865560125e6\n",
        "0.1370537333540598\n",
        "Local Acceptance Rate = 0.02\n",
        "Shrinking StepSize to 2.6295784898711674e-5\n",
        "\n",
        "19400"
       ]
      },
      {
       "output_type": "stream",
       "stream": "stdout",
       "text": [
        "\n",
        "LL = 87488.3128830877\n",
        "Param values 1013.0516662363743,9.99994865560125e6\n",
        "0.13645033249136554\n",
        "Local Acceptance Rate = 0.02\n",
        "Shrinking StepSize to 2.3666206408840507e-5\n",
        "\n",
        "19500"
       ]
      },
      {
       "output_type": "stream",
       "stream": "stdout",
       "text": [
        "\n",
        "LL = 87487.9426607455\n",
        "Param values 996.4436635964249,1.0074966774325574e7\n",
        "0.13610954407918355\n",
        "Local Acceptance Rate = 0.07\n",
        "Shrinking StepSize to 2.1299585767956456e-5\n",
        "\n",
        "19600"
       ]
      },
      {
       "output_type": "stream",
       "stream": "stdout",
       "text": [
        "\n",
        "LL = 87487.9426607455\n",
        "Param values 996.4436635964249,1.0074966774325574e7\n",
        "0.1354150721975611\n",
        "Local Acceptance Rate = 0.0\n",
        "Shrinking StepSize to 1.9169627191160812e-5\n",
        "\n",
        "19700"
       ]
      },
      {
       "output_type": "stream",
       "stream": "stdout",
       "text": [
        "\n",
        "LL = 87487.9426607455\n",
        "Param values 996.4436635964249,1.0074966774325574e7\n",
        "0.13472765114980456\n",
        "Local Acceptance Rate = 0.0\n",
        "Shrinking StepSize to 1.7252664472044733e-5\n",
        "\n",
        "19800"
       ]
      },
      {
       "output_type": "stream",
       "stream": "stdout",
       "text": [
        "\n",
        "LL = 87487.9426607455\n",
        "Param values 996.4436635964249,1.0074966774325574e7\n",
        "0.13465326531643013\n",
        "Local Acceptance Rate = 0.12\n",
        "19900"
       ]
      },
      {
       "output_type": "stream",
       "stream": "stdout",
       "text": [
        "\n",
        "LL = 87487.14305669966\n",
        "Param values 1001.5765098229609,1.0156236733587688e7\n",
        "0.13452937333534348\n",
        "Local Acceptance Rate = 0.11\n",
        "20000"
       ]
      },
      {
       "output_type": "stream",
       "stream": "stdout",
       "text": [
        "\n",
        "LL = 87486.2292857851\n",
        "Param values 981.6452390170522,1.0060169784152552e7\n",
        "0.13410670533526675\n",
        "Local Acceptance Rate = 0.05\n",
        "Shrinking StepSize to 1.552739802484026e-5\n",
        "\n",
        "20100"
       ]
      },
      {
       "output_type": "stream",
       "stream": "stdout",
       "text": [
        "\n",
        "LL = 87486.96470572063\n",
        "Param values 1009.6195239093122,1.0166030605808683e7\n",
        "0.1335887357579979\n",
        "Local Acceptance Rate = 0.03\n",
        "Shrinking StepSize to 1.3974658222356234e-5\n",
        "\n",
        "20200"
       ]
      },
      {
       "output_type": "stream",
       "stream": "stdout",
       "text": [
        "\n",
        "LL = 87487.6894017918\n",
        "Param values 1017.3003969494371,9.895880766292984e6\n",
        "0.13317490964899253\n",
        "Local Acceptance Rate = 0.05\n",
        "Shrinking StepSize to 1.257719240012061e-5\n",
        "\n",
        "20300"
       ]
      },
      {
       "output_type": "stream",
       "stream": "stdout",
       "text": [
        "\n",
        "LL = 87487.6894017918\n",
        "Param values 1017.3003969494371,9.895880766292984e6\n",
        "0.13261737031380857\n",
        "Local Acceptance Rate = 0.02\n",
        "Shrinking StepSize to 1.131947316010855e-5\n",
        "\n",
        "20400"
       ]
      },
      {
       "output_type": "stream",
       "stream": "stdout",
       "text": [
        "\n",
        "LL = 87487.6894017918\n",
        "Param values 1017.3003969494371,9.895880766292984e6\n",
        "0.13216334134026178\n",
        "Local Acceptance Rate = 0.04\n",
        "Shrinking StepSize to 1.0187525844097696e-5\n",
        "\n",
        "20500"
       ]
      },
      {
       "output_type": "stream",
       "stream": "stdout",
       "text": [
        "\n",
        "LL = 87487.6894017918\n",
        "Param values 1017.3003969494371,9.895880766292984e6\n",
        "0.13161617639884873\n",
        "Local Acceptance Rate = 0.02\n",
        "Shrinking StepSize to 9.168773259687927e-6\n",
        "\n",
        "20600"
       ]
      },
      {
       "output_type": "stream",
       "stream": "stdout",
       "text": [
        "\n",
        "LL = 87486.94456665865\n",
        "Param values 1019.9440918878737,1.0107443640725497e7\n",
        "0.1313170542259333\n",
        "Local Acceptance Rate = 0.07\n",
        "Shrinking StepSize to 8.251895933719135e-6\n",
        "\n",
        "20700"
       ]
      },
      {
       "output_type": "stream",
       "stream": "stdout",
       "text": [
        "\n",
        "LL = 87487.34545173167\n",
        "Param values 990.9478994772511,1.0085973105607836e7\n",
        "0.13111744528721195\n",
        "Local Acceptance Rate = 0.09\n",
        "Shrinking StepSize to 7.426706340347222e-6\n",
        "\n",
        "20800"
       ]
      },
      {
       "output_type": "stream",
       "stream": "stdout",
       "text": [
        "\n",
        "LL = 87488.53365982695\n",
        "Param values 1007.9577138094794,1.0015988528412271e7\n",
        "0.13091975575748835\n",
        "Local Acceptance Rate = 0.09\n",
        "Shrinking StepSize to 6.6840357063125e-6\n",
        "\n",
        "20900"
       ]
      },
      {
       "output_type": "stream",
       "stream": "stdout",
       "text": [
        "\n",
        "LL = 87488.53365982695\n",
        "Param values 1007.9577138094794,1.0015988528412271e7\n",
        "0.13038901382841284\n",
        "Local Acceptance Rate = 0.02\n",
        "Shrinking StepSize to 6.01563213568125e-6\n",
        "\n",
        "21000"
       ]
      },
      {
       "output_type": "stream",
       "stream": "stdout",
       "text": [
        "\n",
        "LL = 87488.53365982695\n",
        "Param values 1007.9577138094794,1.0015988528412271e7\n",
        "0.12986332682508692\n",
        "Local Acceptance Rate = 0.02\n",
        "Shrinking StepSize to 5.414068922113125e-6\n",
        "\n",
        "21100"
       ]
      },
      {
       "output_type": "stream",
       "stream": "stdout",
       "text": [
        "\n",
        "LL = 87488.03215558798\n",
        "Param values 1005.52046692026,9.838308111979924e6\n",
        "0.129579600928954\n",
        "Local Acceptance Rate = 0.07\n",
        "Shrinking StepSize to 4.8726620299018124e-6\n",
        "\n",
        "21200"
       ]
      },
      {
       "output_type": "stream",
       "stream": "stdout",
       "text": [
        "\n",
        "LL = 87488.03215558798\n",
        "Param values 1005.52046692026,9.838308111979924e6\n",
        "0.12896834756356432\n",
        "Local Acceptance Rate = 0.0\n",
        "Shrinking StepSize to 4.385395826911631e-6\n",
        "\n",
        "21300"
       ]
      },
      {
       "output_type": "stream",
       "stream": "stdout",
       "text": [
        "\n",
        "LL = 87488.03215558798\n",
        "Param values 1005.52046692026,9.838308111979924e6\n",
        "0.12845673505798394\n",
        "Local Acceptance Rate = 0.02\n",
        "Shrinking StepSize to 3.946856244220469e-6\n",
        "\n",
        "21400"
       ]
      },
      {
       "output_type": "stream",
       "stream": "stdout",
       "text": [
        "\n",
        "LL = 87488.03215558798\n",
        "Param values 1005.52046692026,9.838308111979924e6\n",
        "0.12804336651245385\n",
        "Local Acceptance Rate = 0.04\n",
        "Shrinking StepSize to 3.552170619798422e-6\n",
        "\n",
        "21500"
       ]
      },
      {
       "output_type": "stream",
       "stream": "stdout",
       "text": [
        "\n",
        "LL = 87488.03215558798\n",
        "Param values 1005.52046692026,9.838308111979924e6\n",
        "0.1277268710172566\n",
        "Local Acceptance Rate = 0.06\n",
        "Shrinking StepSize to 3.19695355781858e-6\n",
        "\n",
        "21600"
       ]
      },
      {
       "output_type": "stream",
       "stream": "stdout",
       "text": [
        "\n",
        "LL = 87488.03215558798\n",
        "Param values 1005.52046692026,9.838308111979924e6\n",
        "0.1272281124126117\n",
        "Local Acceptance Rate = 0.02\n",
        "Shrinking StepSize to 2.877258202036722e-6\n",
        "\n",
        "21700"
       ]
      },
      {
       "output_type": "stream",
       "stream": "stdout",
       "text": [
        "\n",
        "LL = 87488.03215558798\n",
        "Param values 1005.52046692026,9.838308111979924e6\n",
        "0.12673395087331213\n",
        "Local Acceptance Rate = 0.02\n",
        "Shrinking StepSize to 2.5895323818330497e-6\n",
        "\n",
        "21800"
       ]
      },
      {
       "output_type": "stream",
       "stream": "stdout",
       "text": [
        "\n",
        "LL = 87488.03215558798\n",
        "Param values 1005.52046692026,9.838308111979924e6\n",
        "0.12642781778980688\n",
        "Local Acceptance Rate = 0.06\n",
        "Shrinking StepSize to 2.3305791436497446e-6\n",
        "\n",
        "21900"
       ]
      },
      {
       "output_type": "stream",
       "stream": "stdout",
       "text": [
        "\n",
        "LL = 87488.03215558798\n",
        "Param values 1005.52046692026,9.838308111979924e6\n",
        "0.12612448056988904\n",
        "Local Acceptance Rate = 0.06\n",
        "Shrinking StepSize to 2.09752122928477e-6\n",
        "\n",
        "22000"
       ]
      },
      {
       "output_type": "stream",
       "stream": "stdout",
       "text": [
        "\n",
        "LL = 87488.03215558798\n",
        "Param values 1005.52046692026,9.838308111979924e6\n",
        "0.12555116141642803\n",
        "Local Acceptance Rate = 0.0\n",
        "Shrinking StepSize to 1.887769106356293e-6\n",
        "\n",
        "22100"
       ]
      },
      {
       "output_type": "stream",
       "stream": "stdout",
       "text": [
        "\n",
        "LL = 87488.03215558798\n",
        "Param values 1005.52046692026,9.838308111979924e6\n",
        "0.12498303090637586\n",
        "Local Acceptance Rate = 0.0\n",
        "Shrinking StepSize to 1.6989921957206638e-6\n",
        "\n",
        "22200"
       ]
      },
      {
       "output_type": "stream",
       "stream": "stdout",
       "text": [
        "\n",
        "LL = 87487.26942385886\n",
        "Param values 994.1023377527723,9.792407004604166e6\n",
        "0.12473534843911888\n",
        "Local Acceptance Rate = 0.07\n",
        "Shrinking StepSize to 1.5290929761485974e-6\n",
        "\n",
        "22300"
       ]
      },
      {
       "output_type": "stream",
       "stream": "stdout",
       "text": [
        "\n",
        "LL = 87487.26942385886\n",
        "Param values 994.1023377527723,9.792407004604166e6\n",
        "0.12462442261984842\n",
        "Local Acceptance Rate = 0.1\n",
        "22400"
       ]
      },
      {
       "output_type": "stream",
       "stream": "stdout",
       "text": [
        "\n",
        "LL = 87487.81835061367\n",
        "Param values 1011.6189471074972,1.009395567455741e7\n",
        "0.12460377695432832\n",
        "Local Acceptance Rate = 0.12\n",
        "22500"
       ]
      },
      {
       "output_type": "stream",
       "stream": "stdout",
       "text": [
        "\n",
        "LL = 87487.81835061367\n",
        "Param values 1011.6189471074972,1.009395567455741e7\n",
        "0.12413885061558291\n",
        "Local Acceptance Rate = 0.02\n",
        "Shrinking StepSize to 1.3761836785337376e-6\n",
        "\n",
        "22600"
       ]
      },
      {
       "output_type": "stream",
       "stream": "stdout",
       "text": [
        "\n",
        "LL = 87487.81835061367\n",
        "Param values 1011.6189471074972,1.009395567455741e7\n",
        "0.12385503783353245\n",
        "Local Acceptance Rate = 0.06\n",
        "Shrinking StepSize to 1.2385653106803638e-6\n",
        "\n",
        "22700"
       ]
      },
      {
       "output_type": "stream",
       "stream": "stdout",
       "text": [
        "\n",
        "LL = 87487.80793565401\n",
        "Param values 988.8988144152568,9.911836235192832e6\n",
        "0.12370589012731839\n",
        "Local Acceptance Rate = 0.09\n",
        "Shrinking StepSize to 1.1147087796123274e-6\n",
        "\n",
        "22800"
       ]
      },
      {
       "output_type": "stream",
       "stream": "stdout",
       "text": [
        "\n",
        "LL = 87487.80793565401\n",
        "Param values 988.8988144152568,9.911836235192832e6\n",
        "0.12333874292732137\n",
        "Local Acceptance Rate = 0.04\n",
        "Shrinking StepSize to 1.0032379016510947e-6\n",
        "\n",
        "22900"
       ]
      },
      {
       "output_type": "stream",
       "stream": "stdout",
       "text": [
        "\n",
        "LL = 87484.37202770956\n",
        "Param values 1018.6555983367093,9.691438103669481e6\n",
        "0.12301847242237653\n",
        "Local Acceptance Rate = 0.05\n",
        "Shrinking StepSize to 9.029141114859853e-7\n",
        "\n",
        "23000"
       ]
      },
      {
       "output_type": "stream",
       "stream": "stdout",
       "text": [
        "\n",
        "LL = 87487.11049677817\n",
        "Param values 983.5126863328038,9.953253750244953e6\n",
        "0.12252706639419106\n",
        "Local Acceptance Rate = 0.01\n",
        "Shrinking StepSize to 8.126227003373868e-7\n",
        "\n",
        "23100"
       ]
      },
      {
       "output_type": "stream",
       "stream": "stdout",
       "text": [
        "\n",
        "LL = 87487.9989733268\n",
        "Param values 1007.4433898531446,9.841359360238755e6\n",
        "0.12238625048703407\n",
        "Local Acceptance Rate = 0.09\n",
        "Shrinking StepSize to 7.313604303036481e-7\n",
        "\n",
        "23200"
       ]
      },
      {
       "output_type": "stream",
       "stream": "stdout",
       "text": [
        "\n",
        "LL = 87487.9989733268\n",
        "Param values 1007.4433898531446,9.841359360238755e6\n",
        "0.12194491141859563\n",
        "Local Acceptance Rate = 0.02\n",
        "Shrinking StepSize to 6.582243872732833e-7\n",
        "\n",
        "23300"
       ]
      },
      {
       "output_type": "stream",
       "stream": "stdout",
       "text": [
        "\n",
        "LL = 87487.9989733268\n",
        "Param values 1007.4433898531446,9.841359360238755e6\n",
        "0.12142152023692004\n",
        "Local Acceptance Rate = 0.0\n",
        "Shrinking StepSize to 5.92401948545955e-7\n",
        "\n",
        "23400"
       ]
      },
      {
       "output_type": "stream",
       "stream": "stdout",
       "text": [
        "\n",
        "LL = 87487.9989733268\n",
        "Param values 1007.4433898531446,9.841359360238755e6\n",
        "0.12124449762810377\n",
        "Local Acceptance Rate = 0.08\n",
        "Shrinking StepSize to 5.331617536913595e-7\n",
        "\n",
        "23500"
       ]
      },
      {
       "output_type": "stream",
       "stream": "stdout",
       "text": [
        "\n",
        "LL = 87487.9989733268\n",
        "Param values 1007.4433898531446,9.841359360238755e6\n",
        "0.12072854164006978\n",
        "Local Acceptance Rate = 0.0\n",
        "Shrinking StepSize to 4.798455783222236e-7\n",
        "\n",
        "23600"
       ]
      },
      {
       "output_type": "stream",
       "stream": "stdout",
       "text": [
        "\n",
        "LL = 87487.9989733268\n",
        "Param values 1007.4433898531446,9.841359360238755e6\n",
        "0.12030170769947879\n",
        "Local Acceptance Rate = 0.02\n",
        "Shrinking StepSize to 4.3186102049000125e-7\n",
        "\n",
        "23700"
       ]
      },
      {
       "output_type": "stream",
       "stream": "stdout",
       "text": [
        "\n",
        "LL = 87487.34444146759\n",
        "Param values 986.6467352296363,1.0023178870622534e7\n",
        "0.12017384699776362\n",
        "Local Acceptance Rate = 0.09\n",
        "Shrinking StepSize to 3.8867491844100114e-7\n",
        "\n",
        "23800"
       ]
      },
      {
       "output_type": "stream",
       "stream": "stdout",
       "text": [
        "\n",
        "LL = 87487.34444146759\n",
        "Param values 986.6467352296363,1.0023178870622534e7\n",
        "0.11975293079541158\n",
        "Local Acceptance Rate = 0.02\n",
        "Shrinking StepSize to 3.49807426596901e-7\n",
        "\n",
        "23900"
       ]
      },
      {
       "output_type": "stream",
       "stream": "stdout",
       "text": [
        "\n",
        "LL = 87488.32199183713\n",
        "Param values 996.9320376653297,9.883155650862217e6\n",
        "0.11954475082639442\n",
        "Local Acceptance Rate = 0.07\n",
        "Shrinking StepSize to 3.1482668393721094e-7\n",
        "\n",
        "24000"
       ]
      },
      {
       "output_type": "stream",
       "stream": "stdout",
       "text": [
        "\n",
        "LL = 87488.32199183713\n",
        "Param values 996.9320376653297,9.883155650862217e6\n",
        "0.11904662694278928\n",
        "Local Acceptance Rate = 0.0\n",
        "Shrinking StepSize to 2.8334401554348985e-7\n",
        "\n",
        "24100"
       ]
      },
      {
       "output_type": "stream",
       "stream": "stdout",
       "text": [
        "\n",
        "LL = 87488.32199183713\n",
        "Param values 996.9320376653297,9.883155650862217e6\n",
        "0.11863562803435827\n",
        "Local Acceptance Rate = 0.02\n",
        "Shrinking StepSize to 2.5500961398914086e-7\n",
        "\n",
        "24200"
       ]
      },
      {
       "output_type": "stream",
       "stream": "stdout",
       "text": [
        "\n",
        "LL = 87488.32199183713\n",
        "Param values 996.9320376653297,9.883155650862217e6\n",
        "0.11814537790817803\n",
        "Local Acceptance Rate = 0.0\n",
        "Shrinking StepSize to 2.2950865259022677e-7\n",
        "\n",
        "24300"
       ]
      },
      {
       "output_type": "stream",
       "stream": "stdout",
       "text": [
        "\n",
        "LL = 87487.00615429574\n",
        "Param values 990.0409636035073,1.0105750986459486e7\n",
        "0.11798839458413926\n",
        "Local Acceptance Rate = 0.08\n",
        "Shrinking StepSize to 2.065577873312041e-7\n",
        "\n",
        "24400"
       ]
      },
      {
       "output_type": "stream",
       "stream": "stdout",
       "text": [
        "\n",
        "LL = 87487.07600806735\n",
        "Param values 985.278458109776,9.860005157447262e6\n",
        "0.11787368334767818\n",
        "Local Acceptance Rate = 0.09\n",
        "Shrinking StepSize to 1.859020085980837e-7\n",
        "\n",
        "24500"
       ]
      },
      {
       "output_type": "stream",
       "stream": "stdout",
       "text": [
        "\n",
        "LL = 87487.07600806735\n",
        "Param values 985.278458109776,9.860005157447262e6\n",
        "0.11739254663455652\n",
        "Local Acceptance Rate = 0.0\n",
        "Shrinking StepSize to 1.6731180773827534e-7\n",
        "\n",
        "24600"
       ]
      },
      {
       "output_type": "stream",
       "stream": "stdout",
       "text": [
        "\n",
        "LL = 87487.34070347469\n",
        "Param values 991.529924582921,9.813104173985502e6\n",
        "0.11752510264644904\n",
        "Local Acceptance Rate = 0.15\n",
        "24700"
       ]
      },
      {
       "output_type": "stream",
       "stream": "stdout",
       "text": [
        "\n",
        "LL = 87488.07802906373\n",
        "Param values 1002.5410238078673,9.838594486006e6\n",
        "0.11741366047208389\n",
        "Local Acceptance Rate = 0.09\n",
        "Shrinking StepSize to 1.5058062696444782e-7\n",
        "\n",
        "24800"
       ]
      },
      {
       "output_type": "stream",
       "stream": "stdout",
       "text": [
        "\n",
        "LL = 87488.07802906373\n",
        "Param values 1002.5410238078673,9.838594486006e6\n",
        "0.11710149602806565\n",
        "Local Acceptance Rate = 0.04\n",
        "Shrinking StepSize to 1.3552256426800305e-7\n",
        "\n",
        "24900"
       ]
      },
      {
       "output_type": "stream",
       "stream": "stdout",
       "text": [
        "\n",
        "LL = 87488.07802906373\n",
        "Param values 1002.5410238078673,9.838594486006e6\n",
        "0.11663119000763082\n",
        "Local Acceptance Rate = 0.0\n",
        "Shrinking StepSize to 1.2197030784120274e-7\n",
        "\n",
        "25000"
       ]
      },
      {
       "output_type": "stream",
       "stream": "stdout",
       "text": [
        "\n",
        "LL = 87488.07802906373\n",
        "Param values 1002.5410238078673,9.838594486006e6\n",
        "0.11624464978599144\n",
        "Local Acceptance Rate = 0.02\n",
        "Shrinking StepSize to 1.0977327705708248e-7\n",
        "\n",
        "25100"
       ]
      },
      {
       "output_type": "stream",
       "stream": "stdout",
       "text": [
        "\n",
        "LL = 87488.07750517273\n",
        "Param values 1016.0318152540834,9.986762327040907e6\n",
        "0.11610024303757122\n",
        "Local Acceptance Rate = 0.08\n",
        "Shrinking StepSize to 9.879594935137423e-8\n",
        "\n",
        "25200"
       ]
      },
      {
       "output_type": "stream",
       "stream": "stdout",
       "text": [
        "\n",
        "LL = 87488.07750517273\n",
        "Param values 1016.0318152540834,9.986762327040907e6\n",
        "0.11587761419103933\n",
        "Local Acceptance Rate = 0.06\n",
        "Shrinking StepSize to 8.891635441623681e-8\n",
        "\n",
        "25300"
       ]
      },
      {
       "output_type": "stream",
       "stream": "stdout",
       "text": [
        "\n",
        "LL = 87486.7074099939\n",
        "Param values 981.3120874613794,9.969079250230813e6\n",
        "0.1154591090556939\n",
        "Local Acceptance Rate = 0.01\n",
        "Shrinking StepSize to 8.002471897461313e-8\n",
        "\n",
        "25400"
       ]
      },
      {
       "output_type": "stream",
       "stream": "stdout",
       "text": [
        "\n",
        "LL = 87486.7074099939\n",
        "Param values 981.3120874613794,9.969079250230813e6\n",
        "0.11516201425252963\n",
        "Local Acceptance Rate = 0.04\n",
        "Shrinking StepSize to 7.202224707715181e-8\n",
        "\n",
        "25500"
       ]
      },
      {
       "output_type": "stream",
       "stream": "stdout",
       "text": [
        "\n",
        "LL = 87486.85552893905\n",
        "Param values 1022.5156946873791,1.008106953063803e7\n",
        "0.11510255304129574\n",
        "Local Acceptance Rate = 0.1\n",
        "25600"
       ]
      },
      {
       "output_type": "stream",
       "stream": "stdout",
       "text": [
        "\n",
        "LL = 87486.26477099527\n",
        "Param values 1022.1587897209137,1.0140935233739534e7\n",
        "0.1151998124926755\n",
        "Local Acceptance Rate = 0.14\n",
        "25700"
       ]
      },
      {
       "output_type": "stream",
       "stream": "stdout",
       "text": [
        "\n",
        "LL = 87487.84027726672\n",
        "Param values 997.590633330381,9.824393698702496e6\n",
        "0.11479045877271489\n",
        "Local Acceptance Rate = 0.01\n",
        "Shrinking StepSize to 6.482002236943663e-8\n",
        "\n",
        "25800"
       ]
      },
      {
       "output_type": "stream",
       "stream": "stdout",
       "text": [
        "\n",
        "LL = 87487.84027726672\n",
        "Param values 997.590633330381,9.824393698702496e6\n",
        "0.11442303965269972\n",
        "Local Acceptance Rate = 0.02\n",
        "Shrinking StepSize to 5.833802013249297e-8\n",
        "\n",
        "25900"
       ]
      },
      {
       "output_type": "stream",
       "stream": "stdout",
       "text": [
        "\n",
        "LL = 87487.84027726672\n",
        "Param values 997.590633330381,9.824393698702496e6\n",
        "0.11413568091432101\n",
        "Local Acceptance Rate = 0.04\n",
        "Shrinking StepSize to 5.250421811924367e-8\n",
        "\n",
        "26000"
       ]
      },
      {
       "output_type": "stream",
       "stream": "stdout",
       "text": [
        "\n",
        "LL = 87488.42340266259\n",
        "Param values 1006.20263082367,9.885951462005567e6\n",
        "0.11388899573060503\n",
        "Local Acceptance Rate = 0.05\n",
        "Shrinking StepSize to 4.7253796307319305e-8\n",
        "\n",
        "26100"
       ]
      },
      {
       "output_type": "stream",
       "stream": "stdout",
       "text": [
        "\n",
        "LL = 87488.42340266259\n",
        "Param values 1006.20263082367,9.885951462005567e6\n",
        "0.1134526227058508\n",
        "Local Acceptance Rate = 0.0\n",
        "Shrinking StepSize to 4.2528416676587375e-8\n",
        "\n",
        "26200"
       ]
      },
      {
       "output_type": "stream",
       "stream": "stdout",
       "text": [
        "\n",
        "LL = 87488.42340266259\n",
        "Param values 1006.20263082367,9.885951462005567e6\n",
        "0.11301958090003435\n",
        "Local Acceptance Rate = 0.0\n",
        "Shrinking StepSize to 3.827557500892864e-8\n",
        "\n",
        "26300"
       ]
      },
      {
       "output_type": "stream",
       "stream": "stdout",
       "text": [
        "\n",
        "LL = 87488.42340266259\n",
        "Param values 1006.20263082367,9.885951462005567e6\n",
        "0.1125898323130157\n",
        "Local Acceptance Rate = 0.0\n",
        "Shrinking StepSize to 3.444801750803578e-8\n",
        "\n",
        "26400"
       ]
      },
      {
       "output_type": "stream",
       "stream": "stdout",
       "text": [
        "\n",
        "LL = 87488.42340266259\n",
        "Param values 1006.20263082367,9.885951462005567e6\n",
        "0.11216333952043638\n",
        "Local Acceptance Rate = 0.0\n",
        "Shrinking StepSize to 3.1003215757232204e-8\n",
        "\n",
        "26500"
       ]
      },
      {
       "output_type": "stream",
       "stream": "stdout",
       "text": [
        "\n",
        "LL = 87488.42340266259\n",
        "Param values 1006.20263082367,9.885951462005567e6\n",
        "0.1117400656628552\n",
        "Local Acceptance Rate = 0.0\n",
        "Shrinking StepSize to 2.7902894181508984e-8\n",
        "\n",
        "26600"
       ]
      },
      {
       "output_type": "stream",
       "stream": "stdout",
       "text": [
        "\n",
        "LL = 87488.42340266259\n",
        "Param values 1006.20263082367,9.885951462005567e6\n",
        "0.11131997443512914\n",
        "Local Acceptance Rate = 0.0\n",
        "Shrinking StepSize to 2.5112604763358087e-8\n",
        "\n",
        "26700"
       ]
      },
      {
       "output_type": "stream",
       "stream": "stdout",
       "text": [
        "\n",
        "LL = 87488.42340266259\n",
        "Param values 1006.20263082367,9.885951462005567e6\n",
        "0.11097793924866099\n",
        "Local Acceptance Rate = 0.02\n",
        "Shrinking StepSize to 2.2601344287022278e-8\n",
        "\n",
        "26800"
       ]
      },
      {
       "output_type": "stream",
       "stream": "stdout",
       "text": [
        "\n",
        "LL = 87488.42340266259\n",
        "Param values 1006.20263082367,9.885951462005567e6\n",
        "0.11063845665883056\n",
        "Local Acceptance Rate = 0.02\n",
        "Shrinking StepSize to 2.0341209858320052e-8\n",
        "\n",
        "26900"
       ]
      },
      {
       "output_type": "stream",
       "stream": "stdout",
       "text": [
        "\n",
        "LL = 87488.42340266259\n",
        "Param values 1006.20263082367,9.885951462005567e6\n",
        "0.11037585040336072\n",
        "Local Acceptance Rate = 0.04\n",
        "Shrinking StepSize to 1.830708887248805e-8\n",
        "\n",
        "27000"
       ]
      },
      {
       "output_type": "stream",
       "stream": "stdout",
       "text": [
        "\n",
        "LL = 87488.42340266259\n",
        "Param values 1006.20263082367,9.885951462005567e6\n",
        "0.11004111263380126\n",
        "Local Acceptance Rate = 0.02\n",
        "Shrinking StepSize to 1.6476379985239243e-8\n",
        "\n",
        "27100"
       ]
      },
      {
       "output_type": "stream",
       "stream": "stdout",
       "text": [
        "\n",
        "LL = 87488.56944223578\n",
        "Param values 1007.2584209105806,1.001219901781723e7\n",
        "0.10996715745968486\n",
        "Local Acceptance Rate = 0.09\n",
        "Shrinking StepSize to 1.482874198671532e-8\n",
        "\n",
        "27200"
       ]
      },
      {
       "output_type": "stream",
       "stream": "stdout",
       "text": [
        "\n",
        "LL = 87488.56944223578\n",
        "Param values 1007.2584209105806,1.001219901781723e7\n",
        "0.10978344792087945\n",
        "Local Acceptance Rate = 0.06\n",
        "Shrinking StepSize to 1.3345867788043788e-8\n",
        "\n",
        "27300"
       ]
      },
      {
       "output_type": "stream",
       "stream": "stdout",
       "text": [
        "\n",
        "LL = 87488.68267673133\n",
        "Param values 1000.6561733138897,9.969141687257752e6\n",
        "0.10963771566724057\n",
        "Local Acceptance Rate = 0.07\n",
        "Shrinking StepSize to 1.2011281009239408e-8\n",
        "\n",
        "27400"
       ]
      },
      {
       "output_type": "stream",
       "stream": "stdout",
       "text": [
        "\n",
        "LL = 87488.45585786339\n",
        "Param values 1010.8676929821459,9.938868196264425e6\n",
        "0.10963903792109202\n",
        "Local Acceptance Rate = 0.11\n",
        "27500"
       ]
      },
      {
       "output_type": "stream",
       "stream": "stdout",
       "text": [
        "\n",
        "LL = 87488.45585786339\n",
        "Param values 1010.8676929821459,9.938868196264425e6\n",
        "0.10956762064075057\n",
        "Local Acceptance Rate = 0.09\n",
        "Shrinking StepSize to 1.0810152908315468e-8\n",
        "\n",
        "27600"
       ]
      },
      {
       "output_type": "stream",
       "stream": "stdout",
       "text": [
        "\n",
        "LL = 87488.12495671268\n",
        "Param values 991.907866817832,9.990010184211431e6\n",
        "0.10956918728939455\n",
        "Local Acceptance Rate = 0.11\n",
        "27700"
       ]
      },
      {
       "output_type": "stream",
       "stream": "stdout",
       "text": [
        "\n",
        "LL = 87488.12495671268\n",
        "Param values 991.907866817832,9.990010184211431e6\n",
        "0.1093180259215134\n",
        "Local Acceptance Rate = 0.04\n",
        "Shrinking StepSize to 9.729137617483921e-9\n",
        "\n",
        "27800"
       ]
      },
      {
       "output_type": "stream",
       "stream": "stdout",
       "text": [
        "\n",
        "LL = 87488.12495671268\n",
        "Param values 991.907866817832,9.990010184211431e6\n",
        "0.1090686715349473\n",
        "Local Acceptance Rate = 0.04\n",
        "Shrinking StepSize to 8.75622385573553e-9\n",
        "\n",
        "27900"
       ]
      },
      {
       "output_type": "stream",
       "stream": "stdout",
       "text": [
        "\n",
        "LL = 87488.57364437822\n",
        "Param values 1006.4654845652426,9.915139167596884e6\n",
        "0.10885694827771605\n",
        "Local Acceptance Rate = 0.05\n",
        "Shrinking StepSize to 7.880601470161977e-9\n",
        "\n",
        "28000"
       ]
      },
      {
       "output_type": "stream",
       "stream": "stdout",
       "text": [
        "\n",
        "LL = 87488.57364437822\n",
        "Param values 1006.4654845652426,9.915139167596884e6\n",
        "0.10896817743490839\n",
        "Local Acceptance Rate = 0.14\n",
        "28100"
       ]
      },
      {
       "output_type": "stream",
       "stream": "stdout",
       "text": [
        "\n",
        "LL = 87488.57364437822\n",
        "Param values 1006.4654845652426,9.915139167596884e6\n",
        "0.10858037652585502\n",
        "Local Acceptance Rate = 0.0\n",
        "Shrinking StepSize to 7.0925413231457795e-9\n",
        "\n",
        "28200"
       ]
      },
      {
       "output_type": "stream",
       "stream": "stdout",
       "text": [
        "\n",
        "LL = 87488.57364437822\n",
        "Param values 1006.4654845652426,9.915139167596884e6\n",
        "0.10826625057626157\n",
        "Local Acceptance Rate = 0.02\n",
        "Shrinking StepSize to 6.3832871908312014e-9\n",
        "\n",
        "28300"
       ]
      },
      {
       "output_type": "stream",
       "stream": "stdout",
       "text": [
        "\n",
        "LL = 87487.67854862844\n",
        "Param values 1010.4925427712786,1.0112025866591673e7\n",
        "0.10837838792890209\n",
        "Local Acceptance Rate = 0.14\n",
        "28400"
       ]
      },
      {
       "output_type": "stream",
       "stream": "stdout",
       "text": [
        "\n",
        "LL = 87487.17502345594\n",
        "Param values 994.2280199588721,9.785092355496285e6\n",
        "0.10810239797175956\n",
        "Local Acceptance Rate = 0.03\n",
        "Shrinking StepSize to 5.744958471748082e-9\n",
        "\n",
        "28500"
       ]
      },
      {
       "output_type": "stream",
       "stream": "stdout",
       "text": [
        "\n",
        "LL = 87488.20574541857\n",
        "Param values 1007.432722616807,1.0070420427954152e7\n",
        "0.10828450121056879\n",
        "Local Acceptance Rate = 0.16\n",
        "28600"
       ]
      },
      {
       "output_type": "stream",
       "stream": "stdout",
       "text": [
        "\n",
        "LL = 87488.5723972337\n",
        "Param values 1008.7288322997473,9.940223602413345e6\n",
        "0.10822056715269765\n",
        "Local Acceptance Rate = 0.09\n",
        "Shrinking StepSize to 5.170462624573273e-9\n",
        "\n",
        "28700"
       ]
      },
      {
       "output_type": "stream",
       "stream": "stdout",
       "text": [
        "\n",
        "LL = 87487.98667101581\n",
        "Param values 1009.6386698491483,9.850948035097802e6\n",
        "0.10805254538485662\n",
        "Local Acceptance Rate = 0.06\n",
        "Shrinking StepSize to 4.653416362115946e-9\n",
        "\n",
        "28800"
       ]
      },
      {
       "output_type": "stream",
       "stream": "stdout",
       "text": [
        "\n",
        "LL = 87487.98667101581\n",
        "Param values 1009.6386698491483,9.850948035097802e6\n",
        "0.10774679676377652\n",
        "Local Acceptance Rate = 0.02\n",
        "Shrinking StepSize to 4.188074725904352e-9\n",
        "\n",
        "28900"
       ]
      },
      {
       "output_type": "stream",
       "stream": "stdout",
       "text": [
        "\n",
        "LL = 87487.98667101581\n",
        "Param values 1009.6386698491483,9.850948035097802e6\n",
        "0.10737395757638672\n",
        "Local Acceptance Rate = 0.0\n",
        "Shrinking StepSize to 3.769267253313917e-9\n",
        "\n",
        "29000"
       ]
      },
      {
       "output_type": "stream",
       "stream": "stdout",
       "text": [
        "\n",
        "LL = 87487.98667101581\n",
        "Param values 1009.6386698491483,9.850948035097802e6\n",
        "0.10700368978240629\n",
        "Local Acceptance Rate = 0.0\n",
        "Shrinking StepSize to 3.392340527982525e-9\n",
        "\n",
        "29100"
       ]
      },
      {
       "output_type": "stream",
       "stream": "stdout",
       "text": [
        "\n",
        "LL = 87487.98667101581\n",
        "Param values 1009.6386698491483,9.850948035097802e6\n",
        "0.10677342864015946\n",
        "Local Acceptance Rate = 0.04\n",
        "Shrinking StepSize to 3.053106475184273e-9\n",
        "\n",
        "29200"
       ]
      },
      {
       "output_type": "stream",
       "stream": "stdout",
       "text": [
        "\n",
        "LL = 87487.98667101581\n",
        "Param values 1009.6386698491483,9.850948035097802e6\n",
        "0.1065447446830371\n",
        "Local Acceptance Rate = 0.04\n",
        "Shrinking StepSize to 2.7477958276658454e-9\n",
        "\n",
        "29300"
       ]
      },
      {
       "output_type": "stream",
       "stream": "stdout",
       "text": [
        "\n",
        "LL = 87487.98667101581\n",
        "Param values 1009.6386698491483,9.850948035097802e6\n",
        "0.10618109833100106\n",
        "Local Acceptance Rate = 0.0\n",
        "Shrinking StepSize to 2.473016244899261e-9\n",
        "\n",
        "29400"
       ]
      },
      {
       "output_type": "stream",
       "stream": "stdout",
       "text": [
        "\n",
        "LL = 87488.4779425709\n",
        "Param values 1006.9069586541516,9.898385319567982e6\n",
        "0.10609204394707303\n",
        "Local Acceptance Rate = 0.08\n",
        "Shrinking StepSize to 2.225714620409335e-9\n",
        "\n",
        "29500"
       ]
      },
      {
       "output_type": "stream",
       "stream": "stdout",
       "text": [
        "\n",
        "LL = 87488.4779425709\n",
        "Param values 1006.9069586541516,9.898385319567982e6\n",
        "0.10573239770839689\n",
        "Local Acceptance Rate = 0.0\n",
        "Shrinking StepSize to 2.0031431583684013e-9\n",
        "\n",
        "29600"
       ]
      },
      {
       "output_type": "stream",
       "stream": "stdout",
       "text": [
        "\n",
        "LL = 87488.4779425709\n",
        "Param values 1006.9069586541516,9.898385319567982e6\n",
        "0.10537518159397277\n",
        "Local Acceptance Rate = 0.0\n",
        "Shrinking StepSize to 1.8028288425315613e-9\n",
        "\n",
        "29700"
       ]
      },
      {
       "output_type": "stream",
       "stream": "stdout",
       "text": [
        "\n",
        "LL = 87488.4779425709\n",
        "Param values 1006.9069586541516,9.898385319567982e6\n",
        "0.10508771339102327\n",
        "Local Acceptance Rate = 0.02\n",
        "Shrinking StepSize to 1.6225459582784053e-9\n",
        "\n",
        "29800"
       ]
      },
      {
       "output_type": "stream",
       "stream": "stdout",
       "text": [
        "\n",
        "LL = 87488.4779425709\n",
        "Param values 1006.9069586541516,9.898385319567982e6\n",
        "0.10493640726198866\n",
        "Local Acceptance Rate = 0.06\n",
        "Shrinking StepSize to 1.4602913624505647e-9\n",
        "\n",
        "29900"
       ]
      },
      {
       "output_type": "stream",
       "stream": "stdout",
       "text": [
        "\n",
        "LL = 87488.4779425709\n",
        "Param values 1006.9069586541516,9.898385319567982e6\n",
        "0.10465232950934814\n",
        "Local Acceptance Rate = 0.02\n",
        "Shrinking StepSize to 1.3142622262055083e-9\n",
        "\n",
        "30000"
       ]
      },
      {
       "output_type": "stream",
       "stream": "stdout",
       "text": [
        "\n",
        "LL = 87488.4779425709\n",
        "Param values 1006.9069586541516,9.898385319567982e6\n",
        "0.10457015233841128\n",
        "Local Acceptance Rate = 0.08\n",
        "Shrinking StepSize to 1.1828360035849575e-9\n",
        "\n",
        "30100"
       ]
      },
      {
       "output_type": "stream",
       "stream": "stdout",
       "text": [
        "\n",
        "LL = 87488.4779425709\n",
        "Param values 1006.9069586541516,9.898385319567982e6\n",
        "0.10435562643277185\n",
        "Local Acceptance Rate = 0.04\n",
        "Shrinking StepSize to 1.0645524032264618e-9\n",
        "\n",
        "30200"
       ]
      },
      {
       "output_type": "stream",
       "stream": "stdout",
       "text": [
        "\n",
        "LL = 87487.1229443199\n",
        "Param values 983.5739761430318,9.941116025283214e6\n",
        "0.10404318023775622\n",
        "Local Acceptance Rate = 0.01\n",
        "Shrinking StepSize to 9.580971629038157e-10\n",
        "\n",
        "30300"
       ]
      },
      {
       "output_type": "stream",
       "stream": "stdout",
       "text": [
        "\n",
        "LL = 87487.1229443199\n",
        "Param values 983.5739761430318,9.941116025283214e6\n",
        "0.10422786230568666\n",
        "Local Acceptance Rate = 0.16\n",
        "30400"
       ]
      },
      {
       "output_type": "stream",
       "stream": "stdout",
       "text": [
        "\n",
        "LL = 87487.83164768422\n",
        "Param values 1003.2334435951542,1.0109307497583942e7\n",
        "0.10431264186321919\n",
        "Local Acceptance Rate = 0.13\n",
        "30500"
       ]
      },
      {
       "output_type": "stream",
       "stream": "stdout",
       "text": [
        "\n",
        "LL = 87487.83164768422\n",
        "Param values 1003.2334435951542,1.0109307497583942e7\n",
        "0.10397062198760615\n",
        "Local Acceptance Rate = 0.0\n",
        "Shrinking StepSize to 8.622874466134341e-10\n",
        "\n",
        "30600"
       ]
      },
      {
       "output_type": "stream",
       "stream": "stdout",
       "text": [
        "\n",
        "LL = 87488.07140242483\n",
        "Param values 1011.3656215999767,1.0067614033997612e7\n",
        "0.10399032648125756\n",
        "Local Acceptance Rate = 0.11\n",
        "30700"
       ]
      },
      {
       "output_type": "stream",
       "stream": "stdout",
       "text": [
        "\n",
        "LL = 87488.07140242483\n",
        "Param values 1011.3656215999767,1.0067614033997612e7\n",
        "0.10384703084791036\n",
        "Local Acceptance Rate = 0.06\n",
        "Shrinking StepSize to 7.760587019520907e-10\n",
        "\n",
        "30800"
       ]
      },
      {
       "output_type": "stream",
       "stream": "stdout",
       "text": [
        "\n",
        "LL = 87485.4556652954\n",
        "Param values 1005.2820152276744,1.0246900932754582e7\n",
        "0.10415922594889444\n",
        "Local Acceptance Rate = 0.2\n",
        "30900"
       ]
      },
      {
       "output_type": "stream",
       "stream": "stdout",
       "text": [
        "\n",
        "LL = 87486.31958392895\n",
        "Param values 1025.6033344577231,9.87813535640877e6\n",
        "0.10437230978348813\n",
        "Local Acceptance Rate = 0.17\n",
        "31000"
       ]
      },
      {
       "output_type": "stream",
       "stream": "stdout",
       "text": [
        "\n",
        "LL = 87488.63298848028\n",
        "Param values 999.429347037601,9.981017575340576e6\n",
        "0.10426142778799316\n",
        "Local Acceptance Rate = 0.07\n",
        "Shrinking StepSize to 6.984528317568817e-10\n",
        "\n",
        "31100"
       ]
      },
      {
       "output_type": "stream",
       "stream": "stdout",
       "text": [
        "\n",
        "LL = 87488.63298848028\n",
        "Param values 999.429347037601,9.981017575340576e6\n",
        "0.10392617125952602\n",
        "Local Acceptance Rate = 0.0\n",
        "Shrinking StepSize to 6.286075485811936e-10\n",
        "\n",
        "31200"
       ]
      },
      {
       "output_type": "stream",
       "stream": "stdout",
       "text": [
        "\n",
        "LL = 87487.35069929781\n",
        "Param values 1015.3265653729119,9.834888727891259e6\n",
        "0.1041379531395237\n",
        "Local Acceptance Rate = 0.17\n",
        "31300"
       ]
      },
      {
       "output_type": "stream",
       "stream": "stdout",
       "text": [
        "\n",
        "LL = 87487.93973053838\n",
        "Param values 1003.57093436649,9.826562984106138e6\n",
        "0.10422058212722451\n",
        "Local Acceptance Rate = 0.13\n",
        "31400"
       ]
      },
      {
       "output_type": "stream",
       "stream": "stdout",
       "text": [
        "\n",
        "LL = 87487.93973053838\n",
        "Param values 1003.57093436649,9.826562984106138e6\n",
        "0.10388865887448645\n",
        "Local Acceptance Rate = 0.0\n",
        "Shrinking StepSize to 5.657467937230742e-10\n",
        "\n",
        "31500"
       ]
      },
      {
       "output_type": "stream",
       "stream": "stdout",
       "text": [
        "\n",
        "LL = 87487.93973053838\n",
        "Param values 1003.57093436649,9.826562984106138e6\n",
        "0.1039398076129401\n",
        "Local Acceptance Rate = 0.12\n",
        "31600"
       ]
      },
      {
       "output_type": "stream",
       "stream": "stdout",
       "text": [
        "\n",
        "LL = 87487.41742925528\n",
        "Param values 990.9457415647862,9.824592254882792e6\n",
        "0.10383239975948606\n",
        "Local Acceptance Rate = 0.07\n",
        "Shrinking StepSize to 5.091721143507667e-10\n",
        "\n",
        "31700"
       ]
      },
      {
       "output_type": "stream",
       "stream": "stdout",
       "text": [
        "\n",
        "LL = 87487.70101327142\n",
        "Param values 999.7849272779288,1.011253211410539e7\n",
        "0.10366257610650179\n",
        "Local Acceptance Rate = 0.05\n",
        "Shrinking StepSize to 4.5825490291569007e-10\n",
        "\n",
        "31800"
       ]
      },
      {
       "output_type": "stream",
       "stream": "stdout",
       "text": [
        "\n",
        "LL = 87487.70101327142\n",
        "Param values 999.7849272779288,1.011253211410539e7\n",
        "0.10339947797100538\n",
        "Local Acceptance Rate = 0.02\n",
        "Shrinking StepSize to 4.1242941262412105e-10\n",
        "\n",
        "31900"
       ]
      },
      {
       "output_type": "stream",
       "stream": "stdout",
       "text": [
        "\n",
        "LL = 87487.70101327142\n",
        "Param values 999.7849272779288,1.011253211410539e7\n",
        "0.1032634251857425\n",
        "Local Acceptance Rate = 0.06\n",
        "Shrinking StepSize to 3.7118647136170894e-10\n",
        "\n",
        "32000"
       ]
      },
      {
       "output_type": "stream",
       "stream": "stdout",
       "text": [
        "\n",
        "LL = 87487.70101327142\n",
        "Param values 999.7849272779288,1.011253211410539e7\n",
        "0.10294071689740304\n",
        "Local Acceptance Rate = 0.0\n",
        "Shrinking StepSize to 3.3406782422553803e-10\n",
        "\n",
        "32100"
       ]
      },
      {
       "output_type": "stream",
       "stream": "stdout",
       "text": [
        "\n",
        "LL = 87487.70101327142\n",
        "Param values 999.7849272779288,1.011253211410539e7\n",
        "0.10262001931524346\n",
        "Local Acceptance Rate = 0.0\n",
        "Shrinking StepSize to 3.0066104180298423e-10\n",
        "\n",
        "32200"
       ]
      },
      {
       "output_type": "stream",
       "stream": "stdout",
       "text": [
        "\n",
        "LL = 87487.70101327142\n",
        "Param values 999.7849272779288,1.011253211410539e7\n",
        "0.10261188235659492\n",
        "Local Acceptance Rate = 0.1\n",
        "32300"
       ]
      },
      {
       "output_type": "stream",
       "stream": "stdout",
       "text": [
        "\n",
        "LL = 87487.70101327142\n",
        "Param values 999.7849272779288,1.011253211410539e7\n",
        "0.10235611009628781\n",
        "Local Acceptance Rate = 0.02\n",
        "Shrinking StepSize to 2.7059493762268584e-10\n",
        "\n",
        "32400"
       ]
      },
      {
       "output_type": "stream",
       "stream": "stdout",
       "text": [
        "\n",
        "LL = 87487.70101327142\n",
        "Param values 999.7849272779288,1.011253211410539e7\n",
        "0.1022253773264607\n",
        "Local Acceptance Rate = 0.06\n",
        "Shrinking StepSize to 2.4353544386041725e-10\n",
        "\n",
        "32500"
       ]
      },
      {
       "output_type": "stream",
       "stream": "stdout",
       "text": [
        "\n",
        "LL = 87487.70101327142\n",
        "Param values 999.7849272779288,1.011253211410539e7\n",
        "0.1020339087356534\n",
        "Local Acceptance Rate = 0.04\n",
        "Shrinking StepSize to 2.1918189947437552e-10\n",
        "\n",
        "32600"
       ]
      },
      {
       "output_type": "stream",
       "stream": "stdout",
       "text": [
        "\n",
        "LL = 87487.26845101865\n",
        "Param values 985.8995570184303,9.876133584701607e6\n",
        "0.1021196969232185\n",
        "Local Acceptance Rate = 0.13\n",
        "32700"
       ]
      },
      {
       "output_type": "stream",
       "stream": "stdout",
       "text": [
        "\n",
        "LL = 87486.98907396205\n",
        "Param values 1024.138721060954,9.953614783802303e6\n",
        "0.10241903422123001\n",
        "Local Acceptance Rate = 0.2\n",
        "32800"
       ]
      },
      {
       "output_type": "stream",
       "stream": "stdout",
       "text": [
        "\n",
        "LL = 87486.99898981035\n",
        "Param values 1004.9920148857217,9.76247741905474e6\n",
        "0.1025031250952773\n",
        "Local Acceptance Rate = 0.13\n",
        "32900"
       ]
      },
      {
       "output_type": "stream",
       "stream": "stdout",
       "text": [
        "\n",
        "LL = 87488.52879388363\n",
        "Param values 997.1675576787062,9.9295434382598e6\n",
        "0.1023435362776984\n",
        "Local Acceptance Rate = 0.05\n",
        "Shrinking StepSize to 1.9726370952693798e-10\n",
        "\n",
        "33000"
       ]
      },
      {
       "output_type": "stream",
       "stream": "stdout",
       "text": [
        "\n",
        "LL = 87487.33787268544\n",
        "Param values 1011.6424961922555,1.0134684690597178e7\n",
        "0.10218491469438468\n",
        "Local Acceptance Rate = 0.05\n",
        "Shrinking StepSize to 1.7753733857424418e-10\n",
        "\n",
        "33100"
       ]
      },
      {
       "output_type": "stream",
       "stream": "stdout",
       "text": [
        "\n",
        "LL = 87487.33787268544\n",
        "Param values 1011.6424961922555,1.0134684690597178e7\n",
        "0.1020574639717212\n",
        "Local Acceptance Rate = 0.06\n",
        "Shrinking StepSize to 1.5978360471681975e-10\n",
        "\n",
        "33200"
       ]
      },
      {
       "output_type": "stream",
       "stream": "stdout",
       "text": [
        "\n",
        "LL = 87488.41311219319\n",
        "Param values 1011.8610007797766,9.99165416715289e6\n",
        "0.10196090243682039\n",
        "Local Acceptance Rate = 0.07\n",
        "Shrinking StepSize to 1.4380524424513778e-10\n",
        "\n",
        "33300"
       ]
      },
      {
       "output_type": "stream",
       "stream": "stdout",
       "text": [
        "\n",
        "LL = 87488.41311219319\n",
        "Param values 1011.8610007797766,9.99165416715289e6\n",
        "0.101955013664074\n",
        "Local Acceptance Rate = 0.1\n",
        "33400"
       ]
      },
      {
       "output_type": "stream",
       "stream": "stdout",
       "text": [
        "\n",
        "LL = 87488.41311219319\n",
        "Param values 1011.8610007797766,9.99165416715289e6\n",
        "0.10164974999251475\n",
        "Local Acceptance Rate = 0.0\n",
        "Shrinking StepSize to 1.29424719820624e-10\n",
        "\n",
        "33500"
       ]
      },
      {
       "output_type": "stream",
       "stream": "stdout",
       "text": [
        "\n",
        "LL = 87488.41311219319\n",
        "Param values 1011.8610007797766,9.99165416715289e6\n",
        "0.10134630884504015\n",
        "Local Acceptance Rate = 0.0\n",
        "Shrinking StepSize to 1.1648224783856162e-10\n",
        "\n",
        "33600"
       ]
      },
      {
       "output_type": "stream",
       "stream": "stdout",
       "text": [
        "\n",
        "LL = 87488.3405655533\n",
        "Param values 1010.3355233898442,1.0035851104828699e7\n",
        "0.10131253906366261\n",
        "Local Acceptance Rate = 0.09\n",
        "Shrinking StepSize to 1.0483402305470545e-10\n",
        "\n",
        "33700"
       ]
      },
      {
       "output_type": "stream",
       "stream": "stdout",
       "text": [
        "\n",
        "LL = 87487.97110598706\n",
        "Param values 990.1563649453965,9.980747495133704e6\n",
        "0.10127896970236505\n",
        "Local Acceptance Rate = 0.09\n",
        "Shrinking StepSize to 9.43506207492349e-11\n",
        "\n",
        "33800"
       ]
      },
      {
       "output_type": "stream",
       "stream": "stdout",
       "text": [
        "\n",
        "LL = 87487.97110598706\n",
        "Param values 990.1563649453965,9.980747495133704e6\n",
        "0.10109766561140862\n",
        "Local Acceptance Rate = 0.04\n",
        "Shrinking StepSize to 8.491555867431142e-11\n",
        "\n",
        "33900"
       ]
      },
      {
       "output_type": "stream",
       "stream": "stdout",
       "text": [
        "\n",
        "LL = 87485.06901834998\n",
        "Param values 1019.740363220465,9.729127395397136e6\n",
        "0.10088793179739815\n",
        "Local Acceptance Rate = 0.03\n",
        "Shrinking StepSize to 7.642400280688027e-11\n",
        "\n",
        "34000"
       ]
      },
      {
       "output_type": "stream",
       "stream": "stdout",
       "text": [
        "\n",
        "LL = 87487.40917124992\n",
        "Param values 1014.6886191914778,1.0112769583754255e7\n",
        "0.10097355804582488\n",
        "Local Acceptance Rate = 0.13\n",
        "34100"
       ]
      },
      {
       "output_type": "stream",
       "stream": "stdout",
       "text": [
        "\n",
        "LL = 87487.40917124992\n",
        "Param values 1014.6886191914778,1.0112769583754255e7\n",
        "0.10079474471392123\n",
        "Local Acceptance Rate = 0.04\n",
        "Shrinking StepSize to 6.878160252619225e-11\n",
        "\n",
        "34200"
       ]
      },
      {
       "output_type": "stream",
       "stream": "stdout",
       "text": [
        "\n",
        "LL = 87488.22997077371\n",
        "Param values 996.7105059916702,9.870907933714632e6\n",
        "0.10088014269423083\n",
        "Local Acceptance Rate = 0.13\n",
        "34300"
       ]
      },
      {
       "output_type": "stream",
       "stream": "stdout",
       "text": [
        "\n",
        "LL = 87487.99299356749\n",
        "Param values 994.5851152241929,1.0054475737704208e7\n",
        "0.10084842123677075\n",
        "Local Acceptance Rate = 0.09\n",
        "Shrinking StepSize to 6.190344227357303e-11\n",
        "\n",
        "34400"
       ]
      },
      {
       "output_type": "stream",
       "stream": "stdout",
       "text": [
        "\n",
        "LL = 87488.67496349012\n",
        "Param values 1002.5229919823826,9.992240621172104e6\n",
        "0.1005843193116079\n",
        "Local Acceptance Rate = 0.01\n",
        "Shrinking StepSize to 5.5713098046215724e-11\n",
        "\n",
        "34500"
       ]
      },
      {
       "output_type": "stream",
       "stream": "stdout",
       "text": [
        "\n",
        "LL = 87488.67496349012\n",
        "Param values 1002.5229919823826,9.992240621172104e6\n",
        "0.10029276210904664\n",
        "Local Acceptance Rate = 0.0\n",
        "Shrinking StepSize to 5.014178824159415e-11\n",
        "\n",
        "34600"
       ]
      },
      {
       "output_type": "stream",
       "stream": "stdout",
       "text": [
        "\n",
        "LL = 87488.67496349012\n",
        "Param values 1002.5229919823826,9.992240621172104e6\n",
        "0.10006069539582069\n",
        "Local Acceptance Rate = 0.02\n",
        "Shrinking StepSize to 4.512760941743474e-11\n",
        "\n",
        "34700"
       ]
      },
      {
       "output_type": "stream",
       "stream": "stdout",
       "text": [
        "\n",
        "LL = 87487.03469700563\n",
        "Param values 983.0363732020944,9.94032492906047e6\n",
        "0.09991642410444106\n",
        "Local Acceptance Rate = 0.05\n",
        "Shrinking StepSize to 4.061484847569126e-11\n",
        "\n",
        "34800"
       ]
      },
      {
       "output_type": "stream",
       "stream": "stdout",
       "text": [
        "\n",
        "LL = 87487.03469700563\n",
        "Param values 983.0363732020944,9.94032492906047e6\n",
        "0.09980171844018507\n",
        "Local Acceptance Rate = 0.06\n",
        "Shrinking StepSize to 3.655336362812214e-11\n",
        "\n",
        "34900"
       ]
      },
      {
       "output_type": "stream",
       "stream": "stdout",
       "text": [
        "\n",
        "LL = 87488.23333827876\n",
        "Param values 1009.1050991306305,1.006050911766138e7\n",
        "0.09988824894696123\n",
        "Local Acceptance Rate = 0.13\n",
        "35000"
       ]
      },
      {
       "output_type": "stream",
       "stream": "stdout",
       "text": [
        "\n",
        "LL = 87486.89296793815\n",
        "Param values 982.4563653230913,9.976486620196119e6\n",
        "0.09985999599988571\n",
        "Local Acceptance Rate = 0.09\n",
        "Shrinking StepSize to 3.2898027265309925e-11\n",
        "\n",
        "35100"
       ]
      },
      {
       "output_type": "stream",
       "stream": "stdout",
       "text": [
        "\n",
        "LL = 87487.22486653217\n",
        "Param values 987.6561349463602,9.840243805048136e6\n",
        "0.09977492236246047\n",
        "Local Acceptance Rate = 0.07\n",
        "Shrinking StepSize to 2.960822453877893e-11\n",
        "\n",
        "35200"
       ]
      },
      {
       "output_type": "stream",
       "stream": "stdout",
       "text": [
        "\n",
        "LL = 87487.22486653217\n",
        "Param values 987.6561349463602,9.840243805048136e6\n",
        "0.09949146282564846\n",
        "Local Acceptance Rate = 0.0\n",
        "Shrinking StepSize to 2.664740208490104e-11\n",
        "\n",
        "35300"
       ]
      },
      {
       "output_type": "stream",
       "stream": "stdout",
       "text": [
        "\n",
        "LL = 87487.22486653217\n",
        "Param values 987.6561349463602,9.840243805048136e6\n",
        "0.09932292699509901\n",
        "Local Acceptance Rate = 0.04\n",
        "Shrinking StepSize to 2.3982661876410934e-11\n",
        "\n",
        "35400"
       ]
      },
      {
       "output_type": "stream",
       "stream": "stdout",
       "text": [
        "\n",
        "LL = 87487.22486653217\n",
        "Param values 987.6561349463602,9.840243805048136e6\n",
        "0.09915534337128168\n",
        "Local Acceptance Rate = 0.04\n",
        "Shrinking StepSize to 2.1584395688769843e-11\n",
        "\n",
        "35500"
       ]
      },
      {
       "output_type": "stream",
       "stream": "stdout",
       "text": [
        "\n",
        "LL = 87487.22486653217\n",
        "Param values 987.6561349463602,9.840243805048136e6\n",
        "0.0991577227527536\n",
        "Local Acceptance Rate = 0.1\n",
        "35600"
       ]
      },
      {
       "output_type": "stream",
       "stream": "stdout",
       "text": [
        "\n",
        "LL = 87487.22486653217\n",
        "Param values 987.6561349463602,9.840243805048136e6\n",
        "0.09916008876653838\n",
        "Local Acceptance Rate = 0.1\n",
        "35700"
       ]
      },
      {
       "output_type": "stream",
       "stream": "stdout",
       "text": [
        "\n",
        "LL = 87488.05183619648\n",
        "Param values 998.7088586247199,1.0076726746128034e7\n",
        "0.09907840555757864\n",
        "Local Acceptance Rate = 0.07\n",
        "Shrinking StepSize to 1.942595611989286e-11\n",
        "\n",
        "35800"
       ]
      },
      {
       "output_type": "stream",
       "stream": "stdout",
       "text": [
        "\n",
        "LL = 87488.63220101394\n",
        "Param values 1003.7681584865716,9.91817999752738e6\n",
        "0.0990809799156401\n",
        "Local Acceptance Rate = 0.1\n",
        "35900"
       ]
      },
      {
       "output_type": "stream",
       "stream": "stdout",
       "text": [
        "\n",
        "LL = 87488.63220101394\n",
        "Param values 1003.7681584865716,9.91817999752738e6\n",
        "0.09886069249839828\n",
        "Local Acceptance Rate = 0.02\n",
        "Shrinking StepSize to 1.7483360507903574e-11\n",
        "\n",
        "36000"
       ]
      },
      {
       "output_type": "stream",
       "stream": "stdout",
       "text": [
        "\n",
        "LL = 87488.63220101394\n",
        "Param values 1003.7681584865716,9.91817999752738e6\n",
        "0.09864162893413705\n",
        "Local Acceptance Rate = 0.02\n",
        "Shrinking StepSize to 1.5735024457113218e-11\n",
        "\n",
        "36100"
       ]
      },
      {
       "output_type": "stream",
       "stream": "stdout",
       "text": [
        "\n",
        "LL = 87488.63220101394\n",
        "Param values 1003.7681584865716,9.91817999752738e6\n",
        "0.0985345854455802\n",
        "Local Acceptance Rate = 0.06\n",
        "Shrinking StepSize to 1.4161522011401895e-11\n",
        "\n",
        "36200"
       ]
      },
      {
       "output_type": "stream",
       "stream": "stdout",
       "text": [
        "\n",
        "LL = 87488.63220101394\n",
        "Param values 1003.7681584865716,9.91817999752738e6\n",
        "0.09837288322881847\n",
        "Local Acceptance Rate = 0.04\n",
        "Shrinking StepSize to 1.2745369810261706e-11\n",
        "\n",
        "36300"
       ]
      },
      {
       "output_type": "stream",
       "stream": "stdout",
       "text": [
        "\n",
        "LL = 87486.78444923427\n",
        "Param values 990.8617219423747,1.0129130143275259e7\n",
        "0.09818452298961404\n",
        "Local Acceptance Rate = 0.03\n",
        "Shrinking StepSize to 1.1470832829235535e-11\n",
        "\n",
        "36400"
       ]
      },
      {
       "output_type": "stream",
       "stream": "stdout",
       "text": [
        "\n",
        "LL = 87488.26819443287\n",
        "Param values 1012.2710421417537,1.0028049547299001e7\n",
        "0.0981620374186104\n",
        "Local Acceptance Rate = 0.09\n",
        "Shrinking StepSize to 1.0323749546311982e-11\n",
        "\n",
        "36500"
       ]
      },
      {
       "output_type": "stream",
       "stream": "stdout",
       "text": [
        "\n",
        "LL = 87487.23740478398\n",
        "Param values 989.8346961821482,9.81783329011745e6\n",
        "0.09819447108139949\n",
        "Local Acceptance Rate = 0.11\n",
        "36600"
       ]
      },
      {
       "output_type": "stream",
       "stream": "stdout",
       "text": [
        "\n",
        "LL = 87486.73205481806\n",
        "Param values 1013.9300825518524,1.0166660085194418e7\n",
        "0.09849995901527364\n",
        "Local Acceptance Rate = 0.21\n",
        "36700"
       ]
      },
      {
       "output_type": "stream",
       "stream": "stdout",
       "text": [
        "\n",
        "LL = 87488.49191749735\n",
        "Param values 1005.5806111119815,1.0035213369193977e7\n",
        "0.0986130412272814\n",
        "Local Acceptance Rate = 0.14\n",
        "36800"
       ]
      },
      {
       "output_type": "stream",
       "stream": "stdout",
       "text": [
        "\n",
        "LL = 87488.49191749735\n",
        "Param values 1005.5806111119815,1.0035213369193977e7\n",
        "0.09867115954237887\n",
        "Local Acceptance Rate = 0.12\n",
        "36900"
       ]
      },
      {
       "output_type": "stream",
       "stream": "stdout",
       "text": [
        "\n",
        "LL = 87488.49191749735\n",
        "Param values 1005.5806111119815,1.0035213369193977e7\n",
        "0.0984037507791539\n",
        "Local Acceptance Rate = 0.0\n",
        "Shrinking StepSize to 9.291374591680784e-12\n",
        "\n",
        "37000"
       ]
      },
      {
       "output_type": "stream",
       "stream": "stdout",
       "text": [
        "\n",
        "LL = 87488.49191749735\n",
        "Param values 1005.5806111119815,1.0035213369193977e7\n",
        "0.09824589853779832\n",
        "Local Acceptance Rate = 0.04\n",
        "Shrinking StepSize to 8.362237132512705e-12\n",
        "\n",
        "37100"
       ]
      },
      {
       "output_type": "stream",
       "stream": "stdout",
       "text": [
        "\n",
        "LL = 87488.49191749735\n",
        "Param values 1005.5806111119815,1.0035213369193977e7\n",
        "0.09798107765707971\n",
        "Local Acceptance Rate = 0.0\n",
        "Shrinking StepSize to 7.526013419261435e-12\n",
        "\n",
        "37200"
       ]
      },
      {
       "output_type": "stream",
       "stream": "stdout",
       "text": [
        "\n",
        "LL = 87488.49191749735\n",
        "Param values 1005.5806111119815,1.0035213369193977e7\n",
        "0.0981477996720342\n",
        "Local Acceptance Rate = 0.16\n",
        "37300"
       ]
      },
      {
       "output_type": "stream",
       "stream": "stdout",
       "text": [
        "\n",
        "LL = 87488.49191749735\n",
        "Param values 1005.5806111119815,1.0035213369193977e7\n",
        "0.09804552400868656\n",
        "Local Acceptance Rate = 0.06\n",
        "Shrinking StepSize to 6.7734120773352915e-12\n",
        "\n",
        "37400"
       ]
      },
      {
       "output_type": "stream",
       "stream": "stdout",
       "text": [
        "\n",
        "LL = 87488.26866315819\n",
        "Param values 999.2451308278668,1.0054708244178612e7\n",
        "0.098050750020054\n",
        "Local Acceptance Rate = 0.1\n",
        "37500"
       ]
      },
      {
       "output_type": "stream",
       "stream": "stdout",
       "text": [
        "\n",
        "LL = 87488.26866315819\n",
        "Param values 999.2451308278668,1.0054708244178612e7\n",
        "0.09778927438065015\n",
        "Local Acceptance Rate = 0.0\n",
        "Shrinking StepSize to 6.096070869601762e-12\n",
        "\n",
        "37600"
       ]
      },
      {
       "output_type": "stream",
       "stream": "stdout",
       "text": [
        "\n",
        "LL = 87488.36318296887\n",
        "Param values 1008.1804418205088,1.0046764636401495e7\n",
        "0.09771536477033964\n",
        "Local Acceptance Rate = 0.07\n",
        "Shrinking StepSize to 5.486463782641586e-12\n",
        "\n",
        "37700"
       ]
      },
      {
       "output_type": "stream",
       "stream": "stdout",
       "text": [
        "\n",
        "LL = 87487.21927388558\n",
        "Param values 997.3930685086664,1.0138835489110256e7\n",
        "0.09758879545876549\n",
        "Local Acceptance Rate = 0.05\n",
        "Shrinking StepSize to 4.9378174043774275e-12\n",
        "\n",
        "37800"
       ]
      },
      {
       "output_type": "stream",
       "stream": "stdout",
       "text": [
        "\n",
        "LL = 87488.18644438805\n",
        "Param values 1011.2347767914058,9.886883264399558e6\n",
        "0.09770099738088309\n",
        "Local Acceptance Rate = 0.14\n",
        "37900"
       ]
      },
      {
       "output_type": "stream",
       "stream": "stdout",
       "text": [
        "\n",
        "LL = 87488.45287006917\n",
        "Param values 996.5966610493842,9.999740345857354e6\n",
        "0.09770706351091057\n",
        "Local Acceptance Rate = 0.1\n",
        "38000"
       ]
      },
      {
       "output_type": "stream",
       "stream": "stdout",
       "text": [
        "\n",
        "LL = 87488.45287006917\n",
        "Param values 996.5966610493842,9.999740345857354e6\n",
        "0.09744993289297087\n",
        "Local Acceptance Rate = 0.0\n",
        "Shrinking StepSize to 4.4440356639396845e-12\n",
        "\n",
        "38100"
       ]
      },
      {
       "output_type": "stream",
       "stream": "stdout",
       "text": [
        "\n",
        "LL = 87488.69457936923\n",
        "Param values 1004.4350907439689,9.94313444778286e6\n",
        "0.09790283209533059\n",
        "Local Acceptance Rate = 0.27\n",
        "38200"
       ]
      },
      {
       "output_type": "stream",
       "stream": "stdout",
       "text": [
        "\n",
        "LL = 87488.34919837373\n",
        "Param values 998.5741006767779,1.0039719423676185e7\n",
        "0.09780360742427813\n",
        "Local Acceptance Rate = 0.06\n",
        "Shrinking StepSize to 3.999632097545716e-12\n",
        "\n",
        "38300"
       ]
      },
      {
       "output_type": "stream",
       "stream": "stdout",
       "text": [
        "\n",
        "LL = 87488.34919837373\n",
        "Param values 998.5741006767779,1.0039719423676185e7\n",
        "0.0978093422804773\n",
        "Local Acceptance Rate = 0.1\n",
        "38400"
       ]
      },
      {
       "output_type": "stream",
       "stream": "stdout",
       "text": [
        "\n",
        "LL = 87488.34919837373\n",
        "Param values 998.5741006767779,1.0039719423676185e7\n",
        "0.09765879319773953\n",
        "Local Acceptance Rate = 0.04\n",
        "Shrinking StepSize to 3.599668887791145e-12\n",
        "\n",
        "38500"
       ]
      },
      {
       "output_type": "stream",
       "stream": "stdout",
       "text": [
        "\n",
        "LL = 87488.34919837373\n",
        "Param values 998.5741006767779,1.0039719423676185e7\n",
        "0.09771682381360555\n",
        "Local Acceptance Rate = 0.12\n",
        "38600"
       ]
      },
      {
       "output_type": "stream",
       "stream": "stdout",
       "text": [
        "\n",
        "LL = 87488.34919837373\n",
        "Param values 998.5741006767779,1.0039719423676185e7\n",
        "0.09767092411720511\n",
        "Local Acceptance Rate = 0.08\n",
        "Shrinking StepSize to 3.2397019990120305e-12\n",
        "\n",
        "38700"
       ]
      },
      {
       "output_type": "stream",
       "stream": "stdout",
       "text": [
        "\n",
        "LL = 87488.34919837373\n",
        "Param values 998.5741006767779,1.0039719423676185e7\n",
        "0.09741853794671697\n",
        "Local Acceptance Rate = 0.0\n",
        "Shrinking StepSize to 2.9157317991108277e-12\n",
        "\n",
        "38800"
       ]
      },
      {
       "output_type": "stream",
       "stream": "stdout",
       "text": [
        "\n",
        "LL = 87488.25988449735\n",
        "Param values 1013.6481011230981,1.0002952822919274e7\n",
        "0.09734786979045852\n",
        "Local Acceptance Rate = 0.07\n",
        "Shrinking StepSize to 2.624158619199745e-12\n",
        "\n",
        "38900"
       ]
      },
      {
       "output_type": "stream",
       "stream": "stdout",
       "text": [
        "\n",
        "LL = 87486.64633678357\n",
        "Param values 982.368849658601,9.862363194844509e6\n",
        "0.09730327257770123\n",
        "Local Acceptance Rate = 0.08\n",
        "Shrinking StepSize to 2.3617427572797706e-12\n",
        "\n",
        "39000"
       ]
      },
      {
       "output_type": "stream",
       "stream": "stdout",
       "text": [
        "\n",
        "LL = 87486.64633678357\n",
        "Param values 982.368849658601,9.862363194844509e6\n",
        "0.0972076207082233\n",
        "Local Acceptance Rate = 0.06\n",
        "Shrinking StepSize to 2.1255684815517936e-12\n",
        "\n",
        "39100"
       ]
      },
      {
       "output_type": "stream",
       "stream": "stdout",
       "text": [
        "\n",
        "LL = 87486.64633678357\n",
        "Param values 982.368849658601,9.862363194844509e6\n",
        "0.09706130591575232\n",
        "Local Acceptance Rate = 0.04\n",
        "Shrinking StepSize to 1.913011633396614e-12\n",
        "\n",
        "39200"
       ]
      },
      {
       "output_type": "stream",
       "stream": "stdout",
       "text": [
        "\n",
        "LL = 87486.5271586536\n",
        "Param values 1006.365679583917,1.019511776108081e7\n",
        "0.09694124850123728\n",
        "Local Acceptance Rate = 0.05\n",
        "Shrinking StepSize to 1.7217104700569528e-12\n",
        "\n",
        "39300"
       ]
      },
      {
       "output_type": "stream",
       "stream": "stdout",
       "text": [
        "\n",
        "LL = 87486.20272571724\n",
        "Param values 1012.1025864638337,1.0203565255420271e7\n",
        "0.0968218020814779\n",
        "Local Acceptance Rate = 0.05\n",
        "Shrinking StepSize to 1.5495394230512575e-12\n",
        "\n",
        "39400"
       ]
      },
      {
       "output_type": "stream",
       "stream": "stdout",
       "text": [
        "\n",
        "LL = 87486.20272571724\n",
        "Param values 1012.1025864638337,1.0203565255420271e7\n",
        "0.09688063148810884\n",
        "Local Acceptance Rate = 0.12\n",
        "39500"
       ]
      },
      {
       "output_type": "stream",
       "stream": "stdout",
       "text": [
        "\n",
        "LL = 87487.74502708873\n",
        "Param values 1009.165411627505,9.826206934467915e6\n",
        "0.09701511430669131\n",
        "Local Acceptance Rate = 0.15\n",
        "39600"
       ]
      },
      {
       "output_type": "stream",
       "stream": "stdout",
       "text": [
        "\n",
        "LL = 87487.74502708873\n",
        "Param values 1009.165411627505,9.826206934467915e6\n",
        "0.09682062678350463\n",
        "Local Acceptance Rate = 0.02\n",
        "Shrinking StepSize to 1.3945854807461317e-12\n",
        "\n",
        "39700"
       ]
      },
      {
       "output_type": "stream",
       "stream": "stdout",
       "text": [
        "\n",
        "LL = 87487.74502708873\n",
        "Param values 1009.165411627505,9.826206934467915e6\n",
        "0.09667749817375752\n",
        "Local Acceptance Rate = 0.04\n",
        "Shrinking StepSize to 1.2551269326715185e-12\n",
        "\n",
        "39800"
       ]
      },
      {
       "output_type": "stream",
       "stream": "stdout",
       "text": [
        "\n",
        "LL = 87488.5322489313\n",
        "Param values 1009.16241112498,9.932525784471452e6\n",
        "0.09671097263750346\n",
        "Local Acceptance Rate = 0.11\n",
        "39900"
       ]
      },
      {
       "output_type": "stream",
       "stream": "stdout",
       "text": [
        "\n",
        "LL = 87488.5322489313\n",
        "Param values 1009.16241112498,9.932525784471452e6\n",
        "0.09666908945086343\n",
        "Local Acceptance Rate = 0.08\n",
        "Shrinking StepSize to 1.1296142394043668e-12\n",
        "\n",
        "40000"
       ]
      },
      {
       "output_type": "stream",
       "stream": "stdout",
       "text": [
        "\n",
        "LL = 87488.5322489313\n",
        "Param values 1009.16241112498,9.932525784471452e6\n",
        "0.09695242381059527\n",
        "Local Acceptance Rate = 0.21\n",
        "40100"
       ]
      },
      {
       "output_type": "stream",
       "stream": "stdout",
       "text": [
        "\n",
        "LL = 87487.63616180452\n",
        "Param values 1000.3973507361789,9.80210447370361e6\n",
        "0.09708471532955934\n",
        "Local Acceptance Rate = 0.15\n",
        "40200"
       ]
      },
      {
       "output_type": "stream",
       "stream": "stdout",
       "text": [
        "\n",
        "LL = 87486.96251752977\n",
        "Param values 1024.4468307759194,9.995954410467396e6\n",
        "0.09696758625836463\n",
        "Local Acceptance Rate = 0.05\n",
        "Shrinking StepSize to 1.01665281546393e-12\n",
        "\n",
        "40300"
       ]
      },
      {
       "output_type": "stream",
       "stream": "stdout",
       "text": [
        "\n",
        "LL = 87488.54813672211\n",
        "Param values 1004.9554222322255,9.902356589203231e6\n",
        "0.09727288518325516\n",
        "Local Acceptance Rate = 0.22\n",
        "40400"
       ]
      },
      {
       "output_type": "stream",
       "stream": "stdout",
       "text": [
        "\n",
        "LL = 87488.54813672211\n",
        "Param values 1004.9554222322255,9.902356589203231e6\n",
        "0.09713111710685908\n",
        "Local Acceptance Rate = 0.04\n",
        "Shrinking StepSize to 9.14987533917537e-13\n",
        "\n",
        "40500"
       ]
      },
      {
       "output_type": "stream",
       "stream": "stdout",
       "text": [
        "\n",
        "LL = 87487.11541926353\n",
        "Param values 1009.7026828482367,1.0156220815942775e7\n",
        "0.09731104471715352\n",
        "Local Acceptance Rate = 0.17\n",
        "40600"
       ]
      },
      {
       "output_type": "stream",
       "stream": "stdout",
       "text": [
        "\n",
        "LL = 87487.11541926353\n",
        "Param values 1009.7026828482367,1.0156220815942775e7\n",
        "0.09712061873445159\n",
        "Local Acceptance Rate = 0.02\n",
        "Shrinking StepSize to 8.234887805257833e-13\n",
        "\n",
        "40700"
       ]
      },
      {
       "output_type": "stream",
       "stream": "stdout",
       "text": [
        "\n",
        "LL = 87487.11541926353\n",
        "Param values 1009.7026828482367,1.0156220815942775e7\n",
        "0.0971276935551242\n",
        "Local Acceptance Rate = 0.1\n",
        "40800"
       ]
      },
      {
       "output_type": "stream",
       "stream": "stdout",
       "text": [
        "\n",
        "LL = 87485.05556381399\n",
        "Param values 973.7884490744565,9.891017373576194e6\n",
        "0.09723277531312043\n",
        "Local Acceptance Rate = 0.14\n",
        "40900"
       ]
      },
      {
       "output_type": "stream",
       "stream": "stdout",
       "text": [
        "\n",
        "LL = 87485.05556381399\n",
        "Param values 973.7884490744565,9.891017373576194e6\n",
        "0.09723954130907846\n",
        "Local Acceptance Rate = 0.1\n",
        "41000"
       ]
      },
      {
       "output_type": "stream",
       "stream": "stdout",
       "text": [
        "\n",
        "LL = 87487.97555681203\n",
        "Param values 990.292534835581,9.916992442504358e6\n",
        "0.0972706651381741\n",
        "Local Acceptance Rate = 0.11\n",
        "41100"
       ]
      },
      {
       "output_type": "stream",
       "stream": "stdout",
       "text": [
        "\n",
        "LL = 87487.97555681203\n",
        "Param values 990.292534835581,9.916992442504358e6\n",
        "0.09727730601717803\n",
        "Local Acceptance Rate = 0.1\n",
        "41200"
       ]
      },
      {
       "output_type": "stream",
       "stream": "stdout",
       "text": [
        "\n",
        "LL = 87487.97555681203\n",
        "Param values 990.292534835581,9.916992442504358e6\n",
        "0.0970411903201534\n",
        "Local Acceptance Rate = 0.0\n",
        "Shrinking StepSize to 7.411399024732051e-13\n",
        "\n",
        "41300"
       ]
      },
      {
       "output_type": "stream",
       "stream": "stdout",
       "text": [
        "\n",
        "LL = 87487.97555681203\n",
        "Param values 990.292534835581,9.916992442504358e6\n",
        "0.0969515000363205\n",
        "Local Acceptance Rate = 0.06\n",
        "Shrinking StepSize to 6.670259122258845e-13\n",
        "\n",
        "41400"
       ]
      },
      {
       "output_type": "stream",
       "stream": "stdout",
       "text": [
        "\n",
        "LL = 87487.97555681203\n",
        "Param values 990.292534835581,9.916992442504358e6\n",
        "0.09671731201236745\n",
        "Local Acceptance Rate = 0.0\n",
        "Shrinking StepSize to 6.003233210032961e-13\n",
        "\n",
        "41500"
       ]
      },
      {
       "output_type": "stream",
       "stream": "stdout",
       "text": [
        "\n",
        "LL = 87488.4359734201\n",
        "Param values 1006.1726451103791,9.887744528762365e6\n",
        "0.09660473746355334\n",
        "Local Acceptance Rate = 0.05\n",
        "Shrinking StepSize to 5.402909889029666e-13\n",
        "\n",
        "41600"
       ]
      },
      {
       "output_type": "stream",
       "stream": "stdout",
       "text": [
        "\n",
        "LL = 87488.4359734201\n",
        "Param values 1006.1726451103791,9.887744528762365e6\n",
        "0.09637250895454218\n",
        "Local Acceptance Rate = 0.0\n",
        "Shrinking StepSize to 4.862618900126699e-13\n",
        "\n",
        "41700"
       ]
      },
      {
       "output_type": "stream",
       "stream": "stdout",
       "text": [
        "\n",
        "LL = 87488.43884735214\n",
        "Param values 1001.6714929941351,9.881298597652351e6\n",
        "0.09650111513465551\n",
        "Local Acceptance Rate = 0.15\n",
        "41800"
       ]
      },
      {
       "output_type": "stream",
       "stream": "stdout",
       "text": [
        "\n",
        "LL = 87485.53873635783\n",
        "Param values 1012.2772094333384,1.0236113764304508e7\n",
        "0.09643771382090481\n",
        "Local Acceptance Rate = 0.07\n",
        "Shrinking StepSize to 4.3763570101140297e-13\n",
        "\n",
        "41900"
       ]
      },
      {
       "output_type": "stream",
       "stream": "stdout",
       "text": [
        "\n",
        "LL = 87487.9080572287\n",
        "Param values 991.8456526662526,1.0033076773530116e7\n",
        "0.09649394973627055\n",
        "Local Acceptance Rate = 0.12\n",
        "42000"
       ]
      },
      {
       "output_type": "stream",
       "stream": "stdout",
       "text": [
        "\n",
        "LL = 87487.53500392029\n",
        "Param values 1018.8899841501327,1.0051886927683532e7\n",
        "0.09676420867163504\n",
        "Local Acceptance Rate = 0.21\n",
        "42100"
       ]
      },
      {
       "output_type": "stream",
       "stream": "stdout",
       "text": [
        "\n",
        "LL = 87487.65834225429\n",
        "Param values 998.8351344751487,1.0112573814892117e7\n",
        "0.09670063421934012\n",
        "Local Acceptance Rate = 0.07\n",
        "Shrinking StepSize to 3.9387213091026266e-13\n",
        "\n",
        "42200"
       ]
      },
      {
       "output_type": "stream",
       "stream": "stdout",
       "text": [
        "\n",
        "LL = 87488.22106847948\n",
        "Param values 1014.3278891084301,9.995425291516505e6\n",
        "0.09694542524704376\n",
        "Local Acceptance Rate = 0.2\n",
        "42300"
       ]
      },
      {
       "output_type": "stream",
       "stream": "stdout",
       "text": [
        "\n",
        "LL = 87488.22106847948\n",
        "Param values 1014.3278891084301,9.995425291516505e6\n",
        "0.09709449395966807\n",
        "Local Acceptance Rate = 0.16\n",
        "42400"
       ]
      },
      {
       "output_type": "stream",
       "stream": "stdout",
       "text": [
        "\n",
        "LL = 87488.22106847948\n",
        "Param values 1014.3278891084301,9.995425291516505e6\n",
        "0.09686549211066299\n",
        "Local Acceptance Rate = 0.0\n",
        "Shrinking StepSize to 3.544849178192364e-13\n",
        "\n",
        "42500"
       ]
      },
      {
       "output_type": "stream",
       "stream": "stdout",
       "text": [
        "\n",
        "LL = 87488.22106847948\n",
        "Param values 1014.3278891084301,9.995425291516505e6\n",
        "0.09668462787359702\n",
        "Local Acceptance Rate = 0.02\n",
        "Shrinking StepSize to 3.190364260373128e-13\n",
        "\n",
        "42600"
       ]
      },
      {
       "output_type": "stream",
       "stream": "stdout",
       "text": [
        "\n",
        "LL = 87488.22106847948\n",
        "Param values 1014.3278891084301,9.995425291516505e6\n",
        "0.09645766332543017\n",
        "Local Acceptance Rate = 0.0\n",
        "Shrinking StepSize to 2.8713278343358153e-13\n",
        "\n",
        "42700"
       ]
      },
      {
       "output_type": "stream",
       "stream": "stdout",
       "text": [
        "\n",
        "LL = 87488.57064220496\n",
        "Param values 1000.284481187445,9.909215701315492e6\n",
        "0.09637228038127357\n",
        "Local Acceptance Rate = 0.06\n",
        "Shrinking StepSize to 2.584195050902234e-13\n",
        "\n",
        "42800"
       ]
      },
      {
       "output_type": "stream",
       "stream": "stdout",
       "text": [
        "\n",
        "LL = 87485.61717543231\n",
        "Param values 1002.3077361389289,1.0237374475615827e7\n",
        "0.09661440687866539\n",
        "Local Acceptance Rate = 0.2\n",
        "42900"
       ]
      },
      {
       "output_type": "stream",
       "stream": "stdout",
       "text": [
        "\n",
        "LL = 87486.69659968482\n",
        "Param values 985.5632950731772,9.814383419523932e6\n",
        "0.09655236718804634\n",
        "Local Acceptance Rate = 0.07\n",
        "Shrinking StepSize to 2.325775545812011e-13\n",
        "\n",
        "43000"
       ]
      },
      {
       "output_type": "stream",
       "stream": "stdout",
       "text": [
        "\n",
        "LL = 87486.45035483055\n",
        "Param values 1022.7313998499651,1.011928548608451e7\n",
        "0.09649061606083863\n",
        "Local Acceptance Rate = 0.07\n",
        "Shrinking StepSize to 2.0931979912308098e-13\n",
        "\n",
        "43100"
       ]
      },
      {
       "output_type": "stream",
       "stream": "stdout",
       "text": [
        "\n",
        "LL = 87488.67023729919\n",
        "Param values 1003.4223078781647,9.929412265035927e6\n",
        "0.09645235388292071\n",
        "Local Acceptance Rate = 0.08\n",
        "Shrinking StepSize to 1.883878192107729e-13\n",
        "\n",
        "43200"
       ]
      },
      {
       "output_type": "stream",
       "stream": "stdout",
       "text": [
        "\n",
        "LL = 87488.67023729919\n",
        "Param values 1003.4223078781647,9.929412265035927e6\n",
        "0.0965068635848052\n",
        "Local Acceptance Rate = 0.12\n",
        "43300"
       ]
      },
      {
       "output_type": "stream",
       "stream": "stdout",
       "text": [
        "\n",
        "LL = 87488.40892981541\n",
        "Param values 1001.0260380045252,1.0043604646325652e7\n",
        "0.09653802628236217\n",
        "Local Acceptance Rate = 0.11\n",
        "43400"
       ]
      },
      {
       "output_type": "stream",
       "stream": "stdout",
       "text": [
        "\n",
        "LL = 87488.40892981541\n",
        "Param values 1001.0260380045252,1.0043604646325652e7\n",
        "0.09654600336413281\n",
        "Local Acceptance Rate = 0.1\n",
        "43500"
       ]
      },
      {
       "output_type": "stream",
       "stream": "stdout",
       "text": [
        "\n",
        "LL = 87488.40892981541\n",
        "Param values 1001.0260380045252,1.0043604646325652e7\n",
        "0.09632405342651555\n",
        "Local Acceptance Rate = 0.0\n",
        "Shrinking StepSize to 1.695490372896956e-13\n",
        "\n",
        "43600"
       ]
      },
      {
       "output_type": "stream",
       "stream": "stdout",
       "text": [
        "\n",
        "LL = 87488.40892981541\n",
        "Param values 1001.0260380045252,1.0043604646325652e7\n",
        "0.09633248469001583\n",
        "Local Acceptance Rate = 0.1\n",
        "43700"
       ]
      },
      {
       "output_type": "stream",
       "stream": "stdout",
       "text": [
        "\n",
        "LL = 87487.00930379184\n",
        "Param values 984.6594496715388,9.863157349015763e6\n",
        "0.09624934209020801\n",
        "Local Acceptance Rate = 0.06\n",
        "Shrinking StepSize to 1.5259413356072606e-13\n",
        "\n",
        "43800"
       ]
      },
      {
       "output_type": "stream",
       "stream": "stdout",
       "text": [
        "\n",
        "LL = 87485.84019130844\n",
        "Param values 1028.5187491604108,9.887767826413997e6\n",
        "0.09623507386013379\n",
        "Local Acceptance Rate = 0.09\n",
        "Shrinking StepSize to 1.3733472020465345e-13\n",
        "\n",
        "43900"
       ]
      },
      {
       "output_type": "stream",
       "stream": "stdout",
       "text": [
        "\n",
        "LL = 87488.60950054231\n",
        "Param values 998.7878678477337,9.981178215365319e6\n",
        "0.09615253194833595\n",
        "Local Acceptance Rate = 0.06\n",
        "Shrinking StepSize to 1.2360124818418812e-13\n",
        "\n",
        "44000"
       ]
      },
      {
       "output_type": "stream",
       "stream": "stdout",
       "text": [
        "\n",
        "LL = 87488.60950054231\n",
        "Param values 998.7878678477337,9.981178215365319e6\n",
        "0.09616127639264528\n",
        "Local Acceptance Rate = 0.1\n",
        "44100"
       ]
      },
      {
       "output_type": "stream",
       "stream": "stdout",
       "text": [
        "\n",
        "LL = 87488.60950054231\n",
        "Param values 998.7878678477337,9.981178215365319e6\n",
        "0.09603392367173859\n",
        "Local Acceptance Rate = 0.04\n",
        "Shrinking StepSize to 1.1124112336576931e-13\n",
        "\n",
        "44200"
       ]
      },
      {
       "output_type": "stream",
       "stream": "stdout",
       "text": [
        "\n",
        "LL = 87488.11427016651\n",
        "Param values 995.2245910751404,1.0045125107468672e7\n",
        "0.09599764700558837\n",
        "Local Acceptance Rate = 0.08\n",
        "Shrinking StepSize to 1.0011701102919238e-13\n",
        "\n",
        "44300"
       ]
      },
      {
       "output_type": "stream",
       "stream": "stdout",
       "text": [
        "\n",
        "LL = 87488.71567762771\n",
        "Param values 1003.2846277359678,9.965970135581847e6\n",
        "0.09611955123140477\n",
        "Local Acceptance Rate = 0.15\n",
        "44400"
       ]
      },
      {
       "output_type": "stream",
       "stream": "stdout",
       "text": [
        "\n",
        "LL = 87488.71567762771\n",
        "Param values 1003.2846277359678,9.965970135581847e6\n",
        "0.09590306087974955\n",
        "Local Acceptance Rate = 0.0\n",
        "Shrinking StepSize to 9.010530992627314e-14\n",
        "\n",
        "44500"
       ]
      },
      {
       "output_type": "stream",
       "stream": "stdout",
       "text": [
        "\n",
        "LL = 87488.71567762771\n",
        "Param values 1003.2846277359678,9.965970135581847e6\n",
        "0.09586732286118789\n",
        "Local Acceptance Rate = 0.08\n",
        "Shrinking StepSize to 8.109477893364583e-14\n",
        "\n",
        "44600"
       ]
      },
      {
       "output_type": "stream",
       "stream": "stdout",
       "text": [
        "\n",
        "LL = 87487.8041812648\n",
        "Param values 1003.0117790582217,9.81474315740739e6\n",
        "0.09571963496939394\n",
        "Local Acceptance Rate = 0.03\n",
        "Shrinking StepSize to 7.298530104028125e-14\n",
        "\n",
        "44700"
       ]
      },
      {
       "output_type": "stream",
       "stream": "stdout",
       "text": [
        "\n",
        "LL = 87488.233995817\n",
        "Param values 998.1700065460591,1.0052976635660512e7\n",
        "0.09566209534888924\n",
        "Local Acceptance Rate = 0.07\n",
        "Shrinking StepSize to 6.568677093625312e-14\n",
        "\n",
        "44800"
       ]
      },
      {
       "output_type": "stream",
       "stream": "stdout",
       "text": [
        "\n",
        "LL = 87486.43848546635\n",
        "Param values 1027.0570900611235,1.0027188621601e7\n",
        "0.09567177838791044\n",
        "Local Acceptance Rate = 0.1\n",
        "44900"
       ]
      },
      {
       "output_type": "stream",
       "stream": "stdout",
       "text": [
        "\n",
        "LL = 87486.78427326755\n",
        "Param values 992.2167385839842,9.76821793904099e6\n",
        "0.09599322924786743\n",
        "Local Acceptance Rate = 0.24\n",
        "45000"
       ]
      },
      {
       "output_type": "stream",
       "stream": "stdout",
       "text": [
        "\n",
        "LL = 87486.78427326755\n",
        "Param values 992.2167385839842,9.76821793904099e6\n",
        "0.09600213338074179\n",
        "Local Acceptance Rate = 0.1\n",
        "45100"
       ]
      },
      {
       "output_type": "stream",
       "stream": "stdout",
       "text": [
        "\n",
        "LL = 87486.78427326755\n",
        "Param values 992.2167385839842,9.76821793904099e6\n",
        "0.09578926362003592\n",
        "Local Acceptance Rate = 0.0\n",
        "Shrinking StepSize to 5.911809384262781e-14\n",
        "\n",
        "45200"
       ]
      },
      {
       "output_type": "stream",
       "stream": "stdout",
       "text": [
        "\n",
        "LL = 87486.78427326755\n",
        "Param values 992.2167385839842,9.76821793904099e6\n",
        "0.09562158454833071\n",
        "Local Acceptance Rate = 0.02\n",
        "Shrinking StepSize to 5.320628445836503e-14\n",
        "\n",
        "45300"
       ]
      },
      {
       "output_type": "stream",
       "stream": "stdout",
       "text": [
        "\n",
        "LL = 87487.19001966002\n",
        "Param values 1015.129530045583,9.820088701836891e6\n",
        "0.0956533256804786\n",
        "Local Acceptance Rate = 0.11\n",
        "45400"
       ]
      },
      {
       "output_type": "stream",
       "stream": "stdout",
       "text": [
        "\n",
        "LL = 87487.19001966002\n",
        "Param values 1015.129530045583,9.820088701836891e6\n",
        "0.09548668472873852\n",
        "Local Acceptance Rate = 0.02\n",
        "Shrinking StepSize to 4.788565601252853e-14\n",
        "\n",
        "45500"
       ]
      },
      {
       "output_type": "stream",
       "stream": "stdout",
       "text": [
        "\n",
        "LL = 87487.19001966002\n",
        "Param values 1015.129530045583,9.820088701836891e6\n",
        "0.09562847535110662\n",
        "Local Acceptance Rate = 0.16\n",
        "45600"
       ]
      },
      {
       "output_type": "stream",
       "stream": "stdout",
       "text": [
        "\n",
        "LL = 87487.54852541134\n",
        "Param values 986.5229056805714,9.927912054024607e6\n",
        "0.09555034101625036\n",
        "Local Acceptance Rate = 0.06\n",
        "Shrinking StepSize to 4.3097090411275676e-14\n",
        "\n",
        "45700"
       ]
      },
      {
       "output_type": "stream",
       "stream": "stdout",
       "text": [
        "\n",
        "LL = 87487.54852541134\n",
        "Param values 986.5229056805714,9.927912054024607e6\n",
        "0.09556007790104816\n",
        "Local Acceptance Rate = 0.1\n",
        "45800"
       ]
      },
      {
       "output_type": "stream",
       "stream": "stdout",
       "text": [
        "\n",
        "LL = 87488.21116999906\n",
        "Param values 992.389434376607,9.932694070695577e6\n",
        "0.09554793772789799\n",
        "Local Acceptance Rate = 0.09\n",
        "Shrinking StepSize to 3.878738137014811e-14\n",
        "\n",
        "45900"
       ]
      },
      {
       "output_type": "stream",
       "stream": "stdout",
       "text": [
        "\n",
        "LL = 87488.21116999906\n",
        "Param values 992.389434376607,9.932694070695577e6\n",
        "0.09560121135536721\n",
        "Local Acceptance Rate = 0.12\n",
        "46000"
       ]
      },
      {
       "output_type": "stream",
       "stream": "stdout",
       "text": [
        "\n",
        "LL = 87487.97186023793\n",
        "Param values 1001.6193360156943,9.828783536911357e6\n",
        "0.09565425335333377\n",
        "Local Acceptance Rate = 0.12\n",
        "46100"
       ]
      },
      {
       "output_type": "stream",
       "stream": "stdout",
       "text": [
        "\n",
        "LL = 87487.97186023793\n",
        "Param values 1001.6193360156943,9.828783536911357e6\n",
        "0.09557691056205124\n",
        "Local Acceptance Rate = 0.06\n",
        "Shrinking StepSize to 3.49086432331333e-14\n",
        "\n",
        "46200"
       ]
      },
      {
       "output_type": "stream",
       "stream": "stdout",
       "text": [
        "\n",
        "LL = 87488.69217336262\n",
        "Param values 1005.8497048543001,9.966802225753974e6\n",
        "0.0956081300461049\n",
        "Local Acceptance Rate = 0.11\n",
        "46300"
       ]
      },
      {
       "output_type": "stream",
       "stream": "stdout",
       "text": [
        "\n",
        "LL = 87487.68774138401\n",
        "Param values 987.8719529706906,9.91252581328959e6\n",
        "0.09559601719259596\n",
        "Local Acceptance Rate = 0.09\n",
        "Shrinking StepSize to 3.141777890981997e-14\n",
        "\n",
        "46400"
       ]
      },
      {
       "output_type": "stream",
       "stream": "stdout",
       "text": [
        "\n",
        "LL = 87488.13342390861\n",
        "Param values 999.8057387908498,9.846674733964825e6\n",
        "0.0954546434190392\n",
        "Local Acceptance Rate = 0.03\n",
        "Shrinking StepSize to 2.827600101883797e-14\n",
        "\n",
        "46500"
       ]
      },
      {
       "output_type": "stream",
       "stream": "stdout",
       "text": [
        "\n",
        "LL = 87484.28259608462\n",
        "Param values 1021.4812284394551,9.70577007538394e6\n",
        "0.09563646530032904\n",
        "Local Acceptance Rate = 0.18\n",
        "46600"
       ]
      },
      {
       "output_type": "stream",
       "stream": "stdout",
       "text": [
        "\n",
        "LL = 87487.94515456178\n",
        "Param values 1011.7545358319361,9.86139491102881e6\n",
        "0.09568874868559411\n",
        "Local Acceptance Rate = 0.12\n",
        "46700"
       ]
      },
      {
       "output_type": "stream",
       "stream": "stdout",
       "text": [
        "\n",
        "LL = 87487.94515456178\n",
        "Param values 1011.7545358319361,9.86139491102881e6\n",
        "0.09567656695004176\n",
        "Local Acceptance Rate = 0.09\n",
        "Shrinking StepSize to 2.5448400916954175e-14\n",
        "\n",
        "46800"
       ]
      },
      {
       "output_type": "stream",
       "stream": "stdout",
       "text": [
        "\n",
        "LL = 87488.26583679995\n",
        "Param values 997.8214372357568,1.0046441234966211e7\n",
        "0.09562170131840424\n",
        "Local Acceptance Rate = 0.07\n",
        "Shrinking StepSize to 2.290356082525876e-14\n",
        "\n",
        "46900"
       ]
      },
      {
       "output_type": "stream",
       "stream": "stdout",
       "text": [
        "\n",
        "LL = 87488.26583679995\n",
        "Param values 997.8214372357568,1.0046441234966211e7\n",
        "0.09550310241156527\n",
        "Local Acceptance Rate = 0.04\n",
        "Shrinking StepSize to 2.0613204742732883e-14\n",
        "\n",
        "47000"
       ]
      },
      {
       "output_type": "stream",
       "stream": "stdout",
       "text": [
        "\n",
        "LL = 87485.9724476661\n",
        "Param values 1017.991216827225,9.762957490374899e6\n",
        "0.09553394753079852\n",
        "Local Acceptance Rate = 0.11\n",
        "47100"
       ]
      },
      {
       "output_type": "stream",
       "stream": "stdout",
       "text": [
        "\n",
        "LL = 87488.3341066592\n",
        "Param values 1012.4565503175492,1.0007862081688061e7\n",
        "0.09554342979681098\n",
        "Local Acceptance Rate = 0.1\n",
        "47200"
       ]
      },
      {
       "output_type": "stream",
       "stream": "stdout",
       "text": [
        "\n",
        "LL = 87488.3341066592\n",
        "Param values 1012.4565503175492,1.0007862081688061e7\n",
        "0.0954257505455624\n",
        "Local Acceptance Rate = 0.04\n",
        "Shrinking StepSize to 1.8551884268459595e-14\n",
        "\n",
        "47300"
       ]
      },
      {
       "output_type": "stream",
       "stream": "stdout",
       "text": [
        "\n",
        "LL = 87488.3341066592\n",
        "Param values 1012.4565503175492,1.0007862081688061e7\n",
        "0.0953508530835747\n",
        "Local Acceptance Rate = 0.06\n",
        "Shrinking StepSize to 1.6696695841613636e-14\n",
        "\n",
        "47400"
       ]
      },
      {
       "output_type": "stream",
       "stream": "stdout",
       "text": [
        "\n",
        "LL = 87488.3341066592\n",
        "Param values 1012.4565503175492,1.0007862081688061e7\n",
        "0.09531846663431719\n",
        "Local Acceptance Rate = 0.08\n",
        "Shrinking StepSize to 1.5027026257452272e-14\n",
        "\n",
        "47500"
       ]
      },
      {
       "output_type": "stream",
       "stream": "stdout",
       "text": [
        "\n",
        "LL = 87488.24001871691\n",
        "Param values 996.8508983366248,1.0042557018217547e7\n",
        "0.09541253500073686\n",
        "Local Acceptance Rate = 0.14\n",
        "47600"
       ]
      },
      {
       "output_type": "stream",
       "stream": "stdout",
       "text": [
        "\n",
        "LL = 87488.24001871691\n",
        "Param values 996.8508983366248,1.0042557018217547e7\n",
        "0.09529611966637955\n",
        "Local Acceptance Rate = 0.04\n",
        "Shrinking StepSize to 1.3524323631707044e-14\n",
        "\n",
        "47700"
       ]
      },
      {
       "output_type": "stream",
       "stream": "stdout",
       "text": [
        "\n",
        "LL = 87488.61346803723\n",
        "Param values 1008.4814741522652,9.966776705808494e6\n",
        "0.09524308685716681\n",
        "Local Acceptance Rate = 0.07\n",
        "Shrinking StepSize to 1.217189126853634e-14\n",
        "\n",
        "47800"
       ]
      },
      {
       "output_type": "stream",
       "stream": "stdout",
       "text": [
        "\n",
        "LL = 87488.61346803723\n",
        "Param values 1008.4814741522652,9.966776705808494e6\n",
        "0.09504382936881525\n",
        "Local Acceptance Rate = 0.0\n",
        "Shrinking StepSize to 1.0954702141682706e-14\n",
        "\n",
        "47900"
       ]
      },
      {
       "output_type": "stream",
       "stream": "stdout",
       "text": [
        "\n",
        "LL = 87488.61346803723\n",
        "Param values 1008.4814741522652,9.966776705808494e6\n",
        "0.09505417649637779\n",
        "Local Acceptance Rate = 0.1\n",
        "48000"
       ]
      },
      {
       "output_type": "stream",
       "stream": "stdout",
       "text": [
        "\n",
        "LL = 87488.61346803723\n",
        "Param values 1008.4814741522652,9.966776705808494e6\n",
        "0.0948561428363091\n",
        "Local Acceptance Rate = 0.0\n",
        "Shrinking StepSize to 9.859231927514436e-15\n",
        "\n",
        "48100"
       ]
      },
      {
       "output_type": "stream",
       "stream": "stdout",
       "text": [
        "\n",
        "LL = 87487.63136687719\n",
        "Param values 987.0413959645022,9.956366749725359e6\n",
        "0.09480446578930955\n",
        "Local Acceptance Rate = 0.07\n",
        "Shrinking StepSize to 8.873308734762992e-15\n",
        "\n",
        "48200"
       ]
      },
      {
       "output_type": "stream",
       "stream": "stdout",
       "text": [
        "\n",
        "LL = 87487.63136687719\n",
        "Param values 987.0413959645022,9.956366749725359e6\n",
        "0.09477375049274882\n",
        "Local Acceptance Rate = 0.08\n",
        "Shrinking StepSize to 7.985977861286693e-15\n",
        "\n",
        "48300"
       ]
      },
      {
       "output_type": "stream",
       "stream": "stdout",
       "text": [
        "\n",
        "LL = 87487.63136687719\n",
        "Param values 987.0413959645022,9.956366749725359e6\n",
        "0.09466034493467773\n",
        "Local Acceptance Rate = 0.04\n",
        "Shrinking StepSize to 7.187380075158024e-15\n",
        "\n",
        "48400"
       ]
      },
      {
       "output_type": "stream",
       "stream": "stdout",
       "text": [
        "\n",
        "LL = 87487.12129477925\n",
        "Param values 986.0462954349827,9.852061961635351e6\n",
        "0.09456806958821463\n",
        "Local Acceptance Rate = 0.05\n",
        "Shrinking StepSize to 6.468642067642222e-15\n",
        "\n",
        "48500"
       ]
      },
      {
       "output_type": "stream",
       "stream": "stdout",
       "text": [
        "\n",
        "LL = 87486.4811914149\n",
        "Param values 1018.2661586325041,9.795805385917272e6\n",
        "0.09464112662116744\n",
        "Local Acceptance Rate = 0.13\n",
        "48600"
       ]
      },
      {
       "output_type": "stream",
       "stream": "stdout",
       "text": [
        "\n",
        "LL = 87488.15047276337\n",
        "Param values 997.6392601644377,1.0059895830395618e7\n",
        "0.09479618922200045\n",
        "Local Acceptance Rate = 0.17\n",
        "48700"
       ]
      },
      {
       "output_type": "stream",
       "stream": "stdout",
       "text": [
        "\n",
        "LL = 87488.24689903298\n",
        "Param values 1005.3969186491893,9.860214647875955e6\n",
        "0.09482740918704696\n",
        "Local Acceptance Rate = 0.11\n",
        "48800"
       ]
      },
      {
       "output_type": "stream",
       "stream": "stdout",
       "text": [
        "\n",
        "LL = 87488.66863967346\n",
        "Param values 1002.2736702762265,9.929665130040273e6\n",
        "0.0947355478595873\n",
        "Local Acceptance Rate = 0.05\n",
        "Shrinking StepSize to 5.821777860878e-15\n",
        "\n",
        "48900"
       ]
      },
      {
       "output_type": "stream",
       "stream": "stdout",
       "text": [
        "\n",
        "LL = 87488.66863967346\n",
        "Param values 1002.2736702762265,9.929665130040273e6\n",
        "0.0948281150943782\n",
        "Local Acceptance Rate = 0.14\n",
        "49000"
       ]
      },
      {
       "output_type": "stream",
       "stream": "stdout",
       "text": [
        "\n",
        "LL = 87488.66863967346\n",
        "Param values 1002.2736702762265,9.929665130040273e6\n",
        "0.09479785301740852\n",
        "Local Acceptance Rate = 0.08\n",
        "Shrinking StepSize to 5.2396000747902e-15\n",
        "\n",
        "49100"
       ]
      },
      {
       "output_type": "stream",
       "stream": "stdout",
       "text": [
        "\n",
        "LL = 87488.66863967346\n",
        "Param values 1002.2736702762265,9.929665130040273e6\n",
        "0.094604778101387\n",
        "Local Acceptance Rate = 0.0\n",
        "Shrinking StepSize to 4.7156400673111805e-15\n",
        "\n",
        "49200"
       ]
      },
      {
       "output_type": "stream",
       "stream": "stdout",
       "text": [
        "\n",
        "LL = 87488.66863967346\n",
        "Param values 1002.2736702762265,9.929665130040273e6\n",
        "0.09453444175694628\n",
        "Local Acceptance Rate = 0.06\n",
        "Shrinking StepSize to 4.244076060580063e-15\n",
        "\n",
        "49300"
       ]
      },
      {
       "output_type": "stream",
       "stream": "stdout",
       "text": [
        "\n",
        "LL = 87488.71323269562\n",
        "Param values 1003.8370281450584,9.970396928869627e6\n",
        "0.0947280877908274\n",
        "Local Acceptance Rate = 0.19\n",
        "49400"
       ]
      },
      {
       "output_type": "stream",
       "stream": "stdout",
       "text": [
        "\n",
        "LL = 87488.71323269562\n",
        "Param values 1003.8370281450584,9.970396928869627e6\n",
        "0.09453632664628839\n",
        "Local Acceptance Rate = 0.0\n",
        "Shrinking StepSize to 3.819668454522057e-15\n",
        "\n",
        "49500"
       ]
      },
      {
       "output_type": "stream",
       "stream": "stdout",
       "text": [
        "\n",
        "LL = 87488.71323269562\n",
        "Param values 1003.8370281450584,9.970396928869627e6\n",
        "0.09434534030990525\n",
        "Local Acceptance Rate = 0.0\n",
        "Shrinking StepSize to 3.4377016090698513e-15\n",
        "\n",
        "49600"
       ]
      },
      {
       "output_type": "stream",
       "stream": "stdout",
       "text": [
        "\n",
        "LL = 87487.80653621543\n",
        "Param values 990.7710276731178,9.871340532317154e6\n",
        "0.09469948990907075\n",
        "Local Acceptance Rate = 0.27\n",
        "49700"
       ]
      },
      {
       "output_type": "stream",
       "stream": "stdout",
       "text": [
        "\n",
        "LL = 87488.42544369372\n",
        "Param values 1003.0378727479252,1.0046252392715912e7\n",
        "0.0946497917463128\n",
        "Local Acceptance Rate = 0.07\n",
        "Shrinking StepSize to 3.0939314481628663e-15\n",
        "\n",
        "49800"
       ]
      },
      {
       "output_type": "stream",
       "stream": "stdout",
       "text": [
        "\n",
        "LL = 87488.42544369372\n",
        "Param values 1003.0378727479252,1.0046252392715912e7\n",
        "0.09470069680114059\n",
        "Local Acceptance Rate = 0.12\n",
        "49900"
       ]
      },
      {
       "output_type": "stream",
       "stream": "stdout",
       "text": [
        "\n",
        "LL = 87488.42544369372\n",
        "Param values 1003.0378727479252,1.0046252392715912e7\n",
        "0.09459107396941822\n",
        "Local Acceptance Rate = 0.04\n",
        "Shrinking StepSize to 2.78453830334658e-15\n",
        "\n",
        "50000"
       ]
      },
      {
       "output_type": "stream",
       "stream": "stdout",
       "text": [
        "\n",
        "LL = 87488.68287936205\n",
        "Param values 1000.6301843674529,9.968001619225837e6\n",
        "0.09458189163783276\n",
        "50100"
       ]
      },
      {
       "output_type": "stream",
       "stream": "stdout",
       "text": [
        "\n",
        "LL = 87488.68287936205\n",
        "Param values 1000.6301843674529,9.968001619225837e6\n",
        "0.09443302261522186\n",
        "50200"
       ]
      },
      {
       "output_type": "stream",
       "stream": "stdout",
       "text": [
        "\n",
        "LL = 87488.68287936205\n",
        "Param values 1000.6301843674529,9.968001619225837e6\n",
        "0.09424490527699755\n",
        "50300"
       ]
      },
      {
       "output_type": "stream",
       "stream": "stdout",
       "text": [
        "\n",
        "LL = 87484.22263766774\n",
        "Param values 994.5465611699864,9.640681915584303e6\n",
        "0.0944153959323247\n",
        "50400"
       ]
      },
      {
       "output_type": "stream",
       "stream": "stdout",
       "text": [
        "\n",
        "LL = 87485.87242858992\n",
        "Param values 986.6266423965759,1.0151464552150426e7\n",
        "0.09456536836048335\n",
        "50500"
       ]
      },
      {
       "output_type": "stream",
       "stream": "stdout",
       "text": [
        "\n",
        "LL = 87487.38222063106\n",
        "Param values 991.684820988638,1.0089812263526253e7\n",
        "0.09485336343293926\n",
        "50600"
       ]
      },
      {
       "output_type": "stream",
       "stream": "stdout",
       "text": [
        "\n",
        "LL = 87488.38697663027\n",
        "Param values 996.6946590084859,1.0016550632073477e7\n",
        "0.09498211427103302\n",
        "50700"
       ]
      },
      {
       "output_type": "stream",
       "stream": "stdout",
       "text": [
        "\n",
        "LL = 87485.34472600829\n",
        "Param values 1032.730262581255,9.989862383408181e6\n",
        "0.09505118444150772\n",
        "50800"
       ]
      },
      {
       "output_type": "stream",
       "stream": "stdout",
       "text": [
        "\n",
        "LL = 87487.7569949255\n",
        "Param values 992.7809810799683,9.843155773836255e6\n",
        "0.09510029724994587\n",
        "50900"
       ]
      },
      {
       "output_type": "stream",
       "stream": "stdout",
       "text": [
        "\n",
        "LL = 87487.34682088776\n",
        "Param values 1008.7211390889219,1.014271291768692e7\n",
        "0.09536533134246253\n",
        "51000"
       ]
      },
      {
       "output_type": "stream",
       "stream": "stdout",
       "text": [
        "\n",
        "LL = 87486.24384917371\n",
        "Param values 978.7762415213721,9.9269017179599e6\n",
        "0.09531559442342007\n",
        "51100"
       ]
      },
      {
       "output_type": "stream",
       "stream": "stdout",
       "text": [
        "\n",
        "LL = 87484.56550053103\n",
        "Param values 1035.7657908694243,9.956135187290592e6\n",
        "0.09569658897434392\n",
        "51200"
       ]
      },
      {
       "output_type": "stream",
       "stream": "stdout",
       "text": [
        "\n",
        "LL = 87488.22019273281\n",
        "Param values 996.9710307685134,1.0046287491080202e7\n",
        "0.0958026523955546\n",
        "51300"
       ]
      },
      {
       "output_type": "stream",
       "stream": "stdout",
       "text": [
        "\n",
        "LL = 87488.22019273281\n",
        "Param values 996.9710307685134,1.0046287491080202e7\n",
        "0.09573286028967426\n",
        "51400"
       ]
      },
      {
       "output_type": "stream",
       "stream": "stdout",
       "text": [
        "\n",
        "LL = 87488.22019273281\n",
        "Param values 996.9710307685134,1.0046287491080202e7\n",
        "0.09562442849082667\n",
        "51500"
       ]
      },
      {
       "output_type": "stream",
       "stream": "stdout",
       "text": [
        "\n",
        "LL = 87488.35928338188\n",
        "Param values 996.9327273013413,9.88948176850008e6\n",
        "0.09569117846948484\n",
        "51600"
       ]
      },
      {
       "output_type": "stream",
       "stream": "stdout",
       "text": [
        "\n",
        "LL = 87488.35928338188\n",
        "Param values 996.9327273013413,9.88948176850008e6\n",
        "0.0956995290606407\n",
        "51700"
       ]
      },
      {
       "output_type": "stream",
       "stream": "stdout",
       "text": [
        "\n",
        "LL = 87488.71087107042\n",
        "Param values 1002.2916458251136,9.964787052673437e6\n",
        "0.09576587554885008\n",
        "51800"
       ]
      },
      {
       "output_type": "stream",
       "stream": "stdout",
       "text": [
        "\n",
        "LL = 87487.01135981068\n",
        "Param values 994.1277844723118,1.013629392115396e7\n",
        "0.09583196586806696\n",
        "51900"
       ]
      },
      {
       "output_type": "stream",
       "stream": "stdout",
       "text": [
        "\n",
        "LL = 87488.45350035292\n",
        "Param values 995.4563320890563,9.940775043703116e6\n",
        "0.09578219233511243\n",
        "52000"
       ]
      },
      {
       "output_type": "stream",
       "stream": "stdout",
       "text": [
        "\n",
        "LL = 87486.12862817696\n",
        "Param values 1028.7990919084305,9.949977160536965e6\n",
        "0.0956556856862632\n",
        "52100"
       ]
      },
      {
       "output_type": "stream",
       "stream": "stdout",
       "text": [
        "\n",
        "LL = 87487.36427645099\n",
        "Param values 1003.389519507719,1.0144352924310457e7\n",
        "0.09574080116700896\n",
        "52200"
       ]
      },
      {
       "output_type": "stream",
       "stream": "stdout",
       "text": [
        "\n",
        "LL = 87488.55887598729\n",
        "Param values 1008.3127306413422,1.0005643546394747e7\n",
        "0.09565317343244123\n",
        "52300"
       ]
      },
      {
       "output_type": "stream",
       "stream": "stdout",
       "text": [
        "\n",
        "LL = 87486.43217998416\n",
        "Param values 985.7219909495568,1.0104100162280176e7\n",
        "0.09566148492322989\n",
        "52400"
       ]
      },
      {
       "output_type": "stream",
       "stream": "stdout",
       "text": [
        "\n",
        "LL = 87488.26846239873\n",
        "Param values 1013.2784721032087,9.93342553733034e6\n",
        "0.09553617435447241\n",
        "52500"
       ]
      },
      {
       "output_type": "stream",
       "stream": "stdout",
       "text": [
        "\n",
        "LL = 87488.61172056878\n",
        "Param values 999.0764755007131,9.932115761231897e6\n",
        "0.0954875330958685\n",
        "52600"
       ]
      },
      {
       "output_type": "stream",
       "stream": "stdout",
       "text": [
        "\n",
        "LL = 87488.61172056878\n",
        "Param values 999.0764755007131,9.932115761231897e6\n",
        "0.09534401794710926\n",
        "52700"
       ]
      },
      {
       "output_type": "stream",
       "stream": "stdout",
       "text": [
        "\n",
        "LL = 87488.61172056878\n",
        "Param values 999.0764755007131,9.932115761231897e6\n",
        "0.09542875576386649\n",
        "52800"
       ]
      },
      {
       "output_type": "stream",
       "stream": "stdout",
       "text": [
        "\n",
        "LL = 87488.61172056878\n",
        "Param values 999.0764755007131,9.932115761231897e6\n",
        "0.09539953408208489\n",
        "52900"
       ]
      },
      {
       "output_type": "stream",
       "stream": "stdout",
       "text": [
        "\n",
        "LL = 87488.61172056878\n",
        "Param values 999.0764755007131,9.932115761231897e6\n",
        "0.09540823077940982\n",
        "53000"
       ]
      },
      {
       "output_type": "stream",
       "stream": "stdout",
       "text": [
        "\n",
        "LL = 87484.3292839497\n",
        "Param values 1028.8530692860732,1.019849436341763e7\n",
        "0.09537915809732259\n",
        "53100"
       ]
      },
      {
       "output_type": "stream",
       "stream": "stdout",
       "text": [
        "\n",
        "LL = 87487.3460176231\n",
        "Param values 991.8136971387755,1.0094151018134352e7\n",
        "0.09542552590444264\n",
        "53200"
       ]
      },
      {
       "output_type": "stream",
       "stream": "stdout",
       "text": [
        "\n",
        "LL = 87488.51836046892\n",
        "Param values 1009.1482248497239,1.0007983953180624e7\n",
        "0.09562209815973985\n",
        "53300"
       ]
      },
      {
       "output_type": "stream",
       "stream": "stdout",
       "text": [
        "\n",
        "LL = 87488.51836046892\n",
        "Param values 1009.1482248497239,1.0007983953180624e7\n",
        "0.09548021538865645\n",
        "53400"
       ]
      },
      {
       "output_type": "stream",
       "stream": "stdout",
       "text": [
        "\n",
        "LL = 87488.51836046892\n",
        "Param values 1009.1482248497239,1.0007983953180624e7\n",
        "0.09552613344819191\n",
        "53500"
       ]
      },
      {
       "output_type": "stream",
       "stream": "stdout",
       "text": [
        "\n",
        "LL = 87488.51836046892\n",
        "Param values 1009.1482248497239,1.0007983953180624e7\n",
        "0.09534757659021664\n",
        "53600"
       ]
      },
      {
       "output_type": "stream",
       "stream": "stdout",
       "text": [
        "\n",
        "LL = 87487.83493690738\n",
        "Param values 997.0230188230405,1.008900928452199e7\n",
        "0.09543088490456912\n",
        "53700"
       ]
      },
      {
       "output_type": "stream",
       "stream": "stdout",
       "text": [
        "\n",
        "LL = 87486.67534117408\n",
        "Param values 1001.9096040155861,1.0184342337906713e7\n",
        "0.09558837222294643\n",
        "53800"
       ]
      },
      {
       "output_type": "stream",
       "stream": "stdout",
       "text": [
        "\n",
        "LL = 87487.44639956817\n",
        "Param values 1009.6756289882612,1.0133225840003757e7\n",
        "0.09546645848435845\n",
        "53900"
       ]
      },
      {
       "output_type": "stream",
       "stream": "stdout",
       "text": [
        "\n",
        "LL = 87488.14277920654\n",
        "Param values 999.337303322298,9.848796463650204e6\n",
        "0.09553052932336407\n",
        "54000"
       ]
      },
      {
       "output_type": "stream",
       "stream": "stdout",
       "text": [
        "\n",
        "LL = 87488.14277920654\n",
        "Param values 999.337303322298,9.848796463650204e6\n",
        "0.09539065538250709\n",
        "54100"
       ]
      },
      {
       "output_type": "stream",
       "stream": "stdout",
       "text": [
        "\n",
        "LL = 87488.14277920654\n",
        "Param values 999.337303322298,9.848796463650204e6\n",
        "0.09532523706538014\n",
        "54200"
       ]
      },
      {
       "output_type": "stream",
       "stream": "stdout",
       "text": [
        "\n",
        "LL = 87487.82895335909\n",
        "Param values 996.1587361981739,9.828956555834752e6\n",
        "0.09537076329821584\n",
        "54300"
       ]
      },
      {
       "output_type": "stream",
       "stream": "stdout",
       "text": [
        "\n",
        "LL = 87487.82895335909\n",
        "Param values 996.1587361981739,9.828956555834752e6\n",
        "0.09541612184386453\n",
        "54400"
       ]
      },
      {
       "output_type": "stream",
       "stream": "stdout",
       "text": [
        "\n",
        "LL = 87487.54198108317\n",
        "Param values 999.210263894512,9.796604003821202e6\n",
        "0.09538778286365558\n",
        "54500"
       ]
      },
      {
       "output_type": "stream",
       "stream": "stdout",
       "text": [
        "\n",
        "LL = 87487.03792079064\n",
        "Param values 1001.8648211994583,9.761955937762901e6\n",
        "0.09545129268426944\n",
        "54600"
       ]
      },
      {
       "output_type": "stream",
       "stream": "stdout",
       "text": [
        "\n",
        "LL = 87487.6810911191\n",
        "Param values 994.1286145184231,9.825958059032688e6\n",
        "0.09544130844887269\n",
        "54700"
       ]
      },
      {
       "output_type": "stream",
       "stream": "stdout",
       "text": [
        "\n",
        "LL = 87487.6810911191\n",
        "Param values 994.1286145184231,9.825958059032688e6\n",
        "0.09544964258944405\n",
        "54800"
       ]
      },
      {
       "output_type": "stream",
       "stream": "stdout",
       "text": [
        "\n",
        "LL = 87488.61368591063\n",
        "Param values 1008.1524170013939,9.949500288299132e6\n",
        "0.09549444332925783\n",
        "54900"
       ]
      },
      {
       "output_type": "stream",
       "stream": "stdout",
       "text": [
        "\n",
        "LL = 87488.26589060944\n",
        "Param values 1003.2879642403508,1.0067157531709999e7\n",
        "0.09553908085757482\n",
        "55000"
       ]
      },
      {
       "output_type": "stream",
       "stream": "stdout",
       "text": [
        "\n",
        "LL = 87488.26589060944\n",
        "Param values 1003.2879642403508,1.0067157531709999e7\n",
        "0.09536537027945963\n",
        "55100"
       ]
      },
      {
       "output_type": "stream",
       "stream": "stdout",
       "text": [
        "\n",
        "LL = 87482.3734734406\n",
        "Param values 1005.6995178104529,9.579136115458198e6\n",
        "0.09526488684005155\n",
        "55200"
       ]
      },
      {
       "output_type": "stream",
       "stream": "stdout",
       "text": [
        "\n",
        "LL = 87486.23623502327\n",
        "Param values 985.1971303543904,9.781579001591431e6\n",
        "0.09527346509900542\n",
        "55300"
       ]
      },
      {
       "output_type": "stream",
       "stream": "stdout",
       "text": [
        "\n",
        "LL = 87488.00150155708\n",
        "Param values 1009.506814603556,1.0085620723163858e7\n",
        "0.09526392882330603\n",
        "55400"
       ]
      },
      {
       "output_type": "stream",
       "stream": "stdout",
       "text": [
        "\n",
        "LL = 87488.64609262986\n",
        "Param values 1002.1651685965746,1.000088855652153e7\n",
        "0.09536273217928122\n",
        "55500"
       ]
      },
      {
       "output_type": "stream",
       "stream": "stdout",
       "text": [
        "\n",
        "LL = 87488.64609262986\n",
        "Param values 1002.1651685965746,1.000088855652153e7\n",
        "0.09529901439665579\n",
        "55600"
       ]
      },
      {
       "output_type": "stream",
       "stream": "stdout",
       "text": [
        "\n",
        "LL = 87488.64609262986\n",
        "Param values 1002.1651685965746,1.000088855652153e7\n",
        "0.09516358207881437\n",
        "55700"
       ]
      },
      {
       "output_type": "stream",
       "stream": "stdout",
       "text": [
        "\n",
        "LL = 87488.64609262986\n",
        "Param values 1002.1651685965746,1.000088855652153e7\n",
        "0.09502863606168872\n",
        "55800"
       ]
      },
      {
       "output_type": "stream",
       "stream": "stdout",
       "text": [
        "\n",
        "LL = 87488.11927249772\n",
        "Param values 991.3872669046557,9.932666570262216e6\n",
        "0.09519883868886539\n",
        "55900"
       ]
      },
      {
       "output_type": "stream",
       "stream": "stdout",
       "text": [
        "\n",
        "LL = 87488.11927249772\n",
        "Param values 991.3872669046557,9.932666570262216e6\n",
        "0.09506431242061575\n",
        "56000"
       ]
      },
      {
       "output_type": "stream",
       "stream": "stdout",
       "text": [
        "\n",
        "LL = 87487.62813052228\n",
        "Param values 1004.7042903848517,1.012626020210987e7\n",
        "0.0951981285380096\n",
        "56100"
       ]
      },
      {
       "output_type": "stream",
       "stream": "stdout",
       "text": [
        "\n",
        "LL = 87487.78038966525\n",
        "Param values 1017.1928429494392,9.908841473716313e6\n",
        "0.09526016506533093\n",
        "56200"
       ]
      },
      {
       "output_type": "stream",
       "stream": "stdout",
       "text": [
        "\n",
        "LL = 87487.67715814935\n",
        "Param values 988.683050280886,9.886567616786044e6\n",
        "0.09533977472908771\n",
        "56300"
       ]
      },
      {
       "output_type": "stream",
       "stream": "stdout",
       "text": [
        "\n",
        "LL = 87487.67715814935\n",
        "Param values 988.683050280886,9.886567616786044e6\n",
        "0.09520595392458125\n",
        "56400"
       ]
      },
      {
       "output_type": "stream",
       "stream": "stdout",
       "text": [
        "\n",
        "LL = 87487.67715814935\n",
        "Param values 988.683050280886,9.886567616786044e6\n",
        "0.09521445415698859\n",
        "56500"
       ]
      },
      {
       "output_type": "stream",
       "stream": "stdout",
       "text": [
        "\n",
        "LL = 87488.04919451657\n",
        "Param values 991.2358443962523,9.99290141551954e6\n",
        "0.09532912086939592\n",
        "56600"
       ]
      },
      {
       "output_type": "stream",
       "stream": "stdout",
       "text": [
        "\n",
        "LL = 87488.04919451657\n",
        "Param values 991.2358443962523,9.99290141551954e6\n",
        "0.09533737345182777\n",
        "56700"
       ]
      },
      {
       "output_type": "stream",
       "stream": "stdout",
       "text": [
        "\n",
        "LL = 87488.04919451657\n",
        "Param values 991.2358443962523,9.99290141551954e6\n",
        "0.09532795992874654\n",
        "56800"
       ]
      },
      {
       "output_type": "stream",
       "stream": "stdout",
       "text": [
        "\n",
        "LL = 87488.66513207478\n",
        "Param values 1006.9799041451437,9.967168103155503e6\n",
        "0.09531857955245691\n",
        "56900"
       ]
      },
      {
       "output_type": "stream",
       "stream": "stdout",
       "text": [
        "\n",
        "LL = 87488.66513207478\n",
        "Param values 1006.9799041451437,9.967168103155503e6\n",
        "0.09529165714687429\n",
        "57000"
       ]
      },
      {
       "output_type": "stream",
       "stream": "stdout",
       "text": [
        "\n",
        "LL = 87488.66513207478\n",
        "Param values 1006.9799041451437,9.967168103155503e6\n",
        "0.09515956420288076\n",
        "57100"
       ]
      },
      {
       "output_type": "stream",
       "stream": "stdout",
       "text": [
        "\n",
        "LL = 87488.66513207478\n",
        "Param values 1006.9799041451437,9.967168103155503e6\n",
        "0.09502793393929841\n",
        "57200"
       ]
      },
      {
       "output_type": "stream",
       "stream": "stdout",
       "text": [
        "\n",
        "LL = 87488.22134373196\n",
        "Param values 1006.7993364922929,9.861999461863272e6\n",
        "0.09510655780695466\n",
        "57300"
       ]
      },
      {
       "output_type": "stream",
       "stream": "stdout",
       "text": [
        "\n",
        "LL = 87487.48458814368\n",
        "Param values 990.9667124281499,9.830865890443666e6\n",
        "0.0950627410600534\n",
        "57400"
       ]
      },
      {
       "output_type": "stream",
       "stream": "stdout",
       "text": [
        "\n",
        "LL = 87487.48458814368\n",
        "Param values 990.9667124281499,9.830865890443666e6\n",
        "0.09500165508109898\n",
        "57500"
       ]
      },
      {
       "output_type": "stream",
       "stream": "stdout",
       "text": [
        "\n",
        "LL = 87487.32398600031\n",
        "Param values 1020.1071167130284,9.894381144962199e6\n",
        "0.09506252282648393\n",
        "57600"
       ]
      },
      {
       "output_type": "stream",
       "stream": "stdout",
       "text": [
        "\n",
        "LL = 87487.32398600031\n",
        "Param values 1020.1071167130284,9.894381144962199e6\n",
        "0.09496692650914078\n",
        "57700"
       ]
      },
      {
       "output_type": "stream",
       "stream": "stdout",
       "text": [
        "\n",
        "LL = 87488.0553463048\n",
        "Param values 1016.1943333970422,9.956921416992169e6\n",
        "0.09501031213712542\n",
        "57800"
       ]
      },
      {
       "output_type": "stream",
       "stream": "stdout",
       "text": [
        "\n",
        "LL = 87488.0553463048\n",
        "Param values 1016.1943333970422,9.956921416992169e6\n",
        "0.09494973961487223\n",
        "57900"
       ]
      },
      {
       "output_type": "stream",
       "stream": "stdout",
       "text": [
        "\n",
        "LL = 87488.0553463048\n",
        "Param values 1016.1943333970422,9.956921416992169e6\n",
        "0.09488937632774314\n",
        "58000"
       ]
      },
      {
       "output_type": "stream",
       "stream": "stdout",
       "text": [
        "\n",
        "LL = 87488.34285343462\n",
        "Param values 998.5191051564971,1.0040293661462625e7\n",
        "0.09488094622321075\n",
        "58100"
       ]
      },
      {
       "output_type": "stream",
       "stream": "stdout",
       "text": [
        "\n",
        "LL = 87487.29753809194\n",
        "Param values 1003.8216185348572,1.0149162742669988e7\n",
        "0.0949758171397098\n",
        "58200"
       ]
      },
      {
       "output_type": "stream",
       "stream": "stdout",
       "text": [
        "\n",
        "LL = 87487.752430957\n",
        "Param values 1001.8052927958968,9.810308551210536e6\n",
        "0.09501881475626729\n",
        "58300"
       ]
      },
      {
       "output_type": "stream",
       "stream": "stdout",
       "text": [
        "\n",
        "LL = 87488.06294438078\n",
        "Param values 1016.2408411778362,9.97236298913009e6\n",
        "0.09525034734729583\n",
        "58400"
       ]
      },
      {
       "output_type": "stream",
       "stream": "stdout",
       "text": [
        "\n",
        "LL = 87485.95534655236\n",
        "Param values 1029.640489710886,9.949400973038517e6\n",
        "0.09548108700491446\n",
        "58500"
       ]
      },
      {
       "output_type": "stream",
       "stream": "stdout",
       "text": [
        "\n",
        "LL = 87488.5597089416\n",
        "Param values 1000.5316016283695,1.0014739278273562e7\n",
        "0.09550590608386468\n",
        "58600"
       ]
      },
      {
       "output_type": "stream",
       "stream": "stdout",
       "text": [
        "\n",
        "LL = 87485.91967728711\n",
        "Param values 999.9726720863578,1.0219258284908226e7\n",
        "0.09539411935357259\n",
        "58700"
       ]
      },
      {
       "output_type": "stream",
       "stream": "stdout",
       "text": [
        "\n",
        "LL = 87486.51651243484\n",
        "Param values 1007.8776397927209,1.0194676057980293e7\n",
        "0.0955723266154449\n",
        "58800"
       ]
      },
      {
       "output_type": "stream",
       "stream": "stdout",
       "text": [
        "\n",
        "LL = 87488.6270598051\n",
        "Param values 1005.9848465595667,9.926195433797983e6\n",
        "0.09576693481181653\n",
        "58900"
       ]
      },
      {
       "output_type": "stream",
       "stream": "stdout",
       "text": [
        "\n",
        "LL = 87488.6270598051\n",
        "Param values 1005.9848465595667,9.926195433797983e6\n",
        "0.09563829606614713\n",
        "59000"
       ]
      },
      {
       "output_type": "stream",
       "stream": "stdout",
       "text": [
        "\n",
        "LL = 87488.32249899974\n",
        "Param values 997.8459449271065,1.0038503321475986e7\n",
        "0.09576433498872862\n",
        "59100"
       ]
      },
      {
       "output_type": "stream",
       "stream": "stdout",
       "text": [
        "\n",
        "LL = 87487.61706836606\n",
        "Param values 997.3865390698121,1.0109619555409936e7\n",
        "0.09594070965667778\n",
        "59200"
       ]
      },
      {
       "output_type": "stream",
       "stream": "stdout",
       "text": [
        "\n",
        "LL = 87487.7274868247\n",
        "Param values 988.2843782299998,9.909239127755243e6\n",
        "0.09609959627696414\n",
        "59300"
       ]
      },
      {
       "output_type": "stream",
       "stream": "stdout",
       "text": [
        "\n",
        "LL = 87486.9913701747\n",
        "Param values 1007.0112101216757,1.0168254584544826e7\n",
        "0.09617362856034671\n",
        "59400"
       ]
      },
      {
       "output_type": "stream",
       "stream": "stdout",
       "text": [
        "\n",
        "LL = 87487.40688017748\n",
        "Param values 997.4902362154317,1.012612024436434e7\n",
        "0.09618007037155507\n",
        "59500"
       ]
      },
      {
       "output_type": "stream",
       "stream": "stdout",
       "text": [
        "\n",
        "LL = 87487.53380481446\n",
        "Param values 1012.9032534267341,1.0113056196019847e7\n",
        "0.09615287651893309\n",
        "59600"
       ]
      },
      {
       "output_type": "stream",
       "stream": "stdout",
       "text": [
        "\n",
        "LL = 87486.77865466582\n",
        "Param values 983.4903962364963,1.0034176485868782e7\n",
        "0.09607543750734072\n",
        "59700"
       ]
      },
      {
       "output_type": "stream",
       "stream": "stdout",
       "text": [
        "\n",
        "LL = 87486.77865466582\n",
        "Param values 983.4903962364963,1.0034176485868782e7\n",
        "0.09608201142397695\n",
        "59800"
       ]
      },
      {
       "output_type": "stream",
       "stream": "stdout",
       "text": [
        "\n",
        "LL = 87486.77865466582\n",
        "Param values 983.4903962364963,1.0034176485868782e7\n",
        "0.0959715045402097\n",
        "59900"
       ]
      },
      {
       "output_type": "stream",
       "stream": "stdout",
       "text": [
        "\n",
        "LL = 87486.72378849812\n",
        "Param values 996.2592372958757,9.750060510971e6\n",
        "0.09599492479006327\n",
        "60000"
       ]
      },
      {
       "output_type": "stream",
       "stream": "stdout",
       "text": [
        "\n",
        "LL = 87488.33909863785\n",
        "Param values 1007.4669817784252,1.0053296107231809e7\n",
        "0.0958849314155236\n",
        "60100"
       ]
      },
      {
       "output_type": "stream",
       "stream": "stdout",
       "text": [
        "\n",
        "LL = 87487.9179487089\n",
        "Param values 1004.0815492251513,9.825279273741305e6\n",
        "0.09577530408159869\n",
        "60200"
       ]
      },
      {
       "output_type": "stream",
       "stream": "stdout",
       "text": [
        "\n",
        "LL = 87487.9179487089\n",
        "Param values 1004.0815492251513,9.825279273741305e6\n",
        "0.09561620624927325\n",
        "60300"
       ]
      },
      {
       "output_type": "stream",
       "stream": "stdout",
       "text": [
        "\n",
        "LL = 87488.51173597608\n",
        "Param values 1000.6239162155495,1.0024986916258296e7\n",
        "0.09559030829698668\n",
        "60400"
       ]
      },
      {
       "output_type": "stream",
       "stream": "stdout",
       "text": [
        "\n",
        "LL = 87488.51173597608\n",
        "Param values 1000.6239162155495,1.0024986916258296e7\n",
        "0.09546515670789252\n",
        "60500"
       ]
      },
      {
       "output_type": "stream",
       "stream": "stdout",
       "text": [
        "\n",
        "LL = 87487.68382999259\n",
        "Param values 992.7930712438756,1.0071644117563268e7\n",
        "0.09535694804872807\n",
        "60600"
       ]
      },
      {
       "output_type": "stream",
       "stream": "stdout",
       "text": [
        "\n",
        "LL = 87483.19458629163\n",
        "Param values 969.8076393722799,9.785553581333123e6\n",
        "0.0954801234343801\n",
        "60700"
       ]
      },
      {
       "output_type": "stream",
       "stream": "stdout",
       "text": [
        "\n",
        "LL = 87486.08671050577\n",
        "Param values 1028.922041935934,1.0027189860718539e7\n",
        "0.09552051928367848\n",
        "60800"
       ]
      },
      {
       "output_type": "stream",
       "stream": "stdout",
       "text": [
        "\n",
        "LL = 87485.77935778661\n",
        "Param values 977.6488788858144,9.863762163279144e6\n",
        "0.0955278869718252\n",
        "60900"
       ]
      },
      {
       "output_type": "stream",
       "stream": "stdout",
       "text": [
        "\n",
        "LL = 87487.52825285678\n",
        "Param values 998.0208382211661,9.79790044511814e6\n",
        "0.09553523046355442\n",
        "61000"
       ]
      },
      {
       "output_type": "stream",
       "stream": "stdout",
       "text": [
        "\n",
        "LL = 87487.52825285678\n",
        "Param values 998.0208382211661,9.79790044511814e6\n",
        "0.09573927441433466\n",
        "61100"
       ]
      },
      {
       "output_type": "stream",
       "stream": "stdout",
       "text": [
        "\n",
        "LL = 87487.82396551661\n",
        "Param values 1004.9036486623581,9.818721625344789e6\n",
        "0.0957462478927642\n",
        "61200"
       ]
      },
      {
       "output_type": "stream",
       "stream": "stdout",
       "text": [
        "\n",
        "LL = 87487.82396551661\n",
        "Param values 1004.9036486623581,9.818721625344789e6\n",
        "0.0957205183091227\n",
        "61300"
       ]
      },
      {
       "output_type": "stream",
       "stream": "stdout",
       "text": [
        "\n",
        "LL = 87482.30877501958\n",
        "Param values 974.5275663938633,9.670142464701721e6\n",
        "0.09584169399174539\n",
        "61400"
       ]
      },
      {
       "output_type": "stream",
       "stream": "stdout",
       "text": [
        "\n",
        "LL = 87487.021435583\n",
        "Param values 986.4983736646202,9.83385981536903e6\n",
        "0.09592990113845502\n",
        "61500"
       ]
      },
      {
       "output_type": "stream",
       "stream": "stdout",
       "text": [
        "\n",
        "LL = 87487.81403986728\n",
        "Param values 1005.0364168709109,9.818165399080189e6\n",
        "0.09593651929299664\n",
        "61600"
       ]
      },
      {
       "output_type": "stream",
       "stream": "stdout",
       "text": [
        "\n",
        "LL = 87486.06167421972\n",
        "Param values 1029.277914457476,9.961982983558176e6\n",
        "0.09594311595967467\n",
        "61700"
       ]
      },
      {
       "output_type": "stream",
       "stream": "stdout",
       "text": [
        "\n",
        "LL = 87487.12168285166\n",
        "Param values 1021.3394217399072,9.890656086365568e6\n",
        "0.09591727580673917\n",
        "61800"
       ]
      },
      {
       "output_type": "stream",
       "stream": "stdout",
       "text": [
        "\n",
        "LL = 87487.12168285166\n",
        "Param values 1021.3394217399072,9.890656086365568e6\n",
        "0.09585915629702746\n",
        "61900"
       ]
      },
      {
       "output_type": "stream",
       "stream": "stdout",
       "text": [
        "\n",
        "LL = 87487.12168285166\n",
        "Param values 1021.3394217399072,9.890656086365568e6\n",
        "0.09583353527520638\n",
        "62000"
       ]
      },
      {
       "output_type": "stream",
       "stream": "stdout",
       "text": [
        "\n",
        "LL = 87485.20034683101\n",
        "Param values 1016.6893196604526,1.0237961019206762e7\n",
        "0.09584025548799174\n",
        "62100"
       ]
      },
      {
       "output_type": "stream",
       "stream": "stdout",
       "text": [
        "\n",
        "LL = 87487.94304167465\n",
        "Param values 997.1602572377564,1.0079436315178137e7\n",
        "0.09616902043511168\n",
        "62200"
       ]
      },
      {
       "output_type": "stream",
       "stream": "stdout",
       "text": [
        "\n",
        "LL = 87487.30114438852\n",
        "Param values 1000.2415143521317,1.0143008368687512e7\n",
        "0.0963520313831412\n",
        "62300"
       ]
      },
      {
       "output_type": "stream",
       "stream": "stdout",
       "text": [
        "\n",
        "LL = 87485.13263402645\n",
        "Param values 1028.3986892418989,1.0151551723007701e7\n",
        "0.09656655805069102\n",
        "62400"
       ]
      },
      {
       "output_type": "stream",
       "stream": "stdout",
       "text": [
        "\n",
        "LL = 87488.20062873876\n",
        "Param values 1006.280860151981,1.0073593741227245e7\n",
        "0.09660411224538855\n",
        "62500"
       ]
      },
      {
       "output_type": "stream",
       "stream": "stdout",
       "text": [
        "\n",
        "LL = 87487.67125079289\n",
        "Param values 997.534138188686,9.81022529929549e6\n",
        "0.09659354549672795\n",
        "62600"
       ]
      },
      {
       "output_type": "stream",
       "stream": "stdout",
       "text": [
        "\n",
        "LL = 87487.84677528823\n",
        "Param values 997.8324577451572,1.009222884006838e7\n",
        "0.0967267847729197\n",
        "62700"
       ]
      },
      {
       "output_type": "stream",
       "stream": "stdout",
       "text": [
        "\n",
        "LL = 87487.84677528823\n",
        "Param values 997.8324577451572,1.009222884006838e7\n",
        "0.09670010685975852\n",
        "62800"
       ]
      },
      {
       "output_type": "stream",
       "stream": "stdout",
       "text": [
        "\n",
        "LL = 87487.45891583728\n",
        "Param values 1017.0910660148911,1.0087124241953123e7\n",
        "0.09665759008901416\n",
        "62900"
       ]
      },
      {
       "output_type": "stream",
       "stream": "stdout",
       "text": [
        "\n",
        "LL = 87487.45891583728\n",
        "Param values 1017.0910660148911,1.0087124241953123e7\n",
        "0.09658341150097775\n",
        "63000"
       ]
      },
      {
       "output_type": "stream",
       "stream": "stdout",
       "text": [
        "\n",
        "LL = 87487.45891583728\n",
        "Param values 1017.0910660148911,1.0087124241953123e7\n",
        "0.09655708820774933\n",
        "63100"
       ]
      },
      {
       "output_type": "stream",
       "stream": "stdout",
       "text": [
        "\n",
        "LL = 87487.45891583728\n",
        "Param values 1017.0910660148911,1.0087124241953123e7\n",
        "0.09656254457281414\n",
        "63200"
       ]
      },
      {
       "output_type": "stream",
       "stream": "stdout",
       "text": [
        "\n",
        "LL = 87488.24354006059\n",
        "Param values 1001.8425319119876,1.0067300762543993e7\n",
        "0.09655216063545309\n",
        "63300"
       ]
      },
      {
       "output_type": "stream",
       "stream": "stdout",
       "text": [
        "\n",
        "LL = 87488.23211096249\n",
        "Param values 997.9329807636691,9.86431456679957e6\n",
        "0.09647861735572442\n",
        "63400"
       ]
      },
      {
       "output_type": "stream",
       "stream": "stdout",
       "text": [
        "\n",
        "LL = 87488.04492081578\n",
        "Param values 1013.8419841605545,1.0048294566030527e7\n",
        "0.09646839855518226\n",
        "63500"
       ]
      },
      {
       "output_type": "stream",
       "stream": "stdout",
       "text": [
        "\n",
        "LL = 87488.04492081578\n",
        "Param values 1013.8419841605545,1.0048294566030527e7\n",
        "0.0963794705428432\n",
        "63600"
       ]
      },
      {
       "output_type": "stream",
       "stream": "stdout",
       "text": [
        "\n",
        "LL = 87488.66525774078\n",
        "Param values 1001.5764108790556,9.99116164301045e6\n",
        "0.09640088680639633\n",
        "63700"
       ]
      },
      {
       "output_type": "stream",
       "stream": "stdout",
       "text": [
        "\n",
        "LL = 87488.66525774078\n",
        "Param values 1001.5764108790556,9.99116164301045e6\n",
        "0.09634374165999467\n",
        "63800"
       ]
      },
      {
       "output_type": "stream",
       "stream": "stdout",
       "text": [
        "\n",
        "LL = 87488.66525774078\n",
        "Param values 1001.5764108790556,9.99116164301045e6\n",
        "0.09634947256226586\n",
        "63900"
       ]
      },
      {
       "output_type": "stream",
       "stream": "stdout",
       "text": [
        "\n",
        "LL = 87488.66525774078\n",
        "Param values 1001.5764108790556,9.99116164301045e6\n",
        "0.09629258673844661\n",
        "64000"
       ]
      },
      {
       "output_type": "stream",
       "stream": "stdout",
       "text": [
        "\n",
        "LL = 87488.66525774078\n",
        "Param values 1001.5764108790556,9.99116164301045e6\n",
        "0.09639213112704886\n",
        "64100"
       ]
      },
      {
       "output_type": "stream",
       "stream": "stdout",
       "text": [
        "\n",
        "LL = 87487.6987363513\n",
        "Param values 1019.3016080265562,9.997884353997186e6\n",
        "0.09650696578729777\n",
        "64200"
       ]
      },
      {
       "output_type": "stream",
       "stream": "stdout",
       "text": [
        "\n",
        "LL = 87487.63928498632\n",
        "Param values 991.5675484283319,1.0063467114300825e7\n",
        "0.09655913643514696\n",
        "64300"
       ]
      },
      {
       "output_type": "stream",
       "stream": "stdout",
       "text": [
        "\n",
        "LL = 87488.29873894562\n",
        "Param values 996.4246902749769,9.883385766180392e6\n",
        "0.09645562139380083\n",
        "64400"
       ]
      },
      {
       "output_type": "stream",
       "stream": "stdout",
       "text": [
        "\n",
        "LL = 87488.29873894562\n",
        "Param values 996.4246902749769,9.883385766180392e6\n",
        "0.09649218155561422\n",
        "64500"
       ]
      },
      {
       "output_type": "stream",
       "stream": "stdout",
       "text": [
        "\n",
        "LL = 87487.86945877243\n",
        "Param values 993.5590756972969,9.849204534777265e6\n",
        "0.09654413246717003\n",
        "64600"
       ]
      },
      {
       "output_type": "stream",
       "stream": "stdout",
       "text": [
        "\n",
        "LL = 87488.15564042183\n",
        "Param values 1003.9956177592478,1.0079815606710434e7\n",
        "0.09653400207433552\n",
        "64700"
       ]
      },
      {
       "output_type": "stream",
       "stream": "stdout",
       "text": [
        "\n",
        "LL = 87488.08963940103\n",
        "Param values 1015.8336137558698,9.992399526623497e6\n",
        "0.09658572775467936\n",
        "64800"
       ]
      },
      {
       "output_type": "stream",
       "stream": "stdout",
       "text": [
        "\n",
        "LL = 87488.58966200924\n",
        "Param values 999.551817939652,9.999464295264358e6\n",
        "0.09654469976388524\n",
        "64900"
       ]
      },
      {
       "output_type": "stream",
       "stream": "stdout",
       "text": [
        "\n",
        "LL = 87486.66069843968\n",
        "Param values 1005.3047912816268,1.0187985841252502e7\n",
        "0.09651920676743864\n",
        "65000"
       ]
      },
      {
       "output_type": "stream",
       "stream": "stdout",
       "text": [
        "\n",
        "LL = 87485.85436298953\n",
        "Param values 1029.9403601509289,9.938536431950489e6\n",
        "0.09653994676841182\n",
        "65100"
       ]
      },
      {
       "output_type": "stream",
       "stream": "stdout",
       "text": [
        "\n",
        "LL = 87488.42208939945\n",
        "Param values 1006.7559521764948,9.88832323601068e6\n",
        "0.09666815158450974\n",
        "65200"
       ]
      },
      {
       "output_type": "stream",
       "stream": "stdout",
       "text": [
        "\n",
        "LL = 87488.42208939945\n",
        "Param values 1006.7559521764948,9.88832323601068e6\n",
        "0.09664258654273838\n",
        "65300"
       ]
      },
      {
       "output_type": "stream",
       "stream": "stdout",
       "text": [
        "\n",
        "LL = 87488.31890922427\n",
        "Param values 1009.7786274961211,9.893206596642919e6\n",
        "0.09669367065345565\n",
        "65400"
       ]
      },
      {
       "output_type": "stream",
       "stream": "stdout",
       "text": [
        "\n",
        "LL = 87488.31890922427\n",
        "Param values 1009.7786274961211,9.893206596642919e6\n",
        "0.09666814477285586\n",
        "65500"
       ]
      },
      {
       "output_type": "stream",
       "stream": "stdout",
       "text": [
        "\n",
        "LL = 87486.09469806601\n",
        "Param values 994.6470518677693,9.720488480512269e6\n",
        "0.09671903387837982\n",
        "65600"
       ]
      },
      {
       "output_type": "stream",
       "stream": "stdout",
       "text": [
        "\n",
        "LL = 87488.08815420486\n",
        "Param values 1009.0286877855807,1.0078284460286882e7\n",
        "0.09673927956218845\n",
        "65700"
       ]
      },
      {
       "output_type": "stream",
       "stream": "stdout",
       "text": [
        "\n",
        "LL = 87487.63380790726\n",
        "Param values 998.6509908567981,9.804507098965563e6\n",
        "0.09685078920531515\n",
        "65800"
       ]
      },
      {
       "output_type": "stream",
       "stream": "stdout",
       "text": [
        "\n",
        "LL = 87487.63380790726\n",
        "Param values 998.6509908567981,9.804507098965563e6\n",
        "0.09677958631590146\n",
        "65900"
       ]
      },
      {
       "output_type": "stream",
       "stream": "stdout",
       "text": [
        "\n",
        "LL = 87487.63380790726\n",
        "Param values 998.6509908567981,9.804507098965563e6\n",
        "0.09678447320900166\n",
        "66000"
       ]
      },
      {
       "output_type": "stream",
       "stream": "stdout",
       "text": [
        "\n",
        "LL = 87487.29385679908\n",
        "Param values 1018.8422447273042,9.869365824515034e6\n",
        "0.0967741935483871\n",
        "66100"
       ]
      },
      {
       "output_type": "stream",
       "stream": "stdout",
       "text": [
        "\n",
        "LL = 87488.07111600318\n",
        "Param values 1002.2908104029091,1.0086445407859886e7\n",
        "0.09688497556695261\n",
        "66200"
       ]
      },
      {
       "output_type": "stream",
       "stream": "stdout",
       "text": [
        "\n",
        "LL = 87487.1677924531\n",
        "Param values 990.8849734533251,1.0100650246604592e7\n",
        "0.09702563482832068\n",
        "66300"
       ]
      },
      {
       "output_type": "stream",
       "stream": "stdout",
       "text": [
        "\n",
        "LL = 87487.12427054976\n",
        "Param values 1016.558531537458,1.0123365341318669e7\n",
        "0.09722620250682514\n",
        "66400"
       ]
      },
      {
       "output_type": "stream",
       "stream": "stdout",
       "text": [
        "\n",
        "LL = 87487.04011122363\n",
        "Param values 997.7272205433648,9.765649196208257e6\n",
        "0.09733580325004895\n",
        "66500"
       ]
      },
      {
       "output_type": "stream",
       "stream": "stdout",
       "text": [
        "\n",
        "LL = 87487.04011122363\n",
        "Param values 997.7272205433648,9.765649196208257e6\n",
        "0.09730973398096213\n",
        "66600"
       ]
      },
      {
       "output_type": "stream",
       "stream": "stdout",
       "text": [
        "\n",
        "LL = 87487.04011122363\n",
        "Param values 997.7272205433648,9.765649196208257e6\n",
        "0.09728374299914413\n",
        "66700"
       ]
      },
      {
       "output_type": "stream",
       "stream": "stdout",
       "text": [
        "\n",
        "LL = 87487.04011122363\n",
        "Param values 997.7272205433648,9.765649196208257e6\n",
        "0.09725782995247305\n",
        "66800"
       ]
      },
      {
       "output_type": "stream",
       "stream": "stdout",
       "text": [
        "\n",
        "LL = 87487.16063786276\n",
        "Param values 1006.6313204140723,9.77561053924742e6\n",
        "0.0972170242069492\n",
        "66900"
       ]
      },
      {
       "output_type": "stream",
       "stream": "stdout",
       "text": [
        "\n",
        "LL = 87487.29728074497\n",
        "Param values 989.9203823690293,9.822515330528041e6\n",
        "0."
       ]
      },
      {
       "output_type": "stream",
       "stream": "stdout",
       "text": [
        "09731087161243068\n",
        "67000"
       ]
      },
      {
       "output_type": "stream",
       "stream": "stdout",
       "text": [
        "\n",
        "LL = 87487.29728074497\n",
        "Param values 989.9203823690293,9.822515330528041e6\n",
        "0.09759847161897939\n",
        "67100"
       ]
      },
      {
       "output_type": "stream",
       "stream": "stdout",
       "text": [
        "\n",
        "LL = 87487.61899590807\n",
        "Param values 1014.0840140757139,1.0097684535746971e7\n",
        "0.09752753394238364\n",
        "67200"
       ]
      },
      {
       "output_type": "stream",
       "stream": "stdout",
       "text": [
        "\n",
        "LL = 87488.38392749359\n",
        "Param values 1010.7921630358899,1.0022198195104484e7\n",
        "0.09762050030506407\n",
        "67300"
       ]
      },
      {
       "output_type": "stream",
       "stream": "stdout",
       "text": [
        "\n",
        "LL = 87488.58427447046\n",
        "Param values 1002.6782853333543,9.906142313606916e6\n",
        "0.09754974070937161\n",
        "67400"
       ]
      },
      {
       "output_type": "stream",
       "stream": "stdout",
       "text": [
        "\n",
        "LL = 87488.58427447046\n",
        "Param values 1002.6782853333543,9.906142313606916e6\n",
        "0.0977314203474829\n",
        "67500"
       ]
      },
      {
       "output_type": "stream",
       "stream": "stdout",
       "text": [
        "\n",
        "LL = 87486.6980557703\n",
        "Param values 985.7547661293935,1.0082380954009987e7\n",
        "0.0977199662217218\n",
        "67600"
       ]
      },
      {
       "output_type": "stream",
       "stream": "stdout",
       "text": [
        "\n",
        "LL = 87486.6980557703\n",
        "Param values 985.7547661293935,1.0082380954009987e7\n",
        "0.09772333910264945\n",
        "67700"
       ]
      },
      {
       "output_type": "stream",
       "stream": "stdout",
       "text": [
        "\n",
        "LL = 87488.49425595558\n",
        "Param values 996.544742113693,9.928235317158446e6\n",
        "0.09783010088775314\n",
        "67800"
       ]
      },
      {
       "output_type": "stream",
       "stream": "stdout",
       "text": [
        "\n",
        "LL = 87488.49425595558\n",
        "Param values 996.544742113693,9.928235317158446e6\n",
        "0.09771530553547987\n",
        "67900"
       ]
      },
      {
       "output_type": "stream",
       "stream": "stdout",
       "text": [
        "\n",
        "LL = 87488.13590089443\n",
        "Param values 1007.7078943656238,9.85638466665878e6\n",
        "0.09771867037806153\n",
        "68000"
       ]
      },
      {
       "output_type": "stream",
       "stream": "stdout",
       "text": [
        "\n",
        "LL = 87488.33629343458\n",
        "Param values 1002.0454339157928,1.0056537919875583e7\n",
        "0.0978837924087119\n",
        "68100"
       ]
      },
      {
       "output_type": "stream",
       "stream": "stdout",
       "text": [
        "\n",
        "LL = 87488.23309801142\n",
        "Param values 1006.6010227451732,9.862577847052973e6\n",
        "0.09797500697513914\n",
        "68200"
       ]
      },
      {
       "output_type": "stream",
       "stream": "stdout",
       "text": [
        "\n",
        "LL = 87488.23309801142\n",
        "Param values 1006.6010227451732,9.862577847052973e6\n",
        "0.09786067244387747\n",
        "68300"
       ]
      },
      {
       "output_type": "stream",
       "stream": "stdout",
       "text": [
        "\n",
        "LL = 87488.06496898222\n",
        "Param values 1011.4716311810924,1.0067673019419054e7\n",
        "0.0978638047409186\n",
        "68400"
       ]
      },
      {
       "output_type": "stream",
       "stream": "stdout",
       "text": [
        "\n",
        "LL = 87488.06496898222\n",
        "Param values 1011.4716311810924,1.0067673019419054e7\n",
        "0.09789616807263264\n",
        "68500"
       ]
      },
      {
       "output_type": "stream",
       "stream": "stdout",
       "text": [
        "\n",
        "LL = 87488.06496898222\n",
        "Param values 1011.4716311810924,1.0067673019419054e7\n",
        "0.09789923940495482\n",
        "68600"
       ]
      },
      {
       "output_type": "stream",
       "stream": "stdout",
       "text": [
        "\n",
        "LL = 87486.10748521943\n",
        "Param values 978.997923439172,9.873439648449687e6\n",
        "0.09798976661467368\n",
        "68700"
       ]
      },
      {
       "output_type": "stream",
       "stream": "stdout",
       "text": [
        "\n",
        "LL = 87486.69687221784\n",
        "Param values 1025.950723165538,1.000379764805613e7\n",
        "0.09805091777172885\n",
        "68800"
       ]
      },
      {
       "output_type": "stream",
       "stream": "stdout",
       "text": [
        "\n",
        "LL = 87483.68382749369\n",
        "Param values 977.3534206633194,1.017455668123255e7\n",
        "0.09815549644616928\n",
        "68900"
       ]
      },
      {
       "output_type": "stream",
       "stream": "stdout",
       "text": [
        "\n",
        "LL = 87488.04364890167\n",
        "Param values 999.7636295028934,1.0082093052325046e7\n",
        "0.09834685554217042\n",
        "69000"
       ]
      },
      {
       "output_type": "stream",
       "stream": "stdout",
       "text": [
        "\n",
        "LL = 87483.41299440403\n",
        "Param values 976.2283065524693,1.017481613179838e7\n",
        "0.09849418107508805\n",
        "69100"
       ]
      },
      {
       "output_type": "stream",
       "stream": "stdout",
       "text": [
        "\n",
        "LL = 87487.21628218301\n",
        "Param values 1005.0939913102113,9.775837277396677e6\n",
        "0.09856872024197166\n",
        "69200"
       ]
      },
      {
       "output_type": "stream",
       "stream": "stdout",
       "text": [
        "\n",
        "LL = 87488.0881021706\n",
        "Param values 992.9554806676416,9.885922722286863e6\n",
        "0.09861414182285871\n",
        "69300"
       ]
      },
      {
       "output_type": "stream",
       "stream": "stdout",
       "text": [
        "\n",
        "LL = 87488.0881021706\n",
        "Param values 992.9554806676416,9.885922722286863e6\n",
        "0.09865943231504062\n",
        "69400"
       ]
      },
      {
       "output_type": "stream",
       "stream": "stdout",
       "text": [
        "\n",
        "LL = 87488.31150039917\n",
        "Param values 1000.5468634972578,1.0055104619410425e7\n",
        "0.09867577342613006\n",
        "69500"
       ]
      },
      {
       "output_type": "stream",
       "stream": "stdout",
       "text": [
        "\n",
        "LL = 87487.561979668\n",
        "Param values 1019.9965607361986,1.0017677694668371e7\n",
        "0.09885034317040534\n",
        "69600"
       ]
      },
      {
       "output_type": "stream",
       "stream": "stdout",
       "text": [
        "\n",
        "LL = 87488.28628693138\n",
        "Param values 1013.0531288308231,1.000957948254762e7\n",
        "0.09875141884222474\n",
        "69700"
       ]
      },
      {
       "output_type": "stream",
       "stream": "stdout",
       "text": [
        "\n",
        "LL = 87488.28628693138\n",
        "Param values 1013.0531288308231,1.000957948254762e7\n",
        "0.09876755764071221\n",
        "69800"
       ]
      },
      {
       "output_type": "stream",
       "stream": "stdout",
       "text": [
        "\n",
        "LL = 87486.7389343642\n",
        "Param values 981.8914044644272,9.894097599991743e6\n",
        "0.09881230390120202\n",
        "69900"
       ]
      },
      {
       "output_type": "stream",
       "stream": "stdout",
       "text": [
        "\n",
        "LL = 87488.6959535407\n",
        "Param values 1001.3042550831486,9.952795710105529e6\n",
        "0.09891414755575903\n",
        "70000"
       ]
      },
      {
       "output_type": "stream",
       "stream": "stdout",
       "text": [
        "\n",
        "LL = 87488.6959535407\n",
        "Param values 1001.3042550831486,9.952795710105529e6\n",
        "0.09912998757125102\n",
        "70100"
       ]
      },
      {
       "output_type": "stream",
       "stream": "stdout",
       "text": [
        "\n",
        "LL = 87488.6959535407\n",
        "Param values 1001.3042550831486,9.952795710105529e6\n",
        "0.09921682192327994\n",
        "70200"
       ]
      },
      {
       "output_type": "stream",
       "stream": "stdout",
       "text": [
        "\n",
        "LL = 87488.6959535407\n",
        "Param values 1001.3042550831486,9.952795710105529e6\n",
        "0.0992749184461317\n",
        "70300"
       ]
      },
      {
       "output_type": "stream",
       "stream": "stdout",
       "text": [
        "\n",
        "LL = 87488.43532243858\n",
        "Param values 1011.5597090160753,9.950160371608805e6\n",
        "0.09940397445198366\n",
        "70400"
       ]
      },
      {
       "output_type": "stream",
       "stream": "stdout",
       "text": [
        "\n",
        "LL = 87488.43532243858\n",
        "Param values 1011.5597090160753,9.950160371608805e6\n",
        "0.0995326638162474\n",
        "70500"
       ]
      },
      {
       "output_type": "stream",
       "stream": "stdout",
       "text": [
        "\n",
        "LL = 87487.06398478242\n",
        "Param values 1018.5090586584465,9.842333964552712e6\n",
        "0.09946240372203861\n",
        "70600"
       ]
      },
      {
       "output_type": "stream",
       "stream": "stdout",
       "text": [
        "\n",
        "LL = 87487.06398478242\n",
        "Param values 1018.5090586584465,9.842333964552712e6\n",
        "0.09949149421379906\n",
        "70700"
       ]
      },
      {
       "output_type": "stream",
       "stream": "stdout",
       "text": [
        "\n",
        "LL = 87486.57456658951\n",
        "Param values 980.7049570391675,9.907304231623176e6\n",
        "0.09959122476979873\n",
        "70800"
       ]
      },
      {
       "output_type": "stream",
       "stream": "stdout",
       "text": [
        "\n",
        "LL = 87487.7153791719\n",
        "Param values 998.5528893292304,1.0106838468694936e7\n",
        "0.0997047980903685\n",
        "70900"
       ]
      },
      {
       "output_type": "stream",
       "stream": "stdout",
       "text": [
        "\n",
        "LL = 87488.11172858858\n",
        "Param values 993.5045378745823,9.882699498998873e6\n",
        "0.09984626017292204\n",
        "71000"
       ]
      },
      {
       "output_type": "stream",
       "stream": "stdout",
       "text": [
        "\n",
        "LL = 87488.11172858858\n",
        "Param values 993.5045378745823,9.882699498998873e6\n",
        "0.09987464612177636\n",
        "71100"
       ]
      },
      {
       "output_type": "stream",
       "stream": "stdout",
       "text": [
        "\n",
        "LL = 87488.11172858858\n",
        "Param values 993.5045378745823,9.882699498998873e6\n",
        "0.09984669263984022\n",
        "71200"
       ]
      },
      {
       "output_type": "stream",
       "stream": "stdout",
       "text": [
        "\n",
        "LL = 87488.56855316526\n",
        "Param values 999.3327288993099,9.914775438057719e6\n",
        "0.09983286282110704\n",
        "71300"
       ]
      },
      {
       "output_type": "stream",
       "stream": "stdout",
       "text": [
        "\n",
        "LL = 87488.56855316526\n",
        "Param values 999.3327288993099,9.914775438057719e6\n",
        "0.09988919900699869\n",
        "71400"
       ]
      },
      {
       "output_type": "stream",
       "stream": "stdout",
       "text": [
        "\n",
        "LL = 87488.56855316526\n",
        "Param values 999.3327288993099,9.914775438057719e6\n",
        "0.09990335999103629\n",
        "71500"
       ]
      },
      {
       "output_type": "stream",
       "stream": "stdout",
       "text": [
        "\n",
        "LL = 87488.56855316526\n",
        "Param values 999.3327288993099,9.914775438057719e6\n",
        "0.09993146757297305\n",
        "71600"
       ]
      },
      {
       "output_type": "stream",
       "stream": "stdout",
       "text": [
        "\n",
        "LL = 87488.56855316526\n",
        "Param values 999.3327288993099,9.914775438057719e6\n",
        "0.09987569658794117\n",
        "71700"
       ]
      },
      {
       "output_type": "stream",
       "stream": "stdout",
       "text": [
        "\n",
        "LL = 87488.56855316526\n",
        "Param values 999.3327288993099,9.914775438057719e6\n",
        "0.09984797556451276\n",
        "71800"
       ]
      },
      {
       "output_type": "stream",
       "stream": "stdout",
       "text": [
        "\n",
        "LL = 87488.56855316526\n",
        "Param values 999.3327288993099,9.914775438057719e6\n",
        "0.09984818730065878\n",
        "71900"
       ]
      },
      {
       "output_type": "stream",
       "stream": "stdout",
       "text": [
        "\n",
        "LL = 87488.56855316526\n",
        "Param values 999.3327288993099,9.914775438057719e6\n",
        "0.10001529923921056\n",
        "72000"
       ]
      },
      {
       "output_type": "stream",
       "stream": "stdout",
       "text": [
        "\n",
        "LL = 87488.56855316526\n",
        "Param values 999.3327288993099,9.914775438057719e6\n",
        "0.10004305615355769\n",
        "72100"
       ]
      },
      {
       "output_type": "stream",
       "stream": "stdout",
       "text": [
        "\n",
        "LL = 87488.56855316526\n",
        "Param values 999.3327288993099,9.914775438057719e6\n",
        "0.10001525679967822\n",
        "72200"
       ]
      },
      {
       "output_type": "stream",
       "stream": "stdout",
       "text": [
        "\n",
        "LL = 87488.56855316526\n",
        "Param values 999.3327288993099,9.914775438057719e6\n",
        "0.10007063809748057\n",
        "72300"
       ]
      },
      {
       "output_type": "stream",
       "stream": "stdout",
       "text": [
        "\n",
        "LL = 87488.39929320135\n",
        "Param values 1011.6498566413676,1.0003730443755617e7\n",
        "0.10005670894479868\n",
        "72400"
       ]
      },
      {
       "output_type": "stream",
       "stream": "stdout",
       "text": [
        "\n",
        "LL = 87487.966625299\n",
        "Param values 992.9114202922002,9.867482374488335e6\n",
        "0.10001519358002182\n",
        "72500"
       ]
      },
      {
       "output_type": "stream",
       "stream": "stdout",
       "text": [
        "\n",
        "LL = 87486.7009070615\n",
        "Param values 990.4045885060008,9.772736221725553e6\n",
        "0.10007034579787308\n",
        "72600"
       ]
      },
      {
       "output_type": "stream",
       "stream": "stdout",
       "text": [
        "\n",
        "LL = 87487.59096687484\n",
        "Param values 987.3827330033027,9.902136053510994e6\n",
        "0.1000840231959118\n",
        "72700"
       ]
      },
      {
       "output_type": "stream",
       "stream": "stdout",
       "text": [
        "\n",
        "LL = 87487.8021222031\n",
        "Param values 988.8261459383237,9.986376793238988e6\n",
        "0.10013892900865211\n",
        "72800"
       ]
      },
      {
       "output_type": "stream",
       "stream": "stdout",
       "text": [
        "\n",
        "LL = 87487.8021222031\n",
        "Param values 988.8261459383237,9.986376793238988e6\n",
        "0.10005631945493756\n",
        "72900"
       ]
      },
      {
       "output_type": "stream",
       "stream": "stdout",
       "text": [
        "\n",
        "LL = 87486.63989912109\n",
        "Param values 1005.3572073303568,1.0189134786523083e7\n",
        "0.10023457111894539\n",
        "73000"
       ]
      },
      {
       "output_type": "stream",
       "stream": "stdout",
       "text": [
        "\n",
        "LL = 87486.63989912109\n",
        "Param values 1005.3572073303568,1.0189134786523083e7\n",
        "0.10013835805969945\n",
        "73100"
       ]
      },
      {
       "output_type": "stream",
       "stream": "stdout",
       "text": [
        "\n",
        "LL = 87487.73784178581\n",
        "Param values 999.4998651322196,1.0108595580711698e7\n",
        "0.1002065691733129\n",
        "73200"
       ]
      },
      {
       "output_type": "stream",
       "stream": "stdout",
       "text": [
        "\n",
        "LL = 87486.84659634822\n",
        "Param values 984.8497958483613,9.839198183132349e6\n",
        "0.10038388502575171\n",
        "73300"
       ]
      },
      {
       "output_type": "stream",
       "stream": "stdout",
       "text": [
        "\n",
        "LL = 87487.44759353633\n",
        "Param values 987.0657982219293,9.880409874097986e6\n",
        "0.10041064680282132\n",
        "73400"
       ]
      },
      {
       "output_type": "stream",
       "stream": "stdout",
       "text": [
        "\n",
        "LL = 87487.44759353633\n",
        "Param values 987.0657982219293,9.880409874097986e6\n",
        "0.10054632896905952\n",
        "73500"
       ]
      },
      {
       "output_type": "stream",
       "stream": "stdout",
       "text": [
        "\n",
        "LL = 87487.44759353633\n",
        "Param values 987.0657982219293,9.880409874097986e6\n",
        "0.10054558565422658\n",
        "73600"
       ]
      },
      {
       "output_type": "stream",
       "stream": "stdout",
       "text": [
        "\n",
        "LL = 87485.89067316732\n",
        "Param values 980.6106877040552,9.811340629107455e6\n",
        "0.10063995434720581\n",
        "73700"
       ]
      },
      {
       "output_type": "stream",
       "stream": "stdout",
       "text": [
        "\n",
        "LL = 87488.28496677954\n",
        "Param values 1006.2150183101805,1.0063766136067523e7\n",
        "0.10063908601202187\n",
        "73800"
       ]
      },
      {
       "output_type": "stream",
       "stream": "stdout",
       "text": [
        "\n",
        "LL = 87487.89891883462\n",
        "Param values 991.7708916174768,9.871378270484041e6\n",
        "0.10061111939186168\n",
        "73900"
       ]
      },
      {
       "output_type": "stream",
       "stream": "stdout",
       "text": [
        "\n",
        "LL = 87486.37785109147\n",
        "Param values 983.4968303650085,1.0078028427984187e7\n",
        "0.10055616449478343\n",
        "74000"
       ]
      },
      {
       "output_type": "stream",
       "stream": "stdout",
       "text": [
        "\n",
        "LL = 87488.38294411136\n",
        "Param values 1006.6648478021268,9.88205868651676e6\n",
        "0.1005148718225922\n",
        "74100"
       ]
      },
      {
       "output_type": "stream",
       "stream": "stdout",
       "text": [
        "\n",
        "LL = 87488.38294411136\n",
        "Param values 1006.6648478021268,9.88205868651676e6\n",
        "0.10043320422677769\n",
        "74200"
       ]
      },
      {
       "output_type": "stream",
       "stream": "stdout",
       "text": [
        "\n",
        "LL = 87488.38294411136\n",
        "Param values 1006.6648478021268,9.88205868651676e6\n",
        "0.10048652946805213\n",
        "74300"
       ]
      },
      {
       "output_type": "stream",
       "stream": "stdout",
       "text": [
        "\n",
        "LL = 87488.17029980969\n",
        "Param values 991.860502437776,9.967165024598423e6\n",
        "0.10055317029838894\n",
        "74400"
       ]
      },
      {
       "output_type": "stream",
       "stream": "stdout",
       "text": [
        "\n",
        "LL = 87485.94818487493\n",
        "Param values 977.3194258275739,9.941501245329114e6\n",
        "0.1004583394938104\n",
        "74500"
       ]
      },
      {
       "output_type": "stream",
       "stream": "stdout",
       "text": [
        "\n",
        "LL = 87485.94818487493\n",
        "Param values 977.3194258275739,9.941501245329114e6\n",
        "0.10043087826682237\n",
        "74600"
       ]
      },
      {
       "output_type": "stream",
       "stream": "stdout",
       "text": [
        "\n",
        "LL = 87486.65021207416\n",
        "Param values 1012.5699205361535,9.767758211919403e6\n",
        "0.10047051569055886\n",
        "74700"
       ]
      },
      {
       "output_type": "stream",
       "stream": "stdout",
       "text": [
        "\n",
        "LL = 87486.65021207416\n",
        "Param values 1012.5699205361535,9.767758211919403e6\n",
        "0.10036278932783571\n",
        "74800"
       ]
      },
      {
       "output_type": "stream",
       "stream": "stdout",
       "text": [
        "\n",
        "LL = 87487.61270104905\n",
        "Param values 993.7043401352677,9.82229328915472e6\n",
        "0.10044251928501718\n",
        "74900"
       ]
      },
      {
       "output_type": "stream",
       "stream": "stdout",
       "text": [
        "\n",
        "LL = 87487.61270104905\n",
        "Param values 993.7043401352677,9.82229328915472e6\n",
        "0.10036182058505454\n",
        "75000"
       ]
      },
      {
       "output_type": "stream",
       "stream": "stdout",
       "text": [
        "\n",
        "LL = 87487.9955699773\n",
        "Param values 1002.9244878164942,9.8310266563024e6\n",
        "0.10066800890678543\n",
        "75100"
       ]
      },
      {
       "output_type": "stream",
       "stream": "stdout",
       "text": [
        "\n",
        "LL = 87487.91799270564\n",
        "Param values 993.0465402494829,1.004754825826659e7\n",
        "0.10062717213278473\n",
        "75200"
       ]
      },
      {
       "output_type": "stream",
       "stream": "stdout",
       "text": [
        "\n",
        "LL = 87487.65634456162\n",
        "Param values 989.4250650760864,1.0031087615837576e7\n",
        "0.1006795303129031\n",
        "75300"
       ]
      },
      {
       "output_type": "stream",
       "stream": "stdout",
       "text": [
        "\n",
        "LL = 87487.88803310753\n",
        "Param values 996.5554192602672,1.0081168686832951e7\n",
        "0.10095751603606953\n",
        "75400"
       ]
      },
      {
       "output_type": "stream",
       "stream": "stdout",
       "text": [
        "\n",
        "LL = 87488.33711724554\n",
        "Param values 1007.920197745404,1.0051799144150592e7\n",
        "0.10103582275626997\n",
        "75500"
       ]
      },
      {
       "output_type": "stream",
       "stream": "stdout",
       "text": [
        "\n",
        "LL = 87488.33711724554\n",
        "Param values 1007.920197745404,1.0051799144150592e7\n",
        "0.10092848911906117\n",
        "75600"
       ]
      },
      {
       "output_type": "stream",
       "stream": "stdout",
       "text": [
        "\n",
        "LL = 87488.43196395211\n",
        "Param values 998.8149930148464,1.0028089893843634e7\n",
        "0.10100662707178666\n",
        "75700"
       ]
      },
      {
       "output_type": "stream",
       "stream": "stdout",
       "text": [
        "\n",
        "LL = 87486.21047349757\n",
        "Param values 979.6004033161197,1.0011403895329902e7\n",
        "0.10097887686759402\n",
        "75800"
       ]
      },
      {
       "output_type": "stream",
       "stream": "stdout",
       "text": [
        "\n",
        "LL = 87486.21047349757\n",
        "Param values 979.6004033161197,1.0011403895329902e7\n",
        "0.10092481431153445\n",
        "75900"
       ]
      },
      {
       "output_type": "stream",
       "stream": "stdout",
       "text": [
        "\n",
        "LL = 87487.87735010423\n",
        "Param values 990.8421319049405,1.0021357561280986e7\n",
        "0.10105534987285734\n",
        "76000"
       ]
      },
      {
       "output_type": "stream",
       "stream": "stdout",
       "text": [
        "\n",
        "LL = 87487.87735010423\n",
        "Param values 990.8421319049405,1.0021357561280986e7\n",
        "0.10111975157567862\n",
        "76100"
       ]
      },
      {
       "output_type": "stream",
       "stream": "stdout",
       "text": [
        "\n",
        "LL = 87488.08585441537\n",
        "Param values 992.3816447260352,9.894471951715568e6\n",
        "0.10111828013508718\n",
        "76200"
       ]
      },
      {
       "output_type": "stream",
       "stream": "stdout",
       "text": [
        "\n",
        "LL = 87488.66854243321\n",
        "Param values 1006.8475422323321,9.962852952116644e6\n",
        "0.10114305962020499\n",
        "76300"
       ]
      },
      {
       "output_type": "stream",
       "stream": "stdout",
       "text": [
        "\n",
        "LL = 87488.66854243321\n",
        "Param values 1006.8475422323321,9.962852952116644e6\n",
        "0.10108913616167971\n",
        "76400"
       ]
      },
      {
       "output_type": "stream",
       "stream": "stdout",
       "text": [
        "\n",
        "LL = 87488.66854243321\n",
        "Param values 1006.8475422323321,9.962852952116644e6\n",
        "0.1010615322190081\n",
        "76500"
       ]
      },
      {
       "output_type": "stream",
       "stream": "stdout",
       "text": [
        "\n",
        "LL = 87488.66854243321\n",
        "Param values 1006.8475422323321,9.962852952116644e6\n",
        "0.10115164904116394\n",
        "76600"
       ]
      },
      {
       "output_type": "stream",
       "stream": "stdout",
       "text": [
        "\n",
        "LL = 87488.66854243321\n",
        "Param values 1006.8475422323321,9.962852952116644e6\n",
        "0.101150145563258\n",
        "76700"
       ]
      },
      {
       "output_type": "stream",
       "stream": "stdout",
       "text": [
        "\n",
        "LL = 87488.46054408934\n",
        "Param values 1000.7578092883261,9.886349826483974e6\n",
        "0.10121383590398832\n",
        "76800"
       ]
      },
      {
       "output_type": "stream",
       "stream": "stdout",
       "text": [
        "\n",
        "LL = 87486.62114539549\n",
        "Param values 986.7065076805848,1.0100970037220258e7\n",
        "0.10117319235927551\n",
        "76900"
       ]
      },
      {
       "output_type": "stream",
       "stream": "stdout",
       "text": [
        "\n",
        "LL = 87487.79396417094\n",
        "Param values 1012.0240224416233,9.847902531817159e6\n",
        "0.10113265452086503\n",
        "77000"
       ]
      },
      {
       "output_type": "stream",
       "stream": "stdout",
       "text": [
        "\n",
        "LL = 87488.59401557231\n",
        "Param values 998.0465345687247,9.970917291420622e6\n",
        "0.1012220937934259\n",
        "77100"
       ]
      },
      {
       "output_type": "stream",
       "stream": "stdout",
       "text": [
        "\n",
        "LL = 87488.49167482961\n",
        "Param values 998.6381221780944,1.0015193953921458e7\n",
        "0.10129833071764874\n",
        "77200"
       ]
      },
      {
       "output_type": "stream",
       "stream": "stdout",
       "text": [
        "\n",
        "LL = 87488.49167482961\n",
        "Param values 998.6381221780944,1.0015193953921458e7\n",
        "0.10140027720566329\n",
        "77300"
       ]
      },
      {
       "output_type": "stream",
       "stream": "stdout",
       "text": [
        "\n",
        "LL = 87487.99884410051\n",
        "Param values 1003.1927129056464,9.831497086193306e6\n",
        "0.10133378180830283\n",
        "77400"
       ]
      },
      {
       "output_type": "stream",
       "stream": "stdout",
       "text": [
        "\n",
        "LL = 87487.99884410051\n",
        "Param values 1003.1927129056464,9.831497086193306e6\n",
        "0.10137081874442823\n",
        "77500"
       ]
      },
      {
       "output_type": "stream",
       "stream": "stdout",
       "text": [
        "\n",
        "LL = 87487.99884410051\n",
        "Param values 1003.1927129056464,9.831497086193306e6\n",
        "0.1012916295694138\n",
        "77600"
       ]
      },
      {
       "output_type": "stream",
       "stream": "stdout",
       "text": [
        "\n",
        "LL = 87488.5302697621\n",
        "Param values 1010.168963349162,9.959226507558918e6\n",
        "0.10140594595291176\n",
        "77700"
       ]
      },
      {
       "output_type": "stream",
       "stream": "stdout",
       "text": [
        "\n",
        "LL = 87488.5302697621\n",
        "Param values 1010.168963349162,9.959226507558918e6\n",
        "0.10135265576133541\n",
        "77800"
       ]
      },
      {
       "output_type": "stream",
       "stream": "stdout",
       "text": [
        "\n",
        "LL = 87486.55611517269\n",
        "Param values 1022.2167488414809,1.011624938402182e7\n",
        "0.10137662437820538\n",
        "77900"
       ]
      },
      {
       "output_type": "stream",
       "stream": "stdout",
       "text": [
        "\n",
        "LL = 87484.10330572931\n",
        "Param values 985.1357922063661,1.0228905635343425e7\n",
        "0.10141336859266487\n",
        "78000"
       ]
      },
      {
       "output_type": "stream",
       "stream": "stdout",
       "text": [
        "\n",
        "LL = 87487.02192342028\n",
        "Param values 1018.1846933600315,9.83508216045074e6\n",
        "0.1013730945268529\n",
        "78100"
       ]
      },
      {
       "output_type": "stream",
       "stream": "stdout",
       "text": [
        "\n",
        "LL = 87486.91472307275\n",
        "Param values 1005.3515843678155,9.758205428321945e6\n",
        "0.10138414064200565\n",
        "78200"
       ]
      },
      {
       "output_type": "stream",
       "stream": "stdout",
       "text": [
        "\n",
        "LL = 87488.20276600798\n",
        "Param values 1001.8479241308962,9.851417856579255e6\n",
        "0.10135679484392383\n",
        "78300"
       ]
      },
      {
       "output_type": "stream",
       "stream": "stdout",
       "text": [
        "\n",
        "LL = 87486.39585284353\n",
        "Param values 1018.6798932109195,9.79380354077919e6\n",
        "0.10138060511628501\n",
        "78400"
       ]
      },
      {
       "output_type": "stream",
       "stream": "stdout",
       "text": [
        "\n",
        "LL = 87488.52174358169\n",
        "Param values 1007.7355356073323,9.9129345657227e6\n",
        "0.10148088623579382\n",
        "78500"
       ]
      },
      {
       "output_type": "stream",
       "stream": "stdout",
       "text": [
        "\n",
        "LL = 87488.52174358169\n",
        "Param values 1007.7355356073323,9.9129345657227e6\n",
        "0.10160638989031708\n",
        "78600"
       ]
      },
      {
       "output_type": "stream",
       "stream": "stdout",
       "text": [
        "\n",
        "LL = 87487.56298125406\n",
        "Param values 1011.8495365202167,1.0115987145590054e7\n",
        "0.10161706891945191\n",
        "78700"
       ]
      },
      {
       "output_type": "stream",
       "stream": "stdout",
       "text": [
        "\n",
        "LL = 87488.51007044678\n",
        "Param values 1002.0877027212063,1.0030961662803467e7\n",
        "0.1017547872272837\n",
        "78800"
       ]
      },
      {
       "output_type": "stream",
       "stream": "stdout",
       "text": [
        "\n",
        "LL = 87488.51007044678\n",
        "Param values 1002.0877027212063,1.0030961662803467e7\n",
        "0.1017779413444333\n",
        "78900"
       ]
      },
      {
       "output_type": "stream",
       "stream": "stdout",
       "text": [
        "\n",
        "LL = 87488.51007044678\n",
        "Param values 1002.0877027212063,1.0030961662803467e7\n",
        "0.10180103676852685\n",
        "79000"
       ]
      },
      {
       "output_type": "stream",
       "stream": "stdout",
       "text": [
        "\n",
        "LL = 87488.55064405152\n",
        "Param values 1009.1891265708397,9.940018444606023e6\n",
        "0.10187470727477563\n",
        "79100"
       ]
      },
      {
       "output_type": "stream",
       "stream": "stdout",
       "text": [
        "\n",
        "LL = 87488.52269084672\n",
        "Param values 1005.2131211684431,9.898454783150923e6\n",
        "0.10188497958254845\n",
        "79200"
       ]
      },
      {
       "output_type": "stream",
       "stream": "stdout",
       "text": [
        "\n",
        "LL = 87488.52269084672\n",
        "Param values 1005.2131211684431,9.898454783150923e6\n",
        "0.10188259952777182\n",
        "79300"
       ]
      },
      {
       "output_type": "stream",
       "stream": "stdout",
       "text": [
        "\n",
        "LL = 87488.58732424375\n",
        "Param values 1006.5685044735807,9.919272003985586e6\n",
        "0.10209460396726314\n",
        "79400"
       ]
      },
      {
       "output_type": "stream",
       "stream": "stdout",
       "text": [
        "\n",
        "LL = 87486.51188922384\n",
        "Param values 1021.2114337916445,9.827819282867609e6\n",
        "0.102129749744959\n",
        "79500"
       ]
      },
      {
       "output_type": "stream",
       "stream": "stdout",
       "text": [
        "\n",
        "LL = 87487.27655353816\n",
        "Param values 1012.6224273923301,9.808709655456368e6\n",
        "0.10210191323161298\n",
        "79600"
       ]
      },
      {
       "output_type": "stream",
       "stream": "stdout",
       "text": [
        "\n",
        "LL = 87488.49189574014\n",
        "Param values 999.1045224776553,9.89869898023981e6\n",
        "0.10211183557582382\n",
        "79700"
       ]
      },
      {
       "output_type": "stream",
       "stream": "stdout",
       "text": [
        "\n",
        "LL = 87487.79715660088\n",
        "Param values 989.922889263636,1.0017559952695657e7\n",
        "0.10213428022936298\n",
        "79800"
       ]
      },
      {
       "output_type": "stream",
       "stream": "stdout",
       "text": [
        "\n",
        "LL = 87488.35303295255\n",
        "Param values 995.862799782349,9.898949286924398e6\n",
        "0.10216920011528967\n",
        "79900"
       ]
      },
      {
       "output_type": "stream",
       "stream": "stdout",
       "text": [
        "\n",
        "LL = 87485.8868400647\n",
        "Param values 977.0527756531885,9.948878416492356e6\n",
        "0.1021790009887483\n",
        "80000"
       ]
      },
      {
       "output_type": "stream",
       "stream": "stdout",
       "text": [
        "\n",
        "LL = 87485.8868400647\n",
        "Param values 977.0527756531885,9.948878416492356e6\n",
        "0.10215127689096114\n",
        "80100"
       ]
      },
      {
       "output_type": "stream",
       "stream": "stdout",
       "text": [
        "\n",
        "LL = 87487.42356480513\n",
        "Param values 1007.6438116184422,9.795777228106657e6\n",
        "0.10231089027328681\n",
        "80200"
       ]
      },
      {
       "output_type": "stream",
       "stream": "stdout",
       "text": [
        "\n",
        "LL = 87487.74488533675\n",
        "Param values 994.1136850211317,9.832111424780399e6\n",
        "0.10268207833015375\n",
        "80300"
       ]
      },
      {
       "output_type": "stream",
       "stream": "stdout",
       "text": [
        "\n",
        "LL = 87488.35605982684\n",
        "Param values 994.4025080705137,9.983339878172886e6\n",
        "0.1027285520367626\n",
        "80400"
       ]
      },
      {
       "output_type": "stream",
       "stream": "stdout",
       "text": [
        "\n",
        "LL = 87486.39614690561\n",
        "Param values 984.1203520266263,9.805902607963236e6\n",
        "0.10275003420440552\n",
        "80500"
       ]
      },
      {
       "output_type": "stream",
       "stream": "stdout",
       "text": [
        "\n",
        "LL = 87488.00805440273\n",
        "Param values 1013.570599754724,9.88728939089309e6\n",
        "0.10280873054323657\n",
        "80600"
       ]
      },
      {
       "output_type": "stream",
       "stream": "stdout",
       "text": [
        "\n",
        "LL = 87488.45833804969\n",
        "Param values 1011.4517574685929,9.967125710367287e6\n",
        "0.10276802441717639\n",
        "80700"
       ]
      },
      {
       "output_type": "stream",
       "stream": "stdout",
       "text": [
        "\n",
        "LL = 87488.45833804969\n",
        "Param values 1011.4517574685929,9.967125710367287e6\n",
        "0.10283894472050459\n",
        "80800"
       ]
      },
      {
       "output_type": "stream",
       "stream": "stdout",
       "text": [
        "\n",
        "LL = 87486.1782755988\n",
        "Param values 1006.6416901332899,1.0213087374203071e7\n",
        "0.10287256030396416\n",
        "80900"
       ]
      },
      {
       "output_type": "stream",
       "stream": "stdout",
       "text": [
        "\n",
        "LL = 87488.661028788\n",
        "Param values 1001.0648721411073,9.988917964702126e6\n",
        "0.1028319262290016\n",
        "81000"
       ]
      },
      {
       "output_type": "stream",
       "stream": "stdout",
       "text": [
        "\n",
        "LL = 87488.661028788\n",
        "Param values 1001.0648721411073,9.988917964702126e6\n",
        "0.10275435499203694\n",
        "81100"
       ]
      },
      {
       "output_type": "stream",
       "stream": "stdout",
       "text": [
        "\n",
        "LL = 87486.80831623582\n",
        "Param values 1013.4751445227977,9.782264275596559e6\n",
        "0.10268930566344837\n",
        "81200"
       ]
      },
      {
       "output_type": "stream",
       "stream": "stdout",
       "text": [
        "\n",
        "LL = 87488.66447078226\n",
        "Param values 1004.1733214334735,9.99792282856328e6\n",
        "0.1025997857116467\n",
        "81300"
       ]
      },
      {
       "output_type": "stream",
       "stream": "stdout",
       "text": [
        "\n",
        "LL = 87488.25710844768\n",
        "Param values 995.686511417256,1.0028649076386759e7\n",
        "0.10260888817820638\n",
        "81400"
       ]
      },
      {
       "output_type": "stream",
       "stream": "stdout",
       "text": [
        "\n",
        "LL = 87487.74747883742\n",
        "Param values 1018.1281650330473,1.0027825834584346e7\n",
        "0.10264253860612538\n",
        "81500"
       ]
      },
      {
       "output_type": "stream",
       "stream": "stdout",
       "text": [
        "\n",
        "LL = 87488.60896681802\n",
        "Param values 1000.169119668699,9.999492422248598e6\n",
        "0.10255340556325844\n",
        "81600"
       ]
      },
      {
       "output_type": "stream",
       "stream": "stdout",
       "text": [
        "\n",
        "LL = 87484.83241182155\n",
        "Param values 1011.2782399818876,1.026916907290469e7\n",
        "0.10256253140357112\n",
        "81700"
       ]
      },
      {
       "output_type": "stream",
       "stream": "stdout",
       "text": [
        "\n",
        "LL = 87487.68170529704\n",
        "Param values 994.2047920188148,1.008422523973653e7\n",
        "0.10269403542271019\n",
        "81800"
       ]
      },
      {
       "output_type": "stream",
       "stream": "stdout",
       "text": [
        "\n",
        "LL = 87487.72052834225\n",
        "Param values 1019.2240299168304,9.988804594765503e6\n",
        "0.10277631755889437\n",
        "81900"
       ]
      },
      {
       "output_type": "stream",
       "stream": "stdout",
       "text": [
        "\n",
        "LL = 87487.72052834225\n",
        "Param values 1019.2240299168304,9.988804594765503e6\n",
        "0.10267524634000415\n",
        "82000"
       ]
      },
      {
       "output_type": "stream",
       "stream": "stdout",
       "text": [
        "\n",
        "LL = 87488.39813171452\n",
        "Param values 1000.8165030497732,9.87673312303475e6\n",
        "0.10265978853400651\n",
        "82100"
       ]
      },
      {
       "output_type": "stream",
       "stream": "stdout",
       "text": [
        "\n",
        "LL = 87487.5893109692\n",
        "Param values 988.6973537860376,9.871373115094118e6\n",
        "0.10264436838451138\n",
        "82200"
       ]
      },
      {
       "output_type": "stream",
       "stream": "stdout",
       "text": [
        "\n",
        "LL = 87487.81759192325\n",
        "Param values 988.5190995545955,9.939059702408131e6\n",
        "0.10273847613717929\n",
        "82300"
       ]
      },
      {
       "output_type": "stream",
       "stream": "stdout",
       "text": [
        "\n",
        "LL = 87487.81759192325\n",
        "Param values 988.5190995545955,9.939059702408131e6\n",
        "0.10300246661563324\n",
        "82400"
       ]
      },
      {
       "output_type": "stream",
       "stream": "stdout",
       "text": [
        "\n",
        "LL = 87487.81759192325\n",
        "Param values 988.5190995545955,9.939059702408131e6\n",
        "0.10302309494047258\n",
        "82500"
       ]
      },
      {
       "output_type": "stream",
       "stream": "stdout",
       "text": [
        "\n",
        "LL = 87487.95176888906\n",
        "Param values 1001.1956869915999,1.009531147615157e7\n",
        "0.1031648868471133\n",
        "82600"
       ]
      },
      {
       "output_type": "stream",
       "stream": "stdout",
       "text": [
        "\n",
        "LL = 87487.98888947234\n",
        "Param values 1016.6537505686329,9.947016720928831e6\n",
        "0.10319737527088706\n",
        "82700"
       ]
      },
      {
       "output_type": "stream",
       "stream": "stdout",
       "text": [
        "\n",
        "LL = 87487.03977634023\n",
        "Param values 983.1511646110459,9.963083059349194e6\n",
        "0.10327815330294199\n",
        "82800"
       ]
      },
      {
       "output_type": "stream",
       "stream": "stdout",
       "text": [
        "\n",
        "LL = 87487.63453002338\n",
        "Param values 987.1045983587111,9.961996881992253e6\n",
        "0.10335873621662098\n",
        "82900"
       ]
      },
      {
       "output_type": "stream",
       "stream": "stdout",
       "text": [
        "\n",
        "LL = 87487.51536992531\n",
        "Param values 986.1873042183742,9.93947234418152e6\n",
        "0.10342706184634314\n",
        "83000"
       ]
      },
      {
       "output_type": "stream",
       "stream": "stdout",
       "text": [
        "\n",
        "LL = 87488.10497286097\n",
        "Param values 1015.2782856622771,9.938007940514753e6\n",
        "0.10347112615814648\n",
        "83100"
       ]
      },
      {
       "output_type": "stream",
       "stream": "stdout",
       "text": [
        "\n",
        "LL = 87488.10497286097\n",
        "Param values 1015.2782856622771,9.938007940514753e6\n",
        "0.10344288138244745\n",
        "83200"
       ]
      },
      {
       "output_type": "stream",
       "stream": "stdout",
       "text": [
        "\n",
        "LL = 87481.21474978066\n",
        "Param values 1023.4143442064991,1.0364229411775628e7\n",
        "0.10347480137982427\n",
        "83300"
       ]
      },
      {
       "output_type": "stream",
       "stream": "stdout",
       "text": [
        "\n",
        "LL = 87486.68216868099\n",
        "Param values 996.1106230597129,1.0166981631791703e7\n",
        "0.10357867441385851\n",
        "83400"
       ]
      },
      {
       "output_type": "stream",
       "stream": "stdout",
       "text": [
        "\n",
        "LL = 87488.39860862556\n",
        "Param values 1012.3418568747841,9.968934207660511e6\n",
        "0.10359836448878285\n",
        "83500"
       ]
      },
      {
       "output_type": "stream",
       "stream": "stdout",
       "text": [
        "\n",
        "LL = 87488.39860862556\n",
        "Param values 1012.3418568747841,9.968934207660511e6\n",
        "0.10357010263595971\n",
        "83600"
       ]
      },
      {
       "output_type": "stream",
       "stream": "stdout",
       "text": [
        "\n",
        "LL = 87488.14459569303\n",
        "Param values 1010.476223765748,9.874500850961152e6\n",
        "0.10351798466488833\n",
        "83700"
       ]
      },
      {
       "output_type": "stream",
       "stream": "stdout",
       "text": [
        "\n",
        "LL = 87488.26580109108\n",
        "Param values 1006.8116269509574,1.0064851936604628e7\n",
        "0.1036571524152021\n",
        "83800"
       ]
      },
      {
       "output_type": "stream",
       "stream": "stdout",
       "text": [
        "\n",
        "LL = 87488.26580109108\n",
        "Param values 1006.8116269509574,1.0064851936604628e7\n",
        "0.10360505495292306\n",
        "83900"
       ]
      },
      {
       "output_type": "stream",
       "stream": "stdout",
       "text": [
        "\n",
        "LL = 87488.26580109108\n",
        "Param values 1006.8116269509574,1.0064851936604628e7\n",
        "0.10367227261349957\n",
        "84000"
       ]
      },
      {
       "output_type": "stream",
       "stream": "stdout",
       "text": [
        "\n",
        "LL = 87488.26580109108\n",
        "Param values 1006.8116269509574,1.0064851936604628e7\n",
        "0.10366790080834296\n",
        "84100"
       ]
      },
      {
       "output_type": "stream",
       "stream": "stdout",
       "text": [
        "\n",
        "LL = 87488.08612747602\n",
        "Param values 993.4970349230302,9.878600223140372e6\n",
        "0.10369921164342026\n",
        "84200"
       ]
      },
      {
       "output_type": "stream",
       "stream": "stdout",
       "text": [
        "\n",
        "LL = 87488.08612747602\n",
        "Param values 993.4970349230302,9.878600223140372e6\n",
        "0.10362355847456621\n",
        "84300"
       ]
      },
      {
       "output_type": "stream",
       "stream": "stdout",
       "text": [
        "\n",
        "LL = 87488.08612747602\n",
        "Param values 993.4970349230302,9.878600223140372e6\n",
        "0.1035955349411025\n",
        "84400"
       ]
      },
      {
       "output_type": "stream",
       "stream": "stdout",
       "text": [
        "\n",
        "LL = 87484.75998646977\n",
        "Param values 1025.8511451775437,1.02031678708149e7\n",
        "0.10365051718622259\n",
        "84500"
       ]
      },
      {
       "output_type": "stream",
       "stream": "stdout",
       "text": [
        "\n",
        "LL = 87488.26693091964\n",
        "Param values 995.1714560951652,9.89005057606147e6\n",
        "0.103788210511367\n",
        "84600"
       ]
      },
      {
       "output_type": "stream",
       "stream": "stdout",
       "text": [
        "\n",
        "LL = 87488.26693091964\n",
        "Param values 995.1714560951652,9.89005057606147e6\n",
        "0.10377191219754371\n",
        "84700"
       ]
      },
      {
       "output_type": "stream",
       "stream": "stdout",
       "text": [
        "\n",
        "LL = 87487.68319133706\n",
        "Param values 997.7260472734367,9.810641746527143e6\n",
        "0.10382649145798652\n",
        "84800"
       ]
      },
      {
       "output_type": "stream",
       "stream": "stdout",
       "text": [
        "\n",
        "LL = 87488.06956167112\n",
        "Param values 999.2958447678559,9.841241854882356e6\n",
        "0.10401066050307196\n",
        "84900"
       ]
      },
      {
       "output_type": "stream",
       "stream": "stdout",
       "text": [
        "\n",
        "LL = 87487.6779450848\n",
        "Param values 987.7239205689751,9.915505988123106e6\n",
        "0.10405305127268873\n",
        "85000"
       ]
      },
      {
       "output_type": "stream",
       "stream": "stdout",
       "text": [
        "\n",
        "LL = 87486.84757230882\n",
        "Param values 994.0079830955266,1.014633338975625e7\n",
        "0.10406004776526782\n",
        "85100"
       ]
      },
      {
       "output_type": "stream",
       "stream": "stdout",
       "text": [
        "\n",
        "LL = 87488.67086299315\n",
        "Param values 1001.9770368927302,9.991369111017471e6\n",
        "0.10418453800867225\n",
        "85200"
       ]
      },
      {
       "output_type": "stream",
       "stream": "stdout",
       "text": [
        "\n",
        "LL = 87487.66013842577\n",
        "Param values 1010.8098500049998,9.827771294415317e6\n",
        "0.10419136374840081\n",
        "85300"
       ]
      },
      {
       "output_type": "stream",
       "stream": "stdout",
       "text": [
        "\n",
        "LL = 87487.64753787708\n",
        "Param values 1001.5886026897508,9.80229564254368e6\n",
        "0.10432713161936248\n",
        "85400"
       ]
      },
      {
       "output_type": "stream",
       "stream": "stdout",
       "text": [
        "\n",
        "LL = 87487.64753787708\n",
        "Param values 1001.5886026897508,9.80229564254368e6\n",
        "0.10425180622723919\n",
        "85500"
       ]
      },
      {
       "output_type": "stream",
       "stream": "stdout",
       "text": [
        "\n",
        "LL = 87488.30868876805\n",
        "Param values 993.3521711914349,9.948575841914779e6\n",
        "0.10431700955566732\n",
        "85600"
       ]
      },
      {
       "output_type": "stream",
       "stream": "stdout",
       "text": [
        "\n",
        "LL = 87488.19907308492\n",
        "Param values 1007.1613443350328,1.007192518506103e7\n",
        "0.10439374291755744\n",
        "85700"
       ]
      },
      {
       "output_type": "stream",
       "stream": "stdout",
       "text": [
        "\n",
        "LL = 87486.9295593366\n",
        "Param values 984.2063789394228,1.0029703885770286e7\n",
        "0.10443529096022124\n",
        "85800"
       ]
      },
      {
       "output_type": "stream",
       "stream": "stdout",
       "text": [
        "\n",
        "LL = 87486.9295593366\n",
        "Param values 984.2063789394228,1.0029703885770286e7\n",
        "0.10436019067821303\n",
        "85900"
       ]
      },
      {
       "output_type": "stream",
       "stream": "stdout",
       "text": [
        "\n",
        "LL = 87486.9295593366\n",
        "Param values 984.2063789394228,1.0029703885770286e7\n",
        "0.10449481367652709\n",
        "86000"
       ]
      },
      {
       "output_type": "stream",
       "stream": "stdout",
       "text": [
        "\n",
        "LL = 87488.09408556283\n",
        "Param values 1004.599241735584,9.842269675713329e6\n",
        "0.10464075163664693\n",
        "86100"
       ]
      },
      {
       "output_type": "stream",
       "stream": "stdout",
       "text": [
        "\n",
        "LL = 87488.09408556283\n",
        "Param values 1004.599241735584,9.842269675713329e6\n",
        "0.10461213254509344\n",
        "86200"
       ]
      },
      {
       "output_type": "stream",
       "stream": "stdout",
       "text": [
        "\n",
        "LL = 87487.22201228299\n",
        "Param values 1004.3694351224865,1.0154395629291968e7\n",
        "0.10454877666794278\n",
        "86300"
       ]
      },
      {
       "output_type": "stream",
       "stream": "stdout",
       "text": [
        "\n",
        "LL = 87488.0810435209\n",
        "Param values 991.9816773891199,1.0003833084031697e7\n",
        "0.10463620667678653\n",
        "86400"
       ]
      },
      {
       "output_type": "stream",
       "stream": "stdout",
       "text": [
        "\n",
        "LL = 87488.0810435209\n",
        "Param values 991.9816773891199,1.0003833084031697e7\n",
        "0.10456139538652068\n",
        "86500"
       ]
      },
      {
       "output_type": "stream",
       "stream": "stdout",
       "text": [
        "\n",
        "LL = 87487.73220446245\n",
        "Param values 1002.454017166508,1.0116388775646377e7\n",
        "0.10474109527277772\n",
        "86600"
       ]
      },
      {
       "output_type": "stream",
       "stream": "stdout",
       "text": [
        "\n",
        "LL = 87488.20638361761\n",
        "Param values 996.0204538110393,9.872478834430192e6\n",
        "0.10480490536842227\n",
        "86700"
       ]
      },
      {
       "output_type": "stream",
       "stream": "stdout",
       "text": [
        "\n",
        "LL = 87487.36279043379\n",
        "Param values 1020.076864294439,9.899524633514669e6\n",
        "0.10482243163127603\n",
        "86800"
       ]
      },
      {
       "output_type": "stream",
       "stream": "stdout",
       "text": [
        "\n",
        "LL = 87488.56949694268\n",
        "Param values 997.3704896584591,9.961260310428e6\n",
        "0.10498968882129979\n",
        "86900"
       ]
      },
      {
       "output_type": "stream",
       "stream": "stdout",
       "text": [
        "\n",
        "LL = 87488.56949694268\n",
        "Param values 997.3704896584591,9.961260310428e6\n",
        "0.10498394688086168\n",
        "87000"
       ]
      },
      {
       "output_type": "stream",
       "stream": "stdout",
       "text": [
        "\n",
        "LL = 87488.44620750775\n",
        "Param values 995.4723395708336,9.935088073789412e6\n",
        "0.10495522937045254\n",
        "87100"
       ]
      },
      {
       "output_type": "stream",
       "stream": "stdout",
       "text": [
        "\n",
        "LL = 87488.44620750775\n",
        "Param values 995.4723395708336,9.935088073789412e6\n",
        "0.10497250255456435\n",
        "87200"
       ]
      },
      {
       "output_type": "stream",
       "stream": "stdout",
       "text": [
        "\n",
        "LL = 87487.01275101084\n",
        "Param values 983.222052517708,9.908647227910591e6\n",
        "0.1050470762279384\n",
        "87300"
       ]
      },
      {
       "output_type": "stream",
       "stream": "stdout",
       "text": [
        "\n",
        "LL = 87488.29139589563\n",
        "Param values 1004.89192116533,1.0064547619905392e7\n",
        "0.1050527497451288\n",
        "87400"
       ]
      },
      {
       "output_type": "stream",
       "stream": "stdout",
       "text": [
        "\n",
        "LL = 87488.65003361598\n",
        "Param values 1004.8756935361793,9.926786504975162e6\n",
        "0.10504696850078377\n",
        "87500"
       ]
      },
      {
       "output_type": "stream",
       "stream": "stdout",
       "text": [
        "\n",
        "LL = 87488.65003361598\n",
        "Param values 1004.8756935361793,9.926786504975162e6\n",
        "0.10499548566269329\n",
        "87600"
       ]
      },
      {
       "output_type": "stream",
       "stream": "stdout",
       "text": [
        "\n",
        "LL = 87488.65003361598\n",
        "Param values 1004.8756935361793,9.926786504975162e6\n",
        "0.10496695167753056\n",
        "87700"
       ]
      },
      {
       "output_type": "stream",
       "stream": "stdout",
       "text": [
        "\n",
        "LL = 87488.59401433048\n",
        "Param values 998.2153233220907,9.976525462259237e6\n",
        "0.10504110651204689\n",
        "87800"
       ]
      },
      {
       "output_type": "stream",
       "stream": "stdout",
       "text": [
        "\n",
        "LL = 87486.85812296567\n",
        "Param values 982.140240350983,9.967928515864104e6\n",
        "0.10495563730794201\n",
        "87900"
       ]
      },
      {
       "output_type": "stream",
       "stream": "stdout",
       "text": [
        "\n",
        "LL = 87487.0551598315\n",
        "Param values 983.1855893018135,9.933542069548478e6\n",
        "0.10497275281857586\n",
        "88000"
       ]
      },
      {
       "output_type": "stream",
       "stream": "stdout",
       "text": [
        "\n",
        "LL = 87487.31570109802\n",
        "Param values 1010.5992534715289,9.80026491564921e6\n",
        "0.10497846566438256\n",
        "88100"
       ]
      },
      {
       "output_type": "stream",
       "stream": "stdout",
       "text": [
        "\n",
        "LL = 87487.66328260791\n",
        "Param values 989.1265611815332,1.0024408133500157e7\n",
        "0.10512037594070307\n",
        "88200"
       ]
      },
      {
       "output_type": "stream",
       "stream": "stdout",
       "text": [
        "\n",
        "LL = 87487.2574154764\n",
        "Param values 999.0406837179867,1.0142403247830356e7\n",
        "0.10512590845701199\n",
        "88300"
       ]
      },
      {
       "output_type": "stream",
       "stream": "stdout",
       "text": [
        "\n",
        "LL = 87488.32934843337\n",
        "Param values 1004.7085018471439,1.0059928963526137e7\n",
        "0.10523335485113082\n",
        "88400"
       ]
      },
      {
       "output_type": "stream",
       "stream": "stdout",
       "text": [
        "\n",
        "LL = 87487.71956562552\n",
        "Param values 1015.066821231075,1.0078737104546903e7\n",
        "0.10523874704464983\n",
        "88500"
       ]
      },
      {
       "output_type": "stream",
       "stream": "stdout",
       "text": [
        "\n",
        "LL = 87487.71956562552\n",
        "Param values 1015.066821231075,1.0078737104546903e7\n",
        "0.10523282748957616\n",
        "88600"
       ]
      },
      {
       "output_type": "stream",
       "stream": "stdout",
       "text": [
        "\n",
        "LL = 87488.51537596775\n",
        "Param values 1008.2458438683035,1.0018070385840692e7\n",
        "0.1052156344879739\n",
        "88700"
       ]
      },
      {
       "output_type": "stream",
       "stream": "stdout",
       "text": [
        "\n",
        "LL = 87488.45788140004\n",
        "Param values 996.219046366789,9.991283847112754e6\n",
        "0.10528867292754146\n",
        "88800"
       ]
      },
      {
       "output_type": "stream",
       "stream": "stdout",
       "text": [
        "\n",
        "LL = 87487.63817716134\n",
        "Param values 1013.5132337865937,9.844901360754957e6\n",
        "0.10539533102850257\n",
        "88900"
       ]
      },
      {
       "output_type": "stream",
       "stream": "stdout",
       "text": [
        "\n",
        "LL = 87488.20086596595\n",
        "Param values 993.4877298779804,1.000750286335703e7\n",
        "0.10547925173511513\n",
        "89000"
       ]
      },
      {
       "output_type": "stream",
       "stream": "stdout",
       "text": [
        "\n",
        "LL = 87487.84558450311\n",
        "Param values 997.6724270625225,9.824602095905386e6\n",
        "0.1054730952033169\n",
        "89100"
       ]
      },
      {
       "output_type": "stream",
       "stream": "stdout",
       "text": [
        "\n",
        "LL = 87488.33795688131\n",
        "Param values 1003.339632393203,1.0058446867076857e7\n",
        "0.1056128576078295\n",
        "89200"
       ]
      },
      {
       "output_type": "stream",
       "stream": "stdout",
       "text": [
        "\n",
        "LL = 87487.50236631972\n",
        "Param values 1019.831014959379,1.0037310124493644e7\n",
        "0.10565140864807901\n",
        "89300"
       ]
      },
      {
       "output_type": "stream",
       "stream": "stdout",
       "text": [
        "\n",
        "LL = 87487.50236631972\n",
        "Param values 1019.831014959379,1.0037310124493644e7\n",
        "0.10567867501315804\n",
        "89400"
       ]
      },
      {
       "output_type": "stream",
       "stream": "stdout",
       "text": [
        "\n",
        "LL = 87487.74177405318\n",
        "Param values 1007.4511172571533,9.81889825236081e6\n",
        "0.10581773845345026\n",
        "89500"
       ]
      },
      {
       "output_type": "stream",
       "stream": "stdout",
       "text": [
        "\n",
        "LL = 87488.68455534875\n",
        "Param values 1000.7334331624128,9.968936072807997e6\n",
        "0.10577771818679538\n",
        "89600"
       ]
      },
      {
       "output_type": "stream",
       "stream": "stdout",
       "text": [
        "\n",
        "LL = 87488.68455534875\n",
        "Param values 1000.7334331624128,9.968936072807997e6\n",
        "0.10570430473554393\n",
        "89700"
       ]
      },
      {
       "output_type": "stream",
       "stream": "stdout",
       "text": [
        "\n",
        "LL = 87487.80337704235\n",
        "Param values 989.1904390638017,9.90137829776422e6\n",
        "0.10575368733207728\n",
        "89800"
       ]
      },
      {
       "output_type": "stream",
       "stream": "stdout",
       "text": [
        "\n",
        "LL = 87488.48374963213\n",
        "Param values 1010.6152006872384,9.944375879028725e6\n",
        "0.1058252319068141\n",
        "89900"
       ]
      },
      {
       "output_type": "stream",
       "stream": "stdout",
       "text": [
        "\n",
        "LL = 87488.22847241945\n",
        "Param values 1001.2231144508249,9.854733640713431e6\n",
        "0.10592998809775414\n",
        "90000"
       ]
      },
      {
       "output_type": "stream",
       "stream": "stdout",
       "text": [
        "\n",
        "LL = 87488.066857306\n",
        "Param values 1013.3361372951114,9.892973057539701e6\n",
        "0.1059345103834487\n",
        "90100"
       ]
      },
      {
       "output_type": "stream",
       "stream": "stdout",
       "text": [
        "\n",
        "LL = 87488.68831680401\n",
        "Param values 1005.6597505505907,9.978237203066919e6\n",
        "0.10596122043529894\n",
        "90200"
       ]
      },
      {
       "output_type": "stream",
       "stream": "stdout",
       "text": [
        "\n",
        "LL = 87488.01759635958\n",
        "Param values 991.0146507795116,9.907601371265238e6\n",
        "0.10597678466501846\n",
        "90300"
       ]
      },
      {
       "output_type": "stream",
       "stream": "stdout",
       "text": [
        "\n",
        "LL = 87488.0259732009\n",
        "Param values 999.2093831506254,9.837113817762313e6\n",
        "0.10599231442208662\n",
        "90400"
       ]
      },
      {
       "output_type": "stream",
       "stream": "stdout",
       "text": [
        "\n",
        "LL = 87488.12823445805\n",
        "Param values 994.7903027573205,1.003866068207686e7\n",
        "0.10593037533601035\n",
        "90500"
       ]
      },
      {
       "output_type": "stream",
       "stream": "stdout",
       "text": [
        "\n",
        "LL = 87488.70620455418\n",
        "Param values 1003.3425761567815,9.947088423079373e6\n",
        "0.1058685731334048\n",
        "90600"
       ]
      },
      {
       "output_type": "stream",
       "stream": "stdout",
       "text": [
        "\n",
        "LL = 87488.70620455418\n",
        "Param values 1003.3425761567815,9.947088423079373e6\n",
        "0.10581794501043058\n",
        "90700"
       ]
      },
      {
       "output_type": "stream",
       "stream": "stdout",
       "text": [
        "\n",
        "LL = 87488.70620455418\n",
        "Param values 1003.3425761567815,9.947088423079373e6\n",
        "0.10574537756755863\n",
        "90800"
       ]
      },
      {
       "output_type": "stream",
       "stream": "stdout",
       "text": [
        "\n",
        "LL = 87487.54890894561\n",
        "Param values 1003.8248870890343,9.796192096719714e6\n",
        "0.10594830339541185\n",
        "90900"
       ]
      },
      {
       "output_type": "stream",
       "stream": "stdout",
       "text": [
        "\n",
        "LL = 87488.63269873905\n",
        "Param values 1005.679188059724,1.0003726768067377e7\n",
        "0.10595276075644397\n",
        "91000"
       ]
      },
      {
       "output_type": "stream",
       "stream": "stdout",
       "text": [
        "\n",
        "LL = 87488.63269873905\n",
        "Param values 1005.679188059724,1.0003726768067377e7\n",
        "0.10614402356069846\n",
        "91100"
       ]
      },
      {
       "output_type": "stream",
       "stream": "stdout",
       "text": [
        "\n",
        "LL = 87488.63269873905\n",
        "Param values 1005.679188059724,1.0003726768067377e7\n",
        "0.1060494626724772\n",
        "91200"
       ]
      },
      {
       "output_type": "stream",
       "stream": "stdout",
       "text": [
        "\n",
        "LL = 87486.51652913351\n",
        "Param values 1005.756698950587,1.0195815315923307e7\n",
        "0.10604282941698923\n",
        "91300"
       ]
      },
      {
       "output_type": "stream",
       "stream": "stdout",
       "text": [
        "\n",
        "LL = 87485.37683462069\n",
        "Param values 1010.2757417052765,1.0247341909907062e7\n",
        "0.10606906975980021\n",
        "91400"
       ]
      },
      {
       "output_type": "stream",
       "stream": "stdout",
       "text": [
        "\n",
        "LL = 87486.62920000598\n",
        "Param values 1021.4967454124375,9.841077584336603e6\n",
        "0.10616089891574305\n",
        "91500"
       ]
      },
      {
       "output_type": "stream",
       "stream": "stdout",
       "text": [
        "\n",
        "LL = 87486.87095250867\n",
        "Param values 985.9612673500446,1.0069014175235748e7\n",
        "0.10619788194406496\n",
        "91600"
       ]
      },
      {
       "output_type": "stream",
       "stream": "stdout",
       "text": [
        "\n",
        "LL = 87488.17382731377\n",
        "Param values 1010.8517040304162,1.005784156373908e7\n",
        "0.10631120427078898\n",
        "91700"
       ]
      },
      {
       "output_type": "stream",
       "stream": "stdout",
       "text": [
        "\n",
        "LL = 87487.98875643987\n",
        "Param values 995.4914378536585,1.00629797274792e7\n",
        "0.10627160601533277\n",
        "91800"
       ]
      },
      {
       "output_type": "stream",
       "stream": "stdout",
       "text": [
        "\n",
        "LL = 87487.98875643987\n",
        "Param values 995.4914378536585,1.00629797274792e7\n",
        "0.10617762720726805\n",
        "91900"
       ]
      },
      {
       "output_type": "stream",
       "stream": "stdout",
       "text": [
        "\n",
        "LL = 87486.30649439912\n",
        "Param values 985.1828896837252,1.0107206172641536e7\n",
        "0.10624707559385847\n",
        "92000"
       ]
      },
      {
       "output_type": "stream",
       "stream": "stdout",
       "text": [
        "\n",
        "LL = 87487.81527894676\n",
        "Param values 994.3904456021934,1.0072598467642494e7\n",
        "0.106457678887814\n",
        "92100"
       ]
      },
      {
       "output_type": "stream",
       "stream": "stdout",
       "text": [
        "\n",
        "LL = 87488.10906141825\n",
        "Param values 991.3657876007109,9.928087932622109e6\n",
        "0.1065483881475369\n",
        "92200"
       ]
      },
      {
       "output_type": "stream",
       "stream": "stdout",
       "text": [
        "\n",
        "LL = 87487.02759587405\n",
        "Param values 990.0668194033852,9.798439725040773e6\n",
        "0.10655213180186336\n",
        "92300"
       ]
      },
      {
       "output_type": "stream",
       "stream": "stdout",
       "text": [
        "\n",
        "LL = 87488.71530344403\n",
        "Param values 1003.409971106707,9.957982390261654e6\n",
        "0.10659920475844809\n",
        "92400"
       ]
      },
      {
       "output_type": "stream",
       "stream": "stdout",
       "text": [
        "\n",
        "LL = 87488.71530344403\n",
        "Param values 1003.409971106707,9.957982390261654e6\n",
        "0.1065379495449085\n",
        "92500"
       ]
      },
      {
       "output_type": "stream",
       "stream": "stdout",
       "text": [
        "\n",
        "LL = 87488.71530344403\n",
        "Param values 1003.409971106707,9.957982390261654e6\n",
        "0.10646601584881998\n",
        "92600"
       ]
      },
      {
       "output_type": "stream",
       "stream": "stdout",
       "text": [
        "\n",
        "LL = 87488.71530344403\n",
        "Param values 1003.409971106707,9.957982390261654e6\n",
        "0.1063942375187637\n",
        "92700"
       ]
      },
      {
       "output_type": "stream",
       "stream": "stdout",
       "text": [
        "\n",
        "LL = 87488.0231544564\n",
        "Param values 1012.7125091860529,9.879571940861931e6\n",
        "0.10650600330100649\n",
        "92800"
       ]
      },
      {
       "output_type": "stream",
       "stream": "stdout",
       "text": [
        "\n",
        "LL = 87486.60168339171\n",
        "Param values 983.1891012164292,1.004980293951618e7\n",
        "0.10649899244603929\n",
        "92900"
       ]
      },
      {
       "output_type": "stream",
       "stream": "stdout",
       "text": [
        "\n",
        "LL = 87487.2073577084\n",
        "Param values 1006.0091677656894,1.0155345435300685e7\n",
        "0.10650276106309002\n",
        "93000"
       ]
      },
      {
       "output_type": "stream",
       "stream": "stdout",
       "text": [
        "\n",
        "LL = 87487.5617750695\n",
        "Param values 1020.4417197869765,9.991299398525521e6\n",
        "0.10665706082861107\n",
        "93100"
       ]
      },
      {
       "output_type": "stream",
       "stream": "stdout",
       "text": [
        "\n",
        "LL = 87487.13598236044\n",
        "Param values 1011.4147936693157,1.0149922234724395e7\n",
        "0.10671435783413356\n",
        "93200"
       ]
      },
      {
       "output_type": "stream",
       "stream": "stdout",
       "text": [
        "\n",
        "LL = 87487.35850833077\n",
        "Param values 990.5783510063303,9.822280800732924e6\n",
        "0.1066642345947918\n",
        "93300"
       ]
      },
      {
       "output_type": "stream",
       "stream": "stdout",
       "text": [
        "\n",
        "LL = 87487.92020947493\n",
        "Param values 1016.3178999159707,1.0031638569117961e7\n",
        "0.10672140108682837\n",
        "93400"
       ]
      },
      {
       "output_type": "stream",
       "stream": "stdout",
       "text": [
        "\n",
        "LL = 87487.92020947493\n",
        "Param values 1016.3178999159707,1.0031638569117961e7\n",
        "0.10662855062688037\n",
        "93500"
       ]
      },
      {
       "output_type": "stream",
       "stream": "stdout",
       "text": [
        "\n",
        "LL = 87487.92020947493\n",
        "Param values 1016.3178999159707,1.0031638569117961e7\n",
        "0.10676050011230066\n",
        "93600"
       ]
      },
      {
       "output_type": "stream",
       "stream": "stdout",
       "text": [
        "\n",
        "LL = 87487.39391005482\n",
        "Param values 1005.5284863265217,1.0143072383614656e7\n",
        "0.10682806440239746\n",
        "93700"
       ]
      },
      {
       "output_type": "stream",
       "stream": "stdout",
       "text": [
        "\n",
        "LL = 87487.9351302095\n",
        "Param values 989.5187015066667,9.959091022540178e6\n",
        "0.10686346705941366\n",
        "93800"
       ]
      },
      {
       "output_type": "stream",
       "stream": "stdout",
       "text": [
        "\n",
        "LL = 87488.50531768911\n",
        "Param values 1000.5651415967071,9.894595895540055e6\n",
        "0.10697342189149138\n",
        "93900"
       ]
      },
      {
       "output_type": "stream",
       "stream": "stdout",
       "text": [
        "\n",
        "LL = 87488.50531768911\n",
        "Param values 1000.5651415967071,9.894595895540055e6\n",
        "0.10698729485937017\n",
        "94000"
       ]
      },
      {
       "output_type": "stream",
       "stream": "stdout",
       "text": [
        "\n",
        "LL = 87488.50531768911\n",
        "Param values 1000.5651415967071,9.894595895540055e6\n",
        "0.10697986148788817\n",
        "94100"
       ]
      },
      {
       "output_type": "stream",
       "stream": "stdout",
       "text": [
        "\n",
        "LL = 87488.50531768911\n",
        "Param values 1000.5651415967071,9.894595895540055e6\n",
        "0.10697244391545074\n",
        "94200"
       ]
      },
      {
       "output_type": "stream",
       "stream": "stdout",
       "text": [
        "\n",
        "LL = 87488.50531768911\n",
        "Param values 1000.5651415967071,9.894595895540055e6\n",
        "0.10690134714805889\n",
        "94300"
       ]
      },
      {
       "output_type": "stream",
       "stream": "stdout",
       "text": [
        "\n",
        "LL = 87488.50531768911\n",
        "Param values 1000.5651415967071,9.894595895540055e6\n",
        "0.1068091920380916\n",
        "94400"
       ]
      },
      {
       "output_type": "stream",
       "stream": "stdout",
       "text": [
        "\n",
        "LL = 87488.50531768911\n",
        "Param values 1000.5651415967071,9.894595895540055e6\n",
        "0.10680197883452155\n",
        "94500"
       ]
      },
      {
       "output_type": "stream",
       "stream": "stdout",
       "text": [
        "\n",
        "LL = 87488.3318868643\n",
        "Param values 1006.408891750713,1.0057366872370537e7\n",
        "0.10676303452946592\n",
        "94600"
       ]
      },
      {
       "output_type": "stream",
       "stream": "stdout",
       "text": [
        "\n",
        "LL = 87487.4581781156\n",
        "Param values 1006.6530304718225,1.0137921143132955e7\n",
        "0.10688273660398101\n",
        "94700"
       ]
      },
      {
       "output_type": "stream",
       "stream": "stdout",
       "text": [
        "\n",
        "LL = 87488.57964212976\n",
        "Param values 997.7805469047378,9.942248891359359e6\n",
        "0.10698106632593797\n",
        "94800"
       ]
      },
      {
       "output_type": "stream",
       "stream": "stdout",
       "text": [
        "\n",
        "LL = 87488.48239017658\n",
        "Param values 999.1855714289183,1.0021580446697002e7\n",
        "0.10707918859903585\n",
        "94900"
       ]
      },
      {
       "output_type": "stream",
       "stream": "stdout",
       "text": [
        "\n",
        "LL = 87485.14611916753\n",
        "Param values 1032.0092385303744,9.895397949965075e6\n",
        "0.10709280392838702\n",
        "95000"
       ]
      },
      {
       "output_type": "stream",
       "stream": "stdout",
       "text": [
        "\n",
        "LL = 87488.04859274927\n",
        "Param values 995.7711234945982,9.853873262694942e6\n",
        "0.10711691702017916\n",
        "95100"
       ]
      },
      {
       "output_type": "stream",
       "stream": "stdout",
       "text": [
        "\n",
        "LL = 87488.60871748265\n",
        "Param values 1008.5540102658091,9.960725479484363e6\n",
        "0.10716201011577409\n",
        "95200"
       ]
      },
      {
       "output_type": "stream",
       "stream": "stdout",
       "text": [
        "\n",
        "LL = 87485.97808922203\n",
        "Param values 1029.673224097259,1.0012339033155754e7\n",
        "0.1072070084769798\n",
        "95300"
       ]
      },
      {
       "output_type": "stream",
       "stream": "stdout",
       "text": [
        "\n",
        "LL = 87488.49764175608\n",
        "Param values 1008.0214313647322,9.91016310798313e6\n",
        "0.10720993924385355\n",
        "95400"
       ]
      },
      {
       "output_type": "stream",
       "stream": "stdout",
       "text": [
        "\n",
        "LL = 87488.33122116371\n",
        "Param values 999.995338888351,9.869499964705518e6\n",
        "0.10738058050922966\n",
        "95500"
       ]
      },
      {
       "output_type": "stream",
       "stream": "stdout",
       "text": [
        "\n",
        "LL = 87488.67935854627\n",
        "Param values 1005.236699981739,9.988129459126994e6\n",
        "0.10756133572079289\n",
        "95600"
       ]
      },
      {
       "output_type": "stream",
       "stream": "stdout",
       "text": [
        "\n",
        "LL = 87488.26587930704\n",
        "Param values 1000.104079787326,9.86095908474104e6\n",
        "0.10772079205849433\n",
        "95700"
       ]
      },
      {
       "output_type": "stream",
       "stream": "stdout",
       "text": [
        "\n",
        "LL = 87488.23622217689\n",
        "Param values 1010.3704239090239,1.0052459904276103e7\n",
        "0.10779631971075977\n",
        "95800"
       ]
      },
      {
       "output_type": "stream",
       "stream": "stdout",
       "text": [
        "\n",
        "LL = 87488.23622217689\n",
        "Param values 1010.3704239090239,1.0052459904276103e7\n",
        "0.10778818150502614\n",
        "95900"
       ]
      },
      {
       "output_type": "stream",
       "stream": "stdout",
       "text": [
        "\n",
        "LL = 87488.59516737411\n",
        "Param values 998.7842056468379,9.987776876178125e6\n",
        "0.10780091554656461\n",
        "96000"
       ]
      },
      {
       "output_type": "stream",
       "stream": "stdout",
       "text": [
        "\n",
        "LL = 87486.30796716682\n",
        "Param values 1025.1556247249355,1.0097644584828747e7\n",
        "0.10791779081032093\n",
        "96100"
       ]
      },
      {
       "output_type": "stream",
       "stream": "stdout",
       "text": [
        "\n",
        "LL = 87488.63506567516\n",
        "Param values 1002.2397145216497,9.918926590536997e6\n",
        "0.10790955160823734\n",
        "96200"
       ]
      },
      {
       "output_type": "stream",
       "stream": "stdout",
       "text": [
        "\n",
        "LL = 87488.43948011195\n",
        "Param values 995.788379480791,9.923314194401553e6\n",
        "0.1080052807201738\n",
        "96300"
       ]
      },
      {
       "output_type": "stream",
       "stream": "stdout",
       "text": [
        "\n",
        "LL = 87487.48587777029\n",
        "Param values 986.3011547166342,9.913316630220436e6\n",
        "0.10818388560628875\n",
        "96400"
       ]
      },
      {
       "output_type": "stream",
       "stream": "stdout",
       "text": [
        "\n",
        "LL = 87486.89060118243\n",
        "Param values 985.452776702753,9.834766099288365e6\n",
        "0.10817539601033206\n",
        "96500"
       ]
      },
      {
       "output_type": "stream",
       "stream": "stdout",
       "text": [
        "\n",
        "LL = 87488.44455940547\n",
        "Param values 1011.365428466003,9.948143622008985e6\n",
        "0.10818764961294935\n",
        "96600"
       ]
      },
      {
       "output_type": "stream",
       "stream": "stdout",
       "text": [
        "\n",
        "LL = 87488.24349376572\n",
        "Param values 1005.8302792479759,1.0069359784654444e7\n",
        "0.10837586310417292\n",
        "96700"
       ]
      },
      {
       "output_type": "stream",
       "stream": "stdout",
       "text": [
        "\n",
        "LL = 87485.76976187312\n",
        "Param values 1009.0832730654325,9.709172684182148e6\n",
        "0.10846027363261254\n",
        "96800"
       ]
      },
      {
       "output_type": "stream",
       "stream": "stdout",
       "text": [
        "\n",
        "LL = 87485.76976187312\n",
        "Param values 1009.0832730654325,9.709172684182148e6\n",
        "0.10847219496069174\n",
        "96900"
       ]
      },
      {
       "output_type": "stream",
       "stream": "stdout",
       "text": [
        "\n",
        "LL = 87486.90832970408\n",
        "Param values 1016.5404503565504,1.0140356707749426e7\n",
        "0.10846345163520779\n",
        "97000"
       ]
      },
      {
       "output_type": "stream",
       "stream": "stdout",
       "text": [
        "\n",
        "LL = 87487.95457870189\n",
        "Param values 990.4328569720027,9.995796528587297e6\n",
        "0.10878462664563553\n",
        "97100"
       ]
      },
      {
       "output_type": "stream",
       "stream": "stdout",
       "text": [
        "\n",
        "LL = 87487.95457870189\n",
        "Param values 990.4328569720027,9.995796528587297e6\n",
        "0.10883737216655166\n",
        "97200"
       ]
      },
      {
       "output_type": "stream",
       "stream": "stdout",
       "text": [
        "\n",
        "LL = 87487.29566833837\n",
        "Param values 990.0008893729569,1.0080553852393575e7\n",
        "0.10897231452998488\n",
        "97300"
       ]
      },
      {
       "output_type": "stream",
       "stream": "stdout",
       "text": [
        "\n",
        "LL = 87488.23824633678\n",
        "Param values 992.509378235075,9.950759015505308e6\n",
        "0.10905559152714828\n",
        "97400"
       ]
      },
      {
       "output_type": "stream",
       "stream": "stdout",
       "text": [
        "\n",
        "LL = 87487.94005811072\n",
        "Param values 989.6556000355357,9.932031978559824e6\n",
        "0.10909762933911026\n",
        "97500"
       ]
      },
      {
       "output_type": "stream",
       "stream": "stdout",
       "text": [
        "\n",
        "LL = 87486.4209356389\n",
        "Param values 981.2422858214077,1.0028180410285713e7\n",
        "0.1091498374342301\n",
        "97600"
       ]
      },
      {
       "output_type": "stream",
       "stream": "stdout",
       "text": [
        "\n",
        "LL = 87486.26438646197\n",
        "Param values 985.7602830059244,9.778242740923302e6\n",
        "0.10916095451797662\n",
        "97700"
       ]
      },
      {
       "output_type": "stream",
       "stream": "stdout",
       "text": [
        "\n",
        "LL = 87487.66176072971\n",
        "Param values 987.9143144425391,9.99409195567743e6\n",
        "0.1092436974789916\n",
        "97800"
       ]
      },
      {
       "output_type": "stream",
       "stream": "stdout",
       "text": [
        "\n",
        "LL = 87487.46991315654\n",
        "Param values 986.2447341603346,9.983857756369922e6\n",
        "0.10928537101606356\n",
        "97900"
       ]
      },
      {
       "output_type": "stream",
       "stream": "stdout",
       "text": [
        "\n",
        "LL = 87488.67729526029\n",
        "Param values 1001.5799551127185,9.93617371594122e6\n",
        "0.1093576032441598\n",
        "98000"
       ]
      },
      {
       "output_type": "stream",
       "stream": "stdout",
       "text": [
        "\n",
        "LL = 87488.12408731469\n",
        "Param values 997.6978592443122,1.0063350567009151e7\n",
        "0.1094705048010694\n",
        "98100"
       ]
      },
      {
       "output_type": "stream",
       "stream": "stdout",
       "text": [
        "\n",
        "LL = 87487.50993260281\n",
        "Param values 1001.2384351338355,9.792402876580589e6\n",
        "0.10950162590852099\n",
        "98200"
       ]
      },
      {
       "output_type": "stream",
       "stream": "stdout",
       "text": [
        "\n",
        "LL = 87487.21086885621\n",
        "Param values 1011.9553641862683,1.0142717333357554e7\n",
        "0.10954286703530586\n",
        "98300"
       ]
      },
      {
       "output_type": "stream",
       "stream": "stdout",
       "text": [
        "\n",
        "LL = 87487.21086885621\n",
        "Param values 1011.9553641862683,1.0142717333357554e7\n",
        "0.1094924668613109\n",
        "98400"
       ]
      },
      {
       "output_type": "stream",
       "stream": "stdout",
       "text": [
        "\n",
        "LL = 87487.66612189548\n",
        "Param values 1016.2066685292747,1.0073003884433271e7\n",
        "0.10951330806207381\n",
        "98500"
       ]
      },
      {
       "output_type": "stream",
       "stream": "stdout",
       "text": [
        "\n",
        "LL = 87487.66612189548\n",
        "Param values 1016.2066685292747,1.0073003884433271e7\n",
        "0.10945288784657713\n",
        "98600"
       ]
      },
      {
       "output_type": "stream",
       "stream": "stdout",
       "text": [
        "\n",
        "LL = 87487.47972517874\n",
        "Param values 991.2642427933755,9.827779054015284e6\n",
        "0.10945344273268491\n",
        "98700"
       ]
      },
      {
       "output_type": "stream",
       "stream": "stdout",
       "text": [
        "\n",
        "LL = 87487.26010670807\n",
        "Param values 985.9265779033443,9.874127431800652e6\n",
        "0.1095654464584241\n",
        "98800"
       ]
      },
      {
       "output_type": "stream",
       "stream": "stdout",
       "text": [
        "\n",
        "LL = 87487.26010670807\n",
        "Param values 985.9265779033443,9.874127431800652e6\n",
        "0.1096367372139394\n",
        "98900"
       ]
      },
      {
       "output_type": "stream",
       "stream": "stdout",
       "text": [
        "\n",
        "LL = 87487.95917664534\n",
        "Param values 1010.2663685542759,9.852036523208586e6\n",
        "0.10971799512634102\n",
        "99000"
       ]
      },
      {
       "output_type": "stream",
       "stream": "stdout",
       "text": [
        "\n",
        "LL = 87487.8561389016\n",
        "Param values 1012.4198947036176,1.0085197151181996e7\n",
        "0.1098091899918181\n",
        "99100"
       ]
      },
      {
       "output_type": "stream",
       "stream": "stdout",
       "text": [
        "\n",
        "LL = 87487.92023857057\n",
        "Param values 989.359718372286,9.952405890138114e6\n",
        "0.10989010989010989\n",
        "99200"
       ]
      },
      {
       "output_type": "stream",
       "stream": "stdout",
       "text": [
        "\n",
        "LL = 87487.92023857057\n",
        "Param values 989.359718372286,9.952405890138114e6\n",
        "0.10994062440145566\n",
        "99300"
       ]
      },
      {
       "output_type": "stream",
       "stream": "stdout",
       "text": [
        "\n",
        "LL = 87487.92023857057\n",
        "Param values 989.359718372286,9.952405890138114e6\n",
        "0.10997089598082559\n",
        "99400"
       ]
      },
      {
       "output_type": "stream",
       "stream": "stdout",
       "text": [
        "\n",
        "LL = 87487.92023857057\n",
        "Param values 989.359718372286,9.952405890138114e6\n",
        "0.10992062294389279\n",
        "99500"
       ]
      },
      {
       "output_type": "stream",
       "stream": "stdout",
       "text": [
        "\n",
        "LL = 87487.86986095477\n",
        "Param values 989.1414802088746,9.92496234464551e6\n",
        "0.11012170976592729\n",
        "99600"
       ]
      },
      {
       "output_type": "stream",
       "stream": "stdout",
       "text": [
        "\n",
        "LL = 87488.60444775959\n",
        "Param values 1007.982401682083,9.99293693358943e6\n",
        "0.11014166808903704\n",
        "99700"
       ]
      },
      {
       "output_type": "stream",
       "stream": "stdout",
       "text": [
        "\n",
        "LL = 87488.60444775959\n",
        "Param values 1007.982401682083,9.99293693358943e6\n",
        "0.11016158637498871\n",
        "99800"
       ]
      },
      {
       "output_type": "stream",
       "stream": "stdout",
       "text": [
        "\n",
        "LL = 87487.00860012186\n",
        "Param values 1011.7741652999537,9.785567481709812e6\n",
        "0.11023156544654757\n",
        "99900"
       ]
      },
      {
       "output_type": "stream",
       "stream": "stdout",
       "text": [
        "\n",
        "LL = 87487.94445938444\n",
        "Param values 1013.1900848545152,1.0069116715024427e7\n",
        "0.11032142463888528\n",
        "100000"
       ]
      },
      {
       "output_type": "stream",
       "stream": "stdout",
       "text": [
        "\n",
        "LL = 87487.94445938444\n",
        "Param values 1013.1900848545152,1.0069116715024427e7\n",
        "0.11023110231102311\n",
        "\n",
        "Parameter 1 Mean: 997.133575841302\n",
        "Parameter 1 Var: 1180.5048801865153\n",
        "Parameter 1 Std: 34.35847610396182\n",
        "\n",
        "Parameter 2 Mean: 9.565220327937836e6\n",
        "Parameter 2 Var: 1.7846650530169783e12\n",
        "Parameter 2 Std: 1.3359135649498354e6\n",
        "done"
       ]
      },
      {
       "output_type": "stream",
       "stream": "stdout",
       "text": [
        "\n"
       ]
      }
     ],
     "prompt_number": 33
    },
    {
     "cell_type": "code",
     "collapsed": false,
     "input": [
      "readdir(\"Output\")\n"
     ],
     "language": "python",
     "metadata": {},
     "outputs": [
      {
       "metadata": {},
       "output_type": "pyout",
       "prompt_number": 15,
       "text": [
        "59-element Array{Union(ASCIIString,UTF8String),1}:\n",
        " \".gitignore\"                                                 \n",
        " \"ION_Ball_AdaptiveMH_Output_AcceptanceLocal_Part_Final\"      \n",
        " \"ION_Ball_AdaptiveMH_Output_Acceptance_Part_Final\"           \n",
        " \"ION_Ball_AdaptiveMH_Output_LL_Part1.0\"                      \n",
        " \"ION_Ball_AdaptiveMH_Output_LL_Part_Final\"                   \n",
        " \"ION_Ball_AdaptiveMH_Output_Part1.0\"                         \n",
        " \"ION_Ball_AdaptiveMH_Output_Part_Final\"                      \n",
        " \"ION_Ball_MH_Output_AcceptanceLocal_Part1.0\"                 \n",
        " \"ION_Ball_MH_Output_AcceptanceLocal_Part_Final\"              \n",
        " \"ION_Ball_MH_Output_Acceptance_Part1.0\"                      \n",
        " \"ION_Ball_MH_Output_Acceptance_Part_Final\"                   \n",
        " \"ION_Ball_MH_Output_LL_Part1.0\"                              \n",
        " \"ION_Ball_MH_Output_LL_Part_Final\"                           \n",
        " \u22ee                                                            \n",
        " \"ION_dCK_MultMH_Output_LL_Part1.0\"                           \n",
        " \"ION_dCK_MultMH_Output_LL_Part_Final\"                        \n",
        " \"ION_dCK_MultMH_Output_Part1.0\"                              \n",
        " \"ION_dCK_MultMH_Output_Part_Final\"                           \n",
        " \"ION_SevenState_MultMH_MWG_Output_AcceptanceLocal_Part1.0\"   \n",
        " \"ION_SevenState_MultMH_MWG_Output_AcceptanceLocal_Part_Final\"\n",
        " \"ION_SevenState_MultMH_MWG_Output_Acceptance_Part1.0\"        \n",
        " \"ION_SevenState_MultMH_MWG_Output_Acceptance_Part_Final\"     \n",
        " \"ION_SevenState_MultMH_MWG_Output_LL_Part1.0\"                \n",
        " \"ION_SevenState_MultMH_MWG_Output_LL_Part_Final\"             \n",
        " \"ION_SevenState_MultMH_MWG_Output_Part1.0\"                   \n",
        " \"ION_SevenState_MultMH_MWG_Output_Part_Final\"                "
       ]
      }
     ],
     "prompt_number": 15
    },
    {
     "cell_type": "code",
     "collapsed": false,
     "input": [
      "samples = readdlm(\"Output/ION_Ball_$Sampler\\_Output_Part_Final\",',')"
     ],
     "language": "python",
     "metadata": {},
     "outputs": [
      {
       "metadata": {},
       "output_type": "pyout",
       "prompt_number": 34,
       "text": [
        "2x100000 Array{Float64,2}:\n",
        " 100.532  100.532  100.532  100.532  100.532  \u2026  1013.19       1013.19     \n",
        "   5.0e6    5.0e6    5.0e6    5.0e6    5.0e6        1.00691e7     1.00691e7"
       ]
      }
     ],
     "prompt_number": 34
    },
    {
     "cell_type": "code",
     "collapsed": false,
     "input": [
      "\n",
      "for i in (1)\n",
      "    for j in (1,2)\n",
      "        iterator=2*(i-1)+j\n",
      "        subplot(2,2,iterator)\n",
      "        plt.plot(vec(samples[iterator,:]))\n",
      "        plt.title(model.ParaNames[iterator])\n",
      "        \n",
      "        plt.show()\n",
      "    end\n",
      "end\n",
      "plt.suptitle(\"Trace plots\")\n"
     ],
     "language": "python",
     "metadata": {},
     "outputs": [
      {
       "metadata": {},
       "output_type": "display_data",
       "png": "[encoded data removed]",
       "text": [
        "Figure(PyObject <matplotlib.figure.Figure object at 0x7f5ad7d79f50>)"
       ]
      },
      {
       "metadata": {},
       "output_type": "pyout",
       "prompt_number": 35,
       "text": [
        "PyObject <matplotlib.text.Text object at 0x7f5ad7fad5d0>"
       ]
      }
     ],
     "prompt_number": 35
    },
    {
     "cell_type": "code",
     "collapsed": false,
     "input": [
      "#parameter histograms and scatter\n",
      "ASSUME_BURNIN = floor(length(vec(samples[1,:]))/2)\n",
      "println(\"Assuming burnin of \",ASSUME_BURNIN)\n",
      "for i in (1)\n",
      "    for j in (1,2)\n",
      "        iterator=2*(i-1)+j\n",
      "        subplot(2,2,iterator)\n",
      "        plt.hist(vec(samples[iterator,ASSUME_BURNIN:end]))\n",
      "        plt.title(model.ParaNames[iterator])\n",
      "        \n",
      "        plt.show()\n",
      "    end\n",
      "end\n",
      "plt.suptitle(\"Parameter Histograms\")"
     ],
     "language": "python",
     "metadata": {},
     "outputs": [
      {
       "output_type": "stream",
       "stream": "stdout",
       "text": [
        "Assuming burnin of 5"
       ]
      },
      {
       "output_type": "stream",
       "stream": "stdout",
       "text": [
        "0000.0\n"
       ]
      },
      {
       "metadata": {},
       "output_type": "display_data",
       "png": "[encoded data removed]",
       "text": [
        "Figure(PyObject <matplotlib.figure.Figure object at 0x7f5ad739f050>)"
       ]
      },
      {
       "metadata": {},
       "output_type": "pyout",
       "prompt_number": 36,
       "text": [
        "PyObject <matplotlib.text.Text object at 0x7f5ad71df550>"
       ]
      }
     ],
     "prompt_number": 36
    },
    {
     "cell_type": "code",
     "collapsed": false,
     "input": [
      "figure(figsize=(4,4))\n",
      "plt.scatter(vec(samples[1,ASSUME_BURNIN:end]),vec(samples[2,ASSUME_BURNIN:end]),s=0.5, alpha=0.5)\n",
      "plt.xlabel(model.ParaNames[1])\n",
      "plt.ylabel(model.ParaNames[2])\n",
      "plt.title(\"Parameter scatterplot\")"
     ],
     "language": "python",
     "metadata": {},
     "outputs": [
      {
       "metadata": {},
       "output_type": "display_data",
       "png": "[encoded data removed]",
       "text": [
        "Figure(PyObject <matplotlib.figure.Figure object at 0x7f5ad791a810>)"
       ]
      },
      {
       "metadata": {},
       "output_type": "pyout",
       "prompt_number": 37,
       "text": [
        "PyObject <matplotlib.text.Text object at 0x7f5ad7146b50>"
       ]
      }
     ],
     "prompt_number": 37
    },
    {
     "cell_type": "code",
     "collapsed": false,
     "input": [
      "LAGS=50\n",
      "println(\"Assuming burnin of \",ASSUME_BURNIN, \" and LAGS of \", LAGS)\n",
      "for i in (1)\n",
      "    for j in (1,2)\n",
      "        iterator=2*(i-1)+j\n",
      "        subplot(2,2,iterator)\n",
      "        plt.plot(autocor(vec(samples[iterator,ASSUME_BURNIN:end]),0:LAGS))\n",
      "        plt.title(model.ParaNames[iterator])\n",
      "        \n",
      "        plt.show()\n",
      "    end\n",
      "end\n",
      "plt.suptitle(\"Parameter Autocorrelations\")"
     ],
     "language": "python",
     "metadata": {},
     "outputs": [
      {
       "output_type": "stream",
       "stream": "stdout",
       "text": [
        "Assuming burnin of 5"
       ]
      },
      {
       "output_type": "stream",
       "stream": "stdout",
       "text": [
        "0000.0 and LAGS of 50\n"
       ]
      },
      {
       "metadata": {},
       "output_type": "display_data",
       "png": "[encoded data removed]",
       "text": [
        "Figure(PyObject <matplotlib.figure.Figure object at 0x7f5ad71dff90>)"
       ]
      },
      {
       "metadata": {},
       "output_type": "pyout",
       "prompt_number": 38,
       "text": [
        "PyObject <matplotlib.text.Text object at 0x7f5ad6b38c90>"
       ]
      }
     ],
     "prompt_number": 38
    },
    {
     "cell_type": "code",
     "collapsed": false,
     "input": [
      "LL = readdlm(\"Output/ION_Ball_$Sampler\\_Output_LL_Part_Final\",',');"
     ],
     "language": "python",
     "metadata": {},
     "outputs": [],
     "prompt_number": 40
    },
    {
     "cell_type": "code",
     "collapsed": false,
     "input": [
      "figure(figsize=(5, 3))\n",
      "plot(LL)\n",
      "ylabel(\"Log-likelihood\")\n",
      "xlabel(\"Iteration\")\n",
      "title(\"Log-likelihood convergence\")"
     ],
     "language": "python",
     "metadata": {},
     "outputs": [
      {
       "metadata": {},
       "output_type": "display_data",
       "png": "[encoded data removed]",
       "text": [
        "Figure(PyObject <matplotlib.figure.Figure object at 0x7f5ad6fe6450>)"
       ]
      },
      {
       "metadata": {},
       "output_type": "pyout",
       "prompt_number": 41,
       "text": [
        "PyObject <matplotlib.text.Text object at 0x7f5ad6d03c50>"
       ]
      }
     ],
     "prompt_number": 41
    },
    {
     "cell_type": "code",
     "collapsed": false,
     "input": [
      "\n",
      "acceptance = readdlm(\"Output/ION_Ball_$Sampler\\_Output_Acceptance_Part_Final\",',');\n",
      "sizes = size(acceptance)\n",
      "plot([1:sizes[1]],acceptance[:])\n",
      "acceptancelocal = readdlm(\"Output/ION_Ball_$Sampler\\_Output_AcceptanceLocal_Part_Final\",',');\n",
      "plot([1:sizes[1]],acceptancelocal[:])\n",
      "ylabel(\"acceptance rate\")\n",
      "xlabel(\"Iteration*100\")\n",
      "title(\"Acceptance rate\")"
     ],
     "language": "python",
     "metadata": {},
     "outputs": [
      {
       "metadata": {},
       "output_type": "display_data",
       "png": "[encoded data removed]",
       "text": [
        "Figure(PyObject <matplotlib.figure.Figure object at 0x7f5ad6f0d890>)"
       ]
      },
      {
       "metadata": {},
       "output_type": "pyout",
       "prompt_number": 42,
       "text": [
        "PyObject <matplotlib.text.Text object at 0x7f5ad6c44990>"
       ]
      }
     ],
     "prompt_number": 42
    },
    {
     "cell_type": "code",
     "collapsed": false,
     "input": [
      "Sampler             = \"AdaptiveMH\"\n",
      "OutputID            = \"Output/ION_Ball_$Sampler\\_Output\"\n"
     ],
     "language": "python",
     "metadata": {},
     "outputs": [
      {
       "metadata": {},
       "output_type": "pyout",
       "prompt_number": 11,
       "text": [
        "\"Output/ION_Ball_AdaptiveMH_Output\""
       ]
      }
     ],
     "prompt_number": 11
    },
    {
     "cell_type": "code",
     "collapsed": false,
     "input": [],
     "language": "python",
     "metadata": {},
     "outputs": [],
     "prompt_number": 81
    }
   ],
   "metadata": {}
  }
 ]
}