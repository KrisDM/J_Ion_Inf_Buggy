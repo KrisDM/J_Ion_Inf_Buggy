{
 "metadata": {
  "language": "Julia",
  "name": ""
 },
 "nbformat": 3,
 "nbformat_minor": 0,
 "worksheets": [
  {
   "cells": [
    {
     "cell_type": "code",
     "collapsed": false,
     "input": [
      "projbasedir = \"/home/michaelepstein/Ion/\"\n",
      "cd(projbasedir)\n",
      "\n",
      "using MCMCTypes\n",
      "using MAT\n",
      "# Function to create available models\n",
      "include(string(projbasedir,\"ion/model/CreateModel.jl\"))\n",
      "\n",
      "# Function to parse matlab data files\n",
      "include(string(projbasedir,\"ion/data/MatlabParser.jl\"))\n",
      "\n",
      "# Enum of Ion-channel models which can be created\n",
      "AvailableModels = include(string(projbasedir,\"ion/model/ModelEnum.jl\"))\n",
      "\n",
      "#create the dCK model\n",
      "model = CreateModel(AvailableModels.DCK,true)\n",
      "\n",
      "datafile = string(projbasedir,\"ion/data/dCK.mat\")\n",
      "println(\"Parsing datafile $datafile\")\n",
      "data = MatlabParser(datafile)"
     ],
     "language": "python",
     "metadata": {},
     "outputs": [
      {
       "output_type": "stream",
       "stream": "stdout",
       "text": [
        "Creating del-Castillo-Katz Model. Params = 4, States = 3\n"
       ]
      },
      {
       "output_type": "stream",
       "stream": "stdout",
       "text": [
        "Parsing datafile /home/michaelepstein/Ion/ion/data/dCK.mat\n"
       ]
      },
      {
       "metadata": {},
       "output_type": "pyout",
       "prompt_number": 3,
       "text": [
        "Dict{Any,Any} with 9 entries:\n",
        "  \"tcrit\"           => [0.002 0.0035 0.035]\n",
        "  \"useChs\"          => [1.0 1.0 0.0]\n",
        "  \"tres\"            => [2.5e-5 2.5e-5 2.5e-5]\n",
        "  \"burst_nos\"       => Uint64[9539,9528,4068]\n",
        "  \"burst_intervals\" => {[0.017585996627807618,0.0022483878135681153,0.020933897\u2026\n",
        "  \"experiment_nos\"  => 3\n",
        "  \"pybursts\"        => {{[0.017585996627807618],[0.0022483878135681153],[0.0209\u2026\n",
        "  \"burst_lengths\"   => {Uint64[1,1,1,3,1,1,1,1,1,1,1,1,1,1,1,1,1,1,1,1,1,1,1,1,\u2026\n",
        "  \"concs\"           => [1.0e-8 1.0e-7 1.0e-5]"
       ]
      }
     ],
     "prompt_number": 3
    },
    {
     "cell_type": "code",
     "collapsed": false,
     "input": [
      "println(data.)"
     ],
     "language": "python",
     "metadata": {},
     "outputs": [
      {
       "ename": "LoadError",
       "evalue": "data not defined\nwhile loading In[1], in expression starting on line 1",
       "output_type": "pyerr",
       "traceback": [
        "data not defined\nwhile loading In[1], in expression starting on line 1",
        ""
       ]
      }
     ],
     "prompt_number": 1
    },
    {
     "cell_type": "code",
     "collapsed": false,
     "input": [],
     "language": "python",
     "metadata": {},
     "outputs": []
    }
   ],
   "metadata": {}
  }
 ]
}