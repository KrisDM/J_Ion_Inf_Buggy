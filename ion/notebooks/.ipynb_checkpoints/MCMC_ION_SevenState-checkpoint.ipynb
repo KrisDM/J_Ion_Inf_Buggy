{
 "metadata": {
  "language": "Julia",
  "name": ""
 },
 "nbformat": 3,
 "nbformat_minor": 0,
 "worksheets": [
  {
   "cells": [
    {
     "cell_type": "code",
     "collapsed": false,
     "input": [
      "projbasedir = \"/home/michaelepstein/Ion/\""
     ],
     "language": "python",
     "metadata": {},
     "outputs": [
      {
       "metadata": {},
       "output_type": "pyout",
       "prompt_number": 1,
       "text": [
        "\"/home/michaelepstein/Ion/\""
       ]
      }
     ],
     "prompt_number": 1
    },
    {
     "cell_type": "code",
     "collapsed": false,
     "input": [
      "\n",
      "cd(projbasedir)\n",
      "using MAT\n",
      "using Distributions\n",
      "using MCMCTypes\n",
      "using PyPlot"
     ],
     "language": "python",
     "metadata": {},
     "outputs": [],
     "prompt_number": 4
    },
    {
     "cell_type": "code",
     "collapsed": false,
     "input": [
      "\n",
      "\n",
      "# Function for updating parameters - Gibbs step 1\n",
      "include(string(projbasedir,\"MCMCUpdateParameters.jl\"))\n",
      "\n",
      "# Function for updating indicator - Gibbs step 2\n",
      "include(string(projbasedir,\"MCMCUpdateIndicator.jl\"))\n",
      "\n",
      "# Function for the main MCMC routine\n",
      "include(string(projbasedir,\"MCMCRun.jl\"))\n",
      "\n",
      "# Enum of Ion-channel models which can be created\n",
      "AvailableModels = include(string(projbasedir,\"ion/model/ModelEnum.jl\"))\n",
      "\n",
      "# Function to create available models\n",
      "include(string(projbasedir,\"ion/model/CreateModel.jl\"))\n",
      "\n",
      "# Function to parse matlab data files\n",
      "include(string(projbasedir,\"ion/data/MatlabParser.jl\"))\n",
      "\n",
      "Sampler             = \"MultMH\"\n",
      "OutputID            = \"Output/ION_SevenState_MultMH_MWG_Output\"\n",
      "InitialStepSize     = 0.01 # MH stepsize\n",
      "NumOfIterations     = 1500\n",
      "\n",
      "NumOfProposals      = 1\n",
      "ProposalCovariance  = eye(10,10)\n",
      "InitialiseFromPrior = false # Sample starting parameters from prior\n",
      "\n",
      "# Define function for updating the parameters (1st Gibbs step)\n",
      "UpdateParasFunction     = UpdateParameters\n",
      "\n",
      "# Define function for sampling the indicator variable (2nd Gibbs step)\n",
      "SampleIndicatorFunction = SampleIndicator\n",
      "\n",
      "#create the dCK model\n",
      "model = CreateModel(4)\n",
      "\n",
      "#data parsing from MATLAB experimental files\n",
      "\n",
      "datafile = string(projbasedir,\"ion/data/AchSyntheticData.mat\")\n",
      "println(\"Parsing datafile $datafile\")\n",
      "data = MatlabParser(datafile)\n",
      "\n",
      "println(string(\"Likelihood with default params = \", model.LLEval(model.DefaultParas,model,data)))\n",
      "\n",
      "MySimulation = MCMCSimulation( OutputID,\n",
      "                               Sampler,\n",
      "                               NumOfProposals,\n",
      "                               NumOfIterations,\n",
      "                               InitialStepSize,\n",
      "                               ProposalCovariance,\n",
      "                               InitialiseFromPrior,\n",
      "                               UpdateParasFunction,\n",
      "                               SampleIndicatorFunction,\n",
      "                               model,\n",
      "                               data,\n",
      "                               true)\n",
      "\n",
      "\n",
      "# Run the MCMC code, passing in the MCMCSimulation object\n",
      "MCMCRun( MySimulation );\n",
      "println(\"done\")\n"
     ],
     "language": "python",
     "metadata": {},
     "outputs": [
      {
       "output_type": "stream",
       "stream": "stdout",
       "text": [
        "Creating Hatton Seven State model with independent binding. Params = 10, States = 7\n"
       ]
      },
      {
       "output_type": "stream",
       "stream": "stdout",
       "text": [
        "Parsing datafile /home/michaelepstein/Ion/ion/data/AchSyntheticData.mat\n",
        "Likelihood with default params = 172081.67363261755"
       ]
      },
      {
       "output_type": "stream",
       "stream": "stdout",
       "text": [
        "\n",
        "Setting up Markov chain proposal..."
       ]
      },
      {
       "output_type": "stream",
       "stream": "stdout",
       "text": [
        "\n",
        "Creating chain object...\n",
        "Initialising..."
       ]
      },
      {
       "output_type": "stream",
       "stream": "stdout",
       "text": [
        "\n",
        "The chosen sampler is Multiplicative Metropolis-Hastings.\n",
        "Starting main MCMC routine...\n",
        "Stepsize i 1,0.01\n",
        "Stepsize i "
       ]
      },
      {
       "output_type": "stream",
       "stream": "stdout",
       "text": [
        "2,0.01\n",
        "Stepsize i 3,0.01\n",
        "Stepsize i 4,0.01\n",
        "Stepsize i 5,0.01\n",
        "Stepsize i "
       ]
      },
      {
       "output_type": "stream",
       "stream": "stdout",
       "text": [
        "6,0.01\n",
        "Stepsize i 7,0.01\n",
        "Stepsize i 8,0.01\n",
        "Stepsize i 9,0.01\n",
        "Stepsize i "
       ]
      },
      {
       "output_type": "stream",
       "stream": "stdout",
       "text": [
        "10,0.01\n",
        "Stepsize i 1,0.01\n",
        "Stepsize i 2,0.01\n",
        "Stepsize i "
       ]
      },
      {
       "output_type": "stream",
       "stream": "stdout",
       "text": [
        "3,0.01\n",
        "Stepsize i 4,0.01\n",
        "Stepsize i 5,0.01\n",
        "Stepsize i 6,0.01\n",
        "Stepsize i "
       ]
      },
      {
       "output_type": "stream",
       "stream": "stdout",
       "text": [
        "7,0.01\n",
        "Stepsize i 8,0.01\n",
        "Stepsize i 9,0.01\n",
        "Stepsize i 10,0.01\n",
        "Stepsize i "
       ]
      },
      {
       "output_type": "stream",
       "stream": "stdout",
       "text": [
        "1,0.01\n",
        "Stepsize i 2,0.01\n",
        "Stepsize i 3,0.01\n",
        "Stepsize i 4,0.01\n",
        "Stepsize i "
       ]
      },
      {
       "output_type": "stream",
       "stream": "stdout",
       "text": [
        "5,0.01\n",
        "Stepsize i 6,0.01\n",
        "Stepsize i 7,0.01\n",
        "Stepsize i 8,0.01\n",
        "Stepsize i "
       ]
      },
      {
       "output_type": "stream",
       "stream": "stdout",
       "text": [
        "9,0.01\n",
        "Stepsize i 10,0.01\n",
        "Stepsize i 1,0.01\n",
        "Stepsize i 2,0.01\n",
        "Stepsize i "
       ]
      },
      {
       "output_type": "stream",
       "stream": "stdout",
       "text": [
        "3,0.01\n",
        "Stepsize i 4,0.01\n",
        "Stepsize i 5,0.01\n",
        "Stepsize i 6,0.01\n",
        "Stepsize i "
       ]
      },
      {
       "output_type": "stream",
       "stream": "stdout",
       "text": [
        "7,0.01\n",
        "Stepsize i 8,0.01\n",
        "Stepsize i 9,0.01\n",
        "Stepsize i 10,0.01\n",
        "Stepsize i "
       ]
      },
      {
       "output_type": "stream",
       "stream": "stdout",
       "text": [
        "1,0.01\n",
        "Stepsize i 2,0.01\n",
        "Stepsize i 3,0.01\n",
        "Stepsize i 4,0.01\n",
        "Stepsize i "
       ]
      },
      {
       "output_type": "stream",
       "stream": "stdout",
       "text": [
        "5,0.01\n",
        "Stepsize i 6,0.01\n",
        "Stepsize i 7,0.01\n",
        "Stepsize i 8,0.01\n",
        "Stepsize i "
       ]
      },
      {
       "output_type": "stream",
       "stream": "stdout",
       "text": [
        "9,0.01\n",
        "Stepsize i 10,0.01\n",
        "Stepsize i 1,0.01\n",
        "Stepsize i 2,0.01\n",
        "Stepsize i "
       ]
      },
      {
       "output_type": "stream",
       "stream": "stdout",
       "text": [
        "3,0.01\n",
        "Stepsize i 4,0.01\n",
        "Stepsize i 5,0.01\n",
        "Stepsize i 6,0.01\n",
        "Stepsize i "
       ]
      },
      {
       "output_type": "stream",
       "stream": "stdout",
       "text": [
        "7,0.01\n",
        "Stepsize i 8,0.01\n",
        "Stepsize i 9,0.01\n",
        "Stepsize i 10,0.01\n",
        "Stepsize i "
       ]
      },
      {
       "output_type": "stream",
       "stream": "stdout",
       "text": [
        "1,0.01\n",
        "Stepsize i 2,0.01\n",
        "Stepsize i 3,0.01\n",
        "Stepsize i 4,0.01\n",
        "Stepsize i "
       ]
      },
      {
       "output_type": "stream",
       "stream": "stdout",
       "text": [
        "5,0.01\n",
        "Stepsize i 6,0.01\n",
        "Stepsize i 7,0.01\n",
        "Stepsize i 8,0.01\n",
        "Stepsize i "
       ]
      },
      {
       "output_type": "stream",
       "stream": "stdout",
       "text": [
        "9,0.01\n",
        "Stepsize i 10,0.01\n",
        "Stepsize i 1,0.01\n",
        "Stepsize i 2,0.01\n",
        "Stepsize i "
       ]
      },
      {
       "output_type": "stream",
       "stream": "stdout",
       "text": [
        "3,0.01\n",
        "Stepsize i 4,0.01\n",
        "Stepsize i 5,0.01\n",
        "Stepsize i 6,0.01\n",
        "Stepsize i "
       ]
      },
      {
       "output_type": "stream",
       "stream": "stdout",
       "text": [
        "7,0.01\n",
        "Stepsize i 8,0.01\n",
        "Stepsize i 9,0.01\n",
        "Stepsize i 10,0.01\n",
        "Stepsize i "
       ]
      },
      {
       "output_type": "stream",
       "stream": "stdout",
       "text": [
        "1,0.01\n",
        "Stepsize i 2,0.01\n",
        "Stepsize i 3,0.01\n",
        "Stepsize i 4,0.01\n",
        "Stepsize i "
       ]
      },
      {
       "output_type": "stream",
       "stream": "stdout",
       "text": [
        "5,0.01\n",
        "Stepsize i 6,0.01\n",
        "Stepsize i 7,0.01\n",
        "Stepsize i 8,0.01\n",
        "Stepsize i "
       ]
      },
      {
       "output_type": "stream",
       "stream": "stdout",
       "text": [
        "9,0.01\n",
        "Stepsize i 10,0.01\n",
        "Stepsize i 1,0.01\n",
        "Stepsize i 2,0.01\n",
        "Stepsize i "
       ]
      },
      {
       "output_type": "stream",
       "stream": "stdout",
       "text": [
        "3,0.01\n",
        "Stepsize i 4,0.01\n",
        "Stepsize i 5,0.01\n",
        "Stepsize i 6,0.01\n",
        "Stepsize i "
       ]
      },
      {
       "output_type": "stream",
       "stream": "stdout",
       "text": [
        "7,0.01\n",
        "Stepsize i 8,0.01\n",
        "Stepsize i 9,0.01\n",
        "Stepsize i 10,0.01\n",
        "Stepsize i "
       ]
      },
      {
       "output_type": "stream",
       "stream": "stdout",
       "text": [
        "1,0.01\n",
        "Stepsize i 2,0.01\n",
        "Stepsize i 3,0.01\n",
        "Stepsize i 4,0.01\n",
        "Stepsize i "
       ]
      },
      {
       "output_type": "stream",
       "stream": "stdout",
       "text": [
        "5,0.01\n",
        "Stepsize i 6,0.01\n",
        "Stepsize i 7,0.01\n",
        "Stepsize i 8,0.01\n",
        "Stepsize i "
       ]
      },
      {
       "output_type": "stream",
       "stream": "stdout",
       "text": [
        "9,0.01\n",
        "Stepsize i 10,0.01\n",
        "Stepsize i 1,0.01\n",
        "Stepsize i 2,0.01\n",
        "Stepsize i "
       ]
      },
      {
       "output_type": "stream",
       "stream": "stdout",
       "text": [
        "3,0.01\n",
        "Stepsize i 4,0.01\n",
        "Stepsize i 5,0.01\n",
        "Stepsize i 6,0.01\n",
        "Stepsize i "
       ]
      },
      {
       "output_type": "stream",
       "stream": "stdout",
       "text": [
        "7,0.01\n",
        "Stepsize i 8,0.01\n",
        "Stepsize i 9,0.01\n",
        "Stepsize i 10,0.01\n",
        "Stepsize i "
       ]
      },
      {
       "output_type": "stream",
       "stream": "stdout",
       "text": [
        "1,0.01\n",
        "Stepsize i 2,0.01\n",
        "Stepsize i 3,0.01\n",
        "Stepsize i 4,0.01\n",
        "Stepsize i "
       ]
      },
      {
       "output_type": "stream",
       "stream": "stdout",
       "text": [
        "5,0.01\n",
        "Stepsize i 6,0.01\n",
        "Stepsize i 7,0.01\n",
        "Stepsize i 8,0.01\n",
        "Stepsize i "
       ]
      },
      {
       "output_type": "stream",
       "stream": "stdout",
       "text": [
        "9,0.01\n",
        "Stepsize i 10,0.01\n",
        "Stepsize i 1,0.01\n",
        "Stepsize i 2,0.01\n",
        "Stepsize i "
       ]
      },
      {
       "output_type": "stream",
       "stream": "stdout",
       "text": [
        "3,0.01\n",
        "Stepsize i 4,0.01\n",
        "Stepsize i 5,0.01\n",
        "Stepsize i "
       ]
      },
      {
       "output_type": "stream",
       "stream": "stdout",
       "text": [
        "6,0.01\n",
        "Stepsize i 7,0.01\n",
        "Stepsize i 8,0.01\n",
        "Stepsize i "
       ]
      },
      {
       "output_type": "stream",
       "stream": "stdout",
       "text": [
        "9,0.01\n",
        "Stepsize i 10,0.01\n",
        "Stepsize i 1,0.01\n",
        "Stepsize i 2"
       ]
      },
      {
       "output_type": "stream",
       "stream": "stdout",
       "text": [
        ",0.01\n",
        "Stepsize i 3,0.01\n",
        "Stepsize i 4,0.01\n",
        "Stepsize i 5,0.01\n",
        "Stepsize i "
       ]
      },
      {
       "output_type": "stream",
       "stream": "stdout",
       "text": [
        "6,0.01\n",
        "Stepsize i 7,0.01\n",
        "Stepsize i 8,0.01\n",
        "Stepsize i 9,0.01\n",
        "Stepsize i "
       ]
      },
      {
       "output_type": "stream",
       "stream": "stdout",
       "text": [
        "10,0.01\n",
        "Stepsize i 1,0.01\n",
        "Stepsize i 2,0.01\n",
        "Stepsize i 3,0.01\n",
        "Stepsize i "
       ]
      },
      {
       "output_type": "stream",
       "stream": "stdout",
       "text": [
        "4,0.01\n",
        "Stepsize i 5,0.01\n",
        "Stepsize i 6,0.01\n",
        "Stepsize i 7,0.01\n",
        "Stepsize i "
       ]
      },
      {
       "output_type": "stream",
       "stream": "stdout",
       "text": [
        "8,0.01\n",
        "Stepsize i 9,0.01\n",
        "Stepsize i 10,0.01\n",
        "Stepsize i 1,0.01\n",
        "Stepsize i "
       ]
      },
      {
       "output_type": "stream",
       "stream": "stdout",
       "text": [
        "2,0.01\n",
        "Stepsize i 3,0.01\n",
        "Stepsize i 4,0.01\n",
        "Stepsize i 5,0.01\n",
        "Stepsize i "
       ]
      },
      {
       "output_type": "stream",
       "stream": "stdout",
       "text": [
        "6,0.01\n",
        "Stepsize i 7,0.01\n",
        "Stepsize i 8,0.01\n",
        "Stepsize i 9,0.01\n",
        "Stepsize i "
       ]
      },
      {
       "output_type": "stream",
       "stream": "stdout",
       "text": [
        "10,0.01\n",
        "Stepsize i 1,0.01\n",
        "Stepsize i 2,0.01\n",
        "Stepsize i 3,0.01\n",
        "Stepsize i "
       ]
      },
      {
       "output_type": "stream",
       "stream": "stdout",
       "text": [
        "4,0.01\n",
        "Stepsize i 5,0.01\n",
        "Stepsize i 6,0.01\n",
        "Stepsize i 7,0.01\n",
        "Stepsize i "
       ]
      },
      {
       "output_type": "stream",
       "stream": "stdout",
       "text": [
        "8,0.01\n",
        "Stepsize i 9,0.01\n",
        "Stepsize i 10,0.01\n",
        "Stepsize i 1,0.01\n",
        "Stepsize i "
       ]
      },
      {
       "output_type": "stream",
       "stream": "stdout",
       "text": [
        "2,0.01\n",
        "Stepsize i 3,0.01\n",
        "Stepsize i 4,0.01\n",
        "Stepsize i 5,0.01\n",
        "Stepsize i "
       ]
      },
      {
       "output_type": "stream",
       "stream": "stdout",
       "text": [
        "6,0.01\n",
        "Stepsize i 7,0.01\n",
        "Stepsize i 8,0.01\n",
        "Stepsize i 9,0.01\n",
        "Stepsize i "
       ]
      },
      {
       "output_type": "stream",
       "stream": "stdout",
       "text": [
        "10,0.01\n",
        "Stepsize i 1,0.01\n",
        "Stepsize i 2,0.01\n",
        "Stepsize i 3,0.01\n",
        "Stepsize i "
       ]
      },
      {
       "output_type": "stream",
       "stream": "stdout",
       "text": [
        "4,0.01\n",
        "Stepsize i 5,0.01\n",
        "Stepsize i 6,0.01\n",
        "Stepsize i 7,0.01\n",
        "Stepsize i "
       ]
      },
      {
       "output_type": "stream",
       "stream": "stdout",
       "text": [
        "8,0.01\n",
        "Stepsize i 9,0.01\n",
        "Stepsize i 10,0.01\n",
        "Stepsize i 1,0.01\n",
        "Stepsize i "
       ]
      },
      {
       "output_type": "stream",
       "stream": "stdout",
       "text": [
        "2,0.01\n",
        "Stepsize i 3,0.01\n",
        "Stepsize i 4,0.01\n",
        "Stepsize i 5,0.01\n",
        "Stepsize i "
       ]
      },
      {
       "output_type": "stream",
       "stream": "stdout",
       "text": [
        "6,0.01\n",
        "Stepsize i 7,0.01\n",
        "Stepsize i 8,0.01\n",
        "Stepsize i 9,0.01\n",
        "Stepsize i "
       ]
      },
      {
       "output_type": "stream",
       "stream": "stdout",
       "text": [
        "10,0.01\n",
        "Stepsize i 1,0.01\n",
        "Stepsize i 2,0.01\n",
        "Stepsize i 3,0.01\n",
        "Stepsize i "
       ]
      },
      {
       "output_type": "stream",
       "stream": "stdout",
       "text": [
        "4,0.01\n",
        "Stepsize i 5,0.01\n",
        "Stepsize i 6,0.01\n",
        "Stepsize i 7,0.01\n",
        "Stepsize i "
       ]
      },
      {
       "output_type": "stream",
       "stream": "stdout",
       "text": [
        "8,0.01\n",
        "Stepsize i 9,0.01\n",
        "Stepsize i 10,0.01\n",
        "Stepsize i 1,0.01\n",
        "Stepsize i "
       ]
      },
      {
       "output_type": "stream",
       "stream": "stdout",
       "text": [
        "2,0.01\n",
        "Stepsize i 3,0.01\n",
        "Stepsize i 4,0.01\n",
        "Stepsize i 5,0.01\n",
        "Stepsize i "
       ]
      },
      {
       "output_type": "stream",
       "stream": "stdout",
       "text": [
        "6,0.01\n",
        "Stepsize i 7,0.01\n",
        "Stepsize i 8,0.01\n",
        "Stepsize i 9,0.01\n",
        "Stepsize i "
       ]
      },
      {
       "output_type": "stream",
       "stream": "stdout",
       "text": [
        "10,0.01\n",
        "Stepsize i 1,0.01\n",
        "Stepsize i 2,0.01\n",
        "Stepsize i 3,0.01\n",
        "Stepsize i "
       ]
      },
      {
       "output_type": "stream",
       "stream": "stdout",
       "text": [
        "4,0.01\n",
        "Stepsize i 5,0.01\n",
        "Stepsize i 6,0.01\n",
        "Stepsize i 7,0.01\n",
        "Stepsize i "
       ]
      },
      {
       "output_type": "stream",
       "stream": "stdout",
       "text": [
        "8,0.01\n",
        "Stepsize i 9,0.01\n",
        "Stepsize i 10,0.01\n",
        "Stepsize i 1,0.01\n",
        "Stepsize i "
       ]
      },
      {
       "output_type": "stream",
       "stream": "stdout",
       "text": [
        "2,0.01\n",
        "Stepsize i 3,0.01\n",
        "Stepsize i 4,0.01\n",
        "Stepsize i 5,0.01\n",
        "Stepsize i "
       ]
      },
      {
       "output_type": "stream",
       "stream": "stdout",
       "text": [
        "6,0.01\n",
        "Stepsize i 7,0.01\n",
        "Stepsize i 8,0.01\n",
        "Stepsize i 9,0.01\n",
        "Stepsize i "
       ]
      },
      {
       "output_type": "stream",
       "stream": "stdout",
       "text": [
        "10,0.01\n",
        "Stepsize i 1,0.01\n",
        "Stepsize i 2,0.01\n",
        "Stepsize i 3,0.01\n",
        "Stepsize i "
       ]
      },
      {
       "output_type": "stream",
       "stream": "stdout",
       "text": [
        "4,0.01\n",
        "Stepsize i 5,0.01\n",
        "Stepsize i 6,0.01\n",
        "Stepsize i 7,0.01\n",
        "Stepsize i "
       ]
      },
      {
       "output_type": "stream",
       "stream": "stdout",
       "text": [
        "8,0.01\n",
        "Stepsize i 9,0.01\n",
        "Stepsize i 10,0.01\n",
        "Stepsize i 1,0.01\n",
        "Stepsize i "
       ]
      },
      {
       "output_type": "stream",
       "stream": "stdout",
       "text": [
        "2,0.01\n",
        "Stepsize i 3,0.01\n",
        "Stepsize i 4,0.01\n",
        "Stepsize i 5,0.01\n",
        "Stepsize i "
       ]
      },
      {
       "output_type": "stream",
       "stream": "stdout",
       "text": [
        "6,0.01\n",
        "Stepsize i 7,0.01\n",
        "Stepsize i 8,0.01\n",
        "Stepsize i 9,0.01\n",
        "Stepsize i "
       ]
      },
      {
       "output_type": "stream",
       "stream": "stdout",
       "text": [
        "10,0.01\n",
        "Stepsize i 1,0.01\n",
        "Stepsize i 2,0.01\n",
        "Stepsize i 3,0.01\n",
        "Stepsize i "
       ]
      },
      {
       "output_type": "stream",
       "stream": "stdout",
       "text": [
        "4,0.01\n",
        "Stepsize i 5,0.01\n",
        "Stepsize i 6,0.01\n",
        "Stepsize i 7,0.01\n",
        "Stepsize i "
       ]
      },
      {
       "output_type": "stream",
       "stream": "stdout",
       "text": [
        "8,0.01\n",
        "Stepsize i 9,0.01\n",
        "Stepsize i 10,0.01\n",
        "Stepsize i 1,0.01\n",
        "Stepsize i "
       ]
      },
      {
       "output_type": "stream",
       "stream": "stdout",
       "text": [
        "2,0.01\n",
        "Stepsize i 3,0.01\n",
        "Stepsize i 4,0.01\n",
        "Stepsize i 5,0.01\n",
        "Stepsize i "
       ]
      },
      {
       "output_type": "stream",
       "stream": "stdout",
       "text": [
        "6,0.01\n",
        "Stepsize i 7,0.01\n",
        "Stepsize i 8,0.01\n",
        "Stepsize i 9,0.01\n",
        "Stepsize i "
       ]
      },
      {
       "output_type": "stream",
       "stream": "stdout",
       "text": [
        "10,0.01\n",
        "Stepsize i 1,0.01\n",
        "Stepsize i 2,0.01\n",
        "Stepsize i 3,0.01\n",
        "Stepsize i "
       ]
      },
      {
       "output_type": "stream",
       "stream": "stdout",
       "text": [
        "4,0.01\n",
        "Stepsize i 5,0.01\n",
        "Stepsize i 6,0.01\n",
        "Stepsize i "
       ]
      },
      {
       "output_type": "stream",
       "stream": "stdout",
       "text": [
        "7,0.01\n",
        "Stepsize i 8,0.01\n",
        "Stepsize i 9,0.01\n",
        "Stepsize i 10,0.01\n",
        "Stepsize i "
       ]
      },
      {
       "output_type": "stream",
       "stream": "stdout",
       "text": [
        "1,0.01\n",
        "Stepsize i 2,0.01\n",
        "Stepsize i 3,0.01\n",
        "Stepsize i 4,0.01\n",
        "Stepsize i "
       ]
      },
      {
       "output_type": "stream",
       "stream": "stdout",
       "text": [
        "5,0.01\n",
        "Stepsize i 6,0.01\n",
        "Stepsize i 7,0.01\n",
        "Stepsize i "
       ]
      },
      {
       "output_type": "stream",
       "stream": "stdout",
       "text": [
        "8,0.01\n",
        "Stepsize i 9,0.01\n",
        "Stepsize i 10,0.01\n",
        "Stepsize i "
       ]
      },
      {
       "output_type": "stream",
       "stream": "stdout",
       "text": [
        "1,0.01\n",
        "Stepsize i 2,0.01\n",
        "Stepsize i 3,0.01\n",
        "Stepsize i 4,0.01\n",
        "Stepsize i "
       ]
      },
      {
       "output_type": "stream",
       "stream": "stdout",
       "text": [
        "5,0.01\n",
        "Stepsize i 6,0.01\n",
        "Stepsize i 7,0.01\n",
        "Stepsize i "
       ]
      },
      {
       "output_type": "stream",
       "stream": "stdout",
       "text": [
        "8,0.01\n",
        "Stepsize i 9,0.01\n",
        "Stepsize i 10,0.01\n",
        "Stepsize i "
       ]
      },
      {
       "output_type": "stream",
       "stream": "stdout",
       "text": [
        "1,0.01\n",
        "Stepsize i 2,0.01\n",
        "Stepsize i 3,0.01\n",
        "Stepsize i 4,0.01\n",
        "Stepsize i "
       ]
      },
      {
       "output_type": "stream",
       "stream": "stdout",
       "text": [
        "5,0.01\n",
        "Stepsize i 6,0.01\n",
        "Stepsize i 7,0.01\n",
        "Stepsize i 8,0.01\n",
        "Stepsize i "
       ]
      },
      {
       "output_type": "stream",
       "stream": "stdout",
       "text": [
        "9,0.01\n",
        "Stepsize i 10,0.01\n",
        "Stepsize i 1,0.01\n",
        "Stepsize i "
       ]
      },
      {
       "output_type": "stream",
       "stream": "stdout",
       "text": [
        "2,0.01\n",
        "Stepsize i 3,0.01\n",
        "Stepsize i 4,0.01\n",
        "Stepsize i "
       ]
      },
      {
       "output_type": "stream",
       "stream": "stdout",
       "text": [
        "5,0.01\n",
        "Stepsize i 6,0.01\n",
        "Stepsize i 7,0.01\n",
        "Stepsize i 8,0.01\n",
        "Stepsize i "
       ]
      },
      {
       "output_type": "stream",
       "stream": "stdout",
       "text": [
        "9,0.01\n",
        "Stepsize i 10,0.01\n",
        "Stepsize i 1,0.01\n",
        "Stepsize i 2,0.01\n",
        "Stepsize i "
       ]
      },
      {
       "output_type": "stream",
       "stream": "stdout",
       "text": [
        "3,0.01\n",
        "Stepsize i 4,0.01\n",
        "Stepsize i 5,0.01\n",
        "Stepsize i "
       ]
      },
      {
       "output_type": "stream",
       "stream": "stdout",
       "text": [
        "6,0.01\n",
        "Stepsize i 7,0.01\n",
        "Stepsize i 8,0.01\n",
        "Stepsize i 9,0.01\n",
        "Stepsize i "
       ]
      },
      {
       "output_type": "stream",
       "stream": "stdout",
       "text": [
        "10,0.01\n",
        "Stepsize i 1,0.01\n",
        "Stepsize i 2,0.01\n",
        "Stepsize i 3,0.01\n",
        "Stepsize i "
       ]
      },
      {
       "output_type": "stream",
       "stream": "stdout",
       "text": [
        "4,0.01\n",
        "Stepsize i 5,0.01\n",
        "Stepsize i 6,0.01\n",
        "Stepsize i 7,0.01\n",
        "Stepsize i "
       ]
      },
      {
       "output_type": "stream",
       "stream": "stdout",
       "text": [
        "8,0.01\n",
        "Stepsize i 9,0.01\n",
        "Stepsize i 10,0.01\n",
        "Stepsize i 1,0.01\n",
        "Stepsize i "
       ]
      },
      {
       "output_type": "stream",
       "stream": "stdout",
       "text": [
        "2,0.01\n",
        "Stepsize i 3,0.01\n",
        "Stepsize i 4,0.01\n",
        "Stepsize i 5,0.01\n",
        "Stepsize i "
       ]
      },
      {
       "output_type": "stream",
       "stream": "stdout",
       "text": [
        "6,0.01\n",
        "Stepsize i 7,0.01\n",
        "Stepsize i 8,0.01\n",
        "Stepsize i 9,0.01\n",
        "Stepsize i "
       ]
      },
      {
       "output_type": "stream",
       "stream": "stdout",
       "text": [
        "10,0.01\n",
        "Stepsize i 1,0.01\n",
        "Stepsize i 2,0.01\n",
        "Stepsize i 3,0.01\n",
        "Stepsize i "
       ]
      },
      {
       "output_type": "stream",
       "stream": "stdout",
       "text": [
        "4,0.01\n",
        "Stepsize i 5,0.01\n",
        "Stepsize i 6,0.01\n",
        "Stepsize i 7,0.01\n",
        "Stepsize i "
       ]
      },
      {
       "output_type": "stream",
       "stream": "stdout",
       "text": [
        "8,0.01\n",
        "Stepsize i 9,0.01\n",
        "Stepsize i 10,0.01\n",
        "Stepsize i 1,0.01\n",
        "Stepsize i "
       ]
      },
      {
       "output_type": "stream",
       "stream": "stdout",
       "text": [
        "2,0.01\n",
        "Stepsize i 3,0.01\n",
        "Stepsize i 4,0.01\n",
        "Stepsize i 5,0.01\n",
        "Stepsize i "
       ]
      },
      {
       "output_type": "stream",
       "stream": "stdout",
       "text": [
        "6,0.01\n",
        "Stepsize i 7,0.01\n",
        "Stepsize i 8,0.01\n",
        "Stepsize i "
       ]
      },
      {
       "output_type": "stream",
       "stream": "stdout",
       "text": [
        "9,0.01\n",
        "Stepsize i 10,0.01\n",
        "Stepsize i 1,0.01\n",
        "Stepsize i 2,0.01\n",
        "Stepsize i "
       ]
      },
      {
       "output_type": "stream",
       "stream": "stdout",
       "text": [
        "3,0.01\n",
        "Stepsize i 4,0.01\n",
        "Stepsize i 5,0.01\n",
        "Stepsize i 6,0.01\n",
        "Stepsize i "
       ]
      },
      {
       "output_type": "stream",
       "stream": "stdout",
       "text": [
        "7,0.01\n",
        "Stepsize i 8,0.01\n",
        "Stepsize i 9,0.01\n",
        "Stepsize i 10,0.01\n",
        "Stepsize i "
       ]
      },
      {
       "output_type": "stream",
       "stream": "stdout",
       "text": [
        "1,0.01\n",
        "Stepsize i 2,0.01\n",
        "Stepsize i 3,0.01\n",
        "Stepsize i 4,0.01\n",
        "Stepsize i "
       ]
      },
      {
       "output_type": "stream",
       "stream": "stdout",
       "text": [
        "5,0.01\n",
        "Stepsize i 6,0.01\n",
        "Stepsize i 7,0.01\n",
        "Stepsize i 8,0.01\n",
        "Stepsize i "
       ]
      },
      {
       "output_type": "stream",
       "stream": "stdout",
       "text": [
        "9,0.01\n",
        "Stepsize i 10,0.01\n",
        "Stepsize i 1,0.01\n",
        "Stepsize i 2,0.01\n",
        "Stepsize i "
       ]
      },
      {
       "output_type": "stream",
       "stream": "stdout",
       "text": [
        "3,0.01\n",
        "Stepsize i 4,0.01\n",
        "Stepsize i 5,0.01\n",
        "Stepsize i 6,0.01\n",
        "Stepsize i "
       ]
      },
      {
       "output_type": "stream",
       "stream": "stdout",
       "text": [
        "7,0.01\n",
        "Stepsize i 8,0.01\n",
        "Stepsize i 9,0.01\n",
        "Stepsize i "
       ]
      },
      {
       "output_type": "stream",
       "stream": "stdout",
       "text": [
        "10,0.01\n",
        "Stepsize i 1,0.01\n",
        "Stepsize i 2,0.01\n",
        "Stepsize i "
       ]
      },
      {
       "output_type": "stream",
       "stream": "stdout",
       "text": [
        "3,0.01\n",
        "Stepsize i 4,0.01\n",
        "Stepsize i 5,0.01\n",
        "Stepsize i 6,0.01\n",
        "Stepsize i "
       ]
      },
      {
       "output_type": "stream",
       "stream": "stdout",
       "text": [
        "7,0.01\n",
        "Stepsize i 8,0.01\n",
        "Stepsize i 9,0.01\n",
        "Stepsize i 10,0.01\n",
        "Stepsize i "
       ]
      },
      {
       "output_type": "stream",
       "stream": "stdout",
       "text": [
        "1,0.01\n",
        "Stepsize i 2,0.01\n",
        "Stepsize i 3,0.01\n",
        "Stepsize i 4,0.01\n",
        "Stepsize i "
       ]
      },
      {
       "output_type": "stream",
       "stream": "stdout",
       "text": [
        "5,0.01\n",
        "Stepsize i 6,0.01\n",
        "Stepsize i 7,0.01\n",
        "Stepsize i 8,0.01\n",
        "Stepsize i "
       ]
      },
      {
       "output_type": "stream",
       "stream": "stdout",
       "text": [
        "9,0.01\n",
        "Stepsize i 10,0.01\n",
        "Stepsize i 1,0.01\n",
        "Stepsize i 2,0.01\n",
        "Stepsize i "
       ]
      },
      {
       "output_type": "stream",
       "stream": "stdout",
       "text": [
        "3,0.01\n",
        "Stepsize i 4,0.01\n",
        "Stepsize i 5,0.01\n",
        "Stepsize i 6,0.01\n",
        "Stepsize i "
       ]
      },
      {
       "output_type": "stream",
       "stream": "stdout",
       "text": [
        "7,0.01\n",
        "Stepsize i 8,0.01\n",
        "Stepsize i 9,0.01\n",
        "Stepsize i 10,0.01\n",
        "Stepsize i "
       ]
      },
      {
       "output_type": "stream",
       "stream": "stdout",
       "text": [
        "1,0.01\n",
        "Stepsize i 2,0.01\n",
        "Stepsize i 3,0.01\n",
        "Stepsize i 4,0.01\n",
        "Stepsize i "
       ]
      },
      {
       "output_type": "stream",
       "stream": "stdout",
       "text": [
        "5,0.01\n",
        "Stepsize i 6,0.01\n",
        "Stepsize i 7,0.01\n",
        "Stepsize i 8,0.01\n",
        "Stepsize i "
       ]
      },
      {
       "output_type": "stream",
       "stream": "stdout",
       "text": [
        "9,0.01\n",
        "Stepsize i 10,0.01\n",
        "Stepsize i 1,0.01\n",
        "Stepsize i 2,0.01\n",
        "Stepsize i "
       ]
      },
      {
       "output_type": "stream",
       "stream": "stdout",
       "text": [
        "3,0.01\n",
        "Stepsize i 4,0.01\n",
        "Stepsize i 5,0.01\n",
        "Stepsize i 6,0.01\n",
        "Stepsize i "
       ]
      },
      {
       "output_type": "stream",
       "stream": "stdout",
       "text": [
        "7,0.01\n",
        "Stepsize i 8,0.01\n",
        "Stepsize i 9,0.01\n",
        "Stepsize i 10,0.01\n",
        "Stepsize i "
       ]
      },
      {
       "output_type": "stream",
       "stream": "stdout",
       "text": [
        "1,0.01\n",
        "Stepsize i 2,0.01\n",
        "Stepsize i 3,0.01\n",
        "Stepsize i 4,0.01\n",
        "Stepsize i "
       ]
      },
      {
       "output_type": "stream",
       "stream": "stdout",
       "text": [
        "5,0.01\n",
        "Stepsize i 6,0.01\n",
        "Stepsize i 7,0.01\n",
        "Stepsize i 8,0.01\n",
        "Stepsize i "
       ]
      },
      {
       "output_type": "stream",
       "stream": "stdout",
       "text": [
        "9,0.01\n",
        "Stepsize i 10,0.01\n",
        "Stepsize i 1,0.01\n",
        "Stepsize i 2,0.01\n",
        "Stepsize i "
       ]
      },
      {
       "output_type": "stream",
       "stream": "stdout",
       "text": [
        "3,0.01\n",
        "Stepsize i 4,0.01\n",
        "Stepsize i 5,0.01\n",
        "Stepsize i 6,0.01\n",
        "Stepsize i "
       ]
      },
      {
       "output_type": "stream",
       "stream": "stdout",
       "text": [
        "7,0.01\n",
        "Stepsize i 8,0.01\n",
        "Stepsize i 9,0.01\n",
        "Stepsize i 10,0.01\n",
        "Stepsize i "
       ]
      },
      {
       "output_type": "stream",
       "stream": "stdout",
       "text": [
        "1,0.01\n",
        "Stepsize i 2,0.01\n",
        "Stepsize i 3,0.01\n",
        "Stepsize i 4,0.01\n",
        "Stepsize i "
       ]
      },
      {
       "output_type": "stream",
       "stream": "stdout",
       "text": [
        "5,0.01\n",
        "Stepsize i 6,0.01\n",
        "Stepsize i 7,0.01\n",
        "Stepsize i "
       ]
      },
      {
       "output_type": "stream",
       "stream": "stdout",
       "text": [
        "8,0.01\n",
        "Stepsize i 9,0.01\n",
        "Stepsize i 10,0.01\n",
        "Stepsize i 1,0.01\n",
        "Stepsize i "
       ]
      },
      {
       "output_type": "stream",
       "stream": "stdout",
       "text": [
        "2,0.01\n",
        "Stepsize i 3,0.01\n",
        "Stepsize i 4,0.01\n",
        "Stepsize i "
       ]
      },
      {
       "output_type": "stream",
       "stream": "stdout",
       "text": [
        "5,0.01\n",
        "Stepsize i 6,0.01\n",
        "Stepsize i 7,0.01\n",
        "Stepsize i "
       ]
      },
      {
       "output_type": "stream",
       "stream": "stdout",
       "text": [
        "8,0.01\n",
        "Stepsize i 9,0.01\n",
        "Stepsize i 10,0.01\n",
        "Stepsize i 1,0.01\n",
        "Stepsize i "
       ]
      },
      {
       "output_type": "stream",
       "stream": "stdout",
       "text": [
        "2,0.01\n",
        "Stepsize i 3,0.01\n",
        "Stepsize i 4,0.01\n",
        "Stepsize i 5,0.01\n",
        "Stepsize i "
       ]
      },
      {
       "output_type": "stream",
       "stream": "stdout",
       "text": [
        "6,0.01\n",
        "Stepsize i 7,0.01\n",
        "Stepsize i 8,0.01\n",
        "Stepsize i 9,0.01\n",
        "Stepsize i "
       ]
      },
      {
       "output_type": "stream",
       "stream": "stdout",
       "text": [
        "10,0.01\n",
        "Stepsize i 1,0.01\n",
        "Stepsize i 2,0.01\n",
        "Stepsize i 3,0.01\n",
        "Stepsize i "
       ]
      },
      {
       "output_type": "stream",
       "stream": "stdout",
       "text": [
        "4,0.01\n",
        "Stepsize i 5,0.01\n",
        "Stepsize i 6,0.01\n",
        "Stepsize i 7,0.01\n",
        "Stepsize i "
       ]
      },
      {
       "output_type": "stream",
       "stream": "stdout",
       "text": [
        "8,0.01\n",
        "Stepsize i 9,0.01\n",
        "Stepsize i 10,0.01\n",
        "Stepsize i 1,0.01\n",
        "Stepsize i "
       ]
      },
      {
       "output_type": "stream",
       "stream": "stdout",
       "text": [
        "2,0.01\n",
        "Stepsize i 3,0.01\n",
        "Stepsize i 4,0.01\n",
        "Stepsize i 5,0.01\n",
        "Stepsize i "
       ]
      },
      {
       "output_type": "stream",
       "stream": "stdout",
       "text": [
        "6,0.01\n",
        "Stepsize i 7,0.01\n",
        "Stepsize i 8,0.01\n",
        "Stepsize i 9,0.01\n",
        "Stepsize i "
       ]
      },
      {
       "output_type": "stream",
       "stream": "stdout",
       "text": [
        "10,0.01\n",
        "Stepsize i 1,0.01\n",
        "Stepsize i 2,0.01\n",
        "Stepsize i 3,0.01\n",
        "Stepsize i "
       ]
      },
      {
       "output_type": "stream",
       "stream": "stdout",
       "text": [
        "4,0.01\n",
        "Stepsize i 5,0.01\n",
        "Stepsize i 6,0.01\n",
        "Stepsize i 7,0.01\n",
        "Stepsize i "
       ]
      },
      {
       "output_type": "stream",
       "stream": "stdout",
       "text": [
        "8,0.01\n",
        "Stepsize i 9,0.01\n",
        "Stepsize i 10,0.01\n",
        "Stepsize i 1,0.01\n",
        "Stepsize i "
       ]
      },
      {
       "output_type": "stream",
       "stream": "stdout",
       "text": [
        "2,0.01\n",
        "Stepsize i 3,0.01\n",
        "Stepsize i 4,0.01\n",
        "Stepsize i 5,0.01\n",
        "Stepsize i "
       ]
      },
      {
       "output_type": "stream",
       "stream": "stdout",
       "text": [
        "6,0.01\n",
        "Stepsize i 7,0.01\n",
        "Stepsize i 8,0.01\n",
        "Stepsize i "
       ]
      },
      {
       "output_type": "stream",
       "stream": "stdout",
       "text": [
        "9,0.01\n",
        "Stepsize i 10,0.01\n",
        "Stepsize i 1,0.01\n",
        "Stepsize i 2,0.01\n",
        "Stepsize i "
       ]
      },
      {
       "output_type": "stream",
       "stream": "stdout",
       "text": [
        "3,0.01\n",
        "Stepsize i 4,0.01\n",
        "Stepsize i 5,0.01\n",
        "Stepsize i 6,0.01\n",
        "Stepsize i "
       ]
      },
      {
       "output_type": "stream",
       "stream": "stdout",
       "text": [
        "7,0.01\n",
        "Stepsize i 8,0.01\n",
        "Stepsize i 9,0.01\n",
        "Stepsize i 10,0.01\n",
        "Stepsize i "
       ]
      },
      {
       "output_type": "stream",
       "stream": "stdout",
       "text": [
        "1,0.01\n",
        "Stepsize i 2,0.01\n",
        "Stepsize i 3,0.01\n",
        "Stepsize i 4,0.01\n",
        "Stepsize i "
       ]
      },
      {
       "output_type": "stream",
       "stream": "stdout",
       "text": [
        "5,0.01\n",
        "Stepsize i 6,0.01\n",
        "Stepsize i 7,0.01\n",
        "Stepsize i 8,0.01\n",
        "Stepsize i "
       ]
      },
      {
       "output_type": "stream",
       "stream": "stdout",
       "text": [
        "9,0.01\n",
        "Stepsize i 10,0.01\n",
        "Stepsize i 1,0.01\n",
        "Stepsize i 2,0.01\n",
        "Stepsize i "
       ]
      },
      {
       "output_type": "stream",
       "stream": "stdout",
       "text": [
        "3,0.01\n",
        "Stepsize i 4,0.01\n",
        "Stepsize i 5,0.01\n",
        "Stepsize i 6,0.01\n",
        "Stepsize i "
       ]
      },
      {
       "output_type": "stream",
       "stream": "stdout",
       "text": [
        "7,0.01\n",
        "Stepsize i 8,0.01\n",
        "Stepsize i 9,0.01\n",
        "Stepsize i 10,0.01\n",
        "Stepsize i "
       ]
      },
      {
       "output_type": "stream",
       "stream": "stdout",
       "text": [
        "1,0.01\n",
        "Stepsize i 2,0.01\n",
        "Stepsize i 3,0.01\n",
        "Stepsize i 4,0.01\n",
        "Stepsize i "
       ]
      },
      {
       "output_type": "stream",
       "stream": "stdout",
       "text": [
        "5,0.01\n",
        "Stepsize i 6,0.01\n",
        "Stepsize i 7,0.01\n",
        "Stepsize i 8,0.01\n",
        "Stepsize i "
       ]
      },
      {
       "output_type": "stream",
       "stream": "stdout",
       "text": [
        "9,0.01\n",
        "Stepsize i 10,0.01\n",
        "Stepsize i 1,0.01\n",
        "Stepsize i 2,0.01\n",
        "Stepsize i "
       ]
      },
      {
       "output_type": "stream",
       "stream": "stdout",
       "text": [
        "3,0.01\n",
        "Stepsize i 4,0.01\n",
        "Stepsize i 5,0.01\n",
        "Stepsize i 6,0.01\n",
        "Stepsize i "
       ]
      },
      {
       "output_type": "stream",
       "stream": "stdout",
       "text": [
        "7,0.01\n",
        "Stepsize i 8,0.01\n",
        "Stepsize i 9,0.01\n",
        "Stepsize i 10,0.01\n",
        "Stepsize i "
       ]
      },
      {
       "output_type": "stream",
       "stream": "stdout",
       "text": [
        "1,0.01\n",
        "Stepsize i 2,0.01\n",
        "Stepsize i 3,0.01\n",
        "Stepsize i 4,0.01\n",
        "Stepsize i "
       ]
      },
      {
       "output_type": "stream",
       "stream": "stdout",
       "text": [
        "5,0.01\n",
        "Stepsize i 6,0.01\n",
        "Stepsize i 7,0.01\n",
        "Stepsize i "
       ]
      },
      {
       "output_type": "stream",
       "stream": "stdout",
       "text": [
        "8,0.01\n",
        "Stepsize i 9,0.01\n",
        "Stepsize i 10,0.01\n",
        "Stepsize i 1,0.01\n",
        "Stepsize i "
       ]
      },
      {
       "output_type": "stream",
       "stream": "stdout",
       "text": [
        "2,0.01\n",
        "Stepsize i 3,0.01\n",
        "Stepsize i 4,0.01\n",
        "Stepsize i 5,0.01\n",
        "Stepsize i "
       ]
      },
      {
       "output_type": "stream",
       "stream": "stdout",
       "text": [
        "6,0.01\n",
        "Stepsize i 7,0.01\n",
        "Stepsize i 8,0.01\n",
        "Stepsize i 9,0.01\n",
        "Stepsize i "
       ]
      },
      {
       "output_type": "stream",
       "stream": "stdout",
       "text": [
        "10,0.01\n",
        "Stepsize i 1,0.01\n",
        "Stepsize i 2,0.01\n",
        "Stepsize i 3,0.01\n",
        "Stepsize i "
       ]
      },
      {
       "output_type": "stream",
       "stream": "stdout",
       "text": [
        "4,0.01\n",
        "Stepsize i 5,0.01\n",
        "Stepsize i 6,0.01\n",
        "Stepsize i 7,0.01\n",
        "Stepsize i "
       ]
      },
      {
       "output_type": "stream",
       "stream": "stdout",
       "text": [
        "8,0.01\n",
        "Stepsize i 9,0.01\n",
        "Stepsize i 10,0.01\n",
        "Stepsize i "
       ]
      },
      {
       "output_type": "stream",
       "stream": "stdout",
       "text": [
        "1,0.01\n",
        "Stepsize i 2,0.01\n",
        "Stepsize i 3,0.01\n",
        "Stepsize i 4,0.01\n",
        "Stepsize i "
       ]
      },
      {
       "output_type": "stream",
       "stream": "stdout",
       "text": [
        "5,0.01\n",
        "Stepsize i 6,0.01\n",
        "Stepsize i 7,0.01\n",
        "Stepsize i 8,0.01\n",
        "Stepsize i "
       ]
      },
      {
       "output_type": "stream",
       "stream": "stdout",
       "text": [
        "9,0.01\n",
        "Stepsize i 10,0.01\n",
        "Stepsize i 1,0.01\n",
        "Stepsize i 2,0.01\n",
        "Stepsize i "
       ]
      },
      {
       "output_type": "stream",
       "stream": "stdout",
       "text": [
        "3,0.01\n",
        "Stepsize i 4,0.01\n",
        "Stepsize i 5,0.01\n",
        "Stepsize i 6,0.01\n",
        "Stepsize i "
       ]
      },
      {
       "output_type": "stream",
       "stream": "stdout",
       "text": [
        "7,0.01\n",
        "Stepsize i 8,0.01\n",
        "Stepsize i 9,0.01\n",
        "Stepsize i 10,0.01\n",
        "Stepsize i "
       ]
      },
      {
       "output_type": "stream",
       "stream": "stdout",
       "text": [
        "1,0.01\n",
        "Stepsize i 2,0.01\n",
        "Stepsize i 3,0.01\n",
        "Stepsize i 4,0.01\n",
        "Stepsize i "
       ]
      },
      {
       "output_type": "stream",
       "stream": "stdout",
       "text": [
        "5,0.01\n",
        "Stepsize i 6,0.01\n",
        "Stepsize i 7,0.01\n",
        "Stepsize i 8,0.01\n",
        "Stepsize i "
       ]
      },
      {
       "output_type": "stream",
       "stream": "stdout",
       "text": [
        "9,0.01\n",
        "Stepsize i 10,0.01\n",
        "Stepsize i 1,0.01\n",
        "Stepsize i 2,0.01\n",
        "Stepsize i "
       ]
      },
      {
       "output_type": "stream",
       "stream": "stdout",
       "text": [
        "3,0.01\n",
        "Stepsize i 4,0.01\n",
        "Stepsize i 5,0.01\n",
        "Stepsize i 6,0.01\n",
        "Stepsize i "
       ]
      },
      {
       "output_type": "stream",
       "stream": "stdout",
       "text": [
        "7,0.01\n",
        "Stepsize i 8,0.01\n",
        "Stepsize i 9,0.01\n",
        "Stepsize i 10,0.01\n",
        "Stepsize i "
       ]
      },
      {
       "output_type": "stream",
       "stream": "stdout",
       "text": [
        "1,0.01\n",
        "Stepsize i 2,0.01\n",
        "Stepsize i 3,0.01\n",
        "Stepsize i 4,0.01\n",
        "Stepsize i "
       ]
      },
      {
       "output_type": "stream",
       "stream": "stdout",
       "text": [
        "5,0.01\n",
        "Stepsize i 6,0.01\n",
        "Stepsize i 7,0.01\n",
        "Stepsize i 8,0.01\n",
        "Stepsize i "
       ]
      },
      {
       "output_type": "stream",
       "stream": "stdout",
       "text": [
        "9,0.01\n",
        "Stepsize i 10,0.01\n",
        "Stepsize i 1,0.01\n",
        "Stepsize i 2,0.01\n",
        "Stepsize i "
       ]
      },
      {
       "output_type": "stream",
       "stream": "stdout",
       "text": [
        "3,0.01\n",
        "Stepsize i 4,0.01\n",
        "Stepsize i 5,0.01\n",
        "Stepsize i 6,0.01\n",
        "Stepsize i "
       ]
      },
      {
       "output_type": "stream",
       "stream": "stdout",
       "text": [
        "7,0.01\n",
        "Stepsize i 8,0.01\n",
        "Stepsize i 9,0.01\n",
        "Stepsize i 10,0.01\n",
        "Stepsize i "
       ]
      },
      {
       "output_type": "stream",
       "stream": "stdout",
       "text": [
        "1,0.01\n",
        "Stepsize i 2,0.01\n",
        "Stepsize i 3,0.01\n",
        "Stepsize i "
       ]
      },
      {
       "output_type": "stream",
       "stream": "stdout",
       "text": [
        "4,0.01\n",
        "Stepsize i 5,0.01\n",
        "Stepsize i 6,0.01\n",
        "Stepsize i 7,0.01\n",
        "Stepsize i "
       ]
      },
      {
       "output_type": "stream",
       "stream": "stdout",
       "text": [
        "8,0.01\n",
        "Stepsize i 9,0.01\n",
        "Stepsize i 10,0.01\n",
        "Stepsize i 1,0.01\n",
        "Stepsize i "
       ]
      },
      {
       "output_type": "stream",
       "stream": "stdout",
       "text": [
        "2,0.01\n",
        "Stepsize i 3,0.01\n",
        "Stepsize i 4,0.01\n",
        "Stepsize i 5,0.01\n",
        "Stepsize i "
       ]
      },
      {
       "output_type": "stream",
       "stream": "stdout",
       "text": [
        "6,0.01\n",
        "Stepsize i 7,0.01\n",
        "Stepsize i 8,0.01\n",
        "Stepsize i 9,0.01\n",
        "Stepsize i "
       ]
      },
      {
       "output_type": "stream",
       "stream": "stdout",
       "text": [
        "10,0.01\n",
        "Stepsize i 1,0.01\n",
        "Stepsize i 2,0.01\n",
        "Stepsize i 3,0.01\n",
        "Stepsize i "
       ]
      },
      {
       "output_type": "stream",
       "stream": "stdout",
       "text": [
        "4,0.01\n",
        "Stepsize i 5,0.01\n",
        "Stepsize i 6,0.01\n",
        "Stepsize i "
       ]
      },
      {
       "output_type": "stream",
       "stream": "stdout",
       "text": [
        "7,0.01\n",
        "Stepsize i 8,0.01\n",
        "Stepsize i 9,0.01\n",
        "Stepsize i "
       ]
      },
      {
       "output_type": "stream",
       "stream": "stdout",
       "text": [
        "10,0.01\n",
        "Stepsize i 1,0.01\n",
        "Stepsize i 2,0.01\n",
        "Stepsize i 3,0.01\n",
        "Stepsize i "
       ]
      },
      {
       "output_type": "stream",
       "stream": "stdout",
       "text": [
        "4,0.01\n",
        "Stepsize i 5,0.01\n",
        "Stepsize i 6,0.01\n",
        "Stepsize i 7,0.01\n",
        "Stepsize i "
       ]
      },
      {
       "output_type": "stream",
       "stream": "stdout",
       "text": [
        "8,0.01\n",
        "Stepsize i 9,0.01\n",
        "Stepsize i 10,0.01\n",
        "Stepsize i 1,0.01\n",
        "Stepsize i "
       ]
      },
      {
       "output_type": "stream",
       "stream": "stdout",
       "text": [
        "2,0.01\n",
        "Stepsize i 3,0.01\n",
        "Stepsize i 4,0.01\n",
        "Stepsize i 5,0.01\n",
        "Stepsize i "
       ]
      },
      {
       "output_type": "stream",
       "stream": "stdout",
       "text": [
        "6,0.01\n",
        "Stepsize i 7,0.01\n",
        "Stepsize i 8,0.01\n",
        "Stepsize i 9,0.01\n",
        "Stepsize i "
       ]
      },
      {
       "output_type": "stream",
       "stream": "stdout",
       "text": [
        "10,0.01\n",
        "Stepsize i 1,0.01\n",
        "Stepsize i 2,0.01\n",
        "Stepsize i 3,0.01\n",
        "Stepsize i "
       ]
      },
      {
       "output_type": "stream",
       "stream": "stdout",
       "text": [
        "4,0.01\n",
        "Stepsize i 5,0.01\n",
        "Stepsize i 6,0.01\n",
        "Stepsize i 7,0.01\n",
        "Stepsize i "
       ]
      },
      {
       "output_type": "stream",
       "stream": "stdout",
       "text": [
        "8,0.01\n",
        "Stepsize i 9,0.01\n",
        "Stepsize i 10,0.01\n",
        "Stepsize i 1,0.01\n",
        "Stepsize i "
       ]
      },
      {
       "output_type": "stream",
       "stream": "stdout",
       "text": [
        "2,0.01\n",
        "Stepsize i 3,0.01\n",
        "Stepsize i 4,0.01\n",
        "Stepsize i 5,0.01\n",
        "Stepsize i "
       ]
      },
      {
       "output_type": "stream",
       "stream": "stdout",
       "text": [
        "6,0.01\n",
        "Stepsize i 7,0.01\n",
        "Stepsize i 8,0.01\n",
        "Stepsize i 9,0.01\n",
        "Stepsize i "
       ]
      },
      {
       "output_type": "stream",
       "stream": "stdout",
       "text": [
        "10,0.01\n",
        "Stepsize i 1,0.01\n",
        "Stepsize i 2,0.01\n",
        "Stepsize i 3,0.01\n",
        "Stepsize i "
       ]
      },
      {
       "output_type": "stream",
       "stream": "stdout",
       "text": [
        "4,0.01\n",
        "Stepsize i 5,0.01\n",
        "Stepsize i 6,0.01\n",
        "Stepsize i 7,0.01\n",
        "Stepsize i "
       ]
      },
      {
       "output_type": "stream",
       "stream": "stdout",
       "text": [
        "8,0.01\n",
        "Stepsize i 9,0.01\n",
        "Stepsize i 10,0.01\n",
        "Stepsize i 1,0.01\n",
        "Stepsize i "
       ]
      },
      {
       "output_type": "stream",
       "stream": "stdout",
       "text": [
        "2,0.01\n",
        "Stepsize i 3,0.01\n",
        "Stepsize i 4,0.01\n",
        "Stepsize i 5,0.01\n",
        "Stepsize i "
       ]
      },
      {
       "output_type": "stream",
       "stream": "stdout",
       "text": [
        "6,0.01\n",
        "Stepsize i 7,0.01\n",
        "Stepsize i 8,0.01\n",
        "Stepsize i 9,0.01\n",
        "Stepsize i "
       ]
      },
      {
       "output_type": "stream",
       "stream": "stdout",
       "text": [
        "10,0.01\n",
        "Stepsize i 1,0.01\n",
        "Stepsize i 2,0.01\n",
        "Stepsize i 3,0.01\n",
        "Stepsize i "
       ]
      },
      {
       "output_type": "stream",
       "stream": "stdout",
       "text": [
        "4,0.01\n",
        "Stepsize i 5,0.01\n",
        "Stepsize i 6,0.01\n",
        "Stepsize i 7,0.01\n",
        "Stepsize i "
       ]
      },
      {
       "output_type": "stream",
       "stream": "stdout",
       "text": [
        "8,0.01\n",
        "Stepsize i 9,0.01\n",
        "Stepsize i 10,0.01\n",
        "Stepsize i 1,0.01\n",
        "Stepsize i "
       ]
      },
      {
       "output_type": "stream",
       "stream": "stdout",
       "text": [
        "2,0.01\n",
        "Stepsize i 3,0.01\n",
        "Stepsize i 4,0.01\n",
        "Stepsize i 5,0.01\n",
        "Stepsize i "
       ]
      },
      {
       "output_type": "stream",
       "stream": "stdout",
       "text": [
        "6,0.01\n",
        "Stepsize i 7,0.01\n",
        "Stepsize i 8,0.01\n",
        "Stepsize i 9,0.01\n",
        "Stepsize i "
       ]
      },
      {
       "output_type": "stream",
       "stream": "stdout",
       "text": [
        "10,0.01\n",
        "Stepsize i 1,0.01\n",
        "Stepsize i 2,0.01\n",
        "Stepsize i 3,0.01\n",
        "Stepsize i "
       ]
      },
      {
       "output_type": "stream",
       "stream": "stdout",
       "text": [
        "4,0.01\n",
        "Stepsize i 5,0.01\n",
        "Stepsize i 6,0.01\n",
        "Stepsize i 7,0.01\n",
        "Stepsize i "
       ]
      },
      {
       "output_type": "stream",
       "stream": "stdout",
       "text": [
        "8,0.01\n",
        "Stepsize i 9,0.01\n",
        "Stepsize i 10,0.01\n",
        "Stepsize i 1,0.01\n",
        "Stepsize i "
       ]
      },
      {
       "output_type": "stream",
       "stream": "stdout",
       "text": [
        "2,0.01\n",
        "Stepsize i 3,0.01\n",
        "Stepsize i 4,0.01\n",
        "Stepsize i 5,0.01\n",
        "Stepsize i "
       ]
      },
      {
       "output_type": "stream",
       "stream": "stdout",
       "text": [
        "6,0.01\n",
        "Stepsize i 7,0.01\n",
        "Stepsize i 8,0.01\n",
        "Stepsize i 9,0.01\n",
        "Stepsize i "
       ]
      },
      {
       "output_type": "stream",
       "stream": "stdout",
       "text": [
        "10,0.01\n",
        "Stepsize i 1,0.01\n",
        "Stepsize i 2,0.01\n",
        "Stepsize i 3,0.01\n",
        "Stepsize i "
       ]
      },
      {
       "output_type": "stream",
       "stream": "stdout",
       "text": [
        "4,0.01\n",
        "Stepsize i 5,0.01\n",
        "Stepsize i 6,0.01\n",
        "Stepsize i 7,0.01\n",
        "Stepsize i "
       ]
      },
      {
       "output_type": "stream",
       "stream": "stdout",
       "text": [
        "8,0.01\n",
        "Stepsize i 9,0.01\n",
        "Stepsize i 10,0.01\n",
        "Stepsize i 1,0.01\n",
        "Stepsize i "
       ]
      },
      {
       "output_type": "stream",
       "stream": "stdout",
       "text": [
        "2,0.01\n",
        "Stepsize i 3,0.01\n",
        "Stepsize i 4,0.01\n",
        "Stepsize i 5,0.01\n",
        "Stepsize i "
       ]
      },
      {
       "output_type": "stream",
       "stream": "stdout",
       "text": [
        "6,0.01\n",
        "Stepsize i 7,0.01\n",
        "Stepsize i 8,0.01\n",
        "Stepsize i 9,0.01\n",
        "Stepsize i "
       ]
      },
      {
       "output_type": "stream",
       "stream": "stdout",
       "text": [
        "10,0.01\n",
        "Stepsize i 1,0.01\n",
        "Stepsize i 2,0.01\n",
        "Stepsize i 3,0.01\n",
        "Stepsize i "
       ]
      },
      {
       "output_type": "stream",
       "stream": "stdout",
       "text": [
        "4,0.01\n",
        "Stepsize i 5,0.01\n",
        "Stepsize i 6,0.01\n",
        "Stepsize i 7,0.01\n",
        "Stepsize i "
       ]
      },
      {
       "output_type": "stream",
       "stream": "stdout",
       "text": [
        "8,0.01\n",
        "Stepsize i 9,0.01\n",
        "Stepsize i 10,0.01\n",
        "Stepsize i 1,0.01\n",
        "Stepsize i "
       ]
      },
      {
       "output_type": "stream",
       "stream": "stdout",
       "text": [
        "2,0.01\n",
        "Stepsize i 3,0.01\n",
        "Stepsize i 4,0.01\n",
        "Stepsize i 5,0.01\n",
        "Stepsize i "
       ]
      },
      {
       "output_type": "stream",
       "stream": "stdout",
       "text": [
        "6,0.01\n",
        "Stepsize i 7,0.01\n",
        "Stepsize i 8,0.01\n",
        "Stepsize i 9,0.01\n",
        "Stepsize i "
       ]
      },
      {
       "output_type": "stream",
       "stream": "stdout",
       "text": [
        "10,0.01\n",
        "Stepsize i 1,0.01\n",
        "Stepsize i 2,0.01\n",
        "Stepsize i 3,0.01\n",
        "Stepsize i "
       ]
      },
      {
       "output_type": "stream",
       "stream": "stdout",
       "text": [
        "4,0.01\n",
        "Stepsize i 5,0.01\n",
        "Stepsize i 6,0.01\n",
        "Stepsize i 7,0.01\n",
        "Stepsize i "
       ]
      },
      {
       "output_type": "stream",
       "stream": "stdout",
       "text": [
        "8,0.01\n",
        "Stepsize i 9,0.01\n",
        "Stepsize i 10,0.01\n",
        "Stepsize i 1,0.01\n",
        "Stepsize i "
       ]
      },
      {
       "output_type": "stream",
       "stream": "stdout",
       "text": [
        "2,0.01\n",
        "Stepsize i 3,0.01\n",
        "Stepsize i 4,0.01\n",
        "Stepsize i 5,0.01\n",
        "Stepsize i "
       ]
      },
      {
       "output_type": "stream",
       "stream": "stdout",
       "text": [
        "6,0.01\n",
        "Stepsize i 7,0.01\n",
        "Stepsize i 8,0.01\n",
        "Stepsize i 9,0.01\n",
        "Stepsize i "
       ]
      },
      {
       "output_type": "stream",
       "stream": "stdout",
       "text": [
        "10,0.01\n",
        "Stepsize i 1,0.01\n",
        "Stepsize i 2,0.01\n",
        "Stepsize i 3,0.01\n",
        "Stepsize i "
       ]
      },
      {
       "output_type": "stream",
       "stream": "stdout",
       "text": [
        "4,0.01\n",
        "Stepsize i 5,0.01\n",
        "Stepsize i 6,0.01\n",
        "Stepsize i 7,0.01\n",
        "Stepsize i "
       ]
      },
      {
       "output_type": "stream",
       "stream": "stdout",
       "text": [
        "8,0.01\n",
        "Stepsize i 9,0.01\n",
        "Stepsize i 10,0.01\n",
        "Stepsize i 1,0.01\n",
        "Stepsize i "
       ]
      },
      {
       "output_type": "stream",
       "stream": "stdout",
       "text": [
        "2,0.01\n",
        "Stepsize i 3,0.01\n",
        "Stepsize i 4,0.01\n",
        "Stepsize i 5,0.01\n",
        "Stepsize i "
       ]
      },
      {
       "output_type": "stream",
       "stream": "stdout",
       "text": [
        "6,0.01\n",
        "Stepsize i 7,0.01\n",
        "Stepsize i 8,0.01\n",
        "Stepsize i 9,0.01\n",
        "Stepsize i "
       ]
      },
      {
       "output_type": "stream",
       "stream": "stdout",
       "text": [
        "10,0.01\n",
        "Stepsize i 1,0.01\n",
        "Stepsize i 2,0.01\n",
        "Stepsize i 3,0.01\n",
        "Stepsize i "
       ]
      },
      {
       "output_type": "stream",
       "stream": "stdout",
       "text": [
        "4,0.01\n",
        "Stepsize i 5,0.01\n",
        "Stepsize i 6,0.01\n",
        "Stepsize i 7,0.01\n",
        "Stepsize i "
       ]
      },
      {
       "output_type": "stream",
       "stream": "stdout",
       "text": [
        "8,0.01\n",
        "Stepsize i 9,0.01\n",
        "Stepsize i 10,0.01\n",
        "Stepsize i 1,0.01\n",
        "Stepsize i "
       ]
      },
      {
       "output_type": "stream",
       "stream": "stdout",
       "text": [
        "2,0.01\n",
        "Stepsize i 3,0.01\n",
        "Stepsize i 4,0.01\n",
        "Stepsize i 5,0.01\n",
        "Stepsize i "
       ]
      },
      {
       "output_type": "stream",
       "stream": "stdout",
       "text": [
        "6,0.01\n",
        "Stepsize i 7,0.01\n",
        "Stepsize i 8,0.01\n",
        "Stepsize i 9,0.01\n",
        "Stepsize i "
       ]
      },
      {
       "output_type": "stream",
       "stream": "stdout",
       "text": [
        "10,0.01\n",
        "Stepsize i 1,0.01\n",
        "Stepsize i 2,0.01\n",
        "Stepsize i 3,0.01\n",
        "Stepsize i "
       ]
      },
      {
       "output_type": "stream",
       "stream": "stdout",
       "text": [
        "4,0.01\n",
        "Stepsize i 5,0.01\n",
        "Stepsize i 6,0.01\n",
        "Stepsize i 7,0.01\n",
        "Stepsize i "
       ]
      },
      {
       "output_type": "stream",
       "stream": "stdout",
       "text": [
        "8,0.01\n",
        "Stepsize i 9,0.01\n",
        "Stepsize i 10,0.01\n",
        "Stepsize i 1,0.01\n",
        "Stepsize i "
       ]
      },
      {
       "output_type": "stream",
       "stream": "stdout",
       "text": [
        "2,0.01\n",
        "Stepsize i 3,0.01\n",
        "Stepsize i 4,0.01\n",
        "Stepsize i 5,0.01\n",
        "Stepsize i "
       ]
      },
      {
       "output_type": "stream",
       "stream": "stdout",
       "text": [
        "6,0.01\n",
        "Stepsize i 7,0.01\n",
        "Stepsize i 8,0.01\n",
        "Stepsize i 9,0.01\n",
        "Stepsize i "
       ]
      },
      {
       "output_type": "stream",
       "stream": "stdout",
       "text": [
        "10,0.01\n",
        "Stepsize i 1,0.01\n",
        "Stepsize i 2,0.01\n",
        "Stepsize i 3,0.01\n",
        "Stepsize i "
       ]
      },
      {
       "output_type": "stream",
       "stream": "stdout",
       "text": [
        "4,0.01\n",
        "Stepsize i 5,0.01\n",
        "Stepsize i 6,0.01\n",
        "Stepsize i "
       ]
      },
      {
       "output_type": "stream",
       "stream": "stdout",
       "text": [
        "7,0.01\n",
        "Stepsize i 8,0.01\n",
        "Stepsize i 9,0.01\n",
        "Stepsize i 10,0.01\n",
        "Stepsize i "
       ]
      },
      {
       "output_type": "stream",
       "stream": "stdout",
       "text": [
        "1,0.01\n",
        "Stepsize i 2,0.01\n",
        "Stepsize i 3,0.01\n",
        "Stepsize i 4,0.01\n",
        "Stepsize i "
       ]
      },
      {
       "output_type": "stream",
       "stream": "stdout",
       "text": [
        "5,0.01\n",
        "Stepsize i 6,0.01\n",
        "Stepsize i 7,0.01\n",
        "Stepsize i 8,0.01\n",
        "Stepsize i "
       ]
      },
      {
       "output_type": "stream",
       "stream": "stdout",
       "text": [
        "9,0.01\n",
        "Stepsize i 10,0.01\n",
        "Stepsize i 1,0.01\n",
        "Stepsize i 2,0.01\n",
        "Stepsize i "
       ]
      },
      {
       "output_type": "stream",
       "stream": "stdout",
       "text": [
        "3,0.01\n",
        "Stepsize i 4,0.01\n",
        "Stepsize i 5,0.01\n",
        "Stepsize i 6,0.01\n",
        "Stepsize i "
       ]
      },
      {
       "output_type": "stream",
       "stream": "stdout",
       "text": [
        "7,0.01\n",
        "Stepsize i 8,0.01\n",
        "Stepsize i 9,0.01\n",
        "Stepsize i 10,0.01\n",
        "Stepsize i "
       ]
      },
      {
       "output_type": "stream",
       "stream": "stdout",
       "text": [
        "1,0.01\n",
        "Stepsize i 2,0.01\n",
        "Stepsize i 3,0.01\n",
        "Stepsize i 4,0.01\n",
        "Stepsize i "
       ]
      },
      {
       "output_type": "stream",
       "stream": "stdout",
       "text": [
        "5,0.01\n",
        "Stepsize i 6,0.01\n",
        "Stepsize i 7,0.01\n",
        "Stepsize i 8,0.01\n",
        "Stepsize i "
       ]
      },
      {
       "output_type": "stream",
       "stream": "stdout",
       "text": [
        "9,0.01\n",
        "Stepsize i 10,0.01\n",
        "100\n",
        "LL = 173586.11837720004\n",
        "Param values 1807.040883582527,47450.58081435584,10208.618378144169,47.26634251002187,15504.258820281315,9.412071527195904,1.2312989624776448e8,5620.973180328332,4354.46500198652,1.2478313078977235e8\n",
        "Local Acceptance Rate for parameter 1 = 0.53Increasing StepSize to 0.011000000000000001\n",
        "Local Acceptance Rate for parameter 2 = 0.59Increasing StepSize to 0.011000000000000001\n",
        "Local Acceptance Rate for parameter 3 = 0.59Increasing StepSize to 0.011000000000000001\n",
        "Local Acceptance Rate for parameter 4 = 0.6Increasing StepSize to 0.011000000000000001\n",
        "Local Acceptance Rate for parameter 5 = 0.59Increasing StepSize to 0.011000000000000001\n",
        "Local Acceptance Rate for parameter 6 = 0.6Increasing StepSize to 0.011000000000000001\n",
        "Local Acceptance Rate for parameter 7 = 0.61Increasing StepSize to 0.011000000000000001\n",
        "Local Acceptance Rate for parameter 8 = 0.59Increasing StepSize to 0.011000000000000001\n",
        "Local Acceptance Rate for parameter 9 = 0.59Increasing StepSize to 0.011000000000000001\n",
        "Local Acceptance Rate for parameter 10 = 0.61Increasing StepSize to 0.011000000000000001\n",
        "Stepsize i 1,0.011000000000000001\n",
        "Stepsize i "
       ]
      },
      {
       "output_type": "stream",
       "stream": "stdout",
       "text": [
        "2,0.011000000000000001\n",
        "Stepsize i 3,0.011000000000000001\n",
        "Stepsize i 4,0.011000000000000001\n",
        "Stepsize i 5,0.011000000000000001\n",
        "Stepsize i "
       ]
      },
      {
       "output_type": "stream",
       "stream": "stdout",
       "text": [
        "6,0.011000000000000001\n",
        "Stepsize i 7,0.011000000000000001\n",
        "Stepsize i 8,0.011000000000000001\n",
        "Stepsize i 9,0.011000000000000001\n",
        "Stepsize i "
       ]
      },
      {
       "output_type": "stream",
       "stream": "stdout",
       "text": [
        "10,0.011000000000000001\n",
        "Stepsize i 1,0.011000000000000001\n",
        "Stepsize i 2,0.011000000000000001\n",
        "Stepsize i 3,0.011000000000000001\n",
        "Stepsize i "
       ]
      },
      {
       "output_type": "stream",
       "stream": "stdout",
       "text": [
        "4,0.011000000000000001\n",
        "Stepsize i 5,0.011000000000000001\n",
        "Stepsize i 6,0.011000000000000001\n",
        "Stepsize i 7,0.011000000000000001\n",
        "Stepsize i "
       ]
      },
      {
       "output_type": "stream",
       "stream": "stdout",
       "text": [
        "8,0.011000000000000001\n",
        "Stepsize i 9,0.011000000000000001\n",
        "Stepsize i 10,0.011000000000000001\n",
        "Stepsize i 1,0.011000000000000001\n",
        "Stepsize i "
       ]
      },
      {
       "output_type": "stream",
       "stream": "stdout",
       "text": [
        "2,0.011000000000000001\n",
        "Stepsize i 3,0.011000000000000001\n",
        "Stepsize i 4,0.011000000000000001\n",
        "Stepsize i 5,0.011000000000000001\n",
        "Stepsize i "
       ]
      },
      {
       "output_type": "stream",
       "stream": "stdout",
       "text": [
        "6,0.011000000000000001\n",
        "Stepsize i 7,0.011000000000000001\n",
        "Stepsize i 8,0.011000000000000001\n",
        "Stepsize i 9,0.011000000000000001\n",
        "Stepsize i "
       ]
      },
      {
       "output_type": "stream",
       "stream": "stdout",
       "text": [
        "10,0.011000000000000001\n",
        "Stepsize i 1,0.011000000000000001\n",
        "Stepsize i 2,0.011000000000000001\n",
        "Stepsize i 3,0.011000000000000001\n",
        "Stepsize i "
       ]
      },
      {
       "output_type": "stream",
       "stream": "stdout",
       "text": [
        "4,0.011000000000000001\n",
        "Stepsize i 5,0.011000000000000001\n",
        "Stepsize i 6,0.011000000000000001\n",
        "Stepsize i 7,0.011000000000000001\n",
        "Stepsize i "
       ]
      },
      {
       "output_type": "stream",
       "stream": "stdout",
       "text": [
        "8,0.011000000000000001\n",
        "Stepsize i 9,0.011000000000000001\n",
        "Stepsize i 10,0.011000000000000001\n",
        "Stepsize i 1,0.011000000000000001\n",
        "Stepsize i "
       ]
      },
      {
       "output_type": "stream",
       "stream": "stdout",
       "text": [
        "2,0.011000000000000001\n",
        "Stepsize i 3,0.011000000000000001\n",
        "Stepsize i 4,0.011000000000000001\n",
        "Stepsize i 5,0.011000000000000001\n",
        "Stepsize i "
       ]
      },
      {
       "output_type": "stream",
       "stream": "stdout",
       "text": [
        "6,0.011000000000000001\n",
        "Stepsize i 7,0.011000000000000001\n",
        "Stepsize i 8,0.011000000000000001\n",
        "Stepsize i 9,0.011000000000000001\n",
        "Stepsize i "
       ]
      },
      {
       "output_type": "stream",
       "stream": "stdout",
       "text": [
        "10,0.011000000000000001\n",
        "Stepsize i 1,0.011000000000000001\n",
        "Stepsize i 2,0.011000000000000001\n",
        "Stepsize i 3,0.011000000000000001\n",
        "Stepsize i "
       ]
      },
      {
       "output_type": "stream",
       "stream": "stdout",
       "text": [
        "4,0.011000000000000001\n",
        "Stepsize i 5,0.011000000000000001\n",
        "Stepsize i 6,0.011000000000000001\n",
        "Stepsize i 7,0.011000000000000001\n",
        "Stepsize i "
       ]
      },
      {
       "output_type": "stream",
       "stream": "stdout",
       "text": [
        "8,0.011000000000000001\n",
        "Stepsize i 9,0.011000000000000001\n",
        "Stepsize i 10,0.011000000000000001\n",
        "Stepsize i 1,0.011000000000000001\n",
        "Stepsize i "
       ]
      },
      {
       "output_type": "stream",
       "stream": "stdout",
       "text": [
        "2,0.011000000000000001\n",
        "Stepsize i 3,0.011000000000000001\n",
        "Stepsize i 4,0.011000000000000001\n",
        "Stepsize i 5,0.011000000000000001\n",
        "Stepsize i "
       ]
      },
      {
       "output_type": "stream",
       "stream": "stdout",
       "text": [
        "6,0.011000000000000001\n",
        "Stepsize i 7,0.011000000000000001\n",
        "Stepsize i 8,0.011000000000000001\n",
        "Stepsize i 9,0.011000000000000001\n",
        "Stepsize i "
       ]
      },
      {
       "output_type": "stream",
       "stream": "stdout",
       "text": [
        "10,0.011000000000000001\n",
        "Stepsize i 1,0.011000000000000001\n",
        "Stepsize i 2,0.011000000000000001\n",
        "Stepsize i 3,0.011000000000000001\n",
        "Stepsize i "
       ]
      },
      {
       "output_type": "stream",
       "stream": "stdout",
       "text": [
        "4,0.011000000000000001\n",
        "Stepsize i 5,0.011000000000000001\n",
        "Stepsize i 6,0.011000000000000001\n",
        "Stepsize i 7,0.011000000000000001\n",
        "Stepsize i "
       ]
      },
      {
       "output_type": "stream",
       "stream": "stdout",
       "text": [
        "8,0.011000000000000001\n",
        "Stepsize i 9,0.011000000000000001\n",
        "Stepsize i 10,0.011000000000000001\n",
        "Stepsize i 1,0.011000000000000001\n",
        "Stepsize i "
       ]
      },
      {
       "output_type": "stream",
       "stream": "stdout",
       "text": [
        "2,0.011000000000000001\n",
        "Stepsize i 3,0.011000000000000001\n",
        "Stepsize i 4,0.011000000000000001\n",
        "Stepsize i 5,0.011000000000000001\n",
        "Stepsize i "
       ]
      },
      {
       "output_type": "stream",
       "stream": "stdout",
       "text": [
        "6,0.011000000000000001\n",
        "Stepsize i 7,0.011000000000000001\n",
        "Stepsize i 8,0.011000000000000001\n",
        "Stepsize i 9,0.011000000000000001\n",
        "Stepsize i "
       ]
      },
      {
       "output_type": "stream",
       "stream": "stdout",
       "text": [
        "10,0.011000000000000001\n",
        "Stepsize i 1,0.011000000000000001\n",
        "Stepsize i 2,0.011000000000000001\n",
        "Stepsize i 3,0.011000000000000001\n",
        "Stepsize i "
       ]
      },
      {
       "output_type": "stream",
       "stream": "stdout",
       "text": [
        "4,0.011000000000000001\n",
        "Stepsize i 5,0.011000000000000001\n",
        "Stepsize i 6,0.011000000000000001\n",
        "Stepsize i 7,0.011000000000000001\n",
        "Stepsize i "
       ]
      },
      {
       "output_type": "stream",
       "stream": "stdout",
       "text": [
        "8,0.011000000000000001\n",
        "Stepsize i 9,0.011000000000000001\n",
        "Stepsize i 10,0.011000000000000001\n",
        "Stepsize i 1,0.011000000000000001\n",
        "Stepsize i "
       ]
      },
      {
       "output_type": "stream",
       "stream": "stdout",
       "text": [
        "2,0.011000000000000001\n",
        "Stepsize i 3,0.011000000000000001\n",
        "Stepsize i 4,0.011000000000000001\n",
        "Stepsize i 5,0.011000000000000001\n",
        "Stepsize i "
       ]
      },
      {
       "output_type": "stream",
       "stream": "stdout",
       "text": [
        "6,0.011000000000000001\n",
        "Stepsize i 7,0.011000000000000001\n",
        "Stepsize i 8,0.011000000000000001\n",
        "Stepsize i 9,0.011000000000000001\n",
        "Stepsize i "
       ]
      },
      {
       "output_type": "stream",
       "stream": "stdout",
       "text": [
        "10,0.011000000000000001\n",
        "Stepsize i 1,0.011000000000000001\n",
        "Stepsize i 2,0.011000000000000001\n",
        "Stepsize i 3,0.011000000000000001\n",
        "Stepsize i "
       ]
      },
      {
       "output_type": "stream",
       "stream": "stdout",
       "text": [
        "4,0.011000000000000001\n",
        "Stepsize i 5,0.011000000000000001\n",
        "Stepsize i 6,0.011000000000000001\n",
        "Stepsize i 7,0.011000000000000001\n",
        "Stepsize i "
       ]
      },
      {
       "output_type": "stream",
       "stream": "stdout",
       "text": [
        "8,0.011000000000000001\n",
        "Stepsize i 9,0.011000000000000001\n",
        "Stepsize i 10,0.011000000000000001\n",
        "Stepsize i 1,0.011000000000000001\n",
        "Stepsize i "
       ]
      },
      {
       "output_type": "stream",
       "stream": "stdout",
       "text": [
        "2,0.011000000000000001\n",
        "Stepsize i 3,0.011000000000000001\n",
        "Stepsize i 4,0.011000000000000001\n",
        "Stepsize i 5,0.011000000000000001\n",
        "Stepsize i "
       ]
      },
      {
       "output_type": "stream",
       "stream": "stdout",
       "text": [
        "6,0.011000000000000001\n",
        "Stepsize i 7,0.011000000000000001\n",
        "Stepsize i 8,0.011000000000000001\n",
        "Stepsize i 9,0.011000000000000001\n",
        "Stepsize i "
       ]
      },
      {
       "output_type": "stream",
       "stream": "stdout",
       "text": [
        "10,0.011000000000000001\n",
        "Stepsize i 1,0.011000000000000001\n",
        "Stepsize i 2,0.011000000000000001\n",
        "Stepsize i 3,0.011000000000000001\n",
        "Stepsize i "
       ]
      },
      {
       "output_type": "stream",
       "stream": "stdout",
       "text": [
        "4,0.011000000000000001\n",
        "Stepsize i 5,0.011000000000000001\n",
        "Stepsize i 6,0.011000000000000001\n",
        "Stepsize i 7,0.011000000000000001\n",
        "Stepsize i "
       ]
      },
      {
       "output_type": "stream",
       "stream": "stdout",
       "text": [
        "8,0.011000000000000001\n",
        "Stepsize i 9,0.011000000000000001\n",
        "Stepsize i 10,0.011000000000000001\n",
        "Stepsize i 1,0.011000000000000001\n",
        "Stepsize i "
       ]
      },
      {
       "output_type": "stream",
       "stream": "stdout",
       "text": [
        "2,0.011000000000000001\n",
        "Stepsize i 3,0.011000000000000001\n",
        "Stepsize i 4,0.011000000000000001\n",
        "Stepsize i 5,0.011000000000000001\n",
        "Stepsize i "
       ]
      },
      {
       "output_type": "stream",
       "stream": "stdout",
       "text": [
        "6,0.011000000000000001\n",
        "Stepsize i 7,0.011000000000000001\n",
        "Stepsize i 8,0.011000000000000001\n",
        "Stepsize i 9,0.011000000000000001\n",
        "Stepsize i "
       ]
      },
      {
       "output_type": "stream",
       "stream": "stdout",
       "text": [
        "10,0.011000000000000001\n",
        "Stepsize i 1,0.011000000000000001\n",
        "Stepsize i 2,0.011000000000000001\n",
        "Stepsize i 3,0.011000000000000001\n",
        "Stepsize i "
       ]
      },
      {
       "output_type": "stream",
       "stream": "stdout",
       "text": [
        "4,0.011000000000000001\n",
        "Stepsize i 5,0.011000000000000001\n",
        "Stepsize i 6,0.011000000000000001\n",
        "Stepsize i 7,0.011000000000000001\n",
        "Stepsize i "
       ]
      },
      {
       "output_type": "stream",
       "stream": "stdout",
       "text": [
        "8,0.011000000000000001\n",
        "Stepsize i 9,0.011000000000000001\n",
        "Stepsize i 10,0.011000000000000001\n",
        "Stepsize i 1,0.011000000000000001\n",
        "Stepsize i "
       ]
      },
      {
       "output_type": "stream",
       "stream": "stdout",
       "text": [
        "2,0.011000000000000001\n",
        "Stepsize i 3,0.011000000000000001\n",
        "Stepsize i 4,0.011000000000000001\n",
        "Stepsize i 5,0.011000000000000001\n",
        "Stepsize i "
       ]
      },
      {
       "output_type": "stream",
       "stream": "stdout",
       "text": [
        "6,0.011000000000000001\n",
        "Stepsize i 7,0.011000000000000001\n",
        "Stepsize i 8,0.011000000000000001\n",
        "Stepsize i 9,0.011000000000000001\n",
        "Stepsize i "
       ]
      },
      {
       "output_type": "stream",
       "stream": "stdout",
       "text": [
        "10,0.011000000000000001\n",
        "Stepsize i 1,0.011000000000000001\n",
        "Stepsize i 2,0.011000000000000001\n",
        "Stepsize i 3,0.011000000000000001\n",
        "Stepsize i "
       ]
      },
      {
       "output_type": "stream",
       "stream": "stdout",
       "text": [
        "4,0.011000000000000001\n",
        "Stepsize i 5,0.011000000000000001\n",
        "Stepsize i 6,0.011000000000000001\n",
        "Stepsize i 7,0.011000000000000001\n",
        "Stepsize i "
       ]
      },
      {
       "output_type": "stream",
       "stream": "stdout",
       "text": [
        "8,0.011000000000000001\n",
        "Stepsize i 9,0.011000000000000001\n",
        "Stepsize i 10,0.011000000000000001\n",
        "Stepsize i 1,0.011000000000000001\n",
        "Stepsize i "
       ]
      },
      {
       "output_type": "stream",
       "stream": "stdout",
       "text": [
        "2,0.011000000000000001\n",
        "Stepsize i 3,0.011000000000000001\n",
        "Stepsize i 4,0.011000000000000001\n",
        "Stepsize i 5,0.011000000000000001\n",
        "Stepsize i "
       ]
      },
      {
       "output_type": "stream",
       "stream": "stdout",
       "text": [
        "6,0.011000000000000001\n",
        "Stepsize i 7,0.011000000000000001\n",
        "Stepsize i 8,0.011000000000000001\n",
        "Stepsize i 9,0.011000000000000001\n",
        "Stepsize i "
       ]
      },
      {
       "output_type": "stream",
       "stream": "stdout",
       "text": [
        "10,0.011000000000000001\n",
        "Stepsize i 1,0.011000000000000001\n",
        "Stepsize i 2,0.011000000000000001\n",
        "Stepsize i "
       ]
      },
      {
       "output_type": "stream",
       "stream": "stdout",
       "text": [
        "3,0.011000000000000001\n",
        "Stepsize i 4,0.011000000000000001\n",
        "Stepsize i 5,0.011000000000000001\n",
        "Stepsize i 6,0.011000000000000001\n",
        "Stepsize i "
       ]
      },
      {
       "output_type": "stream",
       "stream": "stdout",
       "text": [
        "7,0.011000000000000001\n",
        "Stepsize i 8,0.011000000000000001\n",
        "Stepsize i 9,0.011000000000000001\n",
        "Stepsize i 10,0.011000000000000001\n",
        "Stepsize i "
       ]
      },
      {
       "output_type": "stream",
       "stream": "stdout",
       "text": [
        "1,0.011000000000000001\n",
        "Stepsize i 2,0.011000000000000001\n",
        "Stepsize i 3,0.011000000000000001\n",
        "Stepsize i 4,0.011000000000000001\n",
        "Stepsize i "
       ]
      },
      {
       "output_type": "stream",
       "stream": "stdout",
       "text": [
        "5,0.011000000000000001\n",
        "Stepsize i 6,0.011000000000000001\n",
        "Stepsize i 7,0.011000000000000001\n",
        "Stepsize i 8,0.011000000000000001\n",
        "Stepsize i "
       ]
      },
      {
       "output_type": "stream",
       "stream": "stdout",
       "text": [
        "9,0.011000000000000001\n",
        "Stepsize i 10,0.011000000000000001\n",
        "Stepsize i 1,0.011000000000000001\n",
        "Stepsize i 2,0.011000000000000001\n",
        "Stepsize i "
       ]
      },
      {
       "output_type": "stream",
       "stream": "stdout",
       "text": [
        "3,0.011000000000000001\n",
        "Stepsize i 4,0.011000000000000001\n",
        "Stepsize i 5,0.011000000000000001\n",
        "Stepsize i 6,0.011000000000000001\n",
        "Stepsize i "
       ]
      },
      {
       "output_type": "stream",
       "stream": "stdout",
       "text": [
        "7,0.011000000000000001\n",
        "Stepsize i 8,0.011000000000000001\n",
        "Stepsize i 9,0.011000000000000001\n",
        "Stepsize i 10,0.011000000000000001\n",
        "Stepsize i "
       ]
      },
      {
       "output_type": "stream",
       "stream": "stdout",
       "text": [
        "1,0.011000000000000001\n",
        "Stepsize i 2,0.011000000000000001\n",
        "Stepsize i 3,0.011000000000000001\n",
        "Stepsize i 4,0.011000000000000001\n",
        "Stepsize i "
       ]
      },
      {
       "output_type": "stream",
       "stream": "stdout",
       "text": [
        "5,0.011000000000000001\n",
        "Stepsize i 6,0.011000000000000001\n",
        "Stepsize i 7,0.011000000000000001\n",
        "Stepsize i 8,0.011000000000000001\n",
        "Stepsize i "
       ]
      },
      {
       "output_type": "stream",
       "stream": "stdout",
       "text": [
        "9,0.011000000000000001\n",
        "Stepsize i 10,0.011000000000000001\n",
        "Stepsize i 1,0.011000000000000001\n",
        "Stepsize i 2,0.011000000000000001\n",
        "Stepsize i "
       ]
      },
      {
       "output_type": "stream",
       "stream": "stdout",
       "text": [
        "3,0.011000000000000001\n",
        "Stepsize i 4,0.011000000000000001\n",
        "Stepsize i 5,0.011000000000000001\n",
        "Stepsize i 6,0.011000000000000001\n",
        "Stepsize i "
       ]
      },
      {
       "output_type": "stream",
       "stream": "stdout",
       "text": [
        "7,0.011000000000000001\n",
        "Stepsize i 8,0.011000000000000001\n",
        "Stepsize i 9,0.011000000000000001\n",
        "Stepsize i 10,0.011000000000000001\n",
        "Stepsize i "
       ]
      },
      {
       "output_type": "stream",
       "stream": "stdout",
       "text": [
        "1,0.011000000000000001\n",
        "Stepsize i 2,0.011000000000000001\n",
        "Stepsize i 3,0.011000000000000001\n",
        "Stepsize i 4,0.011000000000000001\n",
        "Stepsize i "
       ]
      },
      {
       "output_type": "stream",
       "stream": "stdout",
       "text": [
        "5,0.011000000000000001\n",
        "Stepsize i 6,0.011000000000000001\n",
        "Stepsize i 7,0.011000000000000001\n",
        "Stepsize i 8,0.011000000000000001\n",
        "Stepsize i "
       ]
      },
      {
       "output_type": "stream",
       "stream": "stdout",
       "text": [
        "9,0.011000000000000001\n",
        "Stepsize i 10,0.011000000000000001\n",
        "Stepsize i 1,0.011000000000000001\n",
        "Stepsize i 2,0.011000000000000001\n",
        "Stepsize i "
       ]
      },
      {
       "output_type": "stream",
       "stream": "stdout",
       "text": [
        "3,0.011000000000000001\n",
        "Stepsize i 4,0.011000000000000001\n",
        "Stepsize i 5,0.011000000000000001\n",
        "Stepsize i 6,0.011000000000000001\n",
        "Stepsize i "
       ]
      },
      {
       "output_type": "stream",
       "stream": "stdout",
       "text": [
        "7,0.011000000000000001\n",
        "Stepsize i 8,0.011000000000000001\n",
        "Stepsize i 9,0.011000000000000001\n",
        "Stepsize i 10,0.011000000000000001\n",
        "Stepsize i "
       ]
      },
      {
       "output_type": "stream",
       "stream": "stdout",
       "text": [
        "1,0.011000000000000001\n",
        "Stepsize i 2,0.011000000000000001\n",
        "Stepsize i 3,0.011000000000000001\n",
        "Stepsize i 4,0.011000000000000001\n",
        "Stepsize i "
       ]
      },
      {
       "output_type": "stream",
       "stream": "stdout",
       "text": [
        "5,0.011000000000000001\n",
        "Stepsize i 6,0.011000000000000001\n",
        "Stepsize i 7,0.011000000000000001\n",
        "Stepsize i "
       ]
      },
      {
       "output_type": "stream",
       "stream": "stdout",
       "text": [
        "8,0.011000000000000001\n",
        "Stepsize i 9,0.011000000000000001\n",
        "Stepsize i 10,0.011000000000000001\n",
        "Stepsize i "
       ]
      },
      {
       "output_type": "stream",
       "stream": "stdout",
       "text": [
        "1,0.011000000000000001\n",
        "Stepsize i 2,0.011000000000000001\n",
        "Stepsize i 3,0.011000000000000001\n",
        "Stepsize i 4,0.011000000000000001\n",
        "Stepsize i "
       ]
      },
      {
       "output_type": "stream",
       "stream": "stdout",
       "text": [
        "5,0.011000000000000001\n",
        "Stepsize i 6,0.011000000000000001\n",
        "Stepsize i 7,0.011000000000000001\n",
        "Stepsize i 8,0.011000000000000001\n",
        "Stepsize i "
       ]
      },
      {
       "output_type": "stream",
       "stream": "stdout",
       "text": [
        "9,0.011000000000000001\n",
        "Stepsize i 10,0.011000000000000001\n",
        "Stepsize i 1,0.011000000000000001\n",
        "Stepsize i 2,0.011000000000000001\n",
        "Stepsize i "
       ]
      },
      {
       "output_type": "stream",
       "stream": "stdout",
       "text": [
        "3,0.011000000000000001\n",
        "Stepsize i 4,0.011000000000000001\n",
        "Stepsize i 5,0.011000000000000001\n",
        "Stepsize i 6,0.011000000000000001\n",
        "Stepsize i "
       ]
      },
      {
       "output_type": "stream",
       "stream": "stdout",
       "text": [
        "7,0.011000000000000001\n",
        "Stepsize i 8,0.011000000000000001\n",
        "Stepsize i 9,0.011000000000000001\n",
        "Stepsize i 10,0.011000000000000001\n",
        "Stepsize i "
       ]
      },
      {
       "output_type": "stream",
       "stream": "stdout",
       "text": [
        "1,0.011000000000000001\n",
        "Stepsize i 2,0.011000000000000001\n",
        "Stepsize i 3,0.011000000000000001\n",
        "Stepsize i 4,0.011000000000000001\n",
        "Stepsize i "
       ]
      },
      {
       "output_type": "stream",
       "stream": "stdout",
       "text": [
        "5,0.011000000000000001\n",
        "Stepsize i 6,0.011000000000000001\n",
        "Stepsize i 7,0.011000000000000001\n",
        "Stepsize i 8,0.011000000000000001\n",
        "Stepsize i "
       ]
      },
      {
       "output_type": "stream",
       "stream": "stdout",
       "text": [
        "9,0.011000000000000001\n",
        "Stepsize i 10,0.011000000000000001\n",
        "Stepsize i 1,0.011000000000000001\n",
        "Stepsize i 2,0.011000000000000001\n",
        "Stepsize i "
       ]
      },
      {
       "output_type": "stream",
       "stream": "stdout",
       "text": [
        "3,0.011000000000000001\n",
        "Stepsize i 4,0.011000000000000001\n",
        "Stepsize i 5,0.011000000000000001\n",
        "Stepsize i 6,0.011000000000000001\n",
        "Stepsize i "
       ]
      },
      {
       "output_type": "stream",
       "stream": "stdout",
       "text": [
        "7,0.011000000000000001\n",
        "Stepsize i 8,0.011000000000000001\n",
        "Stepsize i 9,0.011000000000000001\n",
        "Stepsize i 10,0.011000000000000001\n",
        "Stepsize i "
       ]
      },
      {
       "output_type": "stream",
       "stream": "stdout",
       "text": [
        "1,0.011000000000000001\n",
        "Stepsize i 2,0.011000000000000001\n",
        "Stepsize i 3,0.011000000000000001\n",
        "Stepsize i 4,0.011000000000000001\n",
        "Stepsize i "
       ]
      },
      {
       "output_type": "stream",
       "stream": "stdout",
       "text": [
        "5,0.011000000000000001\n",
        "Stepsize i 6,0.011000000000000001\n",
        "Stepsize i 7,0.011000000000000001\n",
        "Stepsize i 8,0.011000000000000001\n",
        "Stepsize i "
       ]
      },
      {
       "output_type": "stream",
       "stream": "stdout",
       "text": [
        "9,0.011000000000000001\n",
        "Stepsize i 10,0.011000000000000001\n",
        "Stepsize i 1,0.011000000000000001\n",
        "Stepsize i 2,0.011000000000000001\n",
        "Stepsize i "
       ]
      },
      {
       "output_type": "stream",
       "stream": "stdout",
       "text": [
        "3,0.011000000000000001\n",
        "Stepsize i 4,0.011000000000000001\n",
        "Stepsize i 5,0.011000000000000001\n",
        "Stepsize i 6,0.011000000000000001\n",
        "Stepsize i "
       ]
      },
      {
       "output_type": "stream",
       "stream": "stdout",
       "text": [
        "7,0.011000000000000001\n",
        "Stepsize i 8,0.011000000000000001\n",
        "Stepsize i 9,0.011000000000000001\n",
        "Stepsize i 10,0.011000000000000001\n",
        "Stepsize i "
       ]
      },
      {
       "output_type": "stream",
       "stream": "stdout",
       "text": [
        "1,0.011000000000000001\n",
        "Stepsize i 2,0.011000000000000001\n",
        "Stepsize i 3,0.011000000000000001\n",
        "Stepsize i 4,0.011000000000000001\n",
        "Stepsize i "
       ]
      },
      {
       "output_type": "stream",
       "stream": "stdout",
       "text": [
        "5,0.011000000000000001\n",
        "Stepsize i 6,0.011000000000000001\n",
        "Stepsize i 7,0.011000000000000001\n",
        "Stepsize i 8,0.011000000000000001\n",
        "Stepsize i "
       ]
      },
      {
       "output_type": "stream",
       "stream": "stdout",
       "text": [
        "9,0.011000000000000001\n",
        "Stepsize i 10,0.011000000000000001\n",
        "Stepsize i 1,0.011000000000000001\n",
        "Stepsize i 2,0.011000000000000001\n",
        "Stepsize i "
       ]
      },
      {
       "output_type": "stream",
       "stream": "stdout",
       "text": [
        "3,0.011000000000000001\n",
        "Stepsize i 4,0.011000000000000001\n",
        "Stepsize i 5,0.011000000000000001\n",
        "Stepsize i 6,0.011000000000000001\n",
        "Stepsize i "
       ]
      },
      {
       "output_type": "stream",
       "stream": "stdout",
       "text": [
        "7,0.011000000000000001\n",
        "Stepsize i 8,0.011000000000000001\n",
        "Stepsize i 9,0.011000000000000001\n",
        "Stepsize i 10,0.011000000000000001\n",
        "Stepsize i "
       ]
      },
      {
       "output_type": "stream",
       "stream": "stdout",
       "text": [
        "1,0.011000000000000001\n",
        "Stepsize i 2,0.011000000000000001\n",
        "Stepsize i 3,0.011000000000000001\n",
        "Stepsize i 4,0.011000000000000001\n",
        "Stepsize i "
       ]
      },
      {
       "output_type": "stream",
       "stream": "stdout",
       "text": [
        "5,0.011000000000000001\n",
        "Stepsize i 6,0.011000000000000001\n",
        "Stepsize i 7,0.011000000000000001\n",
        "Stepsize i 8,0.011000000000000001\n",
        "Stepsize i "
       ]
      },
      {
       "output_type": "stream",
       "stream": "stdout",
       "text": [
        "9,0.011000000000000001\n",
        "Stepsize i 10,0.011000000000000001\n",
        "Stepsize i 1,0.011000000000000001\n",
        "Stepsize i 2,0.011000000000000001\n",
        "Stepsize i "
       ]
      },
      {
       "output_type": "stream",
       "stream": "stdout",
       "text": [
        "3,0.011000000000000001\n",
        "Stepsize i 4,0.011000000000000001\n",
        "Stepsize i 5,0.011000000000000001\n",
        "Stepsize i 6,0.011000000000000001\n",
        "Stepsize i "
       ]
      },
      {
       "output_type": "stream",
       "stream": "stdout",
       "text": [
        "7,0.011000000000000001\n",
        "Stepsize i 8,0.011000000000000001\n",
        "Stepsize i 9,0.011000000000000001\n",
        "Stepsize i 10,0.011000000000000001\n",
        "Stepsize i "
       ]
      },
      {
       "output_type": "stream",
       "stream": "stdout",
       "text": [
        "1,0.011000000000000001\n",
        "Stepsize i 2,0.011000000000000001\n",
        "Stepsize i 3,0.011000000000000001\n",
        "Stepsize i 4,0.011000000000000001\n",
        "Stepsize i "
       ]
      }
     ],
     "prompt_number": "*"
    },
    {
     "cell_type": "code",
     "collapsed": false,
     "input": [
      "readdir(\"Output\")"
     ],
     "language": "python",
     "metadata": {},
     "outputs": [],
     "prompt_number": "*"
    },
    {
     "cell_type": "code",
     "collapsed": false,
     "input": [
      "samples = readdlm(\"Output/ION_SevenState_MultMH_MWG_Output_Part_Final\",',')"
     ],
     "language": "python",
     "metadata": {},
     "outputs": [],
     "prompt_number": "*"
    },
    {
     "cell_type": "code",
     "collapsed": false,
     "input": [
      "true1 = [2000,52000,6000, 50,50000,150,200000000,1500,10000,400000000]\n",
      "for i in (1,2)\n",
      "    for j in (1,2,3,4,5)\n",
      "        iterator=5*(i-1)+j\n",
      "        subplot(2,5,iterator)\n",
      "        plt.plot(vec(samples[iterator,:]))\n",
      "        hlines(true1[iterator], 0, 1500)\n",
      "        #plt.plot([0, 1500], [true1[iterator], true1[iterator]], color='k', linestyle='-', linewidth=2)\n",
      "        plt.title(model.ParaNames[iterator])\n",
      "        plt.show()\n",
      "    end\n",
      "end\n"
     ],
     "language": "python",
     "metadata": {},
     "outputs": [],
     "prompt_number": "*"
    },
    {
     "cell_type": "code",
     "collapsed": false,
     "input": [
      "LL = readdlm(\"Output/ION_SevenState_AdaptiveMH_Output_LL_Part_Final\",',');"
     ],
     "language": "python",
     "metadata": {},
     "outputs": [],
     "prompt_number": "*"
    },
    {
     "cell_type": "code",
     "collapsed": false,
     "input": [
      "plot(LL)\n",
      "ylabel(\"Log-likelihood\")\n",
      "xlabel(\"Iteration\")"
     ],
     "language": "python",
     "metadata": {},
     "outputs": [],
     "prompt_number": "*"
    },
    {
     "cell_type": "code",
     "collapsed": false,
     "input": [],
     "language": "python",
     "metadata": {},
     "outputs": [],
     "prompt_number": "*"
    }
   ],
   "metadata": {}
  }
 ]
}