{
 "metadata": {
  "language": "Julia",
  "name": ""
 },
 "nbformat": 3,
 "nbformat_minor": 0,
 "worksheets": [
  {
   "cells": [
    {
     "cell_type": "code",
     "collapsed": false,
     "input": [
      "using PyPlot\n",
      "using MAT\n",
      "using FactCheck"
     ],
     "language": "python",
     "metadata": {},
     "outputs": [],
     "prompt_number": 5
    },
    {
     "cell_type": "code",
     "collapsed": false,
     "input": [
      "cd(\"/home/michaelepstein/Ion\")"
     ],
     "language": "python",
     "metadata": {},
     "outputs": [],
     "prompt_number": 10
    },
    {
     "cell_type": "code",
     "collapsed": false,
     "input": [
      "using MCMCTypes"
     ],
     "language": "python",
     "metadata": {},
     "outputs": [],
     "prompt_number": 11
    },
    {
     "cell_type": "code",
     "collapsed": false,
     "input": [
      "include(\"ion/test/TestIonGeometry.jl\")"
     ],
     "language": "python",
     "metadata": {},
     "outputs": [
      {
       "metadata": {},
       "output_type": "pyout",
       "prompt_number": 12,
       "text": [
        "TestIonGeometry (generic function with 1 method)"
       ]
      }
     ],
     "prompt_number": 12
    },
    {
     "cell_type": "code",
     "collapsed": false,
     "input": [
      "TestIonGeometry()"
     ],
     "language": "python",
     "metadata": {},
     "outputs": [
      {
       "output_type": "stream",
       "stream": "stdout",
       "text": [
        "Check Likelihoods\n",
        "2 facts verified.\n"
       ]
      },
      {
       "output_type": "stream",
       "stream": "stdout",
       "text": [
        "Testing tres change\n",
        "2 facts verified.\n",
        "Testing tcrit change\n",
        "2 facts verified.\n",
        "CHS change\n",
        "2 facts verified.\n",
        "Testing additional burst example from python dcprogs\n"
       ]
      },
      {
       "output_type": "stream",
       "stream": "stdout",
       "text": [
        "2 facts verified.\n",
        "*** TIME TEST ***\n",
        "\t1000 :ccall calls\n",
        "elapsed time: "
       ]
      },
      {
       "output_type": "stream",
       "stream": "stdout",
       "text": [
        "10.613542471 seconds (16000 bytes allocated)\n",
        "\t1000 :PyCall calls\n",
        "elapsed time: "
       ]
      },
      {
       "output_type": "stream",
       "stream": "stdout",
       "text": [
        "10.670790033 seconds (3857920 bytes allocated)\n"
       ]
      }
     ],
     "prompt_number": 13
    },
    {
     "cell_type": "code",
     "collapsed": false,
     "input": [
      "include(\"ion/test/TestHarness.jl\")"
     ],
     "language": "python",
     "metadata": {},
     "outputs": [],
     "prompt_number": 14
    },
    {
     "cell_type": "code",
     "collapsed": false,
     "input": [
      "TestHarness.Q"
     ],
     "language": "python",
     "metadata": {},
     "outputs": [
      {
       "metadata": {},
       "output_type": "pyout",
       "prompt_number": 15,
       "text": [
        "5x5 Array{Float64,2}:\n",
        " -3050.0          50.0         0.0   3000.0     0.0\n",
        "     0.666667   -500.667     500.0      0.0     0.0\n",
        "     0.0       15000.0    -19000.0   4000.0     0.0\n",
        "    15.0           0.0        50.0  -2065.0  2000.0\n",
        "     0.0           0.0         0.0     10.0   -10.0"
       ]
      }
     ],
     "prompt_number": 15
    },
    {
     "cell_type": "code",
     "collapsed": false,
     "input": [
      "include(\"/home/michaelepstein/Ion/ion/model/PosteriorPredictive.jl\")\n",
      "\n",
      "#open distributions\n",
      "isOpen=true\n",
      "openr = AsymptoticRoots(TestHarness.Q, TestHarness.nopen ,TestHarness.k ,isOpen,TestHarness.tres)\n",
      "t=logspace(log10(0.00001),log10(20*(-1/maximum(openr))),512)\n",
      "\n",
      "idealOpen=IdealDistribution(TestHarness.Q, TestHarness.nopen, TestHarness.k, isOpen, t)\n",
      "\n",
      "semilogx(t, idealOpen, \"r--\")\n",
      "for i in [2.5e-5,5e-5,1e-4,2e-4] \n",
      "    exactOpen = ExactDistribution(TestHarness.Q, TestHarness.nopen, TestHarness.k, isOpen, t, i)\n",
      "    semilogx(t,exactOpen, \"b--\")\n",
      "end\n",
      "title(\"Unconditional Open Times\")\n",
      "\n",
      "shutr = AsymptoticRoots(TestHarness.Q, TestHarness.nopen ,TestHarness.k ,!isOpen,TestHarness.tres)\n",
      "t=logspace(log10(0.00001),log10(20*(-1/maximum(shutr))),512)\n",
      "idealShut = IdealDistribution(TestHarness.Q, TestHarness.nopen, TestHarness.k, !isOpen, t)\n",
      "\n",
      "figure()\n",
      "plot(t, idealShut, \"r--\")\n",
      "for i in [2.5e-5,5e-5,1e-4,2e-4] \n",
      "    exactShut = ExactDistribution(TestHarness.Q, TestHarness.nopen, TestHarness.k, !isOpen, t, i)\n",
      "    semilogx(t,exactShut, \"b--\")\n",
      "end\n",
      "title(\"Unconditional Shut Times\")\n",
      "\n",
      "#conditional distributions\n",
      "t=logspace(log10(0.00001),log10(20*(-1/maximum(openr))),512)\n",
      "figure()\n",
      "title(\"Conditional subplots Figure 8a and b from 1996\")\n",
      "exactOpen = ExactDistribution(TestHarness.Q, TestHarness.nopen, TestHarness.k, isOpen, t, 5e-5)\n",
      "subplot(1,2,1)\n",
      "plot(t, exactOpen, \"r--\")\n",
      "conditionalOpen = ConditionalDistribution(TestHarness.Q, TestHarness.nopen, TestHarness.k, isOpen, 5e-5, t, 5e-5,1.5e-4)\n",
      "semilogx(t,conditionalOpen, \"b--\")\n",
      "\n",
      "subplot(1,2,2)\n",
      "plot(t,exactOpen,\"r--\")\n",
      "conditionalOpen = ConditionalDistribution(TestHarness.Q, TestHarness.nopen, TestHarness.k, isOpen, 5e-5, t, 1e-2,1.0)\n",
      "semilogx(t,conditionalOpen, \"b--\")\n",
      "\n",
      "\n",
      "figure()\n",
      "title(\"Conditional subplots Figure 8c and d from 1996\")\n",
      "exactOpen = ExactDistribution(TestHarness.Q, TestHarness.nopen, TestHarness.k, isOpen, t, 2e-4)\n",
      "subplot(1,2,1)\n",
      "plot(t, exactOpen, \"r--\")\n",
      "conditionalOpen = ConditionalDistribution(TestHarness.Q, TestHarness.nopen, TestHarness.k, isOpen, 2e-4, t, 2e-4,1e-3)\n",
      "semilogx(t,conditionalOpen, \"b--\")\n",
      "\n",
      "subplot(1,2,2)\n",
      "plot(t,exactOpen,\"r--\")\n",
      "conditionalOpen = ConditionalDistribution(TestHarness.Q, TestHarness.nopen, TestHarness.k, isOpen, 2e-4, t, 1e-2,1.0)\n",
      "semilogx(t,conditionalOpen, \"b--\")\n",
      "\n",
      "#mean continuous conditional distribution\n",
      "\n",
      "ranges = [(5e-5,1e-4),(1e-4,2e-4),(2e-4,1e-3),(1e-3,3e-1),(3e-1,3.0)]\n",
      "conditionalOpenMean = zeros(length(ranges))\n",
      "preceedingMeanShut = zeros(length(ranges))\n",
      "\n",
      "for i=1:4\n",
      "    conditionalOpenMean[i] = OpenConditionalMean(TestHarness.Q, 2, 5, true, 5e-5 , ranges[i][1],ranges[i][2])\n",
      "    preceedingMeanShut[i] = UnivariateConditionalMean(TestHarness.Q, 2, 5, false, 5e-5 , ranges[i][1],ranges[i][2])\n",
      "end\n",
      "figure(figsize=(8, 6))\n",
      "scatter(preceedingMeanShut,conditionalOpenMean)"
     ],
     "language": "python",
     "metadata": {},
     "outputs": [
      {
       "output_type": "stream",
       "stream": "stdout",
       "text": [
        "(1"
       ]
      },
      {
       "output_type": "stream",
       "stream": "stdout",
       "text": [
        ",3)(3,2)(2,)\n"
       ]
      },
      {
       "ename": "LoadError",
       "evalue": "PyError (:PyObject_Call) <type 'exceptions.TypeError'>\nTypeError('from_bounds() argument after * must be a sequence, not int',)\n  File \"/usr/lib/pymodules/python2.7/matplotlib/pyplot.py\", line 423, in figure\n    **kwargs)\n  File \"/usr/lib/pymodules/python2.7/matplotlib/backends/backend_agg.py\", line 409, in new_figure_manager\n    thisFig = FigureClass(*args, **kwargs)\n  File \"/usr/lib/pymodules/python2.7/matplotlib/figure.py\", line 313, in __init__\n    self.bbox_inches = Bbox.from_bounds(0, 0, *figsize)\n\nwhile loading In[21], in expression starting on line 68",
       "output_type": "pyerr",
       "traceback": [
        "PyError (:PyObject_Call) <type 'exceptions.TypeError'>\nTypeError('from_bounds() argument after * must be a sequence, not int',)\n  File \"/usr/lib/pymodules/python2.7/matplotlib/pyplot.py\", line 423, in figure\n    **kwargs)\n  File \"/usr/lib/pymodules/python2.7/matplotlib/backends/backend_agg.py\", line 409, in new_figure_manager\n    thisFig = FigureClass(*args, **kwargs)\n  File \"/usr/lib/pymodules/python2.7/matplotlib/figure.py\", line 313, in __init__\n    self.bbox_inches = Bbox.from_bounds(0, 0, *figsize)\n\nwhile loading In[21], in expression starting on line 68",
        "",
        " in getindex at /home/michaelepstein/.julia/v0.3/PyCall/src/PyCall.jl:249",
        " in pysequence_query at /home/michaelepstein/.julia/v0.3/PyCall/src/conversions.jl:748",
        " in pytype_query at /home/michaelepstein/.julia/v0.3/PyCall/src/conversions.jl:764",
        " in convert at /home/michaelepstein/.julia/v0.3/PyCall/src/conversions.jl:814",
        " in pycall at /home/michaelepstein/.julia/v0.3/PyCall/src/PyCall.jl:412",
        " in fn at /home/michaelepstein/.julia/v0.3/PyCall/src/conversions.jl:181",
        " in close_queued_figs at /home/michaelepstein/.julia/v0.3/PyPlot/src/PyPlot.jl:295"
       ]
      }
     ],
     "prompt_number": 21
    },
    {
     "cell_type": "code",
     "collapsed": false,
     "input": [],
     "language": "python",
     "metadata": {},
     "outputs": []
    }
   ],
   "metadata": {}
  }
 ]
}