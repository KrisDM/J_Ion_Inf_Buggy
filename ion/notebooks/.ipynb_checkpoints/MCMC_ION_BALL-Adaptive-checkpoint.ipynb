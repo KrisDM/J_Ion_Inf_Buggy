{
 "metadata": {
  "language": "Julia",
  "name": ""
 },
 "nbformat": 3,
 "nbformat_minor": 0,
 "worksheets": [
  {
   "cells": [
    {
     "cell_type": "code",
     "collapsed": false,
     "input": [
      "projbasedir = \"/home/michaelepstein/Ion/\";"
     ],
     "language": "python",
     "metadata": {},
     "outputs": [],
     "prompt_number": 12
    },
    {
     "cell_type": "code",
     "collapsed": false,
     "input": [
      "\n",
      "cd(projbasedir)\n",
      "using MAT\n",
      "using Distributions\n",
      "using MCMCTypes\n",
      "using PyPlot\n",
      "using StatsBase"
     ],
     "language": "python",
     "metadata": {},
     "outputs": [],
     "prompt_number": 13
    },
    {
     "cell_type": "code",
     "collapsed": false,
     "input": [
      "\n",
      "\n",
      "# Function for updating parameters - Gibbs step 1\n",
      "include(string(projbasedir,\"MCMCUpdateParameters.jl\"))\n",
      "\n",
      "# Function for updating indicator - Gibbs step 2\n",
      "include(string(projbasedir,\"MCMCUpdateIndicator.jl\"))\n",
      "\n",
      "# Function for the main MCMC routine\n",
      "include(string(projbasedir,\"MCMCRun.jl\"))\n",
      "\n",
      "# Enum of Ion-channel models which can be created\n",
      "AvailableModels = include(string(projbasedir,\"ion/model/ModelEnum.jl\"))\n",
      "\n",
      "# Function to create available models\n",
      "include(string(projbasedir,\"ion/model/CreateModel.jl\"))\n",
      "\n",
      "# Function to parse matlab data files\n",
      "include(string(projbasedir,\"ion/data/MatlabParser.jl\"))\n",
      "\n",
      "Sampler             = \"AdaptiveMH\"\n",
      "OutputID            = \"Output/ION_Ball_$Sampler\\_Output\"\n",
      "print(OutputID)\n",
      "InitialStepSize     = 1 # MH stepsize\n",
      "NumOfIterations     = 10000\n",
      "\n",
      "NumOfProposals      = 10\n",
      "ProposalCovariance  = [ 100 0.0; 0.0 10^8 ]\n",
      "InitialiseFromPrior = false # Sample starting parameters from prior\n",
      "\n",
      "# Define function for updating the parameters (1st Gibbs step)\n",
      "UpdateParasFunction     = UpdateParameters\n",
      "\n",
      "# Define function for sampling the indicator variable (2nd Gibbs step)\n",
      "SampleIndicatorFunction = SampleIndicator\n",
      "\n",
      "#create the Ball model\n",
      "println(\"Creating model BALL 1989\")\n",
      "model = CreateModel(AvailableModels.BALL1989)\n",
      "\n",
      "#data parsing from MATLAB experimental files\n",
      "\n",
      "datafile = string(projbasedir,\"ion/data/balldata.mat\")\n",
      "println(\"Parsing datafile $datafile\")\n",
      "data = MatlabParser(datafile)\n",
      "\n",
      "println(string(\"Likelihood with default params = \", model.LLEval(model.DefaultParas,model,data)))\n",
      "\n",
      "MySimulation = MCMCSimulation( OutputID,\n",
      "                               Sampler,\n",
      "                               NumOfProposals,\n",
      "                               NumOfIterations,\n",
      "                               InitialStepSize,\n",
      "                               ProposalCovariance,\n",
      "                               InitialiseFromPrior,\n",
      "                               UpdateParasFunction,\n",
      "                               SampleIndicatorFunction,\n",
      "                               model,\n",
      "                               data)\n",
      "\n",
      "\n",
      "# Run the MCMC code, passing in the MCMCSimulation object\n",
      "MCMCRun( MySimulation );\n",
      "println(\"done\")\n"
     ],
     "language": "python",
     "metadata": {},
     "outputs": [
      {
       "output_type": "stream",
       "stream": "stdout",
       "text": [
        "Output/ION_Ball_AdaptiveMH_OutputCreating model BALL 1989"
       ]
      },
      {
       "output_type": "stream",
       "stream": "stdout",
       "text": [
        "\n",
        "Creating Ball 1989 Model. Params = 2, States = 2\n",
        "Parsing datafile /home/michaelepstein/Ion/ion/data/balldata.mat\n",
        "Likelihood with default params = 74892.11410304286"
       ]
      },
      {
       "output_type": "stream",
       "stream": "stdout",
       "text": [
        "\n",
        "Setting up Markov chain proposal..."
       ]
      },
      {
       "output_type": "stream",
       "stream": "stdout",
       "text": [
        "\n",
        "Creating chain object...\n",
        "Initialising..."
       ]
      },
      {
       "output_type": "stream",
       "stream": "stdout",
       "text": [
        "\n",
        "The chosen sampler is Adaptive Metropolis-Hastings.\n",
        "Starting main MCMC routine...\n",
        "100"
       ]
      },
      {
       "output_type": "stream",
       "stream": "stdout",
       "text": [
        "\n",
        "LL = 83082.02492798521\n",
        "Param values 361.994229522408,5.000217762017674e6\n",
        "0.0707070707070707\n",
        "Local Acceptance Rate = 0.0707070707070707\n",
        "Shrinking StepSize to 0.9\n",
        "\n",
        "200"
       ]
      },
      {
       "output_type": "stream",
       "stream": "stdout",
       "text": [
        "\n",
        "LL = 85930.8206030558\n",
        "Param values 947.964771101443,5.000701996615748e6\n",
        "0.10552763819095477\n",
        "Local Acceptance Rate = 0.14\n",
        "300"
       ]
      },
      {
       "output_type": "stream",
       "stream": "stdout",
       "text": [
        "\n",
        "LL = 85930.67876819051\n",
        "Param values 946.4502788055156,5.000700434184595e6\n",
        "0.15719063545150502\n",
        "Local Acceptance Rate = 0.26\n",
        "400"
       ]
      },
      {
       "output_type": "stream",
       "stream": "stdout",
       "text": [
        "\n",
        "LL = 85929.94654366521\n",
        "Param values 940.6952753327528,5.000690670368355e6\n",
        "0.16040100250626566\n",
        "Local Acceptance Rate = 0.17\n",
        "500"
       ]
      },
      {
       "output_type": "stream",
       "stream": "stdout",
       "text": [
        "\n",
        "LL = 85930.94800364078\n",
        "Param values 965.8436790890389,5.000722324452133e6\n",
        "0.1523046092184369\n",
        "Local Acceptance Rate = 0.12\n",
        "600"
       ]
      },
      {
       "output_type": "stream",
       "stream": "stdout",
       "text": [
        "\n",
        "LL = 85930.95691399228\n",
        "Param values 949.4807144111126,5.000722191804383e6\n",
        "0.17028380634390652\n",
        "Local Acceptance Rate = 0.26\n",
        "700"
       ]
      },
      {
       "output_type": "stream",
       "stream": "stdout",
       "text": [
        "\n",
        "LL = 85931.22722927504\n",
        "Param values 955.4343448389732,5.000720767987452e6\n",
        "0.16738197424892703\n",
        "Local Acceptance Rate = 0.15\n",
        "800"
       ]
      },
      {
       "output_type": "stream",
       "stream": "stdout",
       "text": [
        "\n",
        "LL = 85931.22722927504\n",
        "Param values 955.4343448389732,5.000720767987452e6\n",
        "0.15644555694618273\n",
        "Local Acceptance Rate = 0.08\n",
        "Shrinking StepSize to 0.81\n",
        "\n",
        "900"
       ]
      },
      {
       "output_type": "stream",
       "stream": "stdout",
       "text": [
        "\n",
        "LL = 85929.78619049223\n",
        "Param values 975.8323616494304,5.0007152880653115e6\n",
        "0.17130144605116795\n",
        "Local Acceptance Rate = 0.29\n",
        "1000"
       ]
      },
      {
       "output_type": "stream",
       "stream": "stdout",
       "text": [
        "\n",
        "LL = 85930.17526119214\n",
        "Param values 942.4233596178876,5.000665306363673e6\n",
        "0.17517517517517517\n",
        "Local Acceptance Rate = 0.21\n",
        "1100"
       ]
      },
      {
       "output_type": "stream",
       "stream": "stdout",
       "text": [
        "\n",
        "LL = 85930.97605933592\n",
        "Param values 965.168506159452,5.0006989582623225e6\n",
        "0.1737943585077343\n",
        "Local Acceptance Rate = 0.16\n",
        "1200"
       ]
      },
      {
       "output_type": "stream",
       "stream": "stdout",
       "text": [
        "\n",
        "LL = 85931.11046955573\n",
        "Param values 962.2591207220511,5.000671014824636e6\n",
        "0.17848206839032527\n",
        "Local Acceptance Rate = 0.23\n",
        "1300"
       ]
      },
      {
       "output_type": "stream",
       "stream": "stdout",
       "text": [
        "\n",
        "LL = 85930.76044985032\n",
        "Param values 947.3553861158094,5.000694480025339e6\n",
        "0.1739799846035412\n",
        "Local Acceptance Rate = 0.12\n",
        "1400"
       ]
      },
      {
       "output_type": "stream",
       "stream": "stdout",
       "text": [
        "\n",
        "LL = 85930.15337487281\n",
        "Param values 973.0703039110756,5.000668073739169e6\n",
        "0.1908506075768406\n",
        "Local Acceptance Rate = 0.41\n",
        "1500"
       ]
      },
      {
       "output_type": "stream",
       "stream": "stdout",
       "text": [
        "\n",
        "LL = 85931.15078387196\n",
        "Param values 958.4380693081657,5.000605438760906e6\n",
        "0.1954636424282855\n",
        "Local Acceptance Rate = 0.26\n",
        "1600"
       ]
      },
      {
       "output_type": "stream",
       "stream": "stdout",
       "text": [
        "\n",
        "LL = 85931.04668255249\n",
        "Param values 963.5596851214831,5.000667669152527e6\n",
        "0.1938711694809256\n",
        "Local Acceptance Rate = 0.17\n",
        "1700"
       ]
      },
      {
       "output_type": "stream",
       "stream": "stdout",
       "text": [
        "\n",
        "LL = 85930.92908446677\n",
        "Param values 952.2611861629855,5.000482661601061e6\n",
        "0.201883460859329\n",
        "Local Acceptance Rate = 0.33\n",
        "1800"
       ]
      },
      {
       "output_type": "stream",
       "stream": "stdout",
       "text": [
        "\n",
        "LL = 85930.37875811625\n",
        "Param values 945.458700286077,5.000457507722129e6\n",
        "0.19566425792106726\n",
        "Local Acceptance Rate = 0.09\n",
        "Shrinking StepSize to 0.7290000000000001\n",
        "\n",
        "1900"
       ]
      },
      {
       "output_type": "stream",
       "stream": "stdout",
       "text": [
        "\n",
        "LL = 85930.9108319665\n",
        "Param values 957.9927239466447,5.000306399839867e6\n",
        "0.19694576092680358\n",
        "Local Acceptance Rate = 0.22\n",
        "2000"
       ]
      },
      {
       "output_type": "stream",
       "stream": "stdout",
       "text": [
        "\n",
        "LL = 85930.28495284887\n",
        "Param values 951.9110101470612,4.999709011714153e6\n",
        "0.19809904952476237\n",
        "Local Acceptance Rate = 0.22\n",
        "2100"
       ]
      },
      {
       "output_type": "stream",
       "stream": "stdout",
       "text": [
        "\n",
        "LL = 85930.3370174116\n",
        "Param values 972.4087986158912,5.000786575124002e6\n",
        "0.2053358742258218\n",
        "Local Acceptance Rate = 0.35\n",
        "2200"
       ]
      },
      {
       "output_type": "stream",
       "stream": "stdout",
       "text": [
        "\n",
        "LL = 85931.90412293587\n",
        "Param values 954.5705023131596,5.001580454862903e6\n",
        "0.20827648931332424\n",
        "Local Acceptance Rate = 0.27\n",
        "2300"
       ]
      },
      {
       "output_type": "stream",
       "stream": "stdout",
       "text": [
        "\n",
        "LL = 85931.41596471873\n",
        "Param values 950.1877156748949,5.001228572260316e6\n",
        "0.20965637233579817\n",
        "Local Acceptance Rate = 0.24\n",
        "2400"
       ]
      },
      {
       "output_type": "stream",
       "stream": "stdout",
       "text": [
        "\n",
        "LL = 85930.82470735074\n",
        "Param values 968.5013521703095,5.00084585410276e6\n",
        "0.21008753647353065\n",
        "Local Acceptance Rate = 0.22\n",
        "2500"
       ]
      },
      {
       "output_type": "stream",
       "stream": "stdout",
       "text": [
        "\n",
        "LL = 85931.43638910048\n",
        "Param values 938.7860594982415,5.00291245775241e6\n",
        "0.2188875550220088\n",
        "Local Acceptance Rate = 0.43\n",
        "2600"
       ]
      },
      {
       "output_type": "stream",
       "stream": "stdout",
       "text": [
        "\n",
        "LL = 85932.73489744712\n",
        "Param values 956.9716588101352,5.002558120928389e6\n",
        "0.21893035782993459\n",
        "Local Acceptance Rate = 0.22\n",
        "2700"
       ]
      },
      {
       "output_type": "stream",
       "stream": "stdout",
       "text": [
        "\n",
        "LL = 85933.93024920838\n",
        "Param values 956.8342070293156,5.004035226460725e6\n",
        "0.2152649129307151\n",
        "Local Acceptance Rate = 0.12\n",
        "2800"
       ]
      },
      {
       "output_type": "stream",
       "stream": "stdout",
       "text": [
        "\n",
        "LL = 85933.93024920838\n",
        "Param values 956.8342070293156,5.004035226460725e6\n",
        "0.21757770632368703\n",
        "Local Acceptance Rate = 0.28\n",
        "2900"
       ]
      },
      {
       "output_type": "stream",
       "stream": "stdout",
       "text": [
        "\n",
        "LL = 85932.9342388539\n",
        "Param values 936.2162530266074,5.005344624554147e6\n",
        "0.21938599517074853\n",
        "Local Acceptance Rate = 0.27\n",
        "3000"
       ]
      },
      {
       "output_type": "stream",
       "stream": "stdout",
       "text": [
        "\n",
        "LL = 85935.75751752929\n",
        "Param values 958.1352872726969,5.006291265878074e6\n",
        "0.21973991330443482\n",
        "Local Acceptance Rate = 0.23\n",
        "3100"
       ]
      },
      {
       "output_type": "stream",
       "stream": "stdout",
       "text": [
        "\n",
        "LL = 85934.6105902183\n",
        "Param values 948.4298725296534,5.00533723815226e6\n",
        "0.21684414327202323\n",
        "Local Acceptance Rate = 0.13\n",
        "3200"
       ]
      },
      {
       "output_type": "stream",
       "stream": "stdout",
       "text": [
        "\n",
        "LL = 85937.959513359\n",
        "Param values 960.3877522640576,5.009054403934885e6\n",
        "0.2191309784307596\n",
        "Local Acceptance Rate = 0.29\n",
        "3300"
       ]
      },
      {
       "output_type": "stream",
       "stream": "stdout",
       "text": [
        "\n",
        "LL = 85941.9975946106\n",
        "Param values 946.7747106272859,5.01467673496186e6\n",
        "0.22067293119127007\n",
        "Local Acceptance Rate = 0.27\n",
        "3400"
       ]
      },
      {
       "output_type": "stream",
       "stream": "stdout",
       "text": [
        "\n",
        "LL = 85983.08960496959\n",
        "Param values 958.7466233180259,5.065502458162477e6\n",
        "0.22035892909679317\n",
        "Local Acceptance Rate = 0.21\n",
        "3500"
       ]
      },
      {
       "output_type": "stream",
       "stream": "stdout",
       "text": [
        "\n",
        "LL = 86024.54248717209\n",
        "Param values 981.9204469164011,5.12157451109254e6\n",
        "0.21863389539868533\n",
        "Local Acceptance Rate = 0.16\n",
        "3600"
       ]
      },
      {
       "output_type": "stream",
       "stream": "stdout",
       "text": [
        "\n",
        "LL = 86185.83261903856\n",
        "Param values 949.6302180641619,5.337134396617549e6\n",
        "0.21672686857460405\n",
        "Local Acceptance Rate = 0.15\n",
        "3700"
       ]
      },
      {
       "output_type": "stream",
       "stream": "stdout",
       "text": [
        "\n",
        "LL = 86864.42021159778\n",
        "Param values 932.378673389412,6.570732980439364e6\n",
        "0.21303054879697214\n",
        "Local Acceptance Rate = 0.08\n",
        "Shrinking StepSize to 0.6561000000000001\n",
        "\n",
        "3800"
       ]
      },
      {
       "output_type": "stream",
       "stream": "stdout",
       "text": [
        "\n",
        "LL = 87487.88015066601\n",
        "Param values 1011.8442030085907,1.008634649779008e7\n",
        "0.21058173203474598\n",
        "Local Acceptance Rate = 0.12\n",
        "3900"
       ]
      },
      {
       "output_type": "stream",
       "stream": "stdout",
       "text": [
        "\n",
        "LL = 87487.88015066601\n",
        "Param values 1011.8442030085907,1.008634649779008e7\n",
        "0.20569376763272634\n",
        "Local Acceptance Rate = 0.02\n",
        "Shrinking StepSize to 0.5904900000000002\n",
        "\n",
        "4000"
       ]
      },
      {
       "output_type": "stream",
       "stream": "stdout",
       "text": [
        "\n",
        "LL = 87487.88015066601\n",
        "Param values 1011.8442030085907,1.008634649779008e7\n",
        "0.20155038759689922\n",
        "Local Acceptance Rate = 0.04\n",
        "Shrinking StepSize to 0.5314410000000002\n",
        "\n",
        "4100"
       ]
      },
      {
       "output_type": "stream",
       "stream": "stdout",
       "text": [
        "\n",
        "LL = 87487.88015066601\n",
        "Param values 1011.8442030085907,1.008634649779008e7\n",
        "0.198341058794828\n",
        "Local Acceptance Rate = 0.07\n",
        "Shrinking StepSize to 0.47829690000000014\n",
        "\n",
        "4200"
       ]
      },
      {
       "output_type": "stream",
       "stream": "stdout",
       "text": [
        "\n",
        "LL = 87486.71607781897\n",
        "Param values 1001.6547230930756,1.018165881968209e7\n",
        "0.19718980709692785\n",
        "Local Acceptance Rate = 0.15\n",
        "4300"
       ]
      },
      {
       "output_type": "stream",
       "stream": "stdout",
       "text": [
        "\n",
        "LL = 87487.38042113473\n",
        "Param values 1015.072195107097,1.0112591966825131e7\n",
        "0.19469644103279832\n",
        "Local Acceptance Rate = 0.09\n",
        "Shrinking StepSize to 0.43046721000000016\n",
        "\n",
        "4400"
       ]
      },
      {
       "output_type": "stream",
       "stream": "stdout",
       "text": [
        "\n",
        "LL = 87485.1644755858\n",
        "Param values 1018.9224875048012,1.0229579222435623e7\n",
        "0.1904978404182769\n",
        "Local Acceptance Rate = 0.01\n",
        "Shrinking StepSize to 0.38742048900000015\n",
        "\n",
        "4500"
       ]
      },
      {
       "output_type": "stream",
       "stream": "stdout",
       "text": [
        "\n",
        "LL = 87485.1644755858\n",
        "Param values 1018.9224875048012,1.0229579222435623e7\n",
        "0.18715270060013336\n",
        "Local Acceptance Rate = 0.04\n",
        "Shrinking StepSize to 0.34867844010000015\n",
        "\n",
        "4600"
       ]
      },
      {
       "output_type": "stream",
       "stream": "stdout",
       "text": [
        "\n",
        "LL = 87485.84064192817\n",
        "Param values 1024.104525111114,9.812931052457327e6\n",
        "0.1841704718417047\n",
        "Local Acceptance Rate = 0.05\n",
        "Shrinking StepSize to 0.31381059609000017\n",
        "\n",
        "4700"
       ]
      },
      {
       "output_type": "stream",
       "stream": "stdout",
       "text": [
        "\n",
        "LL = 87487.99040308467\n",
        "Param values 991.1062274652692,1.0004576702557504e7\n",
        "0.18088955096829112\n",
        "Local Acceptance Rate = 0.03\n",
        "Shrinking StepSize to 0.28242953648100017\n",
        "\n",
        "4800"
       ]
      },
      {
       "output_type": "stream",
       "stream": "stdout",
       "text": [
        "\n",
        "LL = 87487.99040308467\n",
        "Param values 991.1062274652692,1.0004576702557504e7\n",
        "0.17753698687226505\n",
        "Local Acceptance Rate = 0.02\n",
        "Shrinking StepSize to 0.25418658283290013\n",
        "\n",
        "4900"
       ]
      },
      {
       "output_type": "stream",
       "stream": "stdout",
       "text": [
        "\n",
        "LL = 87487.99040308467\n",
        "Param values 991.1062274652692,1.0004576702557504e7\n",
        "0.17432129005919575\n",
        "Local Acceptance Rate = 0.02\n",
        "Shrinking StepSize to 0.22876792454961012\n",
        "\n",
        "5000"
       ]
      },
      {
       "output_type": "stream",
       "stream": "stdout",
       "text": [
        "\n",
        "LL = 87487.99040308467\n",
        "Param values 991.1062274652692,1.0004576702557504e7\n",
        "0.17083416683336666\n",
        "5100"
       ]
      },
      {
       "output_type": "stream",
       "stream": "stdout",
       "text": [
        "\n",
        "LL = 87487.99040308467\n",
        "Param values 991.1062274652692,1.0004576702557504e7\n",
        "0.16748382035693274\n",
        "5200"
       ]
      },
      {
       "output_type": "stream",
       "stream": "stdout",
       "text": [
        "\n",
        "LL = 87487.99040308467\n",
        "Param values 991.1062274652692,1.0004576702557504e7\n",
        "0.16464704750913636\n",
        "5300"
       ]
      },
      {
       "output_type": "stream",
       "stream": "stdout",
       "text": [
        "\n",
        "LL = 87487.99040308467\n",
        "Param values 991.1062274652692,1.0004576702557504e7\n",
        "0.16153991319116814\n",
        "5400"
       ]
      },
      {
       "output_type": "stream",
       "stream": "stdout",
       "text": [
        "\n",
        "LL = 87488.30462003448\n",
        "Param values 997.293825159751,1.0036786217949267e7\n",
        "0.1591035376921652\n",
        "5500"
       ]
      },
      {
       "output_type": "stream",
       "stream": "stdout",
       "text": [
        "\n",
        "LL = 87488.30462003448\n",
        "Param values 997.293825159751,1.0036786217949267e7\n",
        "0.1569376250227314\n",
        "5600"
       ]
      },
      {
       "output_type": "stream",
       "stream": "stdout",
       "text": [
        "\n",
        "LL = 87488.30462003448\n",
        "Param values 997.293825159751,1.0036786217949267e7\n",
        "0.154491873548848\n",
        "5700"
       ]
      },
      {
       "output_type": "stream",
       "stream": "stdout",
       "text": [
        "\n",
        "LL = 87488.71516879708\n",
        "Param values 1003.7252559142473,9.959055138616143e6\n",
        "0.15300929987717143\n",
        "5800"
       ]
      },
      {
       "output_type": "stream",
       "stream": "stdout",
       "text": [
        "\n",
        "LL = 87488.71516879708\n",
        "Param values 1003.7252559142473,9.959055138616143e6\n",
        "0.15037075357820315\n",
        "5900"
       ]
      },
      {
       "output_type": "stream",
       "stream": "stdout",
       "text": [
        "\n",
        "LL = 87488.71516879708\n",
        "Param values 1003.7252559142473,9.959055138616143e6\n",
        "0.14883878623495508\n",
        "6000"
       ]
      },
      {
       "output_type": "stream",
       "stream": "stdout",
       "text": [
        "\n",
        "LL = 87488.71516879708\n",
        "Param values 1003.7252559142473,9.959055138616143e6\n",
        "0.147024504084014\n",
        "6100"
       ]
      },
      {
       "output_type": "stream",
       "stream": "stdout",
       "text": [
        "\n",
        "LL = 87488.71516879708\n",
        "Param values 1003.7252559142473,9.959055138616143e6\n",
        "0.14461387112641416\n",
        "6200"
       ]
      },
      {
       "output_type": "stream",
       "stream": "stdout",
       "text": [
        "\n",
        "LL = 87488.71516879708\n",
        "Param values 1003.7252559142473,9.959055138616143e6\n",
        "0.14324891111469593\n",
        "6300"
       ]
      },
      {
       "output_type": "stream",
       "stream": "stdout",
       "text": [
        "\n",
        "LL = 87488.71516879708\n",
        "Param values 1003.7252559142473,9.959055138616143e6\n",
        "0.14097475789807906\n",
        "6400"
       ]
      },
      {
       "output_type": "stream",
       "stream": "stdout",
       "text": [
        "\n",
        "LL = 87488.71516879708\n",
        "Param values 1003.7252559142473,9.959055138616143e6\n",
        "0.13908423191123612\n",
        "6500"
       ]
      },
      {
       "output_type": "stream",
       "stream": "stdout",
       "text": [
        "\n",
        "LL = 87487.35712561932\n",
        "Param values 1018.053391174312,1.0087386079882026e7\n",
        "0.13771349438375136\n",
        "6600"
       ]
      },
      {
       "output_type": "stream",
       "stream": "stdout",
       "text": [
        "\n",
        "LL = 87487.35712561932\n",
        "Param values 1018.053391174312,1.0087386079882026e7\n",
        "0.13562661009243826\n",
        "6700"
       ]
      },
      {
       "output_type": "stream",
       "stream": "stdout",
       "text": [
        "\n",
        "LL = 87487.35712561932\n",
        "Param values 1018.053391174312,1.0087386079882026e7\n",
        "0.1336020301537543\n",
        "6800"
       ]
      },
      {
       "output_type": "stream",
       "stream": "stdout",
       "text": [
        "\n",
        "LL = 87487.35712561932\n",
        "Param values 1018.053391174312,1.0087386079882026e7\n",
        "0.13193116634799235\n",
        "6900"
       ]
      },
      {
       "output_type": "stream",
       "stream": "stdout",
       "text": [
        "\n",
        "LL = 87487.48880358873\n",
        "Param values 1017.557280531841,1.0078330917031556e7\n",
        "0.13074358602696043\n",
        "7000"
       ]
      },
      {
       "output_type": "stream",
       "stream": "stdout",
       "text": [
        "\n",
        "LL = 87487.48880358873\n",
        "Param values 1017.557280531841,1.0078330917031556e7\n",
        "0.1288755536505215\n",
        "7100"
       ]
      },
      {
       "output_type": "stream",
       "stream": "stdout",
       "text": [
        "\n",
        "LL = 87487.48880358873\n",
        "Param values 1017.557280531841,1.0078330917031556e7\n",
        "0.12706014931680518\n",
        "7200"
       ]
      },
      {
       "output_type": "stream",
       "stream": "stdout",
       "text": [
        "\n",
        "LL = 87487.54233108864\n",
        "Param values 1001.8319619744921,1.0129746599367576e7\n",
        "0.1259897207945548\n",
        "7300"
       ]
      },
      {
       "output_type": "stream",
       "stream": "stdout",
       "text": [
        "\n",
        "LL = 87487.54233108864\n",
        "Param values 1001.8319619744921,1.0129746599367576e7\n",
        "0.12481161802986711\n",
        "7400"
       ]
      },
      {
       "output_type": "stream",
       "stream": "stdout",
       "text": [
        "\n",
        "LL = 87487.54233108864\n",
        "Param values 1001.8319619744921,1.0129746599367576e7\n",
        "0.12312474658737667\n",
        "7500"
       ]
      },
      {
       "output_type": "stream",
       "stream": "stdout",
       "text": [
        "\n",
        "LL = 87488.54926800988\n",
        "Param values 1008.8903199136823,9.93397333738239e6\n",
        "0.12294972663021736\n",
        "7600"
       ]
      },
      {
       "output_type": "stream",
       "stream": "stdout",
       "text": [
        "\n",
        "LL = 87488.54926800988\n",
        "Param values 1008.8903199136823,9.93397333738239e6\n",
        "0.12133175417818134\n",
        "7700"
       ]
      },
      {
       "output_type": "stream",
       "stream": "stdout",
       "text": [
        "\n",
        "LL = 87488.54926800988\n",
        "Param values 1008.8903199136823,9.93397333738239e6\n",
        "0.11975581244317444\n",
        "7800"
       ]
      },
      {
       "output_type": "stream",
       "stream": "stdout",
       "text": [
        "\n",
        "LL = 87486.8456372638\n",
        "Param values 1021.0752484764541,1.0103366120141804e7\n",
        "0.11886139248621617\n",
        "7900"
       ]
      },
      {
       "output_type": "stream",
       "stream": "stdout",
       "text": [
        "\n",
        "LL = 87486.79478899005\n",
        "Param values 983.8683650459534,1.0040383597413488e7\n",
        "0.11798961893910621\n",
        "8000"
       ]
      },
      {
       "output_type": "stream",
       "stream": "stdout",
       "text": [
        "\n",
        "LL = 87487.24219276647\n",
        "Param values 984.377529048889,9.931101370830264e6\n",
        "0.11738967370921365\n",
        "8100"
       ]
      },
      {
       "output_type": "stream",
       "stream": "stdout",
       "text": [
        "\n",
        "LL = 87487.24219276647\n",
        "Param values 984.377529048889,9.931101370830264e6\n",
        "0.11594023953574516\n",
        "8200"
       ]
      },
      {
       "output_type": "stream",
       "stream": "stdout",
       "text": [
        "\n",
        "LL = 87487.24219276647\n",
        "Param values 984.377529048889,9.931101370830264e6\n",
        "0.11525795828759605\n",
        "8300"
       ]
      },
      {
       "output_type": "stream",
       "stream": "stdout",
       "text": [
        "\n",
        "LL = 87487.24219276647\n",
        "Param values 984.377529048889,9.931101370830264e6\n",
        "0.11555609109531269\n",
        "8400"
       ]
      },
      {
       "output_type": "stream",
       "stream": "stdout",
       "text": [
        "\n",
        "LL = 87487.068612156\n",
        "Param values 1013.6157638015769,1.014559025017304e7\n",
        "0.11572806286462674\n",
        "8500"
       ]
      },
      {
       "output_type": "stream",
       "stream": "stdout",
       "text": [
        "\n",
        "LL = 87487.068612156\n",
        "Param values 1013.6157638015769,1.014559025017304e7\n",
        "0.11507236145428874\n",
        "8600"
       ]
      },
      {
       "output_type": "stream",
       "stream": "stdout",
       "text": [
        "\n",
        "LL = 87485.6260014614\n",
        "Param values 1003.5825360788931,1.023837172436502e7\n",
        "0.1151296662402605\n",
        "8700"
       ]
      },
      {
       "output_type": "stream",
       "stream": "stdout",
       "text": [
        "\n",
        "LL = 87485.6260014614\n",
        "Param values 1003.5825360788931,1.023837172436502e7\n",
        "0.11426600758707897\n",
        "8800"
       ]
      },
      {
       "output_type": "stream",
       "stream": "stdout",
       "text": [
        "\n",
        "LL = 87488.40186495395\n",
        "Param values 1012.2629145607715,9.963008281359587e6\n",
        "0.1130810319354472\n",
        "8900"
       ]
      },
      {
       "output_type": "stream",
       "stream": "stdout",
       "text": [
        "\n",
        "LL = 87488.40186495395\n",
        "Param values 1012.2629145607715,9.963008281359587e6\n",
        "0.1120350601191145\n",
        "9000"
       ]
      },
      {
       "output_type": "stream",
       "stream": "stdout",
       "text": [
        "\n",
        "LL = 87488.40186495395\n",
        "Param values 1012.2629145607715,9.963008281359587e6\n",
        "0.11079008778753195\n",
        "9100"
       ]
      },
      {
       "output_type": "stream",
       "stream": "stdout",
       "text": [
        "\n",
        "LL = 87488.40186495395\n",
        "Param values 1012.2629145607715,9.963008281359587e6\n",
        "0.1095724804923618\n",
        "9200"
       ]
      },
      {
       "output_type": "stream",
       "stream": "stdout",
       "text": [
        "\n",
        "LL = 87488.40186495395\n",
        "Param values 1012.2629145607715,9.963008281359587e6\n",
        "0.10838134579845636\n",
        "9300"
       ]
      },
      {
       "output_type": "stream",
       "stream": "stdout",
       "text": [
        "\n",
        "LL = 87488.40186495395\n",
        "Param values 1012.2629145607715,9.963008281359587e6\n",
        "0.10786106032906764\n",
        "9400"
       ]
      },
      {
       "output_type": "stream",
       "stream": "stdout",
       "text": [
        "\n",
        "LL = 87488.40186495395\n",
        "Param values 1012.2629145607715,9.963008281359587e6\n",
        "0.10671348015746356\n",
        "9500"
       ]
      },
      {
       "output_type": "stream",
       "stream": "stdout",
       "text": [
        "\n",
        "LL = 87488.40186495395\n",
        "Param values 1012.2629145607715,9.963008281359587e6\n",
        "0.10622170754816296\n",
        "9600"
       ]
      },
      {
       "output_type": "stream",
       "stream": "stdout",
       "text": [
        "\n",
        "LL = 87488.40186495395\n",
        "Param values 1012.2629145607715,9.963008281359587e6\n",
        "0.10532347119491614\n",
        "9700"
       ]
      },
      {
       "output_type": "stream",
       "stream": "stdout",
       "text": [
        "\n",
        "LL = 87488.2181076149\n",
        "Param values 1008.4468463035643,9.869666857411196e6\n",
        "0.1047530673265285\n",
        "9800"
       ]
      },
      {
       "output_type": "stream",
       "stream": "stdout",
       "text": [
        "\n",
        "LL = 87488.2181076149\n",
        "Param values 1008.4468463035643,9.869666857411196e6\n",
        "0.10368404939279519\n",
        "9900"
       ]
      },
      {
       "output_type": "stream",
       "stream": "stdout",
       "text": [
        "\n",
        "LL = 87488.2181076149\n",
        "Param values 1008.4468463035643,9.869666857411196e6\n",
        "0.10263662996262249\n",
        "10000"
       ]
      },
      {
       "output_type": "stream",
       "stream": "stdout",
       "text": [
        "\n",
        "LL = 87488.2181076149\n",
        "Param values 1008.4468463035643,9.869666857411196e6\n",
        "0.10181018101810181\n",
        "\n",
        "Parameter 1 Mean: 978.672190621132\n",
        "Parameter 1 Var: 7992.352084013904\n",
        "Parameter 1 Std: 89.39995572713615\n",
        "\n",
        "Parameter 2 Mean: 8.15578175878936e6\n",
        "Parameter 2 Var: 5.776853659199293e12\n",
        "Parameter 2 Std: 2.4035086143384827e6\n",
        "done\n"
       ]
      }
     ],
     "prompt_number": 24
    },
    {
     "cell_type": "code",
     "collapsed": false,
     "input": [
      "readdir(\"Output\")\n"
     ],
     "language": "python",
     "metadata": {},
     "outputs": [
      {
       "metadata": {},
       "output_type": "pyout",
       "prompt_number": 15,
       "text": [
        "59-element Array{Union(ASCIIString,UTF8String),1}:\n",
        " \".gitignore\"                                                 \n",
        " \"ION_Ball_AdaptiveMH_Output_AcceptanceLocal_Part_Final\"      \n",
        " \"ION_Ball_AdaptiveMH_Output_Acceptance_Part_Final\"           \n",
        " \"ION_Ball_AdaptiveMH_Output_LL_Part1.0\"                      \n",
        " \"ION_Ball_AdaptiveMH_Output_LL_Part_Final\"                   \n",
        " \"ION_Ball_AdaptiveMH_Output_Part1.0\"                         \n",
        " \"ION_Ball_AdaptiveMH_Output_Part_Final\"                      \n",
        " \"ION_Ball_MH_Output_AcceptanceLocal_Part1.0\"                 \n",
        " \"ION_Ball_MH_Output_AcceptanceLocal_Part_Final\"              \n",
        " \"ION_Ball_MH_Output_Acceptance_Part1.0\"                      \n",
        " \"ION_Ball_MH_Output_Acceptance_Part_Final\"                   \n",
        " \"ION_Ball_MH_Output_LL_Part1.0\"                              \n",
        " \"ION_Ball_MH_Output_LL_Part_Final\"                           \n",
        " \u22ee                                                            \n",
        " \"ION_dCK_MultMH_Output_LL_Part1.0\"                           \n",
        " \"ION_dCK_MultMH_Output_LL_Part_Final\"                        \n",
        " \"ION_dCK_MultMH_Output_Part1.0\"                              \n",
        " \"ION_dCK_MultMH_Output_Part_Final\"                           \n",
        " \"ION_SevenState_MultMH_MWG_Output_AcceptanceLocal_Part1.0\"   \n",
        " \"ION_SevenState_MultMH_MWG_Output_AcceptanceLocal_Part_Final\"\n",
        " \"ION_SevenState_MultMH_MWG_Output_Acceptance_Part1.0\"        \n",
        " \"ION_SevenState_MultMH_MWG_Output_Acceptance_Part_Final\"     \n",
        " \"ION_SevenState_MultMH_MWG_Output_LL_Part1.0\"                \n",
        " \"ION_SevenState_MultMH_MWG_Output_LL_Part_Final\"             \n",
        " \"ION_SevenState_MultMH_MWG_Output_Part1.0\"                   \n",
        " \"ION_SevenState_MultMH_MWG_Output_Part_Final\"                "
       ]
      }
     ],
     "prompt_number": 15
    },
    {
     "cell_type": "code",
     "collapsed": false,
     "input": [
      "samples = readdlm(\"Output/ION_Ball_$Sampler\\_Output_Part_Final\",',')"
     ],
     "language": "python",
     "metadata": {},
     "outputs": [
      {
       "metadata": {},
       "output_type": "pyout",
       "prompt_number": 25,
       "text": [
        "2x10000 Array{Float64,2}:\n",
        " 100.984  100.984  100.984  100.984  100.984  \u2026  1008.45       1008.45     \n",
        "   5.0e6    5.0e6    5.0e6    5.0e6    5.0e6        9.86967e6     9.86967e6"
       ]
      }
     ],
     "prompt_number": 25
    },
    {
     "cell_type": "code",
     "collapsed": false,
     "input": [
      "\n",
      "for i in (1)\n",
      "    for j in (1,2)\n",
      "        iterator=2*(i-1)+j\n",
      "        subplot(2,2,iterator)\n",
      "        plt.plot(vec(samples[iterator,:]))\n",
      "        plt.title(model.ParaNames[iterator])\n",
      "        \n",
      "        plt.show()\n",
      "    end\n",
      "end\n",
      "plt.suptitle(\"Trace plots\")\n"
     ],
     "language": "python",
     "metadata": {},
     "outputs": [
      {
       "metadata": {},
       "output_type": "display_data",
       "png": "[encoded data removed]",
       "text": [
        "Figure(PyObject <matplotlib.figure.Figure object at 0x7f5ad81ff590>)"
       ]
      },
      {
       "metadata": {},
       "output_type": "pyout",
       "prompt_number": 26,
       "text": [
        "PyObject <matplotlib.text.Text object at 0x7f5ad7edcf50>"
       ]
      }
     ],
     "prompt_number": 26
    },
    {
     "cell_type": "code",
     "collapsed": false,
     "input": [
      "#parameter histograms and scatter\n",
      "ASSUME_BURNIN = floor(length(vec(samples[1,:]))/2)\n",
      "println(\"Assuming burnin of \",ASSUME_BURNIN)\n",
      "for i in (1)\n",
      "    for j in (1,2)\n",
      "        iterator=2*(i-1)+j\n",
      "        subplot(2,2,iterator)\n",
      "        plt.hist(vec(samples[iterator,ASSUME_BURNIN:end]))\n",
      "        plt.title(model.ParaNames[iterator])\n",
      "        \n",
      "        plt.show()\n",
      "    end\n",
      "end\n",
      "plt.suptitle(\"Parameter Histograms\")"
     ],
     "language": "python",
     "metadata": {},
     "outputs": [
      {
       "output_type": "stream",
       "stream": "stdout",
       "text": [
        "Assuming burnin of 5"
       ]
      },
      {
       "output_type": "stream",
       "stream": "stdout",
       "text": [
        "000.0\n"
       ]
      },
      {
       "metadata": {},
       "output_type": "display_data",
       "png": "[encoded data removed]",
       "text": [
        "Figure(PyObject <matplotlib.figure.Figure object at 0x7f5ad8013d90>)"
       ]
      },
      {
       "metadata": {},
       "output_type": "pyout",
       "prompt_number": 27,
       "text": [
        "PyObject <matplotlib.text.Text object at 0x7f5ad7cb72d0>"
       ]
      }
     ],
     "prompt_number": 27
    },
    {
     "cell_type": "code",
     "collapsed": false,
     "input": [
      "figure(figsize=(4,4))\n",
      "plt.scatter(vec(samples[1,ASSUME_BURNIN:end]),vec(samples[2,ASSUME_BURNIN:end]),s=0.5, alpha=0.5)\n",
      "plt.xlabel(model.ParaNames[1])\n",
      "plt.ylabel(model.ParaNames[2])\n",
      "plt.title(\"Parameter scatterplot\")"
     ],
     "language": "python",
     "metadata": {},
     "outputs": [
      {
       "metadata": {},
       "output_type": "display_data",
       "png": "[encoded data removed]",
       "text": [
        "Figure(PyObject <matplotlib.figure.Figure object at 0x7f5ad7e4b1d0>)"
       ]
      },
      {
       "metadata": {},
       "output_type": "pyout",
       "prompt_number": 28,
       "text": [
        "PyObject <matplotlib.text.Text object at 0x7f5ad7c07350>"
       ]
      }
     ],
     "prompt_number": 28
    },
    {
     "cell_type": "code",
     "collapsed": false,
     "input": [
      "LAGS=50\n",
      "println(\"Assuming burnin of \",ASSUME_BURNIN, \" and LAGS of \", LAGS)\n",
      "for i in (1)\n",
      "    for j in (1,2)\n",
      "        iterator=2*(i-1)+j\n",
      "        subplot(2,2,iterator)\n",
      "        plt.plot(autocor(vec(samples[iterator,ASSUME_BURNIN:end]),0:LAGS))\n",
      "        plt.title(model.ParaNames[iterator])\n",
      "        \n",
      "        plt.show()\n",
      "    end\n",
      "end\n",
      "plt.suptitle(\"Parameter Autocorrelations\")"
     ],
     "language": "python",
     "metadata": {},
     "outputs": [
      {
       "output_type": "stream",
       "stream": "stdout",
       "text": [
        "Assuming burnin of 5"
       ]
      },
      {
       "output_type": "stream",
       "stream": "stdout",
       "text": [
        "000.0 and LAGS of 50\n"
       ]
      },
      {
       "metadata": {},
       "output_type": "display_data",
       "png": "[encoded data removed]",
       "text": [
        "Figure(PyObject <matplotlib.figure.Figure object at 0x7f5ad7c67e90>)"
       ]
      },
      {
       "metadata": {},
       "output_type": "pyout",
       "prompt_number": 29,
       "text": [
        "PyObject <matplotlib.text.Text object at 0x7f5ad7adc0d0>"
       ]
      }
     ],
     "prompt_number": 29
    },
    {
     "cell_type": "code",
     "collapsed": false,
     "input": [
      "LL = readdlm(\"Output/ION_Ball_$Sampler\\_Output_LL_Part_Final\",',');"
     ],
     "language": "python",
     "metadata": {},
     "outputs": [],
     "prompt_number": 30
    },
    {
     "cell_type": "code",
     "collapsed": false,
     "input": [
      "figure(figsize=(5, 3))\n",
      "plot(LL)\n",
      "ylabel(\"Log-likelihood\")\n",
      "xlabel(\"Iteration\")\n",
      "title(\"Log-likelihood convergence\")"
     ],
     "language": "python",
     "metadata": {},
     "outputs": [
      {
       "metadata": {},
       "output_type": "display_data",
       "png": "[encoded data removed]",
       "text": [
        "Figure(PyObject <matplotlib.figure.Figure object at 0x7f5ad7cb7210>)"
       ]
      },
      {
       "metadata": {},
       "output_type": "pyout",
       "prompt_number": 31,
       "text": [
        "PyObject <matplotlib.text.Text object at 0x7f5ad79992d0>"
       ]
      }
     ],
     "prompt_number": 31
    },
    {
     "cell_type": "code",
     "collapsed": false,
     "input": [
      "\n",
      "acceptance = readdlm(\"Output/ION_Ball_$Sampler\\_Output_Acceptance_Part_Final\",',');\n",
      "sizes = size(acceptance)\n",
      "plot([1:sizes[1]],acceptance[:])\n",
      "acceptancelocal = readdlm(\"Output/ION_Ball_$Sampler\\_Output_AcceptanceLocal_Part_Final\",',');\n",
      "plot([1:sizes[1]],acceptancelocal[:])\n",
      "ylabel(\"acceptance rate\")\n",
      "xlabel(\"Iteration*100\")\n",
      "title(\"Acceptance rate\")"
     ],
     "language": "python",
     "metadata": {},
     "outputs": [
      {
       "metadata": {},
       "output_type": "display_data",
       "png": "[encoded data removed]",
       "text": [
        "Figure(PyObject <matplotlib.figure.Figure object at 0x7f5ad7aeee10>)"
       ]
      },
      {
       "metadata": {},
       "output_type": "pyout",
       "prompt_number": 32,
       "text": [
        "PyObject <matplotlib.text.Text object at 0x7f5ad7951450>"
       ]
      }
     ],
     "prompt_number": 32
    },
    {
     "cell_type": "code",
     "collapsed": false,
     "input": [
      "Sampler             = \"AdaptiveMH\"\n",
      "OutputID            = \"Output/ION_Ball_$Sampler\\_Output\"\n"
     ],
     "language": "python",
     "metadata": {},
     "outputs": [
      {
       "metadata": {},
       "output_type": "pyout",
       "prompt_number": 11,
       "text": [
        "\"Output/ION_Ball_AdaptiveMH_Output\""
       ]
      }
     ],
     "prompt_number": 11
    },
    {
     "cell_type": "code",
     "collapsed": false,
     "input": [],
     "language": "python",
     "metadata": {},
     "outputs": [],
     "prompt_number": 81
    }
   ],
   "metadata": {}
  }
 ]
}