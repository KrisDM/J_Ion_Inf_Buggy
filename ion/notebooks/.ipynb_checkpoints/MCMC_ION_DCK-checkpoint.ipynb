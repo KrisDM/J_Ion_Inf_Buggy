{
 "metadata": {
  "language": "Julia",
  "name": ""
 },
 "nbformat": 3,
 "nbformat_minor": 0,
 "worksheets": [
  {
   "cells": [
    {
     "cell_type": "code",
     "collapsed": false,
     "input": [
      "projbasedir = \"/home/michaelepstein/Ion/\""
     ],
     "language": "python",
     "metadata": {},
     "outputs": [
      {
       "metadata": {},
       "output_type": "pyout",
       "prompt_number": 1,
       "text": [
        "\"/home/michaelepstein/Ion/\""
       ]
      }
     ],
     "prompt_number": 1
    },
    {
     "cell_type": "code",
     "collapsed": false,
     "input": [
      "\n",
      "cd(projbasedir)\n",
      "output_samples = \"/Output/ION_dCK_MultMH_MWG_Output_Final\"\n",
      "using MAT\n",
      "using Distributions\n",
      "using MCMCTypes\n",
      "using PyPlot"
     ],
     "language": "python",
     "metadata": {},
     "outputs": [],
     "prompt_number": "*"
    },
    {
     "cell_type": "code",
     "collapsed": false,
     "input": [
      "# Function for updating parameters - Gibbs step 1\n",
      "include(string(projbasedir,\"MCMCUpdateParameters.jl\"))\n",
      "\n",
      "# Function for updating indicator - Gibbs step 2\n",
      "include(string(projbasedir,\"MCMCUpdateIndicator.jl\"))\n",
      "\n",
      "# Function for the main MCMC routine\n",
      "include(string(projbasedir,\"MCMCRun.jl\"))\n",
      "\n",
      "# Enum of Ion-channel models which can be created\n",
      "AvailableModels = include(string(projbasedir,\"ion/model/ModelEnum.jl\"))\n",
      "\n",
      "# Function to create available models\n",
      "include(string(projbasedir,\"ion/model/CreateModel.jl\"))\n",
      "\n",
      "# Function to parse matlab data files\n",
      "include(string(projbasedir,\"ion/data/MatlabParser.jl\"))\n",
      "\n",
      "Sampler             = \"MultMH\"\n",
      "OutputID            = \"Output/ION_dCK_MultMH_MWG_Output\"\n",
      "InitialStepSize     = 0.01 # MH stepsize\n",
      "NumOfIterations     = 100\n",
      "\n",
      "NumOfProposals      = 1\n",
      "ProposalCovariance  = eye(4,4)\n",
      "InitialiseFromPrior = false # Sample starting parameters from prior\n",
      "\n",
      "# Define function for updating the parameters (1st Gibbs step)\n",
      "UpdateParasFunction     = UpdateParameters\n",
      "\n",
      "# Define function for sampling the indicator variable (2nd Gibbs step)\n",
      "SampleIndicatorFunction = SampleIndicator\n",
      "\n",
      "#create the dCK model\n",
      "model = CreateModel(AvailableModels.DCK)\n",
      "\n",
      "#data parsing from MATLAB experimental files\n",
      "\n",
      "datafile = string(projbasedir,\"ion/data/dCK.mat\")\n",
      "println(\"Parsing datafile $datafile\")\n",
      "data = MatlabParser(datafile)\n",
      "\n",
      "println(string(\"Likelihood with default params = \", model.LLEval(model.DefaultParas,model,data)))\n",
      "println(string(\"Likelihood with generative params = \", model.LLEval([15000 500 2000 5e8],model,data)))"
     ],
     "language": "python",
     "metadata": {},
     "outputs": [
      {
       "output_type": "stream",
       "stream": "stdout",
       "text": [
        "Creating del-Castillo-Katz Model. Params = 4, States = 3\n"
       ]
      },
      {
       "output_type": "stream",
       "stream": "stdout",
       "text": [
        "Parsing datafile /home/michaelepstein/Ion/ion/data/dCK.mat\n",
        "Likelihood with default params = 71289.2396606352"
       ]
      },
      {
       "output_type": "stream",
       "stream": "stdout",
       "text": [
        "\n",
        "Likelihood with generative params = 127529.33507079596\n"
       ]
      }
     ],
     "prompt_number": 3
    },
    {
     "cell_type": "code",
     "collapsed": false,
     "input": [
      "MySimulation = MCMCSimulation( OutputID,\n",
      "                               Sampler,\n",
      "                               NumOfProposals,\n",
      "                               NumOfIterations,\n",
      "                               InitialStepSize,\n",
      "                               ProposalCovariance,\n",
      "                               InitialiseFromPrior,\n",
      "                               UpdateParasFunction,\n",
      "                               SampleIndicatorFunction,\n",
      "                               model,\n",
      "                               data,\n",
      "                               true)\n",
      "\n",
      "\n",
      "# Run the MCMC code, passing in the MCMCSimulation object\n",
      "MCMCRun( MySimulation );\n",
      "println(\"done\")"
     ],
     "language": "python",
     "metadata": {},
     "outputs": [
      {
       "output_type": "stream",
       "stream": "stdout",
       "text": [
        "Setting up Markov chain proposal..."
       ]
      },
      {
       "output_type": "stream",
       "stream": "stdout",
       "text": [
        "\n",
        "Creating chain object...\n",
        "Initialising..."
       ]
      },
      {
       "output_type": "stream",
       "stream": "stdout",
       "text": [
        "\n",
        "The chosen sampler is Multiplicative Metropolis-Hastings.\n",
        "Starting main MCMC routine...\n",
        "Current Parameter i = "
       ]
      },
      {
       "output_type": "stream",
       "stream": "stdout",
       "text": [
        "1 Value, 100.0LL71224.76727803136\n",
        "Proposed Parameter i = 1 Value = 100.29897952296434LL = 71265.03621266641\n",
        "Current Parameter i = 2 Value, 98.80273539197053LL71204.76963481131\n",
        "Proposed Parameter i = 2 Value = 100.0LL = 71265.03621266641\n",
        "Current Parameter i = 3 Value, 1002.8844809137119LL71197.45506817299\n",
        "Proposed Parameter i = 3 Value = 1000.0LL = 71265.03621266641\n",
        "Current Parameter i = 4 Value, 1001.1005947671052LL71197.4550883241\n",
        "Proposed Parameter i = 4 Value = 1000.0LL = 71265.03621266641\n",
        "Current Parameter i = "
       ]
      },
      {
       "output_type": "stream",
       "stream": "stdout",
       "text": [
        "1 Value, 100.04774860984317LL71203.89435927673\n",
        "Proposed Parameter i = 1 Value = 100.29897952296434LL = 71265.03621266641\n",
        "Current Parameter i = 2 Value, 100.88617768651076LL71238.47822655611\n",
        "Proposed Parameter i = 2 Value = 100.0LL = 71265.03621266641\n",
        "Current Parameter i = 3 Value, 989.5621507380079LL71271.92333671778\n",
        "Proposed Parameter i = 3 Value = 1000.0LL = 71265.03621266641\n",
        "Current Parameter i = 4 Value, 1001.1005947671052LL71271.92333671778\n",
        "Proposed Parameter i = 4 Value = 1011.4991137679186LL = 71265.03636982535\n",
        "Current Parameter i = 1 Value, 100.04774860984317LL71271.92333671778\n",
        "Proposed Parameter i = 1 Value = 99.9249545645334LL = 71214.640681351\n",
        "Current Parameter i = 2 Value, 100.88617768651076LL71271.92333671778\n",
        "Proposed Parameter i = 2 Value = 100.73575235790094LL = 71226.7248875657\n",
        "Current Parameter i = 3 Value, 989.5621507380079LL71271.92333671778\n",
        "Proposed Parameter i = 3 Value = 997.651811232968LL = 71232.63223496078\n",
        "Current Parameter i = "
       ]
      },
      {
       "output_type": "stream",
       "stream": "stdout",
       "text": [
        "4 Value, 1001.1005947671052LL71271.92333671778\n",
        "Proposed Parameter i = 4 Value = 999.7318504248976LL = 71232.63208230985\n",
        "Current Parameter i = 1 Value, 100.04774860984317LL71271.92333671778\n",
        "Proposed Parameter i = 1 Value = 100.11876494667467LL = 71258.76959178319\n",
        "Current Parameter i = 2 Value, 100.88617768651076LL71271.92333671778\n",
        "Proposed Parameter i = 2 Value = 101.32623942338249LL = 71268.34545679198\n",
        "Current Parameter i = 3 Value, 989.5621507380079LL71271.92333671778\n",
        "Proposed Parameter i = 3 Value = 972.3131965981952LL = 71331.4183989918\n",
        "Current Parameter i = 4 Value, 999.9575750862082LL71271.9233198967\n",
        "Proposed Parameter i = 4 Value = 999.7318504248976LL = 71331.4183989918\n",
        "Current Parameter i = 1 Value, 100.3704679603927LL71315.36384860172\n",
        "Proposed Parameter i = 1 Value = 100.11876494667467LL = 71331.4183989918\n",
        "Current Parameter i = 2 Value, 101.87625747392967LL71331.25522841552\n",
        "Proposed Parameter i = 2 Value = 101.32623942338249LL = 71331.4183989918\n",
        "Current Parameter i = "
       ]
      },
      {
       "output_type": "stream",
       "stream": "stdout",
       "text": [
        "3 Value, 989.5621507380079LL71331.25522841552\n",
        "Proposed Parameter i = 3 Value = 986.2561621614062LL = 71296.83655828355\n",
        "Current Parameter i = 4 Value, 999.9575750862082LL71331.25522841552\n",
        "Proposed Parameter i = 4 Value = 989.0804029710077LL = 71296.83642253412\n",
        "Current Parameter i = 1 Value, 100.3704679603927LL71331.25522841552\n",
        "Proposed Parameter i = 1 Value = 99.92954005465003LL = 71271.31783025869\n",
        "Current Parameter i = 2 Value, 101.87625747392967LL71331.25522841552\n",
        "Proposed Parameter i = 2 Value = 102.818508633513LL = 71294.9419515876\n",
        "Current Parameter i = 3 Value, 989.5621507380079LL71331.25522841552\n",
        "Proposed Parameter i = 3 Value = 1000.517271481238LL = 71259.43508990384\n",
        "Current Parameter i = 4 Value, 999.9575750862082LL71331.25522841552\n",
        "Proposed Parameter i = 4 Value = 986.7621177136808LL = 71259.4350593553\n",
        "Current Parameter i = 1 Value, 100.3704679603927LL71331.25522841552\n",
        "Proposed Parameter i = 1 Value = 100.2879460490446LL = 71307.72813476504\n",
        "Current Parameter i = "
       ]
      },
      {
       "output_type": "stream",
       "stream": "stdout",
       "text": [
        "2 Value, 101.87625747392967LL71331.25522841552\n",
        "Proposed Parameter i = 2 Value = 103.78521642589291LL = 71322.82510950942\n",
        "Current Parameter i = 3 Value, 989.5621507380079LL71331.25522841552\n",
        "Proposed Parameter i = 3 Value = 989.8601510163539LL = 71349.30250269112\n",
        "Current Parameter i = 4 Value, 983.5470465830427LL71331.25501499654\n",
        "Proposed Parameter i = 4 Value = 986.7621177136808LL = 71349.30250269112\n",
        "Current Parameter i = 1 Value, 100.85519937104189LL71396.24016552477\n",
        "Proposed Parameter i = 1 Value = 100.2879460490446LL = 71349.30250269112\n",
        "Current Parameter i = 2 Value, 101.87625747392967LL71396.24016552477\n",
        "Proposed Parameter i = 2 Value = 97.32810070192046LL = 71244.0836617759\n",
        "Current Parameter i = 3 Value, 989.5621507380079LL71396.24016552477\n",
        "Proposed Parameter i = 3 Value = 975.3793146318272LL = 71280.57630527472\n",
        "Current Parameter i = 4 Value, 983.5470465830427LL71396.24016552477\n",
        "Proposed Parameter i = 4 Value = 982.5867638198781LL = 71280.57625386513\n",
        "Current Parameter i = "
       ]
      },
      {
       "output_type": "stream",
       "stream": "stdout",
       "text": [
        "1 Value, 100.85519937104189LL71396.24016552477\n",
        "Proposed Parameter i = 1 Value = 101.60132121778926LL = 71456.07063185953\n",
        "Current Parameter i = 2 Value, 97.59904427810974LL71325.57410804859\n",
        "Proposed Parameter i = 2 Value = 97.32810070192046LL = 71456.07063185953\n",
        "Current Parameter i = 3 Value, 981.8900195584187LL71344.92695784866\n",
        "Proposed Parameter i = 3 Value = 975.3793146318272LL = 71456.07063185953\n",
        "Current Parameter i = 4 Value, 991.210838314176LL71344.92705800915\n",
        "Proposed Parameter i = 4 Value = 982.5867638198781LL = 71456.07063185953\n",
        "Current Parameter i = 1 Value, 101.73458131839539LL71462.02068619576\n",
        "Proposed Parameter i = 1 Value = 101.60132121778926LL = 71456.07063185953\n",
        "Current Parameter i = 2 Value, 97.59904427810974LL71462.02068619576\n",
        "Proposed Parameter i = 2 Value = 97.89210026886064LL = 71465.67119550578\n",
        "Current Parameter i = "
       ]
      },
      {
       "output_type": "stream",
       "stream": "stdout",
       "text": [
        "3 Value, 1003.2551418762259LL71407.90784442889\n",
        "Proposed Parameter i = 3 Value = 975.3793146318272LL = 71465.67119550578\n",
        "Current Parameter i = 4 Value, 962.3880109295703LL71407.90745104423\n",
        "Proposed Parameter i = 4 Value = 982.5867638198781LL = 71465.67119550578\n",
        "Current Parameter i = 1 Value, 101.57767730362671LL71387.08996135967\n",
        "Proposed Parameter i = 1 Value = 101.60132121778926LL = 71465.67119550578\n",
        "Current Parameter i = 2 Value, 97.89902060345463LL71392.25523826254\n",
        "Proposed Parameter i = 2 Value = 97.89210026886064LL = 71465.67119550578\n",
        "Current Parameter i = 3 Value, 977.2179024831644LL71458.04264756362\n",
        "Proposed Parameter i = 3 Value = 975.3793146318272LL = 71465.67119550578\n",
        "Current Parameter i = 4 Value, 999.5940342362785LL71458.04310360576\n",
        "Proposed Parameter i = 4 Value = 982.5867638198781LL = 71465.67119550578\n",
        "Current Parameter i = 1 Value, 102.18645833822515LL71538.63430787278\n",
        "Proposed Parameter i = 1 Value = 101.60132121778926LL = 71465.67119550578\n",
        "Current Parameter i = "
       ]
      },
      {
       "output_type": "stream",
       "stream": "stdout",
       "text": [
        "2 Value, 97.89902060345463LL71538.63430787278\n",
        "Proposed Parameter i = 2 Value = 97.58574248680753LL = 71460.46818630038\n",
        "Current Parameter i = 3 Value, 977.2179024831644LL71538.63430787278\n",
        "Proposed Parameter i = 3 Value = 977.368576422063LL = 71455.47858225834\n",
        "Current Parameter i = 4 Value, 999.5940342362785LL71538.63430787278\n",
        "Proposed Parameter i = 4 Value = 993.5399654272042LL = 71455.4787145064\n",
        "Current Parameter i = 1 Value, 102.18645833822515LL71538.63430787278\n",
        "Proposed Parameter i = 1 Value = 100.84527121027179LL = 71354.73566315063\n",
        "Current Parameter i = 2 Value, 97.89902060345463LL71538.63430787278\n",
        "Proposed Parameter i = 2 Value = 98.17040671296871LL = 71364.65091733685\n",
        "Current Parameter i = 3 Value, 977.2179024831644LL71538.63430787278\n",
        "Proposed Parameter i = 3 Value = 973.2568601236178LL = 71374.93629646122\n",
        "Current Parameter i = 4 Value, 999.5940342362785LL71538.63430787278\n",
        "Proposed Parameter i = 4 Value = 1002.2819907540809LL = 71374.93640807505\n",
        "Current Parameter i = "
       ]
      },
      {
       "output_type": "stream",
       "stream": "stdout",
       "text": [
        "1 Value, 102.18645833822515LL71538.63430787278\n",
        "Proposed Parameter i = 1 Value = 102.20517705684031LL = 71555.60222776477\n",
        "Current Parameter i = 2 Value, 96.7415000548171LL71518.81005448458\n",
        "Proposed Parameter i = 2 Value = 98.17040671296871LL = 71555.60222776477\n",
        "Current Parameter i = 3 Value, 961.5321222063988LL71558.09940320165\n",
        "Proposed Parameter i = 3 Value = 973.2568601236178LL = 71555.60222776477\n",
        "Current Parameter i = 4 Value, 999.5940342362785LL71558.09940320165\n",
        "Proposed Parameter i = 4 Value = 1010.6005373159144LL = 71555.602330075\n",
        "Current Parameter i = 1 Value, 102.18645833822515LL71558.09940320165\n",
        "Proposed Parameter i = 1 Value = 102.10887876784818LL = 71542.88881568018\n",
        "Current Parameter i = 2 Value, 96.7415000548171LL71558.09940320165\n",
        "Proposed Parameter i = 2 Value = 95.97626301093283LL = 71505.22029158007\n",
        "Current Parameter i = "
       ]
      },
      {
       "output_type": "stream",
       "stream": "stdout",
       "text": [
        "3 Value, 961.5321222063988LL71558.09940320165\n",
        "Proposed Parameter i = 3 Value = 958.9372434453034LL = 71541.11176978867\n",
        "Current Parameter i = 4 Value, 999.5940342362785LL71558.09940320165\n",
        "Proposed Parameter i = 4 Value = 995.2646747041854LL = 71541.11160135904\n",
        "Current Parameter i = 1 Value, 102.18645833822515LL71558.09940320165\n",
        "Proposed Parameter i = 1 Value = 101.7096118762351LL = 71488.27052360114\n",
        "Current Parameter i = 2 Value, 96.7415000548171LL71558.09940320165\n",
        "Proposed Parameter i = 2 Value = 97.1809370839648LL = 71508.97974224824\n",
        "Current Parameter i = 3 Value, 961.5321222063988LL71558.09940320165\n",
        "Proposed Parameter i = 3 Value = 948.9243261574017LL = 71533.77364953316\n",
        "Current Parameter i = 4 Value, 999.5940342362785LL71558.09940320165\n",
        "Proposed Parameter i = 4 Value = 986.250611597854LL = 71533.77354402533\n",
        "Current Parameter i = "
       ]
      },
      {
       "output_type": "stream",
       "stream": "stdout",
       "text": [
        "1 Value, 102.18645833822515LL71558.09940320165\n",
        "Proposed Parameter i = 1 Value = 101.84196828836454LL = 71551.31348316715\n",
        "Current Parameter i = 2 Value, 96.7415000548171LL71558.09940320165\n",
        "Proposed Parameter i = 2 Value = 96.90631014818571LL = 71546.65668074814\n",
        "Current Parameter i = 3 Value, 961.5321222063988LL71558.09940320165\n",
        "Proposed Parameter i = 3 Value = 959.8608085149203LL = 71519.54033226417\n",
        "Current Parameter i = 4 Value, 999.5940342362785LL71558.09940320165\n",
        "Proposed Parameter i = 4 Value = 1003.6156162451322LL = 71519.54053291843\n",
        "Current Parameter i = 1 Value, 102.18645833822515LL71558.09940320165\n",
        "Proposed Parameter i = 1 Value = 102.55779306968574LL = 71614.00564267664\n",
        "Current Parameter i = 2 Value, 98.01995423340236LL71579.79393596969\n",
        "Proposed Parameter i = 2 Value = 96.90631014818571LL = 71614.00564267664\n",
        "Current Parameter i = 3 Value, 981.7788416477482LL71529.23723090497\n",
        "Proposed Parameter i = 3 Value = 959.8608085149203LL = 71614.00564267664\n",
        "Current Parameter i = "
       ]
      },
      {
       "output_type": "stream",
       "stream": "stdout",
       "text": [
        "4 Value, 1009.4598662325523LL71529.2373541761\n",
        "Proposed Parameter i = 4 Value = 1003.6156162451322LL = 71614.00564267664\n",
        "Current Parameter i = 1 Value, 102.98978270103123LL71634.84541902992\n",
        "Proposed Parameter i = 1 Value = 102.55779306968574LL = 71614.00564267664\n",
        "Current Parameter i = 2 Value, 98.01995423340236LL71634.84541902992\n",
        "Proposed Parameter i = 2 Value = 96.94698649633841LL = 71614.70089850776\n",
        "Current Parameter i = 3 Value, 981.7788416477482LL71634.84541902992\n",
        "Proposed Parameter i = 3 Value = 985.7885474644895LL = 71549.66676799723\n",
        "Current Parameter i = 4 Value, 1009.4598662325523LL71634.84541902992\n",
        "Proposed Parameter i = 4 Value = 993.0876523903403LL = 71549.66663205042\n",
        "Current Parameter i = 1 Value, 102.98978270103123LL71634.84541902992\n",
        "Proposed Parameter i = 1 Value = 103.57186561185577LL = 71682.35929206018\n",
        "Current Parameter i = 2 Value, 97.90456360761425LL71632.88693661022\n",
        "Proposed Parameter i = 2 Value = 96.94698649633841LL = 71682.35929206018\n",
        "Current Parameter i = "
       ]
      },
      {
       "output_type": "stream",
       "stream": "stdout",
       "text": [
        "3 Value, 981.198539558626LL71634.34547637799\n",
        "Proposed Parameter i = 3 Value = 985.7885474644895LL = 71682.35929206018\n",
        "Current Parameter i = 4 Value, 992.1145307431688LL71634.34526096491\n",
        "Proposed Parameter i = 4 Value = 993.0876523903403LL = 71682.35929206018\n",
        "Current Parameter i = 1 Value, 104.19040410802977LL71790.64660024851\n",
        "Proposed Parameter i = 1 Value = 103.57186561185577LL = 71682.35929206018\n",
        "Current Parameter i = 2 Value, 97.90456360761425LL71790.64660024851\n",
        "Proposed Parameter i = 2 Value = 98.3561327000578LL = 71706.45747159097\n",
        "Current Parameter i = 3 Value, 981.198539558626LL71790.64660024851\n",
        "Proposed Parameter i = 3 Value = 971.785776019198LL = 71741.53874749808\n",
        "Current Parameter i = 4 Value, 992.1145307431688LL71790.64660024851\n",
        "Proposed Parameter i = 4 Value = 990.7545551479562LL = 71741.53871202384\n",
        "Current Parameter i = 1 Value, 104.19040410802977LL71790.64660024851\n",
        "Proposed Parameter i = 1 Value = 105.7132399965118LL = 72017.49362215519\n",
        "Current Parameter i = "
       ]
      },
      {
       "output_type": "stream",
       "stream": "stdout",
       "text": [
        "2 Value, 98.12633253300085LL71794.40604877552\n",
        "Proposed Parameter i = 2 Value = 98.3561327000578LL = 72017.49362215519\n",
        "Current Parameter i = 3 Value, 957.2307863427371LL71854.13975064068\n",
        "Proposed Parameter i = 3 Value = 971.785776019198LL = 72017.49362215519\n",
        "Current Parameter i = 4 Value, 988.5292621793611LL71854.1397137294\n",
        "Proposed Parameter i = 4 Value = 990.7545551479562LL = 72017.49362215519\n",
        "Current Parameter i = 1 Value, 104.39497500823333LL71880.59060010816\n",
        "Proposed Parameter i = 1 Value = 105.7132399965118LL = 72017.49362215519\n",
        "Current Parameter i = 2 Value, 96.87231096259272LL71859.40334427335\n",
        "Proposed Parameter i = 2 Value = 98.3561327000578LL = 72017.49362215519\n",
        "Current Parameter i = 3 Value, 961.4032878924837LL71849.02315400598\n",
        "Proposed Parameter i = 3 Value = 971.785776019198LL = 72017.49362215519\n",
        "Current Parameter i = "
       ]
      },
      {
       "output_type": "stream",
       "stream": "stdout",
       "text": [
        "4 Value, 996.2392976527686LL71849.02324718365\n",
        "Proposed Parameter i = 4 Value = 990.7545551479562LL = 72017.49362215519\n",
        "Current Parameter i = 1 Value, 103.88919498775677LL71783.53106792018\n",
        "Proposed Parameter i = 1 Value = 105.7132399965118LL = 72017.49362215519\n",
        "Current Parameter i = 2 Value, 98.93570464869757LL71818.22053890054\n",
        "Proposed Parameter i = 2 Value = 98.3561327000578LL = 72017.49362215519\n",
        "Current Parameter i = 3 Value, 954.7793186884045LL71834.56297463407\n",
        "Proposed Parameter i = 3 Value = 971.785776019198LL = 72017.49362215519\n",
        "Current Parameter i = 4 Value, 973.771194117295LL71834.56272745524\n",
        "Proposed Parameter i = 4 Value = 990.7545551479562LL = 72017.49362215519\n",
        "Current Parameter i = 1 Value, 104.88024926939056LL71962.5928682099\n",
        "Proposed Parameter i = 1 Value = 105.7132399965118LL = "
       ]
      },
      {
       "output_type": "stream",
       "stream": "stdout",
       "text": [
        "72017.49362215519\n",
        "Current Parameter i = 2 Value, 98.71965538767748LL71959.03292173751\n",
        "Proposed Parameter i = 2 Value = 98.3561327000578LL = 72017.49362215519\n",
        "Current Parameter i = 3 Value, 977.9993480107099LL71901.38903747975\n",
        "Proposed Parameter i = 3 Value = 971.785776019198LL = 72017.49362215519\n",
        "Current Parameter i = 4 Value, 975.8044965664543LL71901.3890596289\n",
        "Proposed Parameter i = 4 Value = 990.7545551479562LL = 72017.49362215519\n",
        "Current Parameter i = 1 Value, 105.60991082194315LL71994.87392539058\n",
        "Proposed Parameter i = 1 Value = 105.7132399965118LL = 72017.49362215519\n",
        "Current Parameter i = 2 Value, 99.68609200021037LL72010.89191647423\n",
        "Proposed Parameter i = 2 Value = 98.3561327000578LL = 72017.49362215519\n",
        "Current Parameter i = "
       ]
      },
      {
       "output_type": "stream",
       "stream": "stdout",
       "text": [
        "3 Value, 978.366325796488LL72009.97708226161\n",
        "Proposed Parameter i = 3 Value = 971.785776019198LL = 72017.49362215519\n",
        "Current Parameter i = 4 Value, 987.351280665079LL72009.97723262304\n",
        "Proposed Parameter i = 4 Value = 990.7545551479562LL = 72017.49362215519\n",
        "Current Parameter i = 1 Value, 104.6407178135984LL71885.66018728171\n",
        "Proposed Parameter i = 1 Value = 105.7132399965118LL = 72017.49362215519\n",
        "Current Parameter i = 2 Value, 99.1139103140639LL71876.20795109488\n",
        "Proposed Parameter i = 2 Value = 98.3561327000578LL = 72017.49362215519\n",
        "Current Parameter i = 3 Value, 970.0930109396179LL71896.82166278758\n",
        "Proposed Parameter i = 3 Value = 971.785776019198LL = 72017.49362215519\n",
        "Current Parameter i = 4 Value, 998.3305805831559LL71896.82179365958\n",
        "Proposed Parameter i = 4 Value = 990.7545551479562LL = 72017.49362215519\n",
        "Current Parameter i = "
       ]
      },
      {
       "output_type": "stream",
       "stream": "stdout",
       "text": [
        "1 Value, 106.6865497010909LL72157.89724569318\n",
        "Proposed Parameter i = 1 Value = 105.7132399965118LL = 72017.49362215519\n",
        "Current Parameter i = 2 Value, 99.1139103140639LL72157.89724569318\n",
        "Proposed Parameter i = 2 Value = 99.27909845412321LL = 72032.8450528799\n",
        "Current Parameter i = 3 Value, 970.0930109396179LL72157.89724569318\n",
        "Proposed Parameter i = 3 Value = 981.4327489060053LL = 72008.78625433815\n",
        "Current Parameter i = 4 Value, 998.3305805831559LL72157.89724569318\n",
        "Proposed Parameter i = 4 Value = 988.3911755979033LL = 72008.78623447624\n",
        "Current Parameter i = 1 Value, 106.6865497010909LL72157.89724569318\n",
        "Proposed Parameter i = 1 Value = 105.3909814289886LL = 71967.61928001569\n",
        "Current Parameter i = 2 Value, 99.1139103140639LL72157.89724569318\n",
        "Proposed Parameter i = 2 Value = 99.48890522501642LL = 71971.0917937143\n",
        "Current Parameter i = 3 Value, 970.0930109396179LL72157.89724569318\n",
        "Proposed Parameter i = 3 Value = 981.2954035567492LL = 71971.43510293624\n",
        "Current Parameter i = "
       ]
      },
      {
       "output_type": "stream",
       "stream": "stdout",
       "text": [
        "4 Value, 998.3305805831559LL72157.89724569318\n",
        "Proposed Parameter i = 4 Value = 1008.1970735899201LL = 71971.43535427329\n",
        "Current Parameter i = 1 Value, 106.6865497010909LL72157.89724569318\n",
        "Proposed Parameter i = 1 Value = 107.71941228934156LL = 72266.07157004358\n",
        "Current Parameter i = 2 Value, 98.10837796432185LL72141.12599468806\n",
        "Proposed Parameter i = 2 Value = 99.48890522501642LL = 72266.07157004358\n",
        "Current Parameter i = 3 Value, 974.9951405187684LL72128.88142465257\n",
        "Proposed Parameter i = 3 Value = 981.2954035567492LL = 72266.07157004358\n",
        "Current Parameter i = 4 Value, 983.5381560583315LL72128.88124170851\n",
        "Proposed Parameter i = 4 Value = 1008.1970735899201LL = 72266.07157004358\n",
        "Current Parameter i = 1 Value, 108.0741983156945LL72303.10770963992\n",
        "Proposed Parameter i = 1 Value = 107.71941228934156LL = 72266.07157004358\n",
        "Current Parameter i = "
       ]
      },
      {
       "output_type": "stream",
       "stream": "stdout",
       "text": [
        "2 Value, 98.10837796432185LL72303.10770963992\n",
        "Proposed Parameter i = 2 Value = 98.67644540048214LL = 72252.55338396438\n",
        "Current Parameter i = 3 Value, 974.9951405187684LL72303.10770963992\n",
        "Proposed Parameter i = 3 Value = 970.4879905021305LL = 72279.55131342675\n",
        "Current Parameter i = 4 Value, 983.5381560583315LL72303.10770963992\n",
        "Proposed Parameter i = 4 Value = 987.392481527042LL = 72279.55106989482\n",
        "Current Parameter i = 1 Value, 108.0741983156945LL72303.10770963992\n",
        "Proposed Parameter i = 1 Value = 106.65735015297189LL = 72145.96345725642\n",
        "Current Parameter i = 2 Value, 98.10837796432185LL72303.10770963992\n",
        "Proposed Parameter i = 2 Value = 98.29510939681359LL = 72139.58780154548\n",
        "Current Parameter i = 3 Value, 974.9951405187684LL72303.10770963992\n",
        "Proposed Parameter i = 3 Value = 971.0662187219775LL = 72138.14605987405\n",
        "Current Parameter i = "
       ]
      },
      {
       "output_type": "stream",
       "stream": "stdout",
       "text": [
        "4 Value, 983.5381560583315LL72303.10770963992\n",
        "Proposed Parameter i = 4 Value = 1006.7985891965145LL = 72138.14629600426\n",
        "Current Parameter i = 1 Value, 108.0741983156945LL72303.10770963992\n",
        "Proposed Parameter i = 1 Value = 105.52492077550968LL = 71994.22336814585\n",
        "Current Parameter i = 2 Value, 98.10837796432185LL72303.10770963992\n",
        "Proposed Parameter i = 2 Value = 98.21211476632126LL = 71992.82965259961\n",
        "Current Parameter i = 3 Value, 974.9951405187684LL72303.10770963992\n",
        "Proposed Parameter i = 3 Value = 966.9084080071373LL = 72003.18778294079\n",
        "Current Parameter i = 4 Value, 983.5381560583315LL72303.10770963992\n",
        "Proposed Parameter i = 4 Value = 989.1013607438198LL = 72003.18757049878\n",
        "Current Parameter i = 1 Value, 108.0741983156945LL72303.10770963992\n",
        "Proposed Parameter i = 1 Value = 106.35422233033583LL = 72108.7368373088\n",
        "Current Parameter i = "
       ]
      },
      {
       "output_type": "stream",
       "stream": "stdout",
       "text": [
        "2 Value, 98.10837796432185LL72303.10770963992\n",
        "Proposed Parameter i = 2 Value = 98.45186894379833LL = 72112.74866146952\n",
        "Current Parameter i = 3 Value, 974.9951405187684LL72303.10770963992\n",
        "Proposed Parameter i = 3 Value = 968.5855342398435LL = 72108.57736190094\n",
        "Current Parameter i = 4 Value, 983.5381560583315LL72303.10770963992\n",
        "Proposed Parameter i = 4 Value = 987.7069676529084LL = 72108.57734665905\n",
        "Current Parameter i = 1 Value, 108.0741983156945LL72303.10770963992\n",
        "Proposed Parameter i = 1 Value = 106.18327316648616LL = 72086.88780774846\n",
        "Current Parameter i = 2 Value, 98.10837796432185LL72303.10770963992\n",
        "Proposed Parameter i = 2 Value = 96.59741783878195LL = 72055.37976405602\n",
        "Current Parameter i = 3 Value, 974.9951405187684LL72303.10770963992\n",
        "Proposed Parameter i = 3 Value = 981.2505546788781LL = 72023.53035488143\n",
        "Current Parameter i = 4 Value, 983.5381560583315LL72303.10770963992\n",
        "Proposed Parameter i = 4 Value = 979.3681653319679LL = 72023.53024853005\n",
        "Current Parameter i = "
       ]
      },
      {
       "output_type": "stream",
       "stream": "stdout",
       "text": [
        "1 Value, 108.0741983156945LL72303.10770963992\n",
        "Proposed Parameter i = 1 Value = 107.95898576249567LL = 72247.12994186519\n",
        "Current Parameter i = 2 Value, 98.10837796432185LL72303.10770963992\n",
        "Proposed Parameter i = 2 Value = 97.98945447809109LL = 72271.03364739504\n",
        "Current Parameter i = 3 Value, 974.9951405187684LL72303.10770963992\n",
        "Proposed Parameter i = 3 Value = 967.0639248642267LL = 72306.51987242572\n",
        "Current Parameter i = 4 Value, 973.835851395161LL72303.10758226733\n",
        "Proposed Parameter i = 4 Value = 979.3681653319679LL = 72306.51987242572\n",
        "Current Parameter i = 1 Value, 110.08041683230064LL72551.05362144262\n",
        "Proposed Parameter i = 1 Value = 107.95898576249567LL = 72306.51987242572\n",
        "Current Parameter i = 2 Value, 98.10837796432185LL72551.05362144262\n",
        "Proposed Parameter i = 2 Value = 97.98007151348061LL = 72306.3618861785\n",
        "Current Parameter i = 3 Value, 974.9951405187684LL72551.05362144262\n",
        "Proposed Parameter i = 3 Value = 968.7409457851525LL = 72302.18335033908\n",
        "Current Parameter i = "
       ]
      },
      {
       "output_type": "stream",
       "stream": "stdout",
       "text": [
        "4 Value, 973.835851395161LL72551.05362144262\n",
        "Proposed Parameter i = 4 Value = 993.8823400234311LL = 72302.18352200235\n",
        "Current Parameter i = 1 Value, 110.08041683230064LL72551.05362144262\n",
        "Proposed Parameter i = 1 Value = 110.3093360223369LL = 72592.51114675742\n",
        "Current Parameter i = 2 Value, 98.36977094522477LL72555.45370465059\n",
        "Proposed Parameter i = 2 Value = 97.98007151348061LL = 72592.51114675742\n",
        "Current Parameter i = 3 Value, 957.2984656962926LL72599.43658379027\n",
        "Proposed Parameter i = 3 Value = 968.7409457851525LL = 72592.51114675742\n",
        "Current Parameter i = 4 Value, 973.835851395161LL72599.43658379027\n",
        "Proposed Parameter i = 4 Value = 989.6495532561806LL = 72592.51109598156\n",
        "Current Parameter i = 1 Value, 110.08041683230064LL72599.43658379027\n",
        "Proposed Parameter i = 1 Value = 109.04728502655323LL = 72437.39970464999\n",
        "Current Parameter i = "
       ]
      },
      {
       "output_type": "stream",
       "stream": "stdout",
       "text": [
        "2 Value, 98.36977094522477LL72599.43658379027\n",
        "Proposed Parameter i = 2 Value = 97.9225464379895LL = 72436.42961670396\n",
        "Current Parameter i = 3 Value, 957.2984656962926LL72599.43658379027\n",
        "Proposed Parameter i = 3 Value = 943.7976658662984LL = 72498.12323626205\n",
        "Current Parameter i = 4 Value, 973.835851395161LL72599.43658379027\n",
        "Proposed Parameter i = 4 Value = 976.5946635393476LL = 72498.12308961804\n",
        "Current Parameter i = 1 Value, 110.08041683230064LL72599.43658379027\n",
        "Proposed Parameter i = 1 Value = 110.86323377787825LL = 72720.74791493156\n",
        "Current Parameter i = 2 Value, 96.87598318103954LL72574.25011512233\n",
        "Proposed Parameter i = 2 Value = 97.9225464379895LL = 72720.74791493156\n",
        "Current Parameter i = 3 Value, 944.5107415781463LL72605.88963303513\n",
        "Proposed Parameter i = 3 Value = 943.7976658662984LL = 72720.74791493156\n",
        "Current Parameter i = 4 Value, 963.0773277106498LL72605.88951213857\n",
        "Proposed Parameter i = 4 Value = 976.5946635393476LL = 72720.74791493156\n",
        "Current Parameter i = "
       ]
      },
      {
       "output_type": "stream",
       "stream": "stdout",
       "text": [
        "1 Value, 111.2343037096399LL72746.44247238198\n",
        "Proposed Parameter i = 1 Value = 110.86323377787825LL = 72720.74791493156\n",
        "Current Parameter i = 2 Value, 96.87598318103954LL72746.44247238198\n",
        "Proposed Parameter i = 2 Value = 98.19596589423458LL = 72725.28842281812\n",
        "Current Parameter i = 3 Value, 944.5107415781463LL72746.44247238198\n",
        "Proposed Parameter i = 3 Value = 963.3593306905543LL = 72677.03862099104\n",
        "Current Parameter i = 4 Value, 963.0773277106498LL72746.44247238198\n",
        "Proposed Parameter i = 4 Value = 960.3439729976061LL = 72677.03843563033\n",
        "Current Parameter i = 1 Value, 111.2343037096399LL72746.44247238198\n",
        "Proposed Parameter i = 1 Value = 112.09909750112107LL = 72826.45586799667\n",
        "Current Parameter i = 2 Value, 99.16977800620923LL72784.57744148547\n",
        "Proposed Parameter i = 2 Value = 98.19596589423458LL = 72826.45586799667\n",
        "Current Parameter i = "
       ]
      },
      {
       "output_type": "stream",
       "stream": "stdout",
       "text": [
        "3 Value, 981.7204597659882LL72692.54961304138\n",
        "Proposed Parameter i = 3 Value = 963.3593306905543LL = 72826.45586799667\n",
        "Current Parameter i = 4 Value, 957.8328227197401LL72692.54955663312\n",
        "Proposed Parameter i = 4 Value = 960.3439729976061LL = 72826.45586799667\n",
        "Current Parameter i = 1 Value, 111.86227106383228LL72768.42488729044\n",
        "Proposed Parameter i = 1 Value = 112.09909750112107LL = 72826.45586799667\n",
        "Current Parameter i = 2 Value, 96.30830710344321LL72719.65378009512\n",
        "Proposed Parameter i = 2 Value = 98.19596589423458LL = 72826.45586799667\n",
        "Current Parameter i = 3 Value, 974.6354769268625LL72737.52510575818\n",
        "Proposed Parameter i = 3 Value = 963.3593306905543LL = 72826.45586799667\n",
        "Current Parameter i = 4 Value, 951.6521151167566LL72737.52504064495\n",
        "Proposed Parameter i = 4 Value = 960.3439729976061LL = 72826.45586799667\n",
        "Current Parameter i = "
       ]
      },
      {
       "output_type": "stream",
       "stream": "stdout",
       "text": [
        "1 Value, 113.59487415807214LL72944.66301100129\n",
        "Proposed Parameter i = 1 Value = 112.09909750112107LL = 72826.45586799667\n",
        "Current Parameter i = 2 Value, 96.30830710344321LL72944.66301100129\n",
        "Proposed Parameter i = 2 Value = 96.46686657839389LL = 72797.0538691519\n",
        "Current Parameter i = 3 Value, 974.6354769268625LL72944.66301100129\n",
        "Proposed Parameter i = 3 Value = 973.7599076573915LL = 72770.98825288174\n",
        "Current Parameter i = 4 Value, 951.6521151167566LL72944.66301100129\n",
        "Proposed Parameter i = 4 Value = 963.572492615858LL = 72770.9882967132\n",
        "Current Parameter i = 1 Value, 113.59487415807214LL72944.66301100129\n",
        "Proposed Parameter i = 1 Value = 113.7627699585768LL = 72969.52593776541\n",
        "Current Parameter i = 2 Value, 97.22662012599903LL72960.52785419508\n",
        "Proposed Parameter i = 2 Value = 96.46686657839389LL = 72969.52593776541\n",
        "Current Parameter i = "
       ]
      },
      {
       "output_type": "stream",
       "stream": "stdout",
       "text": [
        "3 Value, 971.8271921394547LL72967.56763553784\n",
        "Proposed Parameter i = 3 Value = 973.7599076573915LL = 72969.52593776541\n",
        "Current Parameter i = 4 Value, 964.2671923416755LL72967.56778925385\n",
        "Proposed Parameter i = 4 Value = 963.572492615858LL = 72969.52593776541\n",
        "Current Parameter i = 1 Value, 114.03013763836775LL73019.10448503164\n",
        "Proposed Parameter i = 1 Value = 113.7627699585768LL = 72969.52593776541\n",
        "Current Parameter i = 2 Value, 97.22662012599903LL73019.10448503164\n",
        "Proposed Parameter i = 2 Value = 97.43555642767726LL = 72986.19919620827\n",
        "Current Parameter i = 3 Value, 971.8271921394547LL73019.10448503164\n",
        "Proposed Parameter i = 3 Value = 974.4219380946431LL = 72984.53995095215\n",
        "Current Parameter i = 4 Value, 964.2671923416755LL73019.10448503164\n",
        "Proposed Parameter i = 4 Value = 954.4717446347407LL = 72984.53983472512\n",
        "Current Parameter i = 1 Value, 114.03013763836775LL73019.10448503164\n",
        "Proposed Parameter i = 1 Value = 113.04030201664561LL = 72898.6844321947\n",
        "Current Parameter i = "
       ]
      },
      {
       "output_type": "stream",
       "stream": "stdout",
       "text": [
        "2 Value, 97.22662012599903LL73019.10448503164\n",
        "Proposed Parameter i = 2 Value = 97.53720134123299LL = 72900.41796196162\n",
        "Current Parameter i = 3 Value, 971.8271921394547LL73019.10448503164\n",
        "Proposed Parameter i = 3 Value = 971.7812399981788LL = 72907.0298597586\n",
        "Current Parameter i = 4 Value, 964.2671923416755LL73019.10448503164\n",
        "Proposed Parameter i = 4 Value = 969.38451038279LL = 72907.03004811636\n",
        "Current Parameter i = 1 Value, 114.03013763836775LL73019.10448503164\n",
        "Proposed Parameter i = 1 Value = 114.60586554736446LL = 73092.38367851502\n",
        "Current Parameter i = 2 Value, 97.05349780223494LL73016.13762093695\n",
        "Proposed Parameter i = 2 Value = 97.53720134123299LL = 73092.38367851502\n",
        "Current Parameter i = 3 Value, 984.0685966852878LL72985.34320983908\n",
        "Proposed Parameter i = 3 Value = 971.7812399981788LL = 73092.38367851502\n",
        "Current Parameter i = 4 Value, 968.7923891628076LL72985.34325891513\n",
        "Proposed Parameter i = 4 Value = 969.38451038279LL = 73092.38367851502\n",
        "Current Parameter i = "
       ]
      },
      {
       "output_type": "stream",
       "stream": "stdout",
       "text": [
        "1 Value, 115.69978811645464LL73181.2122940989\n",
        "Proposed Parameter i = 1 Value = 114.60586554736446LL = 73092.38367851502\n",
        "Current Parameter i = 2 Value, 97.05349780223494LL73181.2122940989\n",
        "Proposed Parameter i = 2 Value = 97.48300639605338LL = 73091.46101912664\n",
        "Current Parameter i = 3 Value, 984.0685966852878LL73181.2122940989\n",
        "Proposed Parameter i = 3 Value = 974.3232474142279LL = 73085.0951135096\n",
        "Current Parameter i = 4 Value, 968.7923891628076LL73181.2122940989\n",
        "Proposed Parameter i = 4 Value = 965.6682034051163LL = 73085.09506893186\n",
        "Current Parameter i = 1 Value, 115.69978811645464LL73181.2122940989\n",
        "Proposed Parameter i = 1 Value = 116.03050376262716LL = 73251.55882568682\n",
        "Current Parameter i = 2 Value, 97.35424801923067LL73186.3928214723\n",
        "Proposed Parameter i = 2 Value = 97.48300639605338LL = 73251.55882568682\n",
        "Current Parameter i = "
       ]
      },
      {
       "output_type": "stream",
       "stream": "stdout",
       "text": [
        "3 Value, 972.4325472502074LL73215.63973212977\n",
        "Proposed Parameter i = 3 Value = 974.3232474142279LL = 73251.55882568682\n",
        "Current Parameter i = 4 Value, 963.2480557688538LL73215.6396614101\n",
        "Proposed Parameter i = 4 Value = 965.6682034051163LL = 73251.55882568682\n",
        "Current Parameter i = 1 Value, 116.58804787550896LL73318.68479253049\n",
        "Proposed Parameter i = 1 Value = 116.03050376262716LL = 73251.55882568682\n",
        "Current Parameter i = 2 Value, 97.35424801923067LL73318.68479253049\n",
        "Proposed Parameter i = 2 Value = 98.12010145028108LL = 73262.36401684888\n",
        "Current Parameter i = 3 Value, 972.4325472502074LL73318.68479253049\n",
        "Proposed Parameter i = 3 Value = 982.1627859103803LL = 73242.71180706716\n",
        "Current Parameter i = 4 Value, 963.2480557688538LL73318.68479253049\n",
        "Proposed Parameter i = 4 Value = 956.4790822556928LL = 73242.71168783774\n",
        "Current Parameter i = "
       ]
      },
      {
       "output_type": "stream",
       "stream": "stdout",
       "text": [
        "1 Value, 116.58804787550896LL73318.68479253049\n",
        "Proposed Parameter i = 1 Value = 117.16046332392811LL = 73373.28444684714\n",
        "Current Parameter i = 2 Value, 100.9560374604985LL73378.28029523497\n",
        "Proposed Parameter i = 2 Value = 98.12010145028108LL = 73373.28444684714\n",
        "Current Parameter i = 3 Value, 972.4325472502074LL73378.28029523497\n",
        "Proposed Parameter i = 3 Value = 979.4939151657852LL = 73379.9855516794\n",
        "Current Parameter i = 4 Value, 938.1181252310993LL73378.27999421743\n",
        "Proposed Parameter i = 4 Value = 956.4790822556928LL = 73379.9855516794\n",
        "Current Parameter i = 1 Value, 117.50595666765886LL73483.93733392486\n",
        "Proposed Parameter i = 1 Value = 117.16046332392811LL = 73379.9855516794\n",
        "Current Parameter i = 2 Value, 100.9560374604985LL73483.93733392486\n",
        "Proposed Parameter i = 2 Value = 99.7489487043212LL = 73407.13825814489\n",
        "Current Parameter i = "
       ]
      },
      {
       "output_type": "stream",
       "stream": "stdout",
       "text": [
        "3 Value, 972.4325472502074LL73483.93733392486\n",
        "Proposed Parameter i = 3 Value = 957.5600842650156LL = 73461.4706824428\n",
        "Current Parameter i = 4 Value, 938.1181252310993LL73483.93733392486\n",
        "Proposed Parameter i = 4 Value = 925.5975045038413LL = 73461.47032697145\n",
        "Current Parameter i = 1 Value, 117.50595666765886LL73483.93733392486\n",
        "Proposed Parameter i = 1 Value = 117.02804883066293LL = 73446.2348463004\n",
        "Current Parameter i = 2 Value, 100.9560374604985LL73483.93733392486\n",
        "Proposed Parameter i = 2 Value = 100.12994658215749LL = 73452.40081730814\n",
        "Current Parameter i = 3 Value, 972.4325472502074LL73483.93733392486\n",
        "Proposed Parameter i = 3 Value = 960.4270802285291LL = 73445.3531105088\n",
        "Current Parameter i = 4 Value, 938.1181252310993LL73483.93733392486\n",
        "Proposed Parameter i = 4 Value = 949.2614384882277LL = 73445.3533853568\n",
        "Current Parameter i = "
       ]
      },
      {
       "output_type": "stream",
       "stream": "stdout",
       "text": [
        "1 Value, 117.50595666765886LL73483.93733392486\n",
        "Proposed Parameter i = 1 Value = 120.49835227620238LL = 73839.01393282013\n",
        "Current Parameter i = 2 Value, 100.84313908309815LL73482.12611116264\n",
        "Proposed Parameter i = 2 Value = 100.12994658215749LL = 73839.01393282013\n",
        "Current Parameter i = 3 Value, 975.0948018861266LL73475.53435386663\n",
        "Proposed Parameter i = 3 Value = 960.4270802285291LL = 73839.01393282013\n",
        "Current Parameter i = 4 Value, 969.3611007937121LL73475.53473263235\n",
        "Proposed Parameter i = 4 Value = 949.2614384882277LL = 73839.01393282013\n",
        "Current Parameter i = 1 Value, 121.92136593159724LL73972.41568251874\n",
        "Proposed Parameter i = 1 Value = 120.49835227620238LL = 73839.01393282013\n",
        "Current Parameter i = 2 Value, 100.84313908309815LL73972.41568251874\n",
        "Proposed Parameter i = 2 Value = 100.00504283839749LL = 73836.99375981353\n",
        "Current Parameter i = "
       ]
      },
      {
       "output_type": "stream",
       "stream": "stdout",
       "text": [
        "3 Value, 975.0948018861266LL73972.41568251874\n",
        "Proposed Parameter i = 3 Value = 971.2895356471321LL = 73810.1564553536\n",
        "Current Parameter i = 4 Value, 969.3611007937121LL73972.41568251874\n",
        "Proposed Parameter i = 4 Value = 957.1516700435321LL = 73810.15653423691\n",
        "Current Parameter i = 1 Value, 121.92136593159724LL73972.41568251874\n",
        "Proposed Parameter i = 1 Value = 122.84648964726874LL = 74070.08815659102\n",
        "Current Parameter i = 2 Value, 98.84699053178836LL73939.74101719451\n",
        "Proposed Parameter i = 2 Value = 100.00504283839749LL = 74070.08815659102\n",
        "Current Parameter i = 3 Value, 985.681016230475LL73913.23378502537\n",
        "Proposed Parameter i = 3 Value = 971.2895356471321LL = 74070.08815659102\n",
        "Current Parameter i = 4 Value, 970.2922225732118LL73913.23379329983\n",
        "Proposed Parameter i = 4 Value = 957.1516700435321LL = 74070.08815659102\n",
        "Current Parameter i = "
       ]
      },
      {
       "output_type": "stream",
       "stream": "stdout",
       "text": [
        "1 Value, 122.6226030904185LL73990.4719766421\n",
        "Proposed Parameter i = 1 Value = 122.84648964726874LL = 74070.08815659102\n",
        "Current Parameter i = 2 Value, 99.24143184426623LL73997.05611195242\n",
        "Proposed Parameter i = 2 Value = 100.00504283839749LL = 74070.08815659102\n",
        "Current Parameter i = 3 Value, 974.5979638010475LL74024.76536871931\n",
        "Proposed Parameter i = 3 Value = 971.2895356471321LL = 74070.08815659102\n",
        "Current Parameter i = 4 Value, 965.2844034951339LL74024.76530431716\n",
        "Proposed Parameter i = 4 Value = 957.1516700435321LL = 74070.08815659102\n",
        "Current Parameter i = 1 Value, 122.15458452625364LL73973.26457416583\n",
        "Proposed Parameter i = 1 Value = 122.84648964726874LL = 74070.08815659102\n",
        "Current Parameter i = 2 Value, 99.92828737577537LL73984.55566882774\n",
        "Proposed Parameter i = 2 Value = 100.00504283839749LL = 74070.08815659102\n",
        "Current Parameter i = "
       ]
      },
      {
       "output_type": "stream",
       "stream": "stdout",
       "text": [
        "3 Value, 977.7579312125707LL73976.69382938376\n",
        "Proposed Parameter i = 3 Value = 971.2895356471321LL = 74070.08815659102\n",
        "Current Parameter i = 4 Value, 955.6442572144907LL73976.69371548823\n",
        "Proposed Parameter i = 4 Value = 957.1516700435321LL = 74070.08815659102\n",
        "Current Parameter i = 1 Value, 122.69970854757194LL74036.66018100119\n",
        "Proposed Parameter i = 1 Value = 122.84648964726874LL = 74070.08815659102\n",
        "Current Parameter i = 2 Value, 100.90114099691789LL74052.44818506918\n",
        "Proposed Parameter i = 2 Value = 100.00504283839749LL = 74070.08815659102\n",
        "Current Parameter i = 3 Value, 981.7130960084855LL74042.61898993522\n",
        "Proposed Parameter i = 3 Value = 971.2895356471321LL = 74070.08815659102\n",
        "Current Parameter i = 4 Value, 968.1042389575975LL74042.61913525917\n",
        "Proposed Parameter i = 4 Value = 957.1516700435321LL = 74070.08815659102\n",
        "Current Parameter i = "
       ]
      },
      {
       "output_type": "stream",
       "stream": "stdout",
       "text": [
        "1 Value, 121.06221222319411LL73861.6689679392\n",
        "Proposed Parameter i = 1 Value = 122.84648964726874LL = 74070.08815659102\n",
        "Current Parameter i = 2 Value, 99.64035881236165LL73841.11385586353\n",
        "Proposed Parameter i = 2 Value = 100.00504283839749LL = 74070.08815659102\n",
        "Current Parameter i = 3 Value, 967.6501372996282LL73876.10299032269\n",
        "Proposed Parameter i = 3 Value = 971.2895356471321LL = 74070.08815659102\n",
        "Current Parameter i = 4 Value, 948.3645700633058LL73876.10275725038\n",
        "Proposed Parameter i = 4 Value = 957.1516700435321LL = 74070.08815659102\n",
        "Current Parameter i = 1 Value, 121.44095924687994LL73918.17437075463\n",
        "Proposed Parameter i = 1 Value = 122.84648964726874LL = 74070.08815659102\n",
        "Current Parameter i = 2 Value, 99.83253766710423LL73921.31334187294\n",
        "Proposed Parameter i = 2 Value = 100.00504283839749LL = 74070.08815659102\n",
        "Current Parameter i = "
       ]
      },
      {
       "output_type": "stream",
       "stream": "stdout",
       "text": [
        "3 Value, 958.5213146671974LL73943.84045448269\n",
        "Proposed Parameter i = 3 Value = 971.2895356471321LL = 74070.08815659102\n",
        "Current Parameter i = 4 Value, 978.1343553415385LL73943.8407880992\n",
        "Proposed Parameter i = 4 Value = 957.1516700435321LL = 74070.08815659102\n",
        "Current Parameter i = 1 Value, 121.28413861640819LL73926.43703517238\n",
        "Proposed Parameter i = 1 Value = 122.84648964726874LL = 74070.08815659102\n",
        "Current Parameter i = 2 Value, 98.67792256754322LL73907.51074523301\n",
        "Proposed Parameter i = 2 Value = 100.00504283839749LL = 74070.08815659102\n",
        "Current Parameter i = 3 Value, 974.1617972446743LL73868.6722234291\n",
        "Proposed Parameter i = 3 Value = 971.2895356471321LL = 74070.08815659102\n",
        "Current Parameter i = 4 Value, 955.5158348160292LL73868.67195032015\n",
        "Proposed Parameter i = 4 Value = 957.1516700435321LL = 74070.08815659102\n",
        "Current Parameter i = "
       ]
      },
      {
       "output_type": "stream",
       "stream": "stdout",
       "text": [
        "1 Value, 121.22280055513534LL73861.85859728594\n",
        "Proposed Parameter i = 1 Value = 122.84648964726874LL = 74070.08815659102\n",
        "Current Parameter i = 2 Value, 99.20189644851989LL73870.56835719226\n",
        "Proposed Parameter i = 2 Value = 100.00504283839749LL = 74070.08815659102\n",
        "Current Parameter i = 3 Value, 985.2310203395743LL73842.89786161116\n",
        "Proposed Parameter i = 3 Value = 971.2895356471321LL = 74070.08815659102\n",
        "Current Parameter i = 4 Value, 944.770510122621LL73842.89774291996\n",
        "Proposed Parameter i = 4 Value = 957.1516700435321LL = 74070.08815659102\n",
        "Current Parameter i = 1 Value, 122.09778844399729LL73939.76285262132\n",
        "Proposed Parameter i = 1 Value = 122.84648964726874LL = 74070.08815659102\n",
        "Current Parameter i = 2 Value, 101.04721053821348LL73969.98227475285\n",
        "Proposed Parameter i = 2 Value = 100.00504283839749LL = 74070.08815659102\n",
        "Current Parameter i = "
       ]
      },
      {
       "output_type": "stream",
       "stream": "stdout",
       "text": [
        "3 Value, 977.3345131390863LL73989.61556882331\n",
        "Proposed Parameter i = 3 Value = 971.2895356471321LL = 74070.08815659102\n",
        "Current Parameter i = 4 Value, 952.6057570167134LL73989.61565701739\n",
        "Proposed Parameter i = 4 Value = 957.1516700435321LL = 74070.08815659102\n",
        "Current Parameter i = 1 Value, 122.67943481567261LL74053.6203322915\n",
        "Proposed Parameter i = 1 Value = 122.84648964726874LL = 74070.08815659102\n",
        "Current Parameter i = 2 Value, 100.53461106848147LL74045.358210936\n",
        "Proposed Parameter i = 2 Value = 100.00504283839749LL = 74070.08815659102\n",
        "Current Parameter i = 3 Value, 977.9196106316616LL74043.90425653163\n",
        "Proposed Parameter i = 3 Value = 971.2895356471321LL = 74070.08815659102\n",
        "Current Parameter i = 4 Value, 960.3831018731362LL74043.90434927358\n",
        "Proposed Parameter i = 4 Value = 957.1516700435321LL = 74070.08815659102\n",
        "Current Parameter i = "
       ]
      },
      {
       "output_type": "stream",
       "stream": "stdout",
       "text": [
        "1 Value, 121.95388527646307LL73964.0171731944\n",
        "Proposed Parameter i = 1 Value = 122.84648964726874LL = 74070.08815659102\n",
        "Current Parameter i = 2 Value, 100.85139798696787LL73969.13345622712\n",
        "Proposed Parameter i = 2 Value = 100.00504283839749LL = 74070.08815659102\n",
        "Current Parameter i = 3 Value, 968.4520054681864LL73992.56659817857\n",
        "Proposed Parameter i = 3 Value = 971.2895356471321LL = 74070.08815659102\n",
        "Current Parameter i = 4 Value, 955.7661529792258LL73992.56653687274\n",
        "Proposed Parameter i = 4 Value = 957.1516700435321LL = 74070.08815659102\n",
        "Current Parameter i = 1 Value, 123.23593187942365LL74133.4053452837\n",
        "Proposed Parameter i = 1 Value = 122.84648964726874LL = 74070.08815659102\n",
        "Current Parameter i = 2 Value, 100.85139798696787LL74133.4053452837\n",
        "Proposed Parameter i = 2 Value = 99.4601532022803LL = 74061.16979068665\n",
        "Current Parameter i = "
       ]
      },
      {
       "output_type": "stream",
       "stream": "stdout",
       "text": [
        "3 Value, 968.4520054681864LL74133.4053452837\n",
        "Proposed Parameter i = 3 Value = 983.6561557189269LL = 74030.32662830327\n",
        "Current Parameter i = 4 Value, 955.7661529792258LL74133.4053452837\n",
        "Proposed Parameter i = 4 Value = 951.0034506990849LL = 74030.32654871143\n",
        "Current Parameter i = 1 Value, 123.23593187942365LL74133.4053452837\n",
        "Proposed Parameter i = 1 Value = 123.81211653868799LL = 74135.7668156647\n",
        "Current Parameter i = 2 Value, 100.07684331799214LL74120.90937247279\n",
        "Proposed Parameter i = 2 Value = 99.4601532022803LL = 74135.7668156647\n",
        "Current Parameter i = 3 Value, 1009.9316335837912LL74016.92880837733\n",
        "Proposed Parameter i = 3 Value = 983.6561557189269LL = 74135.7668156647\n",
        "Current Parameter i = 4 Value, 941.8994562523882LL74016.92862076616\n",
        "Proposed Parameter i = 4 Value = 951.0034506990849LL = 74135.7668156647\n",
        "Current Parameter i = "
       ]
      },
      {
       "output_type": "stream",
       "stream": "stdout",
       "text": [
        "1 Value, 125.55543483387993LL74268.01842086091\n",
        "Proposed Parameter i = 1 Value = 123.81211653868799LL = 74135.7668156647\n",
        "Current Parameter i = 2 Value, 100.07684331799214LL74268.01842086091\n",
        "Proposed Parameter i = 2 Value = 98.43727615122157LL = 74118.68123546796\n",
        "Current Parameter i = 3 Value, 1009.9316335837912LL74268.01842086091\n",
        "Proposed Parameter i = 3 Value = 999.6538189126993LL = 74078.29127717101\n",
        "Current Parameter i = 4 Value, 941.8994562523882LL74268.01842086091\n",
        "Proposed Parameter i = 4 Value = 960.6034630170911LL = 74078.2914090702\n",
        "Current Parameter i = 1 Value, 125.55543483387993LL74268.01842086091\n",
        "Proposed Parameter i = 1 Value = 124.97974938014416LL = 74204.68610826893\n",
        "Current Parameter i = 2 Value, 100.07684331799214LL74268.01842086091\n",
        "Proposed Parameter i = 2 Value = 100.88362138260118LL = 74245.37803259719\n",
        "Current Parameter i = "
       ]
      },
      {
       "output_type": "stream",
       "stream": "stdout",
       "text": [
        "3 Value, 1009.9316335837912LL74268.01842086091\n",
        "Proposed Parameter i = 3 Value = 1006.0391112924858LL = 74229.28027373673\n",
        "Current Parameter i = 4 Value, 941.8994562523882LL74268.01842086091\n",
        "Proposed Parameter i = 4 Value = 944.672606995629LL = 74229.28005008929\n",
        "Current Parameter i = 1 Value, 125.55543483387993LL74268.01842086091\n",
        "Proposed Parameter i = 1 Value = 126.70532882305395LL = 74413.90810323892\n",
        "Current Parameter i = 2 Value, 101.00883764222786LL74283.36382173057\n",
        "Proposed Parameter i = 2 Value = 100.88362138260118LL = 74413.90810323892\n",
        "Current Parameter i = 3 Value, 997.7501507398129LL74314.07969117769\n",
        "Proposed Parameter i = 3 Value = 1006.0391112924858LL = 74413.90810323892\n",
        "Current Parameter i = 4 Value, 935.8569798979634LL74314.07961045511\n",
        "Proposed Parameter i = 4 Value = 944.672606995629LL = 74413.90810323892\n",
        "Current Parameter i = "
       ]
      },
      {
       "output_type": "stream",
       "stream": "stdout",
       "text": [
        "1 Value, 126.17572356587364LL74380.43424972163\n",
        "Proposed Parameter i = 1 Value = 126.70532882305395LL = 74413.90810323892\n",
        "Current Parameter i = 2 Value, 99.90011855272417LL74362.26320742273\n",
        "Proposed Parameter i = 2 Value = 100.88362138260118LL = 74413.90810323892\n",
        "Current Parameter i = 3 Value, 1017.7200112782095LL74311.60986708426\n",
        "Proposed Parameter i = 3 Value = 1006.0391112924858LL = 74413.90810323892\n",
        "Current Parameter i = 4 Value, 948.9432422906272LL74311.61004563964\n",
        "Proposed Parameter i = 4 Value = 944.672606995629LL = 74413.90810323892\n",
        "Current Parameter i = 1 Value, 126.4148563614029LL74337.10294965106\n",
        "Proposed Parameter i = 1 Value = 126.70532882305395LL = 74413.90810323892\n",
        "Current Parameter i = 2 Value, 102.02261634889555LL74371.93634101724\n",
        "Proposed Parameter i = 2 Value = 100.88362138260118LL = 74413.90810323892\n",
        "Current Parameter i = "
       ]
      },
      {
       "output_type": "stream",
       "stream": "stdout",
       "text": [
        "3 Value, 1002.9172344048512LL74409.28175579249\n",
        "Proposed Parameter i = 3 Value = 1006.0391112924858LL = 74413.90810323892\n",
        "Current Parameter i = 4 Value, 940.2788328940815LL74409.28164168469\n",
        "Proposed Parameter i = 4 Value = 944.672606995629LL = 74413.90810323892\n",
        "Current Parameter i = 1 Value, 125.96633534078359LL74361.42627696776\n",
        "Proposed Parameter i = 1 Value = 126.70532882305395LL = 74413.90810323892\n",
        "Current Parameter i = 2 Value, 102.15691934758017LL74363.5716935864\n",
        "Proposed Parameter i = 2 Value = 100.88362138260118LL = 74413.90810323892\n",
        "Current Parameter i = 3 Value, 1008.7922675939554LL74348.79559846559\n",
        "Proposed Parameter i = 3 Value = 1006.0391112924858LL = 74413.90810323892\n",
        "Current Parameter i = 4 Value, 919.8353969844592LL74348.79532235568\n",
        "Proposed Parameter i = 4 Value = 944.672606995629LL = 74413.90810323892\n",
        "Current Parameter i = "
       ]
      },
      {
       "output_type": "stream",
       "stream": "stdout",
       "text": [
        "1 Value, 128.75235251459156LL74643.31087011524\n",
        "Proposed Parameter i = 1 Value = 126.70532882305395LL = 74413.90810323892\n",
        "Current Parameter i = 2 Value, 102.15691934758017LL74643.31087011524\n",
        "Proposed Parameter i = 2 Value = 100.28035500354892LL = 74404.00120408967\n",
        "Current Parameter i = 3 Value, 1008.7922675939554LL74643.31087011524\n",
        "Proposed Parameter i = 3 Value = 1011.9737674953992LL = 74388.95515160555\n",
        "Current Parameter i = 4 Value, 919.8353969844592LL74643.31087011524\n",
        "Proposed Parameter i = 4 Value = 914.887946795799LL = 74388.95474007446\n",
        "Current Parameter i = 1 Value, 128.75235251459156LL74643.31087011524\n",
        "Proposed Parameter i = 1 Value = 127.86966641678278LL = 74512.10449548885\n",
        "Current Parameter i = 2 Value, 102.15691934758017LL74643.31087011524\n",
        "Proposed Parameter i = 2 Value = 102.5362870439208LL = 74548.74044218611\n",
        "Current Parameter i = 3 Value, 1008.7922675939554LL74643.31087011524\n",
        "Proposed Parameter i = 3 Value = 1027.4277430877485LL = 74509.60138818524\n",
        "Current Parameter i = "
       ]
      },
      {
       "output_type": "stream",
       "stream": "stdout",
       "text": [
        "4 Value, 919.8353969844592LL74643.31087011524\n",
        "Proposed Parameter i = 4 Value = 902.4980659008326LL = 74509.60119310171\n",
        "Current Parameter i = 1 Value, 128.75235251459156LL74643.31087011524\n",
        "Proposed Parameter i = 1 Value = 128.9414770599359LL = 74621.968782429\n",
        "Current Parameter i = 2 Value, 102.15691934758017LL74643.31087011524\n",
        "Proposed Parameter i = 2 Value = 101.80681391505897LL = 74610.1859528226\n",
        "Current Parameter i = 3 Value, 1008.7922675939554LL74643.31087011524\n",
        "Proposed Parameter i = 3 Value = 1016.5542763412392LL = 74637.8251430693\n",
        "Current Parameter i = 4 Value, 919.8353969844592LL74643.31087011524\n",
        "Proposed Parameter i = 4 Value = 915.7642208390864LL = 74637.82532704498\n",
        "Current Parameter i = 1 Value, 128.75235251459156LL74643.31087011524\n",
        "Proposed Parameter i = 1 Value = 128.89516288244337LL = 74632.98930395795\n",
        "Current Parameter i = 2 Value, 102.15691934758017LL74643.31087011524\n",
        "Proposed Parameter i = 2 Value = 100.69340187005477LL = 74614.81743608996\n",
        "Current Parameter i = "
       ]
      },
      {
       "output_type": "stream",
       "stream": "stdout",
       "text": [
        "3 Value, 1008.7922675939554LL74643.31087011524\n",
        "Proposed Parameter i = 3 Value = 1001.6061314431877LL = 74652.66628748152\n",
        "Current Parameter i = 4 Value, 892.6947535205868LL74643.31049979628\n",
        "Proposed Parameter i = 4 Value = 915.7642208390864LL = 74652.66628748152\n",
        "Current Parameter i = 1 Value, 129.0227394612539LL74671.55055552023\n",
        "Proposed Parameter i = 1 Value = 128.89516288244337LL = 74652.66628748152\n",
        "Current Parameter i = 2 Value, 102.15691934758017LL74671.55055552023\n",
        "Proposed Parameter i = 2 Value = 102.79111321212984LL = 74686.35848030276\n",
        "Current Parameter i = 3 Value, 993.49793796733LL74709.90787161012\n",
        "Proposed Parameter i = 3 Value = 1001.6061314431877LL = 74686.35848030276\n",
        "Current Parameter i = 4 Value, 892.6947535205868LL74709.90787161012\n",
        "Proposed Parameter i = 4 Value = 895.5805385017378LL = 74686.35821190481\n",
        "Current Parameter i = "
       ]
      },
      {
       "output_type": "stream",
       "stream": "stdout",
       "text": [
        "1 Value, 129.0227394612539LL74709.90787161012\n",
        "Proposed Parameter i = 1 Value = 130.44559123793914LL = 74847.30558887766\n",
        "Current Parameter i = 2 Value, 102.15397676729816LL74709.86114186574\n",
        "Proposed Parameter i = 2 Value = 102.79111321212984LL = 74847.30558887766\n",
        "Current Parameter i = 3 Value, 1008.2720018205406LL74672.81410542161\n",
        "Proposed Parameter i = 3 Value = 1001.6061314431877LL = 74847.30558887766\n",
        "Current Parameter i = 4 Value, 890.8588485341858LL74672.81408227862\n",
        "Proposed Parameter i = 4 Value = 895.5805385017378LL = 74847.30558887766\n",
        "Current Parameter i = 1 Value, 131.02453217600552LL74880.0480202923\n",
        "Proposed Parameter i = 1 Value = 130.44559123793914LL = 74847.30558887766\n",
        "Current Parameter i = 2 Value, 102.15397676729816LL74880.0480202923\n",
        "Proposed Parameter i = 2 Value = 100.78551270047694LL = 74815.11762493644\n",
        "Current Parameter i = "
       ]
      },
      {
       "output_type": "stream",
       "stream": "stdout",
       "text": [
        "3 Value, 1008.2720018205406LL74880.0480202923\n",
        "Proposed Parameter i = 3 Value = 1015.4587365524881LL = 74780.06393860541\n",
        "Current Parameter i = 4 Value, 890.8588485341858LL74880.0480202923\n",
        "Proposed Parameter i = 4 Value = 887.8665164346627LL = 74780.06383244084\n",
        "Current Parameter i = 1 Value, 131.02453217600552LL74880.0480202923\n",
        "Proposed Parameter i = 1 Value = 129.80799118601882LL = 74714.11117950753\n",
        "Current Parameter i = 2 Value, 102.15397676729816LL74880.0480202923\n",
        "Proposed Parameter i = 2 Value = 102.59111315592239LL = 74743.34475413075\n",
        "Current Parameter i = 3 Value, 1008.2720018205406LL74880.0480202923\n",
        "Proposed Parameter i = 3 Value = 1006.7057184642144LL = 74765.39747838983\n",
        "Current Parameter i = 4 Value, 890.8588485341858LL74880.0480202923\n",
        "Proposed Parameter i = 4 Value = 901.6899301024454LL = 74765.39766287732\n",
        "Current Parameter i = "
       ]
      },
      {
       "output_type": "stream",
       "stream": "stdout",
       "text": [
        "1 Value, 131.02453217600552LL74880.0480202923\n",
        "Proposed Parameter i = 1 Value = 128.70556887256993LL = 74650.58834325902\n",
        "Current Parameter i = 2 Value, 102.15397676729816LL74880.0480202923\n",
        "Proposed Parameter i = 2 Value = 104.02156900557698LL = 74673.01238523539\n",
        "Current Parameter i = 3 Value, 1008.2720018205406LL74880.0480202923\n",
        "Proposed Parameter i = 3 Value = 1015.3596127713511LL = 74651.31157631385\n",
        "Current Parameter i = 4 Value, 890.8588485341858LL74880.0480202923\n",
        "Proposed Parameter i = 4 Value = 886.9477916340788LL = 74651.3113681879\n",
        "Current Parameter i = 1 Value, 131.02453217600552LL74880.0480202923\n",
        "Proposed Parameter i = 1 Value = 129.58643378176686LL = 74743.12653628826\n",
        "Current Parameter i = "
       ]
      },
      {
       "output_type": "stream",
       "stream": "stdout",
       "text": [
        "2 Value, 102.15397676729816LL74880.0480202923\n",
        "Proposed Parameter i = 2 Value = 103.25472649204895LL = 74731.1192947986\n",
        "Current Parameter i = 3 Value, 1008.2720018205406LL74880.0480202923\n",
        "Proposed Parameter i = 3 Value = 1009.6571720517006LL = 74745.46753407021\n",
        "Current Parameter i = 4 Value, 890.8588485341858LL74880.0480202923\n",
        "Proposed Parameter i = 4 Value = 874.3309898718635LL = 74745.46735255492\n",
        "Current Parameter i = 1 Value, 131.02453217600552LL74880.0480202923\n",
        "Proposed Parameter i = 1 Value = 129.81999697941157LL = 74769.70667726964\n",
        "Current Parameter i = 2 Value, 102.15397676729816LL74880.0480202923\n",
        "Proposed Parameter i = 2 Value = 99.89757614272068LL = 74715.4011243146\n",
        "Current Parameter i = 3 Value, 1008.2720018205406LL74880.0480202923\n",
        "Proposed Parameter i = 3 Value = 1005.8577169336188LL = 74725.0390949202\n",
        "Current Parameter i = "
       ]
      },
      {
       "output_type": "stream",
       "stream": "stdout",
       "text": [
        "4 Value, 890.8588485341858LL74880.0480202923\n",
        "Proposed Parameter i = 4 Value = 892.1496068086973LL = 74725.03933777615\n",
        "Current Parameter i = 1 Value, 131.02453217600552LL74880.0480202923\n",
        "Proposed Parameter i = 1 Value = 129.39256335432756LL = 74680.64694559207\n",
        "Current Parameter i = 2 Value, 102.15397676729816LL74880.0480202923\n",
        "Proposed Parameter i = 2 Value = 101.15013260420886LL = 74701.23675653596\n",
        "Current Parameter i = 3 Value, 1008.2720018205406LL74880.0480202923\n",
        "Proposed Parameter i = 3 Value = 1032.4907607099974LL = 74633.50804321819\n",
        "Current Parameter i = 4 Value, 890.8588485341858LL74880.0480202923\n",
        "Proposed Parameter i = 4 Value = 881.0183624510183LL = 74633.50787524325\n",
        "Current Parameter i = "
       ]
      },
      {
       "output_type": "stream",
       "stream": "stdout",
       "text": [
        "1 Value, 131.02453217600552LL74880.0480202923\n",
        "Proposed Parameter i = 1 Value = 129.37775066942467LL = 74631.9668055259\n",
        "Current Parameter i = 2 Value, 102.15397676729816LL74880.0480202923\n",
        "Proposed Parameter i = 2 Value = 102.14169159999834LL = 74648.16732410183\n",
        "Current Parameter i = 3 Value, 1008.2720018205406LL74880.0480202923\n",
        "Proposed Parameter i = 3 Value = 1017.5478722830354LL = 74686.17589951323\n",
        "Current Parameter i = 4 Value, 890.8588485341858LL74880.0480202923\n",
        "Proposed Parameter i = 4 Value = 870.8088836093087LL = 74686.1757547488\n",
        "Current Parameter i = 1 Value, 131.02453217600552LL74880.0480202923\n",
        "Proposed Parameter i = 1 Value = 132.69869964055255LL = 75027.2986353291\n",
        "Current Parameter i = 2 Value, 103.09903536416581LL74895.04935653294\n",
        "Proposed Parameter i = 2 Value = 102.14169159999834LL = 75027.2986353291\n",
        "Current Parameter i = "
       ]
      },
      {
       "output_type": "stream",
       "stream": "stdout",
       "text": [
        "3 Value, 1011.8118460982226LL74886.15108945486\n",
        "Proposed Parameter i = 3 Value = 1017.5478722830354LL = 75027.2986353291\n",
        "Current Parameter i = 4 Value, 874.915387350529LL74886.15086982139\n",
        "Proposed Parameter i = 4 Value = 870.8088836093087LL = 75027.2986353291\n",
        "Current Parameter i = 1 Value, 132.78407005616558LL75065.68389074774\n",
        "Proposed Parameter i = 1 Value = 132.69869964055255LL = 75027.2986353291\n",
        "Current Parameter i = 2 Value, 103.09903536416581LL75065.68389074774\n",
        "Proposed Parameter i = 2 Value = 102.16403500671564LL = 75027.65790041494\n",
        "Current Parameter i = 3 Value, 1011.8118460982226LL75065.68389074774\n",
        "Proposed Parameter i = 3 Value = 1007.987262248144LL = 75051.80334592758\n",
        "Current Parameter i = "
       ]
      },
      {
       "output_type": "stream",
       "stream": "stdout",
       "text": [
        "4 Value, 874.915387350529LL75065.68389074774\n",
        "Proposed Parameter i = 4 Value = 867.584180020044LL = 75051.80330254317\n",
        "Current Parameter i = 1 Value, 132.78407005616558LL75065.68389074774\n",
        "Proposed Parameter i = 1 Value = 135.2355217710005LL = 75306.62613162205\n",
        "Current Parameter i = 2 Value, 103.54779138580376LL75072.73579851021\n",
        "Proposed Parameter i = 2 Value = 102.16403500671564LL = 75306.62613162205\n",
        "Current Parameter i = 3 Value, 1003.7913769451651LL75092.84064324647\n",
        "Proposed Parameter i = 3 Value = 1007.987262248144LL = 75306.62613162205\n",
        "Current Parameter i = 4 Value, 866.6833564954343LL75092.84052618523\n",
        "Proposed Parameter i = 4 Value = 867.584180020044LL = 75306.62613162205\n",
        "Current Parameter i = 1 Value, 135.38057845675388LL75353.43428317895\n",
        "Proposed Parameter i = 1 Value = 135.2355217710005LL = 75306.62613162205\n",
        "Current Parameter i = "
       ]
      },
      {
       "output_type": "stream",
       "stream": "stdout",
       "text": [
        "2 Value, 103.54779138580376LL75353.43428317895\n",
        "Proposed Parameter i = 2 Value = 101.56567777148689LL = 75297.00372432813\n",
        "Current Parameter i = 3 Value, 1003.7913769451651LL75353.43428317895\n",
        "Proposed Parameter i = 3 Value = 1000.351081836053LL = 75316.22864777257\n",
        "Current Parameter i = 4 Value, 866.6833564954343LL75353.43428317895\n",
        "Proposed Parameter i = 4 Value = 866.3779236568138LL = 75316.22863833784\n",
        "Current Parameter i = 1 Value, 135.38057845675388LL75353.43428317895\n",
        "Proposed Parameter i = 1 Value = 134.87220252773002LL = 75280.03091163638\n",
        "Current Parameter i = 2 Value, 103.54779138580376LL75353.43428317895\n",
        "Proposed Parameter i = 2 Value = 102.56300785778217LL = 75295.95132326068\n",
        "Current Parameter i = 3 Value, 1003.7913769451651LL75353.43428317895\n",
        "Proposed Parameter i = 3 Value = 1000.444879913182LL = 75295.71648407295\n",
        "Current Parameter i = "
       ]
      },
      {
       "output_type": "stream",
       "stream": "stdout",
       "text": [
        "4 Value, 866.6833564954343LL75353.43428317895\n",
        "Proposed Parameter i = 4 Value = 861.8375949614187LL = 75295.71642780864\n",
        "Current Parameter i = 1 Value, 135.38057845675388LL75353.43428317895\n",
        "Proposed Parameter i = 1 Value = 135.4592352610496LL = 75354.15424476539\n",
        "Current Parameter i = 2 Value, 103.67283955784697LL75355.38157172548\n",
        "Proposed Parameter i = 2 Value = 102.56300785778217LL = 75354.15424476539\n",
        "Current Parameter i = 3 Value, 1003.7913769451651LL75355.38157172548\n",
        "Proposed Parameter i = 3 Value = 1011.8874895775023LL = 75325.40617542462\n",
        "Current Parameter i = 4 Value, 866.6833564954343LL75355.38157172548\n",
        "Proposed Parameter i = 4 Value = 855.813070489734LL = 75325.40608619091\n",
        "Current Parameter i = 1 Value, 135.38057845675388LL75355.38157172548\n",
        "Proposed Parameter i = 1 Value = 138.26381667246517LL = 75601.11198320005\n",
        "Current Parameter i = 2 Value, 102.03696853720297LL75329.57382503127\n",
        "Proposed Parameter i = 2 Value = 102.56300785778217LL = 75601.11198320005\n",
        "Current Parameter i = "
       ]
      },
      {
       "output_type": "stream",
       "stream": "stdout",
       "text": [
        "3 Value, 997.5721768210333LL75345.17406277142\n",
        "Proposed Parameter i = 3 Value = 1011.8874895775023LL = 75601.11198320005\n",
        "Current Parameter i = 4 Value, 874.1515238153868LL75345.17415497343\n",
        "Proposed Parameter i = 4 Value = 855.813070489734LL = 75601.11198320005\n",
        "Current Parameter i = 1 Value, 137.52621226611473LL75556.73610603907\n",
        "Proposed Parameter i = 1 Value = 138.26381667246517LL = 75601.11198320005\n",
        "Current Parameter i = 2 Value, 102.40066848631014LL75562.51818461592\n",
        "Proposed Parameter i = 2 Value = 102.56300785778217LL = 75601.11198320005\n",
        "Current Parameter i = 3 Value, 1018.4381797106469LL75510.00911715931\n",
        "Proposed Parameter i = 3 Value = 1011.8874895775023LL = 75601.11198320005\n",
        "Current Parameter i = 4 Value, 858.078760963999LL75510.00888902177\n",
        "Proposed Parameter i = 4 Value = 855.813070489734LL = 75601.11198320005\n",
        "Current Parameter i = "
       ]
      },
      {
       "output_type": "stream",
       "stream": "stdout",
       "text": [
        "1 Value, 142.17980644615852LL75957.62706928\n",
        "Proposed Parameter i = 1 Value = 138.26381667246517LL = 75601.11198320005\n",
        "Current Parameter i = 2 Value, 102.40066848631014LL75957.62706928\n",
        "Proposed Parameter i = 2 Value = 101.95988505331289LL = 75591.4589327946\n",
        "Current Parameter i = 3 Value, 1018.4381797106469LL75957.62706928\n",
        "Proposed Parameter i = 3 Value = 1011.237604865582LL = 75593.100225417\n",
        "Current Parameter i = 4 Value, 858.078760963999LL75957.62706928\n",
        "Proposed Parameter i = 4 Value = 867.5341821653756LL = 75593.10038385242\n",
        "Current Parameter i = 1 Value, 142.17980644615852LL75957.62706928\n",
        "Proposed Parameter i = 1 Value = 142.91215219153796LL = 76037.85154042773\n",
        "Current Parameter i = 2 Value, 102.86537740528418LL75965.04289579368\n",
        "Proposed Parameter i = 2 Value = 101.95988505331289LL = 76037.85154042773\n",
        "Current Parameter i = "
       ]
      },
      {
       "output_type": "stream",
       "stream": "stdout",
       "text": [
        "3 Value, 1001.2346120324419LL76008.31930661037\n",
        "Proposed Parameter i = 3 Value = 1011.237604865582LL = 76037.85154042773\n",
        "Current Parameter i = 4 Value, 863.2129912445628LL76008.31936647436\n",
        "Proposed Parameter i = 4 Value = 867.5341821653756LL = 76037.85154042773\n",
        "Current Parameter i = 1 Value, 144.38348030046092LL76215.14869511304\n",
        "Proposed Parameter i = 1 Value = 142.91215219153796LL = 76037.85154042773\n",
        "Current Parameter i = 2 Value, 102.86537740528418LL76215.14869511304\n",
        "Proposed Parameter i = 2 Value = 104.49405365866785LL = 76077.73970801554\n",
        "Current Parameter i = 3 Value, 1001.2346120324419LL76215.14869511304\n",
        "Proposed Parameter i = 3 Value = 995.5519998291635LL = 76116.83291600869\n",
        "Current Parameter i = 4 Value, 863.2129912445628LL76215.14869511304\n",
        "Proposed Parameter i = 4 Value = 855.3965472949635LL = 76116.83276043371\n",
        "100"
       ]
      },
      {
       "output_type": "stream",
       "stream": "stdout",
       "text": [
        "\n",
        "LL = 76215.14869511304\n",
        "Param values 144.38348030046092,102.86537740528418,1001.2346120324419,863.2129912445628\n",
        "Local Acceptance Rate for parameter 2 = 0.54Increasing StepSize to 0.011000000000000001\n",
        "Local Acceptance Rate for parameter 3 = 0.52Increasing StepSize to 0.011000000000000001\n",
        "Current Parameter i = 1 Value, 144.38348030046092LL76215.14869511304\n",
        "Proposed Parameter i = 1 Value = 145.10087343613858LL = 76321.21539233587\n",
        "Current Parameter i = 2 Value, 105.18675821426083LL76251.00125755706\n",
        "Proposed Parameter i = 2 Value = 104.49405365866785LL = 76321.21539233587\n",
        "Current Parameter i = 3 Value, 1002.283773220071LL76248.39507640297\n",
        "Proposed Parameter i = 3 Value = 995.5519998291635LL = 76321.21539233587\n",
        "Current Parameter i = 4 Value, 850.6612147834777LL76248.39488958179\n",
        "Proposed Parameter i = 4 Value = 855.3965472949635LL = 76321.21539233587\n",
        "Current Parameter i = "
       ]
      },
      {
       "output_type": "stream",
       "stream": "stdout",
       "text": [
        "1 Value, 145.0590478236822LL76311.16352687565\n",
        "Proposed Parameter i = 1 Value = 145.10087343613858LL = 76321.21539233587\n",
        "Current Parameter i = 2 Value, 105.32205386269507LL76313.21065405406\n",
        "Proposed Parameter i = 2 Value = 104.49405365866785LL = 76321.21539233587\n",
        "Current Parameter i = 3 Value, 974.2423014166367LL76382.23035502051\n",
        "Proposed Parameter i = 3 Value = 995.5519998291635LL = 76321.21539233587\n",
        "Current Parameter i = 4 Value, 850.6612147834777LL76382.23035502051\n",
        "Proposed Parameter i = 4 Value = 844.7580325051407LL = 76321.2152490762\n",
        "Current Parameter i = 1 Value, 145.0590478236822LL76382.23035502051\n",
        "Proposed Parameter i = 1 Value = 141.93738268608075LL = 76024.78886749847\n",
        "Current Parameter i = 2 Value, 105.32205386269507LL76382.23035502051\n",
        "Proposed Parameter i = 2 Value = 104.7517935147693LL = 76028.71631513826\n",
        "Current Parameter i = "
       ]
      },
      {
       "output_type": "stream",
       "stream": "stdout",
       "text": [
        "3 Value, 974.2423014166367LL76382.23035502051\n",
        "Proposed Parameter i = 3 Value = 960.3046109536053LL = 76115.0438454821\n",
        "Current Parameter i = 4 Value, 850.6612147834777LL76382.23035502051\n",
        "Proposed Parameter i = 4 Value = 829.8669701352266LL = 76115.04368656111\n",
        "Current Parameter i = 1 Value, 145.0590478236822LL76382.23035502051\n",
        "Proposed Parameter i = 1 Value = 146.89399203858636LL = 76576.60778953206\n",
        "Current Parameter i = 2 Value, 105.09251538761706LL76378.80901809508\n",
        "Proposed Parameter i = 2 Value = 104.7517935147693LL = 76576.60778953206\n",
        "Current Parameter i = 3 Value, 970.0214795873645LL76389.09457006099\n",
        "Proposed Parameter i = 3 Value = 960.3046109536053LL = 76576.60778953206\n",
        "Current Parameter i = 4 Value, 828.5981456945642LL76389.09430829744\n",
        "Proposed Parameter i = 4 Value = 829.8669701352266LL = 76576.60778953206\n",
        "Current Parameter i = "
       ]
      },
      {
       "output_type": "stream",
       "stream": "stdout",
       "text": [
        "1 Value, 146.99501306962128LL76567.34818738919\n",
        "Proposed Parameter i = 1 Value = 146.89399203858636LL = 76576.60778953206\n",
        "Current Parameter i = 2 Value, 105.5906769727475LL76574.73820029761\n",
        "Proposed Parameter i = 2 Value = 104.7517935147693LL = 76576.60778953206\n",
        "Current Parameter i = 3 Value, 970.0214795873645LL76574.73820029761\n",
        "Proposed Parameter i = 3 Value = 993.1536774279836LL = 76496.2147381258\n",
        "Current Parameter i = 4 Value, 828.5981456945642LL76574.73820029761\n",
        "Proposed Parameter i = 4 Value = 826.5992536143909LL = 76496.21469049521\n",
        "Current Parameter i = 1 Value, 146.99501306962128LL76574.73820029761\n",
        "Proposed Parameter i = 1 Value = 149.48517213708226LL = 76731.28053187804\n",
        "Current Parameter i = 2 Value, 106.06921742947097LL76581.77717991562\n",
        "Proposed Parameter i = 2 Value = 104.7517935147693LL = 76731.28053187804\n",
        "Current Parameter i = "
       ]
      },
      {
       "output_type": "stream",
       "stream": "stdout",
       "text": [
        "3 Value, 985.8490597664604LL76543.18770120053\n",
        "Proposed Parameter i = 3 Value = 993.1536774279836LL = 76731.28053187804\n",
        "Current Parameter i = 4 Value, 841.2653322783226LL76543.18787181837\n",
        "Proposed Parameter i = 4 Value = 826.5992536143909LL = 76731.28053187804\n",
        "Current Parameter i = 1 Value, 148.33593004802026LL76665.26753811633\n",
        "Proposed Parameter i = 1 Value = 149.48517213708226LL = 76731.28053187804\n",
        "Current Parameter i = 2 Value, 105.10477418621383LL76650.88919713387\n",
        "Proposed Parameter i = 2 Value = 104.7517935147693LL = 76731.28053187804\n",
        "Current Parameter i = 3 Value, 976.7183675223753LL76673.27767358473\n",
        "Proposed Parameter i = 3 Value = 993.1536774279836LL = 76731.28053187804\n",
        "Current Parameter i = 4 Value, 817.2630096723104LL76673.27738168575\n",
        "Proposed Parameter i = 4 Value = 826.5992536143909LL = 76731.28053187804\n",
        "Current Parameter i = "
       ]
      },
      {
       "output_type": "stream",
       "stream": "stdout",
       "text": [
        "1 Value, 148.69133651502423LL76705.44729806737\n",
        "Proposed Parameter i = 1 Value = 149.48517213708226LL = 76731.28053187804\n",
        "Current Parameter i = 2 Value, 104.01780675764098LL76689.03821890698\n",
        "Proposed Parameter i = 2 Value = 104.7517935147693LL = 76731.28053187804\n",
        "Current Parameter i = 3 Value, 1011.3580918539915LL76603.07605594183\n",
        "Proposed Parameter i = 3 Value = 993.1536774279836LL = 76731.28053187804\n",
        "Current Parameter i = 4 Value, 830.1324379072163LL76603.07623105973\n",
        "Proposed Parameter i = 4 Value = 826.5992536143909LL = 76731.28053187804\n",
        "Current Parameter i = 1 Value, 147.88067631441237LL76529.58557268383\n",
        "Proposed Parameter i = 1 Value = 149.48517213708226LL = 76731.28053187804\n",
        "Current Parameter i = "
       ]
      },
      {
       "output_type": "stream",
       "stream": "stdout",
       "text": [
        "2 Value, 104.28919442843711LL76533.79047189817\n",
        "Proposed Parameter i = 2 Value = 104.7517935147693LL = 76731.28053187804\n",
        "Current Parameter i = 3 Value, 990.4214871911281LL76585.92642923567\n",
        "Proposed Parameter i = 3 Value = 993.1536774279836LL = 76731.28053187804\n",
        "Current Parameter i = 4 Value, 822.3536342459186LL76585.92632474694\n",
        "Proposed Parameter i = 4 Value = 826.5992536143909LL = 76731.28053187804\n",
        "Current Parameter i = 1 Value, 150.22697115238955LL76797.52832942207\n",
        "Proposed Parameter i = 1 Value = 149.48517213708226LL = 76731.28053187804\n",
        "Current Parameter i = 2 Value, 104.28919442843711LL76797.52832942207\n",
        "Proposed Parameter i = 2 Value = 104.66052966823965LL = 76729.89345873139\n",
        "Current Parameter i = 3 Value, 990.4214871911281LL76797.52832942207\n",
        "Proposed Parameter i = 3 Value = 1007.713642573157LL = 76693.69079079777\n",
        "Current Parameter i = "
       ]
      },
      {
       "output_type": "stream",
       "stream": "stdout",
       "text": [
        "4 Value, 822.3536342459186LL76797.52832942207\n",
        "Proposed Parameter i = 4 Value = 826.5155562403411LL = 76693.69080582772\n",
        "Current Parameter i = 1 Value, 150.22697115238955LL76797.52832942207\n",
        "Proposed Parameter i = 1 Value = 147.91923644652587LL = 76552.13050154921\n",
        "Current Parameter i = 2 Value, 104.28919442843711LL76797.52832942207\n",
        "Proposed Parameter i = 2 Value = 106.70076639918025LL = 76582.87185019466\n",
        "Current Parameter i = 3 Value, 990.4214871911281LL76797.52832942207\n",
        "Proposed Parameter i = 3 Value = 978.4431338926692LL = 76654.80616760727\n",
        "Current Parameter i = 4 Value, 822.3536342459186LL76797.52832942207\n",
        "Proposed Parameter i = 4 Value = 821.4385087295491LL = 76654.80611573579\n",
        "Current Parameter i = 1 Value, 150.22697115238955LL76797.52832942207\n",
        "Proposed Parameter i = 1 Value = 151.5806721012186LL = 76983.47702852792\n",
        "Current Parameter i = "
       ]
      },
      {
       "output_type": "stream",
       "stream": "stdout",
       "text": [
        "2 Value, 107.66835794477356LL76847.70798518167\n",
        "Proposed Parameter i = 2 Value = 106.70076639918025LL = 76983.47702852792\n",
        "Current Parameter i = 3 Value, 981.873884606652LL76868.54892975093\n",
        "Proposed Parameter i = 3 Value = 978.4431338926692LL = 76983.47702852792\n",
        "Current Parameter i = 4 Value, 812.866299626844LL76868.5488126604\n",
        "Proposed Parameter i = 4 Value = 821.4385087295491LL = 76983.47702852792\n",
        "Current Parameter i = 1 Value, 150.16346502698892LL76862.86551002269\n",
        "Proposed Parameter i = 1 Value = 151.5806721012186LL = 76983.47702852792\n",
        "Current Parameter i = 2 Value, 106.59652244939417LL76847.34061606745\n",
        "Proposed Parameter i = 2 Value = 106.70076639918025LL = 76983.47702852792\n",
        "Current Parameter i = 3 Value, 966.0911953600113LL76885.64510518129\n",
        "Proposed Parameter i = 3 Value = 978.4431338926692LL = 76983.47702852792\n",
        "Current Parameter i = "
       ]
      },
      {
       "output_type": "stream",
       "stream": "stdout",
       "text": [
        "4 Value, 817.5148312690776LL76885.64516013974\n",
        "Proposed Parameter i = 4 Value = 821.4385087295491LL = 76983.47702852792\n",
        "Current Parameter i = 1 Value, 153.57604664169622LL77187.65466746778\n",
        "Proposed Parameter i = 1 Value = 151.5806721012186LL = 76983.47702852792\n",
        "Current Parameter i = 2 Value, 106.59652244939417LL77187.65466746778\n",
        "Proposed Parameter i = 2 Value = 105.4106400535868LL = 76964.47795454923\n",
        "Current Parameter i = 3 Value, 966.0911953600113LL77187.65466746778\n",
        "Proposed Parameter i = 3 Value = 976.1501171114362LL = 76970.07951486365\n",
        "Current Parameter i = 4 Value, 817.5148312690776LL77187.65466746778\n",
        "Proposed Parameter i = 4 Value = 812.516215085061LL = 76970.07940087128\n",
        "Current Parameter i = 1 Value, 153.57604664169622LL77187.65466746778\n",
        "Proposed Parameter i = 1 Value = 152.88434266075615LL = 77085.16986347674\n",
        "Current Parameter i = "
       ]
      },
      {
       "output_type": "stream",
       "stream": "stdout",
       "text": [
        "2 Value, 106.59652244939417LL77187.65466746778\n",
        "Proposed Parameter i = 2 Value = 106.9779666464379LL = 77108.16588266233\n",
        "Current Parameter i = 3 Value, 966.0911953600113LL77187.65466746778\n",
        "Proposed Parameter i = 3 Value = 963.080307172673LL = 77139.74670382986\n",
        "Current Parameter i = 4 Value, 817.5148312690776LL77187.65466746778\n",
        "Proposed Parameter i = 4 Value = 803.1134267268769LL = 77139.7465824534\n",
        "Current Parameter i = 1 Value, 153.57604664169622LL77187.65466746778\n",
        "Proposed Parameter i = 1 Value = 152.7149662462888LL = 77124.84978192986\n",
        "Current Parameter i = 2 Value, 106.59652244939417LL77187.65466746778\n",
        "Proposed Parameter i = 2 Value = 106.03373968542736LL = 77111.17839345234\n",
        "Current Parameter i = 3 Value, 966.0911953600113LL77187.65466746778\n",
        "Proposed Parameter i = 3 Value = 946.881836244878LL = 77150.0422803691\n",
        "Current Parameter i = "
       ]
      },
      {
       "output_type": "stream",
       "stream": "stdout",
       "text": [
        "4 Value, 817.5148312690776LL77187.65466746778\n",
        "Proposed Parameter i = 4 Value = 813.5495036567049LL = 77150.04239091856\n",
        "Current Parameter i = 1 Value, 153.57604664169622LL77187.65466746778\n",
        "Proposed Parameter i = 1 Value = 153.3091069920294LL = 77202.22438859516\n",
        "Current Parameter i = 2 Value, 107.15786399316052LL77195.74493901352\n",
        "Proposed Parameter i = 2 Value = 106.03373968542736LL = 77202.22438859516\n",
        "Current Parameter i = 3 Value, 930.4378379807495LL77280.49260873256\n",
        "Proposed Parameter i = 3 Value = 946.881836244878LL = 77202.22438859516\n",
        "Current Parameter i = 4 Value, 817.5148312690776LL77280.49260873256\n",
        "Proposed Parameter i = 4 Value = 814.6778494999492LL = 77202.22440383873\n",
        "Current Parameter i = 1 Value, 153.57604664169622LL77280.49260873256\n",
        "Proposed Parameter i = 1 Value = 154.2714222478218LL = 77286.31014664756\n",
        "Current Parameter i = "
       ]
      },
      {
       "output_type": "stream",
       "stream": "stdout",
       "text": [
        "2 Value, 106.01927276527194LL77264.36765773075\n",
        "Proposed Parameter i = 2 Value = 106.03373968542736LL = 77286.31014664756\n",
        "Current Parameter i = 3 Value, 947.6732626769458LL77223.50532862355\n",
        "Proposed Parameter i = 3 Value = 946.881836244878LL = 77286.31014664756\n",
        "Current Parameter i = 4 Value, 824.8260973901345LL77223.5054097919\n",
        "Proposed Parameter i = 4 Value = 814.6778494999492LL = 77286.31014664756\n",
        "Current Parameter i = 1 Value, 154.0276744243132LL77262.96487198064\n",
        "Proposed Parameter i = 1 Value = 154.2714222478218LL = 77286.31014664756\n",
        "Current Parameter i = 2 Value, 106.93031479333551LL77276.03776855914\n",
        "Proposed Parameter i = 2 Value = 106.03373968542736LL = 77286.31014664756\n",
        "Current Parameter i = 3 Value, 946.1193371266138LL77279.7311598563\n",
        "Proposed Parameter i = 3 Value = 946.881836244878LL = 77286.31014664756\n",
        "Current Parameter i = "
       ]
      },
      {
       "output_type": "stream",
       "stream": "stdout",
       "text": [
        "4 Value, 813.7695129630736LL77279.73103017035\n",
        "Proposed Parameter i = 4 Value = 814.6778494999492LL = 77286.31014664756\n",
        "Current Parameter i = 1 Value, 151.69720370386972LL77074.8442570728\n",
        "Proposed Parameter i = 1 Value = 154.2714222478218LL = 77286.31014664756\n",
        "Current Parameter i = 2 Value, 106.79394507908026LL77072.90273471223\n",
        "Proposed Parameter i = 2 Value = 106.03373968542736LL = 77286.31014664756\n",
        "Current Parameter i = 3 Value, 929.6506897721088LL77111.79364001866\n",
        "Proposed Parameter i = 3 Value = 946.881836244878LL = 77286.31014664756\n",
        "Current Parameter i = 4 Value, 807.9050989407606LL77111.7935777199\n",
        "Proposed Parameter i = 4 Value = 814.6778494999492LL = 77286.31014664756\n",
        "Current Parameter i = 1 Value, 155.14419579995737LL77413.73444703525\n",
        "Proposed Parameter i = 1 Value = 154.2714222478218LL = 77286.31014664756\n",
        "Current Parameter i = "
       ]
      },
      {
       "output_type": "stream",
       "stream": "stdout",
       "text": [
        "2 Value, 106.79394507908026LL77413.73444703525\n",
        "Proposed Parameter i = 2 Value = 107.38704956999504LL = 77305.63983657311\n",
        "Current Parameter i = 3 Value, 929.6506897721088LL77413.73444703525\n",
        "Proposed Parameter i = 3 Value = 938.2877032734983LL = 77325.96332587716\n",
        "Current Parameter i = 4 Value, 807.9050989407606LL77413.73444703525\n",
        "Proposed Parameter i = 4 Value = 814.4681794439484LL = 77325.96332755814\n",
        "Current Parameter i = 1 Value, 155.14419579995737LL77413.73444703525\n",
        "Proposed Parameter i = 1 Value = 155.0996996793412LL = 77397.91402449108\n",
        "Current Parameter i = 2 Value, 106.79394507908026LL77413.73444703525\n",
        "Proposed Parameter i = 2 Value = 104.53303509293518LL = 77356.82846075068\n",
        "Current Parameter i = 3 Value, 929.6506897721088LL77413.73444703525\n",
        "Proposed Parameter i = 3 Value = 925.6496248483919LL = 77386.80230025649\n",
        "Current Parameter i = "
       ]
      },
      {
       "output_type": "stream",
       "stream": "stdout",
       "text": [
        "4 Value, 807.9050989407606LL77413.73444703525\n",
        "Proposed Parameter i = 4 Value = 815.7628205210702LL = 77386.8022999862\n",
        "Current Parameter i = 1 Value, 155.14419579995737LL77413.73444703525\n",
        "Proposed Parameter i = 1 Value = 153.95847373709123LL = 77287.5654335246\n",
        "Current Parameter i = 2 Value, 106.79394507908026LL77413.73444703525\n",
        "Proposed Parameter i = 2 Value = 106.92979217316103LL = 77321.92369837001\n",
        "Current Parameter i = 3 Value, 929.6506897721088LL77413.73444703525\n",
        "Proposed Parameter i = 3 Value = 925.3133539722434LL = 77322.70960188664\n",
        "Current Parameter i = 4 Value, 807.9050989407606LL77413.73444703525\n",
        "Proposed Parameter i = 4 Value = 801.3754589891621LL = 77322.7094611423\n",
        "Current Parameter i = 1 Value, 155.14419579995737LL77413.73444703525\n",
        "Proposed Parameter i = 1 Value = 154.66232835315853LL = 77384.00217224883\n",
        "Current Parameter i = "
       ]
      },
      {
       "output_type": "stream",
       "stream": "stdout",
       "text": [
        "2 Value, 106.79394507908026LL77413.73444703525\n",
        "Proposed Parameter i = 2 Value = 107.73139160460696LL = 77395.16803146596\n",
        "Current Parameter i = 3 Value, 929.6506897721088LL77413.73444703525\n",
        "Proposed Parameter i = 3 Value = 927.9077715514898LL = 77389.1184464326\n",
        "Current Parameter i = 4 Value, 807.9050989407606LL77413.73444703525\n",
        "Proposed Parameter i = 4 Value = 811.5438416421927LL = 77389.11854071608\n",
        "Current Parameter i = 1 Value, 155.14419579995737LL77413.73444703525\n",
        "Proposed Parameter i = 1 Value = 156.460316835416LL = 77544.41905598521\n",
        "Current Parameter i = 2 Value, 109.72250116523838LL77453.98530549828\n",
        "Proposed Parameter i = 2 Value = 107.73139160460696LL = 77544.41905598521\n",
        "Current Parameter i = 3 Value, 931.150640763548LL77450.50473092742\n",
        "Proposed Parameter i = 3 Value = 927.9077715514898LL = 77544.41905598521\n",
        "Current Parameter i = "
       ]
      },
      {
       "output_type": "stream",
       "stream": "stdout",
       "text": [
        "4 Value, 810.420752401519LL77450.50475844588\n",
        "Proposed Parameter i = 4 Value = 811.5438416421927LL = 77544.41905598521\n",
        "Current Parameter i = 1 Value, 156.7845142572457LL77591.8170779432\n",
        "Proposed Parameter i = 1 Value = 156.460316835416LL = 77544.41905598521\n",
        "Current Parameter i = 2 Value, 109.72250116523838LL77591.8170779432\n",
        "Proposed Parameter i = 2 Value = 111.11110401767765LL = 77589.87377339178\n",
        "Current Parameter i = 3 Value, 940.0998616006477LL77570.96117955731\n",
        "Proposed Parameter i = 3 Value = 927.9077715514898LL = 77589.87377339178\n",
        "Current Parameter i = 4 Value, 803.469823534498LL77570.96111592364\n",
        "Proposed Parameter i = 4 Value = 811.5438416421927LL = 77589.87377339178\n",
        "Current Parameter i = "
       ]
      },
      {
       "output_type": "stream",
       "stream": "stdout",
       "text": [
        "1 Value, 157.66858403840948LL77646.50423051087\n",
        "Proposed Parameter i = 1 Value = 156.460316835416LL = 77589.87377339178\n",
        "Current Parameter i = 2 Value, 109.72250116523838LL77646.50423051087\n",
        "Proposed Parameter i = 2 Value = 110.18074740086661LL = 77577.63081141702\n",
        "Current Parameter i = 3 Value, 940.0998616006477LL77646.50423051087\n",
        "Proposed Parameter i = 3 Value = 948.7553964914288LL = 77529.02829426208\n",
        "Current Parameter i = 4 Value, 803.469823534498LL77646.50423051087\n",
        "Proposed Parameter i = 4 Value = 785.1752433569401LL = 77529.02800910787\n",
        "Current Parameter i = 1 Value, 157.66858403840948LL77646.50423051087\n",
        "Proposed Parameter i = 1 Value = 159.41275067837802LL = 77780.17103727629\n",
        "Current Parameter i = 2 Value, 111.74464284815997LL77673.30263140687\n",
        "Proposed Parameter i = 2 Value = 110.18074740086661LL = 77780.17103727629\n",
        "Current Parameter i = "
       ]
      },
      {
       "output_type": "stream",
       "stream": "stdout",
       "text": [
        "3 Value, 938.953036599306LL77675.96258645649\n",
        "Proposed Parameter i = 3 Value = 948.7553964914288LL = 77780.17103727629\n",
        "Current Parameter i = 4 Value, 793.5547489963951LL77675.96249425663\n",
        "Proposed Parameter i = 4 Value = 785.1752433569401LL = 77780.17103727629\n",
        "Current Parameter i = 1 Value, 159.28411419572674LL77812.90942894843\n",
        "Proposed Parameter i = 1 Value = 159.41275067837802LL = 77780.17103727629\n",
        "Current Parameter i = 2 Value, 111.74464284815997LL77812.90942894843\n",
        "Proposed Parameter i = 2 Value = 111.49204724327225LL = 77797.6206996884\n",
        "Current Parameter i = 3 Value, 938.953036599306LL77812.90942894843\n",
        "Proposed Parameter i = 3 Value = 941.910605443436LL = 77813.58804435491\n",
        "Current Parameter i = 4 Value, 797.3128416089888LL77812.90948013442\n",
        "Proposed Parameter i = 4 Value = 785.1752433569401LL = 77813.58804435491\n",
        "Current Parameter i = "
       ]
      },
      {
       "output_type": "stream",
       "stream": "stdout",
       "text": [
        "1 Value, 158.64994651448788LL77759.3198857848\n",
        "Proposed Parameter i = 1 Value = 159.41275067837802LL = 77813.58804435491\n",
        "Current Parameter i = 2 Value, 111.06852686487497LL77750.47195134695\n",
        "Proposed Parameter i = 2 Value = 111.49204724327225LL = 77813.58804435491\n",
        "Current Parameter i = 3 Value, 951.3966618982879LL77721.40038934472\n",
        "Proposed Parameter i = 3 Value = 941.910605443436LL = 77813.58804435491\n",
        "Current Parameter i = 4 Value, 774.2929617230615LL77721.40013470968\n",
        "Proposed Parameter i = 4 Value = 785.1752433569401LL = 77813.58804435491\n",
        "Current Parameter i = 1 Value, 161.29400425035578LL77943.41704726932\n",
        "Proposed Parameter i = 1 Value = 159.41275067837802LL = 77813.58804435491\n",
        "Current Parameter i = 2 Value, 111.06852686487497LL77943.41704726932\n",
        "Proposed Parameter i = 2 Value = 112.42228046904398LL = 77825.66998168892\n",
        "Current Parameter i = "
       ]
      },
      {
       "output_type": "stream",
       "stream": "stdout",
       "text": [
        "3 Value, 951.3966618982879LL77943.41704726932\n",
        "Proposed Parameter i = 3 Value = 941.9496318957798LL = 77825.57952444903\n",
        "Current Parameter i = 4 Value, 774.2929617230615LL77943.41704726932\n",
        "Proposed Parameter i = 4 Value = 768.6467183904597LL = 77825.57934539246\n",
        "Current Parameter i = 1 Value, 161.29400425035578LL77943.41704726932\n",
        "Proposed Parameter i = 1 Value = 162.20398683455932LL = 78058.72411316501\n",
        "Current Parameter i = 2 Value, 112.5170561211102LL77962.40976463932\n",
        "Proposed Parameter i = 2 Value = 112.42228046904398LL = 78058.72411316501\n",
        "Current Parameter i = 3 Value, 948.7132181916671LL77968.6688851578\n",
        "Proposed Parameter i = 3 Value = 941.9496318957798LL = 78058.72411316501\n",
        "Current Parameter i = "
       ]
      },
      {
       "output_type": "stream",
       "stream": "stdout",
       "text": [
        "4 Value, 755.8726106428162LL77968.66868425654\n",
        "Proposed Parameter i = 4 Value = 768.6467183904597LL = 78058.72411316501\n",
        "Current Parameter i = 1 Value, 164.33404192115728LL78219.43201320108\n",
        "Proposed Parameter i = 1 Value = 162.20398683455932LL = 78058.72411316501\n",
        "Current Parameter i = 2 Value, 112.5170561211102LL78219.43201320108\n",
        "Proposed Parameter i = 2 Value = 111.95462462868913LL = 78052.67413028987\n",
        "Current Parameter i = 3 Value, 948.7132181916671LL78219.43201320108\n",
        "Proposed Parameter i = 3 Value = 929.4908113380559LL = 78081.45719027058\n",
        "Current Parameter i = 4 Value, 755.8726106428162LL78219.43201320108\n",
        "Proposed Parameter i = 4 Value = 762.3756404537778LL = 78081.45713052023\n",
        "Current Parameter i = 1 Value, 164.33404192115728LL78219.43201320108\n",
        "Proposed Parameter i = 1 Value = 163.63200448143488LL = 78199.17159342032\n",
        "Current Parameter i = "
       ]
      },
      {
       "output_type": "stream",
       "stream": "stdout",
       "text": [
        "2 Value, 112.5170561211102LL78219.43201320108\n",
        "Proposed Parameter i = 2 Value = 113.84510130361909LL = 78223.11253477367\n",
        "Current Parameter i = 3 Value, 942.1353795964526LL78234.71771302003\n",
        "Proposed Parameter i = 3 Value = 929.4908113380559LL = 78223.11253477367\n",
        "Current Parameter i = 4 Value, 755.8726106428162LL78234.71771302003\n",
        "Proposed Parameter i = 4 Value = 766.9958125490284LL = 78223.11258010766\n",
        "Current Parameter i = 1 Value, 164.33404192115728LL78234.71771302003\n",
        "Proposed Parameter i = 1 Value = 160.89525375707728LL = 77996.59059021603\n",
        "Current Parameter i = 2 Value, 112.5170561211102LL78234.71771302003\n",
        "Proposed Parameter i = 2 Value = 111.84329450667883LL = 77971.21653512066\n",
        "Current Parameter i = 3 Value, 942.1353795964526LL78234.71771302003\n",
        "Proposed Parameter i = 3 Value = 925.6724136173225LL = 77979.98124432433\n",
        "Current Parameter i = "
       ]
      },
      {
       "output_type": "stream",
       "stream": "stdout",
       "text": [
        "4 Value, 755.8726106428162LL78234.71771302003\n",
        "Proposed Parameter i = 4 Value = 744.6726878526033LL = 77979.98100367624\n",
        "Current Parameter i = 1 Value, 164.33404192115728LL78234.71771302003\n",
        "Proposed Parameter i = 1 Value = 164.15102020569674LL = 78249.02777534339\n",
        "Current Parameter i = 2 Value, 109.79957879031736LL78198.91351710832\n",
        "Proposed Parameter i = 2 Value = 111.84329450667883LL = 78249.02777534339\n",
        "Current Parameter i = 3 Value, 903.8215746480039LL78287.23755627949\n",
        "Proposed Parameter i = 3 Value = 925.6724136173225LL = 78249.02777534339\n",
        "Current Parameter i = 4 Value, 755.8726106428162LL78287.23755627949\n",
        "Proposed Parameter i = 4 Value = 754.1390174528634LL = 78249.02786214963\n",
        "Current Parameter i = "
       ]
      },
      {
       "output_type": "stream",
       "stream": "stdout",
       "text": [
        "1 Value, 164.33404192115728LL78287.23755627949\n",
        "Proposed Parameter i = 1 Value = 162.59547920012375LL = 78121.16257659536\n",
        "Current Parameter i = 2 Value, 109.79957879031736LL78287.23755627949\n",
        "Proposed Parameter i = 2 Value = 108.46692847302494LL = 78076.40193496493\n",
        "Current Parameter i = 3 Value, 903.8215746480039LL78287.23755627949\n",
        "Proposed Parameter i = 3 Value = 901.259630935717LL = 78132.53483355058\n",
        "Current Parameter i = 4 Value, 755.8726106428162LL78287.23755627949\n",
        "Proposed Parameter i = 4 Value = 745.6121105120361LL = 78132.53476381747\n",
        "Current Parameter i = 1 Value, 164.33404192115728LL78287.23755627949\n",
        "Proposed Parameter i = 1 Value = 159.89544227537795LL = 77907.62698429977\n",
        "Current Parameter i = 2 Value, 109.79957879031736LL78287.23755627949\n",
        "Proposed Parameter i = 2 Value = 111.19029233081328LL = 77943.29916560947\n",
        "Current Parameter i = "
       ]
      },
      {
       "output_type": "stream",
       "stream": "stdout",
       "text": [
        "3 Value, 903.8215746480039LL78287.23755627949\n",
        "Proposed Parameter i = 3 Value = 899.353934320436LL = 77947.57976151477\n",
        "Current Parameter i = 4 Value, 755.8726106428162LL78287.23755627949\n",
        "Proposed Parameter i = 4 Value = 752.6340417360543LL = 77947.57981751538\n",
        "Current Parameter i = 1 Value, 164.33404192115728LL78287.23755627949\n",
        "Proposed Parameter i = 1 Value = 164.30259150188007LL = 78312.74981311914\n",
        "Current Parameter i = 2 Value, 110.82821015301121LL78300.62006896401\n",
        "Proposed Parameter i = 2 Value = 111.19029233081328LL = 78312.74981311914\n",
        "Current Parameter i = 3 Value, 897.8649350734031LL78314.02833854183\n",
        "Proposed Parameter i = 3 Value = 899.353934320436LL = 78312.74981311914\n",
        "Current Parameter i = "
       ]
      },
      {
       "output_type": "stream",
       "stream": "stdout",
       "text": [
        "4 Value, 755.8726106428162LL78314.02833854183\n",
        "Proposed Parameter i = 4 Value = 746.4823889793286LL = 78312.74975618125\n",
        "Current Parameter i = 1 Value, 163.8152485474081LL78271.56807820553\n",
        "Proposed Parameter i = 1 Value = 164.30259150188007LL = 78312.74975618125\n",
        "Current Parameter i = 2 Value, 113.03680637830041LL78299.35249399874\n",
        "Proposed Parameter i = 2 Value = 111.19029233081328LL = 78312.74975618125\n",
        "Current Parameter i = 3 Value, 897.3177449357681LL78300.56862236375\n",
        "Proposed Parameter i = 3 Value = 899.353934320436LL = 78312.74975618125\n",
        "Current Parameter i = 4 Value, 750.0384974888863LL78300.5685678367\n",
        "Proposed Parameter i = 4 Value = 746.4823889793286LL = 78312.74975618125\n",
        "Current Parameter i = 1 Value, 162.3854757179559LL78182.84098526064\n",
        "Proposed Parameter i = 1 Value = 164.30259150188007LL = 78312.74975618125\n",
        "Current Parameter i = "
       ]
      },
      {
       "output_type": "stream",
       "stream": "stdout",
       "text": [
        "2 Value, 114.21390384211846LL78197.19713020774\n",
        "Proposed Parameter i = 2 Value = 111.19029233081328LL = 78312.74975618125\n",
        "Current Parameter i = 3 Value, 903.7196071327476LL78183.00277236427\n",
        "Proposed Parameter i = 3 Value = 899.353934320436LL = 78312.74975618125\n",
        "Current Parameter i = 4 Value, 758.2861928298781LL78183.0028561105\n",
        "Proposed Parameter i = 4 Value = 746.4823889793286LL = 78312.74975618125\n",
        "Current Parameter i = 1 Value, 164.66347013562265LL78370.08326707814\n",
        "Proposed Parameter i = 1 Value = 164.30259150188007LL = 78312.74975618125\n",
        "Current Parameter i = 2 Value, 114.21390384211846LL78370.08326707814\n",
        "Proposed Parameter i = 2 Value = 114.06675946665584LL = 78348.52956835213\n",
        "Current Parameter i = 3 Value, 903.7196071327476LL78370.08326707814\n",
        "Proposed Parameter i = 3 Value = 901.0100711645975LL = 78344.8562740095\n",
        "Current Parameter i = "
       ]
      },
      {
       "output_type": "stream",
       "stream": "stdout",
       "text": [
        "4 Value, 758.2861928298781LL78370.08326707814\n",
        "Proposed Parameter i = 4 Value = 758.0235896102745LL = 78344.8563831545\n",
        "Current Parameter i = 1 Value, 164.66347013562265LL78370.08326707814\n",
        "Proposed Parameter i = 1 Value = 167.67048129336263LL = 78617.29940136957\n",
        "Current Parameter i = 2 Value, 115.11361893961313LL78380.90982815766\n",
        "Proposed Parameter i = 2 Value = 114.06675946665584LL = 78617.29940136957\n",
        "Current Parameter i = 3 Value, 890.5109329049257LL78409.98381491516\n",
        "Proposed Parameter i = 3 Value = 901.0100711645975LL = 78617.29940136957\n",
        "Current Parameter i = 4 Value, 763.9203902347854LL78409.983854138\n",
        "Proposed Parameter i = 4 Value = 758.0235896102745LL = 78617.29940136957\n",
        "Current Parameter i = 1 Value, 163.73482510464515LL78334.0362575582\n",
        "Proposed Parameter i = 1 Value = 167.67048129336263LL = 78617.29940136957\n",
        "Current Parameter i = "
       ]
      },
      {
       "output_type": "stream",
       "stream": "stdout",
       "text": [
        "2 Value, 114.78647616059526LL78330.16215924894\n",
        "Proposed Parameter i = 2 Value = 114.06675946665584LL = 78617.29940136957\n",
        "Current Parameter i = 3 Value, 892.7698774586731LL78325.20970298788\n",
        "Proposed Parameter i = 3 Value = 901.0100711645975LL = 78617.29940136957\n",
        "Current Parameter i = 4 Value, 765.9672841643553LL78325.20973622116\n",
        "Proposed Parameter i = 4 Value = 758.0235896102745LL = 78617.29940136957\n",
        "Current Parameter i = 1 Value, 164.53730672701934LL78390.86462212003\n",
        "Proposed Parameter i = 1 Value = 167.67048129336263LL = 78617.29940136957\n",
        "Current Parameter i = 2 Value, 116.11600254175328LL78406.49737633606\n",
        "Proposed Parameter i = 2 Value = 114.06675946665584LL = 78617.29940136957\n",
        "Current Parameter i = 3 Value, 890.296741200407LL78411.88643169978\n",
        "Proposed Parameter i = 3 Value = 901.0100711645975LL = 78617.29940136957\n",
        "Current Parameter i = "
       ]
      },
      {
       "output_type": "stream",
       "stream": "stdout",
       "text": [
        "4 Value, 757.8942947676829LL78411.88635265306\n",
        "Proposed Parameter i = 4 Value = 758.0235896102745LL = 78617.29940136957\n",
        "Current Parameter i = 1 Value, 165.68242156932317LL78505.01550431788\n",
        "Proposed Parameter i = 1 Value = 167.67048129336263LL = 78617.29940136957\n",
        "Current Parameter i = 2 Value, 114.44012364838531LL78485.28859188869\n",
        "Proposed Parameter i = 2 Value = 114.06675946665584LL = 78617.29940136957\n",
        "Current Parameter i = 3 Value, 903.8919057145021LL78455.27458542405\n",
        "Proposed Parameter i = 3 Value = 901.0100711645975LL = 78617.29940136957\n",
        "Current Parameter i = 4 Value, 751.9637136449757LL78455.2745268173\n",
        "Proposed Parameter i = 4 Value = 758.0235896102745LL = 78617.29940136957\n",
        "Current Parameter i = 1 Value, 170.96970759252002LL78876.99173624165\n",
        "Proposed Parameter i = 1 Value = 167.67048129336263LL = 78617.29940136957\n",
        "Current Parameter i = "
       ]
      },
      {
       "output_type": "stream",
       "stream": "stdout",
       "text": [
        "2 Value, 114.44012364838531LL78876.99173624165\n",
        "Proposed Parameter i = 2 Value = 114.47704828881064LL = 78622.26088296426\n",
        "Current Parameter i = 3 Value, 903.8919057145021LL78876.99173624165\n",
        "Proposed Parameter i = 3 Value = 900.3705143425036LL = 78623.67762339358\n",
        "Current Parameter i = 4 Value, 751.9637136449757LL78876.99173624165\n",
        "Proposed Parameter i = 4 Value = 750.8769844096494LL = 78623.67755607194\n",
        "Current Parameter i = 1 Value, 170.96970759252002LL78876.99173624165\n",
        "Proposed Parameter i = 1 Value = 170.66905088068484LL = 78861.62511087919\n",
        "Current Parameter i = 2 Value, 114.44012364838531LL78876.99173624165\n",
        "Proposed Parameter i = 2 Value = 114.05900899996489LL = 78856.57173438152\n",
        "Current Parameter i = 3 Value, 903.8919057145021LL78876.99173624165\n",
        "Proposed Parameter i = 3 Value = 912.2526912829732LL = 78830.05962005636\n",
        "Current Parameter i = "
       ]
      },
      {
       "output_type": "stream",
       "stream": "stdout",
       "text": [
        "4 Value, 751.9637136449757LL78876.99173624165\n",
        "Proposed Parameter i = 4 Value = 752.1277336520301LL = 78830.0596464915\n",
        "Current Parameter i = 1 Value, 170.96970759252002LL78876.99173624165\n",
        "Proposed Parameter i = 1 Value = 170.95568039579462LL = 78852.58267126384\n",
        "Current Parameter i = 2 Value, 114.44012364838531LL78876.99173624165\n",
        "Proposed Parameter i = 2 Value = 114.19030105030552LL = 78854.18889495086\n",
        "Current Parameter i = 3 Value, 903.8919057145021LL78876.99173624165\n",
        "Proposed Parameter i = 3 Value = 901.8175788875519LL = 78877.47513428798\n",
        "Current Parameter i = 4 Value, 759.9567001102378LL78876.99180937631\n",
        "Proposed Parameter i = 4 Value = 752.1277336520301LL = 78877.47513428798\n",
        "Current Parameter i = 1 Value, 172.0561906785287LL78962.01414463563\n",
        "Proposed Parameter i = 1 Value = 170.95568039579462LL = 78877.47513428798\n",
        "Current Parameter i = "
       ]
      },
      {
       "output_type": "stream",
       "stream": "stdout",
       "text": [
        "2 Value, 114.44012364838531LL78962.01414463563\n",
        "Proposed Parameter i = 2 Value = 113.50875562624165LL = 78869.16460540929\n",
        "Current Parameter i = 3 Value, 903.8919057145021LL78962.01414463563\n",
        "Proposed Parameter i = 3 Value = 906.995145811629LL = 78857.60531941522\n",
        "Current Parameter i = 4 Value, 759.9567001102378LL78962.01414463563\n",
        "Proposed Parameter i = 4 Value = 763.2749185384371LL = 78857.6054183957\n",
        "Current Parameter i = 1 Value, 172.0561906785287LL78962.01414463563\n",
        "Proposed Parameter i = 1 Value = 173.53020526228002LL = 79058.21177969778\n",
        "Current Parameter i = 2 Value, 113.14068330536088LL78946.12553638725\n",
        "Proposed Parameter i = 2 Value = 113.50875562624165LL = 79058.21177969778\n",
        "Current Parameter i = 3 Value, 911.7680758305906LL78928.45669078921\n",
        "Proposed Parameter i = 3 Value = 906.995145811629LL = 79058.21177969778\n",
        "Current Parameter i = "
       ]
      },
      {
       "output_type": "stream",
       "stream": "stdout",
       "text": [
        "4 Value, 755.762564069258LL78928.45665305667\n",
        "Proposed Parameter i = 4 Value = 763.2749185384371LL = 79058.21177969778\n",
        "Current Parameter i = 1 Value, 175.0214970867111LL79157.76667973945\n",
        "Proposed Parameter i = 1 Value = 173.53020526228002LL = 79058.21177969778\n",
        "Current Parameter i = 2 Value, 113.14068330536088LL79157.76667973945\n",
        "Proposed Parameter i = 2 Value = 113.26519395302616LL = 79055.20473735726\n",
        "Current Parameter i = 3 Value, 911.7680758305906LL79157.76667973945\n",
        "Proposed Parameter i = 3 Value = 908.2877133328846LL = 79052.307065633\n",
        "Current Parameter i = 4 Value, 755.762564069258LL79157.76667973945\n",
        "Proposed Parameter i = 4 Value = 760.2790093006561LL = 79052.30704484873\n",
        "Current Parameter i = "
       ]
      },
      {
       "output_type": "stream",
       "stream": "stdout",
       "text": [
        "1 Value, 175.0214970867111LL79157.76667973945\n",
        "Proposed Parameter i = 1 Value = 176.43609250921725LL = 79275.14456861802\n",
        "Current Parameter i = 2 Value, 114.9595981998207LL79180.04370692502\n",
        "Proposed Parameter i = 2 Value = 113.26519395302616LL = 79275.14456861802\n",
        "Current Parameter i = 3 Value, 884.8390272359695LL79239.43258429314\n",
        "Proposed Parameter i = 3 Value = 908.2877133328846LL = 79275.14456861802\n",
        "Current Parameter i = 4 Value, 768.040638950072LL79239.43268821583\n",
        "Proposed Parameter i = 4 Value = 760.2790093006561LL = 79275.14456861802\n",
        "Current Parameter i = 1 Value, 175.1190047093541LL79246.90622848073\n",
        "Proposed Parameter i = 1 Value = 176.43609250921725LL = 79275.14456861802\n",
        "Current Parameter i = "
       ]
      },
      {
       "output_type": "stream",
       "stream": "stdout",
       "text": [
        "2 Value, 112.91060929858986LL79222.29876468985\n",
        "Proposed Parameter i = 2 Value = 113.26519395302616LL = 79275.14456861802\n",
        "Current Parameter i = 3 Value, 918.3969698839003LL79147.38528262658\n",
        "Proposed Parameter i = 3 Value = 908.2877133328846LL = 79275.14456861802\n",
        "Current Parameter i = 4 Value, 753.9804254521855LL79147.38515113473\n",
        "Proposed Parameter i = 4 Value = 760.2790093006561LL = 79275.14456861802\n",
        "Current Parameter i = 1 Value, 175.71118145263256LL79192.68169243807\n",
        "Proposed Parameter i = 1 Value = 176.43609250921725LL = 79275.14456861802\n",
        "Current Parameter i = 2 Value, 114.79930258467272LL79216.01311220248\n",
        "Proposed Parameter i = 2 Value = 113.26519395302616LL = 79275.14456861802\n",
        "Current Parameter i = 3 Value, 905.6411967853907LL79244.53875628854\n",
        "Proposed Parameter i = 3 Value = 908.2877133328846LL = 79275.14456861802\n",
        "Current Parameter i = "
       ]
      },
      {
       "output_type": "stream",
       "stream": "stdout",
       "text": [
        "4 Value, 769.2036064397269LL79244.53889210387\n",
        "Proposed Parameter i = 4 Value = 760.2790093006561LL = 79275.14456861802\n",
        "Current Parameter i = 1 Value, 174.7785655407771LL79173.13047821696\n",
        "Proposed Parameter i = 1 Value = 176.43609250921725LL = 79275.14456861802\n",
        "Current Parameter i = 2 Value, 112.53453169575226LL79145.3356040958\n",
        "Proposed Parameter i = 2 Value = 113.26519395302616LL = 79275.14456861802\n",
        "Current Parameter i = 3 Value, 916.0293106799487LL79121.90577767203\n",
        "Proposed Parameter i = 3 Value = 908.2877133328846LL = 79275.14456861802\n",
        "Current Parameter i = 4 Value, 752.3658678343546LL79121.90561439614\n",
        "Proposed Parameter i = 4 Value = 760.2790093006561LL = 79275.14456861802\n",
        "Current Parameter i = "
       ]
      },
      {
       "output_type": "stream",
       "stream": "stdout",
       "text": [
        "1 Value, 175.60192592183347LL79184.96758583766\n",
        "Proposed Parameter i = 1 Value = 176.43609250921725LL = 79275.14456861802\n",
        "Current Parameter i = 2 Value, 114.11333245443511LL79204.61957537702\n",
        "Proposed Parameter i = 2 Value = 113.26519395302616LL = 79275.14456861802\n",
        "Current Parameter i = 3 Value, 908.0715855349772LL79222.4680550029\n",
        "Proposed Parameter i = 3 Value = 908.2877133328846LL = 79275.14456861802\n",
        "Current Parameter i = 4 Value, 752.9180168902076LL79222.46806493356\n",
        "Proposed Parameter i = 4 Value = 760.2790093006561LL = 79275.14456861802\n",
        "Current Parameter i = 1 Value, 177.09621950073947LL79336.15759740633\n",
        "Proposed Parameter i = 1 Value = 176.43609250921725LL = 79275.14456861802\n",
        "Current Parameter i = 2 Value, 114.11333245443511LL79336.15759740633\n",
        "Proposed Parameter i = 2 Value = 115.97436290878717LL = 79307.90303927688\n",
        "Current Parameter i = "
       ]
      },
      {
       "output_type": "stream",
       "stream": "stdout",
       "text": [
        "3 Value, 908.0715855349772LL79336.15759740633\n",
        "Proposed Parameter i = 3 Value = 899.1441610773459LL = 79328.08669503164\n",
        "Current Parameter i = 4 Value, 752.9180168902076LL79336.15759740633\n",
        "Proposed Parameter i = 4 Value = 762.6714498947772LL = 79328.08670395506\n",
        "Current Parameter i = 1 Value, 177.09621950073947LL79336.15759740633\n",
        "Proposed Parameter i = 1 Value = 177.02677747057137LL = 79372.92930679437\n",
        "Current Parameter i = 2 Value, 116.98998020966488LL79370.36272149344\n",
        "Proposed Parameter i = 2 Value = 115.97436290878717LL = 79372.92930679437\n",
        "Current Parameter i = 3 Value, 884.5586678729558LL79421.65161345883\n",
        "Proposed Parameter i = 3 Value = 899.1441610773459LL = 79372.92930679437\n",
        "Current Parameter i = 4 Value, 752.9180168902076LL79421.65161345883\n",
        "Proposed Parameter i = 4 Value = 741.0307229037284LL = 79372.92910941217\n",
        "Current Parameter i = "
       ]
      },
      {
       "output_type": "stream",
       "stream": "stdout",
       "text": [
        "1 Value, 177.09621950073947LL79421.65161345883\n",
        "Proposed Parameter i = 1 Value = 179.45752726846493LL = 79555.88162313904\n",
        "Current Parameter i = 2 Value, 116.55069158596503LL79416.64197148655\n",
        "Proposed Parameter i = 2 Value = 115.97436290878717LL = 79555.88162313904\n",
        "Current Parameter i = 3 Value, 905.6795960603689LL79370.53542697405\n",
        "Proposed Parameter i = 3 Value = 899.1441610773459LL = 79555.88162313904\n",
        "Current Parameter i = 4 Value, 751.6987893508526LL79370.53542847083\n",
        "Proposed Parameter i = 4 Value = 741.0307229037284LL = 79555.88162313904\n",
        "Current Parameter i = 1 Value, 178.8251642759476LL79500.87338479426\n",
        "Proposed Parameter i = 1 Value = 179.45752726846493LL = 79555.88162313904\n",
        "Current Parameter i = 2 Value, 117.2951459901228LL79509.49393006833\n",
        "Proposed Parameter i = 2 Value = 115.97436290878717LL = 79555.88162313904\n",
        "Current Parameter i = "
       ]
      },
      {
       "output_type": "stream",
       "stream": "stdout",
       "text": [
        "3 Value, 899.7347988971003LL79522.52826627452\n",
        "Proposed Parameter i = 3 Value = 899.1441610773459LL = 79555.88162313904\n",
        "Current Parameter i = 4 Value, 734.3785111105415LL79522.52811684542\n",
        "Proposed Parameter i = 4 Value = 741.0307229037284LL = 79555.88162313904\n",
        "Current Parameter i = 1 Value, 178.56177309120076LL79502.75464182436\n",
        "Proposed Parameter i = 1 Value = 179.45752726846493LL = 79555.88162313904\n",
        "Current Parameter i = 2 Value, 114.94427498206267LL79475.2721253228\n",
        "Proposed Parameter i = 2 Value = 115.97436290878717LL = 79555.88162313904\n",
        "Current Parameter i = 3 Value, 907.6098622141047LL79457.81045199113\n",
        "Proposed Parameter i = 3 Value = 899.1441610773459LL = 79555.88162313904\n",
        "Current Parameter i = "
       ]
      },
      {
       "output_type": "stream",
       "stream": "stdout",
       "text": [
        "4 Value, 741.094520874501LL79457.81052700047\n",
        "Proposed Parameter i = 4 Value = 741.0307229037284LL = 79555.88162313904\n",
        "Current Parameter i = 1 Value, 175.5303761917716LL79228.08854950909\n",
        "Proposed Parameter i = 1 Value = 179.45752726846493LL = 79555.88162313904\n",
        "Current Parameter i = 2 Value, 116.22443826688477LL79243.29392793175\n",
        "Proposed Parameter i = 2 Value = 115.97436290878717LL = 79555.88162313904\n",
        "Current Parameter i = 3 Value, 902.0964878141262LL79255.46439876058\n",
        "Proposed Parameter i = 3 Value = 899.1441610773459LL = 79555.88162313904\n",
        "Current Parameter i = 4 Value, 737.067773299988LL79255.46437315123\n",
        "Proposed Parameter i = 4 Value = 741.0307229037284LL = 79555.88162313904\n",
        "Current Parameter i = "
       ]
      },
      {
       "output_type": "stream",
       "stream": "stdout",
       "text": [
        "1 Value, 179.55380088349796LL79559.508535454\n",
        "Proposed Parameter i = 1 Value = 179.45752726846493LL = 79555.88162313904\n",
        "Current Parameter i = 2 Value, 116.22443826688477LL79559.508535454\n",
        "Proposed Parameter i = 2 Value = 117.88189993663894LL = 79577.84913167868\n",
        "Current Parameter i = 3 Value, 903.3193978216186LL79556.81454064335\n",
        "Proposed Parameter i = 3 Value = 899.1441610773459LL = 79577.84913167868\n",
        "Current Parameter i = 4 Value, 732.5843324824422LL79556.8144991529\n",
        "Proposed Parameter i = 4 Value = 741.0307229037284LL = 79577.84913167868\n",
        "Current Parameter i = 1 Value, 179.7405573505941LL79570.75933605923\n",
        "Proposed Parameter i = 1 Value = 179.45752726846493LL = 79577.84913167868\n",
        "Current Parameter i = 2 Value, 118.47722488508198LL79596.59822587408\n",
        "Proposed Parameter i = 2 Value = 117.88189993663894LL = 79577.84913167868\n",
        "Current Parameter i = "
       ]
      },
      {
       "output_type": "stream",
       "stream": "stdout",
       "text": [
        "3 Value, 903.3193978216186LL79596.59822587408\n",
        "Proposed Parameter i = 3 Value = 892.279702227509LL = 79592.75490585384\n",
        "Current Parameter i = 4 Value, 732.5843324824422LL79596.59822587408\n",
        "Proposed Parameter i = 4 Value = 730.3812453173468LL = 79592.75481461854\n",
        "Current Parameter i = 1 Value, 179.7405573505941LL79596.59822587408\n",
        "Proposed Parameter i = 1 Value = 179.57081249679237LL = 79601.22010904756\n",
        "Current Parameter i = 2 Value, 119.25202565594033LL79605.24678568883\n",
        "Proposed Parameter i = 2 Value = 117.88189993663894LL = 79601.22010904756\n",
        "Current Parameter i = 3 Value, 903.3193978216186LL79605.24678568883\n",
        "Proposed Parameter i = 3 Value = 909.4630825230482LL = 79563.71167921982\n",
        "Current Parameter i = 4 Value, 732.5843324824422LL79605.24678568883\n",
        "Proposed Parameter i = 4 Value = 722.5958867084375LL = 79563.71159588864\n",
        "Current Parameter i = "
       ]
      },
      {
       "output_type": "stream",
       "stream": "stdout",
       "text": [
        "1 Value, 179.7405573505941LL79605.24678568883\n",
        "Proposed Parameter i = 1 Value = 179.99463784420723LL = 79595.33403320635\n",
        "Current Parameter i = 2 Value, 119.25202565594033LL79605.24678568883\n",
        "Proposed Parameter i = 2 Value = 117.2359915962065LL = 79587.91556556404\n",
        "Current Parameter i = 3 Value, 903.3193978216186LL79605.24678568883\n",
        "Proposed Parameter i = 3 Value = 904.986124371432LL = 79597.77823109947\n",
        "Current Parameter i = 4 Value, 732.5843324824422LL79605.24678568883\n",
        "Proposed Parameter i = 4 Value = 736.2631458873491LL = 79597.77835323717\n",
        "Current Parameter i = 1 Value, 179.7405573505941LL79605.24678568883\n",
        "Proposed Parameter i = 1 Value = 178.9901621225362LL = 79522.70960192682\n",
        "Current Parameter i = 2 Value, 119.25202565594033LL79605.24678568883\n",
        "Proposed Parameter i = 2 Value = 120.59703267893336LL = 79560.24986263491\n",
        "Current Parameter i = "
       ]
      },
      {
       "output_type": "stream",
       "stream": "stdout",
       "text": [
        "3 Value, 903.3193978216186LL79605.24678568883\n",
        "Proposed Parameter i = 3 Value = 906.5673591140924LL = 79556.82231026389\n",
        "Current Parameter i = 4 Value, 732.5843324824422LL79605.24678568883\n",
        "Proposed Parameter i = 4 Value = 729.1093705055398LL = 79556.8222504577\n",
        "Current Parameter i = 1 Value, 179.7405573505941LL79605.24678568883\n",
        "Proposed Parameter i = 1 Value = 177.5357615617388LL = 79447.36766962368\n",
        "Current Parameter i = 2 Value, 119.25202565594033LL79605.24678568883\n",
        "Proposed Parameter i = 2 Value = 118.82292216328804LL = 79427.8076611616\n",
        "Current Parameter i = 3 Value, 903.3193978216186LL79605.24678568883\n",
        "Proposed Parameter i = 3 Value = 902.0916733483074LL = 79437.57087222474\n",
        "Current Parameter i = 4 Value, 732.5843324824422LL79605.24678568883\n",
        "Proposed Parameter i = 4 Value = 732.5619396233396LL = 79437.570895386\n",
        "Current Parameter i = "
       ]
      },
      {
       "output_type": "stream",
       "stream": "stdout",
       "text": [
        "1 Value, 179.7405573505941LL79605.24678568883\n",
        "Proposed Parameter i = 1 Value = 180.25053328388574LL = 79641.15066862326\n",
        "Current Parameter i = 2 Value, 119.4758532025529LL79607.72293989363\n",
        "Proposed Parameter i = 2 Value = 118.82292216328804LL = 79641.15066862326\n",
        "Current Parameter i = 3 Value, 925.5406558963294LL79558.89921489576\n",
        "Proposed Parameter i = 3 Value = 902.0916733483074LL = 79641.15066862326\n",
        "Current Parameter i = 4 Value, 725.500947008846LL79558.89913920747\n",
        "Proposed Parameter i = 4 Value = 732.5619396233396LL = 79641.15066862326\n",
        "Current Parameter i = 1 Value, 177.21110338303194LL79368.76873468065\n",
        "Proposed Parameter i = 1 Value = 180.25053328388574LL = 79641.15066862326\n",
        "Current Parameter i = 2 Value, 118.1684003056239LL79353.89031605689\n",
        "Proposed Parameter i = 2 Value = 118.82292216328804LL = 79641.15066862326\n",
        "Current Parameter i = 3 Value, 921.9018800238015LL79362.00177712522\n",
        "Proposed Parameter i = 3 Value = 902.0916733483074LL = 79641.15066862326\n",
        "Current Parameter i = "
       ]
      },
      {
       "output_type": "stream",
       "stream": "stdout",
       "text": [
        "4 Value, 727.7623023218443LL79362.00180148074\n",
        "Proposed Parameter i = 4 Value = 732.5619396233396LL = 79641.15066862326\n",
        "Current Parameter i = 1 Value, 178.97291727053855LL79494.71863116117\n",
        "Proposed Parameter i = 1 Value = 180.25053328388574LL = 79641.15066862326\n",
        "Current Parameter i = 2 Value, 118.04582385537653LL79493.31017388937\n",
        "Proposed Parameter i = 2 Value = 118.82292216328804LL = 79641.15066862326\n",
        "Current Parameter i = 3 Value, 916.102655641548LL79506.18701435697\n",
        "Proposed Parameter i = 3 Value = 902.0916733483074LL = 79641.15066862326\n",
        "Current Parameter i = 4 Value, 721.815098335213LL79506.18695377815\n",
        "Proposed Parameter i = 4 Value = 732.5619396233396LL = 79641.15066862326\n",
        "Current Parameter i = 1 Value, 182.69587066028032LL79782.33698862714\n",
        "Proposed Parameter i = 1 Value = 180.25053328388574LL = 79641.15066862326\n",
        "Current Parameter i = "
       ]
      },
      {
       "output_type": "stream",
       "stream": "stdout",
       "text": [
        "2 Value, 118.04582385537653LL79782.33698862714\n",
        "Proposed Parameter i = 2 Value = 118.00552896003286LL = 79631.96229835377\n",
        "Current Parameter i = 3 Value, 916.102655641548LL79782.33698862714\n",
        "Proposed Parameter i = 3 Value = 922.0140104070417LL = 79588.0141499762\n",
        "Current Parameter i = 4 Value, 721.815098335213LL79782.33698862714\n",
        "Proposed Parameter i = 4 Value = 719.2808631838386LL = 79588.01401780226\n",
        "Current Parameter i = 1 Value, 182.69587066028032LL79782.33698862714\n",
        "Proposed Parameter i = 1 Value = 185.15396450848237LL = 79947.96800615336\n",
        "Current Parameter i = 2 Value, 120.18055324891402LL79806.32221158221\n",
        "Proposed Parameter i = 2 Value = 118.00552896003286LL = 79947.96800615336\n",
        "Current Parameter i = 3 Value, 928.2127439149191LL79779.59147563674\n",
        "Proposed Parameter i = 3 Value = 922.0140104070417LL = 79947.96800615336\n",
        "Current Parameter i = "
       ]
      },
      {
       "output_type": "stream",
       "stream": "stdout",
       "text": [
        "4 Value, 720.3308201813654LL79779.59146469242\n",
        "Proposed Parameter i = 4 Value = 719.2808631838386LL = 79947.96800615336\n",
        "Current Parameter i = 1 Value, 186.49704643793808LL80055.72509347383\n",
        "Proposed Parameter i = 1 Value = 185.15396450848237LL = 79947.96800615336\n",
        "Current Parameter i = 2 Value, 120.18055324891402LL80055.72509347383\n",
        "Proposed Parameter i = 2 Value = 121.42901793815481LL = 79986.21865717562\n",
        "Current Parameter i = 3 Value, 928.2127439149191LL80055.72509347383\n",
        "Proposed Parameter i = 3 Value = 929.7069376008471LL = 79969.26535279649\n",
        "Current Parameter i = 4 Value, 720.3308201813654LL80055.72509347383\n",
        "Proposed Parameter i = 4 Value = 724.2325144835625LL = 79969.26540707717\n",
        "Current Parameter i = 1 Value, 186.49704643793808LL80055.72509347383\n",
        "Proposed Parameter i = 1 Value = 188.05545166336506LL = 80177.74156041817\n",
        "Current Parameter i = "
       ]
      },
      {
       "output_type": "stream",
       "stream": "stdout",
       "text": [
        "2 Value, 120.38699486166524LL80058.02027017716\n",
        "Proposed Parameter i = 2 Value = 121.42901793815481LL = 80177.74156041817\n",
        "Current Parameter i = 3 Value, 947.435409783959LL80014.99447752623\n",
        "Proposed Parameter i = 3 Value = 929.7069376008471LL = 80177.74156041817\n",
        "Current Parameter i = 4 Value, 737.5248896975731LL80014.99466798372\n",
        "Proposed Parameter i = 4 Value = 724.2325144835625LL = 80177.74156041817\n",
        "Current Parameter i = 1 Value, 188.20548501605677LL80137.24985821544\n",
        "Proposed Parameter i = 1 Value = 188.05545166336506LL = 80177.74156041817\n",
        "Current Parameter i = 2 Value, 122.35311139758404LL80159.03825250558\n",
        "Proposed Parameter i = 2 Value = 121.42901793815481LL = 80177.74156041817\n",
        "Current Parameter i = 3 Value, 923.9312176186015LL80211.1254179307\n",
        "Proposed Parameter i = 3 Value = 929.7069376008471LL = 80177.74156041817\n",
        "Current Parameter i = "
       ]
      },
      {
       "output_type": "stream",
       "stream": "stdout",
       "text": [
        "4 Value, 737.5248896975731LL80211.1254179307\n",
        "Proposed Parameter i = 4 Value = 745.3725167279827LL = 80177.7417777935\n",
        "Current Parameter i = 1 Value, 188.20548501605677LL80211.1254179307\n",
        "Proposed Parameter i = 1 Value = 189.42266132879433LL = 80274.85065654528\n",
        "Current Parameter i = 2 Value, 119.93333475647182LL80184.71833476772\n",
        "Proposed Parameter i = 2 Value = 121.42901793815481LL = 80274.85065654528\n",
        "Current Parameter i = 3 Value, 923.6977976909754LL80185.2349688748\n",
        "Proposed Parameter i = 3 Value = 929.7069376008471LL = 80274.85065654528\n",
        "Current Parameter i = 4 Value, 737.536911339441LL80185.23496831453\n",
        "Proposed Parameter i = 4 Value = 745.3725167279827LL = 80274.85065654528\n",
        "Current Parameter i = 1 Value, 187.75227741242776LL80152.91331998164\n",
        "Proposed Parameter i = 1 Value = 189.42266132879433LL = 80274.85065654528\n",
        "Current Parameter i = "
       ]
      },
      {
       "output_type": "stream",
       "stream": "stdout",
       "text": [
        "2 Value, 121.66954601782926LL80171.97051281905\n",
        "Proposed Parameter i = 2 Value = 121.42901793815481LL = 80274.85065654528\n",
        "Current Parameter i = 3 Value, 906.8566229525841LL80208.66172638071\n",
        "Proposed Parameter i = 3 Value = 929.7069376008471LL = 80274.85065654528\n",
        "Current Parameter i = 4 Value, 730.3084716225264LL80208.66164860618\n",
        "Proposed Parameter i = 4 Value = 745.3725167279827LL = 80274.85065654528\n",
        "Current Parameter i = 1 Value, 188.8813884894379LL80289.0420009283\n",
        "Proposed Parameter i = 1 Value = 189.42266132879433LL = 80274.85065654528\n",
        "Current Parameter i = 2 Value, 121.66954601782926LL80289.0420009283\n",
        "Proposed Parameter i = 2 Value = 120.71109019491047LL = 80266.96789941631\n",
        "Current Parameter i = 3 Value, 906.8566229525841LL80289.0420009283\n",
        "Proposed Parameter i = 3 Value = 909.6634510422214LL = 80311.00772677547\n",
        "Current Parameter i = "
       ]
      },
      {
       "output_type": "stream",
       "stream": "stdout",
       "text": [
        "4 Value, 754.280491707045LL80289.04223477776\n",
        "Proposed Parameter i = 4 Value = 745.3725167279827LL = 80311.00772677547\n",
        "Current Parameter i = 1 Value, 188.71070871791653LL80276.92299231068\n",
        "Proposed Parameter i = 1 Value = 189.42266132879433LL = 80311.00772677547\n",
        "Current Parameter i = 2 Value, 120.99523373779286LL80269.69709270187\n",
        "Proposed Parameter i = 2 Value = 120.71109019491047LL = 80311.00772677547\n",
        "Current Parameter i = 3 Value, 903.1657812934519LL80277.67820384183\n",
        "Proposed Parameter i = 3 Value = 909.6634510422214LL = 80311.00772677547\n",
        "Current Parameter i = 4 Value, 737.8000628360192LL80277.6780669455\n",
        "Proposed Parameter i = 4 Value = 745.3725167279827LL = 80311.00772677547\n",
        "Current Parameter i = 1 Value, 191.3257181648989LL80462.15115667482\n",
        "Proposed Parameter i = 1 Value = 189.42266132879433LL = 80311.00772677547\n",
        "Current Parameter i = "
       ]
      },
      {
       "output_type": "stream",
       "stream": "stdout",
       "text": [
        "2 Value, 120.99523373779286LL80462.15115667482\n",
        "Proposed Parameter i = 2 Value = 123.00271110082778LL = 80335.39836864277\n",
        "Current Parameter i = 3 Value, 903.1657812934519LL80462.15115667482\n",
        "Proposed Parameter i = 3 Value = 898.1764531138529LL = 80359.98941645939\n",
        "Current Parameter i = 4 Value, 737.8000628360192LL80462.15115667482\n",
        "Proposed Parameter i = 4 Value = 751.0960210447327LL = 80359.98947282886\n",
        "Current Parameter i = 1 Value, 191.3257181648989LL80462.15115667482\n",
        "Proposed Parameter i = 1 Value = 189.3703101087576LL = 80356.28414751776\n",
        "Current Parameter i = 2 Value, 120.99523373779286LL80462.15115667482\n",
        "Proposed Parameter i = 2 Value = 123.00748634434221LL = 80356.33341514938\n",
        "Current Parameter i = 3 Value, 903.1657812934519LL80462.15115667482\n",
        "Proposed Parameter i = 3 Value = 915.8242662252608LL = 80318.43182048299\n",
        "Current Parameter i = "
       ]
      },
      {
       "output_type": "stream",
       "stream": "stdout",
       "text": [
        "4 Value, 737.8000628360192LL80462.15115667482\n",
        "Proposed Parameter i = 4 Value = 724.2651027268389LL = 80318.43156349967\n",
        "Current Parameter i = 1 Value, 191.3257181648989LL80462.15115667482\n",
        "Proposed Parameter i = 1 Value = 191.53716537663274LL = 80470.9356764516\n",
        "Current Parameter i = 2 Value, 123.13379847409345LL80484.69743298391\n",
        "Proposed Parameter i = 2 Value = 123.00748634434221LL = 80470.9356764516\n",
        "Current Parameter i = 3 Value, 903.1657812934519LL80484.69743298391\n",
        "Proposed Parameter i = 3 Value = 899.5786750405643LL = 80505.85265115868\n",
        "Current Parameter i = 4 Value, 734.2289440405627LL80484.69739843332\n",
        "Proposed Parameter i = 4 Value = 724.2651027268389LL = 80505.85265115868\n",
        "Current Parameter i = 1 Value, 191.15980687218936LL80473.06939725326\n",
        "Proposed Parameter i = 1 Value = 191.53716537663274LL = 80505.85265115868\n",
        "Current Parameter i = "
       ]
      },
      {
       "output_type": "stream",
       "stream": "stdout",
       "text": [
        "2 Value, 123.27138582706442LL80474.49048968822\n",
        "Proposed Parameter i = 2 Value = 123.00748634434221LL = 80505.85265115868\n",
        "Current Parameter i = 3 Value, 888.1079263286696LL80506.40067782138\n",
        "Proposed Parameter i = 3 Value = 899.5786750405643LL = 80505.85265115868\n",
        "Current Parameter i = 4 Value, 734.2289440405627LL80506.40067782138\n",
        "Proposed Parameter i = 4 Value = 725.8075925033829LL = 80505.85267390015\n",
        "Current Parameter i = 1 Value, 192.81122490365004LL80621.68919497238\n",
        "Proposed Parameter i = 1 Value = 191.53716537663274LL = 80505.85267390015\n",
        "Current Parameter i = 2 Value, 123.27138582706442LL80621.68919497238\n",
        "Proposed Parameter i = 2 Value = 122.46250467953328LL = 80500.19485015911\n",
        "Current Parameter i = 3 Value, 888.1079263286696LL80621.68919497238\n",
        "Proposed Parameter i = 3 Value = 884.0730354916791LL = 80533.03843005579\n",
        "Current Parameter i = "
       ]
      },
      {
       "output_type": "stream",
       "stream": "stdout",
       "text": [
        "4 Value, 734.2289440405627LL80621.68919497238\n",
        "Proposed Parameter i = 4 Value = 731.8452055370522LL = 80533.0384801335\n",
        "Current Parameter i = 1 Value, 192.81122490365004LL80621.68919497238\n",
        "Proposed Parameter i = 1 Value = 192.19314470463007LL = 80578.86240382087\n",
        "Current Parameter i = 2 Value, 123.27138582706442LL80621.68919497238\n",
        "Proposed Parameter i = 2 Value = 121.74708625042902LL = 80571.458560202\n",
        "Current Parameter i = 3 Value, 888.1079263286696LL80621.68919497238\n",
        "Proposed Parameter i = 3 Value = 896.943744275524LL = 80544.14521321924\n",
        "Current Parameter i = 4 Value, 734.2289440405627LL80621.68919497238\n",
        "Proposed Parameter i = 4 Value = 737.400067753679LL = 80544.14525299099\n",
        "Current Parameter i = 1 Value, 192.81122490365004LL80621.68919497238\n",
        "Proposed Parameter i = 1 Value = 192.45702522316188LL = 80562.53395927974\n",
        "Current Parameter i = "
       ]
      },
      {
       "output_type": "stream",
       "stream": "stdout",
       "text": [
        "2 Value, 123.27138582706442LL80621.68919497238\n",
        "Proposed Parameter i = 2 Value = 122.49783311403716LL = 80570.39557391386\n",
        "Current Parameter i = 3 Value, 888.1079263286696LL80621.68919497238\n",
        "Proposed Parameter i = 3 Value = 889.9420964260278LL = 80585.2506853521\n",
        "Current Parameter i = 4 Value, 734.2289440405627LL80621.68919497238\n",
        "Proposed Parameter i = 4 Value = 737.9161117997851LL = 80585.25069607106\n",
        "Current Parameter i = 1 Value, 192.81122490365004LL80621.68919497238\n",
        "Proposed Parameter i = 1 Value = 194.78540253801015LL = 80746.40737534185\n",
        "Current Parameter i = 2 Value, 121.41241381147277LL80602.45875087396\n",
        "Proposed Parameter i = 2 Value = 122.49783311403716LL = 80746.40737534185\n",
        "Current Parameter i = 3 Value, 902.9371971430571LL80570.76878258305\n",
        "Proposed Parameter i = 3 Value = 889.9420964260278LL = 80746.40737534185\n",
        "Current Parameter i = "
       ]
      },
      {
       "output_type": "stream",
       "stream": "stdout",
       "text": [
        "4 Value, 744.5305061424825LL80570.7688802315\n",
        "Proposed Parameter i = 4 Value = 737.9161117997851LL = 80746.40737534185\n",
        "Current Parameter i = 1 Value, 190.8201868294413LL80431.64781211443\n",
        "Proposed Parameter i = 1 Value = 194.78540253801015LL = 80746.40737534185\n",
        "Current Parameter i = 2 Value, 120.5288204365253LL80422.15026350912\n",
        "Proposed Parameter i = 2 Value = 122.49783311403716LL = 80746.40737534185\n",
        "Current Parameter i = 3 Value, 881.590339489194LL80467.78999138805\n",
        "Proposed Parameter i = 3 Value = 889.9420964260278LL = 80746.40737534185\n",
        "Current Parameter i = 4 Value, 743.8697494070076LL80467.78999334753\n",
        "Proposed Parameter i = 4 Value = 737.9161117997851LL = 80746.40737534185\n",
        "Current Parameter i = 1 Value, 194.02396179755772LL80690.93865055063\n",
        "Proposed Parameter i = 1 Value = 194.78540253801015LL = 80746.40737534185\n",
        "Current Parameter i = "
       ]
      },
      {
       "output_type": "stream",
       "stream": "stdout",
       "text": [
        "2 Value, 125.89327745411703LL80745.23632785994\n",
        "Proposed Parameter i = 2 Value = 122.49783311403716LL = 80746.40737534185\n",
        "Current Parameter i = 3 Value, 881.590339489194LL80745.23632785994\n",
        "Proposed Parameter i = 3 Value = 875.1861103584642LL = 80777.3370320557\n",
        "Current Parameter i = 4 Value, 730.6570793476419LL80745.2362265935\n",
        "Proposed Parameter i = 4 Value = 737.9161117997851LL = 80777.3370320557\n",
        "Current Parameter i = 1 Value, 199.18695956546932LL81097.11340135244\n",
        "Proposed Parameter i = 1 Value = 194.78540253801015LL = 80777.3370320557\n",
        "Current Parameter i = 2 Value, 125.89327745411703LL81097.11340135244\n",
        "Proposed Parameter i = 2 Value = 123.95708513871357LL = 80792.00469844125\n",
        "Current Parameter i = 3 Value, 881.590339489194LL81097.11340135244\n",
        "Proposed Parameter i = 3 Value = 884.7625939382215LL = 80772.12992993848\n",
        "Current Parameter i = "
       ]
      },
      {
       "output_type": "stream",
       "stream": "stdout",
       "text": [
        "4 Value, 730.6570793476419LL81097.11340135244\n",
        "Proposed Parameter i = 4 Value = 738.7074295054831LL = 80772.12993617707\n",
        "Current Parameter i = 1 Value, 199.18695956546932LL81097.11340135244\n",
        "Proposed Parameter i = 1 Value = 195.77211708608007LL = 80839.83685601725\n",
        "Current Parameter i = 2 Value, 125.89327745411703LL81097.11340135244\n",
        "Proposed Parameter i = 2 Value = 126.50851586305565LL = 80864.79620369365\n",
        "Current Parameter i = 3 Value, 881.590339489194LL81097.11340135244\n",
        "Proposed Parameter i = 3 Value = 891.9693842007918LL = 80849.87373372527\n",
        "Current Parameter i = 4 Value, 730.6570793476419LL81097.11340135244\n",
        "Proposed Parameter i = 4 Value = 723.452565651135LL = 80849.8736048872\n",
        "Current Parameter i = 1 Value, 199.18695956546932LL81097.11340135244\n",
        "Proposed Parameter i = 1 Value = 199.7991610161394LL = 81122.66408643723\n",
        "Current Parameter i = "
       ]
      },
      {
       "output_type": "stream",
       "stream": "stdout",
       "text": [
        "2 Value, 125.41357054921639LL81092.47154212768\n",
        "Proposed Parameter i = 2 Value = 126.50851586305565LL = 81122.66408643723\n",
        "Current Parameter i = 3 Value, 886.2051784055527LL81082.91593032496\n",
        "Proposed Parameter i = 3 Value = 891.9693842007918LL = 81122.66408643723\n",
        "Current Parameter i = 4 Value, 712.7063442599796LL81082.91578147384\n",
        "Proposed Parameter i = 4 Value = 723.452565651135LL = 81122.66408643723\n",
        "Current Parameter i = 1 Value, 199.41469111624392LL81098.22273418317\n",
        "Proposed Parameter i = 1 Value = 199.7991610161394LL = 81122.66408643723\n",
        "Current Parameter i = 2 Value, 125.20785389484655LL81096.21019503329\n",
        "Proposed Parameter i = 2 Value = 126.50851586305565LL = 81122.66408643723\n",
        "Current Parameter i = 3 Value, 900.4373413126891LL81066.39062908884\n",
        "Proposed Parameter i = 3 Value = 891.9693842007918LL = 81122.66408643723\n",
        "Current Parameter i = 4 Value, 716.8987406274194LL81066.39068043303\n",
        "Proposed Parameter i = 4 Value = 723.452565651135LL = 81122.66408643723\n",
        "Current Parameter i = "
       ]
      },
      {
       "output_type": "stream",
       "stream": "stdout",
       "text": [
        "1 Value, 198.0978787650866LL80977.63567487661\n",
        "Proposed Parameter i = 1 Value = 199.7991610161394LL = 81122.66408643723\n",
        "Current Parameter i = 2 Value, 128.28157589478045LL81007.35258650446\n",
        "Proposed Parameter i = 2 Value = 126.50851586305565LL = 81122.66408643723\n",
        "Current Parameter i = 3 Value, 916.2552183672968LL80974.1160298784\n",
        "Proposed Parameter i = 3 Value = 891.9693842007918LL = 81122.66408643723\n",
        "Current Parameter i = 4 Value, 720.377954732862LL80974.11605851333\n",
        "Proposed Parameter i = 4 Value = 723.452565651135LL = 81122.66408643723\n",
        "Current Parameter i = 1 Value, 201.6416862364405LL81211.63147575934\n",
        "Proposed Parameter i = 1 Value = 199.7991610161394LL = 81122.66408643723\n",
        "Current Parameter i = 2 Value, 128.28157589478045LL81211.63147575934\n",
        "Proposed Parameter i = 2 Value = 126.67341308810678LL = 81124.2492119607\n",
        "Current Parameter i = 3 Value, 916.2552183672968LL81211.63147575934\n",
        "Proposed Parameter i = 3 Value = 908.2997117885502LL = 81090.00098285958\n",
        "Current Parameter i = "
       ]
      },
      {
       "output_type": "stream",
       "stream": "stdout",
       "text": [
        "4 Value, 720.377954732862LL81211.63147575934\n",
        "Proposed Parameter i = 4 Value = 724.5516624958474LL = 81090.0009978153\n",
        "Current Parameter i = 1 Value, 201.6416862364405LL81211.63147575934\n",
        "Proposed Parameter i = 1 Value = 203.28223789006765LL = 81321.48199949223\n",
        "Current Parameter i = 2 Value, 126.93190687348896LL81198.5836364185\n",
        "Proposed Parameter i = 2 Value = 126.67341308810678LL = 81321.48199949223\n",
        "Current Parameter i = 3 Value, 936.4932143151918LL81154.9743902\n",
        "Proposed Parameter i = 3 Value = 908.2997117885502LL = 81321.48199949223\n",
        "Current Parameter i = 4 Value, 724.0980400225558LL81154.97443880794\n",
        "Proposed Parameter i = 4 Value = 724.5516624958474LL = 81321.48199949223\n",
        "Current Parameter i = 1 Value, 201.0260260467422LL81114.01723057982\n",
        "Proposed Parameter i = 1 Value = 203.28223789006765LL = 81321.48199949223\n",
        "Current Parameter i = "
       ]
      },
      {
       "output_type": "stream",
       "stream": "stdout",
       "text": [
        "2 Value, 126.33878331034322LL81108.07363219577\n",
        "Proposed Parameter i = 2 Value = 126.67341308810678LL = 81321.48199949223\n",
        "Current Parameter i = 3 Value, 927.8226271800344LL81126.91458027122\n",
        "Proposed Parameter i = 3 Value = 908.2997117885502LL = 81321.48199949223\n",
        "Current Parameter i = 4 Value, 722.9363182543398LL81126.91456620606\n",
        "Proposed Parameter i = 4 Value = 724.5516624958474LL = 81321.48199949223\n",
        "Current Parameter i = 1 Value, 200.44769254627735LL81088.32446263496\n",
        "Proposed Parameter i = 1 Value = 203.28223789006765LL = 81321.48199949223\n",
        "Current Parameter i = 2 Value, 127.0746948070171LL81095.63192403915\n",
        "Proposed Parameter i = 2 Value = 126.67341308810678LL = 81321.48199949223\n",
        "Current Parameter i = 3 Value, 912.3602799681647LL81128.71314886156\n",
        "Proposed Parameter i = 3 Value = 908.2997117885502LL = 81321.48199949223\n",
        "Current Parameter i = "
       ]
      },
      {
       "output_type": "stream",
       "stream": "stdout",
       "text": [
        "4 Value, 721.7367550801666LL81128.71313957748\n",
        "Proposed Parameter i = 4 Value = 724.5516624958474LL = 81321.48199949223\n",
        "200\n",
        "LL = 81321.48199949223\n",
        "Param values 203.28223789006765,126.67341308810678,908.2997117885502,724.5516624958474\n",
        "Local Acceptance Rate for parameter 2 = 0.51Increasing StepSize to 0.012100000000000001\n",
        "Current Parameter i = 1 Value, 199.45616763765022LL81062.28808886257\n",
        "Proposed Parameter i = 1 Value = 203.28223789006765LL = 81321.48199949223\n",
        "Current Parameter i = 2 Value, 127.29405691781581LL81064.41664293194\n",
        "Proposed Parameter i = 2 Value = 126.67341308810678LL = 81321.48199949223\n",
        "Current Parameter i = 3 Value, 907.337623163016LL81075.03486819376\n",
        "Proposed Parameter i = 3 Value = 908.2997117885502LL = 81321.48199949223\n",
        "Current Parameter i = 4 Value, 725.4419451482775LL81075.0349093476\n",
        "Proposed Parameter i = 4 Value = 724.5516624958474LL = 81321.48199949223\n",
        "Current Parameter i = 1 Value, 203.1488513085861LL81320.74226331575\n",
        "Proposed Parameter i = 1 Value = 203.28223789006765LL = 81321.48199949223\n",
        "Current Parameter i = "
       ]
      },
      {
       "output_type": "stream",
       "stream": "stdout",
       "text": [
        "2 Value, 126.07178519651747LL81308.8311382177\n",
        "Proposed Parameter i = 2 Value = 126.67341308810678LL = 81321.48199949223\n",
        "Current Parameter i = 3 Value, 897.3445661830239LL81329.89925933759\n",
        "Proposed Parameter i = 3 Value = 908.2997117885502LL = 81321.48199949223\n",
        "Current Parameter i = 4 Value, 725.4419451482775LL81329.89925933759\n",
        "Proposed Parameter i = 4 Value = 725.1563983317635LL = 81321.48198747162\n",
        "Current Parameter i = 1 Value, 203.1488513085861LL81329.89925933759\n",
        "Proposed Parameter i = 1 Value = 198.62876883806LL = 81011.29850962176\n",
        "Current Parameter i = 2 Value, 126.07178519651747LL81329.89925933759\n",
        "Proposed Parameter i = 2 Value = 125.13898447173538LL = 80996.12345290529\n",
        "Current Parameter i = 3 Value, 897.3445661830239LL81329.89925933759\n",
        "Proposed Parameter i = 3 Value = 892.6312935547103LL = 81029.2252200792\n",
        "Current Parameter i = "
       ]
      },
      {
       "output_type": "stream",
       "stream": "stdout",
       "text": [
        "4 Value, 725.4419451482775LL81329.89925933759\n",
        "Proposed Parameter i = 4 Value = 730.0867712528759LL = 81029.22526904271\n",
        "Current Parameter i = 1 Value, 203.1488513085861LL81329.89925933759\n",
        "Proposed Parameter i = 1 Value = 202.4323714146452LL = 81283.30073272342\n",
        "Current Parameter i = 2 Value, 126.07178519651747LL81329.89925933759\n",
        "Proposed Parameter i = 2 Value = 125.14910471243154LL = 81283.40068403342\n",
        "Current Parameter i = 3 Value, 897.3445661830239LL81329.89925933759\n",
        "Proposed Parameter i = 3 Value = 889.9087217371996LL = 81289.09372510992\n",
        "Current Parameter i = 4 Value, 725.4419451482775LL81329.89925933759\n",
        "Proposed Parameter i = 4 Value = 725.7294968568144LL = 81289.09369126956\n",
        "Current Parameter i = 1 Value, 203.1488513085861LL81329.89925933759\n",
        "Proposed Parameter i = 1 Value = 202.46127029215373LL = 81291.00550297405\n",
        "Current Parameter i = 2 Value, 126.07178519651747LL81329.89925933759\n",
        "Proposed Parameter i = 2 Value = 124.71302590278454LL = 81286.69333666745\n",
        "Current Parameter i = "
       ]
      },
      {
       "output_type": "stream",
       "stream": "stdout",
       "text": [
        "3 Value, 897.3445661830239LL81329.89925933759\n",
        "Proposed Parameter i = 3 Value = 886.3691878533973LL = 81294.08331773306\n",
        "Current Parameter i = 4 Value, 725.4419451482775LL81329.89925933759\n",
        "Proposed Parameter i = 4 Value = 728.5401049706876LL = 81294.08333637672\n",
        "Current Parameter i = 1 Value, 203.1488513085861LL81329.89925933759\n",
        "Proposed Parameter i = 1 Value = 203.709635787489LL = 81376.40631611366\n",
        "Current Parameter i = 2 Value, 123.40107334471418LL81303.20060046644\n",
        "Proposed Parameter i = 2 Value = 124.71302590278454LL = 81376.40631611366\n",
        "Current Parameter i = 3 Value, 872.7893244719818LL81354.60138569296\n",
        "Proposed Parameter i = 3 Value = 886.3691878533973LL = 81376.40631611366\n",
        "Current Parameter i = 4 Value, 739.57178564692LL81354.60149830805\n",
        "Proposed Parameter i = 4 Value = 728.5401049706876LL = 81376.40631611366\n",
        "Current Parameter i = "
       ]
      },
      {
       "output_type": "stream",
       "stream": "stdout",
       "text": [
        "1 Value, 203.60599773169716LL81384.70385552068\n",
        "Proposed Parameter i = 1 Value = 203.709635787489LL = 81376.40631611366\n",
        "Current Parameter i = 2 Value, 123.40107334471418LL81384.70385552068\n",
        "Proposed Parameter i = 2 Value = 122.1149270722193LL = 81350.08302031254\n",
        "Current Parameter i = 3 Value, 872.7893244719818LL81384.70385552068\n",
        "Proposed Parameter i = 3 Value = 859.371166676924LL = 81406.1494156237\n",
        "Current Parameter i = 4 Value, 726.1031363340112LL81384.70373746825\n",
        "Proposed Parameter i = 4 Value = 728.5401049706876LL = 81406.1494156237\n",
        "Current Parameter i = 1 Value, 202.7756102976152LL81329.97308728851\n",
        "Proposed Parameter i = 1 Value = 203.709635787489LL = 81406.1494156237\n",
        "Current Parameter i = 2 Value, 121.8116971827516LL81313.84789112466\n",
        "Proposed Parameter i = 2 Value = 122.1149270722193LL = 81406.1494156237\n",
        "Current Parameter i = 3 Value, 850.9528878341004LL81358.67125692376\n",
        "Proposed Parameter i = 3 Value = 859.371166676924LL = 81406.1494156237\n",
        "Current Parameter i = "
       ]
      },
      {
       "output_type": "stream",
       "stream": "stdout",
       "text": [
        "4 Value, 734.2496498438741LL81358.67131709577\n",
        "Proposed Parameter i = 4 Value = 728.5401049706876LL = 81406.1494156237\n",
        "Current Parameter i = 1 Value, 204.21415697815624LL81453.34240292468\n",
        "Proposed Parameter i = 1 Value = 203.709635787489LL = 81406.1494156237\n",
        "Current Parameter i = 2 Value, 121.8116971827516LL81453.34240292468\n",
        "Proposed Parameter i = 2 Value = 121.8925098748399LL = 81403.89819370247\n",
        "Current Parameter i = 3 Value, 850.9528878341004LL81453.34240292468\n",
        "Proposed Parameter i = 3 Value = 852.3332308954735LL = 81418.23336269148\n",
        "Current Parameter i = 4 Value, 734.2496498438741LL81453.34240292468\n",
        "Proposed Parameter i = 4 Value = 723.5426571639512LL = 81418.23332585626\n",
        "Current Parameter i = 1 Value, 204.21415697815624LL81453.34240292468\n",
        "Proposed Parameter i = 1 Value = 204.7961326324402LL = 81489.46661616779\n",
        "Current Parameter i = "
       ]
      },
      {
       "output_type": "stream",
       "stream": "stdout",
       "text": [
        "2 Value, 122.1860817427497LL81457.09929479712\n",
        "Proposed Parameter i = 2 Value = 121.8925098748399LL = 81489.46661616779\n",
        "Current Parameter i = 3 Value, 846.1646195583869LL81466.74815948479\n",
        "Proposed Parameter i = 3 Value = 852.3332308954735LL = 81489.46661616779\n",
        "Current Parameter i = 4 Value, 726.2045796919192LL81466.74810585828\n",
        "Proposed Parameter i = 4 Value = 723.5426571639512LL = 81489.46661616779\n",
        "Current Parameter i = 1 Value, 203.4700748677743LL81417.86444374098\n",
        "Proposed Parameter i = 1 Value = 204.7961326324402LL = 81489.46661616779\n",
        "Current Parameter i = 2 Value, 120.01667090093184LL81395.83357568053\n",
        "Proposed Parameter i = 2 Value = 121.8925098748399LL = 81489.46661616779\n",
        "Current Parameter i = 3 Value, 844.6840994489935LL81398.83907898696\n",
        "Proposed Parameter i = 3 Value = 852.3332308954735LL = 81489.46661616779\n",
        "Current Parameter i = "
       ]
      },
      {
       "output_type": "stream",
       "stream": "stdout",
       "text": [
        "4 Value, 733.4508961872316LL81398.83911970242\n",
        "Proposed Parameter i = 4 Value = 723.5426571639512LL = 81489.46661616779\n",
        "Current Parameter i = 1 Value, 204.73635925753803LL81481.92102634844\n",
        "Proposed Parameter i = 1 Value = 204.7961326324402LL = 81489.46661616779\n",
        "Current Parameter i = 2 Value, 122.0479338575353LL81502.54457399661\n",
        "Proposed Parameter i = 2 Value = 121.8925098748399LL = 81489.46661616779\n",
        "Current Parameter i = 3 Value, 844.6840994489935LL81502.54457399661\n",
        "Proposed Parameter i = 3 Value = 850.199305801615LL = 81493.788227662\n",
        "Current Parameter i = 4 Value, 733.4508961872316LL81502.54457399661\n",
        "Proposed Parameter i = 4 Value = 734.6146981037484LL = 81493.78829235263\n",
        "Current Parameter i = 1 Value, 204.73635925753803LL81502.54457399661\n",
        "Proposed Parameter i = 1 Value = 206.82131885818512LL = 81625.54689684616\n",
        "Current Parameter i = "
       ]
      },
      {
       "output_type": "stream",
       "stream": "stdout",
       "text": [
        "2 Value, 121.72911827585033LL81499.35975277817\n",
        "Proposed Parameter i = 2 Value = 121.8925098748399LL = 81625.54689684616\n",
        "Current Parameter i = 3 Value, 861.4044207580922LL81465.39436802013\n",
        "Proposed Parameter i = 3 Value = 850.199305801615LL = 81625.54689684616\n",
        "Current Parameter i = 4 Value, 745.2740091435603LL81465.3944497915\n",
        "Proposed Parameter i = 4 Value = 734.6146981037484LL = 81625.54689684616\n",
        "Current Parameter i = 1 Value, 208.5094235190942LL81709.89195221194\n",
        "Proposed Parameter i = 1 Value = 206.82131885818512LL = 81625.54689684616\n",
        "Current Parameter i = 2 Value, 121.72911827585033LL81709.89195221194\n",
        "Proposed Parameter i = 2 Value = 120.67896874328491LL = 81613.21325268816\n",
        "Current Parameter i = 3 Value, 861.4044207580922LL81709.89195221194\n",
        "Proposed Parameter i = 3 Value = 867.4946238580897LL = 81577.6361696339\n",
        "Current Parameter i = "
       ]
      },
      {
       "output_type": "stream",
       "stream": "stdout",
       "text": [
        "4 Value, 745.2740091435603LL81709.89195221194\n",
        "Proposed Parameter i = 4 Value = 751.9322188316984LL = 81577.63631401405\n",
        "Current Parameter i = 1 Value, 208.5094235190942LL81709.89195221194\n",
        "Proposed Parameter i = 1 Value = 206.5482540815197LL = 81559.9475168183\n",
        "Current Parameter i = 2 Value, 121.72911827585033LL81709.89195221194\n",
        "Proposed Parameter i = 2 Value = 121.47286539457652LL = 81568.19040264256\n",
        "Current Parameter i = 3 Value, 861.4044207580922LL81709.89195221194\n",
        "Proposed Parameter i = 3 Value = 853.9839473961027LL = 81595.9352797217\n",
        "Current Parameter i = 4 Value, 745.2740091435603LL81709.89195221194\n",
        "Proposed Parameter i = 4 Value = 743.7623170539243LL = 81595.93522103918\n",
        "Current Parameter i = 1 Value, 208.5094235190942LL81709.89195221194\n",
        "Proposed Parameter i = 1 Value = 208.75324495200516LL = 81738.10038788432\n",
        "Current Parameter i = "
       ]
      },
      {
       "output_type": "stream",
       "stream": "stdout",
       "text": [
        "2 Value, 122.37116074259274LL81716.39940294881\n",
        "Proposed Parameter i = 2 Value = 121.47286539457652LL = 81738.10038788432\n",
        "Current Parameter i = 3 Value, 848.1110655568971LL81743.37408207\n",
        "Proposed Parameter i = 3 Value = 853.9839473961027LL = 81738.10038788432\n",
        "Current Parameter i = 4 Value, 745.2740091435603LL81743.37408207\n",
        "Proposed Parameter i = 4 Value = 743.7208125923946LL = 81738.10037808948\n",
        "Current Parameter i = 1 Value, 208.5094235190942LL81743.37408207\n",
        "Proposed Parameter i = 1 Value = 204.852997081597LL = 81485.58372123029\n",
        "Current Parameter i = 2 Value, 122.37116074259274LL81743.37408207\n",
        "Proposed Parameter i = 2 Value = 123.05665052311117LL = 81501.44868527212\n",
        "Current Parameter i = 3 Value, 848.1110655568971LL81743.37408207\n",
        "Proposed Parameter i = 3 Value = 836.4060948998749LL = 81536.55274199123\n",
        "Current Parameter i = "
       ]
      },
      {
       "output_type": "stream",
       "stream": "stdout",
       "text": [
        "4 Value, 745.2740091435603LL81743.37408207\n",
        "Proposed Parameter i = 4 Value = 746.6177713403007LL = 81536.55277119801\n",
        "Current Parameter i = 1 Value, 208.5094235190942LL81743.37408207\n",
        "Proposed Parameter i = 1 Value = 210.121535018612LL = 81876.53057053672\n",
        "Current Parameter i = 2 Value, 122.28769671895317LL81742.54409587652\n",
        "Proposed Parameter i = 2 Value = 123.05665052311117LL = 81876.53057053672\n",
        "Current Parameter i = 3 Value, 830.4705039535422LL81777.64557203102\n",
        "Proposed Parameter i = 3 Value = 836.4060948998749LL = 81876.53057053672\n",
        "Current Parameter i = 4 Value, 725.9555343658129LL81777.64545651032\n",
        "Proposed Parameter i = 4 Value = 746.6177713403007LL = 81876.53057053672\n",
        "Current Parameter i = 1 Value, 209.06126929899412LL81813.029363508\n",
        "Proposed Parameter i = 1 Value = 210.121535018612LL = 81876.53057053672\n",
        "Current Parameter i = "
       ]
      },
      {
       "output_type": "stream",
       "stream": "stdout",
       "text": [
        "2 Value, 126.28748248133573LL81850.61215535425\n",
        "Proposed Parameter i = 2 Value = 123.05665052311117LL = 81876.53057053672\n",
        "Current Parameter i = 3 Value, 840.8980297818855LL81830.41235308466\n",
        "Proposed Parameter i = 3 Value = 836.4060948998749LL = 81876.53057053672\n",
        "Current Parameter i = 4 Value, 754.8394251122295LL81830.41254597665\n",
        "Proposed Parameter i = 4 Value = 746.6177713403007LL = 81876.53057053672\n",
        "Current Parameter i = 1 Value, 206.35903958569926LL81656.23248437974\n",
        "Proposed Parameter i = 1 Value = 210.121535018612LL = 81876.53057053672\n",
        "Current Parameter i = 2 Value, 123.19638485686357LL81627.09940630978\n",
        "Proposed Parameter i = 2 Value = 123.05665052311117LL = 81876.53057053672\n",
        "Current Parameter i = 3 Value, 823.8788674174799LL81660.48112838042\n",
        "Proposed Parameter i = 3 Value = 836.4060948998749LL = 81876.53057053672\n",
        "Current Parameter i = "
       ]
      },
      {
       "output_type": "stream",
       "stream": "stdout",
       "text": [
        "4 Value, 744.275524000024LL81660.48105826344\n",
        "Proposed Parameter i = 4 Value = 746.6177713403007LL = 81876.53057053672\n",
        "Current Parameter i = 1 Value, 211.23760031267582LL81973.28761446991\n",
        "Proposed Parameter i = 1 Value = 210.121535018612LL = 81876.53057053672\n",
        "Current Parameter i = 2 Value, 123.19638485686357LL81973.28761446991\n",
        "Proposed Parameter i = 2 Value = 123.79240549415194LL = 81883.6059136027\n",
        "Current Parameter i = 3 Value, 823.8788674174799LL81973.28761446991\n",
        "Proposed Parameter i = 3 Value = 816.7148773193433LL = 81921.78793773543\n",
        "Current Parameter i = 4 Value, 744.275524000024LL81973.28761446991\n",
        "Proposed Parameter i = 4 Value = 739.874720275409LL = 81921.78789765261\n",
        "Current Parameter i = "
       ]
      },
      {
       "output_type": "stream",
       "stream": "stdout",
       "text": [
        "1 Value, 211.23760031267582LL81973.28761446991\n",
        "Proposed Parameter i = 1 Value = 212.02051057768693LL = 82042.21327630956\n",
        "Current Parameter i = 2 Value, 124.60271310243984LL81986.49785252484\n",
        "Proposed Parameter i = 2 Value = 123.79240549415194LL = 82042.21327630956\n",
        "Current Parameter i = 3 Value, 801.4818478152054LL82028.84699116692\n",
        "Proposed Parameter i = 3 Value = 816.7148773193433LL = 82042.21327630956\n",
        "Current Parameter i = 4 Value, 730.2521631730265LL82028.84691256791\n",
        "Proposed Parameter i = 4 Value = 739.874720275409LL = 82042.21327630956\n",
        "Current Parameter i = 1 Value, 213.14022296922093LL82148.85997211369\n",
        "Proposed Parameter i = 1 Value = 212.02051057768693LL = 82042.21327630956\n",
        "Current Parameter i = 2 Value, 124.60271310243984LL82148.85997211369\n",
        "Proposed Parameter i = 2 Value = 127.89975437863124LL = 82079.04472143108\n",
        "Current Parameter i = "
       ]
      },
      {
       "output_type": "stream",
       "stream": "stdout",
       "text": [
        "3 Value, 801.4818478152054LL82148.85997211369\n",
        "Proposed Parameter i = 3 Value = 797.6826333616665LL = 82114.01820742483\n",
        "Current Parameter i = 4 Value, 730.2521631730265LL82148.85997211369\n",
        "Proposed Parameter i = 4 Value = 720.7684376891855LL = 82114.01810007419\n",
        "Current Parameter i = 1 Value, 213.14022296922093LL82148.85997211369\n",
        "Proposed Parameter i = 1 Value = 212.92228266364927LL = 82170.82390027285\n",
        "Current Parameter i = 2 Value, 124.77343738212046LL82150.39631791903\n",
        "Proposed Parameter i = 2 Value = 127.89975437863124LL = 82170.82390027285\n",
        "Current Parameter i = 3 Value, 807.152485587137LL82139.82207794237\n",
        "Proposed Parameter i = 3 Value = 797.6826333616665LL = 82170.82390027285\n",
        "Current Parameter i = 4 Value, 712.3778314273235LL82139.82198311824\n",
        "Proposed Parameter i = 4 Value = 720.7684376891855LL = 82170.82390027285\n",
        "Current Parameter i = "
       ]
      },
      {
       "output_type": "stream",
       "stream": "stdout",
       "text": [
        "1 Value, 211.80209227325588LL82055.5300641969\n",
        "Proposed Parameter i = 1 Value = 212.92228266364927LL = 82170.82390027285\n",
        "Current Parameter i = 2 Value, 127.50734473820523LL82079.60673545087\n",
        "Proposed Parameter i = 2 Value = 127.89975437863124LL = 82170.82390027285\n",
        "Current Parameter i = 3 Value, 805.1224238568709LL82083.33998022108\n",
        "Proposed Parameter i = 3 Value = 797.6826333616665LL = 82170.82390027285\n",
        "Current Parameter i = 4 Value, 718.9438084522615LL82083.34000329951\n",
        "Proposed Parameter i = 4 Value = 720.7684376891855LL = 82170.82390027285\n",
        "Current Parameter i = 1 Value, 213.43668115177397LL82186.23545850215\n",
        "Proposed Parameter i = 1 Value = 212.92228266364927LL = 82170.82390027285\n",
        "Current Parameter i = 2 Value, 127.50734473820523LL82186.23545850215\n",
        "Proposed Parameter i = 2 Value = 126.32515947830089LL = 82157.39384972693\n",
        "Current Parameter i = "
       ]
      },
      {
       "output_type": "stream",
       "stream": "stdout",
       "text": [
        "3 Value, 805.1224238568709LL82186.23545850215\n",
        "Proposed Parameter i = 3 Value = 804.0296834259319LL = 82145.73657287803\n",
        "Current Parameter i = 4 Value, 718.9438084522615LL82186.23545850215\n",
        "Proposed Parameter i = 4 Value = 722.0157275574364LL = 82145.73657889052\n",
        "Current Parameter i = 1 Value, 213.43668115177397LL82186.23545850215\n",
        "Proposed Parameter i = 1 Value = 212.86735747451695LL = 82142.28368310952\n",
        "Current Parameter i = 2 Value, 127.50734473820523LL82186.23545850215\n",
        "Proposed Parameter i = 2 Value = 126.67207462249293LL = 82145.3046443385\n",
        "Current Parameter i = 3 Value, 805.1224238568709LL82186.23545850215\n",
        "Proposed Parameter i = 3 Value = 806.0927662126745LL = 82141.49766510453\n",
        "Current Parameter i = 4 Value, 718.9438084522615LL82186.23545850215\n",
        "Proposed Parameter i = 4 Value = 722.0374603033713LL = 82141.49766642839\n",
        "Current Parameter i = "
       ]
      },
      {
       "output_type": "stream",
       "stream": "stdout",
       "text": [
        "1 Value, 213.43668115177397LL82186.23545850215\n",
        "Proposed Parameter i = 1 Value = 217.86755509443776LL = 82452.18868050832\n",
        "Current Parameter i = 2 Value, 127.57717332389026LL82186.83182785612\n",
        "Proposed Parameter i = 2 Value = 126.67207462249293LL = 82452.18868050832\n",
        "Current Parameter i = 3 Value, 803.2219368476158LL82190.31416822229\n",
        "Proposed Parameter i = 3 Value = 806.0927662126745LL = 82452.18868050832\n",
        "Current Parameter i = 4 Value, 722.2641580213968LL82190.31417883189\n",
        "Proposed Parameter i = 4 Value = 722.0374603033713LL = 82452.18868050832\n",
        "Current Parameter i = 1 Value, 219.36324355325954LL82556.79079188862\n",
        "Proposed Parameter i = 1 Value = 217.86755509443776LL = 82452.18868050832\n",
        "Current Parameter i = 2 Value, 127.57717332389026LL82556.79079188862\n",
        "Proposed Parameter i = 2 Value = 126.94357882274305LL = 82454.54521724024\n",
        "Current Parameter i = "
       ]
      },
      {
       "output_type": "stream",
       "stream": "stdout",
       "text": [
        "3 Value, 803.2219368476158LL82556.79079188862\n",
        "Proposed Parameter i = 3 Value = 811.1795553413056LL = 82445.11937963673\n",
        "Current Parameter i = 4 Value, 722.2641580213968LL82556.79079188862\n",
        "Proposed Parameter i = 4 Value = 710.0647557347877LL = 82445.11930697918\n",
        "Current Parameter i = 1 Value, 219.36324355325954LL82556.79079188862\n",
        "Proposed Parameter i = 1 Value = 221.26812336729947LL = 82652.30693902304\n",
        "Current Parameter i = 2 Value, 126.58224134166356LL82548.23391509207\n",
        "Proposed Parameter i = 2 Value = 126.94357882274305LL = 82652.30693902304\n",
        "Current Parameter i = 3 Value, 821.2643159483088LL82514.53698786248\n",
        "Proposed Parameter i = 3 Value = 811.1795553413056LL = 82652.30693902304\n",
        "Current Parameter i = 4 Value, 711.8123091855733LL82514.53694148433\n",
        "Proposed Parameter i = 4 Value = 710.0647557347877LL = 82652.30693902304\n",
        "Current Parameter i = "
       ]
      },
      {
       "output_type": "stream",
       "stream": "stdout",
       "text": [
        "1 Value, 223.73614397289165LL82778.54713740166\n",
        "Proposed Parameter i = 1 Value = 221.26812336729947LL = 82652.30693902304\n",
        "Current Parameter i = 2 Value, 126.58224134166356LL82778.54713740166\n",
        "Proposed Parameter i = 2 Value = 127.01446450538496LL = 82652.92425299254\n",
        "Current Parameter i = 3 Value, 821.2643159483088LL82778.54713740166\n",
        "Proposed Parameter i = 3 Value = 815.9102672164237LL = 82644.0930597943\n",
        "Current Parameter i = 4 Value, 711.8123091855733LL82778.54713740166\n",
        "Proposed Parameter i = 4 Value = 712.2706887547912LL = 82644.09307074557\n",
        "Current Parameter i = 1 Value, 223.73614397289165LL82778.54713740166\n",
        "Proposed Parameter i = 1 Value = 223.45148263791444LL = 82775.4212668457\n",
        "Current Parameter i = 2 Value, 126.58224134166356LL82778.54713740166\n",
        "Proposed Parameter i = 2 Value = 126.96577337796505LL = 82774.99471365406\n",
        "Current Parameter i = "
       ]
      },
      {
       "output_type": "stream",
       "stream": "stdout",
       "text": [
        "3 Value, 821.2643159483088LL82778.54713740166\n",
        "Proposed Parameter i = 3 Value = 819.841612268755LL = 82767.6037720052\n",
        "Current Parameter i = 4 Value, 711.8123091855733LL82778.54713740166\n",
        "Proposed Parameter i = 4 Value = 712.9604720355981LL = 82767.60377603509\n",
        "Current Parameter i = 1 Value, 223.73614397289165LL82778.54713740166\n",
        "Proposed Parameter i = 1 Value = 225.8008938893344LL = 82907.47147777608\n",
        "Current Parameter i = 2 Value, 128.1222195738101LL82792.03368821515\n",
        "Proposed Parameter i = 2 Value = 126.96577337796505LL = 82907.47147777608\n",
        "Current Parameter i = 3 Value, 827.1191625159713LL82780.99462328928\n",
        "Proposed Parameter i = 3 Value = 819.841612268755LL = 82907.47147777608\n",
        "Current Parameter i = "
       ]
      },
      {
       "output_type": "stream",
       "stream": "stdout",
       "text": [
        "4 Value, 716.7048963882955LL82780.9946458424\n",
        "Proposed Parameter i = 4 Value = 712.9604720355981LL = 82907.47147777608\n",
        "Current Parameter i = 1 Value, 220.73721641563864LL82600.50759204234\n",
        "Proposed Parameter i = 1 Value = 225.8008938893344LL = 82907.47147777608\n",
        "Current Parameter i = 2 Value, 127.95311843280619LL82599.0358533589\n",
        "Proposed Parameter i = 2 Value = 126.96577337796505LL = 82907.47147777608\n",
        "Current Parameter i = 3 Value, 827.5669186292735LL82598.18680198428\n",
        "Proposed Parameter i = 3 Value = 819.841612268755LL = 82907.47147777608\n",
        "Current Parameter i = 4 Value, 715.077237512311LL82598.18680489247\n",
        "Proposed Parameter i = 4 Value = 712.9604720355981LL = 82907.47147777608\n",
        "Current Parameter i = 1 Value, 227.61794857695415LL83008.68015047211\n",
        "Proposed Parameter i = 1 Value = 225.8008938893344LL = 82907.47147777608\n",
        "Current Parameter i = "
       ]
      },
      {
       "output_type": "stream",
       "stream": "stdout",
       "text": [
        "2 Value, 127.95311843280619LL83008.68015047211\n",
        "Proposed Parameter i = 2 Value = 125.32730677897891LL = 82892.80381849172\n",
        "Current Parameter i = 3 Value, 827.5669186292735LL83008.68015047211\n",
        "Proposed Parameter i = 3 Value = 836.9636281454954LL = 82859.79402636453\n",
        "Current Parameter i = 4 Value, 715.077237512311LL83008.68015047211\n",
        "Proposed Parameter i = 4 Value = 724.4375667361766LL = 82859.7941096888\n",
        "Current Parameter i = 1 Value, 227.61794857695415LL83008.68015047211\n",
        "Proposed Parameter i = 1 Value = 225.74927714571444LL = 82856.73717783645\n",
        "Current Parameter i = 2 Value, 127.95311843280619LL83008.68015047211\n",
        "Proposed Parameter i = 2 Value = 128.8978181935938LL = 82888.7699476883\n",
        "Current Parameter i = "
       ]
      },
      {
       "output_type": "stream",
       "stream": "stdout",
       "text": [
        "3 Value, 827.5669186292735LL83008.68015047211\n",
        "Proposed Parameter i = 3 Value = 834.8893589458844LL = 82892.73270107129\n",
        "Current Parameter i = 4 Value, 715.077237512311LL83008.68015047211\n",
        "Proposed Parameter i = 4 Value = 708.6159354027574LL = 82892.7325984183\n",
        "Current Parameter i = 1 Value, 227.61794857695415LL83008.68015047211\n",
        "Proposed Parameter i = 1 Value = 227.7684259412611LL = 83011.7901900348\n",
        "Current Parameter i = 2 Value, 127.71596915833791LL83006.6062704329\n",
        "Proposed Parameter i = 2 Value = 128.8978181935938LL = 83011.7901900348\n",
        "Current Parameter i = 3 Value, 831.1763096800652LL82999.73115429329\n",
        "Proposed Parameter i = 3 Value = 834.8893589458844LL = 83011.7901900348\n",
        "Current Parameter i = 4 Value, 707.7270546342318LL82999.73110080256\n",
        "Proposed Parameter i = 4 Value = 708.6159354027574LL = 83011.7901900348\n",
        "Current Parameter i = "
       ]
      },
      {
       "output_type": "stream",
       "stream": "stdout",
       "text": [
        "1 Value, 224.85424679633456LL82836.38867470868\n",
        "Proposed Parameter i = 1 Value = 227.7684259412611LL = 83011.7901900348\n",
        "Current Parameter i = 2 Value, 129.86348828693323LL82854.90460202827\n",
        "Proposed Parameter i = 2 Value = 128.8978181935938LL = 83011.7901900348\n",
        "Current Parameter i = 3 Value, 829.5365738220303LL82857.99425477786\n",
        "Proposed Parameter i = 3 Value = 834.8893589458844LL = 83011.7901900348\n",
        "Current Parameter i = 4 Value, 698.9320469734703LL82857.99419458328\n",
        "Proposed Parameter i = 4 Value = 708.6159354027574LL = 83011.7901900348\n",
        "Current Parameter i = 1 Value, 225.38541068792023LL82889.54564027194\n",
        "Proposed Parameter i = 1 Value = 227.7684259412611LL = 83011.7901900348\n",
        "Current Parameter i = 2 Value, 133.11196673356002LL82916.05773302182\n",
        "Proposed Parameter i = 2 Value = 128.8978181935938LL = 83011.7901900348\n",
        "Current Parameter i = "
       ]
      },
      {
       "output_type": "stream",
       "stream": "stdout",
       "text": [
        "3 Value, 842.3391280471342LL82892.17542710472\n",
        "Proposed Parameter i = 3 Value = 834.8893589458844LL = 83011.7901900348\n",
        "Current Parameter i = 4 Value, 717.7329976900571LL82892.17556564983\n",
        "Proposed Parameter i = 4 Value = 708.6159354027574LL = 83011.7901900348\n",
        "Current Parameter i = 1 Value, 228.03739718888002LL83048.58504347941\n",
        "Proposed Parameter i = 1 Value = 227.7684259412611LL = 83011.7901900348\n",
        "Current Parameter i = 2 Value, 133.11196673356002LL83048.58504347941\n",
        "Proposed Parameter i = 2 Value = 135.11909709443498LL = 83062.42627105958\n",
        "Current Parameter i = 3 Value, 831.7052689183951LL83068.45618717489\n",
        "Proposed Parameter i = 3 Value = 834.8893589458844LL = 83062.42627105958\n",
        "Current Parameter i = 4 Value, 717.7329976900571LL83068.45618717489\n",
        "Proposed Parameter i = 4 Value = 713.3836255091204LL = 83062.42629471111\n",
        "Current Parameter i = "
       ]
      },
      {
       "output_type": "stream",
       "stream": "stdout",
       "text": [
        "1 Value, 228.03739718888002LL83068.45618717489\n",
        "Proposed Parameter i = 1 Value = 231.89386279865067LL = 83302.38928317651\n",
        "Current Parameter i = 2 Value, 131.69882289316024LL83057.09717942205\n",
        "Proposed Parameter i = 2 Value = 135.11909709443498LL = 83302.38928317651\n",
        "Current Parameter i = 3 Value, 840.9478726777425LL83039.70527657885\n",
        "Proposed Parameter i = 3 Value = 834.8893589458844LL = 83302.38928317651\n",
        "Current Parameter i = 4 Value, 709.6404167329048LL83039.70523013627\n",
        "Proposed Parameter i = 4 Value = 713.3836255091204LL = 83302.38928317651\n",
        "Current Parameter i = 1 Value, 230.7957172132508LL83200.43604580952\n",
        "Proposed Parameter i = 1 Value = 231.89386279865067LL = 83302.38928317651\n",
        "Current Parameter i = "
       ]
      },
      {
       "output_type": "stream",
       "stream": "stdout",
       "text": [
        "2 Value, 133.44656431427313LL83214.61196943633\n",
        "Proposed Parameter i = 2 Value = 135.11909709443498LL = 83302.38928317651\n",
        "Current Parameter i = 3 Value, 831.1252144310399LL83232.90538581135\n",
        "Proposed Parameter i = 3 Value = 834.8893589458844LL = 83302.38928317651\n",
        "Current Parameter i = 4 Value, 721.1987784122289LL83232.90544890477\n",
        "Proposed Parameter i = 4 Value = 713.3836255091204LL = 83302.38928317651\n",
        "Current Parameter i = 1 Value, 232.2936973135201LL83319.37999806597\n",
        "Proposed Parameter i = 1 Value = 231.89386279865067LL = 83302.38928317651\n",
        "Current Parameter i = 2 Value, 133.44656431427313LL83319.37999806597\n",
        "Proposed Parameter i = 2 Value = 134.22926211614583LL = 83295.51988256782\n",
        "Current Parameter i = 3 Value, 831.1252144310399LL83319.37999806597\n",
        "Proposed Parameter i = 3 Value = 833.366857063873LL = 83298.33431537308\n",
        "Current Parameter i = "
       ]
      },
      {
       "output_type": "stream",
       "stream": "stdout",
       "text": [
        "4 Value, 721.1987784122289LL83319.37999806597\n",
        "Proposed Parameter i = 4 Value = 744.5620449561598LL = 83298.3345126349\n",
        "Current Parameter i = 1 Value, 232.2936973135201LL83319.37999806597\n",
        "Proposed Parameter i = 1 Value = 231.53281170173508LL = 83277.5073751365\n",
        "Current Parameter i = 2 Value, 133.44656431427313LL83319.37999806597\n",
        "Proposed Parameter i = 2 Value = 135.6768524268275LL = 83288.5974772614\n",
        "Current Parameter i = 3 Value, 831.1252144310399LL83319.37999806597\n",
        "Proposed Parameter i = 3 Value = 828.9362815350248LL = 83296.68022858513\n",
        "Current Parameter i = 4 Value, 721.1987784122289LL83319.37999806597\n",
        "Proposed Parameter i = 4 Value = 717.9110688330596LL = 83296.68006068196\n",
        "Current Parameter i = 1 Value, 232.2936973135201LL83319.37999806597\n",
        "Proposed Parameter i = 1 Value = 230.90194079297794LL = 83260.2086838653\n",
        "Current Parameter i = "
       ]
      },
      {
       "output_type": "stream",
       "stream": "stdout",
       "text": [
        "2 Value, 133.44656431427313LL83319.37999806597\n",
        "Proposed Parameter i = 2 Value = 136.26612841197579LL = 83264.60434138644\n",
        "Current Parameter i = 3 Value, 831.1252144310399LL83319.37999806597\n",
        "Proposed Parameter i = 3 Value = 808.5866184370948LL = 83300.83279871522\n",
        "Current Parameter i = 4 Value, 721.1987784122289LL83319.37999806597\n",
        "Proposed Parameter i = 4 Value = 714.6644789420993LL = 83300.83278382914\n",
        "Current Parameter i = 1 Value, 232.2936973135201LL83319.37999806597\n",
        "Proposed Parameter i = 1 Value = 229.90374958645748LL = 83242.91786129714\n",
        "Current Parameter i = 2 Value, 133.44656431427313LL83319.37999806597\n",
        "Proposed Parameter i = 2 Value = 131.6182310455645LL = 83207.84052264759\n",
        "Current Parameter i = "
       ]
      },
      {
       "output_type": "stream",
       "stream": "stdout",
       "text": [
        "3 Value, 831.1252144310399LL83319.37999806597\n",
        "Proposed Parameter i = 3 Value = 824.6075022856654LL = 83178.60492211046\n",
        "Current Parameter i = 4 Value, 721.1987784122289LL83319.37999806597\n",
        "Proposed Parameter i = 4 Value = 729.3092547675512LL = 83178.60501040964\n",
        "Current Parameter i = 1 Value, 232.2936973135201LL83319.37999806597\n",
        "Proposed Parameter i = 1 Value = 230.48173964983124LL = 83212.16975063665\n",
        "Current Parameter i = 2 Value, 133.44656431427313LL83319.37999806597\n",
        "Proposed Parameter i = 2 Value = 133.33357055627002LL = 83225.80871147482\n",
        "Current Parameter i = 3 Value, 831.1252144310399LL83319.37999806597\n",
        "Proposed Parameter i = 3 Value = 849.3929906690632LL = 83179.55438849842\n",
        "Current Parameter i = 4 Value, 721.1987784122289LL83319.37999806597\n",
        "Proposed Parameter i = 4 Value = 729.2454913368817LL = 83179.55439277303\n",
        "Current Parameter i = "
       ]
      },
      {
       "output_type": "stream",
       "stream": "stdout",
       "text": [
        "1 Value, 232.2936973135201LL83319.37999806597\n",
        "Proposed Parameter i = 1 Value = 232.0469755237658LL = 83270.02174377807\n",
        "Current Parameter i = 2 Value, 133.44656431427313LL83319.37999806597\n",
        "Proposed Parameter i = 2 Value = 133.83703301182462LL = 83274.06976567449\n",
        "Current Parameter i = 3 Value, 831.1252144310399LL83319.37999806597\n",
        "Proposed Parameter i = 3 Value = 833.3492387046557LL = 83304.1290777088\n",
        "Current Parameter i = 4 Value, 721.1987784122289LL83319.37999806597\n",
        "Proposed Parameter i = 4 Value = 723.8731153524723LL = 83304.12903440636\n",
        "Current Parameter i = 1 Value, 232.2936973135201LL83319.37999806597\n",
        "Proposed Parameter i = 1 Value = 234.08758414349316LL = 83421.14645807339\n",
        "Current Parameter i = 2 Value, 136.16633582465002LL83340.21418751166\n",
        "Proposed Parameter i = 2 Value = 133.83703301182462LL = 83421.14645807339\n",
        "Current Parameter i = "
       ]
      },
      {
       "output_type": "stream",
       "stream": "stdout",
       "text": [
        "3 Value, 821.1561265897549LL83358.19883366996\n",
        "Proposed Parameter i = 3 Value = 833.3492387046557LL = 83421.14645807339\n",
        "Current Parameter i = 4 Value, 711.797054374376LL83358.1987789655\n",
        "Proposed Parameter i = 4 Value = 723.8731153524723LL = 83421.14645807339\n",
        "Current Parameter i = 1 Value, 231.71160575637094LL83324.66289572882\n",
        "Proposed Parameter i = 1 Value = 234.08758414349316LL = 83421.14645807339\n",
        "Current Parameter i = 2 Value, 133.92418956685245LL83307.81153340629\n",
        "Proposed Parameter i = 2 Value = 133.83703301182462LL = 83421.14645807339\n",
        "Current Parameter i = 3 Value, 835.2575544286LL83281.9446045099\n",
        "Proposed Parameter i = 3 Value = 833.3492387046557LL = 83421.14645807339\n",
        "Current Parameter i = 4 Value, 710.6833517201059LL83281.94460018938\n",
        "Proposed Parameter i = 4 Value = 723.8731153524723LL = 83421.14645807339\n",
        "Current Parameter i = "
       ]
      },
      {
       "output_type": "stream",
       "stream": "stdout",
       "text": [
        "1 Value, 235.35311171704012LL83490.34456411489\n",
        "Proposed Parameter i = 1 Value = 234.08758414349316LL = 83421.14645807339\n",
        "Current Parameter i = 2 Value, 133.92418956685245LL83490.34456411489\n",
        "Proposed Parameter i = 2 Value = 136.0547736933677LL = 83438.14126170402\n",
        "Current Parameter i = 3 Value, 835.2575544286LL83490.34456411489\n",
        "Proposed Parameter i = 3 Value = 844.2695333575274LL = 83418.01582300011\n",
        "Current Parameter i = 4 Value, 710.6833517201059LL83490.34456411489\n",
        "Proposed Parameter i = 4 Value = 717.5192980178242LL = 83418.01577174458\n",
        "Current Parameter i = 1 Value, 235.35311171704012LL83490.34456411489\n",
        "Proposed Parameter i = 1 Value = 233.70867946024993LL = 83396.36618674353\n",
        "Current Parameter i = 2 Value, 133.92418956685245LL83490.34456411489\n",
        "Proposed Parameter i = 2 Value = 135.84818424881618LL = 83394.79083341062\n",
        "Current Parameter i = "
       ]
      },
      {
       "output_type": "stream",
       "stream": "stdout",
       "text": [
        "3 Value, 835.2575544286LL83490.34456411489\n",
        "Proposed Parameter i = 3 Value = 844.1869440885475LL = 83394.94451328412\n",
        "Current Parameter i = 4 Value, 710.6833517201059LL83490.34456411489\n",
        "Proposed Parameter i = 4 Value = 710.5194583786396LL = 83394.94445873592\n",
        "Current Parameter i = 1 Value, 235.35311171704012LL83490.34456411489\n",
        "Proposed Parameter i = 1 Value = 235.4018544483624LL = 83491.41271204695\n",
        "Current Parameter i = 2 Value, 136.83436632249112LL83512.51537006405\n",
        "Proposed Parameter i = 2 Value = 135.84818424881618LL = 83491.41271204695\n",
        "Current Parameter i = 3 Value, 835.2575544286LL83512.51537006405\n",
        "Proposed Parameter i = 3 Value = 843.5950163550807LL = 83492.51365967806\n",
        "Current Parameter i = "
       ]
      },
      {
       "output_type": "stream",
       "stream": "stdout",
       "text": [
        "4 Value, 710.6833517201059LL83512.51537006405\n",
        "Proposed Parameter i = 4 Value = 722.7128947864212LL = 83492.51373645673\n",
        "Current Parameter i = 1 Value, 235.35311171704012LL83512.51537006405\n",
        "Proposed Parameter i = 1 Value = 233.9350282529632LL = 83408.98270193646\n",
        "Current Parameter i = 2 Value, 136.83436632249112LL83512.51537006405\n",
        "Proposed Parameter i = 2 Value = 138.34537772232207LL = 83427.58369832959\n",
        "Current Parameter i = 3 Value, 835.2575544286LL83512.51537006405\n",
        "Proposed Parameter i = 3 Value = 838.6255542269312LL = 83436.65632643174\n",
        "Current Parameter i = 4 Value, 710.6833517201059LL83512.51537006405\n",
        "Proposed Parameter i = 4 Value = 714.6966698839403LL = 83436.65628143265\n",
        "Current Parameter i = 1 Value, 235.35311171704012LL83512.51537006405\n",
        "Proposed Parameter i = 1 Value = 235.95719167439853LL = 83551.67600781891\n",
        "Current Parameter i = "
       ]
      },
      {
       "output_type": "stream",
       "stream": "stdout",
       "text": [
        "2 Value, 136.421997370177LL83509.45132885732\n",
        "Proposed Parameter i = 2 Value = 138.34537772232207LL = 83551.67600781891\n",
        "Current Parameter i = 3 Value, 840.198969009802LL83500.3790316191\n",
        "Proposed Parameter i = 3 Value = 838.6255542269312LL = 83551.67600781891\n",
        "Current Parameter i = 4 Value, 714.7873065594457LL83500.37903686229\n",
        "Proposed Parameter i = 4 Value = 714.6966698839403LL = 83551.67600781891\n",
        "Current Parameter i = 1 Value, 238.5098840854217LL83678.40464450153\n",
        "Proposed Parameter i = 1 Value = 235.95719167439853LL = 83551.67600781891\n",
        "Current Parameter i = 2 Value, 136.421997370177LL83678.40464450153\n",
        "Proposed Parameter i = 2 Value = 136.27056368127575LL = 83536.39271139007\n",
        "Current Parameter i = 3 Value, 840.198969009802LL83678.40464450153\n",
        "Proposed Parameter i = 3 Value = 822.7902216091256LL = 83565.16122820489\n",
        "Current Parameter i = "
       ]
      },
      {
       "output_type": "stream",
       "stream": "stdout",
       "text": [
        "4 Value, 714.7873065594457LL83678.40464450153\n",
        "Proposed Parameter i = 4 Value = 713.5738851524626LL = 83565.16122911991\n",
        "Current Parameter i = 1 Value, 238.5098840854217LL83678.40464450153\n",
        "Proposed Parameter i = 1 Value = 236.1789558366789LL = 83577.71402463572\n",
        "Current Parameter i = 2 Value, 136.421997370177LL83678.40464450153\n",
        "Proposed Parameter i = 2 Value = 134.03445733439LL = 83560.90132049956\n",
        "Current Parameter i = 3 Value, 840.198969009802LL83678.40464450153\n",
        "Proposed Parameter i = 3 Value = 836.4556087823378LL = 83535.79104052258\n",
        "Current Parameter i = 4 Value, 714.7873065594457LL83678.40464450153\n",
        "Proposed Parameter i = 4 Value = 702.6146082557663LL = 83535.79097106082\n",
        "Current Parameter i = 1 Value, 238.5098840854217LL83678.40464450153\n",
        "Proposed Parameter i = 1 Value = 237.59087571219482LL = 83615.42995466701\n",
        "Current Parameter i = "
       ]
      },
      {
       "output_type": "stream",
       "stream": "stdout",
       "text": [
        "2 Value, 136.421997370177LL83678.40464450153\n",
        "Proposed Parameter i = 2 Value = 133.52695274083254LL = 83611.4328235078\n",
        "Current Parameter i = 3 Value, 840.198969009802LL83678.40464450153\n",
        "Proposed Parameter i = 3 Value = 847.3811337088874LL = 83590.90764359954\n",
        "Current Parameter i = 4 Value, 714.7873065594457LL83678.40464450153\n",
        "Proposed Parameter i = 4 Value = 710.3495402092938LL = 83590.90770438529\n",
        "Current Parameter i = 1 Value, 238.5098840854217LL83678.40464450153\n",
        "Proposed Parameter i = 1 Value = 241.1777692373062LL = 83791.07900446413\n",
        "Current Parameter i = 2 Value, 132.89719523458803LL83650.97588735043\n",
        "Proposed Parameter i = 2 Value = 133.52695274083254LL = 83791.07900446413\n",
        "Current Parameter i = 3 Value, 836.6362796007343LL83657.65717117589\n",
        "Proposed Parameter i = 3 Value = 847.3811337088874LL = 83791.07900446413\n",
        "Current Parameter i = "
       ]
      },
      {
       "output_type": "stream",
       "stream": "stdout",
       "text": [
        "4 Value, 700.6616901681823LL83657.65707887737\n",
        "Proposed Parameter i = 4 Value = 710.3495402092938LL = 83791.07900446413\n",
        "Current Parameter i = 1 Value, 240.39179102357713LL83762.6485591385\n",
        "Proposed Parameter i = 1 Value = 241.1777692373062LL = 83791.07900446413\n",
        "Current Parameter i = 2 Value, 136.0305371275631LL83787.00839358119\n",
        "Proposed Parameter i = 2 Value = 133.52695274083254LL = 83791.07900446413\n",
        "Current Parameter i = 3 Value, 836.6362796007343LL83787.00839358119\n",
        "Proposed Parameter i = 3 Value = 833.5278259306923LL = 83817.0479651773\n",
        "Current Parameter i = 4 Value, 716.2658412197432LL83787.0085008334\n",
        "Proposed Parameter i = 4 Value = 710.3495402092938LL = 83817.0479651773\n",
        "Current Parameter i = 1 Value, 242.23565658244004LL83889.07198871313\n",
        "Proposed Parameter i = 1 Value = 241.1777692373062LL = 83817.0479651773\n",
        "Current Parameter i = "
       ]
      },
      {
       "output_type": "stream",
       "stream": "stdout",
       "text": [
        "2 Value, 136.0305371275631LL83889.07198871313\n",
        "Proposed Parameter i = 2 Value = 136.9100357173546LL = 83842.84931650174\n",
        "Current Parameter i = 3 Value, 836.6362796007343LL83889.07198871313\n",
        "Proposed Parameter i = 3 Value = 841.4845046889602LL = 83828.28567205026\n",
        "Current Parameter i = 4 Value, 716.2658412197432LL83889.07198871313\n",
        "Proposed Parameter i = 4 Value = 715.9260947042754LL = 83828.28571175017\n",
        "Current Parameter i = 1 Value, 242.23565658244004LL83889.07198871313\n",
        "Proposed Parameter i = 1 Value = 239.63645786915805LL = 83742.6422249163\n",
        "Current Parameter i = 2 Value, 136.0305371275631LL83889.07198871313\n",
        "Proposed Parameter i = 2 Value = 135.05389604707364LL = 83728.54638964483\n",
        "Current Parameter i = 3 Value, 836.6362796007343LL83889.07198871313\n",
        "Proposed Parameter i = 3 Value = 862.5656622947148LL = 83688.67474693696\n",
        "Current Parameter i = "
       ]
      },
      {
       "output_type": "stream",
       "stream": "stdout",
       "text": [
        "4 Value, 716.2658412197432LL83889.07198871313\n",
        "Proposed Parameter i = 4 Value = 718.9245868192822LL = 83688.67475730887\n",
        "Current Parameter i = 1 Value, 242.23565658244004LL83889.07198871313\n",
        "Proposed Parameter i = 1 Value = 245.0485187878631LL = 83986.959659535\n",
        "Current Parameter i = 2 Value, 135.17776957424869LL83882.59049864058\n",
        "Proposed Parameter i = 2 Value = 135.05389604707364LL = 83986.959659535\n",
        "Current Parameter i = 3 Value, 857.2291281335667LL83843.96342393204\n",
        "Proposed Parameter i = 3 Value = 862.5656622947148LL = 83986.959659535\n",
        "Current Parameter i = 4 Value, 711.4482003104918LL83843.96339198816\n",
        "Proposed Parameter i = 4 Value = 718.9245868192822LL = 83986.959659535\n",
        "Current Parameter i = 1 Value, 247.4099826479703LL84126.20674204874\n",
        "Proposed Parameter i = 1 Value = 245.0485187878631LL = 83986.959659535\n",
        "Current Parameter i = "
       ]
      },
      {
       "output_type": "stream",
       "stream": "stdout",
       "text": [
        "2 Value, 135.17776957424869LL84126.20674204874\n",
        "Proposed Parameter i = 2 Value = 136.5871229384686LL = 83998.97541143552\n",
        "Current Parameter i = 3 Value, 857.2291281335667LL84126.20674204874\n",
        "Proposed Parameter i = 3 Value = 862.566685852202LL = 83998.9734628711\n",
        "Current Parameter i = 4 Value, 711.4482003104918LL84126.20674204874\n",
        "Proposed Parameter i = 4 Value = 700.3263421451865LL = 83998.97331699212\n",
        "Current Parameter i = 1 Value, 247.4099826479703LL84126.20674204874\n",
        "Proposed Parameter i = 1 Value = 240.48407932287034LL = 83747.85246135408\n",
        "Current Parameter i = 2 Value, 135.17776957424869LL84126.20674204874\n",
        "Proposed Parameter i = 2 Value = 133.54367005139994LL = 83723.65519261615\n",
        "Current Parameter i = 3 Value, 857.2291281335667LL84126.20674204874\n",
        "Proposed Parameter i = 3 Value = 852.7954972890493LL = 83742.44181317404\n",
        "Current Parameter i = "
       ]
      },
      {
       "output_type": "stream",
       "stream": "stdout",
       "text": [
        "4 Value, 711.4482003104918LL84126.20674204874\n",
        "Proposed Parameter i = 4 Value = 706.826766898512LL = 83742.44185098483\n",
        "Current Parameter i = 1 Value, 247.4099826479703LL84126.20674204874\n",
        "Proposed Parameter i = 1 Value = 246.34988982583846LL = 84064.28482747036\n",
        "Current Parameter i = 2 Value, 135.17776957424869LL84126.20674204874\n",
        "Proposed Parameter i = 2 Value = 134.36954833791611LL = 84070.91046763006\n",
        "Current Parameter i = 3 Value, 857.2291281335667LL84126.20674204874\n",
        "Proposed Parameter i = 3 Value = 857.2225356290062LL = 84062.46784494053\n",
        "Current Parameter i = 4 Value, 711.4482003104918LL84126.20674204874\n",
        "Proposed Parameter i = 4 Value = 717.8294454438757LL = 84062.46793123327\n",
        "Current Parameter i = 1 Value, 247.4099826479703LL84126.20674204874\n",
        "Proposed Parameter i = 1 Value = 245.56215400496933LL = 84019.70258837116\n",
        "Current Parameter i = "
       ]
      },
      {
       "output_type": "stream",
       "stream": "stdout",
       "text": [
        "2 Value, 135.17776957424869LL84126.20674204874\n",
        "Proposed Parameter i = 2 Value = 135.1721891630468LL = 84026.07731320088\n",
        "Current Parameter i = 3 Value, 857.2291281335667LL84126.20674204874\n",
        "Proposed Parameter i = 3 Value = 870.9013743576307LL = 83999.76275628012\n",
        "Current Parameter i = 4 Value, 711.4482003104918LL84126.20674204874\n",
        "Proposed Parameter i = 4 Value = 712.544969085287LL = 83999.76271999883\n",
        "Current Parameter i = 1 Value, 247.4099826479703LL84126.20674204874\n",
        "Proposed Parameter i = 1 Value = 242.08106543955947LL = 83809.09252618706\n",
        "Current Parameter i = 2 Value, 135.17776957424869LL84126.20674204874\n",
        "Proposed Parameter i = 2 Value = 133.85519772256052LL = 83798.4005729687\n",
        "Current Parameter i = 3 Value, 857.2291281335667LL84126.20674204874\n",
        "Proposed Parameter i = 3 Value = 848.372096547139LL = 83841.76429120106\n",
        "Current Parameter i = 4 Value, 711.4482003104918LL84126.20674204874\n",
        "Proposed Parameter i = 4 Value = 719.3462000909129LL = 83841.76434617468\n",
        "Current Parameter i = "
       ]
      },
      {
       "output_type": "stream",
       "stream": "stdout",
       "text": [
        "1 Value, 247.4099826479703LL84126.20674204874\n",
        "Proposed Parameter i = 1 Value = 246.7751766848393LL = 84098.23178903716\n",
        "Current Parameter i = 2 Value, 135.17776957424869LL84126.20674204874\n",
        "Proposed Parameter i = 2 Value = 134.6852584526919LL = 84104.81289133489\n",
        "Current Parameter i = 3 Value, 857.2291281335667LL84126.20674204874\n",
        "Proposed Parameter i = 3 Value = 847.7469580078027LL = 84105.99087647021\n",
        "Current Parameter i = 4 Value, 711.4482003104918LL84126.20674204874\n",
        "Proposed Parameter i = 4 Value = 709.2452319962979LL = 84105.99080868125\n",
        "Current Parameter i = 1 Value, 247.4099826479703LL84126.20674204874\n",
        "Proposed Parameter i = 1 Value = 253.78094221837938LL = 84479.67160066332\n",
        "Current Parameter i = 2 Value, 134.08421360461287LL84117.49728126226\n",
        "Proposed Parameter i = 2 Value = 134.6852584526919LL = 84479.67160066332\n",
        "Current Parameter i = "
       ]
      },
      {
       "output_type": "stream",
       "stream": "stdout",
       "text": [
        "3 Value, 831.9028535204804LL84165.12410004635\n",
        "Proposed Parameter i = 3 Value = 847.7469580078027LL = 84479.67160066332\n",
        "Current Parameter i = 4 Value, 695.3996381850816LL84165.12399678594\n",
        "Proposed Parameter i = 4 Value = 709.2452319962979LL = 84479.67160066332\n",
        "Current Parameter i = 1 Value, 250.95832198363598LL84355.22649389654\n",
        "Proposed Parameter i = 1 Value = 253.78094221837938LL = 84479.67160066332\n",
        "Current Parameter i = 2 Value, 134.56699967788867LL84358.96702152521\n",
        "Proposed Parameter i = 2 Value = 134.6852584526919LL = 84479.67160066332\n",
        "Current Parameter i = 3 Value, 860.6639634501919LL84304.88336426606\n",
        "Proposed Parameter i = 3 Value = 847.7469580078027LL = 84479.67160066332\n",
        "Current Parameter i = 4 Value, 709.3007226594079LL84304.8834643154\n",
        "Proposed Parameter i = 4 Value = 709.2452319962979LL = 84479.67160066332\n",
        "Current Parameter i = "
       ]
      },
      {
       "output_type": "stream",
       "stream": "stdout",
       "text": [
        "1 Value, 251.76151580310494LL84347.53420875383\n",
        "Proposed Parameter i = 1 Value = 253.78094221837938LL = 84479.67160066332\n",
        "Current Parameter i = 2 Value, 134.0181818142555LL84343.11472757095\n",
        "Proposed Parameter i = 2 Value = 134.6852584526919LL = 84479.67160066332\n",
        "Current Parameter i = 3 Value, 853.250065408065LL84357.32134456183\n",
        "Proposed Parameter i = 3 Value = 847.7469580078027LL = 84479.67160066332\n",
        "Current Parameter i = 4 Value, 702.5030336782476LL84357.32129638965\n",
        "Proposed Parameter i = 4 Value = 709.2452319962979LL = 84479.67160066332\n",
        "Current Parameter i = 1 Value, 253.06994372786554LL84426.50509564474\n",
        "Proposed Parameter i = 1 Value = 253.78094221837938LL = 84479.67160066332\n",
        "Current Parameter i = 2 Value, 132.85700926424377LL84417.08762614754\n",
        "Proposed Parameter i = 2 Value = 134.6852584526919LL = 84479.67160066332\n",
        "Current Parameter i = "
       ]
      },
      {
       "output_type": "stream",
       "stream": "stdout",
       "text": [
        "3 Value, 848.4525286087355LL84426.25727614592\n",
        "Proposed Parameter i = 3 Value = 847.7469580078027LL = 84479.67160066332\n",
        "Current Parameter i = 4 Value, 706.26699381842LL84426.25731059299\n",
        "Proposed Parameter i = 4 Value = 709.2452319962979LL = 84479.67160066332\n",
        "Current Parameter i = 1 Value, 251.65663402969597LL84351.5122898991\n",
        "Proposed Parameter i = 1 Value = 253.78094221837938LL = 84479.67160066332\n",
        "Current Parameter i = 2 Value, 134.45253442787063LL84364.31876107363\n",
        "Proposed Parameter i = 2 Value = 134.6852584526919LL = 84479.67160066332\n",
        "Current Parameter i = "
       ]
      },
      {
       "output_type": "stream",
       "stream": "stdout",
       "text": [
        "3 Value, 844.5218035032174LL84371.71826527617\n",
        "Proposed Parameter i = 3 Value = 847.7469580078027LL = 84479.67160066332\n",
        "Current Parameter i = 4 Value, 725.5730365579808LL84371.71839897073\n",
        "Proposed Parameter i = 4 Value = 709.2452319962979LL = 84479.67160066332\n",
        "Current Parameter i = 1 Value, 256.28606085683924LL84614.98397157813\n",
        "Proposed Parameter i = 1 Value = 253.78094221837938LL = 84479.67160066332\n",
        "Current Parameter i = 2 Value, 134.45253442787063LL84614.98397157813\n",
        "Proposed Parameter i = 2 Value = 133.4581964346029LL = 84469.91027210517\n",
        "Current Parameter i = 3 Value, 844.5218035032174LL84614.98397157813\n",
        "Proposed Parameter i = 3 Value = 831.8464959580007LL = 84499.70508786758\n",
        "Current Parameter i = 4 Value, 725.5730365579808LL84614.98397157813\n",
        "Proposed Parameter i = 4 Value = 733.6963562605265LL = 84499.7052426767\n",
        "Current Parameter i = "
       ]
      },
      {
       "output_type": "stream",
       "stream": "stdout",
       "text": [
        "1 Value, 256.28606085683924LL84614.98397157813\n",
        "Proposed Parameter i = 1 Value = 261.64372793271525LL = 84906.79244364043\n",
        "Current Parameter i = 2 Value, 135.92874967157874LL84626.42582224283\n",
        "Proposed Parameter i = 2 Value = 133.4581964346029LL = 84906.79244364043\n",
        "Current Parameter i = 3 Value, 831.7800537872553LL84649.91042170422\n",
        "Proposed Parameter i = 3 Value = 831.8464959580007LL = 84906.79244364043\n",
        "Current Parameter i = 4 Value, 733.3628910091188LL84649.91047270191\n",
        "Proposed Parameter i = 4 Value = 733.6963562605265LL = 84906.79244364043\n",
        "Current Parameter i = 1 Value, 262.3440504226905LL84961.57725485497\n",
        "Proposed Parameter i = 1 Value = 261.64372793271525LL = 84906.79244364043\n",
        "Current Parameter i = 2 Value, 135.92874967157874LL84961.57725485497\n",
        "Proposed Parameter i = 2 Value = 133.80553806567704LL = 84909.52187215738\n",
        "Current Parameter i = "
       ]
      },
      {
       "output_type": "stream",
       "stream": "stdout",
       "text": [
        "3 Value, 831.7800537872553LL84961.57725485497\n",
        "Proposed Parameter i = 3 Value = 834.749997315368LL = 84904.14541992328\n",
        "Current Parameter i = 4 Value, 733.3628910091188LL84961.57725485497\n",
        "Proposed Parameter i = 4 Value = 735.7733820779579LL = 84904.14543735202\n",
        "Current Parameter i = 1 Value, 262.3440504226905LL84961.57725485497\n",
        "Proposed Parameter i = 1 Value = 262.7665232876264LL = 84961.2583105965\n",
        "Current Parameter i = 2 Value, 134.91071225821386LL84953.85698659606\n",
        "Proposed Parameter i = 2 Value = 133.80553806567704LL = 84961.2583105965\n",
        "Current Parameter i = 3 Value, 843.1319486861669LL84932.83246741544\n",
        "Proposed Parameter i = 3 Value = 834.749997315368LL = 84961.2583105965\n",
        "Current Parameter i = 4 Value, 739.9327667992955LL84932.83251032441\n",
        "Proposed Parameter i = 4 Value = 735.7733820779579LL = 84961.2583105965\n",
        "Current Parameter i = "
       ]
      },
      {
       "output_type": "stream",
       "stream": "stdout",
       "text": [
        "1 Value, 262.87769459296453LL84959.93450793088\n",
        "Proposed Parameter i = 1 Value = 262.7665232876264LL = 84961.2583105965\n",
        "Current Parameter i = 2 Value, 134.91071225821386LL84959.93450793088\n",
        "Proposed Parameter i = 2 Value = 135.11506112248162LL = 84971.42224342887\n",
        "Current Parameter i = 3 Value, 840.8361419498927LL84964.21670638955\n",
        "Proposed Parameter i = 3 Value = 834.749997315368LL = 84971.42224342887\n",
        "Current Parameter i = 4 Value, 747.2981566997471LL84964.21675676476\n",
        "Proposed Parameter i = 4 Value = 735.7733820779579LL = 84971.42224342887\n",
        "Current Parameter i = 1 Value, 259.7714924317985LL84805.67016599643\n",
        "Proposed Parameter i = 1 Value = 262.7665232876264LL = 84971.42224342887\n",
        "Current Parameter i = 2 Value, 137.5436142262059LL84825.56872382654\n",
        "Proposed Parameter i = 2 Value = 135.11506112248162LL = 84971.42224342887\n",
        "Current Parameter i = "
       ]
      },
      {
       "output_type": "stream",
       "stream": "stdout",
       "text": [
        "3 Value, 850.7689569036196LL84807.206348699\n",
        "Proposed Parameter i = 3 Value = 834.749997315368LL = 84971.42224342887\n",
        "Current Parameter i = 4 Value, 740.7699570204968LL84807.20632031378\n",
        "Proposed Parameter i = 4 Value = 735.7733820779579LL = 84971.42224342887\n",
        "Current Parameter i = 1 Value, 261.2523854212418LL84883.03418837725\n",
        "Proposed Parameter i = 1 Value = 262.7665232876264LL = 84971.42224342887\n",
        "Current Parameter i = 2 Value, 136.17804987120553LL84872.70159299315\n",
        "Proposed Parameter i = 2 Value = 135.11506112248162LL = 84971.42224342887\n",
        "Current Parameter i = 3 Value, 859.6608976870411LL84855.89917404491\n",
        "Proposed Parameter i = 3 Value = 834.749997315368LL = 84971.42224342887\n",
        "Current Parameter i = 4 Value, 731.4441762835404LL84855.89909948467\n",
        "Proposed Parameter i = 4 Value = 735.7733820779579LL = 84971.42224342887\n",
        "Current Parameter i = "
       ]
      },
      {
       "output_type": "stream",
       "stream": "stdout",
       "text": [
        "1 Value, 254.71065309554504LL84517.57660516059\n",
        "Proposed Parameter i = 1 Value = 262.7665232876264LL = 84971.42224342887\n",
        "Current Parameter i = 2 Value, 135.88395419804493LL84515.2888835546\n",
        "Proposed Parameter i = 2 Value = 135.11506112248162LL = 84971.42224342887\n",
        "Current Parameter i = 3 Value, 834.9366676105948LL84561.51940109418\n",
        "Proposed Parameter i = 3 Value = 834.749997315368LL = 84971.42224342887\n",
        "Current Parameter i = 4 Value, 735.0679474676522LL84561.51940817783\n",
        "Proposed Parameter i = 4 Value = 735.7733820779579LL = 84971.42224342887\n",
        "Current Parameter i = 1 Value, 261.15902639638557LL84895.07954149558\n",
        "Proposed Parameter i = 1 Value = 262.7665232876264LL = 84971.42224342887\n",
        "Current Parameter i = 2 Value, 134.62262487267546LL84885.44051114713\n",
        "Proposed Parameter i = 2 Value = 135.11506112248162LL = 84971.42224342887\n",
        "Current Parameter i = 3 Value, 837.6385874694643LL84880.43731376123\n",
        "Proposed Parameter i = 3 Value = 834.749997315368LL = 84971.42224342887\n",
        "Current Parameter i = "
       ]
      },
      {
       "output_type": "stream",
       "stream": "stdout",
       "text": [
        "4 Value, 731.0526408351379LL84880.43729077371\n",
        "Proposed Parameter i = 4 Value = 735.7733820779579LL = 84971.42224342887\n",
        "Current Parameter i = 1 Value, 259.9331981724282LL84817.67884819735\n",
        "Proposed Parameter i = 1 Value = 262.7665232876264LL = 84971.42224342887\n",
        "Current Parameter i = 2 Value, 137.71069586275382LL84840.94241498479\n",
        "Proposed Parameter i = 2 Value = 135.11506112248162LL = 84971.42224342887\n",
        "Current Parameter i = 3 Value, 824.8911557137728LL84863.93788913776\n",
        "Proposed Parameter i = 3 Value = 834.749997315368LL = 84971.42224342887\n",
        "Current Parameter i = 4 Value, 740.6906478862543LL84863.9379529158\n",
        "Proposed Parameter i = 4 Value = 735.7733820779579LL = 84971.42224342887\n",
        "Current Parameter i = 1 Value, 262.688634015834LL85004.59203700659\n",
        "Proposed Parameter i = 1 Value = 262.7665232876264LL = 84971.42224342887\n",
        "Current Parameter i = 2 Value, 137.71069586275382LL85004.59203700659\n",
        "Proposed Parameter i = 2 Value = 138.93678295206303LL = 84999.61352210215\n",
        "Current Parameter i = "
       ]
      },
      {
       "output_type": "stream",
       "stream": "stdout",
       "text": [
        "3 Value, 824.8911557137728LL85004.59203700659\n",
        "Proposed Parameter i = 3 Value = 842.7944224283913LL = 84985.02429116545\n",
        "Current Parameter i = 4 Value, 740.6906478862543LL85004.59203700659\n",
        "Proposed Parameter i = 4 Value = 746.0183873458759LL = 84985.02436144512\n",
        "Current Parameter i = 1 Value, 262.688634015834LL85004.59203700659\n",
        "Proposed Parameter i = 1 Value = 263.61698745455055LL = 85028.12063915022\n",
        "Current Parameter i = 2 Value, 138.49301119631778LL85010.15628115804\n",
        "Proposed Parameter i = 2 Value = 138.93678295206303LL = 85028.12063915022\n",
        "Current Parameter i = 3 Value, 846.8479126123224LL84970.42655637134\n",
        "Proposed Parameter i = 3 Value = 842.7944224283913LL = 85028.12063915022\n",
        "Current Parameter i = 4 Value, 748.9968144353377LL84970.42661171571\n",
        "Proposed Parameter i = 4 Value = 746.0183873458759LL = 85028.12063915022\n",
        "Current Parameter i = 1 Value, 262.62011413384LL84966.94724294766\n",
        "Proposed Parameter i = 1 Value = 263.61698745455055LL = 85028.12063915022\n",
        "Current Parameter i = "
       ]
      },
      {
       "output_type": "stream",
       "stream": "stdout",
       "text": [
        "2 Value, 138.5380622344206LL84967.27540745954\n",
        "Proposed Parameter i = 2 Value = 138.93678295206303LL = 85028.12063915022\n",
        "Current Parameter i = 3 Value, 838.1580545526568LL84983.16730044528\n",
        "Proposed Parameter i = 3 Value = 842.7944224283913LL = 85028.12063915022\n",
        "Current Parameter i = 4 Value, 737.1712743960259LL84983.16721808877\n",
        "Proposed Parameter i = 4 Value = 746.0183873458759LL = 85028.12063915022\n",
        "Current Parameter i = 1 Value, 260.89458231485816LL84895.23953490517\n",
        "Proposed Parameter i = 1 Value = 263.61698745455055LL = 85028.12063915022\n",
        "Current Parameter i = 2 Value, 139.1797471639174LL84899.82364803588\n",
        "Proposed Parameter i = 2 Value = 138.93678295206303LL = 85028.12063915022\n",
        "Current Parameter i = 3 Value, 848.0406907389328LL84881.79973770009\n",
        "Proposed Parameter i = 3 Value = 842.7944224283913LL = 85028.12063915022\n",
        "Current Parameter i = "
       ]
      },
      {
       "output_type": "stream",
       "stream": "stdout",
       "text": [
        "4 Value, 751.6235233848644LL84881.79982606751\n",
        "Proposed Parameter i = 4 Value = 746.0183873458759LL = 85028.12063915022\n",
        "Current Parameter i = 1 Value, 264.5575527114033LL85067.75424240557\n",
        "Proposed Parameter i = 1 Value = 263.61698745455055LL = 85028.12063915022\n",
        "Current Parameter i = 2 Value, 139.1797471639174LL85067.75424240557\n",
        "Proposed Parameter i = 2 Value = 138.51551128516203LL = 85025.08229831993\n",
        "Current Parameter i = 3 Value, 848.0406907389328LL85067.75424240557\n",
        "Proposed Parameter i = 3 Value = 847.3698341139499LL = 85016.67893018441\n",
        "Current Parameter i = 4 Value, 751.6235233848644LL85067.75424240557\n",
        "Proposed Parameter i = 4 Value = 758.9751908248963LL = 85016.67901277768\n",
        "Current Parameter i = 1 Value, 264.5575527114033LL85067.75424240557\n",
        "Proposed Parameter i = 1 Value = 263.08458326237366LL = 84989.71682958525\n",
        "Current Parameter i = "
       ]
      },
      {
       "output_type": "stream",
       "stream": "stdout",
       "text": [
        "2 Value, 139.1797471639174LL85067.75424240557\n",
        "Proposed Parameter i = 2 Value = 141.83240139116793LL = 85013.11565353237\n",
        "Current Parameter i = 3 Value, 848.0406907389328LL85067.75424240557\n",
        "Proposed Parameter i = 3 Value = 853.9779933111788LL = 85001.09623964094\n",
        "Current Parameter i = 4 Value, 751.6235233848644LL85067.75424240557\n",
        "Proposed Parameter i = 4 Value = 749.5224381433917LL = 85001.09615683668\n",
        "Current Parameter i = 1 Value, 264.5575527114033LL85067.75424240557\n",
        "Proposed Parameter i = 1 Value = 264.1114744170867LL = 85053.0515606549\n",
        "Current Parameter i = 2 Value, 139.1797471639174LL85067.75424240557\n",
        "Proposed Parameter i = 2 Value = 138.97662440251761LL = 85032.80473979717\n",
        "Current Parameter i = 3 Value, 848.0406907389328LL85067.75424240557\n",
        "Proposed Parameter i = 3 Value = 844.6392775486152LL = 85050.02703717804\n",
        "Current Parameter i = "
       ]
      },
      {
       "output_type": "stream",
       "stream": "stdout",
       "text": [
        "4 Value, 751.6235233848644LL85067.75424240557\n",
        "Proposed Parameter i = 4 Value = 757.8169734874496LL = 85050.02708532012\n",
        "Current Parameter i = 1 Value, 264.5575527114033LL85067.75424240557\n",
        "Proposed Parameter i = 1 Value = 266.1266010652734LL = 85151.38545479889\n",
        "Current Parameter i = 2 Value, 139.7968224802024LL85072.17123022031\n",
        "Proposed Parameter i = 2 Value = 138.97662440251761LL = 85151.38545479889\n",
        "Current Parameter i = 3 Value, 836.365241348574LL85093.3603204005\n",
        "Proposed Parameter i = 3 Value = 844.6392775486152LL = 85151.38545479889\n",
        "Current Parameter i = 4 Value, 756.7333595823384LL85093.36034128962\n",
        "Proposed Parameter i = 4 Value = 757.8169734874496LL = 85151.38545479889\n",
        "Current Parameter i = 1 Value, 268.2391208526085LL85277.63689206692\n",
        "Proposed Parameter i = 1 Value = 266.1266010652734LL = 85151.38545479889\n",
        "Current Parameter i = "
       ]
      },
      {
       "output_type": "stream",
       "stream": "stdout",
       "text": [
        "2 Value, 139.7968224802024LL85277.63689206692\n",
        "Proposed Parameter i = 2 Value = 138.9543302696809LL = 85151.22498254315\n",
        "Current Parameter i = 3 Value, 836.365241348574LL85277.63689206692\n",
        "Proposed Parameter i = 3 Value = 840.3480335798841LL = 85159.0546346346\n",
        "Current Parameter i = 4 Value, 756.7333595823384LL85277.63689206692\n",
        "Proposed Parameter i = 4 Value = 766.5283217961294LL = 85159.05469664691\n",
        "Current Parameter i = 1 Value, 268.2391208526085LL85277.63689206692\n",
        "Proposed Parameter i = 1 Value = 267.00535936663886LL = 85203.0106783347\n",
        "Current Parameter i = 2 Value, 139.7968224802024LL85277.63689206692\n",
        "Proposed Parameter i = 2 Value = 140.431265147917LL = 85213.42317942293\n",
        "Current Parameter i = 3 Value, 836.365241348574LL85277.63689206692\n",
        "Proposed Parameter i = 3 Value = 842.5341294125568LL = 85209.47488083852\n",
        "Current Parameter i = 4 Value, 756.7333595823384LL85277.63689206692\n",
        "Proposed Parameter i = 4 Value = 751.8590049662911LL = 85209.47478915313\n",
        "Current Parameter i = "
       ]
      },
      {
       "output_type": "stream",
       "stream": "stdout",
       "text": [
        "1 Value, 268.2391208526085LL85277.63689206692\n",
        "Proposed Parameter i = 1 Value = 273.062665956073LL = 85508.51500175295\n",
        "Current Parameter i = 2 Value, 142.5933801596491LL85296.65017415116\n",
        "Proposed Parameter i = 2 Value = 140.431265147917LL = 85508.51500175295\n",
        "Current Parameter i = 3 Value, 862.5451429475409LL85249.33045383879\n",
        "Proposed Parameter i = 3 Value = 842.5341294125568LL = 85508.51500175295\n",
        "Current Parameter i = 4 Value, 745.9607481093799LL85249.33036896422\n",
        "Proposed Parameter i = 4 Value = 751.8590049662911LL = 85508.51500175295\n",
        "Current Parameter i = 1 Value, 277.36255488919227LL85695.10853644738\n",
        "Proposed Parameter i = 1 Value = 273.062665956073LL = 85508.51500175295\n",
        "Current Parameter i = 2 Value, 142.5933801596491LL85695.10853644738\n",
        "Proposed Parameter i = 2 Value = 147.28545443009685LL = 85553.10971433712\n",
        "Current Parameter i = 3 Value, 862.5451429475409LL85695.10853644738\n",
        "Proposed Parameter i = 3 Value = 864.4079295497447LL = 85514.34697439619\n",
        "Current Parameter i = "
       ]
      },
      {
       "output_type": "stream",
       "stream": "stdout",
       "text": [
        "4 Value, 745.9607481093799LL85695.10853644738\n",
        "Proposed Parameter i = 4 Value = 746.2369183403952LL = 85514.34694148217\n",
        "Current Parameter i = 1 Value, 277.36255488919227LL85695.10853644738\n",
        "Proposed Parameter i = 1 Value = 272.8346731859324LL = 85503.21390815344\n",
        "Current Parameter i = 2 Value, 142.5933801596491LL85695.10853644738\n",
        "Proposed Parameter i = 2 Value = 144.21182511434563LL = 85483.30960788032\n",
        "Current Parameter i = 3 Value, 862.5451429475409LL85695.10853644738\n",
        "Proposed Parameter i = 3 Value = 868.7013153256318LL = 85475.4032636815\n",
        "Current Parameter i = 4 Value, 745.9607481093799LL85695.10853644738\n",
        "Proposed Parameter i = 4 Value = 745.7684077574667LL = 85475.40325244807\n",
        "Current Parameter i = 1 Value, 277.36255488919227LL85695.10853644738\n",
        "Proposed Parameter i = 1 Value = 282.0319837500048LL = 85917.14470501155\n",
        "Current Parameter i = "
       ]
      },
      {
       "output_type": "stream",
       "stream": "stdout",
       "text": [
        "2 Value, 148.36058517507865LL85732.57250315415\n",
        "Proposed Parameter i = 2 Value = 144.21182511434563LL = 85917.14470501155\n",
        "Current Parameter i = 3 Value, 871.649216957604LL85716.16368536251\n",
        "Proposed Parameter i = 3 Value = 868.7013153256318LL = 85917.14470501155\n",
        "Current Parameter i = 4 Value, 752.189085410912LL85716.16372149264\n",
        "Proposed Parameter i = 4 Value = 745.7684077574667LL = 85917.14470501155\n",
        "Current Parameter i = 1 Value, 280.9230909870022LL85886.09721169471\n",
        "Proposed Parameter i = 1 Value = 282.0319837500048LL = 85917.14470501155\n",
        "Current Parameter i = 2 Value, 142.80843626261859LL85849.60443763486\n",
        "Proposed Parameter i = 2 Value = 144.21182511434563LL = 85917.14470501155\n",
        "Current Parameter i = 3 Value, 867.2764778863356LL85857.75500366867\n",
        "Proposed Parameter i = 3 Value = 868.7013153256318LL = 85917.14470501155\n",
        "Current Parameter i = "
       ]
      }
     ],
     "prompt_number": "*"
    },
    {
     "cell_type": "code",
     "collapsed": false,
     "input": [
      "readdir(\"Output\")"
     ],
     "language": "python",
     "metadata": {},
     "outputs": [
      {
       "metadata": {},
       "output_type": "pyout",
       "prompt_number": 83,
       "text": [
        "5-element Array{Union(UTF8String,ASCIIString),1}:\n",
        " \".gitignore\"                             \n",
        " \"ION_dCK_AdaptiveMH_Output_LL_Part1.0\"   \n",
        " \"ION_dCK_AdaptiveMH_Output_LL_Part_Final\"\n",
        " \"ION_dCK_AdaptiveMH_Output_Part1.0\"      \n",
        " \"ION_dCK_AdaptiveMH_Output_Part_Final\"   "
       ]
      }
     ],
     "prompt_number": 83
    },
    {
     "cell_type": "code",
     "collapsed": false,
     "input": [
      "samples = readdlm(\"Output/ION_dCK_AdaptiveMH_Output_Part_Final\",',')"
     ],
     "language": "python",
     "metadata": {},
     "outputs": [
      {
       "metadata": {},
       "output_type": "pyout",
       "prompt_number": 84,
       "text": [
        "4x15000 Array{Float64,2}:\n",
        "  100.0   100.0   100.0   100.0  100.01   \u2026   423.507    423.507    423.507 \n",
        "  100.0   100.0   100.0   100.0  100.004      628.501    628.501    628.501 \n",
        " 1000.0  1000.0  1000.0  1000.0  999.991       68.3039    68.3039    68.3039\n",
        " 1000.0  1000.0  1000.0  1000.0  999.998     1088.36    1088.36    1088.36  "
       ]
      }
     ],
     "prompt_number": 84
    },
    {
     "cell_type": "code",
     "collapsed": false,
     "input": [
      "\n",
      "for i in (1,2)\n",
      "    for j in (1,2)\n",
      "        iterator=2*(i-1)+j\n",
      "        subplot(2,2,iterator)\n",
      "        plt.plot(vec(samples[iterator,:]))\n",
      "        plt.title(model.ParaNames[iterator])\n",
      "        plt.show()\n",
      "    end\n",
      "end\n"
     ],
     "language": "python",
     "metadata": {},
     "outputs": [
      {
       "metadata": {},
       "output_type": "display_data",
       "png": "[encoded data removed]",
       "text": [
        "Figure(PyObject <matplotlib.figure.Figure object at 0x7fb145d35f50>)"
       ]
      }
     ],
     "prompt_number": 85
    },
    {
     "cell_type": "code",
     "collapsed": false,
     "input": [
      "LL = readdlm(\"Output/ION_dCK_AdaptiveMH_Output_LL_Part_Final\",',');"
     ],
     "language": "python",
     "metadata": {},
     "outputs": [],
     "prompt_number": 87
    },
    {
     "cell_type": "code",
     "collapsed": false,
     "input": [
      "plot(LL)\n",
      "ylabel(\"Log-likelihood\")\n",
      "xlabel(\"Iteration\")"
     ],
     "language": "python",
     "metadata": {},
     "outputs": [
      {
       "metadata": {},
       "output_type": "display_data",
       "png": "[encoded data removed]",
       "text": [
        "Figure(PyObject <matplotlib.figure.Figure object at 0x7fb13a7a69d0>)"
       ]
      },
      {
       "metadata": {},
       "output_type": "pyout",
       "prompt_number": 88,
       "text": [
        "PyObject <matplotlib.text.Text object at 0x7fb13a85ad50>"
       ]
      }
     ],
     "prompt_number": 88
    },
    {
     "cell_type": "code",
     "collapsed": false,
     "input": [],
     "language": "python",
     "metadata": {},
     "outputs": []
    }
   ],
   "metadata": {}
  }
 ]
}