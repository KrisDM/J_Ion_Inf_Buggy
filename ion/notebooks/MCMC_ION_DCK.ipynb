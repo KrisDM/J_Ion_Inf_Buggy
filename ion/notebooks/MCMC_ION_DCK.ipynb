{
 "metadata": {
  "language": "Julia",
  "name": ""
 },
 "nbformat": 3,
 "nbformat_minor": 0,
 "worksheets": [
  {
   "cells": [
    {
     "cell_type": "code",
     "collapsed": false,
     "input": [
      "projbasedir = \"/home/michaelepstein/Ion/\""
     ],
     "language": "python",
     "metadata": {},
     "outputs": [
      {
       "metadata": {},
       "output_type": "pyout",
       "prompt_number": 1,
       "text": [
        "\"/home/michaelepstein/Ion/\""
       ]
      }
     ],
     "prompt_number": 1
    },
    {
     "cell_type": "code",
     "collapsed": false,
     "input": [
      "\n",
      "cd(projbasedir)\n",
      "output_samples = \"/Output/ION_dCK_MultMH_Output_Final\"\n",
      "using MAT\n",
      "using Distributions\n",
      "using MCMCTypes\n",
      "using PyPlot"
     ],
     "language": "python",
     "metadata": {},
     "outputs": [],
     "prompt_number": 10
    },
    {
     "cell_type": "code",
     "collapsed": false,
     "input": [
      "# Function for updating parameters - Gibbs step 1\n",
      "include(string(projbasedir,\"MCMCUpdateParameters.jl\"))\n",
      "\n",
      "# Function for updating indicator - Gibbs step 2\n",
      "include(string(projbasedir,\"MCMCUpdateIndicator.jl\"))\n",
      "\n",
      "# Function for the main MCMC routine\n",
      "include(string(projbasedir,\"MCMCRun.jl\"))\n",
      "\n",
      "# Enum of Ion-channel models which can be created\n",
      "AvailableModels = include(string(projbasedir,\"ion/model/ModelEnum.jl\"))\n",
      "\n",
      "# Function to create available models\n",
      "include(string(projbasedir,\"ion/model/CreateModel.jl\"))\n",
      "\n",
      "# Function to parse matlab data files\n",
      "include(string(projbasedir,\"ion/data/MatlabParser.jl\"))\n",
      "\n",
      "Sampler             = \"MultMH\"\n",
      "OutputID            = \"Output/ION_dCK_MultMH_Output\"\n",
      "InitialStepSize     = 0.001 # MH stepsize\n",
      "NumOfIterations     = 100000\n",
      "\n",
      "NumOfProposals      = 1\n",
      "ProposalCovariance  = eye(4,4)\n",
      "InitialiseFromPrior = false # Sample starting parameters from prior\n",
      "\n",
      "# Define function for updating the parameters (1st Gibbs step)\n",
      "UpdateParasFunction     = UpdateParameters\n",
      "\n",
      "# Define function for sampling the indicator variable (2nd Gibbs step)\n",
      "SampleIndicatorFunction = SampleIndicator\n",
      "\n",
      "#create the dCK model\n",
      "model = CreateModel(AvailableModels.DCK)\n",
      "\n",
      "#data parsing from MATLAB experimental files\n",
      "\n",
      "datafile = string(projbasedir,\"ion/data/dCK.mat\")\n",
      "println(\"Parsing datafile $datafile\")\n",
      "data = MatlabParser(datafile)\n",
      "\n",
      "println(model.DefaultParas)\n",
      "println(string(\"Likelihood with default params = \", model.LLEval(model.DefaultParas,model,data)))\n",
      "println(string(\"Likelihood with generative params = \", model.LLEval([15000\t500\t1000\t5e8],model,data)))"
     ],
     "language": "python",
     "metadata": {},
     "outputs": [
      {
       "output_type": "stream",
       "stream": "stdout",
       "text": [
        "Creating del-Castillo-Katz Model. Params = 4, States = 3\n"
       ]
      },
      {
       "output_type": "stream",
       "stream": "stdout",
       "text": [
        "Parsing datafile /home/michaelepstein/Ion/ion/data/dCK.mat\n"
       ]
      },
      {
       "output_type": "stream",
       "stream": "stdout",
       "text": [
        "[100.0,100.0,1000.0,10000.0]\n",
        "Likelihood with default params = 71289.37232624197\n",
        "Likelihood with generative params = 126876.80989148282\n"
       ]
      }
     ],
     "prompt_number": 44
    },
    {
     "cell_type": "code",
     "collapsed": false,
     "input": [
      "MySimulation = MCMCSimulation( OutputID,\n",
      "                               Sampler,\n",
      "                               NumOfProposals,\n",
      "                               NumOfIterations,\n",
      "                               InitialStepSize,\n",
      "                               ProposalCovariance,\n",
      "                               InitialiseFromPrior,\n",
      "                               UpdateParasFunction,\n",
      "                               SampleIndicatorFunction,\n",
      "                               model,\n",
      "                               data,\n",
      "                               false)\n",
      "\n",
      "\n",
      "# Run the MCMC code, passing in the MCMCSimulation object\n",
      "MCMCRun( MySimulation );\n",
      "println(\"done\")"
     ],
     "language": "python",
     "metadata": {},
     "outputs": [
      {
       "output_type": "stream",
       "stream": "stdout",
       "text": [
        "Setting up Markov chain proposal...\n"
       ]
      },
      {
       "output_type": "stream",
       "stream": "stdout",
       "text": [
        "Creating chain object...\n",
        "Initialising..."
       ]
      },
      {
       "output_type": "stream",
       "stream": "stdout",
       "text": [
        "\n",
        "The chosen sampler is Multiplicative Metropolis-Hastings.\n",
        "Starting main MCMC routine...\n",
        "100"
       ]
      },
      {
       "output_type": "stream",
       "stream": "stdout",
       "text": [
        "\n",
        "LL = 88634.47822258012\n",
        "Param values 345.76310073495,96.89838938973803,607.718188596011,7630.586697638841\n",
        "0.5\n",
        "200"
       ]
      },
      {
       "output_type": "stream",
       "stream": "stdout",
       "text": [
        "\n",
        "LL = 101035.7739992797\n",
        "Param values 913.4088590743394,78.86768651437343,590.4874538525414,6841.624861401272\n",
        "0.494949494949495\n",
        "300"
       ]
      },
      {
       "output_type": "stream",
       "stream": "stdout",
       "text": [
        "\n",
        "LL = 114162.85119018589\n",
        "Param values 2570.737589042743,120.78119454624492,454.008437150237,7491.426816105385\n",
        "0.4966442953020134\n",
        "Local Acceptance Rate = 0.51Increasing StepSize to 0.0011\n",
        "400"
       ]
      },
      {
       "output_type": "stream",
       "stream": "stdout",
       "text": [
        "\n",
        "LL = 126454.46579417073\n",
        "Param values 11932.816824512038,174.42319609931295,561.8010904799639,6192.806469788826\n",
        "0.507537688442211\n",
        "Local Acceptance Rate = 0.55Increasing StepSize to 0.0012100000000000001\n",
        "500"
       ]
      },
      {
       "output_type": "stream",
       "stream": "stdout",
       "text": [
        "\n",
        "LL = 126847.74434345357\n",
        "Param values 14765.310892043984,251.24291910096525,570.7051639577128,6520.61227519722\n",
        "0.45582329317269077\n",
        "600"
       ]
      },
      {
       "output_type": "stream",
       "stream": "stdout",
       "text": [
        "\n",
        "LL = 126847.10415166254\n",
        "Param values 15047.19495615848,250.92025861402703,555.1709018514567,7182.977270494207\n",
        "0.4080267558528428\n",
        "700"
       ]
      },
      {
       "output_type": "stream",
       "stream": "stdout",
       "text": [
        "\n",
        "LL = 126844.43632952466\n",
        "Param values 14740.580021649368,252.25024772354115,599.8099339219888,7967.457832198463\n",
        "0.3667621776504298\n",
        "800"
       ]
      },
      {
       "output_type": "stream",
       "stream": "stdout",
       "text": [
        "\n",
        "LL = 126845.34924510327\n",
        "Param values 14840.058690994269,237.08427748055945,525.5041673320951,13811.434664693972\n",
        "0.3533834586466165\n",
        "900"
       ]
      },
      {
       "output_type": "stream",
       "stream": "stdout",
       "text": [
        "\n",
        "LL = 126844.58090243595\n",
        "Param values 14783.786365120206,266.0834712513972,594.8220034417401,14084.82521291308\n",
        "0.3307349665924276\n",
        "1000"
       ]
      },
      {
       "output_type": "stream",
       "stream": "stdout",
       "text": [
        "\n",
        "LL = 126846.96671161625\n",
        "Param values 14751.952006497468,246.23115342125956,576.5399275070789,13260.0887666198\n",
        "0.3066132264529058\n",
        "Local Acceptance Rate =  0.09Shrinking StepSize to 0.0010890000000000001\n",
        "1100"
       ]
      },
      {
       "output_type": "stream",
       "stream": "stdout",
       "text": [
        "\n",
        "LL = 126847.3485613009\n",
        "Param values 14846.836390870298,255.689504107343,585.7855176005744,12966.805214481315\n",
        "0.30145719489981787\n",
        "1200"
       ]
      },
      {
       "output_type": "stream",
       "stream": "stdout",
       "text": [
        "\n",
        "LL = 126846.61986215711\n",
        "Param values 14943.44607350031,238.33126354881531,535.8259745521632,15173.48944144762\n",
        "0.29632721202003337\n",
        "1300"
       ]
      },
      {
       "output_type": "stream",
       "stream": "stdout",
       "text": [
        "\n",
        "LL = 126846.08789646572\n",
        "Param values 14795.680512956911,253.9297381413425,594.4268857309205,16425.570018757746\n",
        "0.2827426810477658\n",
        "1400"
       ]
      },
      {
       "output_type": "stream",
       "stream": "stdout",
       "text": [
        "\n",
        "LL = 126847.17392872524\n",
        "Param values 14708.696599312012,250.2705359746353,562.8444025239811,21411.67971132703\n",
        "0.27896995708154504\n",
        "1500"
       ]
      },
      {
       "output_type": "stream",
       "stream": "stdout",
       "text": [
        "\n",
        "LL = 126846.4940782665\n",
        "Param values 14998.098761197043,259.5380638471072,569.1126271663086,28284.39678742914\n",
        "0.27236315086782376\n",
        "1600"
       ]
      },
      {
       "output_type": "stream",
       "stream": "stdout",
       "text": [
        "\n",
        "LL = 126847.64687037225\n",
        "Param values 15013.061733218165,250.6259578635299,574.870983122044,26220.706050319273\n",
        "0.2672090112640801\n",
        "1700"
       ]
      },
      {
       "output_type": "stream",
       "stream": "stdout",
       "text": [
        "\n",
        "LL = 126847.91591936261\n",
        "Param values 14873.061867361144,247.84100086961988,574.4785911171501,24328.80760638224\n",
        "0.26148409893992935\n",
        "1800"
       ]
      },
      {
       "output_type": "stream",
       "stream": "stdout",
       "text": [
        "\n",
        "LL = 126847.90413274558\n",
        "Param values 14836.601162208099,247.59135690669893,552.7264788503251,22615.776057802093\n",
        "0.25305895439377085\n",
        "1900"
       ]
      },
      {
       "output_type": "stream",
       "stream": "stdout",
       "text": [
        "\n",
        "LL = 126847.86977788627\n",
        "Param values 15003.610997893362,252.65123979807328,571.3420882058252,20651.036442432764\n",
        "0.24920969441517388\n",
        "2000"
       ]
      },
      {
       "output_type": "stream",
       "stream": "stdout",
       "text": [
        "\n",
        "LL = 126848.06675681504\n",
        "Param values 14972.716327940327,249.58656487903946,570.3343512924749,17951.297867502526\n",
        "0.24674674674674674\n",
        "2100"
       ]
      },
      {
       "output_type": "stream",
       "stream": "stdout",
       "text": [
        "\n",
        "LL = 126848.17015930529\n",
        "Param values 14971.07531501463,250.4536583547229,566.9811042167526,19381.23676248364\n",
        "0.2430886558627264\n",
        "2200"
       ]
      },
      {
       "output_type": "stream",
       "stream": "stdout",
       "text": [
        "\n",
        "LL = 126846.3379763138\n",
        "Param values 14992.01050224782,258.79829023801597,564.947401127549,18306.6696350978\n",
        "0.23930846223839855\n",
        "2300"
       ]
      },
      {
       "output_type": "stream",
       "stream": "stdout",
       "text": [
        "\n",
        "LL = 126848.12264816454\n",
        "Param values 14940.896053652541,245.18841315514206,561.9124429324589,17919.053269516273\n",
        "0.2328111401218451\n",
        "2400"
       ]
      },
      {
       "output_type": "stream",
       "stream": "stdout",
       "text": [
        "\n",
        "LL = 126846.11610567401\n",
        "Param values 15097.199284691742,248.04770052986018,576.921583392459,18932.4955547303\n",
        "0.2285237698081735\n",
        "2500"
       ]
      },
      {
       "output_type": "stream",
       "stream": "stdout",
       "text": [
        "\n",
        "LL = 126848.36215058468\n",
        "Param values 14867.601116300344,246.9894329380164,560.9047794118221,17527.549503020284\n",
        "0.22658126501200962\n",
        "2600"
       ]
      },
      {
       "output_type": "stream",
       "stream": "stdout",
       "text": [
        "\n",
        "LL = 126846.79019569118\n",
        "Param values 15030.95000517671,239.92051495044387,546.6679716206478,19324.99660670536\n",
        "0.2228637413394919\n",
        "2700"
       ]
      },
      {
       "output_type": "stream",
       "stream": "stdout",
       "text": [
        "\n",
        "LL = 126846.55592972554\n",
        "Param values 14988.570960343839,259.59854276040295,590.9941051292019,17751.018627110185\n",
        "0.2190511489992587\n",
        "2800"
       ]
      },
      {
       "output_type": "stream",
       "stream": "stdout",
       "text": [
        "\n",
        "LL = 126847.00249449951\n",
        "Param values 14848.152996136592,241.65587859770307,538.248247053091,19273.628721752106\n",
        "0.21837026447462474\n",
        "2900"
       ]
      },
      {
       "output_type": "stream",
       "stream": "stdout",
       "text": [
        "\n",
        "LL = 126847.37768644108\n",
        "Param values 14928.959300413731,256.84210532060274,585.4996078962574,19416.52117198256\n",
        "0.21566597653554176\n",
        "3000"
       ]
      },
      {
       "output_type": "stream",
       "stream": "stdout",
       "text": [
        "\n",
        "LL = 126847.74630446649\n",
        "Param values 14942.809359404428,255.95793372065367,578.1409045313364,18470.361773188848\n",
        "0.2141427618412275\n",
        "3100"
       ]
      },
      {
       "output_type": "stream",
       "stream": "stdout",
       "text": [
        "\n",
        "LL = 126847.41554315334\n",
        "Param values 14728.212283677569,242.74147894057168,556.2736535626458,25239.359168113486\n",
        "0.21110393802453195\n",
        "3200"
       ]
      },
      {
       "output_type": "stream",
       "stream": "stdout",
       "text": [
        "\n",
        "LL = 126848.08117815976\n",
        "Param values 14980.034673131864,248.22430469940312,567.0941445309464,25026.124880286603\n",
        "0.20919324577861162\n",
        "3300"
       ]
      },
      {
       "output_type": "stream",
       "stream": "stdout",
       "text": [
        "\n",
        "LL = 126847.57524312755\n",
        "Param values 14832.871784726864,247.42167578577144,576.7900226470333,22563.67364051806\n",
        "0.20709520921770772\n",
        "3400"
       ]
      },
      {
       "output_type": "stream",
       "stream": "stdout",
       "text": [
        "\n",
        "LL = 126845.99270902347\n",
        "Param values 15114.79780651383,253.3019108550353,555.2959472780194,25706.067946397052\n",
        "0.2062978222483814\n",
        "3500"
       ]
      },
      {
       "output_type": "stream",
       "stream": "stdout",
       "text": [
        "\n",
        "LL = 126847.24214110037\n",
        "Param values 15076.27614259253,247.1613025624941,562.5572351590474,19923.10742640246\n",
        "0.20497427101200685\n",
        "3600"
       ]
      },
      {
       "output_type": "stream",
       "stream": "stdout",
       "text": [
        "\n",
        "LL = 126847.89021290066\n",
        "Param values 14810.478782538707,249.76537917987434,575.2795709760372,15387.756408531332\n",
        "0.2045580878265703\n",
        "3700"
       ]
      },
      {
       "output_type": "stream",
       "stream": "stdout",
       "text": [
        "\n",
        "LL = 126848.08269683122\n",
        "Param values 14893.127822598039,244.7866710490563,551.5679861060823,14299.859692689204\n",
        "0.2047052460789616\n",
        "3800"
       ]
      },
      {
       "output_type": "stream",
       "stream": "stdout",
       "text": [
        "\n",
        "LL = 126847.67019086274\n",
        "Param values 14816.776169464669,254.14979667942347,567.6725292441732,13041.462222206443\n",
        "0.20326487625065823\n",
        "3900"
       ]
      },
      {
       "output_type": "stream",
       "stream": "stdout",
       "text": [
        "\n",
        "LL = 126845.60543279025\n",
        "Param values 14682.651740808584,242.84047516471568,538.7301683643883,14952.217663091411\n",
        "0.2039507439712673\n",
        "4000"
       ]
      },
      {
       "output_type": "stream",
       "stream": "stdout",
       "text": [
        "\n",
        "LL = 126847.87417939315\n",
        "Param values 14921.034405813985,255.21769452064117,577.1685212802846,14898.897843064218\n",
        "0.2036018009004502\n",
        "4100"
       ]
      },
      {
       "output_type": "stream",
       "stream": "stdout",
       "text": [
        "\n",
        "LL = 126845.41179515103\n",
        "Param values 15112.718269624882,260.5445422526669,570.8143198140813,22097.17087586358\n",
        "0.20400195217179112\n",
        "4200"
       ]
      },
      {
       "output_type": "stream",
       "stream": "stdout",
       "text": [
        "\n",
        "LL = 126845.4290297061\n",
        "Param values 15131.2990362858,247.8219639878421,577.9796753635619,23939.67934595846\n",
        "0.20462124821343497\n",
        "4300"
       ]
      },
      {
       "output_type": "stream",
       "stream": "stdout",
       "text": [
        "\n",
        "LL = 126847.58301803285\n",
        "Param values 14842.448811071372,248.61761473801928,578.8808008310625,24564.542944566474\n",
        "0.20241973010702652\n",
        "4400"
       ]
      },
      {
       "output_type": "stream",
       "stream": "stdout",
       "text": [
        "\n",
        "LL = 126845.4922973301\n",
        "Param values 14839.518192929305,254.28213625535702,599.2377695858089,23403.229626636214\n",
        "0.20100045475216008\n",
        "4500"
       ]
      },
      {
       "output_type": "stream",
       "stream": "stdout",
       "text": [
        "\n",
        "LL = 126847.8054430285\n",
        "Param values 14980.754311168355,253.6499982694557,577.1883052091971,23583.11810008796\n",
        "0.19986660738105824\n",
        "4600"
       ]
      },
      {
       "output_type": "stream",
       "stream": "stdout",
       "text": [
        "\n",
        "LL = 126847.58391952809\n",
        "Param values 14873.792297706717,251.4880208653038,582.721392338864,25183.076854630104\n",
        "0.2005219660722053\n",
        "4700"
       ]
      },
      {
       "output_type": "stream",
       "stream": "stdout",
       "text": [
        "\n",
        "LL = 126846.29681573402\n",
        "Param values 14894.298245299331,250.20077163425955,543.7507975246172,22779.0525077125\n",
        "0.19859514687100893\n",
        "4800"
       ]
      },
      {
       "output_type": "stream",
       "stream": "stdout",
       "text": [
        "\n",
        "LL = 126846.85838411657\n",
        "Param values 14998.611608434452,250.53948041795292,548.9911663255551,21450.695013116783\n",
        "0.19591496456857024\n",
        "Local Acceptance Rate =  0.08Shrinking StepSize to 0.0009801000000000002\n",
        "4900"
       ]
      },
      {
       "output_type": "stream",
       "stream": "stdout",
       "text": [
        "\n",
        "LL = 126846.42673246634\n",
        "Param values 15041.311342945803,259.06413929591423,588.6328440105328,19602.905478424924\n",
        "0.19640669661086158\n",
        "5000"
       ]
      },
      {
       "output_type": "stream",
       "stream": "stdout",
       "text": [
        "\n",
        "LL = 126846.97389868347\n",
        "Param values 14674.129225721852,247.7319614024162,564.2611253442961,17658.44195602558\n",
        "0.195078031212485\n",
        "5100"
       ]
      },
      {
       "output_type": "stream",
       "stream": "stdout",
       "text": [
        "\n",
        "LL = 126847.29953408711\n",
        "Param values 14716.81119686049,249.15931866084617,560.6796985143492,16761.666519960847\n",
        "0.19576304433111025\n",
        "5200"
       ]
      },
      {
       "output_type": "stream",
       "stream": "stdout",
       "text": [
        "\n",
        "LL = 126846.7309989241\n",
        "Param values 14686.520858775359,249.24251271368888,557.6824179859713,18264.27489168321\n",
        "0.19507502885725278\n",
        "5300"
       ]
      },
      {
       "output_type": "stream",
       "stream": "stdout",
       "text": [
        "\n",
        "LL = 126848.34536555945\n",
        "Param values 14922.561527991222,249.6178243410423,566.7251110292171,18079.809180686265\n",
        "0.1934692336730842\n",
        "5400"
       ]
      },
      {
       "output_type": "stream",
       "stream": "stdout",
       "text": [
        "\n",
        "LL = 126846.09024857743\n",
        "Param values 15107.398609633947,254.50919388293406,584.60292772775,19626.63944552596\n",
        "0.1915524268247499\n",
        "5500"
       ]
      },
      {
       "output_type": "stream",
       "stream": "stdout",
       "text": [
        "\n",
        "LL = 126844.76044396039\n",
        "Param values 14834.313906155097,231.02096333142484,526.4670393341268,22221.296253917917\n",
        "0.19097853765005457\n",
        "5600"
       ]
      },
      {
       "output_type": "stream",
       "stream": "stdout",
       "text": [
        "\n",
        "LL = 126845.36809811713\n",
        "Param values 14881.52753790778,263.504757055435,601.2113359519869,21141.058745092876\n",
        "0.1902465166130761\n",
        "5700"
       ]
      },
      {
       "output_type": "stream",
       "stream": "stdout",
       "text": [
        "\n",
        "LL = 126845.84007410206\n",
        "Param values 15045.047371181407,263.0293818754457,585.4482614091678,21575.312554162752\n",
        "0.18883818883818884\n",
        "5800"
       ]
      },
      {
       "output_type": "stream",
       "stream": "stdout",
       "text": [
        "\n",
        "LL = 126845.83871753409\n",
        "Param values 14911.606696125686,261.1223184832174,567.9920236761159,19205.88964081319\n",
        "0.1871334943083822\n",
        "5900"
       ]
      },
      {
       "output_type": "stream",
       "stream": "stdout",
       "text": [
        "\n",
        "LL = 126848.3443257927\n",
        "Param values 14846.253692015904,247.7921271004454,563.4054651532113,19137.030159507358\n",
        "0.1863343506273313\n",
        "6000"
       ]
      },
      {
       "output_type": "stream",
       "stream": "stdout",
       "text": [
        "\n",
        "LL = 126847.14211135895\n",
        "Param values 14997.619714740107,247.17756104251168,575.7885279558653,17824.763212578437\n",
        "0.18489496498832944\n",
        "6100"
       ]
      },
      {
       "output_type": "stream",
       "stream": "stdout",
       "text": [
        "\n",
        "LL = 126847.02123263468\n",
        "Param values 14800.866231590187,257.98501175774646,576.241953299937,16162.974976317626\n",
        "0.1849786815349295\n",
        "6200"
       ]
      },
      {
       "output_type": "stream",
       "stream": "stdout",
       "text": [
        "\n",
        "LL = 126846.73326267746\n",
        "Param values 14752.208097500357,255.55626943431483,566.5668403881646,14091.143122508012\n",
        "0.1850596966763472\n",
        "6300"
       ]
      },
      {
       "output_type": "stream",
       "stream": "stdout",
       "text": [
        "\n",
        "LL = 126848.0193714584\n",
        "Param values 14957.307846473668,252.21285687839142,564.0773222940668,12700.785092961474\n",
        "0.18482057796125753\n",
        "6400"
       ]
      },
      {
       "output_type": "stream",
       "stream": "stdout",
       "text": [
        "\n",
        "LL = 126846.21199910491\n",
        "Param values 14792.605643909972,260.9808177885473,580.1686397960365,12321.50301000004\n",
        "0.18365114098155674\n",
        "6500"
       ]
      },
      {
       "output_type": "stream",
       "stream": "stdout",
       "text": [
        "\n",
        "LL = 126847.50527077955\n",
        "Param values 14936.507049498588,243.45437350817738,544.0593117509517,12220.0436817173\n",
        "0.18359495229301323\n",
        "6600"
       ]
      },
      {
       "output_type": "stream",
       "stream": "stdout",
       "text": [
        "\n",
        "LL = 126846.34956018\n",
        "Param values 14926.961937479498,242.06923130553244,533.6392827603308,14899.693456579835\n",
        "0.18354046680812366\n",
        "6700"
       ]
      },
      {
       "output_type": "stream",
       "stream": "stdout",
       "text": [
        "\n",
        "LL = 126847.77286694561\n",
        "Param values 14787.664589429247,245.13188490645646,551.8164284487809,14878.76140282437\n",
        "0.18303971334726785\n",
        "6800"
       ]
      },
      {
       "output_type": "stream",
       "stream": "stdout",
       "text": [
        "\n",
        "LL = 126846.94267124048\n",
        "Param values 14892.482748037404,253.14558166285147,589.2719752708139,14429.177493216243\n",
        "0.18255369226243012\n",
        "6900"
       ]
      },
      {
       "output_type": "stream",
       "stream": "stdout",
       "text": [
        "\n",
        "LL = 126846.4620986678\n",
        "Param values 15101.899242654776,246.13014176133908,568.2473601529407,13142.287475173798\n",
        "0.18338648883734415\n",
        "7000"
       ]
      },
      {
       "output_type": "stream",
       "stream": "stdout",
       "text": [
        "\n",
        "LL = 126845.09499086365\n",
        "Param values 14844.824734650616,244.70260535620943,587.1720565352366,17838.35758170789\n",
        "0.18405258645327235\n",
        "7100"
       ]
      },
      {
       "output_type": "stream",
       "stream": "stdout",
       "text": [
        "\n",
        "LL = 126847.82523313283\n",
        "Param values 14952.776969546363,248.0046824948725,551.9633421642906,19881.147146055373\n",
        "0.18315018315018314\n",
        "7200"
       ]
      },
      {
       "output_type": "stream",
       "stream": "stdout",
       "text": [
        "\n",
        "LL = 126847.81504493077\n",
        "Param values 14974.08556792673,244.7838975572759,550.4978776118809,21033.10645177829\n",
        "0.18310641844956932\n",
        "7300"
       ]
      },
      {
       "output_type": "stream",
       "stream": "stdout",
       "text": [
        "\n",
        "LL = 126847.4105736517\n",
        "Param values 14851.624233646044,241.56986191053744,564.5667994508528,23471.267846945237\n",
        "0.18237873389969855\n",
        "7400"
       ]
      },
      {
       "output_type": "stream",
       "stream": "stdout",
       "text": [
        "\n",
        "LL = 126848.31872583111\n",
        "Param values 14887.70336764133,245.86142453710383,557.4567462147553,22191.729407895466\n",
        "0.1816707218167072\n",
        "7500"
       ]
      },
      {
       "output_type": "stream",
       "stream": "stdout",
       "text": [
        "\n",
        "LL = 126845.77567299867\n",
        "Param values 15118.716693959872,246.7386161706717,574.4288573676791,20521.816484702766\n",
        "0.18098159509202455\n",
        "7600"
       ]
      },
      {
       "output_type": "stream",
       "stream": "stdout",
       "text": [
        "\n",
        "LL = 126845.14150482025\n",
        "Param values 14833.127865226588,265.2874340194849,596.6938952415298,18513.299603975305\n",
        "0.18110028954988155\n",
        "7700"
       ]
      },
      {
       "output_type": "stream",
       "stream": "stdout",
       "text": [
        "\n",
        "LL = 126845.1179221919\n",
        "Param values 15062.006377099813,263.22891092406223,596.9128314513247,13437.177714792\n",
        "0.18134580410496232\n",
        "7800"
       ]
      },
      {
       "output_type": "stream",
       "stream": "stdout",
       "text": [
        "\n",
        "LL = 126847.48798718791\n",
        "Param values 14991.288600025779,250.004082661345,577.6037792851724,12521.044236329719\n",
        "0.1822262118491921\n",
        "7900"
       ]
      },
      {
       "output_type": "stream",
       "stream": "stdout",
       "text": [
        "\n",
        "LL = 126846.55757848207\n",
        "Param values 14678.67440668212,246.62230698828594,574.3116057039887,14777.279442610106\n",
        "0.18169156748543935\n",
        "8000"
       ]
      },
      {
       "output_type": "stream",
       "stream": "stdout",
       "text": [
        "\n",
        "LL = 126846.86421402665\n",
        "Param values 14932.242154002848,240.31641221019268,563.8016024324327,13199.635938672363\n",
        "0.18154538634658665\n",
        "8100"
       ]
      },
      {
       "output_type": "stream",
       "stream": "stdout",
       "text": [
        "\n",
        "LL = 126846.62449606137\n",
        "Param values 14778.300618959956,254.31149965581446,559.0670368942641,11980.606339275986\n",
        "0.18103235366757223\n",
        "8200"
       ]
      },
      {
       "output_type": "stream",
       "stream": "stdout",
       "text": [
        "\n",
        "LL = 126846.91067252519\n",
        "Param values 14719.260220809489,241.52503369750548,546.3243714635071,13517.759615472693\n",
        "0.18065381800439131\n",
        "8300"
       ]
      },
      {
       "output_type": "stream",
       "stream": "stdout",
       "text": [
        "\n",
        "LL = 126848.24150455096\n",
        "Param values 14927.221871159432,251.72906352347465,568.2484778769347,14402.885043821403\n",
        "0.1799228729814413\n",
        "8400"
       ]
      },
      {
       "output_type": "stream",
       "stream": "stdout",
       "text": [
        "\n",
        "LL = 126846.50047429425\n",
        "Param values 14822.712123576644,260.68136373169125,579.3073600501782,13237.059103247646\n",
        "0.18016194331983806\n",
        "8500"
       ]
      },
      {
       "output_type": "stream",
       "stream": "stdout",
       "text": [
        "\n",
        "LL = 126846.04368300854\n",
        "Param values 14746.388143831402,235.07914748941948,539.5706906045342,12300.53649718345\n",
        "0.1791009649329254\n",
        "8600"
       ]
      },
      {
       "output_type": "stream",
       "stream": "stdout",
       "text": [
        "\n",
        "LL = 126847.46938245073\n",
        "Param values 14945.279784528571,256.13728687275255,567.364668362444,11914.621743515982\n",
        "0.17876250290765294\n",
        "8700"
       ]
      },
      {
       "output_type": "stream",
       "stream": "stdout",
       "text": [
        "\n",
        "LL = 126846.60866248657\n",
        "Param values 14752.813641668105,236.94070689763066,547.8111706510405,10572.516502467228\n",
        "0.17854679236606116\n",
        "8800"
       ]
      },
      {
       "output_type": "stream",
       "stream": "stdout",
       "text": [
        "\n",
        "LL = 126847.51450726755\n",
        "Param values 15054.832514992919,248.09633416713956,561.4222212596932,9889.985974228513\n",
        "0.17822232325528528\n",
        "8900"
       ]
      },
      {
       "output_type": "stream",
       "stream": "stdout",
       "text": [
        "\n",
        "LL = 126847.33006297357\n",
        "Param values 14838.10289139148,257.57540815955105,581.2610144869358,11022.858178058937\n",
        "0.1779051472240953\n",
        "9000"
       ]
      },
      {
       "output_type": "stream",
       "stream": "stdout",
       "text": [
        "\n",
        "LL = 126846.0167859808\n",
        "Param values 14816.160982441586,262.42697951122483,589.3695246910767,10697.34048280494\n",
        "0.1770393420760169\n",
        "9100"
       ]
      },
      {
       "output_type": "stream",
       "stream": "stdout",
       "text": [
        "\n",
        "LL = 126846.11126942972\n",
        "Param values 14667.966744110165,246.98806691034233,578.0096881925798,9699.830867255172\n",
        "0.17641239832930314\n",
        "9200"
       ]
      },
      {
       "output_type": "stream",
       "stream": "stdout",
       "text": [
        "\n",
        "LL = 126847.68095328842\n",
        "Param values 14938.678314508496,254.86724528963927,565.8968326389061,10212.649387036103\n",
        "0.17634268319199825\n",
        "9300"
       ]
      },
      {
       "output_type": "stream",
       "stream": "stdout",
       "text": [
        "\n",
        "LL = 126847.54011599414\n",
        "Param values 14981.153628048774,243.34755019434974,547.0695570901777,13739.582949688076\n",
        "0.17648956764895676\n",
        "9400"
       ]
      },
      {
       "output_type": "stream",
       "stream": "stdout",
       "text": [
        "\n",
        "LL = 126847.25440075384\n",
        "Param values 14928.423289930948,240.75577328388601,561.2976970345582,13473.461610204238\n",
        "0.1759948925303256\n",
        "9500"
       ]
      },
      {
       "output_type": "stream",
       "stream": "stdout",
       "text": [
        "\n",
        "LL = 126845.43481245963\n",
        "Param values 14933.592669742717,240.08122334465654,573.2716802456536,12128.13932994474\n",
        "0.1757212044640977\n",
        "9600"
       ]
      },
      {
       "output_type": "stream",
       "stream": "stdout",
       "text": [
        "\n",
        "LL = 126846.11583656851\n",
        "Param values 14887.733896352001,263.31414669898453,587.2668092308382,11248.284412035431\n",
        "0.17534903104813504\n",
        "9700"
       ]
      },
      {
       "output_type": "stream",
       "stream": "stdout",
       "text": [
        "\n",
        "LL = 126847.42553363944\n",
        "Param values 14974.698805600092,241.84441393764192,559.1489305009393,12321.582480501382\n",
        "0.17570633120230975\n",
        "9800"
       ]
      },
      {
       "output_type": "stream",
       "stream": "stdout",
       "text": [
        "\n",
        "LL = 126846.68385661734\n",
        "Param values 15082.70061025046,257.1227862343492,574.0416159823184,9968.922330270927\n",
        "0.17575015309246786\n",
        "9900"
       ]
      },
      {
       "output_type": "stream",
       "stream": "stdout",
       "text": [
        "\n",
        "LL = 126847.83498765477\n",
        "Param values 15001.172971566968,249.67276610271577,571.1224104032215,10324.757678233922\n",
        "0.17498484542331785\n",
        "10000"
       ]
      },
      {
       "output_type": "stream",
       "stream": "stdout",
       "text": [
        "\n",
        "LL = 126846.97744477676\n",
        "Param values 14956.569975133998,249.2579105098466,582.7810971530287,10633.542719086436\n",
        "0.17423484696939387\n",
        "10100"
       ]
      },
      {
       "output_type": "stream",
       "stream": "stdout",
       "text": [
        "\n",
        "LL = 126847.70626493981\n",
        "Param values 14851.624539986737,241.9005989087526,561.2651370811304,13176.77867738238\n",
        "0.17429193899782136\n",
        "10200"
       ]
      },
      {
       "output_type": "stream",
       "stream": "stdout",
       "text": [
        "\n",
        "LL = 126847.43058243398\n",
        "Param values 14936.520077288433,253.7782394051946,584.6881733048999,13060.698433330315\n",
        "0.17444596979799962\n",
        "10300"
       ]
      },
      {
       "output_type": "stream",
       "stream": "stdout",
       "text": [
        "\n",
        "LL = 126847.01173080357\n",
        "Param values 14726.161389496237,247.51533220950824,576.2323714830003,13294.736318825071\n",
        "0.17440279665954556\n",
        "10400"
       ]
      },
      {
       "output_type": "stream",
       "stream": "stdout",
       "text": [
        "\n",
        "LL = 126847.12348155443\n",
        "Param values 14802.363410426058,255.71101359955412,566.4421266453708,14080.61012095274\n",
        "0.1749374879784574\n",
        "10500"
       ]
      },
      {
       "output_type": "stream",
       "stream": "stdout",
       "text": [
        "\n",
        "LL = 126847.03422701788\n",
        "Param values 14754.351492426727,254.11987334646068,583.6260661182616,16258.348585613323\n",
        "0.17489045532482378\n",
        "10600"
       ]
      },
      {
       "output_type": "stream",
       "stream": "stdout",
       "text": [
        "\n",
        "LL = 126847.08372106384\n",
        "Param values 14807.361464574187,257.06907330743064,585.8955872210793,17220.5116757585\n",
        "0.17446688054349876\n",
        "10700"
       ]
      },
      {
       "output_type": "stream",
       "stream": "stdout",
       "text": [
        "\n",
        "LL = 126847.42176805848\n",
        "Param values 14769.62160353411,253.85933175584762,579.5271640511197,21115.88193075003\n",
        "0.17405122452794916\n",
        "10800"
       ]
      },
      {
       "output_type": "stream",
       "stream": "stdout",
       "text": [
        "\n",
        "LL = 126845.96121186936\n",
        "Param values 14924.240994294469,263.00921540393,577.2969294479462,18389.4843495035\n",
        "0.17382848675680682\n",
        "10900"
       ]
      },
      {
       "output_type": "stream",
       "stream": "stdout",
       "text": [
        "\n",
        "LL = 126843.11122890997\n",
        "Param values 15027.285144003197,270.51200071075345,587.356119345256,18576.491953266082\n",
        "0.1740686364470545\n",
        "11000"
       ]
      },
      {
       "output_type": "stream",
       "stream": "stdout",
       "text": [
        "\n",
        "LL = 126847.70494739136\n",
        "Param values 14791.936795140089,252.5976972719305,577.8935965144152,19387.196221061735\n",
        "0.173940716493908\n",
        "11100"
       ]
      },
      {
       "output_type": "stream",
       "stream": "stdout",
       "text": [
        "\n",
        "LL = 126846.73911130056\n",
        "Param values 14873.138387735462,244.50166851094636,577.6895816413689,21394.34712006346\n",
        "0.17390520814561183\n",
        "11200"
       ]
      },
      {
       "output_type": "stream",
       "stream": "stdout",
       "text": [
        "\n",
        "LL = 126846.24672347533\n",
        "Param values 15043.92077992661,256.49098552295936,559.6889166007342,17205.814682537857\n",
        "0.17413823897124486\n",
        "11300"
       ]
      },
      {
       "output_type": "stream",
       "stream": "stdout",
       "text": [
        "\n",
        "LL = 126847.3002437871\n",
        "Param values 14946.418755207073,245.56321733668756,543.7573078585115,18714.904205435716\n",
        "0.17401309966365727\n",
        "11400"
       ]
      },
      {
       "output_type": "stream",
       "stream": "stdout",
       "text": [
        "\n",
        "LL = 126848.26307460871\n",
        "Param values 14829.399384341437,249.52421320635145,566.97440641219,18591.440181281803\n",
        "0.17336374802596946\n",
        "11500"
       ]
      },
      {
       "output_type": "stream",
       "stream": "stdout",
       "text": [
        "\n",
        "LL = 126847.75995841343\n",
        "Param values 14912.152652831923,248.93074164447916,551.9115775152814,18549.064198727905\n",
        "0.17281266307183857\n",
        "11600"
       ]
      },
      {
       "output_type": "stream",
       "stream": "stdout",
       "text": [
        "\n",
        "LL = 126847.33068160748\n",
        "Param values 14984.40428811347,241.46957004968706,558.1880279401818,18776.61029748487\n",
        "0.17321952060700122\n",
        "11700"
       ]
      },
      {
       "output_type": "stream",
       "stream": "stdout",
       "text": [
        "\n",
        "LL = 126847.71896746824\n",
        "Param values 14899.873499821793,254.7970621557973,581.9636010125656,14814.371706031841\n",
        "0.17319199863224483\n",
        "11800"
       ]
      },
      {
       "output_type": "stream",
       "stream": "stdout",
       "text": [
        "\n",
        "LL = 126845.93297702594\n",
        "Param values 14784.691919630694,260.31192390948763,594.8934545040769,18968.81187122968\n",
        "0.17350398372605527\n",
        "11900"
       ]
      },
      {
       "output_type": "stream",
       "stream": "stdout",
       "text": [
        "\n",
        "LL = 126845.10552331088\n",
        "Param values 15197.393150182648,257.2187775437447,574.5998012075947,17839.541213609184\n",
        "0.17339048579593208\n",
        "12000"
       ]
      },
      {
       "output_type": "stream",
       "stream": "stdout",
       "text": [
        "\n",
        "LL = 126846.14821577941\n",
        "Param values 14851.493657762128,240.08136359213532,531.252356409301,18046.865437167206\n",
        "0.17311218536422737\n",
        "12100"
       ]
      },
      {
       "output_type": "stream",
       "stream": "stdout",
       "text": [
        "\n",
        "LL = 126847.58000399305\n",
        "Param values 14734.125772839452,249.75785060243953,564.9686206639691,20586.758317918793\n",
        "0.17308646057199537\n",
        "12200"
       ]
      },
      {
       "output_type": "stream",
       "stream": "stdout",
       "text": [
        "\n",
        "LL = 126845.4963340413\n",
        "Param values 14853.265033254142,264.60664312047385,595.3779172859955,23134.725221841996\n",
        "0.17256927365141828\n",
        "12300"
       ]
      },
      {
       "output_type": "stream",
       "stream": "stdout",
       "text": [
        "\n",
        "LL = 126847.46785711733\n",
        "Param values 14796.751456173924,248.55804650706273,578.3439074360672,20733.133695414293\n",
        "0.17254838185070742\n",
        "12400"
       ]
      },
      {
       "output_type": "stream",
       "stream": "stdout",
       "text": [
        "\n",
        "LL = 126847.33431476516\n",
        "Param values 14945.375011440841,245.58436283588492,573.8300589855678,20878.24459628512\n",
        "0.1723665107275367\n",
        "12500"
       ]
      },
      {
       "output_type": "stream",
       "stream": "stdout",
       "text": [
        "\n",
        "LL = 126846.23284876537\n",
        "Param values 15002.63291886075,238.5562267610851,558.5861146454238,22688.087420945027\n",
        "0.1717074731957113\n",
        "12600"
       ]
      },
      {
       "output_type": "stream",
       "stream": "stdout",
       "text": [
        "\n",
        "LL = 126847.32864761945\n",
        "Param values 14845.792181722318,256.5865065475832,568.6809513918745,25311.975491234683\n",
        "0.17129703127480553\n",
        "12700"
       ]
      },
      {
       "output_type": "stream",
       "stream": "stdout",
       "text": [
        "\n",
        "LL = 126847.49203189978\n",
        "Param values 14770.269427814803,240.64557165969495,551.7807752577361,31600.168305143143\n",
        "0.17105055914317216\n",
        "12800"
       ]
      },
      {
       "output_type": "stream",
       "stream": "stdout",
       "text": [
        "\n",
        "LL = 126848.25542185367\n",
        "Param values 14933.212451151341,250.95468076330346,571.8094516557367,32692.860088144098\n",
        "0.1705735271136115\n",
        "12900"
       ]
      },
      {
       "output_type": "stream",
       "stream": "stdout",
       "text": [
        "\n",
        "LL = 126847.86989225658\n",
        "Param values 14785.315874418751,247.19880336700643,570.9418888792317,32630.989336905404\n",
        "0.16994882927585672\n",
        "13000"
       ]
      },
      {
       "output_type": "stream",
       "stream": "stdout",
       "text": [
        "\n",
        "LL = 126848.32748984123\n",
        "Param values 14838.11272380087,247.89951003832545,560.3868023064716,35562.75473015976\n",
        "0.1704877673488229\n",
        "13100"
       ]
      },
      {
       "output_type": "stream",
       "stream": "stdout",
       "text": [
        "\n",
        "LL = 126846.80503146701\n",
        "Param values 14967.349440643677,260.8236701385269,580.218143166778,32905.55040917445\n",
        "0.1706367384333486\n",
        "13200"
       ]
      },
      {
       "output_type": "stream",
       "stream": "stdout",
       "text": [
        "\n",
        "LL = 126848.29988359682\n",
        "Param values 14907.539540422733,245.92112015298102,555.9803516106058,33190.976680623295\n",
        "0.1710107592059403\n",
        "13300"
       ]
      },
      {
       "output_type": "stream",
       "stream": "stdout",
       "text": [
        "\n",
        "LL = 126846.63675850567\n",
        "Param values 14988.340701403464,260.1783263261183,589.9464456318796,37977.12626841961\n",
        "0.17070236125733193\n",
        "13400"
       ]
      },
      {
       "output_type": "stream",
       "stream": "stdout",
       "text": [
        "\n",
        "LL = 126845.65023758018\n",
        "Param values 14879.812489159716,232.55908413152423,540.2840895869373,34658.89214855491\n",
        "0.17069711897298104\n",
        "13500"
       ]
      },
      {
       "output_type": "stream",
       "stream": "stdout",
       "text": [
        "\n",
        "LL = 126848.3890056643\n",
        "Param values 14903.631779034426,246.2863732160379,560.0471453144188,36836.19651438213\n",
        "0.1703215291154245\n",
        "13600"
       ]
      },
      {
       "output_type": "stream",
       "stream": "stdout",
       "text": [
        "\n",
        "LL = 126845.66712330833\n",
        "Param values 14737.166105671953,261.46819186418327,583.3338466905027,38686.85868967233\n",
        "0.16995146345050743\n",
        "13700"
       ]
      },
      {
       "output_type": "stream",
       "stream": "stdout",
       "text": [
        "\n",
        "LL = 126848.29292785867\n",
        "Param values 14901.257708326058,251.0147846127486,572.8101305486676,38569.01502233017\n",
        "0.17031683457439042\n",
        "13800"
       ]
      },
      {
       "output_type": "stream",
       "stream": "stdout",
       "text": [
        "\n",
        "LL = 126848.40831503748\n",
        "Param values 14863.303566436805,247.8106215805797,561.0614364961956,36275.79738850855\n",
        "0.169589795622554\n",
        "Local Acceptance Rate =  0.08Shrinking StepSize to 0.0008820900000000002\n",
        "13900"
       ]
      },
      {
       "output_type": "stream",
       "stream": "stdout",
       "text": [
        "\n",
        "LL = 126847.32845997602\n",
        "Param values 14861.925662204527,255.06872665344548,587.4636444308961,37759.66230190765\n",
        "0.16923298316304505\n",
        "14000"
       ]
      },
      {
       "output_type": "stream",
       "stream": "stdout",
       "text": [
        "\n",
        "LL = 126847.80941820216\n",
        "Param values 14985.930178189341,252.84250203954826,562.3115186524976,44081.69691899815\n",
        "0.16966709529932847\n",
        "14100"
       ]
      },
      {
       "output_type": "stream",
       "stream": "stdout",
       "text": [
        "\n",
        "LL = 126846.16921103802\n",
        "Param values 15001.564988565951,248.4781267367094,540.8841247860277,49557.20321163615\n",
        "0.1694566605192226\n",
        "14200"
       ]
      },
      {
       "output_type": "stream",
       "stream": "stdout",
       "text": [
        "\n",
        "LL = 126846.94022341662\n",
        "Param values 14754.827112987814,237.95113796552687,545.5347119479632,55057.381340753105\n",
        "0.16967178475841668\n",
        "14300"
       ]
      },
      {
       "output_type": "stream",
       "stream": "stdout",
       "text": [
        "\n",
        "LL = 126847.9940977836\n",
        "Param values 14816.155062818903,242.6122809292232,553.55271097977,41935.9102821096\n",
        "0.16981395999440482\n",
        "14400"
       ]
      },
      {
       "output_type": "stream",
       "stream": "stdout",
       "text": [
        "\n",
        "LL = 126847.2866193254\n",
        "Param values 14862.399452771702,246.05316008957203,543.7637750174564,36008.80969987352\n",
        "0.17002361439088762\n",
        "14500"
       ]
      },
      {
       "output_type": "stream",
       "stream": "stdout",
       "text": [
        "\n",
        "LL = 126847.15876089693\n",
        "Param values 14762.469944364264,256.0891275488125,573.2297879236348,48026.435511478194\n",
        "0.17043730169678575\n",
        "14600"
       ]
      },
      {
       "output_type": "stream",
       "stream": "stdout",
       "text": [
        "\n",
        "LL = 126846.1633094696\n",
        "Param values 14871.596166699672,257.5491176915597,598.1902010006266,55320.856100302415\n",
        "0.17050280860391834\n",
        "14700"
       ]
      },
      {
       "output_type": "stream",
       "stream": "stdout",
       "text": [
        "\n",
        "LL = 126846.92538977\n",
        "Param values 14794.824165246191,258.8312397395316,577.5373409297597,60701.84276133212\n",
        "0.17029527826915228\n",
        "14800"
       ]
      },
      {
       "output_type": "stream",
       "stream": "stdout",
       "text": [
        "\n",
        "LL = 126847.01752967927\n",
        "Param values 14869.12692013101,237.16427725821754,538.9514138934546,81693.619882309\n",
        "0.17029328287606432\n",
        "14900"
       ]
      },
      {
       "output_type": "stream",
       "stream": "stdout",
       "text": [
        "\n",
        "LL = 126844.34754026971\n",
        "Param values 14766.02190061333,260.5062995739961,607.4057982394986,69412.39437589786\n",
        "0.17062692978923347\n",
        "15000"
       ]
      },
      {
       "output_type": "stream",
       "stream": "stdout",
       "text": [
        "\n",
        "LL = 126847.58859029152\n",
        "Param values 14870.425872335858,255.80323089919216,586.201689480938,83702.81792984917\n",
        "0.17095612748366448\n",
        "15100"
       ]
      },
      {
       "output_type": "stream",
       "stream": "stdout",
       "text": [
        "\n",
        "LL = 126847.52478757007\n",
        "Param values 14777.777968404105,251.87470188728338,581.9716260869544,81982.12998508161\n",
        "0.1708835607365214\n",
        "15200"
       ]
      },
      {
       "output_type": "stream",
       "stream": "stdout",
       "text": [
        "\n",
        "LL = 126847.38861626398\n",
        "Param values 15074.737583689855,253.06095448744134,573.5479988452347,90357.12065529867\n",
        "0.17074615080931702\n",
        "15300"
       ]
      },
      {
       "output_type": "stream",
       "stream": "stdout",
       "text": [
        "\n",
        "LL = 126846.13307070314\n",
        "Param values 15125.083416210318,245.34329759736409,569.0292780279505,105601.74103409966\n",
        "0.1706759053471042\n",
        "15400"
       ]
      },
      {
       "output_type": "stream",
       "stream": "stdout",
       "text": [
        "\n",
        "LL = 126848.22045153605\n",
        "Param values 14945.061164732648,254.1702339122502,569.5188692802998,105911.89921696762\n",
        "0.17034679828549162\n",
        "15500"
       ]
      },
      {
       "output_type": "stream",
       "stream": "stdout",
       "text": [
        "\n",
        "LL = 126847.67958753473\n",
        "Param values 14826.880063036515,243.0138998837263,544.0508994494868,97463.88617794463\n",
        "0.1706671828623048\n",
        "15600"
       ]
      },
      {
       "output_type": "stream",
       "stream": "stdout",
       "text": [
        "\n",
        "LL = 126847.74511312593\n",
        "Param values 15012.604711561084,249.76875080706114,554.9231124982527,92852.43012386194\n",
        "0.170727016284139\n",
        "15700"
       ]
      },
      {
       "output_type": "stream",
       "stream": "stdout",
       "text": [
        "\n",
        "LL = 126847.9972527745\n",
        "Param values 14985.19664229842,246.12380715778934,566.2435540024932,75842.0943256744\n",
        "0.17084978978213786\n",
        "15800"
       ]
      },
      {
       "output_type": "stream",
       "stream": "stdout",
       "text": [
        "\n",
        "LL = 126845.5716740947\n",
        "Param values 15056.791232342417,242.6814332153629,533.0386243226204,70300.47856961432\n",
        "0.1707178123813141\n",
        "15900"
       ]
      },
      {
       "output_type": "stream",
       "stream": "stdout",
       "text": [
        "\n",
        "LL = 126847.1310774017\n",
        "Param values 14947.14649837673,240.65376267462094,563.774124045759,93510.90963242127\n",
        "0.17083909925776827\n",
        "16000"
       ]
      },
      {
       "output_type": "stream",
       "stream": "stdout",
       "text": [
        "\n",
        "LL = 126848.23034837624\n",
        "Param values 14803.258486513158,250.91413238460683,571.8985524515516,86299.75615490472\n",
        "0.17064633079134892\n",
        "16100"
       ]
      },
      {
       "output_type": "stream",
       "stream": "stdout",
       "text": [
        "\n",
        "LL = 126847.80891955183\n",
        "Param values 14947.86217649891,242.97106824587982,545.3958260096468,102210.39683079172\n",
        "0.17070443533358182\n",
        "16200"
       ]
      },
      {
       "output_type": "stream",
       "stream": "stdout",
       "text": [
        "\n",
        "LL = 126847.82084140347\n",
        "Param values 14959.35179239403,254.51110192933592,583.3726174312767,121374.71152603326\n",
        "0.17076182244721572\n",
        "16300"
       ]
      },
      {
       "output_type": "stream",
       "stream": "stdout",
       "text": [
        "\n",
        "LL = 126847.71994805866\n",
        "Param values 14788.523594576343,255.83608266170208,575.5260163911344,129819.88605264823\n",
        "0.1708185053380783\n",
        "16400"
       ]
      },
      {
       "output_type": "stream",
       "stream": "stdout",
       "text": [
        "\n",
        "LL = 126847.91362895998\n",
        "Param values 15031.165671394645,246.64928288049012,562.2433341609064,104267.19660273437\n",
        "0.17093547993657762\n",
        "16500"
       ]
      },
      {
       "output_type": "stream",
       "stream": "stdout",
       "text": [
        "\n",
        "LL = 126845.28573486202\n",
        "Param values 14784.809828178315,259.2348736636511,561.6528043251008,93947.6075396965\n",
        "0.171172263304643\n",
        "16600"
       ]
      },
      {
       "output_type": "stream",
       "stream": "stdout",
       "text": [
        "\n",
        "LL = 126848.52221764764\n",
        "Param values 14941.515648435585,248.89025273838251,566.0601183706634,97346.39293031684\n",
        "0.17140619351729125\n",
        "16700"
       ]
      },
      {
       "output_type": "stream",
       "stream": "stdout",
       "text": [
        "\n",
        "LL = 126847.4093920339\n",
        "Param values 14704.823672003213,242.63625903722397,556.9784421083942,112350.8312759255\n",
        "0.17115822254162175\n",
        "16800"
       ]
      },
      {
       "output_type": "stream",
       "stream": "stdout",
       "text": [
        "\n",
        "LL = 126847.78623076993\n",
        "Param values 14919.767263503156,241.58722913405288,562.198830840991,129454.10252372158\n",
        "0.17103226574592215\n",
        "16900"
       ]
      },
      {
       "output_type": "stream",
       "stream": "stdout",
       "text": [
        "\n",
        "LL = 126847.77972473834\n",
        "Param values 15044.162543036175,246.16902381713598,558.3899031523856,104452.48596736795\n",
        "0.1712036927447035\n",
        "17000"
       ]
      },
      {
       "output_type": "stream",
       "stream": "stdout",
       "text": [
        "\n",
        "LL = 126843.90828440302\n",
        "Param values 15179.231759419818,265.33214935092445,590.74118972013,98999.38137621651\n",
        "0.1712554418166843\n",
        "17100"
       ]
      },
      {
       "output_type": "stream",
       "stream": "stdout",
       "text": [
        "\n",
        "LL = 126846.54345749681\n",
        "Param values 14849.146788353995,249.85874010546442,590.0123826240759,107287.09551353911\n",
        "0.17124809919288805\n",
        "17200"
       ]
      },
      {
       "output_type": "stream",
       "stream": "stdout",
       "text": [
        "\n",
        "LL = 126847.97442264632\n",
        "Param values 15011.084646400996,250.21110511341107,557.5659576705344,124965.36024937934\n",
        "0.17164786603093382\n",
        "17300"
       ]
      },
      {
       "output_type": "stream",
       "stream": "stdout",
       "text": [
        "\n",
        "LL = 126848.57872360111\n",
        "Param values 14882.17083999428,246.5793394028027,563.251755493923,102068.63064603883\n",
        "0.1716961498439126\n",
        "17400"
       ]
      },
      {
       "output_type": "stream",
       "stream": "stdout",
       "text": [
        "\n",
        "LL = 126848.38200840235\n",
        "Param values 14848.936929608384,245.73649364271608,566.0410212493761,99723.25974728719\n",
        "0.17180135647775607\n",
        "17500"
       ]
      },
      {
       "output_type": "stream",
       "stream": "stdout",
       "text": [
        "\n",
        "LL = 126848.33131027939\n",
        "Param values 14828.516040091057,243.95413108016479,559.205090678426,101340.0431407532\n",
        "0.17219110755514916\n",
        "17600"
       ]
      },
      {
       "output_type": "stream",
       "stream": "stdout",
       "text": [
        "\n",
        "LL = 126847.54403385344\n",
        "Param values 14915.662141388259,256.2581174496718,564.9612011977039,107666.09713419032\n",
        "0.1726332537788385\n",
        "17700"
       ]
      },
      {
       "output_type": "stream",
       "stream": "stdout",
       "text": [
        "\n",
        "LL = 126848.30507483307\n",
        "Param values 14967.441100626922,247.25073746241824,568.9853921173458,141687.2586937561\n",
        "0.17307040343541644\n",
        "17800"
       ]
      },
      {
       "output_type": "stream",
       "stream": "stdout",
       "text": [
        "\n",
        "LL = 126847.21889115933\n",
        "Param values 14872.154206154864,256.46004688469975,562.0379615842126,151755.2146475324\n",
        "0.173053152039555\n",
        "17900"
       ]
      },
      {
       "output_type": "stream",
       "stream": "stdout",
       "text": [
        "\n",
        "LL = 126846.50368641854\n",
        "Param values 15008.243296315128,246.07662856573072,580.441554539185,146701.31465057118\n",
        "0.17292434908928372\n",
        "18000"
       ]
      },
      {
       "output_type": "stream",
       "stream": "stdout",
       "text": [
        "\n",
        "LL = 126848.04497586306\n",
        "Param values 15039.105408880683,252.88923775111311,564.5918018911327,212448.8749273274\n",
        "0.17313034781642406\n",
        "18100"
       ]
      },
      {
       "output_type": "stream",
       "stream": "stdout",
       "text": [
        "\n",
        "LL = 126847.63852716114\n",
        "Param values 14847.388955718608,248.97552595595306,547.0653446041332,252953.59294892487\n",
        "0.17338932478726932\n",
        "18200"
       ]
      },
      {
       "output_type": "stream",
       "stream": "stdout",
       "text": [
        "\n",
        "LL = 126848.57998936922\n",
        "Param values 14839.109695087052,244.43763907834114,551.4048908923766,233404.54638147147\n",
        "0.17320584679635126\n",
        "18300"
       ]
      },
      {
       "output_type": "stream",
       "stream": "stdout",
       "text": [
        "\n",
        "LL = 126847.34917846661\n",
        "Param values 15077.09866279973,250.59016853532407,554.6898518498878,201239.62070218692\n",
        "0.1733522789375888\n",
        "18400"
       ]
      },
      {
       "output_type": "stream",
       "stream": "stdout",
       "text": [
        "\n",
        "LL = 126847.94126476279\n",
        "Param values 14912.809868873643,249.5557917162029,549.7988734203468,226532.8538052384\n",
        "0.17322535058158495\n",
        "18500"
       ]
      },
      {
       "output_type": "stream",
       "stream": "stdout",
       "text": [
        "\n",
        "LL = 126848.60316229897\n",
        "Param values 14852.247047604336,252.09313308102767,562.5145004308808,248170.4103115986\n",
        "0.17277543518218186\n",
        "18600"
       ]
      },
      {
       "output_type": "stream",
       "stream": "stdout",
       "text": [
        "\n",
        "LL = 126845.82231061792\n",
        "Param values 15116.295446110236,260.032940579214,567.035234097612,238173.55890411016\n",
        "0.1726529734380041\n",
        "18700"
       ]
      },
      {
       "output_type": "stream",
       "stream": "stdout",
       "text": [
        "\n",
        "LL = 126847.29096857808\n",
        "Param values 14722.040102102557,253.45629047332102,560.9495018203086,302913.8591088295\n",
        "0.1730666381431169\n",
        "18800"
       ]
      },
      {
       "output_type": "stream",
       "stream": "stdout",
       "text": [
        "\n",
        "LL = 126848.44956907352\n",
        "Param values 14949.476300337676,255.79822146917394,566.0839213164888,363018.62388357834\n",
        "0.17331631024577082\n",
        "18900"
       ]
      },
      {
       "output_type": "stream",
       "stream": "stdout",
       "text": [
        "\n",
        "LL = 126847.27568762706\n",
        "Param values 15121.12148458102,247.89782289004515,572.9436119895357,399186.4809920556\n",
        "0.17340459307863265\n",
        "19000"
       ]
      },
      {
       "output_type": "stream",
       "stream": "stdout",
       "text": [
        "\n",
        "LL = 126845.76504360353\n",
        "Param values 14784.934652400221,241.45773655821176,582.6520944959929,427602.4793467866\n",
        "0.17338667228129276\n",
        "19100"
       ]
      },
      {
       "output_type": "stream",
       "stream": "stdout",
       "text": [
        "\n",
        "LL = 126848.5051658013\n",
        "Param values 15006.40059608844,247.65488061761818,576.0517824481572,471883.153829885\n",
        "0.17331657765211017\n",
        "19200"
       ]
      },
      {
       "output_type": "stream",
       "stream": "stdout",
       "text": [
        "\n",
        "LL = 126849.2381101584\n",
        "Param values 14751.652101074196,250.9016270571257,565.624059186526,586073.9139122071\n",
        "0.1731951244921346\n",
        "19300"
       ]
      },
      {
       "output_type": "stream",
       "stream": "stdout",
       "text": [
        "\n",
        "LL = 126848.75704652125\n",
        "Param values 14884.325161952102,260.49816096671697,582.8636287624015,626315.522702734\n",
        "0.17323038656855633\n",
        "19400"
       ]
      },
      {
       "output_type": "stream",
       "stream": "stdout",
       "text": [
        "\n",
        "LL = 126849.9053951594\n",
        "Param values 14847.186709382722,251.25739779861675,565.1971683729822,631032.2868644516\n",
        "0.17326528508093617\n",
        "19500"
       ]
      },
      {
       "output_type": "stream",
       "stream": "stdout",
       "text": [
        "\n",
        "LL = 126848.94477979698\n",
        "Param values 14795.451167572612,259.0431284300083,593.3057347417013,838462.0944171066\n",
        "0.17381269873833213\n",
        "19600"
       ]
      },
      {
       "output_type": "stream",
       "stream": "stdout",
       "text": [
        "\n",
        "LL = 126850.04950128497\n",
        "Param values 14865.407267590497,254.03051351887845,568.3115089898102,759522.5838236378\n",
        "0.17374221859373407\n",
        "19700"
       ]
      },
      {
       "output_type": "stream",
       "stream": "stdout",
       "text": [
        "\n",
        "LL = 126848.6573509313\n",
        "Param values 14735.389821565606,260.0959154664937,581.435495655225,906138.3508719355\n",
        "0.1738755203573967\n",
        "19800"
       ]
      },
      {
       "output_type": "stream",
       "stream": "stdout",
       "text": [
        "\n",
        "LL = 126851.24911246284\n",
        "Param values 14886.003876778617,245.29948598919822,563.0583050144099,1.1046993350047853e6\n",
        "0.17355288412971007\n",
        "19900"
       ]
      },
      {
       "output_type": "stream",
       "stream": "stdout",
       "text": [
        "\n",
        "LL = 126849.86284590396\n",
        "Param values 15086.427575895403,253.2152783583726,572.4706249042359,977801.7854885657\n",
        "0.17328374711026234\n",
        "20000"
       ]
      },
      {
       "output_type": "stream",
       "stream": "stdout",
       "text": [
        "\n",
        "LL = 126847.09663321987\n",
        "Param values 14732.587241439398,232.07483440417778,547.3536208561598,915900.2049782812\n",
        "0.17341734173417342\n",
        "20100"
       ]
      },
      {
       "output_type": "stream",
       "stream": "stdout",
       "text": [
        "\n",
        "LL = 126848.28878145663\n",
        "Param values 15022.717045092955,245.10311482461884,578.9246768456658,811265.6787725692\n",
        "0.17379838789929347\n",
        "20200"
       ]
      },
      {
       "output_type": "stream",
       "stream": "stdout",
       "text": [
        "\n",
        "LL = 126850.04185048392\n",
        "Param values 14948.668995052862,254.6962413262086,569.4369293875191,775636.6472351181\n",
        "0.17363105257946332\n",
        "20300"
       ]
      },
      {
       "output_type": "stream",
       "stream": "stdout",
       "text": [
        "\n",
        "LL = 126849.48789493048\n",
        "Param values 14790.261924904473,253.61398800913952,587.1517080919472,811354.9772426182\n",
        "0.17341610010838507\n",
        "20400"
       ]
      },
      {
       "output_type": "stream",
       "stream": "stdout",
       "text": [
        "\n",
        "LL = 126848.89031463616\n",
        "Param values 14704.597539143844,250.41713270205076,554.5674504853976,952757.6176527719\n",
        "0.17339935287773312\n",
        "20500"
       ]
      },
      {
       "output_type": "stream",
       "stream": "stdout",
       "text": [
        "\n",
        "LL = 126851.10288151\n",
        "Param values 14934.549467792312,251.01304924023148,571.4768825277067,1.0129438101247909e6\n",
        "0.17318762806127427\n",
        "20600"
       ]
      },
      {
       "output_type": "stream",
       "stream": "stdout",
       "text": [
        "\n",
        "LL = 126850.44033073963\n",
        "Param values 14896.264858431268,243.0630893690012,565.2623692189986,991146.7155337695\n",
        "0.17336634624720848\n",
        "20700"
       ]
      },
      {
       "output_type": "stream",
       "stream": "stdout",
       "text": [
        "\n",
        "LL = 126849.60356132212\n",
        "Param values 14831.967031692782,250.75300036366676,550.0284759084277,1.0654181775642992e6\n",
        "0.17339839598028794\n",
        "20800"
       ]
      },
      {
       "output_type": "stream",
       "stream": "stdout",
       "text": [
        "\n",
        "LL = 126847.99031418569\n",
        "Param values 14976.975659236801,269.20553021883444,602.038252690039,1.2180725654911946e6\n",
        "0.17362246369843254\n",
        "20900"
       ]
      },
      {
       "output_type": "stream",
       "stream": "stdout",
       "text": [
        "\n",
        "LL = 126845.72777246739\n",
        "Param values 15081.793476179764,238.22523796457062,519.0884310039618,1.2626804804201713e6\n",
        "0.173557278208441\n",
        "21000"
       ]
      },
      {
       "output_type": "stream",
       "stream": "stdout",
       "text": [
        "\n",
        "LL = 126851.64050963432\n",
        "Param values 14973.245829161504,257.60363295181764,576.625896341955,1.4471486260345145e6\n",
        "0.17344509000857225\n",
        "21100"
       ]
      },
      {
       "output_type": "stream",
       "stream": "stdout",
       "text": [
        "\n",
        "LL = 126853.51417821254\n",
        "Param values 14783.624256809795,247.61451170934842,561.4447374038479,2.0277787648285443e6\n",
        "0.17366575030808606\n",
        "21200"
       ]
      },
      {
       "output_type": "stream",
       "stream": "stdout",
       "text": [
        "\n",
        "LL = 126852.91752945118\n",
        "Param values 14990.03322372414,242.97751812708026,556.7026370561766,1.9904153689307454e6\n",
        "0.17341258609302765\n",
        "21300"
       ]
      },
      {
       "output_type": "stream",
       "stream": "stdout",
       "text": [
        "\n",
        "LL = 126852.98234176578\n",
        "Param values 15025.717475813097,256.51312853646925,593.0877514842616,2.1528784614828965e6\n",
        "0.17358437411963565\n",
        "21400"
       ]
      },
      {
       "output_type": "stream",
       "stream": "stdout",
       "text": [
        "\n",
        "LL = 126852.8964638333\n",
        "Param values 14803.908556181359,255.61859510822853,585.6788970072473,1.8617675173887229e6\n",
        "0.17356762314234975\n",
        "21500"
       ]
      },
      {
       "output_type": "stream",
       "stream": "stdout",
       "text": [
        "\n",
        "LL = 126853.41752460328\n",
        "Param values 14974.1947514744,254.9964839312869,570.566539137748,1.9993404285649837e6\n",
        "0.17350451204763234\n",
        "21600"
       ]
      },
      {
       "output_type": "stream",
       "stream": "stdout",
       "text": [
        "\n",
        "LL = 126854.00989898857\n",
        "Param values 15048.365584691117,256.59804333051954,584.1940604192373,2.3704380013898984e6\n",
        "0.1732104824520789\n",
        "21700"
       ]
      },
      {
       "output_type": "stream",
       "stream": "stdout",
       "text": [
        "\n",
        "LL = 126855.05160322138\n",
        "Param values 14929.406490878297,248.7426479350682,560.1660222600386,2.5311506428232645e6\n",
        "0.17342612222324638\n",
        "21800"
       ]
      },
      {
       "output_type": "stream",
       "stream": "stdout",
       "text": [
        "\n",
        "LL = 126854.41311294482\n",
        "Param values 15030.101237248018,240.55646839476236,551.9960731827484,2.912504458068167e6\n",
        "0.17308927424534362\n",
        "21900"
       ]
      },
      {
       "output_type": "stream",
       "stream": "stdout",
       "text": [
        "\n",
        "LL = 126856.29237780614\n",
        "Param values 14704.004694706131,248.8276342975803,586.1459423232643,3.4111039305195296e6\n",
        "0.17321216549456572\n",
        "22000"
       ]
      },
      {
       "output_type": "stream",
       "stream": "stdout",
       "text": [
        "\n",
        "LL = 126858.51112100705\n",
        "Param values 14883.709289530507,248.8340947229925,571.4605004337939,3.64306844747717e6\n",
        "0.1732884807709792\n",
        "22100"
       ]
      },
      {
       "output_type": "stream",
       "stream": "stdout",
       "text": [
        "\n",
        "LL = 126859.10865008949\n",
        "Param values 14983.014348890694,249.55554210376565,567.6277848462178,3.9915072988964454e6\n",
        "0.1732283464566929\n",
        "22200"
       ]
      },
      {
       "output_type": "stream",
       "stream": "stdout",
       "text": [
        "\n",
        "LL = 126859.12303985246\n",
        "Param values 14672.52667425455,260.4881583351481,609.4422920840846,4.810691105599377e6\n",
        "0.17352914676997927\n",
        "22300"
       ]
      },
      {
       "output_type": "stream",
       "stream": "stdout",
       "text": [
        "\n",
        "LL = 126860.5786463615\n",
        "Param values 15018.80436020969,260.38945214880886,606.5257593450135,4.868807571098751e6\n",
        "0.17342362543725895\n",
        "22400"
       ]
      },
      {
       "output_type": "stream",
       "stream": "stdout",
       "text": [
        "\n",
        "LL = 126859.48749712014\n",
        "Param values 14820.295816700687,261.0540845481685,563.6580283077603,5.583620978244631e6\n",
        "0.17349763371729618\n",
        "22500"
       ]
      },
      {
       "output_type": "stream",
       "stream": "stdout",
       "text": [
        "\n",
        "LL = 126865.83603183505\n",
        "Param values 14779.430077887226,253.80309148757576,595.450811138644,6.388029646215793e6\n",
        "0.173837674459952\n",
        "22600"
       ]
      },
      {
       "output_type": "stream",
       "stream": "stdout",
       "text": [
        "\n",
        "LL = 126862.32460940508\n",
        "Param values 14708.402487377061,266.66287453189403,635.9842660442407,6.634823114850574e6\n",
        "0.17368793698557394\n",
        "22700"
       ]
      },
      {
       "output_type": "stream",
       "stream": "stdout",
       "text": [
        "\n",
        "LL = 126875.422597079\n",
        "Param values 14879.90350863182,256.0813520369864,587.6364299302192,9.625572217345735e6\n",
        "0.17420037007665873\n",
        "22800"
       ]
      },
      {
       "output_type": "stream",
       "stream": "stdout",
       "text": [
        "\n",
        "LL = 126882.66578885466\n",
        "Param values 15110.17131998824,265.6611485528133,628.7496738887411,1.2623844369175991e7\n",
        "0.1742696727783139\n",
        "22900"
       ]
      },
      {
       "output_type": "stream",
       "stream": "stdout",
       "text": [
        "\n",
        "LL = 126894.10569865599\n",
        "Param values 14973.687062579826,253.97247367586954,615.6772570618189,1.6637210156501353e7\n",
        "0.17403266660843741\n",
        "23000"
       ]
      },
      {
       "output_type": "stream",
       "stream": "stdout",
       "text": [
        "\n",
        "LL = 126899.88709115928\n",
        "Param values 14732.27350257785,262.0573094132167,619.4142259289042,1.830940390237055e7\n",
        "0.17379772154100356\n",
        "23100"
       ]
      },
      {
       "output_type": "stream",
       "stream": "stdout",
       "text": [
        "\n",
        "LL = 126941.71201569677\n",
        "Param values 14652.42538275264,274.0713360554417,663.5082655554484,3.3124177938095596e7\n",
        "0.17430080526452507\n",
        "23200"
       ]
      },
      {
       "output_type": "stream",
       "stream": "stdout",
       "text": [
        "\n",
        "LL = 127009.25700092518\n",
        "Param values 14923.462053623081,275.4024824275795,733.500620922831,5.8394531438744605e7\n",
        "0.17462712302784722\n",
        "23300"
       ]
      },
      {
       "output_type": "stream",
       "stream": "stdout",
       "text": [
        "\n",
        "LL = 127106.4579424456\n",
        "Param values 14621.23846810706,336.1821095817568,908.1405102792935,8.974428409539032e7\n",
        "0.17516525023607177\n",
        "23400"
       ]
      },
      {
       "output_type": "stream",
       "stream": "stdout",
       "text": [
        "\n",
        "LL = 127305.01574600539\n",
        "Param values 14733.853661046074,374.4802576490472,1247.001410528379,1.944217302904218e8\n",
        "0.17582699376015043\n",
        "23500"
       ]
      },
      {
       "output_type": "stream",
       "stream": "stdout",
       "text": [
        "\n",
        "LL = 127433.34812645799\n",
        "Param values 14889.058755528466,440.9485324688496,1579.8544874011707,3.430131899480368e8\n",
        "0.1764405481317559\n",
        "23600"
       ]
      },
      {
       "output_type": "stream",
       "stream": "stdout",
       "text": [
        "\n",
        "LL = 127465.34842180382\n",
        "Param values 15242.709860057115,487.4893775198197,1990.4050861637963,4.661509953366662e8\n",
        "0.176837020086448\n",
        "23700"
       ]
      },
      {
       "output_type": "stream",
       "stream": "stdout",
       "text": [
        "\n",
        "LL = 127465.74376708498\n",
        "Param values 15256.261034967147,501.80661519573164,2064.332202694928,5.025688265495154e8\n",
        "0.17659718119672546\n",
        "23800"
       ]
      },
      {
       "output_type": "stream",
       "stream": "stdout",
       "text": [
        "\n",
        "LL = 127467.23630265023\n",
        "Param values 15013.369232333653,471.53576610462926,2016.9411638338183,4.934474646136825e8\n",
        "0.17661147995629886\n",
        "23900"
       ]
      },
      {
       "output_type": "stream",
       "stream": "stdout",
       "text": [
        "\n",
        "LL = 127466.99315759978\n",
        "Param values 15195.48675221978,506.57003808828864,2136.9261045585604,4.989437167044542e8\n",
        "0.17666750355678298\n",
        "24000"
       ]
      },
      {
       "output_type": "stream",
       "stream": "stdout",
       "text": [
        "\n",
        "LL = 127467.20693111052\n",
        "Param values 14985.67008388633,513.4002251361329,2082.9455031377843,4.671818829682313e8\n",
        "0.17697308109009083\n",
        "24100"
       ]
      },
      {
       "output_type": "stream",
       "stream": "stdout",
       "text": [
        "\n",
        "LL = 127466.30010761613\n",
        "Param values 15065.842077026093,514.1606585448244,2059.047959099978,4.525503033895769e8\n",
        "0.17711013362104738\n",
        "24200"
       ]
      },
      {
       "output_type": "stream",
       "stream": "stdout",
       "text": [
        "\n",
        "LL = 127466.59877067785\n",
        "Param values 14875.344434792672,491.2787584929752,2178.111728976742,5.3258696420804125e8\n",
        "0.17687412182825027\n",
        "24300"
       ]
      },
      {
       "output_type": "stream",
       "stream": "stdout",
       "text": [
        "\n",
        "LL = 127465.8560651118\n",
        "Param values 14887.803688243364,487.95035815322865,2155.0171047907156,5.550990542509128e8\n",
        "0.1768046752819162\n",
        "24400"
       ]
      },
      {
       "output_type": "stream",
       "stream": "stdout",
       "text": [
        "\n",
        "LL = 127463.99105074187\n",
        "Param values 14938.164974925601,469.0655995015862,1887.6305734686293,4.933285342903245e8\n",
        "0.17661283711779655\n",
        "24500"
       ]
      },
      {
       "output_type": "stream",
       "stream": "stdout",
       "text": [
        "\n",
        "LL = 127464.25913088268\n",
        "Param values 15138.98160383079,473.2224655138506,1888.5805434116146,4.7047187085019e8\n",
        "0.17662666340109398\n",
        "24600"
       ]
      },
      {
       "output_type": "stream",
       "stream": "stdout",
       "text": [
        "\n",
        "LL = 127466.59671479986\n",
        "Param values 14917.696030282088,495.2915715874631,1996.9587215845843,4.810741812543696e8\n",
        "0.17647776241970892\n",
        "24700"
       ]
      },
      {
       "output_type": "stream",
       "stream": "stdout",
       "text": [
        "\n",
        "LL = 127464.65470546183\n",
        "Param values 14871.179795181144,488.7727601301463,2179.5245143156485,4.9685430984644055e8\n",
        "0.17649202364563932\n",
        "24800"
       ]
      },
      {
       "output_type": "stream",
       "stream": "stdout",
       "text": [
        "\n",
        "LL = 127465.14175117774\n",
        "Param values 15047.348394934463,472.7605339476555,1969.8718196350621,4.539653160627532e8\n",
        "0.17630454068876522\n",
        "24900"
       ]
      },
      {
       "output_type": "stream",
       "stream": "stdout",
       "text": [
        "\n",
        "LL = 127464.86896310415\n",
        "Param values 15057.713551136167,492.3084515781977,2235.0253565112966,5.467202056295037e8\n",
        "0.17648003855731384\n",
        "25000"
       ]
      },
      {
       "output_type": "stream",
       "stream": "stdout",
       "text": [
        "\n",
        "LL = 127465.95978550575\n",
        "Param values 14996.929911285219,470.7897814048303,1921.2293477085727,4.6392093877024704e8\n",
        "0.17661412913033042\n",
        "25100"
       ]
      },
      {
       "output_type": "stream",
       "stream": "stdout",
       "text": [
        "\n",
        "LL = 127467.40827604213\n",
        "Param values 15094.88758352565,517.1260246501478,2166.4458411225673,5.001806378228708e8\n",
        "0.17678699497967965\n",
        "25200"
       ]
      },
      {
       "output_type": "stream",
       "stream": "stdout",
       "text": [
        "\n",
        "LL = 127464.08704039865\n",
        "Param values 15055.911426990322,460.23900331491836,1978.9029924213921,4.714588755153927e8\n",
        "0.1767600603222478\n",
        "25300"
       ]
      },
      {
       "output_type": "stream",
       "stream": "stdout",
       "text": [
        "\n",
        "LL = 127466.75507975274\n",
        "Param values 14974.961338703057,466.4982765987977,1990.8739645158273,5.202313843794517e8\n",
        "0.17716815558542176\n",
        "25400"
       ]
      },
      {
       "output_type": "stream",
       "stream": "stdout",
       "text": [
        "\n",
        "LL = 127466.9267265295\n",
        "Param values 15154.87019840263,512.2369650179463,2085.678409795866,4.824067925893411e8\n",
        "0.1770611859201512\n",
        "25500"
       ]
      },
      {
       "output_type": "stream",
       "stream": "stdout",
       "text": [
        "\n",
        "LL = 127466.83747025153\n",
        "Param values 15127.325217896252,499.5401066556568,2141.6299972607317,5.3259620323866564e8\n",
        "0.17703349282296652\n",
        "25600"
       ]
      },
      {
       "output_type": "stream",
       "stream": "stdout",
       "text": [
        "\n",
        "LL = 127467.6130439269\n",
        "Param values 15028.536133346206,504.6434371554351,2054.124398751232,4.7295311873675627e8\n",
        "0.17692788499101492\n",
        "25700"
       ]
      },
      {
       "output_type": "stream",
       "stream": "stdout",
       "text": [
        "\n",
        "LL = 127466.82066513454\n",
        "Param values 14870.836710205744,504.69573988062837,2144.8479976367444,4.7779498532871723e8\n",
        "0.17701766674449373\n",
        "25800"
       ]
      },
      {
       "output_type": "stream",
       "stream": "stdout",
       "text": [
        "\n",
        "LL = 127467.76382146047\n",
        "Param values 15117.461370006782,504.2396455753801,2091.531851221809,4.873004071552961e8\n",
        "0.17691293898751842\n",
        "25900"
       ]
      },
      {
       "output_type": "stream",
       "stream": "stdout",
       "text": [
        "\n",
        "LL = 127466.2347856741\n",
        "Param values 14970.54069705347,478.15419262050295,1939.4523217962887,4.590498009441377e8\n",
        "0.17684763302185497\n",
        "26000"
       ]
      },
      {
       "output_type": "stream",
       "stream": "stdout",
       "text": [
        "\n",
        "LL = 127467.45837202777\n",
        "Param values 15062.095369329469,501.77356934335063,2037.0117803996716,4.726931643344906e8\n",
        "0.1767828294484191\n",
        "26100"
       ]
      },
      {
       "output_type": "stream",
       "stream": "stdout",
       "text": [
        "\n",
        "LL = 127466.89073121973\n",
        "Param values 15069.122922564435,475.86510572282333,2068.2904863055546,5.017125327138709e8\n",
        "0.17691010805425703\n",
        "26200"
       ]
      },
      {
       "output_type": "stream",
       "stream": "stdout",
       "text": [
        "\n",
        "LL = 127466.28743629913\n",
        "Param values 15069.982550726869,485.06969715865665,2037.4252426277742,5.305520318857485e8\n",
        "0.17696007328803726\n",
        "26300"
       ]
      },
      {
       "output_type": "stream",
       "stream": "stdout",
       "text": [
        "\n",
        "LL = 127464.120608877\n",
        "Param values 14923.23131158536,504.62402928574045,2024.171785831784,5.0654001894662035e8\n",
        "0.17708570993991937\n",
        "26400"
       ]
      },
      {
       "output_type": "stream",
       "stream": "stdout",
       "text": [
        "\n",
        "LL = 127465.22347732175\n",
        "Param values 15094.722376863623,488.56893294229246,2116.7517780913568,5.586658580341878e8\n",
        "0.17690734146526252\n",
        "26500"
       ]
      },
      {
       "output_type": "stream",
       "stream": "stdout",
       "text": [
        "\n",
        "LL = 127464.66265922585\n",
        "Param values 15018.707045303805,473.8558654739843,2127.0833799894785,5.0690840529938984e8\n",
        "0.17669258057211865\n",
        "26600"
       ]
      },
      {
       "output_type": "stream",
       "stream": "stdout",
       "text": [
        "\n",
        "LL = 127467.99978837803\n",
        "Param values 15021.438367564182,485.0635750776535,2065.586347796768,5.139653784205275e8\n",
        "0.17659222497932175\n",
        "26700"
       ]
      },
      {
       "output_type": "stream",
       "stream": "stdout",
       "text": [
        "\n",
        "LL = 127466.26008138417\n",
        "Param values 14858.132148287294,464.405790698507,1948.2323350931838,4.8943802731393224e8\n",
        "0.17653007715933777\n",
        "26800"
       ]
      },
      {
       "output_type": "stream",
       "stream": "stdout",
       "text": [
        "\n",
        "LL = 127466.84627720942\n",
        "Param values 15208.675585890865,490.9260398204429,2078.850412500482,5.050660777766584e8\n",
        "0.17639376072841256\n",
        "26900"
       ]
      },
      {
       "output_type": "stream",
       "stream": "stdout",
       "text": [
        "\n",
        "LL = 127467.36157179721\n",
        "Param values 15034.385459501997,513.1136769935023,2112.196040003527,4.9911646485232735e8\n",
        "0.1763699903338538\n",
        "27000"
       ]
      },
      {
       "output_type": "stream",
       "stream": "stdout",
       "text": [
        "\n",
        "LL = 127466.15877067848\n",
        "Param values 14988.187632125559,492.13728216180664,2054.770664362231,5.2968726322148174e8\n",
        "0.17630935624861102\n",
        "27100"
       ]
      },
      {
       "output_type": "stream",
       "stream": "stdout",
       "text": [
        "\n",
        "LL = 127468.07710499874\n",
        "Param values 15003.780721803281,507.87789750234487,2141.3035063456023,4.994471896532954e8\n",
        "0.17606465421802348\n",
        "27200"
       ]
      },
      {
       "output_type": "stream",
       "stream": "stdout",
       "text": [
        "\n",
        "LL = 127461.5306980529\n",
        "Param values 14626.911761267045,524.0693625836776,2275.508472181464,5.125043676884472e8\n",
        "0.17596882123685564\n",
        "27300"
       ]
      },
      {
       "output_type": "stream",
       "stream": "stdout",
       "text": [
        "\n",
        "LL = 127466.28520794622\n",
        "Param values 15164.300277532777,509.36831978895697,2073.8777708530565,4.991199464255206e8\n",
        "0.17591032310059346\n",
        "27400"
       ]
      },
      {
       "output_type": "stream",
       "stream": "stdout",
       "text": [
        "\n",
        "LL = 127468.10978748144\n",
        "Param values 14985.006855110587,488.57091679378175,2101.5422169761014,5.065870448613076e8\n",
        "0.17603474706182934\n",
        "27500"
       ]
      },
      {
       "output_type": "stream",
       "stream": "stdout",
       "text": [
        "\n",
        "LL = 127467.13139089251\n",
        "Param values 14916.403253661014,472.746412863952,1985.0952847702172,5.0529776340898067e8\n",
        "0.17579460324387228\n",
        "27600"
       ]
      },
      {
       "output_type": "stream",
       "stream": "stdout",
       "text": [
        "\n",
        "LL = 127468.3044240593\n",
        "Param values 14995.4976452999,498.0235469405116,2082.121705358126,4.910081370329992e8\n",
        "0.17573737227335315\n",
        "27700"
       ]
      },
      {
       "output_type": "stream",
       "stream": "stdout",
       "text": [
        "\n",
        "LL = 127467.83901839274\n",
        "Param values 15016.842123797389,486.67638495476524,2022.9499381617763,4.995528666611238e8\n",
        "0.17524731027511012\n",
        "Local Acceptance Rate =  0.05Shrinking StepSize to 0.0007938810000000002\n",
        "27800"
       ]
      },
      {
       "output_type": "stream",
       "stream": "stdout",
       "text": [
        "\n",
        "LL = 127467.1375577554\n",
        "Param values 15040.4856431884,491.2717747672255,2055.2344802994007,5.204289784735136e8\n",
        "0.17533635513346285\n",
        "27900"
       ]
      },
      {
       "output_type": "stream",
       "stream": "stdout",
       "text": [
        "\n",
        "LL = 127466.27292967148\n",
        "Param values 14853.984023974052,522.5047214645651,2146.146073844257,4.831991666854835e8\n",
        "0.17517384758764068\n",
        "28000"
       ]
      },
      {
       "output_type": "stream",
       "stream": "stdout",
       "text": [
        "\n",
        "LL = 127458.60600087982\n",
        "Param values 14908.736922997788,477.3804272318511,1817.486552047159,4.6130505187214553e8\n",
        "0.1752982355882563\n",
        "28100"
       ]
      },
      {
       "output_type": "stream",
       "stream": "stdout",
       "text": [
        "\n",
        "LL = 127467.21758081332\n",
        "Param values 15039.361984366606,499.6404158071982,2148.419244027294,4.883576034577588e8\n",
        "0.1753861484803189\n",
        "28200"
       ]
      },
      {
       "output_type": "stream",
       "stream": "stdout",
       "text": [
        "\n",
        "LL = 127465.73491716055\n",
        "Param values 15211.743080266233,484.90832632596727,2105.920755702793,5.3681842248309267e8\n",
        "0.17543797432442018\n",
        "28300"
       ]
      },
      {
       "output_type": "stream",
       "stream": "stdout",
       "text": [
        "\n",
        "LL = 127465.01231738877\n",
        "Param values 14778.377020791402,464.5930766549466,2058.446836964396,5.087061952455277e8\n",
        "0.17541875750936461\n",
        "28400"
       ]
      },
      {
       "output_type": "stream",
       "stream": "stdout",
       "text": [
        "\n",
        "LL = 127463.5494966999\n",
        "Param values 14776.420925142847,512.437878046036,2129.051756651863,4.457019488239498e8\n",
        "0.17568138601309952\n",
        "28500"
       ]
      },
      {
       "output_type": "stream",
       "stream": "stdout",
       "text": [
        "\n",
        "LL = 127467.55437035674\n",
        "Param values 14865.41432501065,483.1404247046631,2023.722791963362,4.966396856577796e8\n",
        "0.17576672047161204\n",
        "28600"
       ]
      },
      {
       "output_type": "stream",
       "stream": "stdout",
       "text": [
        "\n",
        "LL = 127463.90472150622\n",
        "Param values 14820.366853073176,449.60834521404365,2006.046732784773,5.432409579109752e8\n",
        "0.17599132806489964\n",
        "28700"
       ]
      },
      {
       "output_type": "stream",
       "stream": "stdout",
       "text": [
        "\n",
        "LL = 127466.98483108303\n",
        "Param values 14889.833574316639,490.03788116339354,2027.601224005432,4.625648827587987e8\n",
        "0.1758310683671336\n",
        "28800"
       ]
      },
      {
       "output_type": "stream",
       "stream": "stdout",
       "text": [
        "\n",
        "LL = 127465.49894673024\n",
        "Param values 14888.170604853876,459.3020110211106,2016.7514798673094,5.411640216487879e8\n",
        "0.17570664629488159\n",
        "28900"
       ]
      },
      {
       "output_type": "stream",
       "stream": "stdout",
       "text": [
        "\n",
        "LL = 127462.86556629166\n",
        "Param values 15229.84933746719,544.1057680099727,2322.7510471586083,5.2220743489452034e8\n",
        "0.175894525572704\n",
        "29000"
       ]
      },
      {
       "output_type": "stream",
       "stream": "stdout",
       "text": [
        "\n",
        "LL = 127465.89910700147\n",
        "Param values 14849.796930574292,473.0237119800991,2098.9190775822367,5.467106627199981e8\n",
        "0.1761500793158149\n",
        "29100"
       ]
      },
      {
       "output_type": "stream",
       "stream": "stdout",
       "text": [
        "\n",
        "LL = 127466.72735982206\n",
        "Param values 14994.31473027673,483.52596296157276,2142.7871008208194,5.432779357240714e8\n",
        "0.1761289435700048\n",
        "29200"
       ]
      },
      {
       "output_type": "stream",
       "stream": "stdout",
       "text": [
        "\n",
        "LL = 127467.53140773132\n",
        "Param values 14990.073385524236,504.1312076333562,2094.41271521785,5.0876493554431456e8\n",
        "0.17597095691485717\n",
        "29300"
       ]
      },
      {
       "output_type": "stream",
       "stream": "stdout",
       "text": [
        "\n",
        "LL = 127466.89004866774\n",
        "Param values 15174.005758812466,505.18448036440816,2148.6461320235994,4.928645863260211e8\n",
        "0.17612123694450132\n",
        "29400"
       ]
      },
      {
       "output_type": "stream",
       "stream": "stdout",
       "text": [
        "\n",
        "LL = 127468.1089734361\n",
        "Param values 15031.203295174748,492.8042667792165,2081.013614507222,5.101160505299269e8\n",
        "0.1761684468331179\n",
        "29500"
       ]
      },
      {
       "output_type": "stream",
       "stream": "stdout",
       "text": [
        "\n",
        "LL = 127467.64993253117\n",
        "Param values 15018.248921158724,478.43611465006705,2016.1490183785072,5.087588272006031e8\n",
        "0.17618143602956132\n",
        "29600"
       ]
      },
      {
       "output_type": "stream",
       "stream": "stdout",
       "text": [
        "\n",
        "LL = 127465.37307812301\n",
        "Param values 14715.706637639416,502.2011146078315,2133.2611312296413,4.816915036092714e8\n",
        "0.17632948172173796\n",
        "29700"
       ]
      },
      {
       "output_type": "stream",
       "stream": "stdout",
       "text": [
        "\n",
        "LL = 127465.64562216678\n",
        "Param values 15012.199871569375,475.80536187484734,1968.4791818939348,5.1917400727719957e8\n",
        "0.17640918580375783\n",
        "29800"
       ]
      },
      {
       "output_type": "stream",
       "stream": "stdout",
       "text": [
        "\n",
        "LL = 127463.94681584797\n",
        "Param values 14790.24777058459,478.34374844275544,1987.6414856789359,4.448679721114236e8\n",
        "0.17655547352171286\n",
        "29900"
       ]
      },
      {
       "output_type": "stream",
       "stream": "stdout",
       "text": [
        "\n",
        "LL = 127468.15826973393\n",
        "Param values 14941.931828768951,486.92858169102084,2046.7769617116644,4.9226376334455353e8\n",
        "0.17650010034115995\n",
        "30000"
       ]
      },
      {
       "output_type": "stream",
       "stream": "stdout",
       "text": [
        "\n",
        "LL = 127466.48755409608\n",
        "Param values 15008.498707761071,486.27397786498227,2055.3698879320696,4.648603444521651e8\n",
        "0.17621174744982998\n",
        "30100"
       ]
      },
      {
       "output_type": "stream",
       "stream": "stdout",
       "text": [
        "\n",
        "LL = 127465.8310211361\n",
        "Param values 14861.506861958182,475.34070267411556,2093.3698812171833,5.508926058146076e8\n",
        "0.17642368263672004\n",
        "30200"
       ]
      },
      {
       "output_type": "stream",
       "stream": "stdout",
       "text": [
        "\n",
        "LL = 127466.67427480449\n",
        "Param values 14855.153181075435,483.69499932950595,2141.551702644485,5.2634436169508886e8\n",
        "0.17633618120405326\n",
        "30300"
       ]
      },
      {
       "output_type": "stream",
       "stream": "stdout",
       "text": [
        "\n",
        "LL = 127466.87454086712\n",
        "Param values 14848.417157209387,504.11009595189057,2151.665471946516,5.2201771186617905e8\n",
        "0.17628226285563403\n",
        "30400"
       ]
      },
      {
       "output_type": "stream",
       "stream": "stdout",
       "text": [
        "\n",
        "LL = 127463.87628106786\n",
        "Param values 14707.5731797193,504.92561841148364,2241.7233403146874,5.3107862997708124e8\n",
        "0.17649187446542536\n",
        "30500"
       ]
      },
      {
       "output_type": "stream",
       "stream": "stdout",
       "text": [
        "\n",
        "LL = 127465.62333946773\n",
        "Param values 15195.692662264231,529.3266597763457,2172.190246723558,4.968475838957927e8\n",
        "0.17640501016460094\n",
        "30600"
       ]
      },
      {
       "output_type": "stream",
       "stream": "stdout",
       "text": [
        "\n",
        "LL = 127466.02764082601\n",
        "Param values 15158.809224085937,517.7744928415173,2220.2259915897857,5.27604867066978e8\n",
        "0.17661285051310543\n",
        "30700"
       ]
      },
      {
       "output_type": "stream",
       "stream": "stdout",
       "text": [
        "\n",
        "LL = 127466.21923982764\n",
        "Param values 15210.097455261643,519.089732919099,2180.3259693543027,4.9042732518423796e8\n",
        "0.1766238842921363\n",
        "30800"
       ]
      },
      {
       "output_type": "stream",
       "stream": "stdout",
       "text": [
        "\n",
        "LL = 127467.5794080854\n",
        "Param values 15010.570211896786,489.2443117769534,2012.0728091379722,4.6936235059293675e8\n",
        "0.1765374374959413\n",
        "30900"
       ]
      },
      {
       "output_type": "stream",
       "stream": "stdout",
       "text": [
        "\n",
        "LL = 127466.20685274745\n",
        "Param values 14982.861735512193,497.70613960729,2066.66844410149,5.250407482079056e8\n",
        "0.17635445659913263\n",
        "31000"
       ]
      },
      {
       "output_type": "stream",
       "stream": "stdout",
       "text": [
        "\n",
        "LL = 127465.20814751653\n",
        "Param values 15112.507714203964,469.5620897306596,2104.3816332255537,5.392208716635013e8\n",
        "0.1761726563004065\n",
        "31100"
       ]
      },
      {
       "output_type": "stream",
       "stream": "stdout",
       "text": [
        "\n",
        "LL = 127467.51827977585\n",
        "Param values 15156.829173789985,498.4002171865571,2085.997792642449,5.001470792411217e8\n",
        "0.1761849636632581\n",
        "31200"
       ]
      },
      {
       "output_type": "stream",
       "stream": "stdout",
       "text": [
        "\n",
        "LL = 127467.44629238636\n",
        "Param values 14919.738061215521,506.01221409684064,2067.3497973625335,4.8130076542399395e8\n",
        "0.1761971921277005\n",
        "31300"
       ]
      },
      {
       "output_type": "stream",
       "stream": "stdout",
       "text": [
        "\n",
        "LL = 127466.94853909411\n",
        "Param values 15095.789345516667,479.32686228183945,2043.4682813565646,4.849713914634739e8\n",
        "0.17617739152661513\n",
        "31400"
       ]
      },
      {
       "output_type": "stream",
       "stream": "stdout",
       "text": [
        "\n",
        "LL = 127466.90939969318\n",
        "Param values 14908.40907355795,501.81959553385906,2029.029040828563,4.781253374709712e8\n",
        "0.17587107459073825\n",
        "Local Acceptance Rate =  0.09Shrinking StepSize to 0.0007144929000000001\n",
        "31500"
       ]
      },
      {
       "output_type": "stream",
       "stream": "stdout",
       "text": [
        "\n",
        "LL = 127465.12673662187\n",
        "Param values 14980.351075204462,452.2458766107667,1989.585624320278,5.1599554393794215e8\n",
        "0.1759476792177281\n",
        "31600"
       ]
      },
      {
       "output_type": "stream",
       "stream": "stdout",
       "text": [
        "\n",
        "LL = 127464.19036639905\n",
        "Param values 15144.015227972048,476.08777708244793,2154.3812556690227,5.311550270459249e8\n",
        "0.17599215140198746\n",
        "31700"
       ]
      },
      {
       "output_type": "stream",
       "stream": "stdout",
       "text": [
        "\n",
        "LL = 127465.79483083345\n",
        "Param values 15212.326224867455,494.00861747916343,1991.7835382652179,4.779643940020219e8\n",
        "0.1761940816455297\n",
        "31800"
       ]
      },
      {
       "output_type": "stream",
       "stream": "stdout",
       "text": [
        "\n",
        "LL = 127465.60581305077\n",
        "Param values 14783.050625877882,511.13928094207574,2072.812820092948,4.7404411662754875e8\n",
        "0.1761746021762375\n",
        "31900"
       ]
      },
      {
       "output_type": "stream",
       "stream": "stdout",
       "text": [
        "\n",
        "LL = 127465.61105823409\n",
        "Param values 15042.046000850534,477.22509135347633,2012.3779689371368,4.602212013784551e8\n",
        "0.1763119944824127\n",
        "32000"
       ]
      },
      {
       "output_type": "stream",
       "stream": "stdout",
       "text": [
        "\n",
        "LL = 127466.51606964938\n",
        "Param values 14791.48043638105,483.2704498980696,2111.9563674241394,5.073669813874704e8\n",
        "0.17647977998624914\n",
        "32100"
       ]
      },
      {
       "output_type": "stream",
       "stream": "stdout",
       "text": [
        "\n",
        "LL = 127467.71342883985\n",
        "Param values 15038.299322369307,499.81362371902134,2158.8519846522568,5.2140556202141523e8\n",
        "0.17642843790890397\n",
        "32200"
       ]
      },
      {
       "output_type": "stream",
       "stream": "stdout",
       "text": [
        "\n",
        "LL = 127466.44903848767\n",
        "Param values 14967.591204730743,516.9463247982951,2211.1502472487928,5.301006871733733e8\n",
        "0.17668799304304617\n",
        "32300"
       ]
      },
      {
       "output_type": "stream",
       "stream": "stdout",
       "text": [
        "\n",
        "LL = 127465.08366249548\n",
        "Param values 15005.121420292462,525.5715900396909,2307.506127695756,5.2059999086428416e8\n",
        "0.17691497925568148\n",
        "32400"
       ]
      },
      {
       "output_type": "stream",
       "stream": "stdout",
       "text": [
        "\n",
        "LL = 127466.68339581093\n",
        "Param values 14809.257025824889,489.9871440603894,2144.213254820472,5.115963598283222e8\n",
        "0.17710969812951416\n",
        "32500"
       ]
      },
      {
       "output_type": "stream",
       "stream": "stdout",
       "text": [
        "\n",
        "LL = 127464.46569286172\n",
        "Param values 15061.156449381579,508.7586394884554,2060.811399148894,4.331276015764359e8\n",
        "0.1769339651670872\n",
        "32600"
       ]
      },
      {
       "output_type": "stream",
       "stream": "stdout",
       "text": [
        "\n",
        "LL = 127466.47294317109\n",
        "Param values 14939.12665941752,471.86962175328796,1950.429968154375,4.672705810454674e8\n",
        "0.17712743113074422\n",
        "32700"
       ]
      },
      {
       "output_type": "stream",
       "stream": "stdout",
       "text": [
        "\n",
        "LL = 127467.06606675252\n",
        "Param values 15143.816505317163,484.5781024034643,2035.4242770963783,5.119416057654084e8\n",
        "0.1771973821028809\n",
        "32800"
       ]
      },
      {
       "output_type": "stream",
       "stream": "stdout",
       "text": [
        "\n",
        "LL = 127465.80847601908\n",
        "Param values 14793.39681754647,505.9088870351189,2111.9272605200176,5.139258269172505e8\n",
        "0.1774498445027136\n",
        "32900"
       ]
      },
      {
       "output_type": "stream",
       "stream": "stdout",
       "text": [
        "\n",
        "LL = 127466.12043069376\n",
        "Param values 15172.293812440399,524.7161942377908,2217.628729406766,4.9533774059724665e8\n",
        "0.17736640525259895\n",
        "33000"
       ]
      },
      {
       "output_type": "stream",
       "stream": "stdout",
       "text": [
        "\n",
        "LL = 127466.79479904367\n",
        "Param values 15194.554694470467,510.0459575612917,2090.6593102465754,4.848346829253256e8\n",
        "0.1774349960603673\n",
        "33100"
       ]
      },
      {
       "output_type": "stream",
       "stream": "stdout",
       "text": [
        "\n",
        "LL = 127466.7629087812\n",
        "Param values 14921.17406629478,490.8217318576317,2033.6327823414479,4.580254235073316e8\n",
        "0.1776844522327633\n",
        "33200"
       ]
      },
      {
       "output_type": "stream",
       "stream": "stdout",
       "text": [
        "\n",
        "LL = 127464.68479627362\n",
        "Param values 15000.696835363739,514.557663995629,2006.641706974362,4.4358110906454945e8\n",
        "0.17784203867702875\n",
        "33300"
       ]
      },
      {
       "output_type": "stream",
       "stream": "stdout",
       "text": [
        "\n",
        "LL = 127468.08785943645\n",
        "Param values 14996.642618413212,503.6267874346998,2085.9701683535964,4.8156724679559135e8\n",
        "0.1777884557631089\n",
        "33400"
       ]
      },
      {
       "output_type": "stream",
       "stream": "stdout",
       "text": [
        "\n",
        "LL = 127465.00238101422\n",
        "Param values 15246.517860595708,511.93532981752384,2159.339268139262,5.305705053383315e8\n",
        "0.1780944966764477\n",
        "33500"
       ]
      },
      {
       "output_type": "stream",
       "stream": "stdout",
       "text": [
        "\n",
        "LL = 127466.12205651506\n",
        "Param values 15172.755054589677,471.4766931645843,2032.8856022673067,5.183196346098397e8\n",
        "0.17810018508567677\n",
        "33600"
       ]
      },
      {
       "output_type": "stream",
       "stream": "stdout",
       "text": [
        "\n",
        "LL = 127465.50706273972\n",
        "Param values 15018.216170799355,531.6219923629294,2179.762518381657,5.062348538596768e8\n",
        "0.1781653669861301\n",
        "33700"
       ]
      },
      {
       "output_type": "stream",
       "stream": "stdout",
       "text": [
        "\n",
        "LL = 127466.59253895593\n",
        "Param values 15149.437772377236,521.212877288523,2118.0878375757334,4.7750329717766243e8\n",
        "0.1783785387856846\n",
        "33800"
       ]
      },
      {
       "output_type": "stream",
       "stream": "stdout",
       "text": [
        "\n",
        "LL = 127467.19595554569\n",
        "Param values 14997.696768222662,516.3626376544817,2208.9018708750036,4.9881420920192343e8\n",
        "0.1784425113912066\n",
        "33900"
       ]
      },
      {
       "output_type": "stream",
       "stream": "stdout",
       "text": [
        "\n",
        "LL = 127464.01499922802\n",
        "Param values 14773.073941527884,496.2920769543259,2069.987148366071,4.462541834760838e8\n",
        "0.17868310814797334\n",
        "34000"
       ]
      },
      {
       "output_type": "stream",
       "stream": "stdout",
       "text": [
        "\n",
        "LL = 127464.68503781177\n",
        "Param values 15014.220321071913,540.8886690731266,2311.894993024983,5.066437392555032e8\n",
        "0.1787458085769751\n",
        "34100"
       ]
      },
      {
       "output_type": "stream",
       "stream": "stdout",
       "text": [
        "\n",
        "LL = 127467.55614985673\n",
        "Param values 15076.987213118162,497.1801556594401,2155.160207781538,5.1361547818756014e8\n",
        "0.1787788140066866\n",
        "34200"
       ]
      },
      {
       "output_type": "stream",
       "stream": "stdout",
       "text": [
        "\n",
        "LL = 127467.15913022072\n",
        "Param values 15079.536581771954,490.3390224780798,1991.4820852248004,4.743358718193271e8\n",
        "0.17889935083923036\n",
        "34300"
       ]
      },
      {
       "output_type": "stream",
       "stream": "stdout",
       "text": [
        "\n",
        "LL = 127462.4043445369\n",
        "Param values 15334.275343956375,470.1370252447482,1982.727002607231,5.290986732019539e8\n",
        "0.17901918479211615\n",
        "34400"
       ]
      },
      {
       "output_type": "stream",
       "stream": "stdout",
       "text": [
        "\n",
        "LL = 127466.58479537496\n",
        "Param values 15181.558528555177,497.3302414477062,2158.402097215621,5.158820035688577e8\n",
        "0.17893482179196465\n",
        "34500"
       ]
      },
      {
       "output_type": "stream",
       "stream": "stdout",
       "text": [
        "\n",
        "LL = 127465.9782229065\n",
        "Param values 15024.798441389827,519.6856083508264,2260.981916633143,5.0440164677603436e8\n",
        "0.17876398631804744\n",
        "34600"
       ]
      },
      {
       "output_type": "stream",
       "stream": "stdout",
       "text": [
        "\n",
        "LL = 127467.20554874047\n",
        "Param values 14962.91825888539,492.13466136724594,2159.403322290703,5.356391119675683e8\n",
        "0.1787964622232499\n",
        "34700"
       ]
      },
      {
       "output_type": "stream",
       "stream": "stdout",
       "text": [
        "\n",
        "LL = 127465.12265636878\n",
        "Param values 14868.39447605613,467.20954869179343,1945.7739248785833,5.171204873437917e8\n",
        "0.17874229062193786\n",
        "34800"
       ]
      },
      {
       "output_type": "stream",
       "stream": "stdout",
       "text": [
        "\n",
        "LL = 127466.33888635396\n",
        "Param values 14907.723194287775,507.8141603264753,2231.540449911209,5.338412215377455e8\n",
        "0.1787746422208173\n",
        "34900"
       ]
      },
      {
       "output_type": "stream",
       "stream": "stdout",
       "text": [
        "\n",
        "LL = 127464.60820375096\n",
        "Param values 15093.00659470018,494.34847360052055,2219.115566257069,5.673308418626602e8\n",
        "0.1787781534758439\n",
        "35000"
       ]
      },
      {
       "output_type": "stream",
       "stream": "stdout",
       "text": [
        "\n",
        "LL = 127467.1942320527\n",
        "Param values 14946.037644072243,487.6184524645181,2053.0192396109896,5.22299968172688e8\n",
        "0.17872449854277386\n",
        "35100"
       ]
      },
      {
       "output_type": "stream",
       "stream": "stdout",
       "text": [
        "\n",
        "LL = 127465.12474774229\n",
        "Param values 15210.516044477627,520.9797818086406,2084.6241481020656,4.8444963938555974e8\n",
        "0.17901304917659125\n",
        "35200"
       ]
      },
      {
       "output_type": "stream",
       "stream": "stdout",
       "text": [
        "\n",
        "LL = 127462.81345719044\n",
        "Param values 14911.230949977526,532.7514262480814,2063.755967797906,4.395127864801407e8\n",
        "0.17915790669924428\n",
        "35300"
       ]
      },
      {
       "output_type": "stream",
       "stream": "stdout",
       "text": [
        "\n",
        "LL = 127467.53127207099\n",
        "Param values 14866.207322008739,504.1551988108957,2107.8578043844027,4.8198722241681063e8\n",
        "0.17916029236783954\n",
        "35400"
       ]
      },
      {
       "output_type": "stream",
       "stream": "stdout",
       "text": [
        "\n",
        "LL = 127466.95475803471\n",
        "Param values 15120.677563668756,507.4495571588749,2166.4413589694086,4.8925407413239056e8\n",
        "0.1791909147409458\n",
        "35500"
       ]
      },
      {
       "output_type": "stream",
       "stream": "stdout",
       "text": [
        "\n",
        "LL = 127467.24387569574\n",
        "Param values 14990.97958682703,511.8903427713862,2104.47077488772,4.6446030214408123e8\n",
        "0.17924953518508085\n",
        "35600"
       ]
      },
      {
       "output_type": "stream",
       "stream": "stdout",
       "text": [
        "\n",
        "LL = 127465.13000677749\n",
        "Param values 14753.22208000281,502.5612162096487,2065.3367017892397,5.011435218570392e8\n",
        "0.17956064947468958\n",
        "35700"
       ]
      },
      {
       "output_type": "stream",
       "stream": "stdout",
       "text": [
        "\n",
        "LL = 127467.89528809644\n",
        "Param values 14917.423404098523,503.14267755260227,2123.141513178879,5.064312522700714e8\n",
        "0.17961790576502884\n",
        "35800"
       ]
      },
      {
       "output_type": "stream",
       "stream": "stdout",
       "text": [
        "\n",
        "LL = 127468.03782219526\n",
        "Param values 14911.627760954967,496.88849555007135,2111.347503130515,4.942744104494913e8\n",
        "0.17959103860550868\n",
        "35900"
       ]
      },
      {
       "output_type": "stream",
       "stream": "stdout",
       "text": [
        "\n",
        "LL = 127467.51640380165\n",
        "Param values 14928.903725195041,489.4937224809367,2005.2225666813813,4.8144439222689044e8\n",
        "0.17953646442698756\n",
        "36000"
       ]
      },
      {
       "output_type": "stream",
       "stream": "stdout",
       "text": [
        "\n",
        "LL = 127456.78159047638\n",
        "Param values 14967.785476934474,508.26316567562486,2437.6800505522406,5.982986521532111e8\n",
        "0.17962109006055893\n",
        "36100"
       ]
      },
      {
       "output_type": "stream",
       "stream": "stdout",
       "text": [
        "\n",
        "LL = 127466.82670921764\n",
        "Param values 14964.199989649285,526.2449907991069,2201.780037948249,4.975852090369583e8\n",
        "0.17981605629120728\n",
        "36200"
       ]
      },
      {
       "output_type": "stream",
       "stream": "stdout",
       "text": [
        "\n",
        "LL = 127467.74506716487\n",
        "Param values 15018.053436056289,509.43256264618725,2085.990428163321,4.796234929383961e8\n",
        "0.17989944195811924\n",
        "36300"
       ]
      },
      {
       "output_type": "stream",
       "stream": "stdout",
       "text": [
        "\n",
        "LL = 127465.89472789233\n",
        "Param values 15016.154694950137,513.9393334930509,2249.324164790756,5.025626267621027e8\n",
        "0.17987216926552427\n",
        "36400"
       ]
      },
      {
       "output_type": "stream",
       "stream": "stdout",
       "text": [
        "\n",
        "LL = 127466.59051597967\n",
        "Param values 15006.972170273508,483.41553596461665,2145.3886209575417,5.1628203883127797e8\n",
        "0.1798725204681576\n",
        "36500"
       ]
      },
      {
       "output_type": "stream",
       "stream": "stdout",
       "text": [
        "\n",
        "LL = 127467.4677744046\n",
        "Param values 15063.64087631265,495.6513687700304,2019.12741575097,4.7077789053582984e8\n",
        "0.18003726231574332\n",
        "36600"
       ]
      },
      {
       "output_type": "stream",
       "stream": "stdout",
       "text": [
        "\n",
        "LL = 127467.47121447964\n",
        "Param values 14846.9214457626,497.7009659960662,2086.630981637776,5.0194961082861316e8\n",
        "0.17992786491065085\n",
        "36700"
       ]
      },
      {
       "output_type": "stream",
       "stream": "stdout",
       "text": [
        "\n",
        "LL = 127460.9902659763\n",
        "Param values 15292.849422599138,556.2073874206006,2193.291020053294,4.703113509368225e8\n",
        "0.18000980979889913\n",
        "36800"
       ]
      },
      {
       "output_type": "stream",
       "stream": "stdout",
       "text": [
        "\n",
        "LL = 127464.43789301447\n",
        "Param values 14693.04436248302,492.75472144601747,2117.6980399215536,5.3293389303867906e8\n",
        "0.18025436165008968\n",
        "36900"
       ]
      },
      {
       "output_type": "stream",
       "stream": "stdout",
       "text": [
        "\n",
        "LL = 127467.69120609702\n",
        "Param values 14988.070693597056,488.4382051909482,2048.201033519916,5.1321082205645007e8\n",
        "0.18022657054582905\n",
        "37000"
       ]
      },
      {
       "output_type": "stream",
       "stream": "stdout",
       "text": [
        "\n",
        "LL = 127467.48065769828\n",
        "Param values 14986.75938785328,492.52486268406324,2155.609851332639,5.280587228497821e8\n",
        "0.180117844207795\n",
        "37100"
       ]
      },
      {
       "output_type": "stream",
       "stream": "stdout",
       "text": [
        "\n",
        "LL = 127466.06796708274\n",
        "Param values 14862.22912071664,481.4948563166796,2082.763672798837,5.444495085700421e8\n",
        "0.18022534907542184\n",
        "37200"
       ]
      },
      {
       "output_type": "stream",
       "stream": "stdout",
       "text": [
        "\n",
        "LL = 127465.8884748879\n",
        "Param values 15234.852686762204,489.02799528315165,2112.2635629752044,5.27327870913975e8\n",
        "0.18038604226033658\n",
        "37300"
       ]
      },
      {
       "output_type": "stream",
       "stream": "stdout",
       "text": [
        "\n",
        "LL = 127467.72755951127\n",
        "Param values 14905.657452478048,494.2861256982842,2098.483655879009,5.1661987987274873e8\n",
        "0.1804922515952598\n",
        "37400"
       ]
      },
      {
       "output_type": "stream",
       "stream": "stdout",
       "text": [
        "\n",
        "LL = 127466.83856738974\n",
        "Param values 15090.979561288614,492.65236595610895,2115.4587139107716,5.37432089839699e8\n",
        "0.18065137173110862\n",
        "37500"
       ]
      },
      {
       "output_type": "stream",
       "stream": "stdout",
       "text": [
        "\n",
        "LL = 127464.20053392173\n",
        "Param values 14793.271654829654,529.2929487813744,2141.6257641332068,4.565060924960764e8\n",
        "0.18059629846925168\n",
        "37600"
       ]
      },
      {
       "output_type": "stream",
       "stream": "stdout",
       "text": [
        "\n",
        "LL = 127468.0043507288\n",
        "Param values 15030.87622449126,496.20693820604737,2134.0205666603533,5.062912974284575e8\n",
        "0.1806479068035534\n",
        "37700"
       ]
      },
      {
       "output_type": "stream",
       "stream": "stdout",
       "text": [
        "\n",
        "LL = 127464.50821055546\n",
        "Param values 15058.487125228641,520.2437037393549,2314.6860515030385,5.272082625252556e8\n",
        "0.1807788211576211\n",
        "37800"
       ]
      },
      {
       "output_type": "stream",
       "stream": "stdout",
       "text": [
        "\n",
        "LL = 127465.62131861818\n",
        "Param values 14879.594367244617,520.0063033633855,2211.0978716617337,5.287998130606006e8\n",
        "0.1809090428064977\n",
        "37900"
       ]
      },
      {
       "output_type": "stream",
       "stream": "stdout",
       "text": [
        "\n",
        "LL = 127461.92816114912\n",
        "Param values 15300.905313691184,459.1529594524437,2014.3562305521505,5.459586421179565e8\n",
        "0.18119689693387514\n",
        "38000"
       ]
      },
      {
       "output_type": "stream",
       "stream": "stdout",
       "text": [
        "\n",
        "LL = 127466.34110396118\n",
        "Param values 15174.007857781451,510.0446884336563,2077.2347245278665,4.9694466150851035e8\n",
        "0.1814306016106111\n",
        "38100"
       ]
      },
      {
       "output_type": "stream",
       "stream": "stdout",
       "text": [
        "\n",
        "LL = 127465.73636815876\n",
        "Param values 14897.567744635338,501.50143980393835,2174.326669904367,4.799028645608587e8\n",
        "0.18150559084466375\n",
        "38200"
       ]
      },
      {
       "output_type": "stream",
       "stream": "stdout",
       "text": [
        "\n",
        "LL = 127466.3858007134\n",
        "Param values 14807.2963813349,472.9100224777825,1989.0746758283199,4.7929036642625016e8\n",
        "0.1815540080632494\n",
        "38300"
       ]
      },
      {
       "output_type": "stream",
       "stream": "stdout",
       "text": [
        "\n",
        "LL = 127467.05792670463\n",
        "Param values 14835.021750799257,509.3404279233564,2159.6555013626958,5.0318060740114385e8\n",
        "0.18157606141312863\n",
        "38400"
       ]
      },
      {
       "output_type": "stream",
       "stream": "stdout",
       "text": [
        "\n",
        "LL = 127465.38555907726\n",
        "Param values 15147.360258049028,501.18840101454253,2223.788284881355,5.1998983887821853e8\n",
        "0.1817282150111985\n",
        "38500"
       ]
      },
      {
       "output_type": "stream",
       "stream": "stdout",
       "text": [
        "\n",
        "LL = 127467.25773841476\n",
        "Param values 15037.422870839275,517.3506239382119,2155.734590891107,4.7590188156992483e8\n",
        "0.18185360278456023\n",
        "38600"
       ]
      },
      {
       "output_type": "stream",
       "stream": "stdout",
       "text": [
        "\n",
        "LL = 127467.7659743015\n",
        "Param values 15050.703973677151,511.14973948136935,2135.4845233890615,5.031021505080986e8\n",
        "0.18184880045598217\n",
        "38700"
       ]
      },
      {
       "output_type": "stream",
       "stream": "stdout",
       "text": [
        "\n",
        "LL = 127465.39923287058\n",
        "Param values 14818.477011170184,482.8746235906977,2005.8653989917646,5.1815416769570816e8\n",
        "0.18186986407566283\n",
        "38800"
       ]
      },
      {
       "output_type": "stream",
       "stream": "stdout",
       "text": [
        "\n",
        "LL = 127465.55650750008\n",
        "Param values 14876.73042510249,523.8607448656593,2116.536221844218,4.5564140276652604e8\n",
        "0.1818392700654673\n",
        "38900"
       ]
      },
      {
       "output_type": "stream",
       "stream": "stdout",
       "text": [
        "\n",
        "LL = 127466.70300996026\n",
        "Param values 15182.518990346027,518.9187563940827,2165.733968082249,4.925927480561656e8\n",
        "0.1820144994601265\n",
        "39000"
       ]
      },
      {
       "output_type": "stream",
       "stream": "stdout",
       "text": [
        "\n",
        "LL = 127468.00083222486\n",
        "Param values 15024.269667882387,489.2540240894115,2110.4014160200777,5.107703665500215e8\n",
        "0.18206061849325605\n",
        "39100"
       ]
      },
      {
       "output_type": "stream",
       "stream": "stdout",
       "text": [
        "\n",
        "LL = 127468.10690817071\n",
        "Param values 14937.536084427285,489.71959797726555,2099.4842479014687,5.0248381266980344e8\n",
        "0.18208092485549132\n",
        "39200"
       ]
      },
      {
       "output_type": "stream",
       "stream": "stdout",
       "text": [
        "\n",
        "LL = 127468.2276448045\n",
        "Param values 14949.07125673736,499.0984059126348,2115.2785729693665,4.990950576754625e8\n",
        "0.18207561610286238\n",
        "39300"
       ]
      },
      {
       "output_type": "stream",
       "stream": "stdout",
       "text": [
        "\n",
        "LL = 127467.2744653438\n",
        "Param values 15094.624553167214,507.1075520667512,2058.633450408893,4.701398029033457e8\n",
        "0.18201944119293603\n",
        "39400"
       ]
      },
      {
       "output_type": "stream",
       "stream": "stdout",
       "text": [
        "\n",
        "LL = 127467.49227486626\n",
        "Param values 14914.334521070425,510.4139947202945,2115.31310921516,4.755542437519351e8\n",
        "0.1819889334483984\n",
        "39500"
       ]
      },
      {
       "output_type": "stream",
       "stream": "stdout",
       "text": [
        "\n",
        "LL = 127467.17461118297\n",
        "Param values 15147.971910734752,505.2491122953794,2166.0958734484375,5.077281077213091e8\n",
        "0.1820345333940959\n",
        "39600"
       ]
      },
      {
       "output_type": "stream",
       "stream": "stdout",
       "text": [
        "\n",
        "LL = 127465.60248286216\n",
        "Param values 14883.929883943561,508.0783046256423,2217.563126661284,5.46894924251687e8\n",
        "0.18215566442749634\n",
        "39700"
       ]
      },
      {
       "output_type": "stream",
       "stream": "stdout",
       "text": [
        "\n",
        "LL = 127464.99003713923\n",
        "Param values 14916.00695615202,450.2417436684353,1977.9634380316804,5.247437114898109e8\n",
        "0.18222580482643963\n",
        "39800"
       ]
      },
      {
       "output_type": "stream",
       "stream": "stdout",
       "text": [
        "\n",
        "LL = 127464.72283486847\n",
        "Param values 15009.520156154269,507.75056767267387,2031.1046258869467,5.019342898260921e8\n",
        "0.18229559274335394\n",
        "39900"
       ]
      },
      {
       "output_type": "stream",
       "stream": "stdout",
       "text": [
        "\n",
        "LL = 127467.12742695071\n",
        "Param values 15024.114265125434,508.5263001889175,2206.5143508672863,5.066611985488466e8\n",
        "0.1822397112637225\n",
        "40000"
       ]
      },
      {
       "output_type": "stream",
       "stream": "stdout",
       "text": [
        "\n",
        "LL = 127464.94417671153\n",
        "Param values 14792.76697774699,477.39307184236264,2081.6312832005597,5.5144605114409e8\n",
        "0.18213410670533528\n",
        "40100"
       ]
      },
      {
       "output_type": "stream",
       "stream": "stdout",
       "text": [
        "\n",
        "LL = 127463.3919244619\n",
        "Param values 15043.681526216285,525.652289858363,2166.2062909693605,5.344721855958268e8\n",
        "0.1821038455783331\n",
        "40200"
       ]
      },
      {
       "output_type": "stream",
       "stream": "stdout",
       "text": [
        "\n",
        "LL = 127466.47921594368\n",
        "Param values 14995.704606768331,521.5922197907419,2098.137241826509,4.776469844068931e8\n",
        "0.18197422757351112\n",
        "40300"
       ]
      },
      {
       "output_type": "stream",
       "stream": "stdout",
       "text": [
        "\n",
        "LL = 127462.78831557815\n",
        "Param values 14710.591423481761,499.64819671698535,2236.5350187501363,5.601539279750512e8\n",
        "0.18221747977567124\n",
        "40400"
       ]
      },
      {
       "output_type": "stream",
       "stream": "stdout",
       "text": [
        "\n",
        "LL = 127467.08316473597\n",
        "Param values 15093.583631474095,510.219251891543,2102.3940246502766,4.6558795871306646e8\n",
        "0.18221199069260854\n",
        "40500"
       ]
      },
      {
       "output_type": "stream",
       "stream": "stdout",
       "text": [
        "\n",
        "LL = 127466.93583543277\n",
        "Param values 15025.394077972114,508.3993085960202,2221.1809373139236,5.2042126950962985e8\n",
        "0.18213245098523384\n",
        "40600"
       ]
      },
      {
       "output_type": "stream",
       "stream": "stdout",
       "text": [
        "\n",
        "LL = 127467.49747782182\n",
        "Param values 15097.868321825894,483.8278846512642,2056.0432249122973,4.901927363509426e8\n",
        "0.18222572540519238\n",
        "40700"
       ]
      },
      {
       "output_type": "stream",
       "stream": "stdout",
       "text": [
        "\n",
        "LL = 127468.0465592648\n",
        "Param values 14926.124280276426,498.4154863090577,2127.503289063206,5.089746627375678e8\n",
        "0.18214654282765738\n",
        "40800"
       ]
      },
      {
       "output_type": "stream",
       "stream": "stdout",
       "text": [
        "\n",
        "LL = 127467.07702477145\n",
        "Param values 15175.753814112333,491.69423831253425,2096.699179594375,5.160936865225889e8\n",
        "0.1820922594244816\n",
        "40900"
       ]
      },
      {
       "output_type": "stream",
       "stream": "stdout",
       "text": [
        "\n",
        "LL = 127467.62717998044\n",
        "Param values 14969.346898224607,474.7783168049509,2036.0410607593997,5.154343693055405e8\n",
        "0.18198933933199668\n",
        "41000"
       ]
      },
      {
       "output_type": "stream",
       "stream": "stdout",
       "text": [
        "\n",
        "LL = 127467.26921864283\n",
        "Param values 14940.876449985259,479.03495453019497,2035.7462611432557,4.795048895181748e8\n",
        "0.18183813844577784\n",
        "41100"
       ]
      },
      {
       "output_type": "stream",
       "stream": "stdout",
       "text": [
        "\n",
        "LL = 127466.34258706984\n",
        "Param values 14967.273978748455,487.0553364539723,2025.9347236308686,4.5505343828121567e8\n",
        "0.1818579979561049\n",
        "41200"
       ]
      },
      {
       "output_type": "stream",
       "stream": "stdout",
       "text": [
        "\n",
        "LL = 127466.6521267534\n",
        "Param values 15007.50600117137,485.6699180453467,2161.798121294593,5.383014417294846e8\n",
        "0.18175639594155055\n",
        "41300"
       ]
      },
      {
       "output_type": "stream",
       "stream": "stdout",
       "text": [
        "\n",
        "LL = 127466.13498807659\n",
        "Param values 14862.587091792851,463.21373736816463,2024.2575493511863,5.302800720595674e8\n",
        "0.18194585694222482\n",
        "41400"
       ]
      },
      {
       "output_type": "stream",
       "stream": "stdout",
       "text": [
        "\n",
        "LL = 127465.28804256357\n",
        "Param values 15238.315911547093,516.5998666713673,2223.7710667001243,5.234542260720445e8\n",
        "0.18186868930866226\n",
        "41500"
       ]
      },
      {
       "output_type": "stream",
       "stream": "stdout",
       "text": [
        "\n",
        "LL = 127466.68481724367\n",
        "Param values 15089.851422838909,508.8032640414188,2147.4310221571604,5.280055083485735e8\n",
        "0.18188828377271193\n",
        "41600"
       ]
      },
      {
       "output_type": "stream",
       "stream": "stdout",
       "text": [
        "\n",
        "LL = 127463.19715553944\n",
        "Param values 15182.589473259835,552.0499234489088,2219.647199891822,4.8299205430686665e8\n",
        "0.1817875859416318\n",
        "41700"
       ]
      },
      {
       "output_type": "stream",
       "stream": "stdout",
       "text": [
        "\n",
        "LL = 127465.74548488033\n",
        "Param values 15058.669179180371,538.7907963068241,2228.0139090242324,4.872419928231298e8\n",
        "0.1817832989591827\n",
        "41800"
       ]
      },
      {
       "output_type": "stream",
       "stream": "stdout",
       "text": [
        "\n",
        "LL = 127466.58209891984\n",
        "Param values 14805.426822218415,509.65081303390855,2118.4603438004824,4.767218920483195e8\n",
        "0.18185080625867267\n",
        "41900"
       ]
      },
      {
       "output_type": "stream",
       "stream": "stdout",
       "text": [
        "\n",
        "LL = 127465.42642637443\n",
        "Param values 14743.41337254057,474.9413724311024,2094.2352756082228,5.1017914867908084e8\n",
        "0.1818225213614015\n",
        "42000"
       ]
      },
      {
       "output_type": "stream",
       "stream": "stdout",
       "text": [
        "\n",
        "LL = 127467.92414103092\n",
        "Param values 15052.310742487018,484.1647256637766,2043.8638675983839,5.070910129639582e8\n",
        "0.18198485642173437\n",
        "42100"
       ]
      },
      {
       "output_type": "stream",
       "stream": "stdout",
       "text": [
        "\n",
        "LL = 127465.54901632655\n",
        "Param values 15073.6794975743,464.0603410388696,1994.4757972127315,5.371673519345224e8\n",
        "0.18202764976958524\n",
        "42200"
       ]
      },
      {
       "output_type": "stream",
       "stream": "stdout",
       "text": [
        "\n",
        "LL = 127466.31772186478\n",
        "Param values 15089.908554195174,475.1342921981309,1984.8889697341824,4.6857927873310494e8\n",
        "0.18209393810133181\n",
        "42300"
       ]
      },
      {
       "output_type": "stream",
       "stream": "stdout",
       "text": [
        "\n",
        "LL = 127467.52220085678\n",
        "Param values 15058.444276054614,509.4199014296984,2160.850344383605,4.8789777392576724e8\n",
        "0.1820417040994846\n",
        "42400"
       ]
      },
      {
       "output_type": "stream",
       "stream": "stdout",
       "text": [
        "\n",
        "LL = 127466.50810250013\n",
        "Param values 15105.780937890575,509.4924826760006,2165.793749346516,4.7817542390629256e8\n",
        "0.18213123260531158\n",
        "42500"
       ]
      },
      {
       "output_type": "stream",
       "stream": "stdout",
       "text": [
        "\n",
        "LL = 127465.57163097999\n",
        "Param values 14840.781707131997,496.75777515209916,2005.160281337756,4.899727592326746e8\n",
        "0.18212621770436255\n",
        "42600"
       ]
      },
      {
       "output_type": "stream",
       "stream": "stdout",
       "text": [
        "\n",
        "LL = 127463.45484082126\n",
        "Param values 15112.7563561783,477.99977727857095,1897.771902762112,4.3558777213143677e8\n",
        "0.18216817690971407\n",
        "42700"
       ]
      },
      {
       "output_type": "stream",
       "stream": "stdout",
       "text": [
        "\n",
        "LL = 127465.4481915999\n",
        "Param values 15301.2519216512,506.0745160358709,2098.3979295998347,4.849321222212794e8\n",
        "0.1823036207784908\n",
        "42800"
       ]
      },
      {
       "output_type": "stream",
       "stream": "stdout",
       "text": [
        "\n",
        "LL = 127466.02700777321\n",
        "Param values 15251.745049327286,511.525460670486,2131.0568347030417,5.0516318159024537e8\n",
        "0.18229823823543156\n",
        "42900"
       ]
      },
      {
       "output_type": "stream",
       "stream": "stdout",
       "text": [
        "\n",
        "LL = 127466.90647488396\n",
        "Param values 14869.546282148025,471.4709880345212,2007.9786057446531,5.16043104819928e8\n",
        "0.1821530141265327\n",
        "43000"
       ]
      },
      {
       "output_type": "stream",
       "stream": "stdout",
       "text": [
        "\n",
        "LL = 127465.70441805749\n",
        "Param values 15070.187250443529,465.40667896732486,2052.9050358526774,5.444492588023082e8\n",
        "0.18212474998837155\n",
        "43100"
       ]
      },
      {
       "output_type": "stream",
       "stream": "stdout",
       "text": [
        "\n",
        "LL = 127467.3186890198\n",
        "Param values 14913.741616036032,489.2400144099588,2115.7132025009887,5.323568563212835e8\n",
        "0.18230544340804677\n",
        "43200"
       ]
      },
      {
       "output_type": "stream",
       "stream": "stdout",
       "text": [
        "\n",
        "LL = 127461.9812999948\n",
        "Param values 14578.847302899385,511.27826399684744,2199.3969037970423,5.075343605021719e8\n",
        "0.1822769572665401\n",
        "43300"
       ]
      },
      {
       "output_type": "stream",
       "stream": "stdout",
       "text": [
        "\n",
        "LL = 127465.25280492983\n",
        "Param values 14925.041020900395,460.747718411082,2054.171243058538,5.13342820473863e8\n",
        "0.18238717723682388\n",
        "43400"
       ]
      },
      {
       "output_type": "stream",
       "stream": "stdout",
       "text": [
        "\n",
        "LL = 127467.65992441091\n",
        "Param values 14937.784859529658,513.918402572357,2155.8577379075186,4.9210605480677664e8\n",
        "0.18249688925756946\n",
        "43500"
       ]
      },
      {
       "output_type": "stream",
       "stream": "stdout",
       "text": [
        "\n",
        "LL = 127466.05164083575\n",
        "Param values 15132.811867700593,506.637654876802,2015.650426468424,4.689533836000139e8\n",
        "0.18262908639477676\n",
        "43600"
       ]
      },
      {
       "output_type": "stream",
       "stream": "stdout",
       "text": [
        "\n",
        "LL = 127466.23012023124\n",
        "Param values 14985.840430630866,483.38238573368204,1954.3445354738549,4.5344824348279583e8\n",
        "0.182623056103491\n",
        "43700"
       ]
      },
      {
       "output_type": "stream",
       "stream": "stdout",
       "text": [
        "\n",
        "LL = 127465.56204259035\n",
        "Param values 14998.329976466059,490.7449168880851,1957.3662201875425,4.840099825189905e8\n",
        "0.1826399377545883\n",
        "43800"
       ]
      },
      {
       "output_type": "stream",
       "stream": "stdout",
       "text": [
        "\n",
        "LL = 127467.30786610223\n",
        "Param values 15000.210658922451,479.21489178472405,2062.664937463439,4.9016392854989284e8\n",
        "0.18263391022421116\n",
        "43900"
       ]
      },
      {
       "output_type": "stream",
       "stream": "stdout",
       "text": [
        "\n",
        "LL = 127468.17495677326\n",
        "Param values 14994.140776332571,502.4053580859555,2089.0381284360424,4.928634711210263e8\n",
        "0.1825367898309718\n",
        "44000"
       ]
      },
      {
       "output_type": "stream",
       "stream": "stdout",
       "text": [
        "\n",
        "LL = 127467.88614024133\n",
        "Param values 15112.298774887713,496.1008751515083,2099.372784179998,4.9818602771932024e8\n",
        "0.18248556752579662\n",
        "44100"
       ]
      },
      {
       "output_type": "stream",
       "stream": "stdout",
       "text": [
        "\n",
        "LL = 127467.57924326808\n",
        "Param values 14991.786255101511,486.07023367062203,2030.6839344277541,5.1062793920406336e8\n",
        "0.18247993106263322\n",
        "44200"
       ]
      },
      {
       "output_type": "stream",
       "stream": "stdout",
       "text": [
        "\n",
        "LL = 127467.91379470199\n",
        "Param values 14910.686178145153,505.4085717255519,2117.876093140537,4.9499069614542747e8\n",
        "0.18272320014480292\n",
        "44300"
       ]
      },
      {
       "output_type": "stream",
       "stream": "stdout",
       "text": [
        "\n",
        "LL = 127467.15496401595\n",
        "Param values 14880.933405210822,479.6080123323675,1981.49865355289,4.8335244543588436e8\n",
        "0.1827396270711996\n",
        "44400"
       ]
      },
      {
       "output_type": "stream",
       "stream": "stdout",
       "text": [
        "\n",
        "LL = 127468.23063336754\n",
        "Param values 15010.910983273021,491.0456351071851,2057.303005985713,4.877981606023504e8\n",
        "0.1825983152394252\n",
        "44500"
       ]
      },
      {
       "output_type": "stream",
       "stream": "stdout",
       "text": [
        "\n",
        "LL = 127464.64631362168\n",
        "Param values 14815.308454120624,464.42475427339184,1937.0332482384358,4.601732036316837e8\n",
        "0.18270484066699627\n",
        "44600"
       ]
      },
      {
       "output_type": "stream",
       "stream": "stdout",
       "text": [
        "\n",
        "LL = 127467.80754917309\n",
        "Param values 15053.133222748493,495.38476968595046,2032.856326371409,4.847444929123306e8\n",
        "0.18269877572985335\n",
        "44700"
       ]
      },
      {
       "output_type": "stream",
       "stream": "stdout",
       "text": [
        "\n",
        "LL = 127467.47407809587\n",
        "Param values 14982.975218076992,487.99661605636277,2088.100032118971,4.8377259897384715e8\n",
        "0.18271511029576268\n",
        "44800"
       ]
      },
      {
       "output_type": "stream",
       "stream": "stdout",
       "text": [
        "\n",
        "LL = 127466.87080750045\n",
        "Param values 15046.285019108138,503.9113199966969,2028.2260850950565,4.57860277573117e8\n",
        "0.1827090495111389\n",
        "44900"
       ]
      },
      {
       "output_type": "stream",
       "stream": "stdout",
       "text": [
        "\n",
        "LL = 127466.82899061826\n",
        "Param values 14802.050268645145,488.72715085138935,2054.438206263596,4.7654298264773506e8\n",
        "0.18265847031048155\n",
        "45000"
       ]
      },
      {
       "output_type": "stream",
       "stream": "stdout",
       "text": [
        "\n",
        "LL = 127467.49817921515\n",
        "Param values 15030.698726243752,477.4416714225283,1992.1019432419635,4.986376253791681e8\n",
        "0.18260811591626294\n",
        "45100"
       ]
      },
      {
       "output_type": "stream",
       "stream": "stdout",
       "text": [
        "\n",
        "LL = 127466.70203974111\n",
        "Param values 15142.176794160157,513.6152606273147,2177.4301348869676,5.214181648150664e8\n",
        "0.1827575502239567\n",
        "45200"
       ]
      },
      {
       "output_type": "stream",
       "stream": "stdout",
       "text": [
        "\n",
        "LL = 127466.35046940767\n",
        "Param values 14999.649929901687,490.22820498537124,2189.619858213702,5.2707909751025283e8\n",
        "0.1827956989247312\n",
        "45300"
       ]
      },
      {
       "output_type": "stream",
       "stream": "stdout",
       "text": [
        "\n",
        "LL = 127463.42624115557\n",
        "Param values 14623.593568913984,500.1825457250404,2182.524804061389,5.159146048329439e8\n",
        "0.18287783125082785\n",
        "45400"
       ]
      },
      {
       "output_type": "stream",
       "stream": "stdout",
       "text": [
        "\n",
        "LL = 127466.66123693167\n",
        "Param values 14851.032688222143,490.7267376911958,2165.4751881568914,5.173792496755149e8\n",
        "0.18282743733204107\n",
        "45500"
       ]
      },
      {
       "output_type": "stream",
       "stream": "stdout",
       "text": [
        "\n",
        "LL = 127467.20512610437\n",
        "Param values 15029.37920435159,513.1148743990252,2106.2692934887846,4.9934877140770054e8\n",
        "0.1827772649347224\n",
        "45600"
       ]
      },
      {
       "output_type": "stream",
       "stream": "stdout",
       "text": [
        "\n",
        "LL = 127461.04695223282\n",
        "Param values 14929.621990888918,552.4890947034985,2198.424691554189,4.32121824889596e8\n",
        "0.1830782051844379\n",
        "45700"
       ]
      },
      {
       "output_type": "stream",
       "stream": "stdout",
       "text": [
        "\n",
        "LL = 127465.63105037274\n",
        "Param values 14802.46129184874,495.859826336094,2087.0082007048377,5.2671439422455215e8\n",
        "0.1830714692109064\n",
        "45800"
       ]
      },
      {
       "output_type": "stream",
       "stream": "stdout",
       "text": [
        "\n",
        "LL = 127466.23578371281\n",
        "Param values 14857.761923331449,494.1818030109549,1992.6187185501435,4.7687341299864507e8\n",
        "0.1832176077557972\n",
        "45900"
       ]
      },
      {
       "output_type": "stream",
       "stream": "stdout",
       "text": [
        "\n",
        "LL = 127466.42015655381\n",
        "Param values 14782.569937025895,488.52598135608724,2138.279315810631,5.2343599522124267e8\n",
        "0.1832977471785263\n",
        "46000"
       ]
      },
      {
       "output_type": "stream",
       "stream": "stdout",
       "text": [
        "\n",
        "LL = 127465.80385931763\n",
        "Param values 15212.904804613596,505.8381119470542,2200.1340526296103,5.264442879543876e8\n",
        "0.18344275838079915\n",
        "46100"
       ]
      },
      {
       "output_type": "stream",
       "stream": "stdout",
       "text": [
        "\n",
        "LL = 127465.88484980552\n",
        "Param values 14984.206504130561,531.1485039099568,2165.1361493829354,4.615447983747261e8\n",
        "0.18352206169465052\n",
        "46200"
       ]
      },
      {
       "output_type": "stream",
       "stream": "stdout",
       "text": [
        "\n",
        "LL = 127467.81255645894\n",
        "Param values 14920.600867458854,483.71876235885566,2036.5807451636294,5.0669373459962785e8\n",
        "0.18362266764795013\n",
        "46300"
       ]
      },
      {
       "output_type": "stream",
       "stream": "stdout",
       "text": [
        "\n",
        "LL = 127466.96993856442\n",
        "Param values 14995.342144102788,514.1457896517607,2071.456915548939,4.67092306359339e8\n",
        "0.18370123979437555\n",
        "46400"
       ]
      },
      {
       "output_type": "stream",
       "stream": "stdout",
       "text": [
        "\n",
        "LL = 127467.41210800463\n",
        "Param values 14824.61698563553,485.2295211446719,2078.954309521567,5.045568878682133e8\n",
        "0.18371481529376266\n",
        "46500"
       ]
      },
      {
       "output_type": "stream",
       "stream": "stdout",
       "text": [
        "\n",
        "LL = 127466.4126315445\n",
        "Param values 15164.994005926235,521.3410516214992,2213.2707974734685,5.045203618467424e8\n",
        "0.1837928513054325\n",
        "46600"
       ]
      },
      {
       "output_type": "stream",
       "stream": "stdout",
       "text": [
        "\n",
        "LL = 127466.7257196606\n",
        "Param values 15031.774028113263,523.3720074873016,2199.457025583903,4.8033359440695083e8\n",
        "0.18378471179020558\n",
        "46700"
       ]
      },
      {
       "output_type": "stream",
       "stream": "stdout",
       "text": [
        "\n",
        "LL = 127467.73742536134\n",
        "Param values 15012.315074800901,510.62246469046255,2111.8771442937996,4.9685346624547005e8\n",
        "0.18371236455522721\n",
        "46800"
       ]
      },
      {
       "output_type": "stream",
       "stream": "stdout",
       "text": [
        "\n",
        "LL = 127466.2452066243\n",
        "Param values 14805.870008989687,484.8486020846517,2052.44817859194,5.232927984676947e8\n",
        "0.18374716868242233\n",
        "46900"
       ]
      },
      {
       "output_type": "stream",
       "stream": "stdout",
       "text": [
        "\n",
        "LL = 127466.29993904103\n",
        "Param values 14901.910503101995,505.34395628552437,2217.649125947552,5.394659201279181e8\n",
        "0.18361124141754445\n",
        "47000"
       ]
      },
      {
       "output_type": "stream",
       "stream": "stdout",
       "text": [
        "\n",
        "LL = 127466.63521070211\n",
        "Param values 14937.995790718414,484.6417769040227,2091.9059136022647,4.808209906629394e8\n",
        "0.18362483509936592\n",
        "47100"
       ]
      },
      {
       "output_type": "stream",
       "stream": "stdout",
       "text": [
        "\n",
        "LL = 127464.19889532674\n",
        "Param values 14922.046129053751,525.4582279738501,2316.878968743349,5.089429878188375e8\n",
        "0.18353220943564483\n",
        "47200"
       ]
      },
      {
       "output_type": "stream",
       "stream": "stdout",
       "text": [
        "\n",
        "LL = 127467.47057866988\n",
        "Param values 15126.701357697893,500.7225398581379,2086.8229263077524,5.0676963197487134e8\n",
        "0.18348235094707402\n",
        "47300"
       ]
      },
      {
       "output_type": "stream",
       "stream": "stdout",
       "text": [
        "\n",
        "LL = 127467.56051309225\n",
        "Param values 14856.948648200563,490.2879664230137,2052.5643080924747,4.806471164207326e8\n",
        "0.18362298617277686\n",
        "47400"
       ]
      },
      {
       "output_type": "stream",
       "stream": "stdout",
       "text": [
        "\n",
        "LL = 127466.95212976761\n",
        "Param values 14942.705319965253,522.3738949159322,2150.2568823710358,4.8951075499055934e8\n",
        "0.18365753829275497\n",
        "47500"
       ]
      },
      {
       "output_type": "stream",
       "stream": "stdout",
       "text": [
        "\n",
        "LL = 127465.75432360989\n",
        "Param values 14868.636742311994,495.3983824682411,2065.451038009502,5.259090670513839e8\n",
        "0.18383931955029686\n",
        "47600"
       ]
      },
      {
       "output_type": "stream",
       "stream": "stdout",
       "text": [
        "\n",
        "LL = 127464.69588652249\n",
        "Param values 15002.30062730794,467.89098215149517,2130.2705891620726,5.383826112192557e8\n",
        "0.18393629984453128\n",
        "47700"
       ]
      },
      {
       "output_type": "stream",
       "stream": "stdout",
       "text": [
        "\n",
        "LL = 127467.44597370869\n",
        "Param values 15098.693964670058,516.1251997052473,2131.87291006602,4.895641233670503e8\n",
        "0.18401190825611136\n",
        "47800"
       ]
      },
      {
       "output_type": "stream",
       "stream": "stdout",
       "text": [
        "\n",
        "LL = 127466.70002445883\n",
        "Param values 14998.364444291405,518.1601982279832,2223.5880027295316,5.251524197356018e8\n",
        "0.18398259341395037\n",
        "47900"
       ]
      },
      {
       "output_type": "stream",
       "stream": "stdout",
       "text": [
        "\n",
        "LL = 127466.0234728937\n",
        "Param values 15137.642175821014,513.6396743392727,2159.489444004859,5.28535849412582e8\n",
        "0.18409954486617394\n",
        "48000"
       ]
      },
      {
       "output_type": "stream",
       "stream": "stdout",
       "text": [
        "\n",
        "LL = 127464.73300574774\n",
        "Param values 15107.727887229606,471.64857867738243,2103.689896986974,5.090558029310528e8\n",
        "0.1841743405975249\n",
        "48100"
       ]
      },
      {
       "output_type": "stream",
       "stream": "stdout",
       "text": [
        "\n",
        "LL = 127465.6832794966\n",
        "Param values 15179.273660649164,500.31045555727405,2098.3096821486893,4.642863107579026e8\n",
        "0.1842488253149819\n",
        "48200"
       ]
      },
      {
       "output_type": "stream",
       "stream": "stdout",
       "text": [
        "\n",
        "LL = 127464.29463936454\n",
        "Param values 15179.574633709915,523.5172231520116,2073.6936255785163,4.8598489919060665e8\n",
        "0.18419851446118096\n",
        "48300"
       ]
      },
      {
       "output_type": "stream",
       "stream": "stdout",
       "text": [
        "\n",
        "LL = 127467.14817862303\n",
        "Param values 15154.94224111299,492.8744715377456,2123.58984561916,5.0829136837534434e8\n",
        "0.18427264068905544\n",
        "48400"
       ]
      },
      {
       "output_type": "stream",
       "stream": "stdout",
       "text": [
        "\n",
        "LL = 127464.66249322305\n",
        "Param values 15201.759475071236,483.0682912076726,1929.8318926722131,4.7304193822414666e8\n",
        "0.18426381255423777\n",
        "48500"
       ]
      },
      {
       "output_type": "stream",
       "stream": "stdout",
       "text": [
        "\n",
        "LL = 127465.2236532485\n",
        "Param values 15096.207283817861,486.5694884603484,2163.66281616247,5.629296657255844e8\n",
        "0.18450245370943133\n",
        "48600"
       ]
      },
      {
       "output_type": "stream",
       "stream": "stdout",
       "text": [
        "\n",
        "LL = 127466.97179575001\n",
        "Param values 15158.667265212076,508.0669405944331,2104.520393660555,5.0525472005569565e8\n",
        "0.18453434297707724\n",
        "48700"
       ]
      },
      {
       "output_type": "stream",
       "stream": "stdout",
       "text": [
        "\n",
        "LL = 127467.07963213728\n",
        "Param values 15145.432029101703,484.55854047535314,2038.1786013224134,5.1236857449186885e8\n",
        "0.1845866360014785\n",
        "48800"
       ]
      },
      {
       "output_type": "stream",
       "stream": "stdout",
       "text": [
        "\n",
        "LL = 127464.76248420303\n",
        "Param values 15022.462217713477,482.84981162722653,1950.3673058103182,5.063751590314542e8\n",
        "0.18470019263084553\n",
        "48900"
       ]
      },
      {
       "output_type": "stream",
       "stream": "stdout",
       "text": [
        "\n",
        "LL = 127467.79399283662\n",
        "Param values 15013.193026916551,507.2204653584501,2125.0464574906946,5.090407755590444e8\n",
        "0.18473148186019878\n",
        "49000"
       ]
      },
      {
       "output_type": "stream",
       "stream": "stdout",
       "text": [
        "\n",
        "LL = 127467.29381738622\n",
        "Param values 15038.800459935113,515.9467517502032,2131.1671003007827,5.011241281288552e8\n",
        "0.18468100738805665\n",
        "49100"
       ]
      },
      {
       "output_type": "stream",
       "stream": "stdout",
       "text": [
        "\n",
        "LL = 127466.27819885667\n",
        "Param values 14941.178753411321,460.37038177349797,2007.1151932285015,5.2553056435769767e8\n",
        "0.18473257566499654\n",
        "49200"
       ]
      },
      {
       "output_type": "stream",
       "stream": "stdout",
       "text": [
        "\n",
        "LL = 127466.40511250719\n",
        "Param values 15204.043963917857,484.2340020298608,2063.081128672352,4.9367835980873704e8\n",
        "0.18496686857189318\n",
        "49300"
       ]
      },
      {
       "output_type": "stream",
       "stream": "stdout",
       "text": [
        "\n",
        "LL = 127467.13604272003\n",
        "Param values 14892.686673414024,472.38841744578747,1979.968983042166,4.860291120857513e8\n",
        "0.18491622378189784\n",
        "49400"
       ]
      },
      {
       "output_type": "stream",
       "stream": "stdout",
       "text": [
        "\n",
        "LL = 127467.2658768914\n",
        "Param values 14948.325607599016,482.3114307861051,2122.9194603941837,5.296060394611869e8\n",
        "0.18500749018178875\n",
        "49500"
       ]
      },
      {
       "output_type": "stream",
       "stream": "stdout",
       "text": [
        "\n",
        "LL = 127467.5348723121\n",
        "Param values 15027.608400637351,475.0757916830287,2003.275750736668,4.8976344449996144e8\n",
        "0.18505798214069255\n",
        "49600"
       ]
      },
      {
       "output_type": "stream",
       "stream": "stdout",
       "text": [
        "\n",
        "LL = 127467.56878581496\n",
        "Param values 15094.553525424604,485.62081064259974,2010.8566768051808,4.8413053168694794e8\n",
        "0.18500745997822493\n",
        "49700"
       ]
      },
      {
       "output_type": "stream",
       "stream": "stdout",
       "text": [
        "\n",
        "LL = 127463.33794297765\n",
        "Param values 14880.623369127346,544.893379037681,2260.4815361144265,5.112364290896825e8\n",
        "0.1849772626665057\n",
        "49800"
       ]
      },
      {
       "output_type": "stream",
       "stream": "stdout",
       "text": [
        "\n",
        "LL = 127467.69662694883\n",
        "Param values 14922.952173681118,509.9731298675642,2147.3921752761125,5.037814007691909e8\n",
        "0.18506767340053817\n",
        "49900"
       ]
      },
      {
       "output_type": "stream",
       "stream": "stdout",
       "text": [
        "\n",
        "LL = 127467.10575717929\n",
        "Param values 14830.818666053603,496.71998581896185,2052.0144791167604,4.901006822949705e8\n",
        "0.18499739468515772\n",
        "50000"
       ]
      },
      {
       "output_type": "stream",
       "stream": "stdout",
       "text": [
        "\n",
        "LL = 127466.28659673636\n",
        "Param values 14901.375502686376,479.9183911955316,2127.055695499498,5.0757677150594896e8\n",
        "0.18508740349613984\n",
        "50100"
       ]
      },
      {
       "output_type": "stream",
       "stream": "stdout",
       "text": [
        "\n",
        "LL = 127465.5385427083\n",
        "Param values 14923.571716631955,507.0790493363268,2253.193763737827,5.475905927493871e8\n",
        "0.1850173659627131\n",
        "50200"
       ]
      },
      {
       "output_type": "stream",
       "stream": "stdout",
       "text": [
        "\n",
        "LL = 127467.70243600711\n",
        "Param values 14917.504775110607,492.7832477815819,2141.316385140441,5.129709207635527e8\n",
        "0.18504721303637595\n",
        "50300"
       ]
      },
      {
       "output_type": "stream",
       "stream": "stdout",
       "text": [
        "\n",
        "LL = 127465.71412141177\n",
        "Param values 15157.064567891202,477.3206454230347,1991.581883038334,5.1974755036588705e8\n",
        "0.18503717841663683\n",
        "50400"
       ]
      },
      {
       "output_type": "stream",
       "stream": "stdout",
       "text": [
        "\n",
        "LL = 127467.26746216415\n",
        "Param values 15074.721404408569,509.8699163288097,2091.664753938418,4.983003498522607e8\n",
        "0.1849279733322751\n",
        "50500"
       ]
      },
      {
       "output_type": "stream",
       "stream": "stdout",
       "text": [
        "\n",
        "LL = 127465.98084459959\n",
        "Param values 14845.777275829269,490.1623740976187,1975.1465306333523,4.7560194134180367e8\n",
        "0.18489841181828984\n",
        "50600"
       ]
      },
      {
       "output_type": "stream",
       "stream": "stdout",
       "text": [
        "\n",
        "LL = 127466.78760593907\n",
        "Param values 15028.171514943055,498.3626696867789,2024.1807080704205,4.534600372968401e8\n",
        "0.18516542155816434\n",
        "50700"
       ]
      },
      {
       "output_type": "stream",
       "stream": "stdout",
       "text": [
        "\n",
        "LL = 127467.04504565684\n",
        "Param values 15114.732937854747,500.1305431226329,2165.761959178108,5.035047447110547e8\n",
        "0.18523413152392598\n",
        "50800"
       ]
      },
      {
       "output_type": "stream",
       "stream": "stdout",
       "text": [
        "\n",
        "LL = 127466.59090149797\n",
        "Param values 15106.957077350693,509.8832542797041,2051.148182675317,4.583182495879847e8\n",
        "0.18526319933855664\n",
        "50900"
       ]
      },
      {
       "output_type": "stream",
       "stream": "stdout",
       "text": [
        "\n",
        "LL = 127465.1126589319\n",
        "Param values 15119.017337917076,498.32496624593443,1962.8411060730775,4.479235326680443e8\n",
        "0.18535109434555386\n",
        "51000"
       ]
      },
      {
       "output_type": "stream",
       "stream": "stdout",
       "text": [
        "\n",
        "LL = 127466.68322088018\n",
        "Param values 15108.741479018037,494.29162529970347,2059.833481851536,4.637706903542155e8\n",
        "0.1855170791011412\n",
        "51100"
       ]
      },
      {
       "output_type": "stream",
       "stream": "stdout",
       "text": [
        "\n",
        "LL = 127466.83478207086\n",
        "Param values 14910.144044918658,514.6749715249186,2222.496086242477,5.13181110134272e8\n",
        "0.18574112489725625\n",
        "51200"
       ]
      },
      {
       "output_type": "stream",
       "stream": "stdout",
       "text": [
        "\n",
        "LL = 127467.37276340259\n",
        "Param values 15012.891412108183,507.0578873822291,2066.449226644703,4.9019954858029217e8\n",
        "0.18572991132466113\n",
        "51300"
       ]
      },
      {
       "output_type": "stream",
       "stream": "stdout",
       "text": [
        "\n",
        "LL = 127465.89075217674\n",
        "Param values 14922.032541380697,514.8570459526621,2077.3565919691287,4.478219043149875e8\n",
        "0.1856407657218605\n",
        "51400"
       ]
      },
      {
       "output_type": "stream",
       "stream": "stdout",
       "text": [
        "\n",
        "LL = 127465.62002748427\n",
        "Param values 15052.29085156648,512.845815125499,2084.031856722003,4.437123531292362e8\n",
        "0.18576598311218334\n",
        "51500"
       ]
      },
      {
       "output_type": "stream",
       "stream": "stdout",
       "text": [
        "\n",
        "LL = 127466.7356261473\n",
        "Param values 15069.725286156568,519.2593051261435,2217.481372838878,4.9373641657162553e8\n",
        "0.1858324595129908\n",
        "51600"
       ]
      },
      {
       "output_type": "stream",
       "stream": "stdout",
       "text": [
        "\n",
        "LL = 127467.16407929097\n",
        "Param values 14946.670941783446,470.92673731339215,2031.910730580815,4.9736390745708126e8\n",
        "0.18576301407031282\n",
        "51700"
       ]
      },
      {
       "output_type": "stream",
       "stream": "stdout",
       "text": [
        "\n",
        "LL = 127467.69249658818\n",
        "Param values 14952.372631010807,514.4327864614522,2144.1690714391657,4.886866256946786e8\n",
        "0.18569383728577507\n",
        "51800"
       ]
      },
      {
       "output_type": "stream",
       "stream": "stdout",
       "text": [
        "\n",
        "LL = 127467.99022441694\n",
        "Param values 14941.717551181302,494.6574037767061,2113.464887059464,5.1650606249165916e8\n",
        "0.18579867948569442\n",
        "51900"
       ]
      },
      {
       "output_type": "stream",
       "stream": "stdout",
       "text": [
        "\n",
        "LL = 127467.45212030696\n",
        "Param values 15123.283409321113,508.8300638094946,2157.9892330966545,5.103479440572169e8\n",
        "0.18576823769702108\n",
        "52000"
       ]
      },
      {
       "output_type": "stream",
       "stream": "stdout",
       "text": [
        "\n",
        "LL = 127465.37381855935\n",
        "Param values 15092.269495767428,538.0026719031588,2233.949167263008,5.059394197335743e8\n",
        "0.1857763760144621\n",
        "52100"
       ]
      },
      {
       "output_type": "stream",
       "stream": "stdout",
       "text": [
        "\n",
        "LL = 127467.7238564043\n",
        "Param values 14933.199049149269,484.405205727602,2079.175724478856,5.225808617176207e8\n",
        "0.1858228722791662\n",
        "52200"
       ]
      },
      {
       "output_type": "stream",
       "stream": "stdout",
       "text": [
        "\n",
        "LL = 127467.07976068559\n",
        "Param values 14876.124124326952,506.9464826826367,2181.8978874826385,4.9759024288349926e8\n",
        "0.1857925591018813\n",
        "52300"
       ]
      },
      {
       "output_type": "stream",
       "stream": "stdout",
       "text": [
        "\n",
        "LL = 127467.24967487085\n",
        "Param values 15010.29010241745,473.7276041294142,2037.6842015282612,5.254185663626779e8\n",
        "0.18599181613063598\n",
        "52400"
       ]
      },
      {
       "output_type": "stream",
       "stream": "stdout",
       "text": [
        "\n",
        "LL = 127467.88120576934\n",
        "Param values 15105.349261703132,500.69119357286655,2078.9253384217473,4.8691180120857114e8\n",
        "0.18580861864956677\n",
        "52500"
       ]
      },
      {
       "output_type": "stream",
       "stream": "stdout",
       "text": [
        "\n",
        "LL = 127467.08247738618\n",
        "Param values 14870.673275467261,489.3282017943096,2026.7138249008858,5.0213028137301683e8\n",
        "0.185759457503143\n",
        "52600"
       ]
      },
      {
       "output_type": "stream",
       "stream": "stdout",
       "text": [
        "\n",
        "LL = 127466.91189974848\n",
        "Param values 14898.574924931207,473.417963085206,1971.740283011087,4.758635619418986e8\n",
        "0.18578653180729304\n",
        "52700"
       ]
      },
      {
       "output_type": "stream",
       "stream": "stdout",
       "text": [
        "\n",
        "LL = 127467.80254223935\n",
        "Param values 15110.59168543397,504.96929824682076,2125.748956609675,4.935703392359303e8\n",
        "0.18573759914987287\n",
        "52800"
       ]
      },
      {
       "output_type": "stream",
       "stream": "stdout",
       "text": [
        "\n",
        "LL = 127464.75148541607\n",
        "Param values 14986.623740555926,518.7958609724031,2292.368651126452,5.505135902336388e8\n",
        "0.18582143263002388\n",
        "52900"
       ]
      },
      {
       "output_type": "stream",
       "stream": "stdout",
       "text": [
        "\n",
        "LL = 127465.02971289736\n",
        "Param values 15095.760434546117,477.58890746964664,1968.066556519338,5.2074425668986166e8\n",
        "0.18598056637301977\n",
        "53000"
       ]
      },
      {
       "output_type": "stream",
       "stream": "stdout",
       "text": [
        "\n",
        "LL = 127467.50228867932\n",
        "Param values 14890.988389279644,481.33312007426787,2008.3297768040259,4.799924963806573e8\n",
        "0.1858749386769312\n",
        "53100"
       ]
      },
      {
       "output_type": "stream",
       "stream": "stdout",
       "text": [
        "\n",
        "LL = 127463.39389829249\n",
        "Param values 14921.85918591398,445.9573012707922,1858.5125038505803,4.997876084598316e8\n",
        "0.185920373648725\n",
        "53200"
       ]
      },
      {
       "output_type": "stream",
       "stream": "stdout",
       "text": [
        "\n",
        "LL = 127467.36272741518\n",
        "Param values 15114.867803552872,499.85904615796517,2050.8619230318336,4.942835075551227e8\n",
        "0.1860032332042558\n",
        "53300"
       ]
      },
      {
       "output_type": "stream",
       "stream": "stdout",
       "text": [
        "\n",
        "LL = 127467.32426223217\n",
        "Param values 15112.914841349031,497.9337566894555,2072.79042066022,4.7217933504414076e8\n",
        "0.18595444481969306\n",
        "53400"
       ]
      },
      {
       "output_type": "stream",
       "stream": "stdout",
       "text": [
        "\n",
        "LL = 127465.77236226096\n",
        "Param values 15028.211304612068,476.45403493849017,1944.1610490954513,5.019903636762201e8\n",
        "0.18601820292894866\n",
        "53500"
       ]
      },
      {
       "output_type": "stream",
       "stream": "stdout",
       "text": [
        "\n",
        "LL = 127468.1608879158\n",
        "Param values 14942.357093681563,485.4515792305542,2050.192061504953,4.973867906768111e8\n",
        "0.18595087666828666\n",
        "53600"
       ]
      },
      {
       "output_type": "stream",
       "stream": "stdout",
       "text": [
        "\n",
        "LL = 127465.50293506656\n",
        "Param values 14824.597029398818,503.1171312608799,2012.909467455077,4.554294511585189e8\n",
        "0.18592111645956938\n",
        "53700"
       ]
      },
      {
       "output_type": "stream",
       "stream": "stdout",
       "text": [
        "\n",
        "LL = 127462.36318728264\n",
        "Param values 15281.07116566077,482.9332374384199,2084.099149105252,5.634255173413913e8\n",
        "0.18600320309881188\n",
        "53800"
       ]
      },
      {
       "output_type": "stream",
       "stream": "stdout",
       "text": [
        "\n",
        "LL = 127465.61102233721\n",
        "Param values 14752.88038646022,474.3681187167115,1992.9925281827607,5.0811473822227603e8\n",
        "0.18606639652031673\n",
        "53900"
       ]
      },
      {
       "output_type": "stream",
       "stream": "stdout",
       "text": [
        "\n",
        "LL = 127464.00894032641\n",
        "Param values 14748.415145842251,509.983562581811,2215.810622260507,5.438817884216732e8\n",
        "0.1859994805002041\n",
        "54000"
       ]
      },
      {
       "output_type": "stream",
       "stream": "stdout",
       "text": [
        "\n",
        "LL = 127467.8131179823\n",
        "Param values 14903.006090372266,486.0892542735559,2071.8721749018946,4.902578166062676e8\n",
        "0.1859698507352124\n",
        "54100"
       ]
      },
      {
       "output_type": "stream",
       "stream": "stdout",
       "text": [
        "\n",
        "LL = 127466.28483518185\n",
        "Param values 14990.077791317935,458.89402565253005,1974.3799097054791,5.1190040662899387e8\n",
        "0.18594033051129433\n",
        "54200"
       ]
      },
      {
       "output_type": "stream",
       "stream": "stdout",
       "text": [
        "\n",
        "LL = 127461.9582425868\n",
        "Param values 14912.776443143845,465.29313895907336,1833.9034248659027,4.357482327772503e8\n",
        "0.18598472268349386\n",
        "54300"
       ]
      },
      {
       "output_type": "stream",
       "stream": "stdout",
       "text": [
        "\n",
        "LL = 127466.69224920972\n",
        "Param values 15110.642728901323,501.98439675889716,2147.467284361899,5.350972709387427e8\n",
        "0.18606578511179048\n",
        "54400"
       ]
      },
      {
       "output_type": "stream",
       "stream": "stdout",
       "text": [
        "\n",
        "LL = 127467.70702818617\n",
        "Param values 15040.132137657578,514.5376596300111,2169.896497463158,5.004407664496758e8\n",
        "0.18605463436155742\n",
        "54500"
       ]
      },
      {
       "output_type": "stream",
       "stream": "stdout",
       "text": [
        "\n",
        "LL = 127465.84034764823\n",
        "Param values 14734.052863353088,472.86449027939767,2045.4593281306372,5.0538398825588185e8\n",
        "0.1861719696135638\n",
        "54600"
       ]
      },
      {
       "output_type": "stream",
       "stream": "stdout",
       "text": [
        "\n",
        "LL = 127466.70979683014\n",
        "Param values 15062.437436202812,481.44869992676433,2060.346743173592,5.364112870919635e8\n",
        "0.18625224367192939\n",
        "54700"
       ]
      },
      {
       "output_type": "stream",
       "stream": "stdout",
       "text": [
        "\n",
        "LL = 127466.2865463489\n",
        "Param values 15111.21154154124,525.8952698609867,2199.9198771593105,4.780837555076076e8\n",
        "0.1863139420088486\n",
        "54800"
       ]
      },
      {
       "output_type": "stream",
       "stream": "stdout",
       "text": [
        "\n",
        "LL = 127466.68102848499\n",
        "Param values 14887.856947913637,505.56711125124554,2071.9011638256275,4.996655223388868e8\n",
        "0.1863389174787401\n",
        "54900"
       ]
      },
      {
       "output_type": "stream",
       "stream": "stdout",
       "text": [
        "\n",
        "LL = 127467.74038266721\n",
        "Param values 14953.474837203787,490.8429495225927,2021.3095405260683,4.9047349520299405e8\n",
        "0.18641844875951766\n",
        "55000"
       ]
      },
      {
       "output_type": "stream",
       "stream": "stdout",
       "text": [
        "\n",
        "LL = 127465.7318994633\n",
        "Param values 14845.718074550685,528.9448328247851,2186.1907993451764,4.849641568714014e8\n",
        "0.18633404851085494\n",
        "55100"
       ]
      },
      {
       "output_type": "stream",
       "stream": "stdout",
       "text": [
        "\n",
        "LL = 127464.16678965277\n",
        "Param values 14747.694978589652,514.5007671562728,2175.6902565399882,4.657112162382483e8\n",
        "0.18650404733384152\n",
        "55200"
       ]
      },
      {
       "output_type": "stream",
       "stream": "stdout",
       "text": [
        "\n",
        "LL = 127466.99516648776\n",
        "Param values 15093.611398573783,489.2508375612745,2033.2576647540925,5.1349009159282863e8\n",
        "0.18658284720460885\n",
        "55300"
       ]
      },
      {
       "output_type": "stream",
       "stream": "stdout",
       "text": [
        "\n",
        "LL = 127467.42632188427\n",
        "Param values 15011.572160603097,519.2090618980058,2169.401610151329,4.8499172094654083e8\n",
        "0.18657094289124382\n",
        "55400"
       ]
      },
      {
       "output_type": "stream",
       "stream": "stdout",
       "text": [
        "\n",
        "LL = 127464.88564817436\n",
        "Param values 15054.648965192442,507.9576140227382,2013.9649667990475,4.895671937446848e8\n",
        "0.1865049279757392\n",
        "55500"
       ]
      },
      {
       "output_type": "stream",
       "stream": "stdout",
       "text": [
        "\n",
        "LL = 127467.54816483775\n",
        "Param values 14892.164696378815,495.55429988658517,2151.64140065476,5.175448341198807e8\n",
        "0.18651122562975242\n",
        "55600"
       ]
      },
      {
       "output_type": "stream",
       "stream": "stdout",
       "text": [
        "\n",
        "LL = 127466.83221368706\n",
        "Param values 15009.91714825215,511.4371331899751,2226.8254563977557,5.273474703298548e8\n",
        "0.18644555559552503\n",
        "55700"
       ]
      },
      {
       "output_type": "stream",
       "stream": "stdout",
       "text": [
        "\n",
        "LL = 127467.42777216797\n",
        "Param values 14820.026862087107,487.7476549275123,2066.383280766682,4.9450573004107636e8\n",
        "0.18641602930087256\n",
        "55800"
       ]
      },
      {
       "output_type": "stream",
       "stream": "stdout",
       "text": [
        "\n",
        "LL = 127467.60466885891\n",
        "Param values 15129.542808119928,497.2139383381664,2097.6839697707555,4.886078530079084e8\n",
        "0.18665543567869816\n",
        "55900"
       ]
      },
      {
       "output_type": "stream",
       "stream": "stdout",
       "text": [
        "\n",
        "LL = 127465.90027933568\n",
        "Param values 15004.869142514368,525.9466802856525,2099.8620002847883,4.732002424105728e8\n",
        "0.18671508819635765\n",
        "56000"
       ]
      },
      {
       "output_type": "stream",
       "stream": "stdout",
       "text": [
        "\n",
        "LL = 127467.84652615078\n",
        "Param values 14948.955709023288,496.36154867934573,2047.1045288397108,4.919946981970273e8\n",
        "0.18686381656487733\n",
        "56100"
       ]
      },
      {
       "output_type": "stream",
       "stream": "stdout",
       "text": [
        "\n",
        "LL = 127467.5487973251\n",
        "Param values 15084.157414686735,514.5790714896586,2122.3189406758675,4.897010831204276e8\n",
        "0.18695853684623337\n",
        "56200"
       ]
      },
      {
       "output_type": "stream",
       "stream": "stdout",
       "text": [
        "\n",
        "LL = 127465.71824239034\n",
        "Param values 15201.704880284075,484.6205102105169,2116.3084986459867,5.0743466110341364e8\n",
        "0.18705292003274138\n",
        "56300"
       ]
      },
      {
       "output_type": "stream",
       "stream": "stdout",
       "text": [
        "\n",
        "LL = 127465.70819613543\n",
        "Param values 14745.9874671814,471.34377669756054,1984.8086732001343,4.8424415658396614e8\n",
        "0.18707591743934066\n",
        "56400"
       ]
      },
      {
       "output_type": "stream",
       "stream": "stdout",
       "text": [
        "\n",
        "LL = 127462.46621891613\n",
        "Param values 15023.169671754016,437.8562585869653,1880.565158179437,4.9514329319804823e8\n",
        "0.18731160679456718\n",
        "56500"
       ]
      },
      {
       "output_type": "stream",
       "stream": "stdout",
       "text": [
        "\n",
        "LL = 127463.275709034\n",
        "Param values 14840.617530687037,463.6835128396126,2012.3256659019464,5.627024705719274e8\n",
        "0.18736946440581967\n",
        "56600"
       ]
      },
      {
       "output_type": "stream",
       "stream": "stdout",
       "text": [
        "\n",
        "LL = 127466.36473076958\n",
        "Param values 14785.099045964238,470.53340178941943,1999.5059359967306,4.943147645491175e8\n",
        "0.18739178062829076\n",
        "56700"
       ]
      },
      {
       "output_type": "stream",
       "stream": "stdout",
       "text": [
        "\n",
        "LL = 127465.27233158369\n",
        "Param values 15065.1187075145,510.8240922071342,2081.221393353219,5.1614271093004215e8\n",
        "0.18744929274401215\n",
        "56800"
       ]
      },
      {
       "output_type": "stream",
       "stream": "stdout",
       "text": [
        "\n",
        "LL = 127467.99539600372\n",
        "Param values 14952.040874246799,501.8061669255013,2109.626029177884,4.830106896657298e8\n",
        "0.18736575231522237\n",
        "56900"
       ]
      },
      {
       "output_type": "stream",
       "stream": "stdout",
       "text": [
        "\n",
        "LL = 127466.89861471963\n",
        "Param values 14896.510853802252,507.6724877908441,2119.568700370029,4.670048090688049e8\n",
        "0.18726493022601848\n",
        "57000"
       ]
      },
      {
       "output_type": "stream",
       "stream": "stdout",
       "text": [
        "\n",
        "LL = 127464.4690306395\n",
        "Param values 15138.582915597055,466.47996363212815,1907.2705436150939,5.0013625637889546e8\n",
        "0.18732236218814696\n",
        "57100"
       ]
      },
      {
       "output_type": "stream",
       "stream": "stdout",
       "text": [
        "\n",
        "LL = 127466.46532419919\n",
        "Param values 15008.993373201181,511.16499242190014,2090.431366646259,4.522526627770901e8\n",
        "0.18737959298048967\n",
        "57200"
       ]
      },
      {
       "output_type": "stream",
       "stream": "stdout",
       "text": [
        "\n",
        "LL = 127467.790425997\n",
        "Param values 14959.141420913498,503.0881640469963,2154.451274070728,4.955976437044923e8\n",
        "0.18747158991573132\n",
        "57300"
       ]
      },
      {
       "output_type": "stream",
       "stream": "stdout",
       "text": [
        "\n",
        "LL = 127467.75162528145\n",
        "Param values 14932.859518519454,490.7574017057688,2080.176800395441,5.179831143859693e8\n",
        "0.18752836050123914\n",
        "57400"
       ]
      },
      {
       "output_type": "stream",
       "stream": "stdout",
       "text": [
        "\n",
        "LL = 127465.34910020044\n",
        "Param values 15257.644635402974,510.09417994731376,2056.830409072186,4.8407048187271637e8\n",
        "0.18751524443360396\n",
        "57500"
       ]
      },
      {
       "output_type": "stream",
       "stream": "stdout",
       "text": [
        "\n",
        "LL = 127467.1288599898\n",
        "Param values 15083.601833950377,507.8021518097916,2168.81874929634,5.2668141188813484e8\n",
        "0.18753695780722807\n",
        "57600"
       ]
      },
      {
       "output_type": "stream",
       "stream": "stdout",
       "text": [
        "\n",
        "LL = 127465.30589938896\n",
        "Param values 14793.782588198985,483.24601965225804,1967.220329780045,4.54214764296744e8\n",
        "0.18757595749852427\n",
        "57700"
       ]
      },
      {
       "output_type": "stream",
       "stream": "stdout",
       "text": [
        "\n",
        "LL = 127467.58265864091\n",
        "Param values 15136.031800753513,498.3084311252619,2108.569863082648,4.9258636065894175e8\n",
        "0.1875108322645499\n",
        "57800"
       ]
      },
      {
       "output_type": "stream",
       "stream": "stdout",
       "text": [
        "\n",
        "LL = 127466.33038167765\n",
        "Param values 14872.514112455801,477.88336218374997,2122.5502526472465,5.426105766027102e8\n",
        "0.18751513893214297\n",
        "57900"
       ]
      },
      {
       "output_type": "stream",
       "stream": "stdout",
       "text": [
        "\n",
        "LL = 127465.53714982068\n",
        "Param values 14810.076361039948,477.2840955119863,1941.7921364537124,4.6477435715407616e8\n",
        "0.18757124598431724\n",
        "58000"
       ]
      },
      {
       "output_type": "stream",
       "stream": "stdout",
       "text": [
        "\n",
        "LL = 127467.6963332277\n",
        "Param values 15046.543422618295,482.8987659739753,2083.7182691255853,5.036239623984846e8\n",
        "0.18769612745267078\n",
        "58100"
       ]
      },
      {
       "output_type": "stream",
       "stream": "stdout",
       "text": [
        "\n",
        "LL = 127466.81307077427\n",
        "Param values 15074.51649947388,505.90113691081564,2070.216804740544,5.043899545766987e8\n",
        "0.18788942820751145\n",
        "58200"
       ]
      },
      {
       "output_type": "stream",
       "stream": "stdout",
       "text": [
        "\n",
        "LL = 127468.12891994424\n",
        "Param values 15008.46146793194,492.3239540078233,2108.7552161733656,5.004748580780976e8\n",
        "0.18782432385992645\n",
        "58300"
       ]
      },
      {
       "output_type": "stream",
       "stream": "stdout",
       "text": [
        "\n",
        "LL = 127466.60285357918\n",
        "Param values 15085.470408106,509.83435111493935,2214.3949427691327,5.035126487627286e8\n",
        "0.18791382208652097\n",
        "58400"
       ]
      },
      {
       "output_type": "stream",
       "stream": "stdout",
       "text": [
        "\n",
        "LL = 127467.21333348409\n",
        "Param values 15023.852692766894,487.6689063606713,2100.4401963510145,4.87301205243008e8\n",
        "0.1880372615500531\n",
        "58500"
       ]
      },
      {
       "output_type": "stream",
       "stream": "stdout",
       "text": [
        "\n",
        "LL = 127467.59665554336\n",
        "Param values 14917.585740217306,500.00710576008925,2167.121170772519,5.114683443833305e8\n",
        "0.18805771137474786\n",
        "58600"
       ]
      },
      {
       "output_type": "stream",
       "stream": "stdout",
       "text": [
        "\n",
        "LL = 127467.41510558808\n",
        "Param values 14827.224620474597,485.172798467491,2078.2821957691162,5.0844495437806284e8\n",
        "0.18821461483327076\n",
        "58700"
       ]
      },
      {
       "output_type": "stream",
       "stream": "stdout",
       "text": [
        "\n",
        "LL = 127462.6727916556\n",
        "Param values 15376.288632275255,508.6158463578171,2062.404240352588,5.0436980506802374e8\n",
        "0.1883028382568401\n",
        "58800"
       ]
      },
      {
       "output_type": "stream",
       "stream": "stdout",
       "text": [
        "\n",
        "LL = 127463.55383606208\n",
        "Param values 14697.87697663467,461.2026151748851,1945.8668067762871,5.1414534767142487e8\n",
        "0.18833973944691995\n",
        "58900"
       ]
      },
      {
       "output_type": "stream",
       "stream": "stdout",
       "text": [
        "\n",
        "LL = 127465.92197388849\n",
        "Param values 14762.426066605254,475.36262061526855,1980.911641877062,4.9333198364959896e8\n",
        "0.1882576657951034\n",
        "59000"
       ]
      },
      {
       "output_type": "stream",
       "stream": "stdout",
       "text": [
        "\n",
        "LL = 127466.8565365435\n",
        "Param values 15168.967234591932,500.2443532725094,2140.737514950998,5.24536552422767e8\n",
        "0.188345367639581\n",
        "59100"
       ]
      },
      {
       "output_type": "stream",
       "stream": "stdout",
       "text": [
        "\n",
        "LL = 127467.43589777798\n",
        "Param values 14968.13063117679,485.10464518093056,2129.480871530811,5.26853052460023e8\n",
        "0.1884496937290602\n",
        "59200"
       ]
      },
      {
       "output_type": "stream",
       "stream": "stdout",
       "text": [
        "\n",
        "LL = 127463.04041056619\n",
        "Param values 15264.23062811253,506.183723716057,1970.5205474520894,4.5919859674030465e8\n",
        "0.18841852765296124\n",
        "59300"
       ]
      },
      {
       "output_type": "stream",
       "stream": "stdout",
       "text": [
        "\n",
        "LL = 127464.5941426104\n",
        "Param values 14834.373271997252,483.0817090180794,2047.130527209427,5.441109276746026e8\n",
        "0.18857297042058754\n",
        "59400"
       ]
      },
      {
       "output_type": "stream",
       "stream": "stdout",
       "text": [
        "\n",
        "LL = 127466.71022436429\n",
        "Param values 14873.420925682023,510.2445581695271,2080.198249771571,4.8732357237625647e8\n",
        "0.18855853732448905\n",
        "59500"
       ]
      },
      {
       "output_type": "stream",
       "stream": "stdout",
       "text": [
        "\n",
        "LL = 127467.32211354286\n",
        "Param values 15029.534009614446,509.9016338448843,2063.628243533074,4.7356493026359713e8\n",
        "0.18867861104574943\n",
        "59600"
       ]
      },
      {
       "output_type": "stream",
       "stream": "stdout",
       "text": [
        "\n",
        "LL = 127466.22370578338\n",
        "Param values 15014.789017852934,488.2475851440999,2062.2107044955087,5.372409897222302e8\n",
        "0.1886640491291654\n",
        "59700"
       ]
      },
      {
       "output_type": "stream",
       "stream": "stdout",
       "text": [
        "\n",
        "LL = 127467.26145975338\n",
        "Param values 15120.03315878765,479.7926400921476,2019.2228817377343,5.062370649586458e8\n",
        "0.18869978893765285\n",
        "59800"
       ]
      },
      {
       "output_type": "stream",
       "stream": "stdout",
       "text": [
        "\n",
        "LL = 127465.90589500686\n",
        "Param values 15235.033709961275,482.4481599895637,2009.959947202379,5.0328913865738386e8\n",
        "0.18876885514565706\n",
        "59900"
       ]
      },
      {
       "output_type": "stream",
       "stream": "stdout",
       "text": [
        "\n",
        "LL = 127466.32319987779\n",
        "Param values 15071.725865158991,512.1786813867599,2133.167512577728,4.6078875535016096e8\n",
        "0.18882099569267755\n",
        "60000"
       ]
      },
      {
       "output_type": "stream",
       "stream": "stdout",
       "text": [
        "\n",
        "LL = 127466.17519641279\n",
        "Param values 15080.439404723547,501.56070097412197,2063.5774644306575,4.5135519618740314e8\n",
        "0.1889229640988033\n",
        "60100"
       ]
      },
      {
       "output_type": "stream",
       "stream": "stdout",
       "text": [
        "\n",
        "LL = 127463.62901560473\n",
        "Param values 15197.483310994277,476.04896425479814,1901.2113598081514,4.4981639344328666e8\n",
        "0.18895803520915838\n",
        "60200"
       ]
      },
      {
       "output_type": "stream",
       "stream": "stdout",
       "text": [
        "\n",
        "LL = 127465.368071659\n",
        "Param values 14741.98775247878,479.94940142543555,2129.450827045714,5.2031530306810534e8\n",
        "0.18899298980032558\n",
        "60300"
       ]
      },
      {
       "output_type": "stream",
       "stream": "stdout",
       "text": [
        "\n",
        "LL = 127467.62544335022\n",
        "Param values 15046.580648481406,511.78581507196014,2158.0222433350214,5.110380688329613e8\n",
        "0.18892832266410162\n",
        "60400"
       ]
      },
      {
       "output_type": "stream",
       "stream": "stdout",
       "text": [
        "\n",
        "LL = 127462.92602058781\n",
        "Param values 15252.98985144277,525.0866663782305,2307.976608888292,5.43249190123164e8\n",
        "0.18899632438160205\n",
        "60500"
       ]
      },
      {
       "output_type": "stream",
       "stream": "stdout",
       "text": [
        "\n",
        "LL = 127464.8071387052\n",
        "Param values 15245.957500798573,503.28723193471205,2102.2092186887617,5.297491599614177e8\n",
        "0.1890641012926047\n",
        "60600"
       ]
      },
      {
       "output_type": "stream",
       "stream": "stdout",
       "text": [
        "\n",
        "LL = 127464.98759749965\n",
        "Param values 15015.763287626338,472.9490587547299,2147.212228587309,5.581109786414511e8\n",
        "0.18914815670484175\n",
        "60700"
       ]
      },
      {
       "output_type": "stream",
       "stream": "stdout",
       "text": [
        "\n",
        "LL = 127463.57099495537\n",
        "Param values 15017.938356368915,457.1812501085634,2091.476957957842,5.614898376205992e8\n",
        "0.18926488516919832\n",
        "60800"
       ]
      },
      {
       "output_type": "stream",
       "stream": "stdout",
       "text": [
        "\n",
        "LL = 127466.11835058728\n",
        "Param values 14983.076776650454,476.780546028132,1947.9227868499136,4.5586120163896215e8\n",
        "0.18924964636994637\n",
        "60900"
       ]
      },
      {
       "output_type": "stream",
       "stream": "stdout",
       "text": [
        "\n",
        "LL = 127467.46821350316\n",
        "Param values 15051.910327266358,505.297764433946,2182.9930520342355,5.069590033780824e8\n",
        "0.18925087851817793\n",
        "61000"
       ]
      },
      {
       "output_type": "stream",
       "stream": "stdout",
       "text": [
        "\n",
        "LL = 127466.44465709118\n",
        "Param values 14990.708604557705,505.7662277069426,2053.831116075404,5.0073775888660437e8\n",
        "0.18935047050722975\n",
        "61100"
       ]
      },
      {
       "output_type": "stream",
       "stream": "stdout",
       "text": [
        "\n",
        "LL = 127466.9890527308\n",
        "Param values 14903.454565615004,503.3743566630492,2038.267301517197,4.76673324273922e8\n",
        "0.18944973648891944\n",
        "61200"
       ]
      },
      {
       "output_type": "stream",
       "stream": "stdout",
       "text": [
        "\n",
        "LL = 127467.85063304917\n",
        "Param values 14957.257287745515,479.17010940983874,2020.1258402542524,5.0342331666673225e8\n",
        "0.1893525932220007\n",
        "61300"
       ]
      },
      {
       "output_type": "stream",
       "stream": "stdout",
       "text": [
        "\n",
        "LL = 127466.84350808001\n",
        "Param values 15040.965976323754,488.9194094654987,2074.78603686548,4.7171541503960687e8\n",
        "0.1893536493849718\n",
        "61400"
       ]
      },
      {
       "output_type": "stream",
       "stream": "stdout",
       "text": [
        "\n",
        "LL = 127466.56540024871\n",
        "Param values 15189.132776902297,492.80605903591004,2025.2328379591322,4.7096347944798326e8\n",
        "0.18938727645851655\n",
        "61500"
       ]
      },
      {
       "output_type": "stream",
       "stream": "stdout",
       "text": [
        "\n",
        "LL = 127463.46284930965\n",
        "Param values 14867.345406304075,516.1092698572003,2273.1476984196265,5.627467612001383e8\n",
        "0.1894370548635728\n",
        "61600"
       ]
      },
      {
       "output_type": "stream",
       "stream": "stdout",
       "text": [
        "\n",
        "LL = 127468.28406733576\n",
        "Param values 14997.06022745723,489.8133286949214,2082.0727433188313,5.046548634922936e8\n",
        "0.18945420305854085\n",
        "61700"
       ]
      },
      {
       "output_type": "stream",
       "stream": "stdout",
       "text": [
        "\n",
        "LL = 127465.04531221418\n",
        "Param values 14983.592903921948,537.8911894731739,2165.6002777857875,4.573995199881371e8\n",
        "0.18948750364679567\n",
        "61800"
       ]
      },
      {
       "output_type": "stream",
       "stream": "stdout",
       "text": [
        "\n",
        "LL = 127466.49773106948\n",
        "Param values 15123.318439091401,498.59169836725573,2172.4102618025504,5.0180159594085234e8\n",
        "0.1894559694488495\n",
        "61900"
       ]
      },
      {
       "output_type": "stream",
       "stream": "stdout",
       "text": [
        "\n",
        "LL = 127467.93101793462\n",
        "Param values 15064.123540575518,489.17206456143737,2095.9396499243285,5.0174687536237884e8\n",
        "0.18947300397428027\n",
        "62000"
       ]
      },
      {
       "output_type": "stream",
       "stream": "stdout",
       "text": [
        "\n",
        "LL = 127465.654314546\n",
        "Param values 15055.963046534805,474.17090943841674,2106.902265639741,5.0880834124116373e8\n",
        "0.1895222426529888\n",
        "62100"
       ]
      },
      {
       "output_type": "stream",
       "stream": "stdout",
       "text": [
        "\n",
        "LL = 127467.03594102395\n",
        "Param values 15159.247111162547,500.6739786527172,2109.021893836603,5.1766192385615927e8\n",
        "0.18957132274791458\n",
        "62200"
       ]
      },
      {
       "output_type": "stream",
       "stream": "stdout",
       "text": [
        "\n",
        "LL = 127467.19153085545\n",
        "Param values 14996.534663955375,477.1153371228548,1974.2067942897174,4.7359792810870755e8\n",
        "0.18962024502395575\n",
        "62300"
       ]
      },
      {
       "output_type": "stream",
       "stream": "stdout",
       "text": [
        "\n",
        "LL = 127467.31579836666\n",
        "Param values 14874.726603361916,509.09682408847925,2100.626732187678,4.7822679180661803e8\n",
        "0.18947638768499792\n",
        "62400"
       ]
      },
      {
       "output_type": "stream",
       "stream": "stdout",
       "text": [
        "\n",
        "LL = 127465.71793683736\n",
        "Param values 15053.333356267303,511.84406773340766,2191.883610026934,4.744069765982958e8\n",
        "0.18941312221545561\n",
        "62500"
       ]
      },
      {
       "output_type": "stream",
       "stream": "stdout",
       "text": [
        "\n",
        "LL = 127466.282816067\n",
        "Param values 14782.742977832902,492.51910941590984,2161.0748107457352,5.1942047178636146e8\n",
        "0.18946206278600916\n",
        "62600"
       ]
      },
      {
       "output_type": "stream",
       "stream": "stdout",
       "text": [
        "\n",
        "LL = 127466.29189836951\n",
        "Param values 15099.452298733753,504.639355416749,2009.0933795046326,4.6678410468289155e8\n",
        "0.18955877184574588\n",
        "62700"
       ]
      },
      {
       "output_type": "stream",
       "stream": "stdout",
       "text": [
        "\n",
        "LL = 127466.53406458716\n",
        "Param values 14999.917777705228,511.7006759230741,2243.499319882472,5.255700675089024e8\n",
        "0.18967112188586557\n",
        "62800"
       ]
      },
      {
       "output_type": "stream",
       "stream": "stdout",
       "text": [
        "\n",
        "LL = 127467.24766674047\n",
        "Param values 14969.480496385855,520.8113433394502,2183.8086723078845,4.8776407821108514e8\n",
        "0.18968756966782382\n",
        "62900"
       ]
      },
      {
       "output_type": "stream",
       "stream": "stdout",
       "text": [
        "\n",
        "LL = 127467.2013059823\n",
        "Param values 14849.428456535734,484.73682787780336,2104.6821060681655,5.0223800866312885e8\n",
        "0.18970396514992527\n",
        "63000"
       ]
      },
      {
       "output_type": "stream",
       "stream": "stdout",
       "text": [
        "\n",
        "LL = 127467.70452586467\n",
        "Param values 14862.274778361276,491.6273976963814,2107.38276248073,5.0002312545784235e8\n",
        "0.18967268802184195\n",
        "63100"
       ]
      },
      {
       "output_type": "stream",
       "stream": "stdout",
       "text": [
        "\n",
        "LL = 127465.51501017205\n",
        "Param values 15173.111043639685,471.7578265534096,2008.1088946389245,5.29692711668394e8\n",
        "0.189546419854829\n",
        "63200"
       ]
      },
      {
       "output_type": "stream",
       "stream": "stdout",
       "text": [
        "\n",
        "LL = 127466.47642052166\n",
        "Param values 15112.726807985448,484.7671724732717,2041.2056144882426,4.695661447727436e8\n",
        "0.18968954713756764\n",
        "63300"
       ]
      },
      {
       "output_type": "stream",
       "stream": "stdout",
       "text": [
        "\n",
        "LL = 127467.17958117135\n",
        "Param values 15094.22707940231,518.0605970663909,2152.803453570356,4.7819305206855327e8\n",
        "0.18959524787513032\n",
        "63400"
       ]
      },
      {
       "output_type": "stream",
       "stream": "stdout",
       "text": [
        "\n",
        "LL = 127468.21827677665\n",
        "Param values 14990.615470024597,492.53310751167464,2100.3161495527324,4.976898462644993e8\n",
        "0.18956433956907157\n",
        "63500"
       ]
      },
      {
       "output_type": "stream",
       "stream": "stdout",
       "text": [
        "\n",
        "LL = 127467.40918643119\n",
        "Param values 14938.012498023822,506.2560358737138,2110.1113850577894,5.095144922879349e8\n",
        "0.18956502567009983\n",
        "63600"
       ]
      },
      {
       "output_type": "stream",
       "stream": "stdout",
       "text": [
        "\n",
        "LL = 127467.12002776218\n",
        "Param values 15032.74559329976,477.87674260983687,2047.1378480175058,4.859586740255557e8\n",
        "0.18956570961350985\n",
        "63700"
       ]
      },
      {
       "output_type": "stream",
       "stream": "stdout",
       "text": [
        "\n",
        "LL = 127465.349916936\n",
        "Param values 14997.129101678038,476.04599914237673,1912.2095310929335,4.520186784604784e8\n",
        "0.18947219692925996\n",
        "63800"
       ]
      },
      {
       "output_type": "stream",
       "stream": "stdout",
       "text": [
        "\n",
        "LL = 127465.49165557751\n",
        "Param values 15155.154649596043,493.9264622150157,2080.569626956957,5.379421107503082e8\n",
        "0.18937897739741058\n",
        "63900"
       ]
      },
      {
       "output_type": "stream",
       "stream": "stdout",
       "text": [
        "\n",
        "LL = 127459.56265119697\n",
        "Param values 14690.857446710676,464.77745507427574,2184.754543569502,5.880897231059873e8\n",
        "0.18944254906256847\n",
        "64000"
       ]
      },
      {
       "output_type": "stream",
       "stream": "stdout",
       "text": [
        "\n",
        "LL = 127466.70935764653\n",
        "Param values 15066.408357369804,501.3648109310896,2182.1247532043485,5.407629310803958e8\n",
        "0.18942779461858184\n",
        "64100"
       ]
      },
      {
       "output_type": "stream",
       "stream": "stdout",
       "text": [
        "\n",
        "LL = 127465.96740733838\n",
        "Param values 15202.291942916005,488.17226352919783,2137.71637401598,5.2690284337311137e8\n",
        "0.18944428843333647\n",
        "64200"
       ]
      },
      {
       "output_type": "stream",
       "stream": "stdout",
       "text": [
        "\n",
        "LL = 127467.05056711214\n",
        "Param values 15087.742657948556,518.4367845406116,2114.666981526086,4.8756958033646894e8\n",
        "0.18944515405464343\n",
        "64300"
       ]
      },
      {
       "output_type": "stream",
       "stream": "stdout",
       "text": [
        "\n",
        "LL = 127467.06050940463\n",
        "Param values 15065.746989301231,503.61643212177455,2046.910094379463,4.593396296684978e8\n",
        "0.18944601698342095\n",
        "64400"
       ]
      },
      {
       "output_type": "stream",
       "stream": "stdout",
       "text": [
        "\n",
        "LL = 127467.09075885329\n",
        "Param values 14946.79325547848,492.22860167122855,2165.1803644528777,5.362829350830543e8\n",
        "0.1894624056647722\n",
        "64500"
       ]
      },
      {
       "output_type": "stream",
       "stream": "stdout",
       "text": [
        "\n",
        "LL = 127466.87012991116\n",
        "Param values 15001.546932719977,470.503401217604,2061.4904052498323,5.3181846219716805e8\n",
        "0.18938571738658563\n",
        "64600"
       ]
      },
      {
       "output_type": "stream",
       "stream": "stdout",
       "text": [
        "\n",
        "LL = 127467.8015168281\n",
        "Param values 14982.56803234419,481.70023915886566,2086.0457969774347,5.2005714676151997e8\n",
        "0.18930926654075977\n",
        "64700"
       ]
      },
      {
       "output_type": "stream",
       "stream": "stdout",
       "text": [
        "\n",
        "LL = 127467.16499805686\n",
        "Param values 15066.861559597171,501.6793226220223,2078.935201151195,5.1228475171380055e8\n",
        "0.1893567034529661\n",
        "64800"
       ]
      },
      {
       "output_type": "stream",
       "stream": "stdout",
       "text": [
        "\n",
        "LL = 127467.41353361406\n",
        "Param values 15022.19797387378,484.42753720541583,2019.0695481008338,4.7078036166836184e8\n",
        "0.1893113984999537\n",
        "64900"
       ]
      },
      {
       "output_type": "stream",
       "stream": "stdout",
       "text": [
        "\n",
        "LL = 127465.48822224529\n",
        "Param values 15111.757465280101,491.6185022818117,2096.1496727446533,5.479255857802596e8\n",
        "0.18926623316589108\n",
        "65000"
       ]
      },
      {
       "output_type": "stream",
       "stream": "stdout",
       "text": [
        "\n",
        "LL = 127467.55711323464\n",
        "Param values 15129.21428189309,502.73687664151817,2144.352470710481,5.049894685951906e8\n",
        "0.18926736207267916\n",
        "65100"
       ]
      },
      {
       "output_type": "stream",
       "stream": "stdout",
       "text": [
        "\n",
        "LL = 127468.09732170463\n",
        "Param values 14999.585166306148,497.48148466278593,2077.7846274277895,4.7989601696605414e8\n",
        "0.18926848751113706\n",
        "65200"
       ]
      },
      {
       "output_type": "stream",
       "stream": "stdout",
       "text": [
        "\n",
        "LL = 127466.72914257128\n",
        "Param values 14850.356518732036,467.9901447889066,2008.5594104851505,4.9643701695453155e8\n",
        "0.18920825792202214\n",
        "65300"
       ]
      },
      {
       "output_type": "stream",
       "stream": "stdout",
       "text": [
        "\n",
        "LL = 127467.18975488913\n",
        "Param values 14987.977398985897,509.95521536106895,2059.7635188216645,4.686616721055932e8\n",
        "0.18919415602315537\n",
        "65400"
       ]
      },
      {
       "output_type": "stream",
       "stream": "stdout",
       "text": [
        "\n",
        "LL = 127467.2056864711\n",
        "Param values 14910.321905013108,506.3862722832775,2069.545213784104,4.88824230113041e8\n",
        "0.1892565521881403\n",
        "65500"
       ]
      },
      {
       "output_type": "stream",
       "stream": "stdout",
       "text": [
        "\n",
        "LL = 127466.8207970025\n",
        "Param values 15163.885755137728,484.4960743940389,2078.1694907605242,4.97602509675933e8\n",
        "0.18919661669058596\n",
        "65600"
       ]
      },
      {
       "output_type": "stream",
       "stream": "stdout",
       "text": [
        "\n",
        "LL = 127465.28375493329\n",
        "Param values 15008.862368363752,528.6422968222362,2134.5212170046207,4.9755207409232485e8\n",
        "0.18918259703039728\n",
        "65700"
       ]
      },
      {
       "output_type": "stream",
       "stream": "stdout",
       "text": [
        "\n",
        "LL = 127466.13169845015\n",
        "Param values 14979.729738348273,465.88449455647867,2005.9952496764517,5.3624109255068076e8\n",
        "0.18924472586684526\n",
        "65800"
       ]
      },
      {
       "output_type": "stream",
       "stream": "stdout",
       "text": [
        "\n",
        "LL = 127467.92845887506\n",
        "Param values 15046.554842343785,505.11498887764736,2080.9079076729863,4.796850858744763e8\n",
        "0.18933706191677557\n",
        "65900"
       ]
      },
      {
       "output_type": "stream",
       "stream": "stdout",
       "text": [
        "\n",
        "LL = 127466.9827924379\n",
        "Param values 15022.424721356816,525.1020791380679,2165.1370145872306,4.917264330307894e8\n",
        "0.1892166681841634\n",
        "66000"
       ]
      },
      {
       "output_type": "stream",
       "stream": "stdout",
       "text": [
        "\n",
        "LL = 127466.98038489108\n",
        "Param values 15080.453924319461,473.110550654964,2017.5245831604068,5.1984531167438453e8\n",
        "0.18921785508651778\n",
        "66100"
       ]
      },
      {
       "output_type": "stream",
       "stream": "stdout",
       "text": [
        "\n",
        "LL = 127467.2285692624\n",
        "Param values 14936.095842399278,499.51790531183417,2170.620451186293,4.99825309532719e8\n",
        "0.18918878029592423\n",
        "66200"
       ]
      },
      {
       "output_type": "stream",
       "stream": "stdout",
       "text": [
        "\n",
        "LL = 127465.66590291706\n",
        "Param values 14787.204666853406,486.78314476880985,2169.8430537858176,5.27377020355299e8\n",
        "0.189250430526602\n",
        "66300"
       ]
      },
      {
       "output_type": "stream",
       "stream": "stdout",
       "text": [
        "\n",
        "LL = 127465.9816824423\n",
        "Param values 14887.493613888777,473.5021892905605,2088.399854541624,4.9926102285772216e8\n",
        "0.18926664454433015\n",
        "66400"
       ]
      },
      {
       "output_type": "stream",
       "stream": "stdout",
       "text": [
        "\n",
        "LL = 127465.64274168725\n",
        "Param values 15193.000590941683,522.7760243346303,2203.578742137968,4.8195015765580314e8\n",
        "0.18928280972318443\n",
        "66500"
       ]
      },
      {
       "output_type": "stream",
       "stream": "stdout",
       "text": [
        "\n",
        "LL = 127467.36826872091\n",
        "Param values 15110.697780503748,496.30469737061173,2078.2893155902475,5.145629501858618e8\n",
        "0.18929892628349726\n",
        "66600"
       ]
      },
      {
       "output_type": "stream",
       "stream": "stdout",
       "text": [
        "\n",
        "LL = 127465.31762823752\n",
        "Param values 14791.708056265394,524.5268691681133,2162.2989264155126,4.7365115935472e8\n",
        "0.18946514910357667\n",
        "66700"
       ]
      },
      {
       "output_type": "stream",
       "stream": "stdout",
       "text": [
        "\n",
        "LL = 127467.25541955155\n",
        "Param values 15103.754001879193,493.0683752589305,2067.2823611420054,4.7383827878539026e8\n",
        "0.18945095804971662\n",
        "66800"
       ]
      },
      {
       "output_type": "stream",
       "stream": "stdout",
       "text": [
        "\n",
        "LL = 127464.79415073947\n",
        "Param values 15048.816113884784,512.9502671281806,2002.0739274351693,4.609316483178011e8\n",
        "0.18973621964729484\n",
        "66900"
       ]
      },
      {
       "output_type": "stream",
       "stream": "stdout",
       "text": [
        "\n",
        "LL = 127466.04370933992\n",
        "Param values 14910.650802992968,516.1979578189105,2154.7699948431377,5.206233644315726e8\n",
        "0.18979640646955065\n",
        "67000"
       ]
      },
      {
       "output_type": "stream",
       "stream": "stdout",
       "text": [
        "\n",
        "LL = 127466.3263980168\n",
        "Param values 15198.914167197281,502.0121156951668,2053.532104346269,4.651453776717e8\n",
        "0.18978178453088151\n",
        "67100"
       ]
      },
      {
       "output_type": "stream",
       "stream": "stdout",
       "text": [
        "\n",
        "LL = 127467.21790253218\n",
        "Param values 14912.922572761589,509.17476537868157,2087.4603659581553,4.66803409298136e8\n",
        "0.18991624191481118\n",
        "67200"
       ]
      },
      {
       "output_type": "stream",
       "stream": "stdout",
       "text": [
        "\n",
        "LL = 127467.91323942879\n",
        "Param values 14999.082635217626,503.52731894757795,2082.3724840043383,4.7456848479127866e8\n",
        "0.18993124795380814\n",
        "67300"
       ]
      },
      {
       "output_type": "stream",
       "stream": "stdout",
       "text": [
        "\n",
        "LL = 127466.0221264925\n",
        "Param values 14981.19134349849,530.0447212660007,2135.177817823952,4.7431915103722215e8\n",
        "0.18996106867960416\n",
        "67400"
       ]
      },
      {
       "output_type": "stream",
       "stream": "stdout",
       "text": [
        "\n",
        "LL = 127466.53073971927\n",
        "Param values 14801.541323729392,510.9075685800866,2173.334934806179,5.0513248988567686e8\n",
        "0.18997596367844743\n",
        "67500"
       ]
      },
      {
       "output_type": "stream",
       "stream": "stdout",
       "text": [
        "\n",
        "LL = 127466.83887362128\n",
        "Param values 15061.674784661647,502.64364841776535,2198.708529990829,5.3526698976057285e8\n",
        "0.18990192301994133\n",
        "67600"
       ]
      },
      {
       "output_type": "stream",
       "stream": "stdout",
       "text": [
        "\n",
        "LL = 127464.60897591202\n",
        "Param values 15283.074884186724,499.78627518697704,2162.5878578376305,4.986344578415863e8\n",
        "0.18985768809728099\n",
        "67700"
       ]
      },
      {
       "output_type": "stream",
       "stream": "stdout",
       "text": [
        "\n",
        "LL = 127466.84777981385\n",
        "Param values 14937.514857776196,491.69310054020264,1985.56850094046,4.625315758880994e8\n",
        "0.18990221276847175\n",
        "67800"
       ]
      },
      {
       "output_type": "stream",
       "stream": "stdout",
       "text": [
        "\n",
        "LL = 127465.32133668878\n",
        "Param values 14976.938932174244,523.7585908699323,2251.790660811262,4.832487529646292e8\n",
        "0.18984335821115667\n",
        "67900"
       ]
      },
      {
       "output_type": "stream",
       "stream": "stdout",
       "text": [
        "\n",
        "LL = 127464.15569305893\n",
        "Param values 15047.404307074752,472.517491785827,2165.6806127375926,5.599970382525839e8\n",
        "0.18985831688709534\n",
        "68000"
       ]
      },
      {
       "output_type": "stream",
       "stream": "stdout",
       "text": [
        "\n",
        "LL = 127467.7105446098\n",
        "Param values 14952.225611586717,485.8108958314125,2044.7164091027155,5.13244065403125e8\n",
        "0.18981440630606783\n",
        "68100"
       ]
      },
      {
       "output_type": "stream",
       "stream": "stdout",
       "text": [
        "\n",
        "LL = 127467.3540768855\n",
        "Param values 14894.249783820222,471.79743796457626,2014.1359044212775,4.99131325437581e8\n",
        "0.18977062468794972\n",
        "68200"
       ]
      },
      {
       "output_type": "stream",
       "stream": "stdout",
       "text": [
        "\n",
        "LL = 127467.27784555865\n",
        "Param values 14909.418332637493,507.54212468342826,2179.3017461768804,5.208595558777086e8\n",
        "0.18975629783864628\n",
        "68300"
       ]
      },
      {
       "output_type": "stream",
       "stream": "stdout",
       "text": [
        "\n",
        "LL = 127466.04299687127\n",
        "Param values 15096.010699565828,524.8090604207466,2196.859588707882,4.7202518390499455e8\n",
        "0.18980057981200035\n",
        "68400"
       ]
      },
      {
       "output_type": "stream",
       "stream": "stdout",
       "text": [
        "\n",
        "LL = 127466.80814745904\n",
        "Param values 14995.968281147198,493.13126883355017,2088.307917227565,4.681814491927142e8\n",
        "0.1898154916810433\n",
        "68500"
       ]
      },
      {
       "output_type": "stream",
       "stream": "stdout",
       "text": [
        "\n",
        "LL = 127466.98937583157\n",
        "Param values 14918.439845579793,484.42819968957417,2007.2610117135926,5.071477972353221e8\n",
        "0.18981576104411807\n",
        "68600"
       ]
      },
      {
       "output_type": "stream",
       "stream": "stdout",
       "text": [
        "\n",
        "LL = 127467.80765822393\n",
        "Param values 15032.906286394787,489.46234670550285,2075.3695946749654,5.18821387689939e8\n",
        "0.18981602962185487\n",
        "68700"
       ]
      },
      {
       "output_type": "stream",
       "stream": "stdout",
       "text": [
        "\n",
        "LL = 127467.61677698485\n",
        "Param values 14973.142589543851,498.34502677948336,2132.5461401403777,4.8728531846569544e8\n",
        "0.1897726280241055\n",
        "68800"
       ]
      },
      {
       "output_type": "stream",
       "stream": "stdout",
       "text": [
        "\n",
        "LL = 127461.43454185329\n",
        "Param values 15199.495946420991,449.36662065773123,1835.8291684110804,4.7369279597427106e8\n",
        "0.18980202912875374\n",
        "68900"
       ]
      },
      {
       "output_type": "stream",
       "stream": "stdout",
       "text": [
        "\n",
        "LL = 127465.53431325874\n",
        "Param values 15019.905530643055,489.61227175368214,1959.5698006555206,4.424268443761976e8\n",
        "0.18984585909605503\n",
        "69000"
       ]
      },
      {
       "output_type": "stream",
       "stream": "stdout",
       "text": [
        "\n",
        "LL = 127464.39782051147\n",
        "Param values 14956.43492231341,466.1888386742967,1889.2279445231143,4.4870061635999835e8\n",
        "0.18984608249514479\n",
        "69100"
       ]
      },
      {
       "output_type": "stream",
       "stream": "stdout",
       "text": [
        "\n",
        "LL = 127466.06169796381\n",
        "Param values 14933.463725444679,509.89305412699906,2032.0980840900595,4.520867934161319e8\n",
        "0.18990419404324294\n",
        "69200"
       ]
      },
      {
       "output_type": "stream",
       "stream": "stdout",
       "text": [
        "\n",
        "LL = 127465.45406978215\n",
        "Param values 14878.32810282619,505.6476523481793,2189.099129362057,5.484265600857162e8\n",
        "0.18983207607156277\n",
        "69300"
       ]
      },
      {
       "output_type": "stream",
       "stream": "stdout",
       "text": [
        "\n",
        "LL = 127468.00372482797\n",
        "Param values 15031.32244063888,497.3548631831727,2139.255126459858,5.116076564225044e8\n",
        "0.18983231839302722\n",
        "69400"
       ]
      },
      {
       "output_type": "stream",
       "stream": "stdout",
       "text": [
        "\n",
        "LL = 127467.13733625539\n",
        "Param values 14880.708755121952,488.71037909166677,2077.6325582850986,4.771045658076435e8\n",
        "0.18976051183031212\n",
        "69500"
       ]
      },
      {
       "output_type": "stream",
       "stream": "stdout",
       "text": [
        "\n",
        "LL = 127461.94965042356\n",
        "Param values 14735.445000294658,467.8988302838426,2164.513826497504,5.364646649532074e8\n",
        "0.18983280094391206\n",
        "69600"
       ]
      },
      {
       "output_type": "stream",
       "stream": "stdout",
       "text": [
        "\n",
        "LL = 127461.72609461896\n",
        "Param values 15159.735607413855,455.7950871541298,1885.7167655992255,5.271266895232424e8\n",
        "0.18977556826345585\n",
        "69700"
       ]
      },
      {
       "output_type": "stream",
       "stream": "stdout",
       "text": [
        "\n",
        "LL = 127464.89456513654\n",
        "Param values 15240.308064035728,481.58801895023487,2121.1313871516245,5.209419711640627e8\n",
        "0.18984762833940716\n",
        "69800"
       ]
      },
      {
       "output_type": "stream",
       "stream": "stdout",
       "text": [
        "\n",
        "LL = 127466.91019893295\n",
        "Param values 15028.354424463323,481.34636730293204,2125.47030280895,5.371976212790412e8\n",
        "0.1898335195850884\n",
        "69900"
       ]
      },
      {
       "output_type": "stream",
       "stream": "stdout",
       "text": [
        "\n",
        "LL = 127467.9963894951\n",
        "Param values 15059.040929472567,492.75712598953857,2068.69801515316,4.839246220734697e8\n",
        "0.1897193052733984\n",
        "70000"
       ]
      },
      {
       "output_type": "stream",
       "stream": "stdout",
       "text": [
        "\n",
        "LL = 127467.96186371642\n",
        "Param values 14938.75021271969,498.1997657033778,2122.6081254245787,5.148755126566082e8\n",
        "0.18976256464470415\n",
        "70100"
       ]
      },
      {
       "output_type": "stream",
       "stream": "stdout",
       "text": [
        "\n",
        "LL = 127466.07993694699\n",
        "Param values 14785.677057043908,467.7044564602666,2021.5963143150045,4.9928820256469434e8\n",
        "0.1897201061371223\n",
        "70200"
       ]
      },
      {
       "output_type": "stream",
       "stream": "stdout",
       "text": [
        "\n",
        "LL = 127465.21723929071\n",
        "Param values 15277.69090253837,514.7659374524818,2141.563512902481,4.761497637920454e8\n",
        "0.18979173195817545\n",
        "70300"
       ]
      },
      {
       "output_type": "stream",
       "stream": "stdout",
       "text": [
        "\n",
        "LL = 127467.03629419209\n",
        "Param values 15064.704582242572,473.6606415913383,2065.4960681446923,5.164333428047077e8\n",
        "0.18987737915730177\n",
        "70400"
       ]
      },
      {
       "output_type": "stream",
       "stream": "stdout",
       "text": [
        "\n",
        "LL = 127465.63708613887\n",
        "Param values 14848.404399823057,483.2454228759743,2141.443088883139,5.544641751501297e8\n",
        "0.18993437313560044\n",
        "70500"
       ]
      },
      {
       "output_type": "stream",
       "stream": "stdout",
       "text": [
        "\n",
        "LL = 127462.94177242079\n",
        "Param values 14597.334788566803,480.16325650940007,2075.208873121525,5.2687023312321675e8\n",
        "0.1899628358251298\n",
        "70600"
       ]
      },
      {
       "output_type": "stream",
       "stream": "stdout",
       "text": [
        "\n",
        "LL = 127465.31319743312\n",
        "Param values 15099.349770349385,490.1673581513301,2089.2288515259147,4.643143530108058e8\n",
        "0.1899628884670954\n",
        "70700"
       ]
      },
      {
       "output_type": "stream",
       "stream": "stdout",
       "text": [
        "\n",
        "LL = 127464.80939081022\n",
        "Param values 14991.655123386368,494.6827108868552,2239.2169903590934,5.2529829217044187e8\n",
        "0.18990636227333163\n",
        "70800"
       ]
      },
      {
       "output_type": "stream",
       "stream": "stdout",
       "text": [
        "\n",
        "LL = 127467.7574531986\n",
        "Param values 15019.15009868044,513.6172413705838,2170.5437215435118,4.976721993153822e8\n",
        "0.18997711799768355\n",
        "70900"
       ]
      },
      {
       "output_type": "stream",
       "stream": "stdout",
       "text": [
        "\n",
        "LL = 127467.7114412265\n",
        "Param values 14983.525120085626,509.95824499716673,2110.4507340159107,4.9775290833014023e8\n",
        "0.19001946458292193\n",
        "71000"
       ]
      },
      {
       "output_type": "stream",
       "stream": "stdout",
       "text": [
        "\n",
        "LL = 127467.83316336716\n",
        "Param values 14914.391780021368,500.984486289681,2083.8474011270546,4.9779420997423685e8\n",
        "0.1901039465900448\n",
        "71100"
       ]
      },
      {
       "output_type": "stream",
       "stream": "stdout",
       "text": [
        "\n",
        "LL = 127466.02910927498\n",
        "Param values 14891.547780650697,468.5933969134582,2087.3254177744193,5.422911313680533e8\n",
        "0.190089735294945\n",
        "71200"
       ]
      },
      {
       "output_type": "stream",
       "stream": "stdout",
       "text": [
        "\n",
        "LL = 127467.81443806864\n",
        "Param values 15031.263288197766,479.2741383926515,2049.666942898946,5.127600586713932e8\n",
        "0.19010365459703923\n",
        "71300"
       ]
      },
      {
       "output_type": "stream",
       "stream": "stdout",
       "text": [
        "\n",
        "LL = 127467.66337282093\n",
        "Param values 15013.157381593031,513.9322419989186,2130.639907075779,4.972098609691495e8\n",
        "0.19027181688125894\n",
        "71400"
       ]
      },
      {
       "output_type": "stream",
       "stream": "stdout",
       "text": [
        "\n",
        "LL = 127466.25568735042\n",
        "Param values 14850.3341251583,509.05334523308596,2052.8550623455562,4.651024207157376e8\n",
        "0.19024342418555143\n",
        "71500"
       ]
      },
      {
       "output_type": "stream",
       "stream": "stdout",
       "text": [
        "\n",
        "LL = 127464.71579576096\n",
        "Param values 15049.85986074308,455.56218280333826,2032.721718238343,5.432487443403279e8\n",
        "0.1902011245069792\n",
        "71600"
       ]
      },
      {
       "output_type": "stream",
       "stream": "stdout",
       "text": [
        "\n",
        "LL = 127465.77991868039\n",
        "Param values 15097.20912358988,481.0015178936109,2140.8685263856487,5.166675922135456e8\n",
        "0.19011704237548535\n",
        "71700"
       ]
      },
      {
       "output_type": "stream",
       "stream": "stdout",
       "text": [
        "\n",
        "LL = 127467.04340600118\n",
        "Param values 15007.820605754761,466.43208387602317,2001.0052648197473,5.068412481459294e8\n",
        "0.19013082652235766\n",
        "71800"
       ]
      },
      {
       "output_type": "stream",
       "stream": "stdout",
       "text": [
        "\n",
        "LL = 127465.5041271031\n",
        "Param values 14943.142591374588,479.3329437182489,2132.701270888845,5.010057522037936e8\n",
        "0.19021421209504444\n",
        "71900"
       ]
      },
      {
       "output_type": "stream",
       "stream": "stdout",
       "text": [
        "\n",
        "LL = 127466.34203942739\n",
        "Param values 15137.119492211199,492.392359166731,1979.3147424493782,4.7176108479925466e8\n",
        "0.19017218837797992\n",
        "72000"
       ]
      },
      {
       "output_type": "stream",
       "stream": "stdout",
       "text": [
        "\n",
        "LL = 127467.40002270223\n",
        "Param values 14983.07456802302,480.26906976894566,2106.264502988209,5.185223686238822e8\n",
        "0.19025528486902413\n",
        "72100"
       ]
      },
      {
       "output_type": "stream",
       "stream": "stdout",
       "text": [
        "\n",
        "LL = 127466.09814031655\n",
        "Param values 14800.988979114449,514.1176612498692,2206.403297225033,5.02224487987805e8\n",
        "0.19018558073732975\n",
        "72200"
       ]
      },
      {
       "output_type": "stream",
       "stream": "stdout",
       "text": [
        "\n",
        "LL = 127463.37936666196\n",
        "Param values 15310.003615833504,504.01891458914974,1987.6400789044721,4.630419197066124e8\n",
        "0.19033768248427935\n",
        "72300"
       ]
      },
      {
       "output_type": "stream",
       "stream": "stdout",
       "text": [
        "\n",
        "LL = 127463.57391053253\n",
        "Param values 15074.538917626334,472.79584863339625,2026.6133120004201,4.5847078249456847e8\n",
        "0.19040637362029378\n",
        "72400"
       ]
      },
      {
       "output_type": "stream",
       "stream": "stdout",
       "text": [
        "\n",
        "LL = 127464.64349713076\n",
        "Param values 15032.613983076375,493.69221838118904,2004.6361243167657,5.18016448076787e8\n",
        "0.1903505621702257\n",
        "72500"
       ]
      },
      {
       "output_type": "stream",
       "stream": "stdout",
       "text": [
        "\n",
        "LL = 127466.68604474886\n",
        "Param values 14875.146869813807,487.021858410783,1991.7226412886607,4.9182501268599355e8\n",
        "0.19037766559077493\n",
        "72600"
       ]
      },
      {
       "output_type": "stream",
       "stream": "stdout",
       "text": [
        "\n",
        "LL = 127462.50546060693\n",
        "Param values 15395.75803899719,498.0178939497899,2047.9596821734185,4.6347922375004727e8\n",
        "0.19036337089176011\n",
        "72700"
       ]
      },
      {
       "output_type": "stream",
       "stream": "stdout",
       "text": [
        "\n",
        "LL = 127466.51859507184\n",
        "Param values 15103.909674389171,508.7235447546256,2033.3297774389707,4.6449118750344366e8\n",
        "0.19039038212880685\n",
        "72800"
       ]
      },
      {
       "output_type": "stream",
       "stream": "stdout",
       "text": [
        "\n",
        "LL = 127466.77471151676\n",
        "Param values 14897.045510762033,485.7244099041394,2036.7925560198307,5.2051319337346333e8\n",
        "0.19038984587488667\n",
        "72900"
       ]
      },
      {
       "output_type": "stream",
       "stream": "stdout",
       "text": [
        "\n",
        "LL = 127467.46399748526\n",
        "Param values 15145.60879908688,505.82215700449217,2143.1893441927455,5.043571544209136e8\n",
        "0.19041674668715192\n",
        "73000"
       ]
      },
      {
       "output_type": "stream",
       "stream": "stdout",
       "text": [
        "\n",
        "LL = 127467.10563574533\n",
        "Param values 15094.194444975268,474.2349195629936,1985.8279915823118,4.935694062152626e8\n",
        "0.19042987479109016\n",
        "73100"
       ]
      },
      {
       "output_type": "stream",
       "stream": "stdout",
       "text": [
        "\n",
        "LL = 127465.10548713959\n",
        "Param values 14821.183144853796,502.5885186155726,2003.4183710442742,4.499411528932345e8\n",
        "0.1903608853867411\n",
        "73200"
       ]
      },
      {
       "output_type": "stream",
       "stream": "stdout",
       "text": [
        "\n",
        "LL = 127464.78012196904\n",
        "Param values 14976.35018195313,465.6873325614117,1877.7621603435523,4.639417566512549e8\n",
        "0.19030574605863548\n",
        "73300"
       ]
      },
      {
       "output_type": "stream",
       "stream": "stdout",
       "text": [
        "\n",
        "LL = 127467.43676762676\n",
        "Param values 14984.682810862112,510.8853762249697,2130.315452333328,4.723957082989208e8\n",
        "0.19034625774236677\n",
        "73400"
       ]
      },
      {
       "output_type": "stream",
       "stream": "stdout",
       "text": [
        "\n",
        "LL = 127468.13149122997\n",
        "Param values 15021.647971300581,486.1779611655096,2074.000409394644,5.0035432846993387e8\n",
        "0.1903185372898444\n",
        "73500"
       ]
      },
      {
       "output_type": "stream",
       "stream": "stdout",
       "text": [
        "\n",
        "LL = 127467.80696013894\n",
        "Param values 14964.729179317172,505.27072610256147,2159.135336303239,4.9582420833555603e8\n",
        "0.19034531551878964\n",
        "73600"
       ]
      },
      {
       "output_type": "stream",
       "stream": "stdout",
       "text": [
        "\n",
        "LL = 127466.4396086471\n",
        "Param values 15089.477474103263,492.06233730609324,2084.226934860787,5.357110393098027e8\n",
        "0.1903584336530884\n",
        "73700"
       ]
      },
      {
       "output_type": "stream",
       "stream": "stdout",
       "text": [
        "\n",
        "LL = 127467.4004867326\n",
        "Param values 15010.282606045557,501.5688159435706,2031.8864698945918,4.782063543188169e8\n",
        "0.19031724063068198\n",
        "73800"
       ]
      },
      {
       "output_type": "stream",
       "stream": "stdout",
       "text": [
        "\n",
        "LL = 127465.88746713982\n",
        "Param values 15128.426959614737,499.35841434334344,2214.8938139395223,5.365794520876601e8\n",
        "0.19033036125640262\n",
        "73900"
       ]
      },
      {
       "output_type": "stream",
       "stream": "stdout",
       "text": [
        "\n",
        "LL = 127463.79258898985\n",
        "Param values 14885.551179942724,485.69052365912324,2104.0344909234464,5.681479774005724e8\n",
        "0.1903434463720263\n",
        "74000"
       ]
      },
      {
       "output_type": "stream",
       "stream": "stdout",
       "text": [
        "\n",
        "LL = 127463.55855101834\n",
        "Param values 15123.766125071266,494.6966549215996,2250.1091002150124,5.293419352384671e8\n",
        "0.19038352387902377\n",
        "74100"
       ]
      },
      {
       "output_type": "stream",
       "stream": "stdout",
       "text": [
        "\n",
        "LL = 127467.48374830962\n",
        "Param values 14933.457155910753,484.2351920078445,2039.990301666004,5.1609483630254954e8\n",
        "0.19034251936624472\n",
        "74200"
       ]
      },
      {
       "output_type": "stream",
       "stream": "stdout",
       "text": [
        "\n",
        "LL = 127466.60775052775\n",
        "Param values 14985.093186751908,462.9823691429516,1996.3378756571271,5.008799713935852e8\n",
        "0.1903420577374053\n",
        "74300"
       ]
      },
      {
       "output_type": "stream",
       "stream": "stdout",
       "text": [
        "\n",
        "LL = 127467.94032064023\n",
        "Param values 14909.604201796703,496.40621639938496,2131.3290865358485,5.061098308949949e8\n",
        "0.19044927185119384\n",
        "74400"
       ]
      },
      {
       "output_type": "stream",
       "stream": "stdout",
       "text": [
        "\n",
        "LL = 127463.05353741629\n",
        "Param values 14935.172004330534,471.0319915164753,1874.1104839822783,4.8894796273368084e8\n",
        "0.1903949030887927\n",
        "74500"
       ]
      },
      {
       "output_type": "stream",
       "stream": "stdout",
       "text": [
        "\n",
        "LL = 127465.46933705815\n",
        "Param values 15222.26013959425,517.8848513941141,2081.353454891863,4.8301416777925634e8\n",
        "0.19046148889903083\n",
        "74600"
       ]
      },
      {
       "output_type": "stream",
       "stream": "stdout",
       "text": [
        "\n",
        "LL = 127466.97365362021\n",
        "Param values 14922.462408810774,515.7489539877571,2118.888456306659,4.667246737986007e8\n",
        "0.1905547065604976\n",
        "74700"
       ]
      },
      {
       "output_type": "stream",
       "stream": "stdout",
       "text": [
        "\n",
        "LL = 127467.74378487702\n",
        "Param values 15070.99523999638,505.85206668863987,2162.77129264506,5.032797532654783e8\n",
        "0.19054057672226835\n",
        "74800"
       ]
      },
      {
       "output_type": "stream",
       "stream": "stdout",
       "text": [
        "\n",
        "LL = 127466.58083215334\n",
        "Param values 15044.543067786088,530.2319648544429,2216.770544200749,4.9322888614651775e8\n",
        "0.1905665926896441\n",
        "74900"
       ]
      },
      {
       "output_type": "stream",
       "stream": "stdout",
       "text": [
        "\n",
        "LL = 127467.43460308189\n",
        "Param values 14990.043475105676,488.78286213384763,2128.557350885017,5.022146969703033e8\n",
        "0.19060589067798872\n",
        "75000"
       ]
      },
      {
       "output_type": "stream",
       "stream": "stdout",
       "text": [
        "\n",
        "LL = 127466.75572336472\n",
        "Param values 14835.497553551268,482.49964888181336,1984.193366065396,4.784771106350831e8\n",
        "0.19069841862449666\n",
        "75100"
       ]
      },
      {
       "output_type": "stream",
       "stream": "stdout",
       "text": [
        "\n",
        "LL = 127464.49450133581\n",
        "Param values 15180.007640210493,520.9926024110595,2191.2110426081063,4.63747915208896e8\n",
        "0.19076406828410877\n",
        "75200"
       ]
      },
      {
       "output_type": "stream",
       "stream": "stdout",
       "text": [
        "\n",
        "LL = 127467.15843076973\n",
        "Param values 14990.050756470022,482.1289848780794,2083.2328903682946,4.8946923226994234e8\n",
        "0.19073645575680204\n",
        "75300"
       ]
      },
      {
       "output_type": "stream",
       "stream": "stdout",
       "text": [
        "\n",
        "LL = 127468.15158200132\n",
        "Param values 14942.779416543797,502.9767135364693,2115.536471205181,4.9520160147673255e8\n",
        "0.1906690748758267\n",
        "75400"
       ]
      },
      {
       "output_type": "stream",
       "stream": "stdout",
       "text": [
        "\n",
        "LL = 127465.16418980031\n",
        "Param values 14812.809862037711,460.99257112163775,2013.0619315519123,5.388704435230069e8\n",
        "0.190694713387623\n",
        "75500"
       ]
      },
      {
       "output_type": "stream",
       "stream": "stdout",
       "text": [
        "\n",
        "LL = 127466.87984856615\n",
        "Param values 15023.647919358576,489.2570389081519,2143.1452193102723,5.436830786754972e8\n",
        "0.19070703859704893\n",
        "75600"
       ]
      },
      {
       "output_type": "stream",
       "stream": "stdout",
       "text": [
        "\n",
        "LL = 127467.74760059085\n",
        "Param values 14928.004642787575,497.68673747474435,2068.342933139152,4.7281146372382265e8\n",
        "0.19079869837826396\n",
        "75700"
       ]
      },
      {
       "output_type": "stream",
       "stream": "stdout",
       "text": [
        "\n",
        "LL = 127464.99548935796\n",
        "Param values 14781.763197094724,482.51351754341096,2151.963675186754,5.528311520161703e8\n",
        "0.19078443287801528\n",
        "75800"
       ]
      },
      {
       "output_type": "stream",
       "stream": "stdout",
       "text": [
        "\n",
        "LL = 127465.3028621216\n",
        "Param values 15112.70206431608,459.30519824420446,1979.341286066491,4.9720769934645313e8\n",
        "0.19080978389931133\n",
        "75900"
       ]
      },
      {
       "output_type": "stream",
       "stream": "stdout",
       "text": [
        "\n",
        "LL = 127468.09099783377\n",
        "Param values 14999.70987088373,492.51676909523485,2118.9552145473253,5.060385659259803e8\n",
        "0.19082189253998788\n",
        "76000"
       ]
      },
      {
       "output_type": "stream",
       "stream": "stdout",
       "text": [
        "\n",
        "LL = 127466.49999402362\n",
        "Param values 14811.19713065792,482.7299119647618,2019.501891138098,4.697567044422254e8\n",
        "0.19088660227900733\n",
        "76100"
       ]
      },
      {
       "output_type": "stream",
       "stream": "stdout",
       "text": [
        "\n",
        "LL = 127461.51837601532\n",
        "Param values 15084.084064472954,518.2119568150104,2006.1582581379025,4.115868421245816e8\n",
        "0.1909380009987122\n",
        "76200"
       ]
      },
      {
       "output_type": "stream",
       "stream": "stdout",
       "text": [
        "\n",
        "LL = 127465.9273240732\n",
        "Param values 14931.953202066532,488.0349996665257,1949.2127569386694,4.705921637516666e8\n",
        "0.19093676999396308\n",
        "76300"
       ]
      },
      {
       "output_type": "stream",
       "stream": "stdout",
       "text": [
        "\n",
        "LL = 127466.22133379274\n",
        "Param values 14870.009341093495,490.01556980083313,2135.430367333603,4.8762095831659484e8\n",
        "0.1909224357126006\n",
        "76400"
       ]
      },
      {
       "output_type": "stream",
       "stream": "stdout",
       "text": [
        "\n",
        "LL = 127465.8507990667\n",
        "Param values 14851.381544621141,467.0708151610409,2053.4953843359353,5.425223607933544e8\n",
        "0.19096049634807194\n",
        "76500"
       ]
      },
      {
       "output_type": "stream",
       "stream": "stdout",
       "text": [
        "\n",
        "LL = 127466.41607930114\n",
        "Param values 14886.974337887137,513.8357198574845,2180.299828063593,5.2439691624413234e8\n",
        "0.19090695181573375\n",
        "76600"
       ]
      },
      {
       "output_type": "stream",
       "stream": "stdout",
       "text": [
        "\n",
        "LL = 127464.68147473298\n",
        "Param values 14838.336493492225,502.62971093023157,2166.729056932462,5.520409396109829e8\n",
        "0.19087965743230895\n",
        "76700"
       ]
      },
      {
       "output_type": "stream",
       "stream": "stdout",
       "text": [
        "\n",
        "LL = 127466.30126827295\n",
        "Param values 14930.660436055334,501.692024601383,2134.3052166410002,5.379156762430732e8\n",
        "0.19093066312028997\n",
        "76800"
       ]
      },
      {
       "output_type": "stream",
       "stream": "stdout",
       "text": [
        "\n",
        "LL = 127467.88572669427\n",
        "Param values 14983.287958721015,489.3681290671548,2045.8484730080024,4.765230229567714e8\n",
        "0.19099455714992578\n",
        "76900"
       ]
      },
      {
       "output_type": "stream",
       "stream": "stdout",
       "text": [
        "\n",
        "LL = 127466.03390678737\n",
        "Param values 15078.041346423885,487.9522897196976,1953.0696339645215,4.562797786325345e8\n",
        "0.19096725532523603\n",
        "77000"
       ]
      },
      {
       "output_type": "stream",
       "stream": "stdout",
       "text": [
        "\n",
        "LL = 127467.4211788739\n",
        "Param values 14837.292286318756,496.2495831630232,2116.5894610017867,4.9295208026900935e8\n",
        "0.19099197381750174\n",
        "77100"
       ]
      },
      {
       "output_type": "stream",
       "stream": "stdout",
       "text": [
        "\n",
        "LL = 127464.74250763639\n",
        "Param values 15262.688364731812,519.973252933471,2208.615761783018,5.269319191247531e8\n",
        "0.19101662818750162\n",
        "77200"
       ]
      },
      {
       "output_type": "stream",
       "stream": "stdout",
       "text": [
        "\n",
        "LL = 127467.46704202321\n",
        "Param values 14971.779678175035,512.2450023599047,2178.933751631229,5.1574222613385856e8\n",
        "0.19102826498095807\n",
        "77300"
       ]
      },
      {
       "output_type": "stream",
       "stream": "stdout",
       "text": [
        "\n",
        "LL = 127466.61886960943\n",
        "Param values 15075.138100517031,527.6865540181149,2162.708616584921,4.901378735841352e8\n",
        "0.19103987166550235\n",
        "77400"
       ]
      },
      {
       "output_type": "stream",
       "stream": "stdout",
       "text": [
        "\n",
        "LL = 127463.63515887184\n",
        "Param values 15329.263126752066,483.78014343608,2100.6887020686368,5.0502772112812215e8\n",
        "0.19098684720535414\n",
        "77500"
       ]
      },
      {
       "output_type": "stream",
       "stream": "stdout",
       "text": [
        "\n",
        "LL = 127466.60475303725\n",
        "Param values 15065.244879155205,493.6939674894538,2185.5328965676504,5.376724552171341e8\n",
        "0.19094686314485534\n",
        "77600"
       ]
      },
      {
       "output_type": "stream",
       "stream": "stdout",
       "text": [
        "\n",
        "LL = 127466.94989099422\n",
        "Param values 14993.427685343962,497.0426288938652,2041.4332641818519,4.560811606320371e8\n",
        "0.19091986906879044\n",
        "77700"
       ]
      },
      {
       "output_type": "stream",
       "stream": "stdout",
       "text": [
        "\n",
        "LL = 127466.40468339233\n",
        "Param values 15058.576263998008,495.37371658824026,1995.66725853785,4.5122593337340796e8\n",
        "0.1908414631007233\n",
        "77800"
       ]
      },
      {
       "output_type": "stream",
       "stream": "stdout",
       "text": [
        "\n",
        "LL = 127468.1325526524\n",
        "Param values 14952.355419862204,484.80843142765946,2048.698721094444,4.9276764830884504e8\n",
        "0.19081467389907195\n",
        "77900"
       ]
      },
      {
       "output_type": "stream",
       "stream": "stdout",
       "text": [
        "\n",
        "LL = 127466.0639133923\n",
        "Param values 14762.458969814168,469.13212316510663,2013.5189059449153,5.019666502965788e8\n",
        "0.190890651878097\n",
        "78000"
       ]
      },
      {
       "output_type": "stream",
       "stream": "stdout",
       "text": [
        "\n",
        "LL = 127467.13407918402\n",
        "Param values 15125.928899629553,519.568936503837,2155.645532575882,4.9295204253840727e8\n",
        "0.19091515167055564\n",
        "78100"
       ]
      },
      {
       "output_type": "stream",
       "stream": "stdout",
       "text": [
        "\n",
        "LL = 127467.36441526888\n",
        "Param values 14944.160588795974,501.29287875595793,2037.878902126251,4.8165874060433775e8\n",
        "0.1908755665958155\n",
        "78200"
       ]
      },
      {
       "output_type": "stream",
       "stream": "stdout",
       "text": [
        "\n",
        "LL = 127467.79865294273\n",
        "Param values 15044.22775458809,482.7782831823175,2015.0781624077465,4.844384379833064e8\n",
        "0.19100232742525383\n",
        "78300"
       ]
      },
      {
       "output_type": "stream",
       "stream": "stdout",
       "text": [
        "\n",
        "LL = 127467.10807398112\n",
        "Param values 14975.943741882647,496.4848256414275,2002.4608547276139,4.7194244002442455e8\n",
        "0.19111599274566402\n",
        "78400"
       ]
      },
      {
       "output_type": "stream",
       "stream": "stdout",
       "text": [
        "\n",
        "LL = 127466.58138233596\n",
        "Param values 14793.025445087856,506.95907427055965,2105.20856913998,4.920883356436809e8\n",
        "0.19121661266869053\n",
        "78500"
       ]
      },
      {
       "output_type": "stream",
       "stream": "stdout",
       "text": [
        "\n",
        "LL = 127465.99048084834\n",
        "Param values 14917.68654360696,461.48037754089324,1924.8878145063684,4.8257613513905257e8\n",
        "0.19122780198221612\n",
        "78600"
       ]
      },
      {
       "output_type": "stream",
       "stream": "stdout",
       "text": [
        "\n",
        "LL = 127465.05086741764\n",
        "Param values 14941.643206828181,452.4635550098797,1900.5938914366666,4.900416008780103e8\n",
        "0.19125168579353163\n",
        "78700"
       ]
      },
      {
       "output_type": "stream",
       "stream": "stdout",
       "text": [
        "\n",
        "LL = 127468.1599187313\n",
        "Param values 14938.858222778334,486.48439488453334,2072.3977337105343,5.054761173301131e8\n",
        "0.19130092251391395\n",
        "78800"
       ]
      },
      {
       "output_type": "stream",
       "stream": "stdout",
       "text": [
        "\n",
        "LL = 127467.21405041219\n",
        "Param values 14893.232515513315,496.0108967065154,2163.9793313563328,5.069541915791988e8\n",
        "0.19132465290997233\n",
        "78900"
       ]
      },
      {
       "output_type": "stream",
       "stream": "stdout",
       "text": [
        "\n",
        "LL = 127465.96098355278\n",
        "Param values 14901.676766417011,458.1543179520237,1963.0963674634295,4.936077347874585e8\n",
        "0.19129762478136328\n",
        "79000"
       ]
      },
      {
       "output_type": "stream",
       "stream": "stdout",
       "text": [
        "\n",
        "LL = 127466.79699956959\n",
        "Param values 15148.464986976014,496.3128684397473,2062.986644998268,5.1373999273625493e8\n",
        "0.1912706650801286\n",
        "79100"
       ]
      },
      {
       "output_type": "stream",
       "stream": "stdout",
       "text": [
        "\n",
        "LL = 127464.82067572807\n",
        "Param values 15222.900299587922,493.09679716237684,1993.6339425169958,4.5007844428274417e8\n",
        "0.19133227135957925\n",
        "79200"
       ]
      },
      {
       "output_type": "stream",
       "stream": "stdout",
       "text": [
        "\n",
        "LL = 127466.08488151342\n",
        "Param values 15100.714755866853,480.72852738587704,1973.3022988961868,5.065057201733227e8\n",
        "0.19135584231925049\n",
        "79300"
       ]
      },
      {
       "output_type": "stream",
       "stream": "stdout",
       "text": [
        "\n",
        "LL = 127465.95653948063\n",
        "Param values 14765.917702101731,496.1904984928909,2041.9652619436295,4.6494696223034173e8\n",
        "0.19140457514691417\n",
        "79400"
       ]
      },
      {
       "output_type": "stream",
       "stream": "stdout",
       "text": [
        "\n",
        "LL = 127467.81095067867\n",
        "Param values 15001.153014854268,479.48058465001975,2071.4655924732338,5.123346147650797e8\n",
        "0.19145318521877125\n",
        "79500"
       ]
      },
      {
       "output_type": "stream",
       "stream": "stdout",
       "text": [
        "\n",
        "LL = 127465.15389766077\n",
        "Param values 15217.060869171399,481.5474007397799,2113.0116229126406,5.437614374357177e8\n",
        "0.19143877833404613\n",
        "79600"
       ]
      },
      {
       "output_type": "stream",
       "stream": "stdout",
       "text": [
        "\n",
        "LL = 127465.7948165523\n",
        "Param values 14855.449238628435,501.49741142844135,2221.0302698706478,5.429077853988159e8\n",
        "0.19149978642679463\n",
        "79700"
       ]
      },
      {
       "output_type": "stream",
       "stream": "stdout",
       "text": [
        "\n",
        "LL = 127465.43472579343\n",
        "Param values 14960.730835484479,487.3182543133741,2156.640398612905,5.643083004026163e8\n",
        "0.19147280985721096\n",
        "79800"
       ]
      },
      {
       "output_type": "stream",
       "stream": "stdout",
       "text": [
        "\n",
        "LL = 127465.9770566729\n",
        "Param values 14973.957337182948,457.9462564226904,1960.6165695464936,5.188242307327776e8\n",
        "0.1915837489661395\n",
        "79900"
       ]
      },
      {
       "output_type": "stream",
       "stream": "stdout",
       "text": [
        "\n",
        "LL = 127467.62465301093\n",
        "Param values 15114.088167043594,503.20358858372913,2150.113217528742,5.080482218744455e8\n",
        "0.19169441037322588\n",
        "80000"
       ]
      },
      {
       "output_type": "stream",
       "stream": "stdout",
       "text": [
        "\n",
        "LL = 127466.37057381783\n",
        "Param values 14838.293482025882,469.24007346947724,1987.561485147877,4.804169598619299e8\n",
        "0.19165479136978425\n",
        "80100"
       ]
      },
      {
       "output_type": "stream",
       "stream": "stdout",
       "text": [
        "\n",
        "LL = 127468.16720663598\n",
        "Param values 15009.387795617347,486.25257135538556,2061.956351632332,4.9466053423967266e8\n",
        "0.19175260306124997\n",
        "80200"
       ]
      },
      {
       "output_type": "stream",
       "stream": "stdout",
       "text": [
        "\n",
        "LL = 127466.87488489972\n",
        "Param values 15190.842129211867,486.2276424500558,2028.2155037056225,4.9297439641707164e8\n",
        "0.19172547943839\n",
        "80300"
       ]
      },
      {
       "output_type": "stream",
       "stream": "stdout",
       "text": [
        "\n",
        "LL = 127467.2846217357\n",
        "Param values 14878.462609375922,503.2328654828757,2079.8395905609705,4.6956911442047817e8\n",
        "0.19186032030685696\n",
        "80400"
       ]
      },
      {
       "output_type": "stream",
       "stream": "stdout",
       "text": [
        "\n",
        "LL = 127465.96255086387\n",
        "Param values 15044.862873697204,531.1627319372568,2266.706043878362,5.05519990412454e8\n",
        "0.19182069205701635\n",
        "80500"
       ]
      },
      {
       "output_type": "stream",
       "stream": "stdout",
       "text": [
        "\n",
        "LL = 127467.28587893011\n",
        "Param values 14944.432082261666,504.29224611745013,2138.4362579968533,5.2385174551362157e8\n",
        "0.1919302342915352\n",
        "80600"
       ]
      },
      {
       "output_type": "stream",
       "stream": "stdout",
       "text": [
        "\n",
        "LL = 127466.68752796743\n",
        "Param values 15120.974451155616,501.8279167888893,2190.4416311083633,5.3189978758195317e8\n",
        "0.19200228293506041\n",
        "80700"
       ]
      },
      {
       "output_type": "stream",
       "stream": "stdout",
       "text": [
        "\n",
        "LL = 127464.5748462463\n",
        "Param values 15041.64567487834,468.5546474362063,2059.0455556248094,4.8560894228565073e8\n",
        "0.19209893677662396\n",
        "80800"
       ]
      },
      {
       "output_type": "stream",
       "stream": "stdout",
       "text": [
        "\n",
        "LL = 127462.35332011193\n",
        "Param values 14811.010302345734,479.9407860899817,1887.1348150227225,4.729630821773592e8\n",
        "0.19212109210624026\n",
        "80900"
       ]
      },
      {
       "output_type": "stream",
       "stream": "stdout",
       "text": [
        "\n",
        "LL = 127467.46385025543\n",
        "Param values 15020.452611251278,509.43495549760496,2171.00064056925,4.8914385926754355e8\n",
        "0.19211847017231576\n",
        "81000"
       ]
      },
      {
       "output_type": "stream",
       "stream": "stdout",
       "text": [
        "\n",
        "LL = 127466.30669519115\n",
        "Param values 15050.671114486886,478.6023580268233,1943.5622010808283,4.62074452206637e8\n",
        "0.19209116274475913\n",
        "81100"
       ]
      },
      {
       "output_type": "stream",
       "stream": "stdout",
       "text": [
        "\n",
        "LL = 127467.7793965705\n",
        "Param values 14965.796353492744,512.1026640601401,2167.1203003875207,5.01770070145431e8\n",
        "0.19215023798367406\n",
        "81200"
       ]
      },
      {
       "output_type": "stream",
       "stream": "stdout",
       "text": [
        "\n",
        "LL = 127464.43328300583\n",
        "Param values 14794.173367221927,484.98611047989533,2089.532573961649,5.521796176090668e8\n",
        "0.19206138082218774\n",
        "81300"
       ]
      },
      {
       "output_type": "stream",
       "stream": "stdout",
       "text": [
        "\n",
        "LL = 127464.829735599\n",
        "Param values 15159.613227159567,501.4235202680488,2169.8092543492635,4.794286101701188e8\n",
        "0.19210804693842407\n",
        "81400"
       ]
      },
      {
       "output_type": "stream",
       "stream": "stdout",
       "text": [
        "\n",
        "LL = 127466.50397744864\n",
        "Param values 14897.917246415403,497.0376804749143,2184.7133029197153,5.034031588832851e8\n",
        "0.19206860119413252\n",
        "81500"
       ]
      },
      {
       "output_type": "stream",
       "stream": "stdout",
       "text": [
        "\n",
        "LL = 127466.00800862206\n",
        "Param values 14971.978175706547,510.2286236493794,2252.807703328512,5.152623178708802e8\n",
        "0.19204152249134948\n",
        "81600"
       ]
      },
      {
       "output_type": "stream",
       "stream": "stdout",
       "text": [
        "\n",
        "LL = 127466.73349724618\n",
        "Param values 15081.791667339847,477.46092867880435,1992.6239734634946,4.710770585932064e8\n",
        "0.19205127576656292\n",
        "81700"
       ]
      },
      {
       "output_type": "stream",
       "stream": "stdout",
       "text": [
        "\n",
        "LL = 127466.26394003606\n",
        "Param values 15140.207662112345,498.82475309342686,2158.725739502928,5.418712775967275e8\n",
        "0.1919998041567725\n",
        "81800"
       ]
      },
      {
       "output_type": "stream",
       "stream": "stdout",
       "text": [
        "\n",
        "LL = 127463.55534671586\n",
        "Param values 15014.761592313429,494.6568655432336,2054.630009983748,5.463391776853215e8\n",
        "0.19203403506198197\n",
        "81900"
       ]
      },
      {
       "output_type": "stream",
       "stream": "stdout",
       "text": [
        "\n",
        "LL = 127467.22738252791\n",
        "Param values 15066.01969897498,482.0876449709742,2057.4355390892224,5.273076306639917e8\n",
        "0.19205597206280983\n",
        "82000"
       ]
      },
      {
       "output_type": "stream",
       "stream": "stdout",
       "text": [
        "\n",
        "LL = 127468.05500541622\n",
        "Param values 15003.091883793619,497.72133307106526,2127.5174120767133,5.160500535353562e8\n",
        "0.19193151052464694\n",
        "82100"
       ]
      },
      {
       "output_type": "stream",
       "stream": "stdout",
       "text": [
        "\n",
        "LL = 127465.75383045767\n",
        "Param values 15190.301620972858,491.8227929295884,2164.3476154703403,5.182755213428829e8\n",
        "0.19203878291797608\n",
        "82200"
       ]
      },
      {
       "output_type": "stream",
       "stream": "stdout",
       "text": [
        "\n",
        "LL = 127466.80280319932\n",
        "Param values 14829.211489891,497.5037501025646,2041.514270302466,4.8831228529190844e8\n",
        "0.19218229153994015\n",
        "82300"
       ]
      },
      {
       "output_type": "stream",
       "stream": "stdout",
       "text": [
        "\n",
        "LL = 127468.10605396553\n",
        "Param values 14960.34356696595,485.32048457059227,2033.7692402414555,4.895749432630416e8\n",
        "0.19214318695472551\n",
        "82400"
       ]
      },
      {
       "output_type": "stream",
       "stream": "stdout",
       "text": [
        "\n",
        "LL = 127467.91387117915\n",
        "Param values 14940.046446293016,481.22203530605174,2064.8960327604104,5.0064843809813607e8\n",
        "0.19210417728585646\n",
        "82500"
       ]
      },
      {
       "output_type": "stream",
       "stream": "stdout",
       "text": [
        "\n",
        "LL = 127467.51509717472\n",
        "Param values 14934.088148325118,484.8151749762231,2101.9454271637956,4.985819398215591e8\n",
        "0.19210162670610195\n",
        "82600"
       ]
      },
      {
       "output_type": "stream",
       "stream": "stdout",
       "text": [
        "\n",
        "LL = 127463.9850029669\n",
        "Param values 14879.936252104711,445.67056910454244,1958.0319618877586,5.069672372429983e8\n",
        "0.19213540279425653\n",
        "82700"
       ]
      },
      {
       "output_type": "stream",
       "stream": "stdout",
       "text": [
        "\n",
        "LL = 127466.59495799082\n",
        "Param values 14943.09835974085,500.2162164934075,2024.6133781715616,4.919082253385242e8\n",
        "0.19214491281530388\n",
        "82800"
       ]
      },
      {
       "output_type": "stream",
       "stream": "stdout",
       "text": [
        "\n",
        "LL = 127466.62188577569\n",
        "Param values 14876.899085193356,485.33282241174146,2049.806853630845,4.676065957148352e8\n",
        "0.19216647745114615\n",
        "82900"
       ]
      },
      {
       "output_type": "stream",
       "stream": "stdout",
       "text": [
        "\n",
        "LL = 127467.52169698021\n",
        "Param values 15038.393640451255,482.7839032872565,1999.3309231418239,4.97310523164971e8\n",
        "0.1922000530772757\n",
        "83000"
       ]
      },
      {
       "output_type": "stream",
       "stream": "stdout",
       "text": [
        "\n",
        "LL = 127467.77518204764\n",
        "Param values 14914.588525243695,493.28052607823264,2041.3163813100568,4.931140842040981e8\n",
        "0.19218535386394853\n",
        "83100"
       ]
      },
      {
       "output_type": "stream",
       "stream": "stdout",
       "text": [
        "\n",
        "LL = 127467.32485699696\n",
        "Param values 14837.31285247589,502.6636995197248,2089.7505734973383,4.890315824927516e8\n",
        "0.1921466220606994\n",
        "83200"
       ]
      },
      {
       "output_type": "stream",
       "stream": "stdout",
       "text": [
        "\n",
        "LL = 127467.99779599505\n",
        "Param values 14949.727845830384,507.99712417036835,2135.0617757361047,4.968880079466164e8\n",
        "0.19205990528618477\n",
        "83300"
       ]
      },
      {
       "output_type": "stream",
       "stream": "stdout",
       "text": [
        "\n",
        "LL = 127468.24455968082\n",
        "Param values 14963.361464216543,490.0810237080761,2072.722342659666,5.0477603863020664e8\n",
        "0.19196139163005113\n",
        "83400"
       ]
      },
      {
       "output_type": "stream",
       "stream": "stdout",
       "text": [
        "\n",
        "LL = 127468.04812103994\n",
        "Param values 15007.582402617034,483.72790206415004,2076.265605631176,5.067905429469601e8\n",
        "0.19194704908990623\n",
        "83500"
       ]
      },
      {
       "output_type": "stream",
       "stream": "stdout",
       "text": [
        "\n",
        "LL = 127467.7100211232\n",
        "Param values 15081.121975125014,504.2468933572663,2103.4237275700953,5.0673683434761566e8\n",
        "0.19192076456921123\n",
        "83600"
       ]
      },
      {
       "output_type": "stream",
       "stream": "stdout",
       "text": [
        "\n",
        "LL = 127466.33203491774\n",
        "Param values 15174.751232500355,522.7843741383356,2158.424293379992,4.7601743822332036e8\n",
        "0.19190650494030959\n",
        "83700"
       ]
      },
      {
       "output_type": "stream",
       "stream": "stdout",
       "text": [
        "\n",
        "LL = 127466.55254328523\n",
        "Param values 14937.743548852386,474.6907130575704,2040.5168402232262,4.802693744327041e8\n",
        "0.19188033166861812\n",
        "83800"
       ]
      },
      {
       "output_type": "stream",
       "stream": "stdout",
       "text": [
        "\n",
        "LL = 127464.89938764986\n",
        "Param values 14914.833104748835,518.6454717061838,2131.7767017281813,4.450648222584248e8\n",
        "0.19185422086445977\n",
        "83900"
       ]
      },
      {
       "output_type": "stream",
       "stream": "stdout",
       "text": [
        "\n",
        "LL = 127466.42682554376\n",
        "Param values 15178.41998380555,503.40059879287963,2185.6146889079314,5.238092626452465e8\n",
        "0.19189968771603613\n",
        "84000"
       ]
      },
      {
       "output_type": "stream",
       "stream": "stdout",
       "text": [
        "\n",
        "LL = 127466.76483168571\n",
        "Param values 14926.446578271505,475.560408748661,1988.6294025866364,5.133027957397358e8\n",
        "0.19188552108383533\n",
        "84100"
       ]
      },
      {
       "output_type": "stream",
       "stream": "stdout",
       "text": [
        "\n",
        "LL = 127466.99607511709\n",
        "Param values 14858.035502729908,489.3459729538233,2059.9410041572064,5.173294957049715e8\n",
        "0.19200218792361293\n",
        "84200"
       ]
      },
      {
       "output_type": "stream",
       "stream": "stdout",
       "text": [
        "\n",
        "LL = 127466.75385189532\n",
        "Param values 14982.715722101966,463.6380874136512,1986.5538327585632,5.1417193641783303e8\n",
        "0.19201168673840233\n",
        "84300"
       ]
      },
      {
       "output_type": "stream",
       "stream": "stdout",
       "text": [
        "\n",
        "LL = 127467.61703254357\n",
        "Param values 15062.661037488584,495.35911761291766,2024.3141283980594,4.8345866442846924e8\n",
        "0.191997437661629\n",
        "84400"
       ]
      },
      {
       "output_type": "stream",
       "stream": "stdout",
       "text": [
        "\n",
        "LL = 127462.97426683438\n",
        "Param values 14986.414883966474,467.0548918353072,1982.7968376410458,5.58005280315392e8\n",
        "0.19195952510723002\n",
        "84500"
       ]
      },
      {
       "output_type": "stream",
       "stream": "stdout",
       "text": [
        "\n",
        "LL = 127466.5219260309\n",
        "Param values 15208.807606727809,498.8995913238471,2040.1483540626482,4.743678616157702e8\n",
        "0.19202821368553102\n",
        "84600"
       ]
      },
      {
       "output_type": "stream",
       "stream": "stdout",
       "text": [
        "\n",
        "LL = 127462.87208543645\n",
        "Param values 15310.743066734878,502.32049682106503,2160.070409916546,5.54097399298738e8\n",
        "0.19204945743398188\n",
        "84700"
       ]
      },
      {
       "output_type": "stream",
       "stream": "stdout",
       "text": [
        "\n",
        "LL = 127466.6189653732\n",
        "Param values 15015.3298733167,464.21141299339945,1975.152775948023,5.138297485271359e8\n",
        "0.19211787763583554\n",
        "84800"
       ]
      },
      {
       "output_type": "stream",
       "stream": "stdout",
       "text": [
        "\n",
        "LL = 127467.71842200009\n",
        "Param values 15096.08533368566,493.28081799276606,2119.099999318994,5.045790464545014e8\n",
        "0.1921271728106795\n",
        "84900"
       ]
      },
      {
       "output_type": "stream",
       "stream": "stdout",
       "text": [
        "\n",
        "LL = 127466.73399880063\n",
        "Param values 15134.976711514117,485.52923848864674,2122.689053447741,5.1510175819930685e8\n",
        "0.19216000376922895\n",
        "85000"
       ]
      },
      {
       "output_type": "stream",
       "stream": "stdout",
       "text": [
        "\n",
        "LL = 127467.17314087185\n",
        "Param values 14907.511263884073,496.42790435161515,2174.932719492263,5.13300278623044e8\n",
        "0.19221628744205746\n",
        "85100"
       ]
      },
      {
       "output_type": "stream",
       "stream": "stdout",
       "text": [
        "\n",
        "LL = 127467.60125700543\n",
        "Param values 15117.690813149933,496.2123881740144,2041.807315749935,4.8449429938709986e8\n",
        "0.1922019318902912\n",
        "85200"
       ]
      },
      {
       "output_type": "stream",
       "stream": "stdout",
       "text": [
        "\n",
        "LL = 127466.48866192065\n",
        "Param values 14803.853019747621,490.0073570947893,2009.5409720192506,4.699961175011064e8\n",
        "0.19217587267306743\n",
        "85300"
       ]
      },
      {
       "output_type": "stream",
       "stream": "stdout",
       "text": [
        "\n",
        "LL = 127467.34801250303\n",
        "Param values 14897.13798263589,500.61185998453533,2116.3613380988677,5.186522299026425e8\n",
        "0.19216159816173883\n",
        "85400"
       ]
      },
      {
       "output_type": "stream",
       "stream": "stdout",
       "text": [
        "\n",
        "LL = 127467.0618516108\n",
        "Param values 14858.158334494514,513.7917902722352,2151.280868005111,4.97832895478487e8\n",
        "0.19222932621372865\n",
        "85500"
       ]
      },
      {
       "output_type": "stream",
       "stream": "stdout",
       "text": [
        "\n",
        "LL = 127466.29674899402\n",
        "Param values 15015.522122013328,522.5735717136452,2225.5540783517245,4.8456498770069045e8\n",
        "0.19230859201384828\n",
        "85600"
       ]
      },
      {
       "output_type": "stream",
       "stream": "stdout",
       "text": [
        "\n",
        "LL = 127466.48707483277\n",
        "Param values 14941.421293755606,482.48861261046386,2155.566122756919,5.38862497019959e8\n",
        "0.1922825299656534\n",
        "85700"
       ]
      },
      {
       "output_type": "stream",
       "stream": "stdout",
       "text": [
        "\n",
        "LL = 127464.74676347962\n",
        "Param values 15300.300824318963,483.7290916917564,2089.8885734173537,5.1973673889925295e8\n",
        "0.19232654204298816\n",
        "85800"
       ]
      },
      {
       "output_type": "stream",
       "stream": "stdout",
       "text": [
        "\n",
        "LL = 127464.85205619562\n",
        "Param values 14962.208902165094,540.1116282727315,2287.3404985360467,4.905049194794727e8\n",
        "0.1923121751089769\n",
        "85900"
       ]
      },
      {
       "output_type": "stream",
       "stream": "stdout",
       "text": [
        "\n",
        "LL = 127466.77955520134\n",
        "Param values 14813.46717297533,481.874834000895,2002.8508592089256,4.764898130264756e8\n",
        "0.1923094833407064\n",
        "86000"
       ]
      },
      {
       "output_type": "stream",
       "stream": "stdout",
       "text": [
        "\n",
        "LL = 127466.49469168411\n",
        "Param values 15016.886724694468,465.5231498363958,1944.4229047341337,4.83176022886908e8\n",
        "0.19229516965510826\n",
        "86100"
       ]
      },
      {
       "output_type": "stream",
       "stream": "stdout",
       "text": [
        "\n",
        "LL = 127466.7826069293\n",
        "Param values 14923.051031690215,483.38763105682136,2067.065531805432,4.756473561639811e8\n",
        "0.1922228158609956\n",
        "86200"
       ]
      },
      {
       "output_type": "stream",
       "stream": "stdout",
       "text": [
        "\n",
        "LL = 127467.5026462437\n",
        "Param values 14980.159653453193,506.6805889084449,2058.818322108092,4.7427477200099415e8\n",
        "0.192185433536741\n",
        "86300"
       ]
      },
      {
       "output_type": "stream",
       "stream": "stdout",
       "text": [
        "\n",
        "LL = 127465.909906363\n",
        "Param values 15266.33073497341,505.46224215927435,2111.9316739047736,5.081562617753442e8\n",
        "0.19209019907761476\n",
        "86400"
       ]
      },
      {
       "output_type": "stream",
       "stream": "stdout",
       "text": [
        "\n",
        "LL = 127466.2033982794\n",
        "Param values 14774.922074005419,509.27957810429706,2146.7879073146314,5.0563822745901847e8\n",
        "0.1920877798097178\n",
        "86500"
       ]
      },
      {
       "output_type": "stream",
       "stream": "stdout",
       "text": [
        "\n",
        "LL = 127466.8525853048\n",
        "Param values 15025.434724051778,523.0531545822876,2132.0103014976025,4.8748543033747137e8\n",
        "0.19205068325279198\n",
        "86600"
       ]
      },
      {
       "output_type": "stream",
       "stream": "stdout",
       "text": [
        "\n",
        "LL = 127465.69926543532\n",
        "Param values 15066.269401606947,479.4417770966798,2112.558887517085,5.577624933758405e8\n",
        "0.19204831520358437\n",
        "86700"
       ]
      },
      {
       "output_type": "stream",
       "stream": "stdout",
       "text": [
        "\n",
        "LL = 127466.8873800145\n",
        "Param values 14970.6578706324,466.710188160195,1967.0015180640723,5.045152146255294e8\n",
        "0.19208055549147615\n",
        "86800"
       ]
      },
      {
       "output_type": "stream",
       "stream": "stdout",
       "text": [
        "\n",
        "LL = 127466.99046376579\n",
        "Param values 14985.303331307376,488.54988931568926,1989.1745436074177,4.597396396745627e8\n",
        "0.19215880550243092\n",
        "86900"
       ]
      },
      {
       "output_type": "stream",
       "stream": "stdout",
       "text": [
        "\n",
        "LL = 127467.10474333123\n",
        "Param values 14937.165320350436,520.0354777456239,2195.304647198394,4.912906392329724e8\n",
        "0.19220235218301918\n",
        "87000"
       ]
      },
      {
       "output_type": "stream",
       "stream": "stdout",
       "text": [
        "\n",
        "LL = 127465.8842169617\n",
        "Param values 15027.823818257102,464.2053135924178,1913.3158515236685,4.837895450469684e8\n",
        "0.19228028230534036\n",
        "87100"
       ]
      },
      {
       "output_type": "stream",
       "stream": "stdout",
       "text": [
        "\n",
        "LL = 127466.81029915258\n",
        "Param values 14945.79541998824,482.5267973224528,2145.12190015543,5.3046696605783105e8\n",
        "0.192254701600496\n",
        "87200"
       ]
      },
      {
       "output_type": "stream",
       "stream": "stdout",
       "text": [
        "\n",
        "LL = 127467.31296579086\n",
        "Param values 14880.061787922474,507.49550073451985,2162.3929643419156,4.91044412268159e8\n",
        "0.1922635840271566\n",
        "87300"
       ]
      },
      {
       "output_type": "stream",
       "stream": "stdout",
       "text": [
        "\n",
        "LL = 127466.14381965029\n",
        "Param values 15115.348358186568,497.36286557241834,2076.502576451714,4.595864555769795e8\n",
        "0.19229535613645216\n",
        "87400"
       ]
      },
      {
       "output_type": "stream",
       "stream": "stdout",
       "text": [
        "\n",
        "LL = 127466.93351887743\n",
        "Param values 14827.188858309313,500.5430111536483,2157.146412060597,4.974409961053023e8\n",
        "0.19237282317673174\n",
        "87500"
       ]
      },
      {
       "output_type": "stream",
       "stream": "stdout",
       "text": [
        "\n",
        "LL = 127467.64032666596\n",
        "Param values 15144.007727932925,500.70181721202334,2101.439427595363,5.0094538380968344e8\n",
        "0.19235868248417107\n",
        "87600"
       ]
      },
      {
       "output_type": "stream",
       "stream": "stdout",
       "text": [
        "\n",
        "LL = 127467.37242230937\n",
        "Param values 14865.279320238915,491.7799121313249,2045.1342862637684,5.006967213590267e8\n",
        "0.19231032671978812\n",
        "87700"
       ]
      },
      {
       "output_type": "stream",
       "stream": "stdout",
       "text": [
        "\n",
        "LL = 127462.61437841384\n",
        "Param values 15315.675647383714,541.1333646340831,2206.331554791874,4.642114901047746e8\n",
        "0.19231909507628453\n",
        "87800"
       ]
      },
      {
       "output_type": "stream",
       "stream": "stdout",
       "text": [
        "\n",
        "LL = 127467.66860146589\n",
        "Param values 14969.202960680313,497.0728709572451,2032.0940064154947,4.7080004962364185e8\n",
        "0.19240757192646757\n",
        "87900"
       ]
      },
      {
       "output_type": "stream",
       "stream": "stdout",
       "text": [
        "\n",
        "LL = 127466.4955252529\n",
        "Param values 15209.69980060325,492.9007839776612,2021.5732725804658,4.783740668738998e8\n",
        "0.19240483287446813\n",
        "88000"
       ]
      },
      {
       "output_type": "stream",
       "stream": "stdout",
       "text": [
        "\n",
        "LL = 127465.6328872977\n",
        "Param values 14991.430594257266,505.15989437838743,2245.915133442114,5.513537738772982e8\n",
        "0.1923793722584604\n",
        "88100"
       ]
      },
      {
       "output_type": "stream",
       "stream": "stdout",
       "text": [
        "\n",
        "LL = 127467.3634946729\n",
        "Param values 15080.201522807056,517.9401545704584,2145.353262512743,4.800960334800143e8\n",
        "0.1924334264114963\n",
        "88200"
       ]
      },
      {
       "output_type": "stream",
       "stream": "stdout",
       "text": [
        "\n",
        "LL = 127467.44574848797\n",
        "Param values 14832.271898105733,500.50533835068507,2107.0241631867443,4.910121120956439e8\n",
        "0.1924306673620717\n",
        "88300"
       ]
      },
      {
       "output_type": "stream",
       "stream": "stdout",
       "text": [
        "\n",
        "LL = 127467.61318837057\n",
        "Param values 14886.367238628654,507.4198921328943,2121.311516560663,4.972865866216234e8\n",
        "0.19238261342272758\n",
        "88400"
       ]
      },
      {
       "output_type": "stream",
       "stream": "stdout",
       "text": [
        "\n",
        "LL = 127467.33165676883\n",
        "Param values 15029.29074812537,483.829516421468,2070.681534970855,4.847849261931771e8\n",
        "0.19242516799022602\n",
        "88500"
       ]
      },
      {
       "output_type": "stream",
       "stream": "stdout",
       "text": [
        "\n",
        "LL = 127465.30445859743\n",
        "Param values 15267.224804709791,522.9965907247192,2137.730810265372,4.886970932328933e8\n",
        "0.19243372731587155\n",
        "88600"
       ]
      },
      {
       "output_type": "stream",
       "stream": "stdout",
       "text": [
        "\n",
        "LL = 127464.71612525645\n",
        "Param values 14806.157310679782,522.4853342004254,2277.859142902604,5.1693042577612895e8\n",
        "0.1923293979548071\n",
        "88700"
       ]
      },
      {
       "output_type": "stream",
       "stream": "stdout",
       "text": [
        "\n",
        "LL = 127467.95428773908\n",
        "Param values 14926.860060459645,506.4169211999292,2129.7757595187054,4.9139707236656874e8\n",
        "0.19233804595368553\n",
        "88800"
       ]
      },
      {
       "output_type": "stream",
       "stream": "stdout",
       "text": [
        "\n",
        "LL = 127460.42489875651\n",
        "Param values 15049.939109919791,431.26672299165585,1919.3143277428162,5.130684916859686e8\n",
        "0.19245928962364017\n",
        "88900"
       ]
      },
      {
       "output_type": "stream",
       "stream": "stdout",
       "text": [
        "\n",
        "LL = 127466.23775551417\n",
        "Param values 15033.702668538306,462.7374919582193,2026.845025435658,5.281748330473471e8\n",
        "0.19253526513532362\n",
        "89000"
       ]
      },
      {
       "output_type": "stream",
       "stream": "stdout",
       "text": [
        "\n",
        "LL = 127466.95042010798\n",
        "Param values 14979.698127244395,507.56664693094206,2202.380337432748,4.9920715421744233e8\n",
        "0.19254365266635207\n",
        "89100"
       ]
      },
      {
       "output_type": "stream",
       "stream": "stdout",
       "text": [
        "\n",
        "LL = 127467.75362983505\n",
        "Param values 15080.962005696812,485.688838486265,2019.3262245820206,4.8729358573244375e8\n",
        "0.1925520213697277\n",
        "89200"
       ]
      },
      {
       "output_type": "stream",
       "stream": "stdout",
       "text": [
        "\n",
        "LL = 127467.29607886622\n",
        "Param values 15030.599054759808,491.76422873262106,1996.6337662236006,4.6850852797879493e8\n",
        "0.1925715823224736\n",
        "89300"
       ]
      },
      {
       "output_type": "stream",
       "stream": "stdout",
       "text": [
        "\n",
        "LL = 127467.00973363152\n",
        "Param values 14875.035631644467,491.93834458011406,2028.1747116828842,4.996528393317647e8\n",
        "0.19263589330108177\n",
        "89400"
       ]
      },
      {
       "output_type": "stream",
       "stream": "stdout",
       "text": [
        "\n",
        "LL = 127467.63151874165\n",
        "Param values 14974.340978481188,498.5254397163238,2084.5382698241397,5.1308002876461524e8\n",
        "0.1925882010783239\n",
        "89500"
       ]
      },
      {
       "output_type": "stream",
       "stream": "stdout",
       "text": [
        "\n",
        "LL = 127466.6944252393\n",
        "Param values 14922.485272543134,470.54632063704065,2069.0689998150806,5.3577938993686557e8\n",
        "0.19257413573487675\n",
        "89600"
       ]
      },
      {
       "output_type": "stream",
       "stream": "stdout",
       "text": [
        "\n",
        "LL = 127465.43096914519\n",
        "Param values 14933.920783315707,476.2911503062206,2159.932736409883,5.4711115307701e8\n",
        "0.19261590660505815\n",
        "89700"
       ]
      },
      {
       "output_type": "stream",
       "stream": "stdout",
       "text": [
        "\n",
        "LL = 127464.77491609931\n",
        "Param values 14970.354095379822,453.0463230754127,2025.2338160755278,5.3060899684363943e8\n",
        "0.19262413877678433\n",
        "89800"
       ]
      },
      {
       "output_type": "stream",
       "stream": "stdout",
       "text": [
        "\n",
        "LL = 127465.84180545366\n",
        "Param values 15219.560627959208,499.18541424668956,2032.2302386710605,4.615968312390274e8\n",
        "0.19265462482460635\n",
        "89900"
       ]
      },
      {
       "output_type": "stream",
       "stream": "stdout",
       "text": [
        "\n",
        "LL = 127467.68520600123\n",
        "Param values 14890.649858440167,495.70582331833896,2070.720849968731,4.7658892892698747e8\n",
        "0.19264054817682263\n",
        "90000"
       ]
      },
      {
       "output_type": "stream",
       "stream": "stdout",
       "text": [
        "\n",
        "LL = 127466.95537584371\n",
        "Param values 14809.625501510645,500.35474808476613,2119.12125477571,4.843491711846532e8\n",
        "0.19269317095935465\n",
        "90100"
       ]
      },
      {
       "output_type": "stream",
       "stream": "stdout",
       "text": [
        "\n",
        "LL = 127465.04865748425\n",
        "Param values 15299.015221605874,488.0389158761039,2050.3356152805177,5.141069060729727e8\n",
        "0.19273457790406\n",
        "90200"
       ]
      },
      {
       "output_type": "stream",
       "stream": "stdout",
       "text": [
        "\n",
        "LL = 127459.74908543982\n",
        "Param values 14888.926742476771,523.5971223704166,2153.610205421639,4.1943746595028764e8\n",
        "0.19283132663695426\n",
        "90300"
       ]
      },
      {
       "output_type": "stream",
       "stream": "stdout",
       "text": [
        "\n",
        "LL = 127465.58960913723\n",
        "Param values 15045.257348813437,500.94056938954134,1982.8340786578133,4.757465027942314e8\n",
        "0.19282819110057808\n",
        "90400"
       ]
      },
      {
       "output_type": "stream",
       "stream": "stdout",
       "text": [
        "\n",
        "LL = 127464.8291108285\n",
        "Param values 15258.071455956524,530.6402796911685,2158.214347427099,4.876133571617039e8\n",
        "0.19289143565123124\n",
        "90500"
       ]
      },
      {
       "output_type": "stream",
       "stream": "stdout",
       "text": [
        "\n",
        "LL = 127468.1456673098\n",
        "Param values 15001.852582428115,495.403202717474,2123.5107242322338,5.121385785986579e8\n",
        "0.192866140688192\n",
        "90600"
       ]
      },
      {
       "output_type": "stream",
       "stream": "stdout",
       "text": [
        "\n",
        "LL = 127467.82798091129\n",
        "Param values 15026.746410896576,479.3919955299347,2011.5792030851317,4.953150425398023e8\n",
        "0.19281882602264952\n",
        "90700"
       ]
      },
      {
       "output_type": "stream",
       "stream": "stdout",
       "text": [
        "\n",
        "LL = 127466.41490334003\n",
        "Param values 14953.44885351901,511.05397443515983,2075.862412994608,4.980786262256116e8\n",
        "0.19278264129308254\n",
        "90800"
       ]
      },
      {
       "output_type": "stream",
       "stream": "stdout",
       "text": [
        "\n",
        "LL = 127466.6425919609\n",
        "Param values 14872.446241178293,469.74321215004636,1975.8090096449973,4.7913355399783766e8\n",
        "0.19280160355954978\n",
        "90900"
       ]
      },
      {
       "output_type": "stream",
       "stream": "stdout",
       "text": [
        "\n",
        "LL = 127466.75786863377\n",
        "Param values 14986.819461297706,467.70996964728545,2044.997311663866,5.0934711048373824e8\n",
        "0.19274351470879447\n",
        "91000"
       ]
      },
      {
       "output_type": "stream",
       "stream": "stdout",
       "text": [
        "\n",
        "LL = 127468.01536435155\n",
        "Param values 15015.655875914355,487.82847299732975,2032.5709242813887,4.8184790239803684e8\n",
        "0.19270753203367108\n",
        "91100"
       ]
      },
      {
       "output_type": "stream",
       "stream": "stdout",
       "text": [
        "\n",
        "LL = 127467.00938318747\n",
        "Param values 15113.461670674413,516.5567664125441,2099.139177470611,4.8035949503149843e8\n",
        "0.19279237743968033\n",
        "91200"
       ]
      },
      {
       "output_type": "stream",
       "stream": "stdout",
       "text": [
        "\n",
        "LL = 127467.33205676802\n",
        "Param values 15069.039292570458,509.341007814806,2098.5185058044817,4.672538204612702e8\n",
        "0.19284414131888858\n",
        "91300"
       ]
      },
      {
       "output_type": "stream",
       "stream": "stdout",
       "text": [
        "\n",
        "LL = 127467.298343319\n",
        "Param values 14968.3535461077,498.63774848007824,2173.224558135469,5.324629794283094e8\n",
        "0.19280816666301562\n",
        "91400"
       ]
      },
      {
       "output_type": "stream",
       "stream": "stdout",
       "text": [
        "\n",
        "LL = 127468.07847692736\n",
        "Param values 14966.756055333983,488.28749448208964,2080.4628347397784,4.9233324038628346e8\n",
        "0.1927941530449244\n",
        "91500"
       ]
      },
      {
       "output_type": "stream",
       "stream": "stdout",
       "text": [
        "\n",
        "LL = 127463.27580511388\n",
        "Param values 14903.748625236618,451.29286163229006,2019.1912554024314,5.022939871702746e8\n",
        "0.19280202845963845\n",
        "91600"
       ]
      },
      {
       "output_type": "stream",
       "stream": "stdout",
       "text": [
        "\n",
        "LL = 127467.71977803168\n",
        "Param values 14932.85842981243,489.4813635275797,2131.1802552158224,5.144012449979711e8\n",
        "0.19290814209917248\n",
        "91700"
       ]
      },
      {
       "output_type": "stream",
       "stream": "stdout",
       "text": [
        "\n",
        "LL = 127462.62599026693\n",
        "Param values 15328.838960396391,524.7834356730951,2058.7180522478175,4.5725377365070665e8\n",
        "0.19283953848502694\n",
        "91800"
       ]
      },
      {
       "output_type": "stream",
       "stream": "stdout",
       "text": [
        "\n",
        "LL = 127466.25505423216\n",
        "Param values 14955.030937649319,507.8620201993827,2035.5454677161028,4.4930546872419626e8\n",
        "0.19285823220549467\n",
        "91900"
       ]
      },
      {
       "output_type": "stream",
       "stream": "stdout",
       "text": [
        "\n",
        "LL = 127464.44912278991\n",
        "Param values 15099.888789543322,493.5399205579257,1988.6248086300284,5.10390126195279e8\n",
        "0.19286600361270104\n",
        "92000"
       ]
      },
      {
       "output_type": "stream",
       "stream": "stdout",
       "text": [
        "\n",
        "LL = 127466.03519682419\n",
        "Param values 14855.869611277114,516.1513346610458,2177.3476853707944,5.206393586125863e8\n",
        "0.1929063675297289\n",
        "92100"
       ]
      },
      {
       "output_type": "stream",
       "stream": "stdout",
       "text": [
        "\n",
        "LL = 127467.64061846021\n",
        "Param values 15048.72908298565,497.610798734378,2051.0521842092962,4.6892170490105134e8\n",
        "0.19287063779886643\n",
        "92200"
       ]
      },
      {
       "output_type": "stream",
       "stream": "stdout",
       "text": [
        "\n",
        "LL = 127467.06559821496\n",
        "Param values 14822.153870204189,502.3024245319734,2077.3854069398208,4.805346441484356e8\n",
        "0.1928349855745244\n",
        "92300"
       ]
      },
      {
       "output_type": "stream",
       "stream": "stdout",
       "text": [
        "\n",
        "LL = 127466.97184375518\n",
        "Param values 15150.298737164203,517.7482861617231,2125.630834720231,4.821327497670567e8\n",
        "0.19281024507573294\n",
        "92400"
       ]
      },
      {
       "output_type": "stream",
       "stream": "stdout",
       "text": [
        "\n",
        "LL = 127463.44504590247\n",
        "Param values 14874.377331293974,464.69367673799707,2121.239489893842,5.771132524159343e8\n",
        "0.19282884910928808\n",
        "92500"
       ]
      },
      {
       "output_type": "stream",
       "stream": "stdout",
       "text": [
        "\n",
        "LL = 127466.63718688312\n",
        "Param values 14855.740777112427,478.3200916507141,2043.5199623557367,5.2834310648796666e8\n",
        "0.19290146813985168\n",
        "92600"
       ]
      },
      {
       "output_type": "stream",
       "stream": "stdout",
       "text": [
        "\n",
        "LL = 127467.27136073519\n",
        "Param values 14959.394171244194,497.11670825142005,2181.392358959021,5.1839636262093437e8\n",
        "0.19281193978271668\n",
        "92700"
       ]
      },
      {
       "output_type": "stream",
       "stream": "stdout",
       "text": [
        "\n",
        "LL = 127463.5260862941\n",
        "Param values 14881.443125854883,512.8371765909072,2322.60493180015,5.50446484875256e8\n",
        "0.1927765431832402\n",
        "92800"
       ]
      },
      {
       "output_type": "stream",
       "stream": "stdout",
       "text": [
        "\n",
        "LL = 127466.55455818622\n",
        "Param values 15236.134242387434,495.6839146340745,2078.7411439962707,4.92812997296852e8\n",
        "0.1928166555313692\n",
        "92900"
       ]
      },
      {
       "output_type": "stream",
       "stream": "stdout",
       "text": [
        "\n",
        "LL = 127467.82143656378\n",
        "Param values 15094.95939059388,496.91542988921276,2058.956528943958,4.802431821619189e8\n",
        "0.19282438803849383\n",
        "93000"
       ]
      },
      {
       "output_type": "stream",
       "stream": "stdout",
       "text": [
        "\n",
        "LL = 127466.26608161634\n",
        "Param values 14742.17827430498,495.78008208649345,2117.4026055854924,5.0988460550952536e8\n",
        "0.19284285683563088\n",
        "93100"
       ]
      },
      {
       "output_type": "stream",
       "stream": "stdout",
       "text": [
        "\n",
        "LL = 127466.10276297205\n",
        "Param values 14944.177629867292,518.3999924514876,2226.901844601351,4.863924996695021e8\n",
        "0.1927968377408752\n",
        "93200"
       ]
      },
      {
       "output_type": "stream",
       "stream": "stdout",
       "text": [
        "\n",
        "LL = 127466.83437484485\n",
        "Param values 14849.687812714623,475.15851896365723,2034.4125596850213,4.8606571196965605e8\n",
        "0.19283675615356552\n",
        "93300"
       ]
      },
      {
       "output_type": "stream",
       "stream": "stdout",
       "text": [
        "\n",
        "LL = 127466.25278847861\n",
        "Param values 14958.813463560185,490.3423415335087,2030.3471476185064,4.5191328230580497e8\n",
        "0.19288730733777787\n",
        "93400"
       ]
      },
      {
       "output_type": "stream",
       "stream": "stdout",
       "text": [
        "\n",
        "LL = 127467.76186978155\n",
        "Param values 15034.708292846508,483.77547109209434,2092.9630134921663,5.0787288049273264e8\n",
        "0.19284138846656246\n",
        "93500"
       ]
      },
      {
       "output_type": "stream",
       "stream": "stdout",
       "text": [
        "\n",
        "LL = 127465.29491309907\n",
        "Param values 15126.506619296038,474.655279894382,1913.5210603982869,4.7184854678292423e8\n",
        "0.19289182656313503\n",
        "93600"
       ]
      },
      {
       "output_type": "stream",
       "stream": "stdout",
       "text": [
        "\n",
        "LL = 127468.05232466721\n",
        "Param values 14939.385486271385,488.2820045697126,2062.874115364121,5.0826199981218696e8\n",
        "0.19295284087266823\n",
        "93700"
       ]
      },
      {
       "output_type": "stream",
       "stream": "stdout",
       "text": [
        "\n",
        "LL = 127467.7284142697\n",
        "Param values 14966.83205083622,511.0938866692031,2162.287588708572,5.085537175885091e8\n",
        "0.19299237977331427\n",
        "93800"
       ]
      },
      {
       "output_type": "stream",
       "stream": "stdout",
       "text": [
        "\n",
        "LL = 127466.92020735722\n",
        "Param values 14934.90487110029,496.05455614690777,2115.9998958387396,5.339185752073148e8\n",
        "0.19302117315934242\n",
        "93900"
       ]
      },
      {
       "output_type": "stream",
       "stream": "stdout",
       "text": [
        "\n",
        "LL = 127466.77658931624\n",
        "Param values 15062.022477662938,491.7054530784118,1996.4087738909234,4.928525768054065e8\n",
        "0.19299665594581356\n",
        "94000"
       ]
      },
      {
       "output_type": "stream",
       "stream": "stdout",
       "text": [
        "\n",
        "LL = 127466.10107378349\n",
        "Param values 14779.925704370835,469.6466051296161,2020.2561362797753,5.1850389099663484e8\n",
        "0.19297219089767867\n",
        "94100"
       ]
      },
      {
       "output_type": "stream",
       "stream": "stdout",
       "text": [
        "\n",
        "LL = 127465.37579664134\n",
        "Param values 15280.212582779814,492.4271424950878,2083.3987777746743,5.211471052250879e8\n",
        "0.1929477778486259\n",
        "94200"
       ]
      },
      {
       "output_type": "stream",
       "stream": "stdout",
       "text": [
        "\n",
        "LL = 127466.75348874989\n",
        "Param values 15029.171839329592,514.6344596092995,2235.7855721409705,5.134918627767889e8\n",
        "0.19288095288647317\n",
        "94300"
       ]
      },
      {
       "output_type": "stream",
       "stream": "stdout",
       "text": [
        "\n",
        "LL = 127467.21748971955\n",
        "Param values 15046.348871653214,482.6354476744885,2069.672628335316,5.3138455649894935e8\n",
        "0.1928778977284778\n",
        "94400"
       ]
      },
      {
       "output_type": "stream",
       "stream": "stdout",
       "text": [
        "\n",
        "LL = 127466.58613017945\n",
        "Param values 14888.830110937532,480.698151838292,2025.3779913556643,5.2382257453907907e8\n",
        "0.1928854424881883\n",
        "94500"
       ]
      },
      {
       "output_type": "stream",
       "stream": "stdout",
       "text": [
        "\n",
        "LL = 127464.9028854475\n",
        "Param values 15221.785439331345,470.56895438169636,2063.864003647701,5.2931702157982796e8\n",
        "0.1929035535143601\n",
        "94600"
       ]
      },
      {
       "output_type": "stream",
       "stream": "stdout",
       "text": [
        "\n",
        "LL = 127467.89392623735\n",
        "Param values 15000.942076648147,488.8547117720128,2075.005322597055,5.181407834422917e8\n",
        "0.19294276834605384\n",
        "94700"
       ]
      },
      {
       "output_type": "stream",
       "stream": "stdout",
       "text": [
        "\n",
        "LL = 127467.75594644817\n",
        "Param values 15066.984260916724,509.6881425766178,2127.5663642042937,5.033650341686749e8\n",
        "0.19299246024203257\n",
        "94800"
       ]
      },
      {
       "output_type": "stream",
       "stream": "stdout",
       "text": [
        "\n",
        "LL = 127462.25915337115\n",
        "Param values 15180.55229400698,476.805943140631,2103.4444693203263,5.827511027067924e8\n",
        "0.1930525960463301\n",
        "94900"
       ]
      },
      {
       "output_type": "stream",
       "stream": "stdout",
       "text": [
        "\n",
        "LL = 127463.83372723211\n",
        "Param values 14991.499294612984,515.9279681120727,2281.3983795955864,5.662492507933903e8\n",
        "0.19311260511285802\n",
        "95000"
       ]
      },
      {
       "output_type": "stream",
       "stream": "stdout",
       "text": [
        "\n",
        "LL = 127467.39597009958\n",
        "Param values 14923.155652205674,499.777281918612,2103.49972570577,5.180609482124535e8\n",
        "0.19314090822964694\n",
        "95100"
       ]
      },
      {
       "output_type": "stream",
       "stream": "stdout",
       "text": [
        "\n",
        "LL = 127466.07514076603\n",
        "Param values 14949.295853700798,484.0876269979929,2088.0942567259,5.491603397266467e8\n",
        "0.19310605901280783\n",
        "95200"
       ]
      },
      {
       "output_type": "stream",
       "stream": "stdout",
       "text": [
        "\n",
        "LL = 127466.85998914654\n",
        "Param values 15128.500158261155,482.5347185004034,2106.2097963127435,5.180025166450909e8\n",
        "0.1930817874325091\n",
        "95300"
       ]
      },
      {
       "output_type": "stream",
       "stream": "stdout",
       "text": [
        "\n",
        "LL = 127467.00048416671\n",
        "Param values 15019.17214271497,472.9458297631355,2053.227261470729,5.321986173994298e8\n",
        "0.19308904698944365\n",
        "95400"
       ]
      },
      {
       "output_type": "stream",
       "stream": "stdout",
       "text": [
        "\n",
        "LL = 127467.42696355232\n",
        "Param values 14910.489100617942,497.1439647140672,2098.9961051478776,5.19042515588997e8\n",
        "0.19306484412671124\n",
        "95500"
       ]
      },
      {
       "output_type": "stream",
       "stream": "stdout",
       "text": [
        "\n",
        "LL = 127467.61587598237\n",
        "Param values 15066.889973122157,513.053193588237,2114.3736677102065,4.7790094080042404e8\n",
        "0.19305116337514922\n",
        "95600"
       ]
      },
      {
       "output_type": "stream",
       "stream": "stdout",
       "text": [
        "\n",
        "LL = 127466.53551365885\n",
        "Param values 14904.049104545422,510.88471008504007,2100.439453890724,5.0486029043194187e8\n",
        "0.19308981359442667\n",
        "95700"
       ]
      },
      {
       "output_type": "stream",
       "stream": "stdout",
       "text": [
        "\n",
        "LL = 127466.96136268285\n",
        "Param values 15143.446295708358,515.521637215336,2106.1977433388215,4.869833556069099e8\n",
        "0.19319108027335993\n",
        "95800"
       ]
      },
      {
       "output_type": "stream",
       "stream": "stdout",
       "text": [
        "\n",
        "LL = 127465.5612107533\n",
        "Param values 15261.997714399462,479.74759398129146,2037.8569998568348,5.070639701515565e8\n",
        "0.1932086264848953\n",
        "95900"
       ]
      },
      {
       "output_type": "stream",
       "stream": "stdout",
       "text": [
        "\n",
        "LL = 127467.18986083816\n",
        "Param values 15023.48666544138,516.915768239351,2120.9371286673854,4.676060993845836e8\n",
        "0.19323656384908966\n",
        "96000"
       ]
      },
      {
       "output_type": "stream",
       "stream": "stdout",
       "text": [
        "\n",
        "LL = 127466.2503860093\n",
        "Param values 15090.526035074527,496.6511516851336,2156.1163693234653,5.477786829411796e8\n",
        "0.19323319235817413\n",
        "96100"
       ]
      },
      {
       "output_type": "stream",
       "stream": "stdout",
       "text": [
        "\n",
        "LL = 127466.39270153471\n",
        "Param values 15122.217158054362,474.57999505027533,1952.4111477466108,4.8486337671999335e8\n",
        "0.19325063997169556\n",
        "96200"
       ]
      },
      {
       "output_type": "stream",
       "stream": "stdout",
       "text": [
        "\n",
        "LL = 127466.30300356577\n",
        "Param values 15207.133881896787,517.2837110523366,2163.3337310955217,4.842233917590877e8\n",
        "0.19326805131083807\n",
        "96300"
       ]
      },
      {
       "output_type": "stream",
       "stream": "stdout",
       "text": [
        "\n",
        "LL = 127467.29787128251\n",
        "Param values 14884.119833063975,500.44687011035353,2144.147824722952,5.235703512241324e8\n",
        "0.1933061953519284\n",
        "96400"
       ]
      },
      {
       "output_type": "stream",
       "stream": "stdout",
       "text": [
        "\n",
        "LL = 127467.59560109743\n",
        "Param values 14975.035084279574,515.1655203443505,2178.2389200481116,5.042562659004409e8\n",
        "0.1932508973215212\n",
        "96500"
       ]
      },
      {
       "output_type": "stream",
       "stream": "stdout",
       "text": [
        "\n",
        "LL = 127465.28021436562\n",
        "Param values 14947.263176929197,495.51369563298124,2127.1104138557157,4.647968594226361e8\n",
        "0.1932164397189579\n",
        "96600"
       ]
      },
      {
       "output_type": "stream",
       "stream": "stdout",
       "text": [
        "\n",
        "LL = 127465.213075249\n",
        "Param values 14785.673020288568,477.80709103544905,1995.0566364639817,4.5846888195777106e8\n",
        "0.19326487090830038\n",
        "96700"
       ]
      },
      {
       "output_type": "stream",
       "stream": "stdout",
       "text": [
        "\n",
        "LL = 127462.00017735401\n",
        "Param values 14980.362516788324,548.4930905208591,2374.459835350734,4.9388228833013695e8\n",
        "0.19327183602556414\n",
        "96800"
       ]
      },
      {
       "output_type": "stream",
       "stream": "stdout",
       "text": [
        "\n",
        "LL = 127465.95495130924\n",
        "Param values 15108.87154478328,508.4883022668141,2018.2998009073763,4.71119107315036e8\n",
        "0.19333044071158495\n",
        "96900"
       ]
      },
      {
       "output_type": "stream",
       "stream": "stdout",
       "text": [
        "\n",
        "LL = 127467.7619311812\n",
        "Param values 15033.363949311604,489.7936572400809,2124.9829505971297,5.1024861689887226e8\n",
        "0.1933063633924333\n",
        "97000"
       ]
      },
      {
       "output_type": "stream",
       "stream": "stdout",
       "text": [
        "\n",
        "LL = 127467.13395275643\n",
        "Param values 15115.100903305107,515.280043754802,2172.5738704597484,5.1223243795494443e8\n",
        "0.19337512113651828\n",
        "97100"
       ]
      },
      {
       "output_type": "stream",
       "stream": "stdout",
       "text": [
        "\n",
        "LL = 127464.99653995385\n",
        "Param values 15292.192523058373,524.0530074562216,2159.4088950265245,4.893730988778286e8\n",
        "0.1933098519022019\n",
        "97200"
       ]
      },
      {
       "output_type": "stream",
       "stream": "stdout",
       "text": [
        "\n",
        "LL = 127467.56069407648\n",
        "Param values 15033.608770004224,505.64408162303533,2102.828891442213,4.7065008696877027e8\n",
        "0.19334759974485072\n",
        "97300"
       ]
      },
      {
       "output_type": "stream",
       "stream": "stdout",
       "text": [
        "\n",
        "LL = 127466.08426736957\n",
        "Param values 15153.339948204779,480.53543074996946,2024.9942365155339,4.7263140312275046e8\n",
        "0.19337499229172234\n",
        "97400"
       ]
      },
      {
       "output_type": "stream",
       "stream": "stdout",
       "text": [
        "\n",
        "LL = 127466.40721658569\n",
        "Param values 14909.71308396823,471.2120425465119,2086.475471413062,5.137499256480618e8\n",
        "0.19341259574118566\n",
        "97500"
       ]
      },
      {
       "output_type": "stream",
       "stream": "stdout",
       "text": [
        "\n",
        "LL = 127463.40454782399\n",
        "Param values 14679.276778124016,476.308575499867,1975.9283056668444,5.1001304736838174e8\n",
        "0.19350140515702885\n",
        "97600"
       ]
      },
      {
       "output_type": "stream",
       "stream": "stdout",
       "text": [
        "\n",
        "LL = 127466.4265137177\n",
        "Param values 14770.624204163096,500.4851669852107,2079.1102930668735,4.9363248937609154e8\n",
        "0.19361052480583618\n",
        "97700"
       ]
      },
      {
       "output_type": "stream",
       "stream": "stdout",
       "text": [
        "\n",
        "LL = 127466.49995780714\n",
        "Param values 14786.98683051598,505.99667278122064,2133.671371177882,5.0697690414205694e8\n",
        "0.19361706483244284\n",
        "97800"
       ]
      },
      {
       "output_type": "stream",
       "stream": "stdout",
       "text": [
        "\n",
        "LL = 127462.97282817883\n",
        "Param values 14961.790802051592,531.1528061851824,2050.2418774912117,4.526660020061879e8\n",
        "0.1936440418004458\n",
        "97900"
       ]
      },
      {
       "output_type": "stream",
       "stream": "stdout",
       "text": [
        "\n",
        "LL = 127467.427734496\n",
        "Param values 15019.306047068378,516.7379081484185,2192.7797974425403,4.9619124974868196e8\n",
        "0.19364031951623117\n",
        "98000"
       ]
      },
      {
       "output_type": "stream",
       "stream": "stdout",
       "text": [
        "\n",
        "LL = 127467.09948350598\n",
        "Param values 15118.81634022777,487.2914266173762,2124.3152085299557,5.195274556710586e8\n",
        "0.19357537908936917\n",
        "98100"
       ]
      },
      {
       "output_type": "stream",
       "stream": "stdout",
       "text": [
        "\n",
        "LL = 127467.3247893894\n",
        "Param values 14936.31533871575,496.3779376815796,2169.5485392632113,5.2963373308992606e8\n",
        "0.19358192827580584\n",
        "98200"
       ]
      },
      {
       "output_type": "stream",
       "stream": "stdout",
       "text": [
        "\n",
        "LL = 127467.32446745072\n",
        "Param values 15081.013089289325,493.2714565267261,2068.6622871837235,5.184249799155467e8\n",
        "0.19366993217784476\n",
        "98300"
       ]
      },
      {
       "output_type": "stream",
       "stream": "stdout",
       "text": [
        "\n",
        "LL = 127467.4989472475\n",
        "Param values 14857.172255560989,498.47146980487,2122.119747144745,5.129619966651052e8\n",
        "0.19365602555494515\n",
        "98400"
       ]
      },
      {
       "output_type": "stream",
       "stream": "stdout",
       "text": [
        "\n",
        "LL = 127467.30473692786\n",
        "Param values 14996.993023019339,488.3187352072769,2140.610969910132,5.346246570697162e8\n",
        "0.19362182158173946\n",
        "98500"
       ]
      },
      {
       "output_type": "stream",
       "stream": "stdout",
       "text": [
        "\n",
        "LL = 127466.52679420677\n",
        "Param values 15175.94850717813,490.8351422151706,2045.3639321689434,4.7131132944421256e8\n",
        "0.1936486020020711\n",
        "98600"
       ]
      },
      {
       "output_type": "stream",
       "stream": "stdout",
       "text": [
        "\n",
        "LL = 127465.8753599362\n",
        "Param values 15076.898772052764,479.8657495204376,2147.628095627607,5.462196914346932e8\n",
        "0.19372603906772956\n",
        "98700"
       ]
      },
      {
       "output_type": "stream",
       "stream": "stdout",
       "text": [
        "\n",
        "LL = 127465.93456665093\n",
        "Param values 14863.488725666955,488.4334589536686,2028.8527563836963,5.1951470055677104e8\n",
        "0.19374252771079453\n",
        "98800"
       ]
      },
      {
       "output_type": "stream",
       "stream": "stdout",
       "text": [
        "\n",
        "LL = 127463.65531451174\n",
        "Param values 15282.467545426389,519.1297353274784,2041.2002564478921,4.593100265224242e8\n",
        "0.19370837466345472\n",
        "98900"
       ]
      },
      {
       "output_type": "stream",
       "stream": "stdout",
       "text": [
        "\n",
        "LL = 127466.24932172416\n",
        "Param values 15020.829662854201,534.1043452089981,2203.695164222368,4.831345027682306e8\n",
        "0.19366417925539445\n",
        "99000"
       ]
      },
      {
       "output_type": "stream",
       "stream": "stdout",
       "text": [
        "\n",
        "LL = 127466.87290299103\n",
        "Param values 14953.746162030811,518.8468152211636,2187.812355340961,4.79936406704069e8\n",
        "0.19366047798945432\n",
        "99100"
       ]
      },
      {
       "output_type": "stream",
       "stream": "stdout",
       "text": [
        "\n",
        "LL = 127467.74450238184\n",
        "Param values 15015.993849240056,510.3408777442951,2101.654168853694,4.9179956358852196e8\n",
        "0.19374760338251024\n",
        "99200"
       ]
      },
      {
       "output_type": "stream",
       "stream": "stdout",
       "text": [
        "\n",
        "LL = 127467.39830557107\n",
        "Param values 15113.258843074706,511.0730827009589,2172.7576434644466,5.101552614260628e8\n",
        "0.19369342123833141\n",
        "99300"
       ]
      },
      {
       "output_type": "stream",
       "stream": "stdout",
       "text": [
        "\n",
        "LL = 127467.58137230993\n",
        "Param values 15111.906111663682,489.0691062223072,2077.130070550181,5.161726317969141e8\n",
        "0.19365948961711213\n",
        "99400"
       ]
      },
      {
       "output_type": "stream",
       "stream": "stdout",
       "text": [
        "\n",
        "LL = 127466.41621532365\n",
        "Param values 14956.45747250352,483.24703442073263,2154.5748225975576,5.194882112892309e8\n",
        "0.19364574739934406\n",
        "99500"
       ]
      },
      {
       "output_type": "stream",
       "stream": "stdout",
       "text": [
        "\n",
        "LL = 127465.99250697042\n",
        "Param values 14949.684177041285,457.6102229264414,2001.9383019137108,5.235750773481585e8\n",
        "0.19361193189812861\n",
        "99600"
       ]
      },
      {
       "output_type": "stream",
       "stream": "stdout",
       "text": [
        "\n",
        "LL = 127464.63253820156\n",
        "Param values 15036.510119277504,482.3113327279847,2192.135998706088,5.285241706597235e8\n",
        "0.19360830538765839\n",
        "99700"
       ]
      },
      {
       "output_type": "stream",
       "stream": "stdout",
       "text": [
        "\n",
        "LL = 127468.14285883206\n",
        "Param values 14993.134462590768,484.3288392879245,2064.2698057900943,4.997095145391853e8\n",
        "0.19367489819254147\n",
        "99800"
       ]
      },
      {
       "output_type": "stream",
       "stream": "stdout",
       "text": [
        "\n",
        "LL = 127465.40670839709\n",
        "Param values 14970.914810098906,463.3766379512516,2085.29891419844,5.38290294455877e8\n",
        "0.193651175374256\n",
        "99900"
       ]
      },
      {
       "output_type": "stream",
       "stream": "stdout",
       "text": [
        "\n",
        "LL = 127466.53484255933\n",
        "Param values 15132.102574913617,493.0861499629503,2147.236549560878,5.397450585794512e8\n",
        "0.19368756131253878\n",
        "100000"
       ]
      },
      {
       "output_type": "stream",
       "stream": "stdout",
       "text": [
        "\n",
        "LL = 127467.40224825245\n",
        "Param values 15034.132590476775,489.1433585402308,2136.905842864452,5.312778083229088e8\n",
        "0.19371387427748554\n"
       ]
      },
      {
       "output_type": "stream",
       "stream": "stdout",
       "text": [
        "\n",
        "Parameter 1 Mean: 14919.115705284696\n",
        "Parameter 1 Var: 709212.7682846517\n",
        "Parameter 1 Std: 842.1477116780949\n",
        "\n",
        "Parameter 2 Mean: 437.06635911311895\n",
        "Parameter 2 Var: 11256.701031763754\n",
        "Parameter 2 Std: 106.09760144208612\n",
        "\n",
        "Parameter 3 Mean: 1734.2066146259854\n",
        "Parameter 3 Var: 418971.71106538037\n",
        "Parameter 3 Std: 647.2802415224648\n",
        "\n",
        "Parameter 4 Mean: 3.832432028335924e8\n",
        "Parameter 4 Var: 4.5100454411217544e16\n",
        "Parameter 4 Std: 2.1236867568268523e8\n",
        "done"
       ]
      },
      {
       "output_type": "stream",
       "stream": "stdout",
       "text": [
        "\n"
       ]
      }
     ],
     "prompt_number": 45
    },
    {
     "cell_type": "code",
     "collapsed": false,
     "input": [
      "readdir(\"Output\")"
     ],
     "language": "python",
     "metadata": {},
     "outputs": [
      {
       "metadata": {},
       "output_type": "pyout",
       "prompt_number": 15,
       "text": [
        "49-element Array{Union(UTF8String,ASCIIString),1}:\n",
        " \".gitignore\"                                                 \n",
        " \"ION_Ball_AdaptiveMH_Output_LL_Part1.0\"                      \n",
        " \"ION_Ball_AdaptiveMH_Output_LL_Part_Final\"                   \n",
        " \"ION_Ball_AdaptiveMH_Output_Part1.0\"                         \n",
        " \"ION_Ball_AdaptiveMH_Output_Part_Final\"                      \n",
        " \"ION_Ball_MultMH_Output_AcceptanceLocal_Part1.0\"             \n",
        " \"ION_Ball_MultMH_Output_AcceptanceLocal_Part_Final\"          \n",
        " \"ION_Ball_MultMH_Output_Acceptance_Part1.0\"                  \n",
        " \"ION_Ball_MultMH_Output_Acceptance_Part_Final\"               \n",
        " \"ION_Ball_MultMH_Output_LL_Part1.0\"                          \n",
        " \"ION_Ball_MultMH_Output_LL_Part_Final\"                       \n",
        " \"ION_Ball_MultMH_Output_Part1.0\"                             \n",
        " \"ION_Ball_MultMH_Output_Part_Final\"                          \n",
        " \u22ee                                                            \n",
        " \"ION_dCK_MultMH_Output_LL_Part1.0\"                           \n",
        " \"ION_dCK_MultMH_Output_LL_Part_Final\"                        \n",
        " \"ION_dCK_MultMH_Output_Part1.0\"                              \n",
        " \"ION_dCK_MultMH_Output_Part_Final\"                           \n",
        " \"ION_SevenState_MultMH_MWG_Output_AcceptanceLocal_Part1.0\"   \n",
        " \"ION_SevenState_MultMH_MWG_Output_AcceptanceLocal_Part_Final\"\n",
        " \"ION_SevenState_MultMH_MWG_Output_Acceptance_Part1.0\"        \n",
        " \"ION_SevenState_MultMH_MWG_Output_Acceptance_Part_Final\"     \n",
        " \"ION_SevenState_MultMH_MWG_Output_LL_Part1.0\"                \n",
        " \"ION_SevenState_MultMH_MWG_Output_LL_Part_Final\"             \n",
        " \"ION_SevenState_MultMH_MWG_Output_Part1.0\"                   \n",
        " \"ION_SevenState_MultMH_MWG_Output_Part_Final\"                "
       ]
      }
     ],
     "prompt_number": 15
    },
    {
     "cell_type": "code",
     "collapsed": false,
     "input": [
      "samples = readdlm(\"Output/ION_dCK_MultMH_Output_Part_Final\",',')"
     ],
     "language": "python",
     "metadata": {},
     "outputs": [
      {
       "metadata": {},
       "output_type": "pyout",
       "prompt_number": 46,
       "text": [
        "4x100000 Array{Float64,2}:\n",
        "   100.0    100.0     99.1792    99.7444  \u2026  15034.1        15034.1      \n",
        "   100.0    100.0    104.745    100.593        489.143        489.143    \n",
        "  1000.0   1000.0    973.071    937.791       2136.91        2136.91     \n",
        " 10000.0  10000.0  10164.6     9802.12           5.31278e8      5.31278e8"
       ]
      }
     ],
     "prompt_number": 46
    },
    {
     "cell_type": "code",
     "collapsed": false,
     "input": [
      "\n",
      "for i in (1,2)\n",
      "    for j in (1,2)\n",
      "        iterator=2*(i-1)+j\n",
      "        subplot(2,2,iterator)\n",
      "        plt.plot(vec(samples[iterator,:]))\n",
      "        plt.title(model.ParaNames[iterator])\n",
      "        plt.show()\n",
      "    end\n",
      "end\n"
     ],
     "language": "python",
     "metadata": {},
     "outputs": [
      {
       "metadata": {},
       "output_type": "display_data",
       "png": "[encoded data removed]",
       "text": [
        "Figure(PyObject <matplotlib.figure.Figure object at 0x7f61ac0b9110>)"
       ]
      }
     ],
     "prompt_number": 47
    },
    {
     "cell_type": "code",
     "collapsed": false,
     "input": [
      "LL = readdlm(\"Output/ION_dCK_MultMH_Output_LL_Part_Final\",',');"
     ],
     "language": "python",
     "metadata": {},
     "outputs": [],
     "prompt_number": 48
    },
    {
     "cell_type": "code",
     "collapsed": false,
     "input": [
      "plot(LL[1000:end])\n",
      "ylabel(\"Log-likelihood\")\n",
      "xlabel(\"Iteration\")"
     ],
     "language": "python",
     "metadata": {},
     "outputs": [
      {
       "metadata": {},
       "output_type": "display_data",
       "png": "[encoded data removed]",
       "text": [
        "Figure(PyObject <matplotlib.figure.Figure object at 0x7f61abcb7c10>)"
       ]
      },
      {
       "metadata": {},
       "output_type": "pyout",
       "prompt_number": 49,
       "text": [
        "PyObject <matplotlib.text.Text object at 0x7f61ac1cc290>"
       ]
      }
     ],
     "prompt_number": 49
    },
    {
     "cell_type": "code",
     "collapsed": false,
     "input": [],
     "language": "python",
     "metadata": {},
     "outputs": []
    }
   ],
   "metadata": {}
  }
 ]
}