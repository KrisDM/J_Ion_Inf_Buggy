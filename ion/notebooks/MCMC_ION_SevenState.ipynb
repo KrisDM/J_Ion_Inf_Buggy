{
 "metadata": {
  "language": "Julia",
  "name": ""
 },
 "nbformat": 3,
 "nbformat_minor": 0,
 "worksheets": [
  {
   "cells": [
    {
     "cell_type": "code",
     "collapsed": false,
     "input": [
      "projbasedir = \"/home/michaelepstein/Ion/\""
     ],
     "language": "python",
     "metadata": {},
     "outputs": [
      {
       "metadata": {},
       "output_type": "pyout",
       "prompt_number": 1,
       "text": [
        "\"/home/michaelepstein/Ion/\""
       ]
      }
     ],
     "prompt_number": 1
    },
    {
     "cell_type": "code",
     "collapsed": false,
     "input": [
      "\n",
      "cd(projbasedir)\n",
      "using MAT\n",
      "using Distributions\n",
      "using MCMCTypes\n",
      "using PyPlot"
     ],
     "language": "python",
     "metadata": {},
     "outputs": [
      {
       "output_type": "stream",
       "stream": "stderr",
       "text": [
        "INFO: Loading help data...\n"
       ]
      }
     ],
     "prompt_number": 2
    },
    {
     "cell_type": "code",
     "collapsed": false,
     "input": [
      "# Function for updating parameters - Gibbs step 1\n",
      "include(string(projbasedir,\"MCMCUpdateParameters.jl\"))\n",
      "\n",
      "# Function for updating indicator - Gibbs step 2\n",
      "include(string(projbasedir,\"MCMCUpdateIndicator.jl\"))\n",
      "\n",
      "# Function for the main MCMC routine\n",
      "include(string(projbasedir,\"MCMCRun.jl\"))\n",
      "\n",
      "# Enum of Ion-channel models which can be created\n",
      "AvailableModels = include(string(projbasedir,\"ion/model/ModelEnum.jl\"))\n",
      "\n",
      "# Function to create available models\n",
      "include(string(projbasedir,\"ion/model/CreateModel.jl\"))\n",
      "\n",
      "# Function to parse matlab data files\n",
      "include(string(projbasedir,\"ion/data/MatlabParser.jl\"))\n",
      "\n",
      "Sampler             = \"MultMH\"\n",
      "OutputID            = \"Output/ION_SevenState_MultMH_MWG_Output\"\n",
      "InitialStepSize     = 1 # MH stepsize\n",
      "NumOfIterations     = 5000\n",
      "\n",
      "NumOfProposals      = 1\n",
      "ProposalCovariance  = eye(10,10)\n",
      "InitialiseFromPrior = false # Sample starting parameters from prior\n",
      "\n",
      "# Define function for updating the parameters (1st Gibbs step)\n",
      "UpdateParasFunction     = UpdateParameters\n",
      "\n",
      "# Define function for sampling the indicator variable (2nd Gibbs step)\n",
      "SampleIndicatorFunction = SampleIndicator\n",
      "\n",
      "#create the dCK model\n",
      "model = CreateModel(4)\n",
      "\n",
      "#data parsing from MATLAB experimental files\n",
      "\n",
      "datafile = string(projbasedir,\"ion/data/SevenStateIndepBinding.mat\")\n",
      "println(\"Parsing datafile $datafile\")\n",
      "data = MatlabParser(datafile)\n",
      "\n",
      "println(string(\"Likelihood with default params = \", model.LLEval(model.DefaultParas,model,data)))\n",
      "println()\n",
      "println(model.LLEval([[1723.1867019290817,42531.32974966526,10924.733849824734,51.72835559909404,14446.539511150006,10.067590976463844,1.2148143505056901e8,5322.199741107113,4803.866975792592,1.2160276101911488e8]],model,data))\n",
      "println(model.GenerateQ([2003.2699688723703 46263.54759757213 11160.899524433331 48.414734147075684 16317.540508224698 9.544938761794905 1.1575120285425824e8 5699.201728641001 3817.8969932894797 1.2522226759794517e8],1.0))"
     ],
     "language": "python",
     "metadata": {},
     "outputs": [
      {
       "output_type": "stream",
       "stream": "stdout",
       "text": [
        "Creating Hatton Seven State model with independent binding. Params = 10, States = 7\n"
       ]
      },
      {
       "output_type": "stream",
       "stream": "stdout",
       "text": [
        "Parsing datafile /home/michaelepstein/Ion/ion/data/SevenStateIndepBinding.mat\n",
        "Likelihood with default params = 171870.8673302215"
       ]
      },
      {
       "output_type": "stream",
       "stream": "stdout",
       "text": [
        "\n",
        "\n",
        "173186.88211714456\n",
        "[-2003.2699688723703 0.0 0.0 2003.2699688723703 0.0 0.0 0.0\n",
        " 0.0 -11160.899524433331 0.0 0.0 11160.899524433331 0.0 0.0\n",
        " 0.0 0.0 -16317.540508224698 0.0 0.0 16317.540508224698 0.0\n",
        " 46263.54759757213 0.0 0.0 -55780.6463195026 3817.8969932894797 5699.201728641001 0.0\n",
        " 0.0 48.414734147075684 0.0 1.2522226759794517e8 -1.2522801521440795e8 0.0 5699.201728641001\n",
        " 0.0 0.0 9.544938761794905 1.1575120285425824e8 0.0 -1.1575503029619029e8 3817.8969932894797\n",
        " 0.0 0.0 0.0 0.0 1.1575120285425824e8 1.2522226759794517e8 -2.409734704522034e8]\n"
       ]
      }
     ],
     "prompt_number": 6
    },
    {
     "cell_type": "code",
     "collapsed": false,
     "input": [
      "MySimulation = MCMCSimulation( OutputID,\n",
      "                               Sampler,\n",
      "                               NumOfProposals,\n",
      "                               NumOfIterations,\n",
      "                               InitialStepSize,\n",
      "                               ProposalCovariance,\n",
      "                               InitialiseFromPrior,\n",
      "                               UpdateParasFunction,\n",
      "                               SampleIndicatorFunction,\n",
      "                               model,\n",
      "                               data,\n",
      "                               true)\n",
      "\n",
      "\n",
      "# Run the MCMC code, passing in the MCMCSimulation object\n",
      "MCMCRun( MySimulation );\n",
      "println(\"done\")"
     ],
     "language": "python",
     "metadata": {},
     "outputs": [
      {
       "output_type": "stream",
       "stream": "stdout",
       "text": [
        "Setting up Markov chain proposal...\n"
       ]
      },
      {
       "output_type": "stream",
       "stream": "stdout",
       "text": [
        "Creating chain object...\n",
        "Initialising..."
       ]
      },
      {
       "output_type": "stream",
       "stream": "stdout",
       "text": [
        "\n",
        "The chosen sampler is Multiplicative Metropolis-Hastings.\n",
        "Starting main MCMC routine...\n",
        "Current Parameter i = "
       ]
      },
      {
       "output_type": "stream",
       "stream": "stdout",
       "text": [
        "1 Value, 1500.0LL166632.5694227518\n",
        "Proposed Parameter i = 1 Value = 597.1655899683772LL = 166632.5694227518\n",
        "Current Parameter i = 1 Value, 1500.0LL153673.61473509495\n",
        "Proposed Parameter i = 1 Value = 597.1655899683772LL = 153673.61473509495\n",
        "Current Parameter i = 1 Value, 1500.0LL150554.14000086984\n",
        "Proposed Parameter i = 1 Value = 597.1655899683772LL = 150554.14000086984\n",
        "Current Parameter i = 1 Value, 1500.0LL149996.03741727542\n",
        "Proposed Parameter i = 1 Value = 597.1655899683772LL = 149996.03741727542\n",
        "Current Parameter i = "
       ]
      },
      {
       "output_type": "stream",
       "stream": "stdout",
       "text": [
        "1 Value, 1500.0LL154008.3767163957\n",
        "Proposed Parameter i = 1 Value = 597.1655899683772LL = 154008.3767163957\n",
        "Current Parameter i = 1 Value, 1500.0LL156011.69362372495\n",
        "Proposed Parameter i = 1 Value = 597.1655899683772LL = 156011.69362372495\n",
        "Current Parameter i = 1 Value, 1500.0LL154805.88456561384\n",
        "Proposed Parameter i = 1 Value = 597.1655899683772LL = 154805.88456561384\n",
        "Current Parameter i = 1 Value, 1500.0LL153831.0150608652\n",
        "Proposed Parameter i = 1 Value = 597.1655899683772LL = 153831.0150608652\n",
        "Current Parameter i = "
       ]
      },
      {
       "output_type": "stream",
       "stream": "stdout",
       "text": [
        "1 Value, 1500.0LL153259.8460221611\n",
        "Proposed Parameter i = 1 Value = 597.1655899683772LL = 153259.8460221611\n",
        "Current Parameter i = 1 Value, 1500.0LL155108.26594800287\n",
        "Proposed Parameter i = 1 Value = 597.1655899683772LL = 155108.26594800287\n",
        "Current Parameter i = 1 Value, 1500.0LL161986.6548171864\n",
        "Proposed Parameter i = 1 Value = 1611.9296907586522LL = 161986.6548171864\n",
        "Current Parameter i = "
       ]
      },
      {
       "output_type": "stream",
       "stream": "stdout",
       "text": [
        "1 Value, 1500.0LL164886.62699760866\n",
        "Proposed Parameter i = 1 Value = 1611.9296907586522LL = 164886.62699760866\n",
        "Current Parameter i = 1 Value, 1500.0LL164904.65513897128\n",
        "Proposed Parameter i = 1 Value = 1611.9296907586522LL = 164904.65513897128\n",
        "Current Parameter i = 1 Value, 1500.0LL164873.03276961975\n",
        "Proposed Parameter i = 1 Value = 1611.9296907586522LL = 164873.03276961975\n",
        "Current Parameter i = 1 Value, 1500.0LL164896.94842005413\n",
        "Proposed Parameter i = 1 Value = 1611.9296907586522LL = 164896.94842005413\n",
        "Current Parameter i = "
       ]
      },
      {
       "output_type": "stream",
       "stream": "stdout",
       "text": [
        "1 Value, 1500.0LL165759.18619823773\n",
        "Proposed Parameter i = 1 Value = 1611.9296907586522LL = 165759.18619823773\n",
        "Current Parameter i = 1 Value, 1500.0LL168041.56594529052\n",
        "Proposed Parameter i = 1 Value = 1611.9296907586522LL = 168041.56594529052\n",
        "Current Parameter i = 1 Value, 1500.0LL164126.22939790462\n",
        "Proposed Parameter i = 1 Value = 1611.9296907586522LL = 164126.22939790462\n",
        "Current Parameter i = 1 Value, 1500.0LL165700.94810204077\n",
        "Proposed Parameter i = 1 Value = 1611.9296907586522LL = 165700.94810204077\n",
        "Current Parameter i = "
       ]
      },
      {
       "output_type": "stream",
       "stream": "stdout",
       "text": [
        "1 Value, 1500.0LL164581.79974495593\n",
        "Proposed Parameter i = 1 Value = 1611.9296907586522LL = 164581.79974495593\n",
        "Current Parameter i = 1 Value, 1500.0LL163005.3286957337\n",
        "Proposed Parameter i = 1 Value = 4102.993572149369LL = 163005.3286957337\n",
        "Current Parameter i = 1 Value, 1500.0LL148455.17491875842\n",
        "Proposed Parameter i = 1 Value = 4102.993572149369LL = 148455.17491875842\n",
        "Current Parameter i = 1 Value, 1500.0LL148344.67565631337\n",
        "Proposed Parameter i = 1 Value = 4102.993572149369LL = 148344.67565631337\n",
        "Current Parameter i = "
       ]
      },
      {
       "output_type": "stream",
       "stream": "stdout",
       "text": [
        "1 Value, 1500.0LL148292.74556347594\n",
        "Proposed Parameter i = 1 Value = 4102.993572149369LL = 148292.74556347594\n",
        "Current Parameter i = 1 Value, 1500.0LL147584.13805858613\n",
        "Proposed Parameter i = 1 Value = 4102.993572149369LL = 147584.13805858613\n",
        "Current Parameter i = 1 Value, 1500.0LL147092.5600684928\n",
        "Proposed Parameter i = 1 Value = 4102.993572149369LL = 147092.5600684928\n",
        "Current Parameter i = "
       ]
      },
      {
       "output_type": "stream",
       "stream": "stdout",
       "text": [
        "1 Value, 1500.0LL146167.66323852833\n",
        "Proposed Parameter i = 1 Value = 4102.993572149369LL = 146167.66323852833\n",
        "Current Parameter i = 1 Value, 1500.0LL142211.23263288627\n",
        "Proposed Parameter i = 1 Value = 4102.993572149369LL = 142211.23263288627\n",
        "Current Parameter i = 1 Value, 1500.0LL143369.66140111443\n",
        "Proposed Parameter i = 1 Value = 4102.993572149369LL = 143369.66140111443\n",
        "Current Parameter i = "
       ]
      },
      {
       "output_type": "stream",
       "stream": "stdout",
       "text": [
        "1 Value, 1500.0LL144203.81682891457\n",
        "Proposed Parameter i = 1 Value = 4102.993572149369LL = 144203.81682891457\n",
        "Current Parameter i = 1 Value, 1500.0LL146168.55221963258\n",
        "Proposed Parameter i = 1 Value = 5256.714275634392LL = 146168.55221963258\n",
        "Current Parameter i = 1 Value, 1500.0LL172172.59558061472\n",
        "Proposed Parameter i = 1 Value = 5256.714275634392LL = 172172.59558061472\n",
        "Current Parameter i = "
       ]
      },
      {
       "output_type": "stream",
       "stream": "stdout",
       "text": [
        "2 Value, 50000.0LL172172.59558061472\n",
        "Proposed Parameter i = 2 Value = 88268.31832670007LL = 172172.59558061472\n",
        "Current Parameter i = 2 Value, 50000.0LL172172.59558061472\n",
        "Proposed Parameter i = 2 Value = 88268.31832670007LL = 172172.59558061472\n",
        "Current Parameter i = 2 Value, 50000.0LL172172.59558061472\n",
        "Proposed Parameter i = 2 Value = 88268.31832670007LL = 172172.59558061472\n",
        "Current Parameter i = "
       ]
      },
      {
       "output_type": "stream",
       "stream": "stdout",
       "text": [
        "2 Value, 50000.0LL172172.59558061472\n",
        "Proposed Parameter i = 2 Value = 88268.31832670007LL = 172172.59558061472\n",
        "Current Parameter i = 2 Value, 50000.0LL172172.59558061472\n",
        "Proposed Parameter i = 2 Value = 88268.31832670007LL = 172172.59558061472\n",
        "Current Parameter i = 2 Value, 50000.0LL172172.59558061472\n",
        "Proposed Parameter i = 2 Value = 88268.31832670007LL = 172172.59558061472\n",
        "Current Parameter i = 2 Value, 50000.0LL172172.59558061472\n",
        "Proposed Parameter i = 2 Value = 88268.31832670007LL = 172172.59558061472\n",
        "Current Parameter i = "
       ]
      },
      {
       "output_type": "stream",
       "stream": "stdout",
       "text": [
        "2 Value, 50000.0LL172172.59558061472\n",
        "Proposed Parameter i = 2 Value = 88268.31832670007LL = 172172.59558061472\n",
        "Current Parameter i = 2 Value, 50000.0LL172172.59558061472\n",
        "Proposed Parameter i = 2 Value = 88268.31832670007LL = 172172.59558061472\n",
        "Current Parameter i = 2 Value, 215954.16768182546LL172172.59558061472\n",
        "Proposed Parameter i = 2 Value = 88268.31832670007LL = 172172.59558061472\n",
        "Current Parameter i = 2 Value, 215954.16768182546LL172172.59558061472\n",
        "Proposed Parameter i = 2 Value = 88268.31832670007LL = 172172.59558061472\n",
        "Current Parameter i = "
       ]
      },
      {
       "output_type": "stream",
       "stream": "stdout",
       "text": [
        "2 Value, 215954.16768182546LL172172.59558061472\n",
        "Proposed Parameter i = 2 Value = 88268.31832670007LL = 172172.59558061472\n",
        "Current Parameter i = 2 Value, 215954.16768182546LL172172.59558061472\n",
        "Proposed Parameter i = 2 Value = 88268.31832670007LL = 172172.59558061472\n",
        "Current Parameter i = 2 Value, 215954.16768182546LL172172.59558061472\n",
        "Proposed Parameter i = 2 Value = 88268.31832670007LL = 172172.59558061472\n",
        "Current Parameter i = 2 Value, 215954.16768182546LL172172.59558061472\n",
        "Proposed Parameter i = 2 Value = 88268.31832670007LL = 172172.59558061472\n",
        "Current Parameter i = "
       ]
      },
      {
       "output_type": "stream",
       "stream": "stdout",
       "text": [
        "2 Value, 215954.16768182546LL172172.59558061472\n",
        "Proposed Parameter i = 2 Value = 88268.31832670007LL = 172172.59558061472\n",
        "Current Parameter i = 2 Value, 215954.16768182546LL172172.59558061472\n",
        "Proposed Parameter i = 2 Value = 88268.31832670007LL = 172172.59558061472\n",
        "Current Parameter i = 2 Value, 215954.16768182546LL172172.59558061472\n",
        "Proposed Parameter i = 2 Value = 88268.31832670007LL = 172172.59558061472\n",
        "Current Parameter i = 2 Value, 215954.16768182546LL172172.59558061472\n",
        "Proposed Parameter i = 2 Value = 88268.31832670007LL = 172172.59558061472\n",
        "Current Parameter i = "
       ]
      },
      {
       "output_type": "stream",
       "stream": "stdout",
       "text": [
        "2 Value, 80030.21563452648LL172172.59558061472\n",
        "Proposed Parameter i = 2 Value = 88268.31832670007LL = 172172.59558061472\n",
        "Current Parameter i = 2 Value, 80030.21563452648LL172172.59558061472\n",
        "Proposed Parameter i = 2 Value = 88268.31832670007LL = 172172.59558061472\n",
        "Current Parameter i = 2 Value, 80030.21563452648LL172172.59558061472\n",
        "Proposed Parameter i = 2 Value = 88268.31832670007LL = 172172.59558061472\n",
        "Current Parameter i = 2 Value, 80030.21563452648LL172172.59558061472\n",
        "Proposed Parameter i = 2 Value = 88268.31832670007LL = 172172.59558061472\n",
        "Current Parameter i = "
       ]
      },
      {
       "output_type": "stream",
       "stream": "stdout",
       "text": [
        "2 Value, 80030.21563452648LL172172.59558061472\n",
        "Proposed Parameter i = 2 Value = 88268.31832670007LL = 172172.59558061472\n",
        "Current Parameter i = 2 Value, 80030.21563452648LL172172.59558061472\n",
        "Proposed Parameter i = 2 Value = 88268.31832670007LL = 172172.59558061472\n",
        "Current Parameter i = 2 Value, 80030.21563452648LL172172.59558061472\n",
        "Proposed Parameter i = 2 Value = 88268.31832670007LL = 172172.59558061472\n",
        "Current Parameter i = 2 Value, 80030.21563452648LL172172.59558061472\n",
        "Proposed Parameter i = 2 Value = 88268.31832670007LL = 172172.59558061472\n",
        "Current Parameter i = "
       ]
      },
      {
       "output_type": "stream",
       "stream": "stdout",
       "text": [
        "2 Value, 80030.21563452648LL172172.59558061472\n",
        "Proposed Parameter i = 2 Value = 88268.31832670007LL = 172172.59558061472\n",
        "Current Parameter i = 2 Value, 80030.21563452648LL172172.59558061472\n",
        "Proposed Parameter i = 2 Value = 88268.31832670007LL = 172172.59558061472\n",
        "Current Parameter i = 2 Value, 169183.7076959646LL172172.59558061472\n",
        "Proposed Parameter i = 2 Value = 88268.31832670007LL = 172172.59558061472\n",
        "Current Parameter i = 2 Value, 169183.7076959646LL172172.59558061472\n",
        "Proposed Parameter i = 2 Value = 88268.31832670007LL = 172172.59558061472\n",
        "Current Parameter i = "
       ]
      },
      {
       "output_type": "stream",
       "stream": "stdout",
       "text": [
        "2 Value, 169183.7076959646LL172172.59558061472\n",
        "Proposed Parameter i = 2 Value = 88268.31832670007LL = 172172.59558061472\n",
        "Current Parameter i = 2 Value, 169183.7076959646LL172172.59558061472\n",
        "Proposed Parameter i = 2 Value = 88268.31832670007LL = 172172.59558061472\n",
        "Current Parameter i = 2 Value, 169183.7076959646LL172172.59558061472\n",
        "Proposed Parameter i = 2 Value = 88268.31832670007LL = 172172.59558061472\n",
        "Current Parameter i = 2 Value, 169183.7076959646LL172172.59558061472\n",
        "Proposed Parameter i = 2 Value = 88268.31832670007LL = 172172.59558061472\n",
        "Current Parameter i = "
       ]
      },
      {
       "output_type": "stream",
       "stream": "stdout",
       "text": [
        "2 Value, 169183.7076959646LL172172.59558061472\n",
        "Proposed Parameter i = 2 Value = 88268.31832670007LL = 172172.59558061472\n",
        "Current Parameter i = 2 Value, 169183.7076959646LL172172.59558061472\n",
        "Proposed Parameter i = 2 Value = 88268.31832670007LL = 172172.59558061472\n",
        "Current Parameter i = 2 Value, 169183.7076959646LL172172.59558061472\n",
        "Proposed Parameter i = 2 Value = 88268.31832670007LL = 172172.59558061472\n",
        "Current Parameter i = 2 Value, 169183.7076959646LL172172.59558061472\n",
        "Proposed Parameter i = 2 Value = 88268.31832670007LL = 172172.59558061472\n",
        "Current Parameter i = "
       ]
      },
      {
       "output_type": "stream",
       "stream": "stdout",
       "text": [
        "2 Value, 132204.38468072773LL172172.59558061472\n",
        "Proposed Parameter i = 2 Value = 88268.31832670007LL = 172172.59558061472\n",
        "Current Parameter i = 2 Value, 132204.38468072773LL172172.59558061472\n",
        "Proposed Parameter i = 2 Value = 88268.31832670007LL = 172172.59558061472\n",
        "Current Parameter i = 2 Value, 132204.38468072773LL172172.59558061472\n",
        "Proposed Parameter i = 2 Value = 88268.31832670007LL = 172172.59558061472\n",
        "Current Parameter i = 2 Value, 132204.38468072773LL172172.59558061472\n",
        "Proposed Parameter i = 2 Value = 88268.31832670007LL = 172172.59558061472\n",
        "Current Parameter i = "
       ]
      },
      {
       "output_type": "stream",
       "stream": "stdout",
       "text": [
        "2 Value, 132204.38468072773LL172172.59558061472\n",
        "Proposed Parameter i = 2 Value = 88268.31832670007LL = 172172.59558061472\n",
        "Current Parameter i = 2 Value, 132204.38468072773LL172172.59558061472\n",
        "Proposed Parameter i = 2 Value = 88268.31832670007LL = 172172.59558061472\n",
        "Current Parameter i = 2 Value, 132204.38468072773LL172172.59558061472\n",
        "Proposed Parameter i = 2 Value = 88268.31832670007LL = 172172.59558061472\n",
        "Current Parameter i = 2 Value, 132204.38468072773LL172172.59558061472\n",
        "Proposed Parameter i = 2 Value = 88268.31832670007LL = 172172.59558061472\n",
        "Current Parameter i = "
       ]
      },
      {
       "output_type": "stream",
       "stream": "stdout",
       "text": [
        "2 Value, 132204.38468072773LL172172.59558061472\n",
        "Proposed Parameter i = 2 Value = 88268.31832670007LL = 172172.59558061472\n",
        "Current Parameter i = 2 Value, 132204.38468072773LL172172.59558061472\n",
        "Proposed Parameter i = 2 Value = 88268.31832670007LL = 172172.59558061472\n",
        "Current Parameter i = 2 Value, 86904.75062074256LL172172.59558061472\n",
        "Proposed Parameter i = 2 Value = 88268.31832670007LL = 172172.59558061472\n",
        "Current Parameter i = 2 Value, 86904.75062074256LL172172.59558061472\n",
        "Proposed Parameter i = 2 Value = 88268.31832670007LL = 172172.59558061472\n",
        "Current Parameter i = "
       ]
      },
      {
       "output_type": "stream",
       "stream": "stdout",
       "text": [
        "2 Value, 86904.75062074256LL172172.59558061472\n",
        "Proposed Parameter i = 2 Value = 88268.31832670007LL = 172172.59558061472\n",
        "Current Parameter i = 2 Value, 86904.75062074256LL172172.59558061472\n",
        "Proposed Parameter i = 2 Value = 88268.31832670007LL = 172172.59558061472\n",
        "Current Parameter i = 2 Value, 86904.75062074256LL172172.59558061472\n",
        "Proposed Parameter i = 2 Value = 88268.31832670007LL = 172172.59558061472\n",
        "Current Parameter i = 2 Value, 86904.75062074256LL172172.59558061472\n",
        "Proposed Parameter i = 2 Value = 88268.31832670007LL = 172172.59558061472\n",
        "Current Parameter i = "
       ]
      },
      {
       "output_type": "stream",
       "stream": "stdout",
       "text": [
        "2 Value, 86904.75062074256LL172172.59558061472\n",
        "Proposed Parameter i = 2 Value = 88268.31832670007LL = 172172.59558061472\n",
        "Current Parameter i = 2 Value, 86904.75062074256LL172172.59558061472\n",
        "Proposed Parameter i = 2 Value = 88268.31832670007LL = 172172.59558061472\n",
        "Current Parameter i = 2 Value, 86904.75062074256LL172172.59558061472\n",
        "Proposed Parameter i = 2 Value = 88268.31832670007LL = 172172.59558061472\n",
        "Current Parameter i = 2 Value, 86904.75062074256LL172172.59558061472\n",
        "Proposed Parameter i = 2 Value = 88268.31832670007LL = 172172.59558061472\n",
        "Current Parameter i = "
       ]
      },
      {
       "output_type": "stream",
       "stream": "stdout",
       "text": [
        "2 Value, 118394.06785658207LL172172.59558061472\n",
        "Proposed Parameter i = 2 Value = 88268.31832670007LL = 172172.59558061472\n",
        "Current Parameter i = 2 Value, 118394.06785658207LL172172.59558061472\n",
        "Proposed Parameter i = 2 Value = 88268.31832670007LL = 172172.59558061472\n",
        "Current Parameter i = 2 Value, 118394.06785658207LL172172.59558061472\n",
        "Proposed Parameter i = 2 Value = 88268.31832670007LL = 172172.59558061472\n",
        "Current Parameter i = 2 Value, 118394.06785658207LL172172.59558061472\n",
        "Proposed Parameter i = 2 Value = 88268.31832670007LL = 172172.59558061472\n",
        "Current Parameter i = "
       ]
      },
      {
       "output_type": "stream",
       "stream": "stdout",
       "text": [
        "2 Value, 118394.06785658207LL172172.59558061472\n",
        "Proposed Parameter i = 2 Value = 88268.31832670007LL = 172172.59558061472\n",
        "Current Parameter i = 2 Value, 118394.06785658207LL172172.59558061472\n",
        "Proposed Parameter i = 2 Value = 88268.31832670007LL = 172172.59558061472\n",
        "Current Parameter i = 2 Value, 118394.06785658207LL172172.59558061472\n",
        "Proposed Parameter i = 2 Value = 88268.31832670007LL = 172172.59558061472\n",
        "Current Parameter i = 2 Value, 118394.06785658207LL172172.59558061472\n",
        "Proposed Parameter i = 2 Value = 88268.31832670007LL = 172172.59558061472\n",
        "Current Parameter i = "
       ]
      },
      {
       "output_type": "stream",
       "stream": "stdout",
       "text": [
        "2 Value, 118394.06785658207LL172172.59558061472\n",
        "Proposed Parameter i = 2 Value = 88268.31832670007LL = 172172.59558061472\n",
        "Current Parameter i = 2 Value, 118394.06785658207LL172172.59558061472\n",
        "Proposed Parameter i = 2 Value = 88268.31832670007LL = 172172.59558061472\n",
        "Current Parameter i = 2 Value, 204557.91730733274LL172172.59558061472\n",
        "Proposed Parameter i = 2 Value = 88268.31832670007LL = 172172.59558061472\n",
        "Current Parameter i = 2 Value, 204557.91730733274LL172172.59558061472\n",
        "Proposed Parameter i = 2 Value = 88268.31832670007LL = 172172.59558061472\n",
        "Current Parameter i = "
       ]
      },
      {
       "output_type": "stream",
       "stream": "stdout",
       "text": [
        "2 Value, 204557.91730733274LL172172.59558061472\n",
        "Proposed Parameter i = 2 Value = 88268.31832670007LL = 172172.59558061472\n",
        "Current Parameter i = 2 Value, 204557.91730733274LL172172.59558061472\n",
        "Proposed Parameter i = 2 Value = 88268.31832670007LL = 172172.59558061472\n",
        "Current Parameter i = 2 Value, 204557.91730733274LL172172.59558061472\n",
        "Proposed Parameter i = 2 Value = 88268.31832670007LL = 172172.59558061472\n",
        "Current Parameter i = 2 Value, 204557.91730733274LL172172.59558061472\n",
        "Proposed Parameter i = 2 Value = 88268.31832670007LL = 172172.59558061472\n",
        "Current Parameter i = "
       ]
      },
      {
       "output_type": "stream",
       "stream": "stdout",
       "text": [
        "2 Value, 204557.91730733274LL172172.59558061472\n",
        "Proposed Parameter i = 2 Value = 88268.31832670007LL = 172172.59558061472\n",
        "Current Parameter i = 2 Value, 204557.91730733274LL172172.59558061472\n",
        "Proposed Parameter i = 2 Value = 88268.31832670007LL = 172172.59558061472\n",
        "Current Parameter i = 2 Value, 204557.91730733274LL172172.59558061472\n",
        "Proposed Parameter i = 2 Value = 88268.31832670007LL = 172172.59558061472\n",
        "Current Parameter i = 2 Value, 204557.91730733274LL172172.59558061472\n",
        "Proposed Parameter i = 2 Value = 88268.31832670007LL = 172172.59558061472\n",
        "Current Parameter i = "
       ]
      },
      {
       "output_type": "stream",
       "stream": "stdout",
       "text": [
        "2 Value, 110271.67283700348LL172172.59558061472\n",
        "Proposed Parameter i = 2 Value = 88268.31832670007LL = 172172.59558061472\n",
        "Current Parameter i = 2 Value, 110271.67283700348LL172172.59558061472\n",
        "Proposed Parameter i = 2 Value = 88268.31832670007LL = 172172.59558061472\n",
        "Current Parameter i = 2 Value, 110271.67283700348LL172172.59558061472\n",
        "Proposed Parameter i = 2 Value = 88268.31832670007LL = 172172.59558061472\n",
        "Current Parameter i = 2 Value, 110271.67283700348LL172172.59558061472\n",
        "Proposed Parameter i = 2 Value = 88268.31832670007LL = 172172.59558061472\n",
        "Current Parameter i = "
       ]
      },
      {
       "output_type": "stream",
       "stream": "stdout",
       "text": [
        "2 Value, 110271.67283700348LL172172.59558061472\n",
        "Proposed Parameter i = 2 Value = 88268.31832670007LL = 172172.59558061472\n",
        "Current Parameter i = 2 Value, 110271.67283700348LL172172.59558061472\n",
        "Proposed Parameter i = 2 Value = 88268.31832670007LL = 172172.59558061472\n",
        "Current Parameter i = 2 Value, 110271.67283700348LL172172.59558061472\n",
        "Proposed Parameter i = 2 Value = 88268.31832670007LL = 172172.59558061472\n",
        "Current Parameter i = 2 Value, 110271.67283700348LL172172.59558061472\n",
        "Proposed Parameter i = 2 Value = 88268.31832670007LL = 172172.59558061472\n",
        "Current Parameter i = "
       ]
      },
      {
       "output_type": "stream",
       "stream": "stdout",
       "text": [
        "2 Value, 110271.67283700348LL172172.59558061472\n",
        "Proposed Parameter i = 2 Value = 88268.31832670007LL = 172172.59558061472\n",
        "Current Parameter i = 2 Value, 110271.67283700348LL172172.59558061472\n",
        "Proposed Parameter i = 2 Value = 88268.31832670007LL = 172172.59558061472\n",
        "Current Parameter i = 2 Value, 63050.72398292041LL172172.59558061472\n",
        "Proposed Parameter i = 2 Value = 88268.31832670007LL = 172172.59558061472\n",
        "Current Parameter i = 2 Value, 63050.72398292041LL172172.59558061472\n",
        "Proposed Parameter i = 2 Value = 88268.31832670007LL = 172172.59558061472\n",
        "Current Parameter i = "
       ]
      },
      {
       "output_type": "stream",
       "stream": "stdout",
       "text": [
        "2 Value, 63050.72398292041LL172172.59558061472\n",
        "Proposed Parameter i = 2 Value = 88268.31832670007LL = 172172.59558061472\n",
        "Current Parameter i = 2 Value, 63050.72398292041LL172172.59558061472\n",
        "Proposed Parameter i = 2 Value = 88268.31832670007LL = 172172.59558061472\n",
        "Current Parameter i = 2 Value, 63050.72398292041LL172172.59558061472\n",
        "Proposed Parameter i = 2 Value = 88268.31832670007LL = 172172.59558061472\n",
        "Current Parameter i = 2 Value, 63050.72398292041LL172172.59558061472\n",
        "Proposed Parameter i = 2 Value = 88268.31832670007LL = 172172.59558061472\n",
        "Current Parameter i = "
       ]
      },
      {
       "output_type": "stream",
       "stream": "stdout",
       "text": [
        "2 Value, 63050.72398292041LL172172.59558061472\n",
        "Proposed Parameter i = 2 Value = 88268.31832670007LL = 172172.59558061472\n",
        "Current Parameter i = 2 Value, 63050.72398292041LL172172.59558061472\n",
        "Proposed Parameter i = 2 Value = 88268.31832670007LL = 172172.59558061472\n",
        "Current Parameter i = 2 Value, 63050.72398292041LL172172.59558061472\n",
        "Proposed Parameter i = 2 Value = 88268.31832670007LL = 172172.59558061472\n",
        "Current Parameter i = 2 Value, 63050.72398292041LL172172.59558061472\n",
        "Proposed Parameter i = 2 Value = 88268.31832670007LL = 172172.59558061472\n",
        "Current Parameter i = "
       ]
      },
      {
       "output_type": "stream",
       "stream": "stdout",
       "text": [
        "2 Value, 51120.974066657334LL172172.59558061472\n",
        "Proposed Parameter i = 2 Value = 88268.31832670007LL = 172172.59558061472\n",
        "Current Parameter i = 2 Value, 51120.974066657334LL172172.59558061472\n",
        "Proposed Parameter i = 2 Value = 88268.31832670007LL = 172172.59558061472\n",
        "Current Parameter i = 2 Value, 51120.974066657334LL172172.59558061472\n",
        "Proposed Parameter i = 2 Value = 88268.31832670007LL = 172172.59558061472\n",
        "Current Parameter i = 2 Value, 51120.974066657334LL172172.59558061472\n",
        "Proposed Parameter i = 2 Value = 88268.31832670007LL = 172172.59558061472\n",
        "Current Parameter i = "
       ]
      },
      {
       "output_type": "stream",
       "stream": "stdout",
       "text": [
        "2 Value, 51120.974066657334LL172172.59558061472\n",
        "Proposed Parameter i = 2 Value = 88268.31832670007LL = 172172.59558061472\n",
        "Current Parameter i = 2 Value, 51120.974066657334LL172172.59558061472\n",
        "Proposed Parameter i = 2 Value = 88268.31832670007LL = 172172.59558061472\n",
        "Current Parameter i = 2 Value, 51120.974066657334LL172172.59558061472\n",
        "Proposed Parameter i = 2 Value = 88268.31832670007LL = 172172.59558061472\n",
        "Current Parameter i = 1 Value, 2866.781017237378LL169953.1039180229\n",
        "Proposed Parameter i = 1 Value = 5256.714275634392LL = 169953.1039180229\n",
        "Current Parameter i = "
       ]
      },
      {
       "output_type": "stream",
       "stream": "stdout",
       "text": [
        "1 Value, 2866.781017237378LL166751.55942877693\n",
        "Proposed Parameter i = 1 Value = 5256.714275634392LL = 166751.55942877693\n",
        "Current Parameter i = 1 Value, 2866.781017237378LL165580.01670940858\n",
        "Proposed Parameter i = 1 Value = 6041.77637673282LL = 165580.01670940858\n",
        "Current Parameter i = 1 Value, 2866.781017237378LL122752.37579766204\n",
        "Proposed Parameter i = 1 Value = 6041.77637673282LL = 122752.37579766204\n",
        "Current Parameter i = 1 Value, 2866.781017237378LL127955.00580124433\n",
        "Proposed Parameter i = 1 Value = 6041.77637673282LL = 127955.00580124433\n",
        "Current Parameter i = "
       ]
      },
      {
       "output_type": "stream",
       "stream": "stdout",
       "text": [
        "1 Value, 2866.781017237378LL127964.53089938765\n",
        "Proposed Parameter i = 1 Value = 6041.77637673282LL = 127964.53089938765\n",
        "Current Parameter i = 1 Value, 2866.781017237378LL128200.21134734614\n",
        "Proposed Parameter i = 1 Value = 6041.77637673282LL = 128200.21134734614\n",
        "Current Parameter i = 1 Value, 2866.781017237378LL116842.69247078092\n",
        "Proposed Parameter i = 1 Value = 6041.77637673282LL = 116842.69247078092\n",
        "Current Parameter i = 1 Value, 2866.781017237378LL126176.68279780947\n",
        "Proposed Parameter i = 1 Value = 6041.77637673282LL = 126176.68279780947\n",
        "Current Parameter i = "
       ]
      },
      {
       "output_type": "stream",
       "stream": "stdout",
       "text": [
        "1 Value, 2866.781017237378LL133450.50767392106\n",
        "Proposed Parameter i = 1 Value = 6041.77637673282LL = 133450.50767392106\n",
        "Current Parameter i = 1 Value, 2866.781017237378LL128386.31646479758\n",
        "Proposed Parameter i = 1 Value = 6041.77637673282LL = 128386.31646479758\n",
        "Current Parameter i = 1 Value, 2866.781017237378LL128363.2045776515\n",
        "Proposed Parameter i = 1 Value = 6041.77637673282LL = 128363.2045776515\n",
        "Current Parameter i = 1 Value, 2866.781017237378LL142882.75909085336\n",
        "Proposed Parameter i = 1 Value = 4481.119520628803LL = 142882.75909085336\n",
        "Current Parameter i = "
       ]
      },
      {
       "output_type": "stream",
       "stream": "stdout",
       "text": [
        "1 Value, 2866.781017237378LL163170.57627233627\n",
        "Proposed Parameter i = 1 Value = 4481.119520628803LL = 163170.57627233627\n",
        "Current Parameter i = 1 Value, 2866.781017237378LL163106.38742756066\n",
        "Proposed Parameter i = 1 Value = 4481.119520628803LL = 163106.38742756066\n",
        "Current Parameter i = 1 Value, 2866.781017237378LL162979.09691735954\n",
        "Proposed Parameter i = 1 Value = 4481.119520628803LL = 162979.09691735954\n",
        "Current Parameter i = "
       ]
      },
      {
       "output_type": "stream",
       "stream": "stdout",
       "text": [
        "1 Value, 2866.781017237378LL158205.17927079936\n",
        "Proposed Parameter i = 1 Value = 4481.119520628803LL = 158205.17927079936\n",
        "Current Parameter i = 1 Value, 2866.781017237378LL157740.31799003584\n",
        "Proposed Parameter i = 1 Value = 4481.119520628803LL = 157740.31799003584\n",
        "Current Parameter i = 1 Value, 2866.781017237378LL158074.20218368943\n",
        "Proposed Parameter i = 1 Value = 4481.119520628803LL = 158074.20218368943\n",
        "Current Parameter i = "
       ]
      },
      {
       "output_type": "stream",
       "stream": "stdout",
       "text": [
        "1 Value, 2866.781017237378LL166780.3507633021\n",
        "Proposed Parameter i = 1 Value = 4481.119520628803LL = 166780.3507633021\n",
        "Current Parameter i = 1 Value, 2866.781017237378LL166810.34355974942\n",
        "Proposed Parameter i = 1 Value = 4481.119520628803LL = 166810.34355974942\n",
        "Current Parameter i = 1 Value, 2866.781017237378LL166776.75865251094\n",
        "Proposed Parameter i = 1 Value = 4481.119520628803LL = 166776.75865251094\n",
        "Current Parameter i = 1 Value, 2866.781017237378LL154433.57662459035\n",
        "Proposed Parameter i = 1 Value = 486.4033968570002LL = 154433.57662459035\n",
        "Current Parameter i = "
       ]
      },
      {
       "output_type": "stream",
       "stream": "stdout",
       "text": [
        "1 Value, 2866.781017237378LL157843.79200087613\n",
        "Proposed Parameter i = 1 Value = 486.4033968570002LL = 157843.79200087613\n",
        "Current Parameter i = 1 Value, 2866.781017237378LL157726.58048941486\n",
        "Proposed Parameter i = 1 Value = 486.4033968570002LL = 157726.58048941486\n",
        "Current Parameter i = 1 Value, 2866.781017237378LL157727.15620156578\n",
        "Proposed Parameter i = 1 Value = 486.4033968570002LL = 157727.15620156578\n",
        "Current Parameter i = 1 Value, 2866.781017237378LL168936.93765733577\n",
        "Proposed Parameter i = 1 Value = 486.4033968570002LL = 168936.93765733577\n",
        "Current Parameter i = "
       ]
      },
      {
       "output_type": "stream",
       "stream": "stdout",
       "text": [
        "1 Value, 2866.781017237378LL169690.90736984307\n",
        "Proposed Parameter i = 1 Value = 486.4033968570002LL = 169690.90736984307\n",
        "Current Parameter i = 1 Value, 2866.781017237378LL169975.4522872775\n",
        "Proposed Parameter i = 1 Value = 486.4033968570002LL = 169975.4522872775\n",
        "Current Parameter i = 1 Value, 2866.781017237378LL169931.9407399485\n",
        "Proposed Parameter i = 1 Value = 486.4033968570002LL = 169931.9407399485\n",
        "Current Parameter i = "
       ]
      },
      {
       "output_type": "stream",
       "stream": "stdout",
       "text": [
        "1 Value, 2866.781017237378LL169810.70624250287\n",
        "Proposed Parameter i = 1 Value = 486.4033968570002LL = 169810.70624250287\n",
        "Current Parameter i = 1 Value, 2866.781017237378LL169769.21326101955\n",
        "Proposed Parameter i = 1 Value = 486.4033968570002LL = 169769.21326101955\n",
        "Current Parameter i = 1 Value, 2866.781017237378LL168948.09196282114\n",
        "Proposed Parameter i = 1 Value = 3594.185509993585LL = 168948.09196282114\n",
        "Current Parameter i = 1 Value, 2866.781017237378LL148916.88606261375\n",
        "Proposed Parameter i = 1 Value = 3594.185509993585LL = 148916.88606261375\n",
        "Current Parameter i = "
       ]
      },
      {
       "output_type": "stream",
       "stream": "stdout",
       "text": [
        "1 Value, 2866.781017237378LL148916.36019314182\n",
        "Proposed Parameter i = 1 Value = 3594.185509993585LL = 148916.36019314182\n",
        "Current Parameter i = 1 Value, 2866.781017237378LL148916.35980513116\n",
        "Proposed Parameter i = 1 Value = 3594.185509993585LL = 148916.35980513116\n",
        "Current Parameter i = 1 Value, 2866.781017237378LL149042.37027265632\n",
        "Proposed Parameter i = 1 Value = 3594.185509993585LL = 149042.37027265632\n",
        "Current Parameter i = 1 Value, 2866.781017237378LL149903.1795575996\n",
        "Proposed Parameter i = 1 Value = 3594.185509993585LL = 149903.1795575996\n",
        "Current Parameter i = "
       ]
      },
      {
       "output_type": "stream",
       "stream": "stdout",
       "text": [
        "1 Value, 2866.781017237378LL149276.96187407844\n",
        "Proposed Parameter i = 1 Value = 3594.185509993585LL = 149276.96187407844\n",
        "Current Parameter i = 1 Value, 2866.781017237378LL147479.2453885268\n",
        "Proposed Parameter i = 1 Value = 3594.185509993585LL = 147479.2453885268\n",
        "Current Parameter i = 1 Value, 2866.781017237378LL147778.10482682948\n",
        "Proposed Parameter i = 1 Value = 3594.185509993585LL = 147778.10482682948\n",
        "Current Parameter i = 1 Value, 2866.781017237378LL147600.1671029882\n",
        "Proposed Parameter i = 1 Value = 3594.185509993585LL = 147600.1671029882\n",
        "Current Parameter i = "
       ]
      },
      {
       "output_type": "stream",
       "stream": "stdout",
       "text": [
        "1 Value, 2866.781017237378LL104103.37387773326\n",
        "Proposed Parameter i = 1 Value = 29657.625933786672LL = 104103.37387773326\n",
        "Current Parameter i = 1 Value, 2866.781017237378LL133181.54982219092\n",
        "Proposed Parameter i = 1 Value = 29657.625933786672LL = 133181.54982219092\n",
        "Current Parameter i = 1 Value, 2866.781017237378LL133553.0344270759\n",
        "Proposed Parameter i = 1 Value = 29657.625933786672LL = 133553.0344270759\n",
        "Current Parameter i = "
       ]
      },
      {
       "output_type": "stream",
       "stream": "stdout",
       "text": [
        "1 Value, 2866.781017237378LL133470.03614770476\n",
        "Proposed Parameter i = 1 Value = 29657.625933786672LL = 133470.03614770476\n",
        "Current Parameter i = 1 Value, 2866.781017237378LL133470.98297343173\n",
        "Proposed Parameter i = 1 Value = 29657.625933786672LL = 133470.98297343173\n",
        "Current Parameter i = 1 Value, 2866.781017237378LL135578.80890562123\n",
        "Proposed Parameter i = 1 Value = 29657.625933786672LL = 135578.80890562123\n",
        "Current Parameter i = "
       ]
      },
      {
       "output_type": "stream",
       "stream": "stdout",
       "text": [
        "1 Value, 2866.781017237378LL134346.71402694573\n",
        "Proposed Parameter i = 1 Value = 29657.625933786672LL = 134346.71402694573\n",
        "Current Parameter i = 1 Value, 2866.781017237378LL133530.80130998426\n",
        "Proposed Parameter i = 1 Value = 29657.625933786672LL = 133530.80130998426\n",
        "Current Parameter i = 1 Value, 2866.781017237378LL134088.99904726833\n",
        "Proposed Parameter i = 1 Value = 29657.625933786672LL = 134088.99904726833\n",
        "Current Parameter i = "
       ]
      },
      {
       "output_type": "stream",
       "stream": "stdout",
       "text": [
        "1 Value, 2866.781017237378LL134115.5483109481\n",
        "Proposed Parameter i = 1 Value = 29657.625933786672LL = 134115.5483109481\n",
        "Current Parameter i = 1 Value, 2866.781017237378LL171968.28377596434\n",
        "Proposed Parameter i = 1 Value = 3030.9749342608206LL = 171968.28377596434\n",
        "Current Parameter i = 1 Value, 2866.781017237378LL171201.63360879733\n",
        "Proposed Parameter i = 1 Value = 3030.9749342608206LL = 171201.63360879733\n",
        "Current Parameter i = 1 Value, 2866.781017237378LL172236.99337021724\n",
        "Proposed Parameter i = 1 Value = 3030.9749342608206LL = 172236.99337021724\n",
        "Current Parameter i = "
       ]
      },
      {
       "output_type": "stream",
       "stream": "stdout",
       "text": [
        "1 Value, 2866.781017237378LL173020.03309573233\n",
        "Proposed Parameter i = 1 Value = 3030.9749342608206LL = 173020.03309573233\n",
        "Current Parameter i = 1 Value, 2866.781017237378LL171919.78095143219\n",
        "Proposed Parameter i = 1 Value = 3030.9749342608206LL = 171919.78095143219\n",
        "Current Parameter i = 1 Value, 2866.781017237378LL170266.39879444634\n",
        "Proposed Parameter i = 1 Value = 3030.9749342608206LL = 170266.39879444634\n",
        "Current Parameter i = 1 Value, 2866.781017237378LL169047.65735397508\n",
        "Proposed Parameter i = 1 Value = 3030.9749342608206LL = 169047.65735397508\n",
        "Current Parameter i = "
       ]
      },
      {
       "output_type": "stream",
       "stream": "stdout",
       "text": [
        "1 Value, 2866.781017237378LL168033.7977453584\n",
        "Proposed Parameter i = 1 Value = 3030.9749342608206LL = 168033.7977453584\n",
        "Current Parameter i = 1 Value, 2866.781017237378LL168412.76052176554\n",
        "Proposed Parameter i = 1 Value = 3030.9749342608206LL = 168412.76052176554\n",
        "Current Parameter i = 1 Value, 2866.781017237378LL168566.8324082651\n",
        "Proposed Parameter i = 1 Value = 3030.9749342608206LL = 168566.8324082651\n",
        "Current Parameter i = 1 Value, 2866.781017237378LL156251.27426869454\n",
        "Proposed Parameter i = 1 Value = 528.0009980330716LL = 156251.27426869454\n",
        "Current Parameter i = "
       ]
      },
      {
       "output_type": "stream",
       "stream": "stdout",
       "text": [
        "1 Value, 2866.781017237378LL166493.11729202812\n",
        "Proposed Parameter i = 1 Value = 528.0009980330716LL = 166493.11729202812\n",
        "Current Parameter i = 1 Value, 2866.781017237378LL166516.88628110875\n",
        "Proposed Parameter i = 1 Value = 528.0009980330716LL = 166516.88628110875\n",
        "Current Parameter i = 1 Value, 2866.781017237378LL166529.60717982918\n",
        "Proposed Parameter i = 1 Value = 528.0009980330716LL = 166529.60717982918\n",
        "Current Parameter i = 1 Value, 2866.781017237378LL165596.32153582215\n",
        "Proposed Parameter i = 1 Value = 528.0009980330716LL = 165596.32153582215\n",
        "Current Parameter i = "
       ]
      },
      {
       "output_type": "stream",
       "stream": "stdout",
       "text": [
        "1 Value, 2866.781017237378LL168544.15823883162\n",
        "Proposed Parameter i = 1 Value = 528.0009980330716LL = 168544.15823883162\n",
        "Current Parameter i = 1 Value, 2866.781017237378LL168590.70448466172\n",
        "Proposed Parameter i = 1 Value = 528.0009980330716LL = 168590.70448466172\n",
        "Current Parameter i = 1 Value, 2866.781017237378LL170455.77071167447\n",
        "Proposed Parameter i = 1 Value = 528.0009980330716LL = 170455.77071167447\n",
        "Current Parameter i = 1 Value, 2866.781017237378LL170637.34587066525\n",
        "Proposed Parameter i = 1 Value = 528.0009980330716LL = 170637.34587066525\n",
        "Current Parameter i = "
       ]
      },
      {
       "output_type": "stream",
       "stream": "stdout",
       "text": [
        "1 Value, 2866.781017237378LL170180.10416011862\n",
        "Proposed Parameter i = 1 Value = 528.0009980330716LL = 170180.10416011862\n",
        "Current Parameter i = 1 Value, 2866.781017237378LL161309.42561976778\n",
        "Proposed Parameter i = 1 Value = 2806.9736553102184LL = 161309.42561976778\n",
        "Current Parameter i = 1 Value, 2866.781017237378LL173160.1699044739\n",
        "Proposed Parameter i = 1 Value = 2806.9736553102184LL = 173160.1699044739\n",
        "Current Parameter i = 1 Value, 2866.781017237378LL173177.56951800335\n",
        "Proposed Parameter i = 1 Value = 2806.9736553102184LL = 173177.56951800335\n",
        "Current Parameter i = "
       ]
      },
      {
       "output_type": "stream",
       "stream": "stdout",
       "text": [
        "1 Value, 2866.781017237378LL173175.92047016966\n",
        "Proposed Parameter i = 1 Value = 2806.9736553102184LL = 173175.92047016966\n",
        "Current Parameter i = 1 Value, 2866.781017237378LL173586.87161643142\n",
        "Proposed Parameter i = 1 Value = 2806.9736553102184LL = 173586.87161643142\n",
        "Current Parameter i = 1 Value, 2866.781017237378LL173480.5053787428\n",
        "Proposed Parameter i = 1 Value = 2806.9736553102184LL = 173480.5053787428\n",
        "Current Parameter i = 1 Value, 2866.781017237378LL173232.48896275897\n",
        "Proposed Parameter i = 1 Value = 2806.9736553102184LL = 173232.48896275897\n",
        "Current Parameter i = "
       ]
      },
      {
       "output_type": "stream",
       "stream": "stdout",
       "text": [
        "1 Value, 2866.781017237378LL173974.39730942014\n",
        "Proposed Parameter i = 1 Value = 2806.9736553102184LL = 173974.39730942014\n",
        "Current Parameter i = 2 Value, 51120.974066657334LL173974.39730942014\n",
        "Proposed Parameter i = 2 Value = 55854.01245438637LL = 173974.39730942014\n",
        "Current Parameter i = 2 Value, 51120.974066657334LL173974.39730942014\n",
        "Proposed Parameter i = 2 Value = 55854.01245438637LL = 173974.39730942014\n",
        "Current Parameter i = 2 Value, 51120.974066657334LL173974.39730942014\n",
        "Proposed Parameter i = 2 Value = 55854.01245438637LL = 173974.39730942014\n",
        "Current Parameter i = "
       ]
      },
      {
       "output_type": "stream",
       "stream": "stdout",
       "text": [
        "2 Value, 27955.577544946293LL173974.39730942014\n",
        "Proposed Parameter i = 2 Value = 55854.01245438637LL = 173974.39730942014\n",
        "Current Parameter i = 2 Value, 27955.577544946293LL173974.39730942014\n",
        "Proposed Parameter i = 2 Value = 55854.01245438637LL = 173974.39730942014\n",
        "Current Parameter i = 2 Value, 27955.577544946293LL173974.39730942014\n",
        "Proposed Parameter i = 2 Value = 55854.01245438637LL = 173974.39730942014\n",
        "Current Parameter i = "
       ]
      },
      {
       "output_type": "stream",
       "stream": "stdout",
       "text": [
        "2 Value, 27955.577544946293LL173974.39730942014\n",
        "Proposed Parameter i = 2 Value = 55854.01245438637LL = 173974.39730942014\n",
        "Current Parameter i = 2 Value, 27955.577544946293LL173974.39730942014\n",
        "Proposed Parameter i = 2 Value = 55854.01245438637LL = 173974.39730942014\n",
        "Current Parameter i = 2 Value, 27955.577544946293LL173974.39730942014\n",
        "Proposed Parameter i = 2 Value = 55854.01245438637LL = 173974.39730942014\n",
        "Current Parameter i = 2 Value, 27955.577544946293LL173974.39730942014\n",
        "Proposed Parameter i = 2 Value = 55854.01245438637LL = 173974.39730942014\n",
        "Current Parameter i = "
       ]
      },
      {
       "output_type": "stream",
       "stream": "stdout",
       "text": [
        "2 Value, 27955.577544946293LL173974.39730942014\n",
        "Proposed Parameter i = 2 Value = 55854.01245438637LL = 173974.39730942014\n",
        "Current Parameter i = 2 Value, 27955.577544946293LL173974.39730942014\n",
        "Proposed Parameter i = 2 Value = 55854.01245438637LL = 173974.39730942014\n",
        "Current Parameter i = 2 Value, 27955.577544946293LL173974.39730942014\n",
        "Proposed Parameter i = 2 Value = 55854.01245438637LL = 173974.39730942014\n",
        "Current Parameter i = 2 Value, 208391.9982233295LL173974.39730942014\n",
        "Proposed Parameter i = 2 Value = 55854.01245438637LL = 173974.39730942014\n",
        "Current Parameter i = "
       ]
      },
      {
       "output_type": "stream",
       "stream": "stdout",
       "text": [
        "2 Value, 208391.9982233295LL173974.39730942014\n",
        "Proposed Parameter i = 2 Value = 55854.01245438637LL = 173974.39730942014\n",
        "Current Parameter i = 2 Value, 208391.9982233295LL173974.39730942014\n",
        "Proposed Parameter i = 2 Value = 55854.01245438637LL = 173974.39730942014\n",
        "Current Parameter i = 2 Value, 208391.9982233295LL173974.39730942014\n",
        "Proposed Parameter i = 2 Value = 55854.01245438637LL = 173974.39730942014\n",
        "Current Parameter i = 2 Value, 208391.9982233295LL173974.39730942014\n",
        "Proposed Parameter i = 2 Value = 55854.01245438637LL = 173974.39730942014\n",
        "Current Parameter i = "
       ]
      },
      {
       "output_type": "stream",
       "stream": "stdout",
       "text": [
        "2 Value, 208391.9982233295LL173974.39730942014\n",
        "Proposed Parameter i = 2 Value = 55854.01245438637LL = 173974.39730942014\n",
        "Current Parameter i = 2 Value, 208391.9982233295LL173974.39730942014\n",
        "Proposed Parameter i = 2 Value = 55854.01245438637LL = 173974.39730942014\n",
        "Current Parameter i = 2 Value, 208391.9982233295LL173974.39730942014\n",
        "Proposed Parameter i = 2 Value = 55854.01245438637LL = 173974.39730942014\n",
        "Current Parameter i = 2 Value, 208391.9982233295LL173974.39730942014\n",
        "Proposed Parameter i = 2 Value = 55854.01245438637LL = 173974.39730942014\n",
        "Current Parameter i = "
       ]
      },
      {
       "output_type": "stream",
       "stream": "stdout",
       "text": [
        "2 Value, 208391.9982233295LL173974.39730942014\n",
        "Proposed Parameter i = 2 Value = 55854.01245438637LL = 173974.39730942014\n",
        "Current Parameter i = 2 Value, 56557.39645645142LL173974.39730942014\n",
        "Proposed Parameter i = 2 Value = 55854.01245438637LL = 173974.39730942014\n",
        "Current Parameter i = 2 Value, 56557.39645645142LL173974.39730942014\n",
        "Proposed Parameter i = 2 Value = 55854.01245438637LL = 173974.39730942014\n",
        "Current Parameter i = 2 Value, 56557.39645645142LL173974.39730942014\n",
        "Proposed Parameter i = 2 Value = 55854.01245438637LL = 173974.39730942014\n",
        "Current Parameter i = "
       ]
      },
      {
       "output_type": "stream",
       "stream": "stdout",
       "text": [
        "2 Value, 56557.39645645142LL173974.39730942014\n",
        "Proposed Parameter i = 2 Value = 55854.01245438637LL = 173974.39730942014\n",
        "Current Parameter i = 2 Value, 56557.39645645142LL173974.39730942014\n",
        "Proposed Parameter i = 2 Value = 55854.01245438637LL = 173974.39730942014\n",
        "Current Parameter i = 2 Value, 56557.39645645142LL173974.39730942014\n",
        "Proposed Parameter i = 2 Value = 55854.01245438637LL = 173974.39730942014\n",
        "Current Parameter i = "
       ]
      },
      {
       "output_type": "stream",
       "stream": "stdout",
       "text": [
        "2 Value, 56557.39645645142LL173974.39730942014\n",
        "Proposed Parameter i = 2 Value = 55854.01245438637LL = 173974.39730942014\n",
        "Current Parameter i = 2 Value, 56557.39645645142LL173974.39730942014\n",
        "Proposed Parameter i = 2 Value = 55854.01245438637LL = 173974.39730942014\n",
        "Current Parameter i = 2 Value, 56557.39645645142LL173974.39730942014\n",
        "Proposed Parameter i = 2 Value = 55854.01245438637LL = 173974.39730942014\n",
        "Current Parameter i = "
       ]
      },
      {
       "output_type": "stream",
       "stream": "stdout",
       "text": [
        "2 Value, 56557.39645645142LL173974.39730942014\n",
        "Proposed Parameter i = 2 Value = 55854.01245438637LL = 173974.39730942014\n",
        "Current Parameter i = 2 Value, 17915.787781714007LL173974.39730942014\n",
        "Proposed Parameter i = 2 Value = 55854.01245438637LL = 173974.39730942014\n",
        "Current Parameter i = 2 Value, 17915.787781714007LL173974.39730942014\n",
        "Proposed Parameter i = 2 Value = 55854.01245438637LL = 173974.39730942014\n",
        "Current Parameter i = "
       ]
      },
      {
       "output_type": "stream",
       "stream": "stdout",
       "text": [
        "2 Value, 17915.787781714007LL173974.39730942014\n",
        "Proposed Parameter i = 2 Value = 55854.01245438637LL = 173974.39730942014\n",
        "Current Parameter i = 2 Value, 17915.787781714007LL173974.39730942014\n",
        "Proposed Parameter i = 2 Value = 55854.01245438637LL = 173974.39730942014\n",
        "Current Parameter i = 2 Value, 17915.787781714007LL173974.39730942014\n",
        "Proposed Parameter i = 2 Value = 55854.01245438637LL = 173974.39730942014\n",
        "Current Parameter i = "
       ]
      },
      {
       "output_type": "stream",
       "stream": "stdout",
       "text": [
        "2 Value, 17915.787781714007LL173974.39730942014\n",
        "Proposed Parameter i = 2 Value = 55854.01245438637LL = 173974.39730942014\n",
        "Current Parameter i = 2 Value, 17915.787781714007LL173974.39730942014\n",
        "Proposed Parameter i = 2 Value = 55854.01245438637LL = 173974.39730942014\n",
        "Current Parameter i = 2 Value, 17915.787781714007LL173974.39730942014\n",
        "Proposed Parameter i = 2 Value = 55854.01245438637LL = 173974.39730942014\n",
        "Current Parameter i = "
       ]
      },
      {
       "output_type": "stream",
       "stream": "stdout",
       "text": [
        "2 Value, 17915.787781714007LL173974.39730942014\n",
        "Proposed Parameter i = 2 Value = 55854.01245438637LL = 173974.39730942014\n",
        "Current Parameter i = 2 Value, 17915.787781714007LL173974.39730942014\n",
        "Proposed Parameter i = 2 Value = 55854.01245438637LL = 173974.39730942014\n",
        "Current Parameter i = 2 Value, 26458.08021404349LL173974.39730942014\n",
        "Proposed Parameter i = 2 Value = 55854.01245438637LL = 173974.39730942014\n",
        "Current Parameter i = "
       ]
      },
      {
       "output_type": "stream",
       "stream": "stdout",
       "text": [
        "2 Value, 26458.08021404349LL173974.39730942014\n",
        "Proposed Parameter i = 2 Value = 55854.01245438637LL = 173974.39730942014\n",
        "Current Parameter i = 2 Value, 26458.08021404349LL173974.39730942014\n",
        "Proposed Parameter i = 2 Value = 55854.01245438637LL = 173974.39730942014\n",
        "Current Parameter i = 2 Value, 26458.08021404349LL173974.39730942014\n",
        "Proposed Parameter i = 2 Value = 55854.01245438637LL = 173974.39730942014\n",
        "Current Parameter i = "
       ]
      },
      {
       "output_type": "stream",
       "stream": "stdout",
       "text": [
        "2 Value, 26458.08021404349LL173974.39730942014\n",
        "Proposed Parameter i = 2 Value = 55854.01245438637LL = 173974.39730942014\n",
        "Current Parameter i = 2 Value, 26458.08021404349LL173974.39730942014\n",
        "Proposed Parameter i = 2 Value = 55854.01245438637LL = 173974.39730942014\n",
        "Current Parameter i = 2 Value, 26458.08021404349LL173974.39730942014\n",
        "Proposed Parameter i = 2 Value = 55854.01245438637LL = 173974.39730942014\n",
        "Current Parameter i = "
       ]
      },
      {
       "output_type": "stream",
       "stream": "stdout",
       "text": [
        "2 Value, 26458.08021404349LL173974.39730942014\n",
        "Proposed Parameter i = 2 Value = 55854.01245438637LL = 173974.39730942014\n",
        "Current Parameter i = 2 Value, 26458.08021404349LL173974.39730942014\n",
        "Proposed Parameter i = 2 Value = 55854.01245438637LL = 173974.39730942014\n",
        "Current Parameter i = 2 Value, 26458.08021404349LL173974.39730942014\n",
        "Proposed Parameter i = 2 Value = 55854.01245438637LL = 173974.39730942014\n",
        "Current Parameter i = 2 Value, 56087.5340761102LL173974.39730942014\n",
        "Proposed Parameter i = 2 Value = 55854.01245438637LL = 173974.39730942014\n",
        "Current Parameter i = "
       ]
      },
      {
       "output_type": "stream",
       "stream": "stdout",
       "text": [
        "2 Value, 56087.5340761102LL173974.39730942014\n",
        "Proposed Parameter i = 2 Value = 55854.01245438637LL = 173974.39730942014\n",
        "Current Parameter i = 2 Value, 56087.5340761102LL173974.39730942014\n",
        "Proposed Parameter i = 2 Value = 55854.01245438637LL = 173974.39730942014\n",
        "Current Parameter i = 2 Value, 56087.5340761102LL173974.39730942014\n",
        "Proposed Parameter i = 2 Value = 55854.01245438637LL = 173974.39730942014\n",
        "Current Parameter i = 2 Value, 56087.5340761102LL173974.39730942014\n",
        "Proposed Parameter i = 2 Value = 55854.01245438637LL = 173974.39730942014\n",
        "Current Parameter i = "
       ]
      },
      {
       "output_type": "stream",
       "stream": "stdout",
       "text": [
        "2 Value, 56087.5340761102LL173974.39730942014\n",
        "Proposed Parameter i = 2 Value = 55854.01245438637LL = 173974.39730942014\n",
        "Current Parameter i = 2 Value, 56087.5340761102LL173974.39730942014\n",
        "Proposed Parameter i = 2 Value = 55854.01245438637LL = 173974.39730942014\n",
        "Current Parameter i = 2 Value, 56087.5340761102LL173974.39730942014\n",
        "Proposed Parameter i = 2 Value = 55854.01245438637LL = 173974.39730942014\n",
        "Current Parameter i = 2 Value, 56087.5340761102LL173974.39730942014\n",
        "Proposed Parameter i = 2 Value = 55854.01245438637LL = 173974.39730942014\n",
        "Current Parameter i = "
       ]
      },
      {
       "output_type": "stream",
       "stream": "stdout",
       "text": [
        "2 Value, 56087.5340761102LL173974.39730942014\n",
        "Proposed Parameter i = 2 Value = 55854.01245438637LL = 173974.39730942014\n",
        "Current Parameter i = 2 Value, 30189.3180378623LL173974.39730942014\n",
        "Proposed Parameter i = 2 Value = 55854.01245438637LL = 173974.39730942014\n",
        "Current Parameter i = 2 Value, 30189.3180378623LL173974.39730942014\n",
        "Proposed Parameter i = 2 Value = 55854.01245438637LL = 173974.39730942014\n",
        "Current Parameter i = 2 Value, 30189.3180378623LL173974.39730942014\n",
        "Proposed Parameter i = 2 Value = 55854.01245438637LL = 173974.39730942014\n",
        "Current Parameter i = "
       ]
      },
      {
       "output_type": "stream",
       "stream": "stdout",
       "text": [
        "2 Value, 30189.3180378623LL173974.39730942014\n",
        "Proposed Parameter i = 2 Value = 55854.01245438637LL = 173974.39730942014\n",
        "Current Parameter i = 2 Value, 30189.3180378623LL173974.39730942014\n",
        "Proposed Parameter i = 2 Value = 55854.01245438637LL = 173974.39730942014\n",
        "Current Parameter i = 2 Value, 30189.3180378623LL173974.39730942014\n",
        "Proposed Parameter i = 2 Value = 55854.01245438637LL = 173974.39730942014\n",
        "Current Parameter i = 2 Value, 30189.3180378623LL173974.39730942014\n",
        "Proposed Parameter i = 2 Value = 55854.01245438637LL = 173974.39730942014\n",
        "Current Parameter i = "
       ]
      },
      {
       "output_type": "stream",
       "stream": "stdout",
       "text": [
        "2 Value, 30189.3180378623LL173974.39730942014\n",
        "Proposed Parameter i = 2 Value = 55854.01245438637LL = 173974.39730942014\n",
        "Current Parameter i = 2 Value, 30189.3180378623LL173974.39730942014\n",
        "Proposed Parameter i = 2 Value = 55854.01245438637LL = 173974.39730942014\n",
        "Current Parameter i = 2 Value, 30189.3180378623LL173974.39730942014\n",
        "Proposed Parameter i = 2 Value = 55854.01245438637LL = 173974.39730942014\n",
        "Current Parameter i = 2 Value, 127924.11532172529LL173974.39730942014\n",
        "Proposed Parameter i = 2 Value = 55854.01245438637LL = 173974.39730942014\n",
        "Current Parameter i = "
       ]
      },
      {
       "output_type": "stream",
       "stream": "stdout",
       "text": [
        "2 Value, 127924.11532172529LL173974.39730942014\n",
        "Proposed Parameter i = 2 Value = 55854.01245438637LL = 173974.39730942014\n",
        "Current Parameter i = 2 Value, 127924.11532172529LL173974.39730942014\n",
        "Proposed Parameter i = 2 Value = 55854.01245438637LL = 173974.39730942014\n",
        "Current Parameter i = 2 Value, 127924.11532172529LL173974.39730942014\n",
        "Proposed Parameter i = 2 Value = 55854.01245438637LL = 173974.39730942014\n",
        "Current Parameter i = 2 Value, 127924.11532172529LL173974.39730942014\n",
        "Proposed Parameter i = 2 Value = 55854.01245438637LL = 173974.39730942014\n",
        "Current Parameter i = "
       ]
      },
      {
       "output_type": "stream",
       "stream": "stdout",
       "text": [
        "2 Value, 127924.11532172529LL173974.39730942014\n",
        "Proposed Parameter i = 2 Value = 55854.01245438637LL = 173974.39730942014\n",
        "Current Parameter i = 2 Value, 127924.11532172529LL173974.39730942014\n",
        "Proposed Parameter i = 2 Value = 55854.01245438637LL = 173974.39730942014\n",
        "Current Parameter i = 2 Value, 127924.11532172529LL173974.39730942014\n",
        "Proposed Parameter i = 2 Value = 55854.01245438637LL = 173974.39730942014\n",
        "Current Parameter i = 2 Value, 127924.11532172529LL173974.39730942014\n",
        "Proposed Parameter i = 2 Value = 55854.01245438637LL = 173974.39730942014\n",
        "Current Parameter i = "
       ]
      },
      {
       "output_type": "stream",
       "stream": "stdout",
       "text": [
        "2 Value, 127924.11532172529LL173974.39730942014\n",
        "Proposed Parameter i = 2 Value = 55854.01245438637LL = 173974.39730942014\n",
        "Current Parameter i = 2 Value, 33793.52997084633LL173974.39730942014\n",
        "Proposed Parameter i = 2 Value = 55854.01245438637LL = 173974.39730942014\n",
        "Current Parameter i = 2 Value, 33793.52997084633LL173974.39730942014\n",
        "Proposed Parameter i = 2 Value = 55854.01245438637LL = 173974.39730942014\n",
        "Current Parameter i = 2 Value, 33793.52997084633LL173974.39730942014\n",
        "Proposed Parameter i = 2 Value = 55854.01245438637LL = 173974.39730942014\n",
        "Current Parameter i = "
       ]
      },
      {
       "output_type": "stream",
       "stream": "stdout",
       "text": [
        "2 Value, 33793.52997084633LL173974.39730942014\n",
        "Proposed Parameter i = 2 Value = 55854.01245438637LL = 173974.39730942014\n",
        "Current Parameter i = 2 Value, 33793.52997084633LL173974.39730942014\n",
        "Proposed Parameter i = 2 Value = 55854.01245438637LL = 173974.39730942014\n",
        "Current Parameter i = 2 Value, 33793.52997084633LL173974.39730942014\n",
        "Proposed Parameter i = 2 Value = 55854.01245438637LL = 173974.39730942014\n",
        "Current Parameter i = "
       ]
      },
      {
       "output_type": "stream",
       "stream": "stdout",
       "text": [
        "2 Value, 33793.52997084633LL173974.39730942014\n",
        "Proposed Parameter i = 2 Value = 55854.01245438637LL = 173974.39730942014\n",
        "Current Parameter i = 2 Value, 33793.52997084633LL173974.39730942014\n",
        "Proposed Parameter i = 2 Value = 55854.01245438637LL = 173974.39730942014\n",
        "Current Parameter i = 2 Value, 33793.52997084633LL173974.39730942014\n",
        "Proposed Parameter i = 2 Value = 55854.01245438637LL = 173974.39730942014\n",
        "Current Parameter i = 2 Value, 33793.52997084633LL173974.39730942014\n",
        "Proposed Parameter i = 2 Value = 55854.01245438637LL = 173974.39730942014\n",
        "Current Parameter i = "
       ]
      },
      {
       "output_type": "stream",
       "stream": "stdout",
       "text": [
        "2 Value, 219167.01624587842LL173974.39730942014\n",
        "Proposed Parameter i = 2 Value = 55854.01245438637LL = 173974.39730942014\n",
        "Current Parameter i = 2 Value, 219167.01624587842LL173974.39730942014\n",
        "Proposed Parameter i = 2 Value = 55854.01245438637LL = 173974.39730942014\n",
        "Current Parameter i = 2 Value, 219167.01624587842LL173974.39730942014\n",
        "Proposed Parameter i = 2 Value = 55854.01245438637LL = 173974.39730942014\n",
        "Current Parameter i = 2 Value, 219167.01624587842LL173974.39730942014\n",
        "Proposed Parameter i = 2 Value = 55854.01245438637LL = 173974.39730942014\n",
        "Current Parameter i = "
       ]
      },
      {
       "output_type": "stream",
       "stream": "stdout",
       "text": [
        "2 Value, 219167.01624587842LL173974.39730942014\n",
        "Proposed Parameter i = 2 Value = 55854.01245438637LL = 173974.39730942014\n",
        "Current Parameter i = 2 Value, 219167.01624587842LL173974.39730942014\n",
        "Proposed Parameter i = 2 Value = 55854.01245438637LL = 173974.39730942014\n",
        "Current Parameter i = 2 Value, 219167.01624587842LL173974.39730942014\n",
        "Proposed Parameter i = 2 Value = 55854.01245438637LL = 173974.39730942014\n",
        "Current Parameter i = 2 Value, 219167.01624587842LL173974.39730942014\n",
        "Proposed Parameter i = 2 Value = 55854.01245438637LL = 173974.39730942014\n",
        "Current Parameter i = "
       ]
      },
      {
       "output_type": "stream",
       "stream": "stdout",
       "text": [
        "2 Value, 219167.01624587842LL173974.39730942014\n",
        "Proposed Parameter i = 2 Value = 55854.01245438637LL = 173974.39730942014\n",
        "Current Parameter i = 2 Value, 219167.01624587842LL173974.39730942014\n",
        "Proposed Parameter i = 2 Value = 55854.01245438637LL = 173974.39730942014\n",
        "Current Parameter i = 2 Value, 47744.25259372894LL173974.39730942014\n",
        "Proposed Parameter i = 2 Value = 55854.01245438637LL = 173974.39730942014\n",
        "Current Parameter i = 2 Value, 47744.25259372894LL173974.39730942014\n",
        "Proposed Parameter i = 2 Value = 55854.01245438637LL = 173974.39730942014\n",
        "Current Parameter i = 2 Value, 47744.25259372894LL173974.39730942014\n",
        "Proposed Parameter i = 2 Value = 55854.01245438637LL = 173974.39730942014\n",
        "Current Parameter i = 2 Value, 47744.25259372894LL173974.39730942014\n",
        "Proposed Parameter i = 2 Value = 55854.01245438637LL = 173974.39730942014\n",
        "Current Parameter i = 2 Value, 47744.25259372894LL173974.39730942014\n",
        "Proposed Parameter i = 2 Value = 55854.01245438637LL = 173974.39730942014\n",
        "Current Parameter i = 2 Value, 47744.25259372894LL173974.39730942014\n",
        "Proposed Parameter i = 2 Value = 55854.01245438637LL = 173974.39730942014\n",
        "Current Parameter i = 2 Value, 47744.25259372894LL173974.39730942014\n",
        "Proposed Parameter i = 2 Value = 55854.01245438637LL = 173974.39730942014\n",
        "Current Parameter i = 2 Value, 47744.25259372894LL173974.39730942014\n",
        "Proposed Parameter i = 2 Value = 55854.01245438637LL = 173974.39730942014\n",
        "Current Parameter i = 2 Value, 47744.25259372894LL173974.39730942014\n",
        "Proposed Parameter i = 2 Value = 55854.01245438637LL = 173974.39730942014\n",
        "Current Parameter i = 2 Value, 47744.25259372894LL173974.39730942014\n",
        "Proposed Parameter i = 2 Value = 55854.01245438637LL = 173974.39730942014\n",
        "Current Parameter i = 2 Value, 29286.46159223516LL173974.39730942014\n",
        "Proposed Parameter i = 2 Value = 55854.01245438637LL = 173974.39730942014\n",
        "Current Parameter i = "
       ]
      },
      {
       "output_type": "stream",
       "stream": "stdout",
       "text": [
        "2 Value, 29286.46159223516LL173974.39730942014\n",
        "Proposed Parameter i = 2 Value = 55854.01245438637LL = 173974.39730942014\n",
        "Current Parameter i = 2 Value, 29286.46159223516LL173974.39730942014\n",
        "Proposed Parameter i = 2 Value = 55854.01245438637LL = 173974.39730942014\n",
        "Current Parameter i = 2 Value, 29286.46159223516LL173974.39730942014\n",
        "Proposed Parameter i = 2 Value = 55854.01245438637LL = 173974.39730942014\n",
        "Current Parameter i = "
       ]
      },
      {
       "output_type": "stream",
       "stream": "stdout",
       "text": [
        "2 Value, 29286.46159223516LL173974.39730942014\n",
        "Proposed Parameter i = 2 Value = 55854.01245438637LL = 173974.39730942014\n",
        "Current Parameter i = 2 Value, 29286.46159223516LL173974.39730942014\n",
        "Proposed Parameter i = 2 Value = 55854.01245438637LL = 173974.39730942014\n",
        "Current Parameter i = 2 Value, 29286.46159223516LL173974.39730942014\n",
        "Proposed Parameter i = 2 Value = 55854.01245438637LL = 173974.39730942014\n",
        "Current Parameter i = "
       ]
      },
      {
       "output_type": "stream",
       "stream": "stdout",
       "text": [
        "2 Value, 29286.46159223516LL173974.39730942014\n",
        "Proposed Parameter i = 2 Value = 55854.01245438637LL = 173974.39730942014\n",
        "Current Parameter i = 2 Value, 29286.46159223516LL173974.39730942014\n",
        "Proposed Parameter i = 2 Value = 55854.01245438637LL = 173974.39730942014\n",
        "Current Parameter i = 2 Value, 29286.46159223516LL173974.39730942014\n",
        "Proposed Parameter i = 2 Value = 55854.01245438637LL = 173974.39730942014\n",
        "Current Parameter i = 2 Value, 17501.828818545397LL173974.39730942014\n",
        "Proposed Parameter i = 2 Value = 55854.01245438637LL = 173974.39730942014\n",
        "Current Parameter i = "
       ]
      },
      {
       "output_type": "stream",
       "stream": "stdout",
       "text": [
        "2 Value, 17501.828818545397LL173974.39730942014\n",
        "Proposed Parameter i = 2 Value = 55854.01245438637LL = 173974.39730942014\n",
        "Current Parameter i = 2 Value, 17501.828818545397LL173974.39730942014\n",
        "Proposed Parameter i = 2 Value = 55854.01245438637LL = 173974.39730942014\n",
        "Current Parameter i = 2 Value, 17501.828818545397LL173974.39730942014\n",
        "Proposed Parameter i = 2 Value = 55854.01245438637LL = 173974.39730942014\n",
        "Current Parameter i = 2 Value, 17501.828818545397LL173974.39730942014\n",
        "Proposed Parameter i = 2 Value = 55854.01245438637LL = 173974.39730942014\n",
        "Current Parameter i = "
       ]
      },
      {
       "output_type": "stream",
       "stream": "stdout",
       "text": [
        "2 Value, 17501.828818545397LL173974.39730942014\n",
        "Proposed Parameter i = 2 Value = 55854.01245438637LL = 173974.39730942014\n",
        "Current Parameter i = 2 Value, 17501.828818545397LL173974.39730942014\n",
        "Proposed Parameter i = 2 Value = 55854.01245438637LL = 173974.39730942014\n",
        "Current Parameter i = 2 Value, 17501.828818545397LL173974.39730942014\n",
        "Proposed Parameter i = 2 Value = 55854.01245438637LL = 173974.39730942014\n",
        "Current Parameter i = 2 Value, 17501.828818545397LL173974.39730942014\n",
        "Proposed Parameter i = 2 Value = 55854.01245438637LL = 173974.39730942014\n",
        "Current Parameter i = "
       ]
      },
      {
       "output_type": "stream",
       "stream": "stdout",
       "text": [
        "2 Value, 17501.828818545397LL173974.39730942014\n",
        "Proposed Parameter i = 2 Value = 55854.01245438637LL = 173974.39730942014\n",
        "Current Parameter i = 2 Value, 41123.29886682291LL173974.39730942014\n",
        "Proposed Parameter i = 2 Value = 55854.01245438637LL = 173974.39730942014\n",
        "Current Parameter i = 2 Value, 41123.29886682291LL173974.39730942014\n",
        "Proposed Parameter i = 2 Value = 55854.01245438637LL = 173974.39730942014\n",
        "Current Parameter i = 2 Value, 41123.29886682291LL173974.39730942014\n",
        "Proposed Parameter i = 2 Value = 55854.01245438637LL = 173974.39730942014\n",
        "Current Parameter i = "
       ]
      },
      {
       "output_type": "stream",
       "stream": "stdout",
       "text": [
        "2 Value, 41123.29886682291LL173974.39730942014\n",
        "Proposed Parameter i = 2 Value = 55854.01245438637LL = 173974.39730942014\n",
        "Current Parameter i = 2 Value, 41123.29886682291LL173974.39730942014\n",
        "Proposed Parameter i = 2 Value = 55854.01245438637LL = 173974.39730942014\n",
        "Current Parameter i = 2 Value, 41123.29886682291LL173974.39730942014\n",
        "Proposed Parameter i = 2 Value = 55854.01245438637LL = 173974.39730942014\n",
        "Current Parameter i = 2 Value, 41123.29886682291LL173974.39730942014\n",
        "Proposed Parameter i = 2 Value = 55854.01245438637LL = 173974.39730942014\n",
        "Current Parameter i = "
       ]
      },
      {
       "output_type": "stream",
       "stream": "stdout",
       "text": [
        "2 Value, 41123.29886682291LL173974.39730942014\n",
        "Proposed Parameter i = 2 Value = 55854.01245438637LL = 173974.39730942014\n",
        "Current Parameter i = 2 Value, 41123.29886682291LL173974.39730942014\n",
        "Proposed Parameter i = 2 Value = 55854.01245438637LL = 173974.39730942014\n",
        "Current Parameter i = 2 Value, 41123.29886682291LL173974.39730942014\n",
        "Proposed Parameter i = 2 Value = 55854.01245438637LL = 173974.39730942014\n",
        "Current Parameter i = 2 Value, 56643.24816341764LL173974.39730942014\n",
        "Proposed Parameter i = 2 Value = 55854.01245438637LL = 173974.39730942014\n",
        "Current Parameter i = "
       ]
      },
      {
       "output_type": "stream",
       "stream": "stdout",
       "text": [
        "2 Value, 56643.24816341764LL173974.39730942014\n",
        "Proposed Parameter i = 2 Value = 55854.01245438637LL = 173974.39730942014\n",
        "Current Parameter i = 2 Value, 56643.24816341764LL173974.39730942014\n",
        "Proposed Parameter i = 2 Value = 55854.01245438637LL = 173974.39730942014\n",
        "Current Parameter i = 2 Value, 56643.24816341764LL173974.39730942014\n",
        "Proposed Parameter i = 2 Value = 55854.01245438637LL = 173974.39730942014\n",
        "Current Parameter i = 2 Value, 56643.24816341764LL173974.39730942014\n",
        "Proposed Parameter i = 2 Value = 55854.01245438637LL = 173974.39730942014\n",
        "Current Parameter i = "
       ]
      },
      {
       "output_type": "stream",
       "stream": "stdout",
       "text": [
        "2 Value, 56643.24816341764LL173974.39730942014\n",
        "Proposed Parameter i = 2 Value = 55854.01245438637LL = 173974.39730942014\n",
        "Current Parameter i = 2 Value, 56643.24816341764LL173974.39730942014\n",
        "Proposed Parameter i = 2 Value = 55854.01245438637LL = 173974.39730942014\n",
        "Current Parameter i = 2 Value, 56643.24816341764LL173974.39730942014\n",
        "Proposed Parameter i = 2 Value = 55854.01245438637LL = 173974.39730942014\n",
        "Current Parameter i = 2 Value, 56643.24816341764LL173974.39730942014\n",
        "Proposed Parameter i = 2 Value = 55854.01245438637LL = 173974.39730942014\n",
        "Current Parameter i = "
       ]
      },
      {
       "output_type": "stream",
       "stream": "stdout",
       "text": [
        "2 Value, 56643.24816341764LL173974.39730942014\n",
        "Proposed Parameter i = 2 Value = 55854.01245438637LL = 173974.39730942014\n",
        "Current Parameter i = 2 Value, 36995.12521723388LL173974.39730942014\n",
        "Proposed Parameter i = 2 Value = 55854.01245438637LL = 173974.39730942014\n",
        "Current Parameter i = 2 Value, 36995.12521723388LL173974.39730942014\n",
        "Proposed Parameter i = 2 Value = 55854.01245438637LL = 173974.39730942014\n",
        "Current Parameter i = 2 Value, 36995.12521723388LL173974.39730942014\n",
        "Proposed Parameter i = 2 Value = 55854.01245438637LL = 173974.39730942014\n",
        "Current Parameter i = "
       ]
      },
      {
       "output_type": "stream",
       "stream": "stdout",
       "text": [
        "2 Value, 36995.12521723388LL173974.39730942014\n",
        "Proposed Parameter i = 2 Value = 55854.01245438637LL = 173974.39730942014\n",
        "Current Parameter i = 2 Value, 36995.12521723388LL173974.39730942014\n",
        "Proposed Parameter i = 2 Value = 55854.01245438637LL = 173974.39730942014\n",
        "Current Parameter i = 2 Value, 36995.12521723388LL173974.39730942014\n",
        "Proposed Parameter i = 2 Value = 55854.01245438637LL = 173974.39730942014\n",
        "Current Parameter i = "
       ]
      },
      {
       "output_type": "stream",
       "stream": "stdout",
       "text": [
        "2 Value, 36995.12521723388LL173974.39730942014\n",
        "Proposed Parameter i = 2 Value = 55854.01245438637LL = 173974.39730942014\n",
        "Current Parameter i = 2 Value, 36995.12521723388LL173974.39730942014\n",
        "Proposed Parameter i = 2 Value = 55854.01245438637LL = 173974.39730942014\n",
        "Current Parameter i = 2 Value, 36995.12521723388LL173974.39730942014\n",
        "Proposed Parameter i = 2 Value = 55854.01245438637LL = 173974.39730942014\n",
        "Current Parameter i = "
       ]
      },
      {
       "output_type": "stream",
       "stream": "stdout",
       "text": [
        "2 Value, 36995.12521723388LL173974.39730942014\n",
        "Proposed Parameter i = 2 Value = 55854.01245438637LL = 173974.39730942014\n",
        "Current Parameter i = 2 Value, 42352.758871630765LL173974.39730942014\n",
        "Proposed Parameter i = 2 Value = 55854.01245438637LL = 173974.39730942014\n",
        "Current Parameter i = 2 Value, 42352.758871630765LL173974.39730942014\n",
        "Proposed Parameter i = 2 Value = 55854.01245438637LL = 173974.39730942014\n",
        "Current Parameter i = 2 Value, 42352.758871630765LL173974.39730942014\n",
        "Proposed Parameter i = 2 Value = 55854.01245438637LL = 173974.39730942014\n",
        "Current Parameter i = "
       ]
      },
      {
       "output_type": "stream",
       "stream": "stdout",
       "text": [
        "2 Value, 42352.758871630765LL173974.39730942014\n",
        "Proposed Parameter i = 2 Value = 55854.01245438637LL = 173974.39730942014\n",
        "Current Parameter i = 2 Value, 42352.758871630765LL173974.39730942014\n",
        "Proposed Parameter i = 2 Value = 55854.01245438637LL = 173974.39730942014\n",
        "Current Parameter i = 2 Value, 42352.758871630765LL173974.39730942014\n",
        "Proposed Parameter i = 2 Value = 55854.01245438637LL = 173974.39730942014\n",
        "Current Parameter i = 2 Value, 42352.758871630765LL173974.39730942014\n",
        "Proposed Parameter i = 2 Value = 55854.01245438637LL = 173974.39730942014\n",
        "Current Parameter i = "
       ]
      },
      {
       "output_type": "stream",
       "stream": "stdout",
       "text": [
        "2 Value, 42352.758871630765LL173974.39730942014\n",
        "Proposed Parameter i = 2 Value = 55854.01245438637LL = 173974.39730942014\n",
        "Current Parameter i = 2 Value, 42352.758871630765LL173974.39730942014\n",
        "Proposed Parameter i = 2 Value = 55854.01245438637LL = 173974.39730942014\n",
        "Current Parameter i = 2 Value, 42352.758871630765LL173974.39730942014\n",
        "Proposed Parameter i = 2 Value = 55854.01245438637LL = 173974.39730942014\n",
        "Current Parameter i = 2 Value, 229489.67710102245LL173974.39730942014\n",
        "Proposed Parameter i = 2 Value = 55854.01245438637LL = 173974.39730942014\n",
        "Current Parameter i = "
       ]
      },
      {
       "output_type": "stream",
       "stream": "stdout",
       "text": [
        "2 Value, 229489.67710102245LL173974.39730942014\n",
        "Proposed Parameter i = 2 Value = 55854.01245438637LL = 173974.39730942014\n",
        "Current Parameter i = 2 Value, 229489.67710102245LL173974.39730942014\n",
        "Proposed Parameter i = 2 Value = 55854.01245438637LL = 173974.39730942014\n",
        "Current Parameter i = 2 Value, 229489.67710102245LL173974.39730942014\n",
        "Proposed Parameter i = 2 Value = 55854.01245438637LL = 173974.39730942014\n",
        "Current Parameter i = 2 Value, 229489.67710102245LL173974.39730942014\n",
        "Proposed Parameter i = 2 Value = 55854.01245438637LL = 173974.39730942014\n",
        "Current Parameter i = "
       ]
      },
      {
       "output_type": "stream",
       "stream": "stdout",
       "text": [
        "2 Value, 229489.67710102245LL173974.39730942014\n",
        "Proposed Parameter i = 2 Value = 55854.01245438637LL = 173974.39730942014\n",
        "Current Parameter i = 2 Value, 229489.67710102245LL173974.39730942014\n",
        "Proposed Parameter i = 2 Value = 55854.01245438637LL = 173974.39730942014\n",
        "Current Parameter i = 2 Value, 229489.67710102245LL173974.39730942014\n",
        "Proposed Parameter i = 2 Value = 55854.01245438637LL = 173974.39730942014\n",
        "Current Parameter i = 2 Value, 229489.67710102245LL173974.39730942014\n",
        "Proposed Parameter i = 2 Value = 55854.01245438637LL = 173974.39730942014\n",
        "Current Parameter i = "
       ]
      },
      {
       "output_type": "stream",
       "stream": "stdout",
       "text": [
        "2 Value, 229489.67710102245LL173974.39730942014\n",
        "Proposed Parameter i = 2 Value = 55854.01245438637LL = 173974.39730942014\n",
        "Current Parameter i = 2 Value, 29982.10172793164LL173974.39730942014\n",
        "Proposed Parameter i = 2 Value = 55854.01245438637LL = 173974.39730942014\n",
        "Current Parameter i = 2 Value, 29982.10172793164LL173974.39730942014\n",
        "Proposed Parameter i = 2 Value = 55854.01245438637LL = 173974.39730942014\n",
        "Current Parameter i = 2 Value, 29982.10172793164LL173974.39730942014\n",
        "Proposed Parameter i = 2 Value = 55854.01245438637LL = 173974.39730942014\n",
        "Current Parameter i = "
       ]
      },
      {
       "output_type": "stream",
       "stream": "stdout",
       "text": [
        "2 Value, 29982.10172793164LL173974.39730942014\n",
        "Proposed Parameter i = 2 Value = 55854.01245438637LL = 173974.39730942014\n",
        "Current Parameter i = 2 Value, 29982.10172793164LL173974.39730942014\n",
        "Proposed Parameter i = 2 Value = 55854.01245438637LL = 173974.39730942014\n",
        "Current Parameter i = 2 Value, 29982.10172793164LL173974.39730942014\n",
        "Proposed Parameter i = 2 Value = 55854.01245438637LL = 173974.39730942014\n",
        "Current Parameter i = 2 Value, 29982.10172793164LL173974.39730942014\n",
        "Proposed Parameter i = 2 Value = 55854.01245438637LL = 173974.39730942014\n",
        "Current Parameter i = "
       ]
      },
      {
       "output_type": "stream",
       "stream": "stdout",
       "text": [
        "2 Value, 29982.10172793164LL173974.39730942014\n",
        "Proposed Parameter i = 2 Value = 55854.01245438637LL = 173974.39730942014\n",
        "Current Parameter i = 2 Value, 29982.10172793164LL173974.39730942014\n",
        "Proposed Parameter i = 2 Value = 55854.01245438637LL = 173974.39730942014\n",
        "Current Parameter i = 2 Value, 29982.10172793164LL173974.39730942014\n",
        "Proposed Parameter i = 2 Value = 55854.01245438637LL = 173974.39730942014\n",
        "Current Parameter i = 2 Value, 17233.01993676999LL173974.39730942014\n",
        "Proposed Parameter i = 2 Value = 55854.01245438637LL = 173974.39730942014\n",
        "Current Parameter i = "
       ]
      },
      {
       "output_type": "stream",
       "stream": "stdout",
       "text": [
        "2 Value, 17233.01993676999LL173974.39730942014\n",
        "Proposed Parameter i = 2 Value = 55854.01245438637LL = 173974.39730942014\n",
        "Current Parameter i = 2 Value, 17233.01993676999LL173974.39730942014\n",
        "Proposed Parameter i = 2 Value = 55854.01245438637LL = 173974.39730942014\n",
        "Current Parameter i = 2 Value, 17233.01993676999LL173974.39730942014\n",
        "Proposed Parameter i = 2 Value = 55854.01245438637LL = 173974.39730942014\n",
        "Current Parameter i = 2 Value, 17233.01993676999LL173974.39730942014\n",
        "Proposed Parameter i = 2 Value = 55854.01245438637LL = 173974.39730942014\n",
        "Current Parameter i = "
       ]
      },
      {
       "output_type": "stream",
       "stream": "stdout",
       "text": [
        "2 Value, 17233.01993676999LL173974.39730942014\n",
        "Proposed Parameter i = 2 Value = 55854.01245438637LL = 173974.39730942014\n",
        "Current Parameter i = 2 Value, 17233.01993676999LL173974.39730942014\n",
        "Proposed Parameter i = 2 Value = 55854.01245438637LL = 173974.39730942014\n",
        "Current Parameter i = 2 Value, 17233.01993676999LL173974.39730942014\n",
        "Proposed Parameter i = 2 Value = 55854.01245438637LL = 173974.39730942014\n",
        "Current Parameter i = 2 Value, 17233.01993676999LL173974.39730942014\n",
        "Proposed Parameter i = 2 Value = 55854.01245438637LL = 173974.39730942014\n",
        "Current Parameter i = "
       ]
      },
      {
       "output_type": "stream",
       "stream": "stdout",
       "text": [
        "2 Value, 17233.01993676999LL173974.39730942014\n",
        "Proposed Parameter i = 2 Value = 55854.01245438637LL = 173974.39730942014\n",
        "Current Parameter i = 2 Value, 56548.44834834253LL173974.39730942014\n",
        "Proposed Parameter i = 2 Value = 55854.01245438637LL = 173974.39730942014\n",
        "Current Parameter i = 2 Value, 56548.44834834253LL173974.39730942014\n",
        "Proposed Parameter i = 2 Value = 55854.01245438637LL = 173974.39730942014\n",
        "Current Parameter i = 2 Value, 56548.44834834253LL173974.39730942014\n",
        "Proposed Parameter i = 2 Value = 55854.01245438637LL = 173974.39730942014\n",
        "Current Parameter i = "
       ]
      },
      {
       "output_type": "stream",
       "stream": "stdout",
       "text": [
        "2 Value, 56548.44834834253LL173974.39730942014\n",
        "Proposed Parameter i = 2 Value = 55854.01245438637LL = 173974.39730942014\n",
        "Current Parameter i = 2 Value, 56548.44834834253LL173974.39730942014\n",
        "Proposed Parameter i = 2 Value = 55854.01245438637LL = 173974.39730942014\n",
        "Current Parameter i = 2 Value, 56548.44834834253LL173974.39730942014\n",
        "Proposed Parameter i = 2 Value = 55854.01245438637LL = 173974.39730942014\n",
        "Current Parameter i = 2 Value, 56548.44834834253LL173974.39730942014\n",
        "Proposed Parameter i = 2 Value = 55854.01245438637LL = 173974.39730942014\n",
        "Current Parameter i = "
       ]
      },
      {
       "output_type": "stream",
       "stream": "stdout",
       "text": [
        "2 Value, 56548.44834834253LL173974.39730942014\n",
        "Proposed Parameter i = 2 Value = 55854.01245438637LL = 173974.39730942014\n",
        "Current Parameter i = 2 Value, 56548.44834834253LL173974.39730942014\n",
        "Proposed Parameter i = 2 Value = 55854.01245438637LL = 173974.39730942014\n",
        "Current Parameter i = 2 Value, 56548.44834834253LL173974.39730942014\n",
        "Proposed Parameter i = 2 Value = 55854.01245438637LL = 173974.39730942014\n",
        "Current Parameter i = 2 Value, 673897.5097568538LL173974.39730942014\n",
        "Proposed Parameter i = 2 Value = 55854.01245438637LL = 173974.39730942014\n",
        "Current Parameter i = "
       ]
      },
      {
       "output_type": "stream",
       "stream": "stdout",
       "text": [
        "2 Value, 673897.5097568538LL173974.39730942014\n",
        "Proposed Parameter i = 2 Value = 55854.01245438637LL = 173974.39730942014\n",
        "Current Parameter i = 2 Value, 673897.5097568538LL173974.39730942014\n",
        "Proposed Parameter i = 2 Value = 55854.01245438637LL = 173974.39730942014\n",
        "Current Parameter i = 2 Value, 673897.5097568538LL173974.39730942014\n",
        "Proposed Parameter i = 2 Value = 55854.01245438637LL = 173974.39730942014\n",
        "Current Parameter i = 2 Value, 673897.5097568538LL173974.39730942014\n",
        "Proposed Parameter i = 2 Value = 55854.01245438637LL = 173974.39730942014\n",
        "Current Parameter i = "
       ]
      },
      {
       "output_type": "stream",
       "stream": "stdout",
       "text": [
        "2 Value, 673897.5097568538LL173974.39730942014\n",
        "Proposed Parameter i = 2 Value = 55854.01245438637LL = 173974.39730942014\n",
        "Current Parameter i = 2 Value, 673897.5097568538LL173974.39730942014\n",
        "Proposed Parameter i = 2 Value = 55854.01245438637LL = 173974.39730942014\n",
        "Current Parameter i = 2 Value, 673897.5097568538LL173974.39730942014\n",
        "Proposed Parameter i = 2 Value = 55854.01245438637LL = 173974.39730942014\n",
        "Current Parameter i = 2 Value, 673897.5097568538LL173974.39730942014\n",
        "Proposed Parameter i = 2 Value = 55854.01245438637LL = 173974.39730942014\n",
        "Current Parameter i = "
       ]
      },
      {
       "output_type": "stream",
       "stream": "stdout",
       "text": [
        "2 Value, 673897.5097568538LL173974.39730942014\n",
        "Proposed Parameter i = 2 Value = 55854.01245438637LL = 173974.39730942014\n",
        "Current Parameter i = 2 Value, 20229.4786983967LL173974.39730942014\n",
        "Proposed Parameter i = 2 Value = 55854.01245438637LL = 173974.39730942014\n",
        "Current Parameter i = 2 Value, 20229.4786983967LL173974.39730942014\n",
        "Proposed Parameter i = 2 Value = 55854.01245438637LL = 173974.39730942014\n",
        "Current Parameter i = 2 Value, 20229.4786983967LL173974.39730942014\n",
        "Proposed Parameter i = 2 Value = 55854.01245438637LL = 173974.39730942014\n",
        "Current Parameter i = "
       ]
      },
      {
       "output_type": "stream",
       "stream": "stdout",
       "text": [
        "2 Value, 20229.4786983967LL173974.39730942014\n",
        "Proposed Parameter i = 2 Value = 55854.01245438637LL = 173974.39730942014\n",
        "Current Parameter i = 2 Value, 20229.4786983967LL173974.39730942014\n",
        "Proposed Parameter i = 2 Value = 55854.01245438637LL = 173974.39730942014\n",
        "Current Parameter i = 2 Value, 20229.4786983967LL173974.39730942014\n",
        "Proposed Parameter i = 2 Value = 55854.01245438637LL = 173974.39730942014\n",
        "Current Parameter i = 2 Value, 20229.4786983967LL173974.39730942014\n",
        "Proposed Parameter i = 2 Value = 55854.01245438637LL = 173974.39730942014\n",
        "Current Parameter i = "
       ]
      },
      {
       "output_type": "stream",
       "stream": "stdout",
       "text": [
        "2 Value, 20229.4786983967LL173974.39730942014\n",
        "Proposed Parameter i = 2 Value = 55854.01245438637LL = 173974.39730942014\n",
        "Current Parameter i = 2 Value, 20229.4786983967LL173974.39730942014\n",
        "Proposed Parameter i = 2 Value = 55854.01245438637LL = 173974.39730942014\n",
        "Current Parameter i = 2 Value, 20229.4786983967LL173974.39730942014\n",
        "Proposed Parameter i = 2 Value = 55854.01245438637LL = 173974.39730942014\n",
        "Current Parameter i = 2 Value, 148832.85867345642LL173974.39730942014\n",
        "Proposed Parameter i = 2 Value = 55854.01245438637LL = 173974.39730942014\n",
        "Current Parameter i = "
       ]
      },
      {
       "output_type": "stream",
       "stream": "stdout",
       "text": [
        "2 Value, 148832.85867345642LL173974.39730942014\n",
        "Proposed Parameter i = 2 Value = 55854.01245438637LL = 173974.39730942014\n",
        "Current Parameter i = 2 Value, 148832.85867345642LL173974.39730942014\n",
        "Proposed Parameter i = 2 Value = 55854.01245438637LL = 173974.39730942014\n",
        "Current Parameter i = 2 Value, 148832.85867345642LL173974.39730942014\n",
        "Proposed Parameter i = 2 Value = 55854.01245438637LL = 173974.39730942014\n",
        "Current Parameter i = 2 Value, 148832.85867345642LL173974.39730942014\n",
        "Proposed Parameter i = 2 Value = 55854.01245438637LL = 173974.39730942014\n",
        "Current Parameter i = "
       ]
      },
      {
       "output_type": "stream",
       "stream": "stdout",
       "text": [
        "2 Value, 148832.85867345642LL173974.39730942014\n",
        "Proposed Parameter i = 2 Value = 55854.01245438637LL = 173974.39730942014\n",
        "Current Parameter i = 2 Value, 148832.85867345642LL173974.39730942014\n",
        "Proposed Parameter i = 2 Value = 55854.01245438637LL = 173974.39730942014\n",
        "Current Parameter i = 2 Value, 148832.85867345642LL173974.39730942014\n",
        "Proposed Parameter i = 2 Value = 55854.01245438637LL = 173974.39730942014\n",
        "Current Parameter i = 2 Value, 148832.85867345642LL173974.39730942014\n",
        "Proposed Parameter i = 2 Value = 55854.01245438637LL = 173974.39730942014\n",
        "Current Parameter i = "
       ]
      },
      {
       "output_type": "stream",
       "stream": "stdout",
       "text": [
        "2 Value, 148832.85867345642LL173974.39730942014\n",
        "Proposed Parameter i = 2 Value = 55854.01245438637LL = 173974.39730942014\n",
        "Current Parameter i = 2 Value, 63085.87031567028LL173974.39730942014\n",
        "Proposed Parameter i = 2 Value = 55854.01245438637LL = 173974.39730942014\n",
        "Current Parameter i = 2 Value, 63085.87031567028LL173974.39730942014\n",
        "Proposed Parameter i = 2 Value = 55854.01245438637LL = 173974.39730942014\n",
        "Current Parameter i = 2 Value, 63085.87031567028LL173974.39730942014\n",
        "Proposed Parameter i = 2 Value = 55854.01245438637LL = 173974.39730942014\n",
        "Current Parameter i = "
       ]
      },
      {
       "output_type": "stream",
       "stream": "stdout",
       "text": [
        "2 Value, 63085.87031567028LL173974.39730942014\n",
        "Proposed Parameter i = 2 Value = 55854.01245438637LL = 173974.39730942014\n",
        "Current Parameter i = 2 Value, 63085.87031567028LL173974.39730942014\n",
        "Proposed Parameter i = 2 Value = 55854.01245438637LL = 173974.39730942014\n",
        "Current Parameter i = 2 Value, 63085.87031567028LL173974.39730942014\n",
        "Proposed Parameter i = 2 Value = 55854.01245438637LL = 173974.39730942014\n",
        "Current Parameter i = 2 Value, 63085.87031567028LL173974.39730942014\n",
        "Proposed Parameter i = 2 Value = 55854.01245438637LL = 173974.39730942014\n",
        "Current Parameter i = "
       ]
      },
      {
       "output_type": "stream",
       "stream": "stdout",
       "text": [
        "2 Value, 63085.87031567028LL173974.39730942014\n",
        "Proposed Parameter i = 2 Value = 55854.01245438637LL = 173974.39730942014\n",
        "Current Parameter i = 2 Value, 63085.87031567028LL173974.39730942014\n",
        "Proposed Parameter i = 2 Value = 55854.01245438637LL = 173974.39730942014\n",
        "Current Parameter i = 2 Value, 63085.87031567028LL173974.39730942014\n",
        "Proposed Parameter i = 2 Value = 55854.01245438637LL = 173974.39730942014\n",
        "Current Parameter i = 2 Value, 118768.94351415556LL173974.39730942014\n",
        "Proposed Parameter i = 2 Value = 55854.01245438637LL = 173974.39730942014\n",
        "Current Parameter i = "
       ]
      },
      {
       "output_type": "stream",
       "stream": "stdout",
       "text": [
        "2 Value, 118768.94351415556LL173974.39730942014\n",
        "Proposed Parameter i = 2 Value = 55854.01245438637LL = 173974.39730942014\n",
        "Current Parameter i = 2 Value, 118768.94351415556LL173974.39730942014\n",
        "Proposed Parameter i = 2 Value = 55854.01245438637LL = 173974.39730942014\n",
        "Current Parameter i = 2 Value, 118768.94351415556LL173974.39730942014\n",
        "Proposed Parameter i = 2 Value = 55854.01245438637LL = 173974.39730942014\n",
        "Current Parameter i = 2 Value, 118768.94351415556LL173974.39730942014\n",
        "Proposed Parameter i = 2 Value = 55854.01245438637LL = 173974.39730942014\n",
        "Current Parameter i = "
       ]
      },
      {
       "output_type": "stream",
       "stream": "stdout",
       "text": [
        "2 Value, 118768.94351415556LL173974.39730942014\n",
        "Proposed Parameter i = 2 Value = 55854.01245438637LL = 173974.39730942014\n",
        "Current Parameter i = 2 Value, 118768.94351415556LL173974.39730942014\n",
        "Proposed Parameter i = 2 Value = 55854.01245438637LL = 173974.39730942014\n",
        "Current Parameter i = 2 Value, 118768.94351415556LL173974.39730942014\n",
        "Proposed Parameter i = 2 Value = 55854.01245438637LL = 173974.39730942014\n",
        "Current Parameter i = 2 Value, 118768.94351415556LL173974.39730942014\n",
        "Proposed Parameter i = 2 Value = 55854.01245438637LL = 173974.39730942014\n",
        "Current Parameter i = "
       ]
      },
      {
       "output_type": "stream",
       "stream": "stdout",
       "text": [
        "2 Value, 118768.94351415556LL173974.39730942014\n",
        "Proposed Parameter i = 2 Value = 55854.01245438637LL = 173974.39730942014\n",
        "Current Parameter i = 2 Value, 104361.46061788636LL173974.39730942014\n",
        "Proposed Parameter i = 2 Value = 55854.01245438637LL = 173974.39730942014\n",
        "Current Parameter i = 2 Value, 104361.46061788636LL173974.39730942014\n",
        "Proposed Parameter i = 2 Value = 55854.01245438637LL = 173974.39730942014\n",
        "Current Parameter i = 2 Value, 104361.46061788636LL173974.39730942014\n",
        "Proposed Parameter i = 2 Value = 55854.01245438637LL = 173974.39730942014\n",
        "Current Parameter i = "
       ]
      },
      {
       "output_type": "stream",
       "stream": "stdout",
       "text": [
        "2 Value, 104361.46061788636LL173974.39730942014\n",
        "Proposed Parameter i = 2 Value = 55854.01245438637LL = 173974.39730942014\n",
        "Current Parameter i = 2 Value, 104361.46061788636LL173974.39730942014\n",
        "Proposed Parameter i = 2 Value = 55854.01245438637LL = 173974.39730942014\n",
        "Current Parameter i = 2 Value, 104361.46061788636LL173974.39730942014\n",
        "Proposed Parameter i = 2 Value = 55854.01245438637LL = 173974.39730942014\n",
        "Current Parameter i = 2 Value, 104361.46061788636LL173974.39730942014\n",
        "Proposed Parameter i = 2 Value = 55854.01245438637LL = 173974.39730942014\n",
        "Current Parameter i = "
       ]
      },
      {
       "output_type": "stream",
       "stream": "stdout",
       "text": [
        "2 Value, 104361.46061788636LL173974.39730942014\n",
        "Proposed Parameter i = 2 Value = 55854.01245438637LL = 173974.39730942014\n",
        "Current Parameter i = 2 Value, 104361.46061788636LL173974.39730942014\n",
        "Proposed Parameter i = 2 Value = 55854.01245438637LL = 173974.39730942014\n",
        "Current Parameter i = 2 Value, 104361.46061788636LL173974.39730942014\n",
        "Proposed Parameter i = 2 Value = 55854.01245438637LL = 173974.39730942014\n",
        "Current Parameter i = "
       ]
      },
      {
       "output_type": "stream",
       "stream": "stdout",
       "text": [
        "2 Value, 5202.0622726494LL173974.39730942014\n",
        "Proposed Parameter i = 2 Value = 55854.01245438637LL = 173974.39730942014\n",
        "Current Parameter i = 2 Value, 5202.0622726494LL173974.39730942014\n",
        "Proposed Parameter i = 2 Value = 55854.01245438637LL = 173974.39730942014\n",
        "Current Parameter i = 2 Value, 5202.0622726494LL173974.39730942014\n",
        "Proposed Parameter i = 2 Value = 55854.01245438637LL = 173974.39730942014\n",
        "Current Parameter i = "
       ]
      },
      {
       "output_type": "stream",
       "stream": "stdout",
       "text": [
        "2 Value, 5202.0622726494LL173974.39730942014\n",
        "Proposed Parameter i = 2 Value = 55854.01245438637LL = 173974.39730942014\n",
        "Current Parameter i = 2 Value, 5202.0622726494LL173974.39730942014\n",
        "Proposed Parameter i = 2 Value = 55854.01245438637LL = 173974.39730942014\n",
        "Current Parameter i = 2 Value, 5202.0622726494LL173974.39730942014\n",
        "Proposed Parameter i = 2 Value = 55854.01245438637LL = 173974.39730942014\n",
        "Current Parameter i = "
       ]
      },
      {
       "output_type": "stream",
       "stream": "stdout",
       "text": [
        "2 Value, 5202.0622726494LL173974.39730942014\n",
        "Proposed Parameter i = 2 Value = 55854.01245438637LL = 173974.39730942014\n",
        "Current Parameter i = 2 Value, 5202.0622726494LL173974.39730942014\n",
        "Proposed Parameter i = 2 Value = 55854.01245438637LL = 173974.39730942014\n",
        "Current Parameter i = 2 Value, 5202.0622726494LL173974.39730942014\n",
        "Proposed Parameter i = 2 Value = 55854.01245438637LL = 173974.39730942014\n",
        "Current Parameter i = "
       ]
      },
      {
       "output_type": "stream",
       "stream": "stdout",
       "text": [
        "2 Value, 5202.0622726494LL173974.39730942014\n",
        "Proposed Parameter i = 2 Value = 55854.01245438637LL = 173974.39730942014\n",
        "Current Parameter i = 2 Value, 73369.97316169798LL173974.39730942014\n",
        "Proposed Parameter i = 2 Value = 55854.01245438637LL = 173974.39730942014\n",
        "Current Parameter i = 2 Value, 73369.97316169798LL173974.39730942014\n",
        "Proposed Parameter i = 2 Value = 55854.01245438637LL = 173974.39730942014\n",
        "Current Parameter i = "
       ]
      },
      {
       "output_type": "stream",
       "stream": "stdout",
       "text": [
        "2 Value, 73369.97316169798LL173974.39730942014\n",
        "Proposed Parameter i = 2 Value = 55854.01245438637LL = 173974.39730942014\n",
        "Current Parameter i = 2 Value, 73369.97316169798LL173974.39730942014\n",
        "Proposed Parameter i = 2 Value = 55854.01245438637LL = 173974.39730942014\n",
        "Current Parameter i = 2 Value, 73369.97316169798LL173974.39730942014\n",
        "Proposed Parameter i = 2 Value = 55854.01245438637LL = 173974.39730942014\n",
        "Current Parameter i = "
       ]
      },
      {
       "output_type": "stream",
       "stream": "stdout",
       "text": [
        "2 Value, 73369.97316169798LL173974.39730942014\n",
        "Proposed Parameter i = 2 Value = 55854.01245438637LL = 173974.39730942014\n",
        "Current Parameter i = 2 Value, 73369.97316169798LL173974.39730942014\n",
        "Proposed Parameter i = 2 Value = 55854.01245438637LL = 173974.39730942014\n",
        "Current Parameter i = 2 Value, 73369.97316169798LL173974.39730942014\n",
        "Proposed Parameter i = 2 Value = 55854.01245438637LL = 173974.39730942014\n",
        "Current Parameter i = 2 Value, 73369.97316169798LL173974.39730942014\n",
        "Proposed Parameter i = 2 Value = 55854.01245438637LL = 173974.39730942014\n",
        "Current Parameter i = "
       ]
      },
      {
       "output_type": "stream",
       "stream": "stdout",
       "text": [
        "2 Value, 73369.97316169798LL173974.39730942014\n",
        "Proposed Parameter i = 2 Value = 55854.01245438637LL = 173974.39730942014\n",
        "Current Parameter i = 2 Value, 79428.53499509468LL173974.39730942014\n",
        "Proposed Parameter i = 2 Value = 55854.01245438637LL = 173974.39730942014\n",
        "Current Parameter i = 2 Value, 79428.53499509468LL173974.39730942014\n",
        "Proposed Parameter i = 2 Value = 55854.01245438637LL = 173974.39730942014\n",
        "Current Parameter i = 2 Value, 79428.53499509468LL173974.39730942014\n",
        "Proposed Parameter i = 2 Value = 55854.01245438637LL = 173974.39730942014\n",
        "Current Parameter i = "
       ]
      },
      {
       "output_type": "stream",
       "stream": "stdout",
       "text": [
        "2 Value, 79428.53499509468LL173974.39730942014\n",
        "Proposed Parameter i = 2 Value = 55854.01245438637LL = 173974.39730942014\n",
        "Current Parameter i = 2 Value, 79428.53499509468LL173974.39730942014\n",
        "Proposed Parameter i = 2 Value = 55854.01245438637LL = 173974.39730942014\n",
        "Current Parameter i = 2 Value, 79428.53499509468LL173974.39730942014\n",
        "Proposed Parameter i = 2 Value = 55854.01245438637LL = 173974.39730942014\n",
        "Current Parameter i = 2 Value, 79428.53499509468LL173974.39730942014\n",
        "Proposed Parameter i = 2 Value = 55854.01245438637LL = 173974.39730942014\n",
        "Current Parameter i = "
       ]
      },
      {
       "output_type": "stream",
       "stream": "stdout",
       "text": [
        "2 Value, 79428.53499509468LL173974.39730942014\n",
        "Proposed Parameter i = 2 Value = 55854.01245438637LL = 173974.39730942014\n",
        "Current Parameter i = 2 Value, 79428.53499509468LL173974.39730942014\n",
        "Proposed Parameter i = 2 Value = 55854.01245438637LL = 173974.39730942014\n",
        "Current Parameter i = 2 Value, 79428.53499509468LL173974.39730942014\n",
        "Proposed Parameter i = 2 Value = 55854.01245438637LL = 173974.39730942014\n",
        "Current Parameter i = "
       ]
      },
      {
       "output_type": "stream",
       "stream": "stdout",
       "text": [
        "2 Value, 75695.98717239665LL173974.39730942014\n",
        "Proposed Parameter i = 2 Value = 55854.01245438637LL = 173974.39730942014\n",
        "Current Parameter i = 2 Value, 75695.98717239665LL173974.39730942014\n",
        "Proposed Parameter i = 2 Value = 55854.01245438637LL = 173974.39730942014\n",
        "Current Parameter i = 2 Value, 75695.98717239665LL173974.39730942014\n",
        "Proposed Parameter i = 2 Value = 55854.01245438637LL = 173974.39730942014\n",
        "Current Parameter i = "
       ]
      },
      {
       "output_type": "stream",
       "stream": "stdout",
       "text": [
        "2 Value, 75695.98717239665LL173974.39730942014\n",
        "Proposed Parameter i = 2 Value = 55854.01245438637LL = 173974.39730942014\n",
        "Current Parameter i = 2 Value, 75695.98717239665LL173974.39730942014\n",
        "Proposed Parameter i = 2 Value = 55854.01245438637LL = 173974.39730942014\n",
        "Current Parameter i = 2 Value, 75695.98717239665LL173974.39730942014\n",
        "Proposed Parameter i = 2 Value = 55854.01245438637LL = 173974.39730942014\n",
        "Current Parameter i = "
       ]
      },
      {
       "output_type": "stream",
       "stream": "stdout",
       "text": [
        "2 Value, 75695.98717239665LL173974.39730942014\n",
        "Proposed Parameter i = 2 Value = 55854.01245438637LL = 173974.39730942014\n",
        "Current Parameter i = 2 Value, 75695.98717239665LL173974.39730942014\n",
        "Proposed Parameter i = 2 Value = 55854.01245438637LL = 173974.39730942014\n",
        "Current Parameter i = 2 Value, 75695.98717239665LL173974.39730942014\n",
        "Proposed Parameter i = 2 Value = 55854.01245438637LL = 173974.39730942014\n",
        "Current Parameter i = "
       ]
      },
      {
       "output_type": "stream",
       "stream": "stdout",
       "text": [
        "2 Value, 75695.98717239665LL173974.39730942014\n",
        "Proposed Parameter i = 2 Value = 55854.01245438637LL = 173974.39730942014\n",
        "Current Parameter i = 2 Value, 39153.169486198705LL173974.39730942014\n",
        "Proposed Parameter i = 2 Value = 55854.01245438637LL = 173974.39730942014\n",
        "Current Parameter i = 2 Value, 39153.169486198705LL173974.39730942014\n",
        "Proposed Parameter i = 2 Value = 55854.01245438637LL = 173974.39730942014\n",
        "Current Parameter i = 2 Value, 39153.169486198705LL173974.39730942014\n",
        "Proposed Parameter i = 2 Value = 55854.01245438637LL = 173974.39730942014\n",
        "Current Parameter i = "
       ]
      },
      {
       "output_type": "stream",
       "stream": "stdout",
       "text": [
        "2 Value, 39153.169486198705LL173974.39730942014\n",
        "Proposed Parameter i = 2 Value = 55854.01245438637LL = 173974.39730942014\n",
        "Current Parameter i = 2 Value, 39153.169486198705LL173974.39730942014\n",
        "Proposed Parameter i = 2 Value = 55854.01245438637LL = 173974.39730942014\n",
        "Current Parameter i = 2 Value, 39153.169486198705LL173974.39730942014\n",
        "Proposed Parameter i = 2 Value = 55854.01245438637LL = 173974.39730942014\n",
        "Current Parameter i = 2 Value, 39153.169486198705LL173974.39730942014\n",
        "Proposed Parameter i = 2 Value = 55854.01245438637LL = 173974.39730942014\n",
        "Current Parameter i = "
       ]
      },
      {
       "output_type": "stream",
       "stream": "stdout",
       "text": [
        "2 Value, 39153.169486198705LL173974.39730942014\n",
        "Proposed Parameter i = 2 Value = 55854.01245438637LL = 173974.39730942014\n",
        "Current Parameter i = 2 Value, 39153.169486198705LL173974.39730942014\n",
        "Proposed Parameter i = 2 Value = 55854.01245438637LL = 173974.39730942014\n",
        "Current Parameter i = 2 Value, 39153.169486198705LL173974.39730942014\n",
        "Proposed Parameter i = 2 Value = 55854.01245438637LL = 173974.39730942014\n",
        "Current Parameter i = 2 Value, 12875.460232626567LL173974.39730942014\n",
        "Proposed Parameter i = 2 Value = 55854.01245438637LL = 173974.39730942014\n",
        "Current Parameter i = "
       ]
      },
      {
       "output_type": "stream",
       "stream": "stdout",
       "text": [
        "2 Value, 12875.460232626567LL173974.39730942014\n",
        "Proposed Parameter i = 2 Value = 55854.01245438637LL = 173974.39730942014\n",
        "Current Parameter i = 2 Value, 12875.460232626567LL173974.39730942014\n",
        "Proposed Parameter i = 2 Value = 55854.01245438637LL = 173974.39730942014\n",
        "Current Parameter i = 2 Value, 12875.460232626567LL173974.39730942014\n",
        "Proposed Parameter i = 2 Value = 55854.01245438637LL = 173974.39730942014\n",
        "Current Parameter i = 2 Value, 12875.460232626567LL173974.39730942014\n",
        "Proposed Parameter i = 2 Value = 55854.01245438637LL = 173974.39730942014\n",
        "Current Parameter i = "
       ]
      },
      {
       "output_type": "stream",
       "stream": "stdout",
       "text": [
        "2 Value, 12875.460232626567LL173974.39730942014\n",
        "Proposed Parameter i = 2 Value = 55854.01245438637LL = 173974.39730942014\n",
        "Current Parameter i = 2 Value, 12875.460232626567LL173974.39730942014\n",
        "Proposed Parameter i = 2 Value = 55854.01245438637LL = 173974.39730942014\n",
        "Current Parameter i = 2 Value, 12875.460232626567LL173974.39730942014\n",
        "Proposed Parameter i = 2 Value = 55854.01245438637LL = 173974.39730942014\n",
        "Current Parameter i = 2 Value, 12875.460232626567LL173974.39730942014\n",
        "Proposed Parameter i = 2 Value = 55854.01245438637LL = 173974.39730942014\n",
        "Current Parameter i = "
       ]
      },
      {
       "output_type": "stream",
       "stream": "stdout",
       "text": [
        "2 Value, 12875.460232626567LL173974.39730942014\n",
        "Proposed Parameter i = 2 Value = 55854.01245438637LL = 173974.39730942014\n",
        "Current Parameter i = 2 Value, 46590.8412422166LL173974.39730942014\n",
        "Proposed Parameter i = 2 Value = 55854.01245438637LL = 173974.39730942014\n",
        "Current Parameter i = 2 Value, 46590.8412422166LL173974.39730942014\n",
        "Proposed Parameter i = 2 Value = 55854.01245438637LL = 173974.39730942014\n",
        "Current Parameter i = 2 Value, 46590.8412422166LL173974.39730942014\n",
        "Proposed Parameter i = 2 Value = 55854.01245438637LL = 173974.39730942014\n",
        "Current Parameter i = 2 Value, 46590.8412422166LL173974.39730942014\n",
        "Proposed Parameter i = 2 Value = 55854.01245438637LL = 173974.39730942014\n",
        "Current Parameter i = 2 Value, 46590.8412422166LL173974.39730942014\n",
        "Proposed Parameter i = 2 Value = 55854.01245438637LL = 173974.39730942014\n",
        "Current Parameter i = 2 Value, 46590.8412422166LL173974.39730942014\n",
        "Proposed Parameter i = 2 Value = 55854.01245438637LL = 173974.39730942014\n",
        "Current Parameter i = 2 Value, 46590.8412422166LL173974.39730942014\n",
        "Proposed Parameter i = 2 Value = 55854.01245438637LL = 173974.39730942014\n",
        "Current Parameter i = 2 Value, 46590.8412422166LL173974.39730942014\n",
        "Proposed Parameter i = 2 Value = 55854.01245438637LL = 173974.39730942014\n",
        "Current Parameter i = 2 Value, 46590.8412422166LL173974.39730942014\n",
        "Proposed Parameter i = 2 Value = 55854.01245438637LL = 173974.39730942014\n",
        "Current Parameter i = 2 Value, 46590.8412422166LL173974.39730942014\n",
        "Proposed Parameter i = 2 Value = 55854.01245438637LL = 173974.39730942014\n",
        "Current Parameter i = 2 Value, 723226.8114578392LL173974.39730942014\n",
        "Proposed Parameter i = 2 Value = 55854.01245438637LL = 173974.39730942014\n",
        "Current Parameter i = 2 Value, 723226.8114578392LL173974.39730942014\n",
        "Proposed Parameter i = 2 Value = 55854.01245438637LL = 173974.39730942014\n",
        "Current Parameter i = 2 Value, 723226.8114578392LL173974.39730942014\n",
        "Proposed Parameter i = 2 Value = 55854.01245438637LL = 173974.39730942014\n",
        "Current Parameter i = "
       ]
      },
      {
       "output_type": "stream",
       "stream": "stdout",
       "text": [
        "2 Value, 723226.8114578392LL173974.39730942014\n",
        "Proposed Parameter i = 2 Value = 55854.01245438637LL = 173974.39730942014\n",
        "Current Parameter i = 2 Value, 723226.8114578392LL173974.39730942014\n",
        "Proposed Parameter i = 2 Value = 55854.01245438637LL = 173974.39730942014\n",
        "Current Parameter i = 2 Value, 723226.8114578392LL173974.39730942014\n",
        "Proposed Parameter i = 2 Value = 55854.01245438637LL = 173974.39730942014\n",
        "Current Parameter i = 2 Value, 723226.8114578392LL173974.39730942014\n",
        "Proposed Parameter i = 2 Value = 55854.01245438637LL = 173974.39730942014\n",
        "Current Parameter i = "
       ]
      },
      {
       "output_type": "stream",
       "stream": "stdout",
       "text": [
        "2 Value, 723226.8114578392LL173974.39730942014\n",
        "Proposed Parameter i = 2 Value = 55854.01245438637LL = 173974.39730942014\n",
        "Current Parameter i = 2 Value, 723226.8114578392LL173974.39730942014\n",
        "Proposed Parameter i = 2 Value = 55854.01245438637LL = 173974.39730942014\n",
        "Current Parameter i = 2 Value, 723226.8114578392LL173974.39730942014\n",
        "Proposed Parameter i = 2 Value = 55854.01245438637LL = 173974.39730942014\n",
        "Current Parameter i = 2 Value, 78098.57041040287LL173974.39730942014\n",
        "Proposed Parameter i = 2 Value = 55854.01245438637LL = 173974.39730942014\n",
        "Current Parameter i = "
       ]
      },
      {
       "output_type": "stream",
       "stream": "stdout",
       "text": [
        "2 Value, 78098.57041040287LL173974.39730942014\n",
        "Proposed Parameter i = 2 Value = 55854.01245438637LL = 173974.39730942014\n",
        "Current Parameter i = 2 Value, 78098.57041040287LL173974.39730942014\n",
        "Proposed Parameter i = 2 Value = 55854.01245438637LL = 173974.39730942014\n",
        "Current Parameter i = 2 Value, 78098.57041040287LL173974.39730942014\n",
        "Proposed Parameter i = 2 Value = 55854.01245438637LL = 173974.39730942014\n",
        "Current Parameter i = 2 Value, 78098.57041040287LL173974.39730942014\n",
        "Proposed Parameter i = 2 Value = 55854.01245438637LL = 173974.39730942014\n",
        "Current Parameter i = "
       ]
      },
      {
       "output_type": "stream",
       "stream": "stdout",
       "text": [
        "2 Value, 78098.57041040287LL173974.39730942014\n",
        "Proposed Parameter i = 2 Value = 55854.01245438637LL = 173974.39730942014\n",
        "Current Parameter i = 2 Value, 78098.57041040287LL173974.39730942014\n",
        "Proposed Parameter i = 2 Value = 55854.01245438637LL = 173974.39730942014\n",
        "Current Parameter i = 2 Value, 78098.57041040287LL173974.39730942014\n",
        "Proposed Parameter i = 2 Value = 55854.01245438637LL = 173974.39730942014\n",
        "Current Parameter i = 2 Value, 78098.57041040287LL173974.39730942014\n",
        "Proposed Parameter i = 2 Value = 55854.01245438637LL = 173974.39730942014\n",
        "Current Parameter i = "
       ]
      },
      {
       "output_type": "stream",
       "stream": "stdout",
       "text": [
        "2 Value, 78098.57041040287LL173974.39730942014\n",
        "Proposed Parameter i = 2 Value = 55854.01245438637LL = 173974.39730942014\n",
        "Current Parameter i = 2 Value, 17696.37091612912LL173974.39730942014\n",
        "Proposed Parameter i = 2 Value = 55854.01245438637LL = 173974.39730942014\n",
        "Current Parameter i = 2 Value, 17696.37091612912LL173974.39730942014\n",
        "Proposed Parameter i = 2 Value = 55854.01245438637LL = 173974.39730942014\n",
        "Current Parameter i = 2 Value, 17696.37091612912LL173974.39730942014\n",
        "Proposed Parameter i = 2 Value = 55854.01245438637LL = 173974.39730942014\n",
        "Current Parameter i = "
       ]
      },
      {
       "output_type": "stream",
       "stream": "stdout",
       "text": [
        "2 Value, 17696.37091612912LL173974.39730942014\n",
        "Proposed Parameter i = 2 Value = 55854.01245438637LL = 173974.39730942014\n",
        "Current Parameter i = 2 Value, 17696.37091612912LL173974.39730942014\n",
        "Proposed Parameter i = 2 Value = 55854.01245438637LL = 173974.39730942014\n",
        "Current Parameter i = 2 Value, 17696.37091612912LL173974.39730942014\n",
        "Proposed Parameter i = 2 Value = 55854.01245438637LL = 173974.39730942014\n",
        "Current Parameter i = 2 Value, 17696.37091612912LL173974.39730942014\n",
        "Proposed Parameter i = 2 Value = 55854.01245438637LL = 173974.39730942014\n",
        "Current Parameter i = "
       ]
      },
      {
       "output_type": "stream",
       "stream": "stdout",
       "text": [
        "2 Value, 17696.37091612912LL173974.39730942014\n",
        "Proposed Parameter i = 2 Value = 55854.01245438637LL = 173974.39730942014\n",
        "Current Parameter i = 2 Value, 17696.37091612912LL173974.39730942014\n",
        "Proposed Parameter i = 2 Value = 55854.01245438637LL = 173974.39730942014\n",
        "Current Parameter i = 2 Value, 17696.37091612912LL173974.39730942014\n",
        "Proposed Parameter i = 2 Value = 55854.01245438637LL = 173974.39730942014\n",
        "Current Parameter i = 2 Value, 88792.26746330276LL173974.39730942014\n",
        "Proposed Parameter i = 2 Value = 55854.01245438637LL = 173974.39730942014\n",
        "Current Parameter i = "
       ]
      },
      {
       "output_type": "stream",
       "stream": "stdout",
       "text": [
        "2 Value, 88792.26746330276LL173974.39730942014\n",
        "Proposed Parameter i = 2 Value = 55854.01245438637LL = 173974.39730942014\n",
        "Current Parameter i = 2 Value, 88792.26746330276LL173974.39730942014\n",
        "Proposed Parameter i = 2 Value = 55854.01245438637LL = 173974.39730942014\n",
        "Current Parameter i = 2 Value, 88792.26746330276LL173974.39730942014\n",
        "Proposed Parameter i = 2 Value = 55854.01245438637LL = 173974.39730942014\n",
        "Current Parameter i = 2 Value, 88792.26746330276LL173974.39730942014\n",
        "Proposed Parameter i = 2 Value = 55854.01245438637LL = 173974.39730942014\n",
        "Current Parameter i = "
       ]
      },
      {
       "output_type": "stream",
       "stream": "stdout",
       "text": [
        "2 Value, 88792.26746330276LL173974.39730942014\n",
        "Proposed Parameter i = 2 Value = 55854.01245438637LL = 173974.39730942014\n",
        "Current Parameter i = 2 Value, 88792.26746330276LL173974.39730942014\n",
        "Proposed Parameter i = 2 Value = 55854.01245438637LL = 173974.39730942014\n",
        "Current Parameter i = 2 Value, 88792.26746330276LL173974.39730942014\n",
        "Proposed Parameter i = 2 Value = 55854.01245438637LL = 173974.39730942014\n",
        "Current Parameter i = 2 Value, 88792.26746330276LL173974.39730942014\n",
        "Proposed Parameter i = 2 Value = 55854.01245438637LL = 173974.39730942014\n",
        "Current Parameter i = "
       ]
      },
      {
       "output_type": "stream",
       "stream": "stdout",
       "text": [
        "2 Value, 88792.26746330276LL173974.39730942014\n",
        "Proposed Parameter i = 2 Value = 55854.01245438637LL = 173974.39730942014\n",
        "Current Parameter i = 2 Value, 103419.7074442473LL173974.39730942014\n",
        "Proposed Parameter i = 2 Value = 55854.01245438637LL = 173974.39730942014\n",
        "Current Parameter i = 2 Value, 103419.7074442473LL173974.39730942014\n",
        "Proposed Parameter i = 2 Value = 55854.01245438637LL = 173974.39730942014\n",
        "Current Parameter i = 2 Value, 103419.7074442473LL173974.39730942014\n",
        "Proposed Parameter i = 2 Value = 55854.01245438637LL = 173974.39730942014\n",
        "Current Parameter i = "
       ]
      },
      {
       "output_type": "stream",
       "stream": "stdout",
       "text": [
        "2 Value, 103419.7074442473LL173974.39730942014\n",
        "Proposed Parameter i = 2 Value = 55854.01245438637LL = 173974.39730942014\n",
        "Current Parameter i = 2 Value, 103419.7074442473LL173974.39730942014\n",
        "Proposed Parameter i = 2 Value = 55854.01245438637LL = 173974.39730942014\n",
        "Current Parameter i = 2 Value, 103419.7074442473LL173974.39730942014\n",
        "Proposed Parameter i = 2 Value = 55854.01245438637LL = 173974.39730942014\n",
        "Current Parameter i = 2 Value, 103419.7074442473LL173974.39730942014\n",
        "Proposed Parameter i = 2 Value = 55854.01245438637LL = 173974.39730942014\n",
        "Current Parameter i = "
       ]
      },
      {
       "output_type": "stream",
       "stream": "stdout",
       "text": [
        "2 Value, 103419.7074442473LL173974.39730942014\n",
        "Proposed Parameter i = 2 Value = 55854.01245438637LL = 173974.39730942014\n",
        "Current Parameter i = 2 Value, 103419.7074442473LL173974.39730942014\n",
        "Proposed Parameter i = 2 Value = 55854.01245438637LL = 173974.39730942014\n",
        "Current Parameter i = 2 Value, 103419.7074442473LL173974.39730942014\n",
        "Proposed Parameter i = 2 Value = 55854.01245438637LL = 173974.39730942014\n",
        "Current Parameter i = "
       ]
      },
      {
       "output_type": "stream",
       "stream": "stdout",
       "text": [
        "2 Value, 122016.719556787LL173974.39730942014\n",
        "Proposed Parameter i = 2 Value = 55854.01245438637LL = 173974.39730942014\n",
        "Current Parameter i = 2 Value, 122016.719556787LL173974.39730942014\n",
        "Proposed Parameter i = 2 Value = 55854.01245438637LL = 173974.39730942014\n",
        "Current Parameter i = 2 Value, 122016.719556787LL173974.39730942014\n",
        "Proposed Parameter i = 2 Value = 55854.01245438637LL = 173974.39730942014\n",
        "Current Parameter i = 2 Value, 122016.719556787LL173974.39730942014\n",
        "Proposed Parameter i = 2 Value = 55854.01245438637LL = 173974.39730942014\n",
        "Current Parameter i = "
       ]
      },
      {
       "output_type": "stream",
       "stream": "stdout",
       "text": [
        "2 Value, 122016.719556787LL173974.39730942014\n",
        "Proposed Parameter i = 2 Value = 55854.01245438637LL = 173974.39730942014\n",
        "Current Parameter i = 2 Value, 122016.719556787LL173974.39730942014\n",
        "Proposed Parameter i = 2 Value = 55854.01245438637LL = 173974.39730942014\n",
        "Current Parameter i = 2 Value, 122016.719556787LL173974.39730942014\n",
        "Proposed Parameter i = 2 Value = 55854.01245438637LL = 173974.39730942014\n",
        "Current Parameter i = "
       ]
      },
      {
       "output_type": "stream",
       "stream": "stdout",
       "text": [
        "2 Value, 122016.719556787LL173974.39730942014\n",
        "Proposed Parameter i = 2 Value = 55854.01245438637LL = 173974.39730942014\n",
        "Current Parameter i = 2 Value, 122016.719556787LL173974.39730942014\n",
        "Proposed Parameter i = 2 Value = 55854.01245438637LL = 173974.39730942014\n",
        "Current Parameter i = 2 Value, 122016.719556787LL173974.39730942014\n",
        "Proposed Parameter i = 2 Value = 55854.01245438637LL = 173974.39730942014\n",
        "Current Parameter i = "
       ]
      },
      {
       "output_type": "stream",
       "stream": "stdout",
       "text": [
        "2 Value, 13246.503962789458LL173974.39730942014\n",
        "Proposed Parameter i = 2 Value = 55854.01245438637LL = 173974.39730942014\n",
        "Current Parameter i = 2 Value, 13246.503962789458LL173974.39730942014\n",
        "Proposed Parameter i = 2 Value = 55854.01245438637LL = 173974.39730942014\n",
        "Current Parameter i = 2 Value, 13246.503962789458LL173974.39730942014\n",
        "Proposed Parameter i = 2 Value = 55854.01245438637LL = 173974.39730942014\n",
        "Current Parameter i = "
       ]
      },
      {
       "output_type": "stream",
       "stream": "stdout",
       "text": [
        "2 Value, 13246.503962789458LL173974.39730942014\n",
        "Proposed Parameter i = 2 Value = 55854.01245438637LL = 173974.39730942014\n",
        "Current Parameter i = 2 Value, 13246.503962789458LL173974.39730942014\n",
        "Proposed Parameter i = 2 Value = 55854.01245438637LL = 173974.39730942014\n",
        "Current Parameter i = 2 Value, 13246.503962789458LL173974.39730942014\n",
        "Proposed Parameter i = 2 Value = 55854.01245438637LL = 173974.39730942014\n",
        "Current Parameter i = "
       ]
      },
      {
       "output_type": "stream",
       "stream": "stdout",
       "text": [
        "2 Value, 13246.503962789458LL173974.39730942014\n",
        "Proposed Parameter i = 2 Value = 55854.01245438637LL = 173974.39730942014\n",
        "Current Parameter i = 2 Value, 13246.503962789458LL173974.39730942014\n",
        "Proposed Parameter i = 2 Value = 55854.01245438637LL = 173974.39730942014\n",
        "Current Parameter i = 2 Value, 13246.503962789458LL173974.39730942014\n",
        "Proposed Parameter i = 2 Value = 55854.01245438637LL = 173974.39730942014\n",
        "Current Parameter i = 2 Value, 13246.503962789458LL173974.39730942014\n",
        "Proposed Parameter i = 2 Value = 55854.01245438637LL = 173974.39730942014\n",
        "Current Parameter i = "
       ]
      },
      {
       "output_type": "stream",
       "stream": "stdout",
       "text": [
        "2 Value, 4884.675391171486LL173974.39730942014\n",
        "Proposed Parameter i = 2 Value = 55854.01245438637LL = 173974.39730942014\n",
        "Current Parameter i = 2 Value, 4884.675391171486LL173974.39730942014\n",
        "Proposed Parameter i = 2 Value = 55854.01245438637LL = 173974.39730942014\n",
        "Current Parameter i = 2 Value, 4884.675391171486LL173974.39730942014\n",
        "Proposed Parameter i = 2 Value = 55854.01245438637LL = 173974.39730942014\n",
        "Current Parameter i = 2 Value, 4884.675391171486LL173974.39730942014\n",
        "Proposed Parameter i = 2 Value = 55854.01245438637LL = 173974.39730942014\n",
        "Current Parameter i = "
       ]
      },
      {
       "output_type": "stream",
       "stream": "stdout",
       "text": [
        "2 Value, 4884.675391171486LL173974.39730942014\n",
        "Proposed Parameter i = 2 Value = 55854.01245438637LL = 173974.39730942014\n",
        "Current Parameter i = 2 Value, 4884.675391171486LL173974.39730942014\n",
        "Proposed Parameter i = 2 Value = 55854.01245438637LL = 173974.39730942014\n",
        "Current Parameter i = 2 Value, 4884.675391171486LL173974.39730942014\n",
        "Proposed Parameter i = 2 Value = 55854.01245438637LL = 173974.39730942014\n",
        "Current Parameter i = 2 Value, 4884.675391171486LL173974.39730942014\n",
        "Proposed Parameter i = 2 Value = 55854.01245438637LL = 173974.39730942014\n",
        "Current Parameter i = "
       ]
      },
      {
       "output_type": "stream",
       "stream": "stdout",
       "text": [
        "2 Value, 4884.675391171486LL173974.39730942014\n",
        "Proposed Parameter i = 2 Value = 55854.01245438637LL = 173974.39730942014\n",
        "Current Parameter i = 2 Value, 4884.675391171486LL173974.39730942014\n",
        "Proposed Parameter i = 2 Value = 55854.01245438637LL = 173974.39730942014\n",
        "Current Parameter i = 2 Value, 35003.68971974025LL173974.39730942014\n",
        "Proposed Parameter i = 2 Value = 55854.01245438637LL = 173974.39730942014\n",
        "Current Parameter i = 2 Value, 35003.68971974025LL173974.39730942014\n",
        "Proposed Parameter i = 2 Value = 55854.01245438637LL = 173974.39730942014\n",
        "Current Parameter i = "
       ]
      },
      {
       "output_type": "stream",
       "stream": "stdout",
       "text": [
        "2 Value, 35003.68971974025LL173974.39730942014\n",
        "Proposed Parameter i = 2 Value = 55854.01245438637LL = 173974.39730942014\n",
        "Current Parameter i = 2 Value, 35003.68971974025LL173974.39730942014\n",
        "Proposed Parameter i = 2 Value = 55854.01245438637LL = 173974.39730942014\n",
        "Current Parameter i = 2 Value, 35003.68971974025LL173974.39730942014\n",
        "Proposed Parameter i = 2 Value = 55854.01245438637LL = 173974.39730942014\n",
        "Current Parameter i = 2 Value, 35003.68971974025LL173974.39730942014\n",
        "Proposed Parameter i = 2 Value = 55854.01245438637LL = 173974.39730942014\n",
        "Current Parameter i = "
       ]
      },
      {
       "output_type": "stream",
       "stream": "stdout",
       "text": [
        "2 Value, 35003.68971974025LL173974.39730942014\n",
        "Proposed Parameter i = 2 Value = 55854.01245438637LL = 173974.39730942014\n",
        "Current Parameter i = 2 Value, 35003.68971974025LL173974.39730942014\n",
        "Proposed Parameter i = 2 Value = 55854.01245438637LL = 173974.39730942014\n",
        "Current Parameter i = 2 Value, 35003.68971974025LL173974.39730942014\n",
        "Proposed Parameter i = 2 Value = 55854.01245438637LL = 173974.39730942014\n",
        "Current Parameter i = 2 Value, 35003.68971974025LL173974.39730942014\n",
        "Proposed Parameter i = 2 Value = 55854.01245438637LL = 173974.39730942014\n",
        "Current Parameter i = "
       ]
      },
      {
       "output_type": "stream",
       "stream": "stdout",
       "text": [
        "2 Value, 47576.23558482657LL173974.39730942014\n",
        "Proposed Parameter i = 2 Value = 55854.01245438637LL = 173974.39730942014\n",
        "Current Parameter i = 2 Value, 47576.23558482657LL173974.39730942014\n",
        "Proposed Parameter i = 2 Value = 55854.01245438637LL = 173974.39730942014\n",
        "Current Parameter i = 2 Value, 47576.23558482657LL173974.39730942014\n",
        "Proposed Parameter i = 2 Value = 55854.01245438637LL = 173974.39730942014\n",
        "Current Parameter i = 2 Value, 47576.23558482657LL173974.39730942014\n",
        "Proposed Parameter i = 2 Value = 55854.01245438637LL = 173974.39730942014\n",
        "Current Parameter i = "
       ]
      },
      {
       "output_type": "stream",
       "stream": "stdout",
       "text": [
        "2 Value, 47576.23558482657LL173974.39730942014\n",
        "Proposed Parameter i = 2 Value = 55854.01245438637LL = 173974.39730942014\n",
        "Current Parameter i = 2 Value, 47576.23558482657LL173974.39730942014\n",
        "Proposed Parameter i = 2 Value = 55854.01245438637LL = 173974.39730942014\n",
        "Current Parameter i = 2 Value, 47576.23558482657LL173974.39730942014\n",
        "Proposed Parameter i = 2 Value = 55854.01245438637LL = 173974.39730942014\n",
        "Current Parameter i = 2 Value, 47576.23558482657LL173974.39730942014\n",
        "Proposed Parameter i = 2 Value = 55854.01245438637LL = 173974.39730942014\n",
        "Current Parameter i = "
       ]
      },
      {
       "output_type": "stream",
       "stream": "stdout",
       "text": [
        "2 Value, 47576.23558482657LL173974.39730942014\n",
        "Proposed Parameter i = 2 Value = 55854.01245438637LL = 173974.39730942014\n",
        "Current Parameter i = 2 Value, 47576.23558482657LL173974.39730942014\n",
        "Proposed Parameter i = 2 Value = 55854.01245438637LL = 173974.39730942014\n",
        "Current Parameter i = 2 Value, 49988.132538370795LL173974.39730942014\n",
        "Proposed Parameter i = 2 Value = 55854.01245438637LL = 173974.39730942014\n",
        "Current Parameter i = 2 Value, 49988.132538370795LL173974.39730942014\n",
        "Proposed Parameter i = 2 Value = 55854.01245438637LL = 173974.39730942014\n",
        "Current Parameter i = "
       ]
      },
      {
       "output_type": "stream",
       "stream": "stdout",
       "text": [
        "2 Value, 49988.132538370795LL173974.39730942014\n",
        "Proposed Parameter i = 2 Value = 55854.01245438637LL = 173974.39730942014\n",
        "Current Parameter i = 2 Value, 49988.132538370795LL173974.39730942014\n",
        "Proposed Parameter i = 2 Value = 55854.01245438637LL = 173974.39730942014\n",
        "Current Parameter i = 2 Value, 49988.132538370795LL173974.39730942014\n",
        "Proposed Parameter i = 2 Value = 55854.01245438637LL = 173974.39730942014\n",
        "Current Parameter i = 2 Value, 49988.132538370795LL173974.39730942014\n",
        "Proposed Parameter i = 2 Value = 55854.01245438637LL = 173974.39730942014\n",
        "Current Parameter i = "
       ]
      },
      {
       "output_type": "stream",
       "stream": "stdout",
       "text": [
        "2 Value, 49988.132538370795LL173974.39730942014\n",
        "Proposed Parameter i = 2 Value = 55854.01245438637LL = 173974.39730942014\n",
        "Current Parameter i = 2 Value, 49988.132538370795LL173974.39730942014\n",
        "Proposed Parameter i = 2 Value = 55854.01245438637LL = 173974.39730942014\n",
        "Current Parameter i = 2 Value, 49988.132538370795LL173974.39730942014\n",
        "Proposed Parameter i = 2 Value = 55854.01245438637LL = 173974.39730942014\n",
        "Current Parameter i = 2 Value, 49988.132538370795LL173974.39730942014\n",
        "Proposed Parameter i = 2 Value = 55854.01245438637LL = 173974.39730942014\n",
        "Current Parameter i = "
       ]
      },
      {
       "output_type": "stream",
       "stream": "stdout",
       "text": [
        "2 Value, 54268.280363719794LL173974.39730942014\n",
        "Proposed Parameter i = 2 Value = 55854.01245438637LL = 173974.39730942014\n",
        "Current Parameter i = 2 Value, 54268.280363719794LL173974.39730942014\n",
        "Proposed Parameter i = 2 Value = 55854.01245438637LL = 173974.39730942014\n",
        "Current Parameter i = 2 Value, 54268.280363719794LL173974.39730942014\n",
        "Proposed Parameter i = 2 Value = 55854.01245438637LL = 173974.39730942014\n",
        "Current Parameter i = 2 Value, 54268.280363719794LL173974.39730942014\n",
        "Proposed Parameter i = 2 Value = 55854.01245438637LL = 173974.39730942014\n",
        "Current Parameter i = "
       ]
      },
      {
       "output_type": "stream",
       "stream": "stdout",
       "text": [
        "2 Value, 54268.280363719794LL173974.39730942014\n",
        "Proposed Parameter i = 2 Value = 55854.01245438637LL = 173974.39730942014\n",
        "Current Parameter i = 2 Value, 54268.280363719794LL173974.39730942014\n",
        "Proposed Parameter i = 2 Value = 55854.01245438637LL = 173974.39730942014\n",
        "Current Parameter i = 2 Value, 54268.280363719794LL173974.39730942014\n",
        "Proposed Parameter i = 2 Value = 55854.01245438637LL = 173974.39730942014\n",
        "Current Parameter i = 2 Value, 54268.280363719794LL173974.39730942014\n",
        "Proposed Parameter i = 2 Value = 55854.01245438637LL = 173974.39730942014\n",
        "Current Parameter i = "
       ]
      },
      {
       "output_type": "stream",
       "stream": "stdout",
       "text": [
        "2 Value, 54268.280363719794LL173974.39730942014\n",
        "Proposed Parameter i = 2 Value = 55854.01245438637LL = 173974.39730942014\n",
        "Current Parameter i = 2 Value, 54268.280363719794LL173974.39730942014\n",
        "Proposed Parameter i = 2 Value = 55854.01245438637LL = 173974.39730942014\n",
        "Current Parameter i = 2 Value, 18786.56087035134LL173974.39730942014\n",
        "Proposed Parameter i = 2 Value = 55854.01245438637LL = 173974.39730942014\n",
        "Current Parameter i = 2 Value, 18786.56087035134LL173974.39730942014\n",
        "Proposed Parameter i = 2 Value = 55854.01245438637LL = 173974.39730942014\n",
        "Current Parameter i = "
       ]
      },
      {
       "output_type": "stream",
       "stream": "stdout",
       "text": [
        "2 Value, 18786.56087035134LL173974.39730942014\n",
        "Proposed Parameter i = 2 Value = 55854.01245438637LL = 173974.39730942014\n",
        "Current Parameter i = 2 Value, 18786.56087035134LL173974.39730942014\n",
        "Proposed Parameter i = 2 Value = 55854.01245438637LL = 173974.39730942014\n",
        "Current Parameter i = 2 Value, 18786.56087035134LL173974.39730942014\n",
        "Proposed Parameter i = 2 Value = 55854.01245438637LL = 173974.39730942014\n",
        "Current Parameter i = 2 Value, 18786.56087035134LL173974.39730942014\n",
        "Proposed Parameter i = 2 Value = 55854.01245438637LL = 173974.39730942014\n",
        "Current Parameter i = "
       ]
      },
      {
       "output_type": "stream",
       "stream": "stdout",
       "text": [
        "2 Value, 18786.56087035134LL173974.39730942014\n",
        "Proposed Parameter i = 2 Value = 55854.01245438637LL = 173974.39730942014\n",
        "Current Parameter i = 2 Value, 18786.56087035134LL173974.39730942014\n",
        "Proposed Parameter i = 2 Value = 55854.01245438637LL = 173974.39730942014\n",
        "Current Parameter i = 2 Value, 18786.56087035134LL173974.39730942014\n",
        "Proposed Parameter i = 2 Value = 55854.01245438637LL = 173974.39730942014\n",
        "Current Parameter i = 2 Value, 18786.56087035134LL173974.39730942014\n",
        "Proposed Parameter i = 2 Value = 55854.01245438637LL = 173974.39730942014\n",
        "Current Parameter i = "
       ]
      },
      {
       "output_type": "stream",
       "stream": "stdout",
       "text": [
        "2 Value, 45307.653576947065LL173974.39730942014\n",
        "Proposed Parameter i = 2 Value = 55854.01245438637LL = 173974.39730942014\n",
        "Current Parameter i = 2 Value, 45307.653576947065LL173974.39730942014\n",
        "Proposed Parameter i = 2 Value = 55854.01245438637LL = 173974.39730942014\n",
        "Current Parameter i = 2 Value, 45307.653576947065LL173974.39730942014\n",
        "Proposed Parameter i = 2 Value = 55854.01245438637LL = 173974.39730942014\n",
        "Current Parameter i = 2 Value, 45307.653576947065LL173974.39730942014\n",
        "Proposed Parameter i = 2 Value = 55854.01245438637LL = 173974.39730942014\n",
        "Current Parameter i = "
       ]
      },
      {
       "output_type": "stream",
       "stream": "stdout",
       "text": [
        "2 Value, 45307.653576947065LL173974.39730942014\n",
        "Proposed Parameter i = 2 Value = 55854.01245438637LL = 173974.39730942014\n",
        "Current Parameter i = 2 Value, 45307.653576947065LL173974.39730942014\n",
        "Proposed Parameter i = 2 Value = 55854.01245438637LL = 173974.39730942014\n",
        "Current Parameter i = 2 Value, 45307.653576947065LL173974.39730942014\n",
        "Proposed Parameter i = 2 Value = 55854.01245438637LL = 173974.39730942014\n",
        "Current Parameter i = 2 Value, 45307.653576947065LL173974.39730942014\n",
        "Proposed Parameter i = 2 Value = 55854.01245438637LL = 173974.39730942014\n",
        "Current Parameter i = "
       ]
      },
      {
       "output_type": "stream",
       "stream": "stdout",
       "text": [
        "2 Value, 45307.653576947065LL173974.39730942014\n",
        "Proposed Parameter i = 2 Value = 55854.01245438637LL = 173974.39730942014\n",
        "Current Parameter i = 2 Value, 45307.653576947065LL173974.39730942014\n",
        "Proposed Parameter i = 2 Value = 55854.01245438637LL = 173974.39730942014\n",
        "Current Parameter i = 2 Value, 14489.620099470627LL173974.39730942014\n",
        "Proposed Parameter i = 2 Value = 55854.01245438637LL = 173974.39730942014\n",
        "Current Parameter i = 2 Value, 14489.620099470627LL173974.39730942014\n",
        "Proposed Parameter i = 2 Value = 55854.01245438637LL = 173974.39730942014\n",
        "Current Parameter i = "
       ]
      },
      {
       "output_type": "stream",
       "stream": "stdout",
       "text": [
        "2 Value, 14489.620099470627LL173974.39730942014\n",
        "Proposed Parameter i = 2 Value = 55854.01245438637LL = 173974.39730942014\n",
        "Current Parameter i = 2 Value, 14489.620099470627LL173974.39730942014\n",
        "Proposed Parameter i = 2 Value = 55854.01245438637LL = 173974.39730942014\n",
        "Current Parameter i = 2 Value, 14489.620099470627LL173974.39730942014\n",
        "Proposed Parameter i = 2 Value = 55854.01245438637LL = 173974.39730942014\n",
        "Current Parameter i = 2 Value, 14489.620099470627LL173974.39730942014\n",
        "Proposed Parameter i = 2 Value = 55854.01245438637LL = 173974.39730942014\n",
        "Current Parameter i = "
       ]
      },
      {
       "output_type": "stream",
       "stream": "stdout",
       "text": [
        "2 Value, 14489.620099470627LL173974.39730942014\n",
        "Proposed Parameter i = 2 Value = 55854.01245438637LL = 173974.39730942014\n",
        "Current Parameter i = 2 Value, 14489.620099470627LL173974.39730942014\n",
        "Proposed Parameter i = 2 Value = 55854.01245438637LL = 173974.39730942014\n",
        "Current Parameter i = 2 Value, 14489.620099470627LL173974.39730942014\n",
        "Proposed Parameter i = 2 Value = 55854.01245438637LL = 173974.39730942014\n",
        "Current Parameter i = 2 Value, 14489.620099470627LL173974.39730942014\n",
        "Proposed Parameter i = 2 Value = 55854.01245438637LL = 173974.39730942014\n",
        "Current Parameter i = "
       ]
      },
      {
       "output_type": "stream",
       "stream": "stdout",
       "text": [
        "2 Value, 13122.998219300216LL173974.39730942014\n",
        "Proposed Parameter i = 2 Value = 55854.01245438637LL = 173974.39730942014\n",
        "Current Parameter i = 2 Value, 13122.998219300216LL173974.39730942014\n",
        "Proposed Parameter i = 2 Value = 55854.01245438637LL = 173974.39730942014\n",
        "Current Parameter i = 2 Value, 13122.998219300216LL173974.39730942014\n",
        "Proposed Parameter i = 2 Value = 55854.01245438637LL = 173974.39730942014\n",
        "Current Parameter i = 2 Value, 13122.998219300216LL173974.39730942014\n",
        "Proposed Parameter i = 2 Value = 55854.01245438637LL = 173974.39730942014\n",
        "Current Parameter i = "
       ]
      },
      {
       "output_type": "stream",
       "stream": "stdout",
       "text": [
        "2 Value, 13122.998219300216LL173974.39730942014\n",
        "Proposed Parameter i = 2 Value = 55854.01245438637LL = 173974.39730942014\n",
        "Current Parameter i = 2 Value, 13122.998219300216LL173974.39730942014\n",
        "Proposed Parameter i = 2 Value = 55854.01245438637LL = 173974.39730942014\n",
        "Current Parameter i = 2 Value, 13122.998219300216LL173974.39730942014\n",
        "Proposed Parameter i = 2 Value = 55854.01245438637LL = 173974.39730942014\n",
        "Current Parameter i = 2 Value, 13122.998219300216LL173974.39730942014\n",
        "Proposed Parameter i = 2 Value = 55854.01245438637LL = 173974.39730942014\n",
        "Current Parameter i = "
       ]
      },
      {
       "output_type": "stream",
       "stream": "stdout",
       "text": [
        "2 Value, 13122.998219300216LL173974.39730942014\n",
        "Proposed Parameter i = 2 Value = 55854.01245438637LL = 173974.39730942014\n",
        "Current Parameter i = 2 Value, 13122.998219300216LL173974.39730942014\n",
        "Proposed Parameter i = 2 Value = 55854.01245438637LL = 173974.39730942014\n",
        "Current Parameter i = 2 Value, 52875.048345061325LL173974.39730942014\n",
        "Proposed Parameter i = 2 Value = 55854.01245438637LL = 173974.39730942014\n",
        "Current Parameter i = 2 Value, 52875.048345061325LL173974.39730942014\n",
        "Proposed Parameter i = 2 Value = 55854.01245438637LL = 173974.39730942014\n",
        "Current Parameter i = "
       ]
      },
      {
       "output_type": "stream",
       "stream": "stdout",
       "text": [
        "2 Value, 52875.048345061325LL173974.39730942014\n",
        "Proposed Parameter i = 2 Value = 55854.01245438637LL = 173974.39730942014\n",
        "Current Parameter i = 2 Value, 52875.048345061325LL173974.39730942014\n",
        "Proposed Parameter i = 2 Value = 55854.01245438637LL = 173974.39730942014\n",
        "Current Parameter i = 2 Value, 52875.048345061325LL173974.39730942014\n",
        "Proposed Parameter i = 2 Value = 55854.01245438637LL = 173974.39730942014\n",
        "Current Parameter i = 2 Value, 52875.048345061325LL173974.39730942014\n",
        "Proposed Parameter i = 2 Value = 55854.01245438637LL = 173974.39730942014\n",
        "Current Parameter i = "
       ]
      },
      {
       "output_type": "stream",
       "stream": "stdout",
       "text": [
        "2 Value, 52875.048345061325LL173974.39730942014\n",
        "Proposed Parameter i = 2 Value = 55854.01245438637LL = 173974.39730942014\n",
        "Current Parameter i = 2 Value, 52875.048345061325LL173974.39730942014\n",
        "Proposed Parameter i = 2 Value = 55854.01245438637LL = 173974.39730942014\n",
        "Current Parameter i = 2 Value, 52875.048345061325LL173974.39730942014\n",
        "Proposed Parameter i = 2 Value = 55854.01245438637LL = 173974.39730942014\n",
        "Current Parameter i = 2 Value, 52875.048345061325LL173974.39730942014\n",
        "Proposed Parameter i = 2 Value = 55854.01245438637LL = 173974.39730942014\n",
        "Current Parameter i = "
       ]
      },
      {
       "output_type": "stream",
       "stream": "stdout",
       "text": [
        "2 Value, 77567.10828789596LL173974.39730942014\n",
        "Proposed Parameter i = 2 Value = 55854.01245438637LL = 173974.39730942014\n",
        "Current Parameter i = 2 Value, 77567.10828789596LL173974.39730942014\n",
        "Proposed Parameter i = 2 Value = 55854.01245438637LL = 173974.39730942014\n",
        "Current Parameter i = 2 Value, 77567.10828789596LL173974.39730942014\n",
        "Proposed Parameter i = 2 Value = 55854.01245438637LL = 173974.39730942014\n",
        "Current Parameter i = 2 Value, 77567.10828789596LL173974.39730942014\n",
        "Proposed Parameter i = 2 Value = 55854.01245438637LL = 173974.39730942014\n",
        "Current Parameter i = "
       ]
      },
      {
       "output_type": "stream",
       "stream": "stdout",
       "text": [
        "2 Value, 77567.10828789596LL173974.39730942014\n",
        "Proposed Parameter i = 2 Value = 55854.01245438637LL = 173974.39730942014\n",
        "Current Parameter i = 2 Value, 77567.10828789596LL173974.39730942014\n",
        "Proposed Parameter i = 2 Value = 55854.01245438637LL = 173974.39730942014\n",
        "Current Parameter i = 2 Value, 77567.10828789596LL173974.39730942014\n",
        "Proposed Parameter i = 2 Value = 55854.01245438637LL = 173974.39730942014\n",
        "Current Parameter i = 2 Value, 77567.10828789596LL173974.39730942014\n",
        "Proposed Parameter i = 2 Value = 55854.01245438637LL = 173974.39730942014\n",
        "Current Parameter i = "
       ]
      },
      {
       "output_type": "stream",
       "stream": "stdout",
       "text": [
        "2 Value, 77567.10828789596LL173974.39730942014\n",
        "Proposed Parameter i = 2 Value = 55854.01245438637LL = 173974.39730942014\n",
        "Current Parameter i = 2 Value, 77567.10828789596LL173974.39730942014\n",
        "Proposed Parameter i = 2 Value = 55854.01245438637LL = 173974.39730942014\n",
        "Current Parameter i = 2 Value, 223276.5142801819LL173974.39730942014\n",
        "Proposed Parameter i = 2 Value = 55854.01245438637LL = 173974.39730942014\n",
        "Current Parameter i = 2 Value, 223276.5142801819LL173974.39730942014\n",
        "Proposed Parameter i = 2 Value = 55854.01245438637LL = 173974.39730942014\n",
        "Current Parameter i = "
       ]
      },
      {
       "output_type": "stream",
       "stream": "stdout",
       "text": [
        "2 Value, 223276.5142801819LL173974.39730942014\n",
        "Proposed Parameter i = 2 Value = 55854.01245438637LL = 173974.39730942014\n",
        "Current Parameter i = 2 Value, 223276.5142801819LL173974.39730942014\n",
        "Proposed Parameter i = 2 Value = 55854.01245438637LL = 173974.39730942014\n",
        "Current Parameter i = 2 Value, 223276.5142801819LL173974.39730942014\n",
        "Proposed Parameter i = 2 Value = 55854.01245438637LL = 173974.39730942014\n",
        "Current Parameter i = 2 Value, 223276.5142801819LL173974.39730942014\n",
        "Proposed Parameter i = 2 Value = 55854.01245438637LL = 173974.39730942014\n",
        "Current Parameter i = "
       ]
      },
      {
       "output_type": "stream",
       "stream": "stdout",
       "text": [
        "2 Value, 223276.5142801819LL173974.39730942014\n",
        "Proposed Parameter i = 2 Value = 55854.01245438637LL = 173974.39730942014\n",
        "Current Parameter i = 2 Value, 223276.5142801819LL173974.39730942014\n",
        "Proposed Parameter i = 2 Value = 55854.01245438637LL = 173974.39730942014\n",
        "Current Parameter i = 2 Value, 223276.5142801819LL173974.39730942014\n",
        "Proposed Parameter i = 2 Value = 55854.01245438637LL = 173974.39730942014\n",
        "Current Parameter i = 2 Value, 223276.5142801819LL173974.39730942014\n",
        "Proposed Parameter i = 2 Value = 55854.01245438637LL = 173974.39730942014\n",
        "Current Parameter i = "
       ]
      },
      {
       "output_type": "stream",
       "stream": "stdout",
       "text": [
        "2 Value, 49745.30877644065LL173974.39730942014\n",
        "Proposed Parameter i = 2 Value = 55854.01245438637LL = 173974.39730942014\n",
        "Current Parameter i = 2 Value, 49745.30877644065LL173974.39730942014\n",
        "Proposed Parameter i = 2 Value = 55854.01245438637LL = 173974.39730942014\n",
        "Current Parameter i = 2 Value, 49745.30877644065LL173974.39730942014\n",
        "Proposed Parameter i = 2 Value = 55854.01245438637LL = 173974.39730942014\n",
        "Current Parameter i = 2 Value, 49745.30877644065LL173974.39730942014\n",
        "Proposed Parameter i = 2 Value = 55854.01245438637LL = 173974.39730942014\n",
        "Current Parameter i = "
       ]
      },
      {
       "output_type": "stream",
       "stream": "stdout",
       "text": [
        "2 Value, 49745.30877644065LL173974.39730942014\n",
        "Proposed Parameter i = 2 Value = 55854.01245438637LL = 173974.39730942014\n",
        "Current Parameter i = 2 Value, 49745.30877644065LL173974.39730942014\n",
        "Proposed Parameter i = 2 Value = 55854.01245438637LL = 173974.39730942014\n",
        "Current Parameter i = 2 Value, 49745.30877644065LL173974.39730942014\n",
        "Proposed Parameter i = 2 Value = 55854.01245438637LL = 173974.39730942014\n",
        "Current Parameter i = "
       ]
      },
      {
       "output_type": "stream",
       "stream": "stdout",
       "text": [
        "2 Value, 49745.30877644065LL173974.39730942014\n",
        "Proposed Parameter i = 2 Value = 55854.01245438637LL = 173974.39730942014\n",
        "Current Parameter i = 2 Value, 49745.30877644065LL173974.39730942014\n",
        "Proposed Parameter i = 2 Value = 55854.01245438637LL = 173974.39730942014\n",
        "Current Parameter i = 2 Value, 49745.30877644065LL173974.39730942014\n",
        "Proposed Parameter i = 2 Value = 55854.01245438637LL = 173974.39730942014\n",
        "Current Parameter i = "
       ]
      },
      {
       "output_type": "stream",
       "stream": "stdout",
       "text": [
        "2 Value, 24644.93119739446LL173974.39730942014\n",
        "Proposed Parameter i = 2 Value = 55854.01245438637LL = 173974.39730942014\n",
        "Current Parameter i = 2 Value, 24644.93119739446LL173974.39730942014\n",
        "Proposed Parameter i = 2 Value = 55854.01245438637LL = 173974.39730942014\n",
        "Current Parameter i = 2 Value, 24644.93119739446LL173974.39730942014\n",
        "Proposed Parameter i = 2 Value = 55854.01245438637LL = 173974.39730942014\n",
        "Current Parameter i = 2 Value, 24644.93119739446LL173974.39730942014\n",
        "Proposed Parameter i = 2 Value = 55854.01245438637LL = 173974.39730942014\n",
        "Current Parameter i = "
       ]
      },
      {
       "output_type": "stream",
       "stream": "stdout",
       "text": [
        "2 Value, 24644.93119739446LL173974.39730942014\n",
        "Proposed Parameter i = 2 Value = 55854.01245438637LL = 173974.39730942014\n",
        "Current Parameter i = 2 Value, 24644.93119739446LL173974.39730942014\n",
        "Proposed Parameter i = 2 Value = 55854.01245438637LL = 173974.39730942014\n",
        "Current Parameter i = 2 Value, 24644.93119739446LL173974.39730942014\n",
        "Proposed Parameter i = 2 Value = 55854.01245438637LL = 173974.39730942014\n",
        "Current Parameter i = "
       ]
      },
      {
       "output_type": "stream",
       "stream": "stdout",
       "text": [
        "2 Value, 24644.93119739446LL173974.39730942014\n",
        "Proposed Parameter i = 2 Value = 55854.01245438637LL = 173974.39730942014\n",
        "Current Parameter i = 2 Value, 24644.93119739446LL173974.39730942014\n",
        "Proposed Parameter i = 2 Value = 55854.01245438637LL = 173974.39730942014\n",
        "Current Parameter i = 2 Value, 24644.93119739446LL173974.39730942014\n",
        "Proposed Parameter i = 2 Value = 55854.01245438637LL = 173974.39730942014\n",
        "Current Parameter i = "
       ]
      },
      {
       "output_type": "stream",
       "stream": "stdout",
       "text": [
        "2 Value, 9774.813646800158LL173974.39730942014\n",
        "Proposed Parameter i = 2 Value = 55854.01245438637LL = 173974.39730942014\n",
        "Current Parameter i = 2 Value, 9774.813646800158LL173974.39730942014\n",
        "Proposed Parameter i = 2 Value = 55854.01245438637LL = 173974.39730942014\n",
        "Current Parameter i = 2 Value, 9774.813646800158LL173974.39730942014\n",
        "Proposed Parameter i = 2 Value = 55854.01245438637LL = 173974.39730942014\n",
        "Current Parameter i = "
       ]
      },
      {
       "output_type": "stream",
       "stream": "stdout",
       "text": [
        "2 Value, 9774.813646800158LL173974.39730942014\n",
        "Proposed Parameter i = 2 Value = 55854.01245438637LL = 173974.39730942014\n",
        "Current Parameter i = 2 Value, 9774.813646800158LL173974.39730942014\n",
        "Proposed Parameter i = 2 Value = 55854.01245438637LL = 173974.39730942014\n",
        "Current Parameter i = 2 Value, 9774.813646800158LL173974.39730942014\n",
        "Proposed Parameter i = 2 Value = 55854.01245438637LL = 173974.39730942014\n",
        "Current Parameter i = "
       ]
      },
      {
       "output_type": "stream",
       "stream": "stdout",
       "text": [
        "2 Value, 9774.813646800158LL173974.39730942014\n",
        "Proposed Parameter i = 2 Value = 55854.01245438637LL = 173974.39730942014\n",
        "Current Parameter i = 2 Value, 9774.813646800158LL173974.39730942014\n",
        "Proposed Parameter i = 2 Value = 55854.01245438637LL = 173974.39730942014\n",
        "Current Parameter i = 2 Value, 9774.813646800158LL173974.39730942014\n",
        "Proposed Parameter i = 2 Value = 55854.01245438637LL = 173974.39730942014\n",
        "Current Parameter i = "
       ]
      },
      {
       "output_type": "stream",
       "stream": "stdout",
       "text": [
        "2 Value, 9774.813646800158LL173974.39730942014\n",
        "Proposed Parameter i = 2 Value = 55854.01245438637LL = 173974.39730942014\n",
        "Current Parameter i = 2 Value, 6047.070567244664LL173974.39730942014\n",
        "Proposed Parameter i = 2 Value = 55854.01245438637LL = 173974.39730942014\n",
        "Current Parameter i = 2 Value, 6047.070567244664LL173974.39730942014\n",
        "Proposed Parameter i = 2 Value = 55854.01245438637LL = 173974.39730942014\n",
        "Current Parameter i = 2 Value, 6047.070567244664LL173974.39730942014\n",
        "Proposed Parameter i = 2 Value = 55854.01245438637LL = 173974.39730942014\n",
        "Current Parameter i = "
       ]
      },
      {
       "output_type": "stream",
       "stream": "stdout",
       "text": [
        "2 Value, 6047.070567244664LL173974.39730942014\n",
        "Proposed Parameter i = 2 Value = 55854.01245438637LL = 173974.39730942014\n",
        "Current Parameter i = 2 Value, 6047.070567244664LL173974.39730942014\n",
        "Proposed Parameter i = 2 Value = 55854.01245438637LL = 173974.39730942014\n",
        "Current Parameter i = 2 Value, 6047.070567244664LL173974.39730942014\n",
        "Proposed Parameter i = 2 Value = 55854.01245438637LL = 173974.39730942014\n",
        "Current Parameter i = 2 Value, 6047.070567244664LL173974.39730942014\n",
        "Proposed Parameter i = 2 Value = 55854.01245438637LL = 173974.39730942014\n",
        "Current Parameter i = "
       ]
      },
      {
       "output_type": "stream",
       "stream": "stdout",
       "text": [
        "2 Value, 6047.070567244664LL173974.39730942014\n",
        "Proposed Parameter i = 2 Value = 55854.01245438637LL = 173974.39730942014\n",
        "Current Parameter i = 2 Value, 6047.070567244664LL173974.39730942014\n",
        "Proposed Parameter i = 2 Value = 55854.01245438637LL = 173974.39730942014\n",
        "Current Parameter i = 2 Value, 6047.070567244664LL173974.39730942014\n",
        "Proposed Parameter i = 2 Value = 55854.01245438637LL = 173974.39730942014\n",
        "Current Parameter i = 2 Value, 6099.170934118589LL173974.39730942014\n",
        "Proposed Parameter i = 2 Value = 55854.01245438637LL = 173974.39730942014\n",
        "Current Parameter i = "
       ]
      },
      {
       "output_type": "stream",
       "stream": "stdout",
       "text": [
        "2 Value, 6099.170934118589LL173974.39730942014\n",
        "Proposed Parameter i = 2 Value = 55854.01245438637LL = 173974.39730942014\n",
        "Current Parameter i = 2 Value, 6099.170934118589LL173974.39730942014\n",
        "Proposed Parameter i = 2 Value = 55854.01245438637LL = 173974.39730942014\n",
        "Current Parameter i = 2 Value, 6099.170934118589LL173974.39730942014\n",
        "Proposed Parameter i = 2 Value = 55854.01245438637LL = 173974.39730942014\n",
        "Current Parameter i = "
       ]
      },
      {
       "output_type": "stream",
       "stream": "stdout",
       "text": [
        "2 Value, 6099.170934118589LL173974.39730942014\n",
        "Proposed Parameter i = 2 Value = 55854.01245438637LL = 173974.39730942014\n",
        "Current Parameter i = 2 Value, 6099.170934118589LL173974.39730942014\n",
        "Proposed Parameter i = 2 Value = 55854.01245438637LL = 173974.39730942014\n",
        "Current Parameter i = 2 Value, 6099.170934118589LL173974.39730942014\n",
        "Proposed Parameter i = 2 Value = 55854.01245438637LL = 173974.39730942014\n",
        "Current Parameter i = "
       ]
      },
      {
       "output_type": "stream",
       "stream": "stdout",
       "text": [
        "2 Value, 6099.170934118589LL173974.39730942014\n",
        "Proposed Parameter i = 2 Value = 55854.01245438637LL = 173974.39730942014\n",
        "Current Parameter i = 2 Value, 6099.170934118589LL173974.39730942014\n",
        "Proposed Parameter i = 2 Value = 55854.01245438637LL = 173974.39730942014\n",
        "Current Parameter i = 2 Value, 6099.170934118589LL173974.39730942014\n",
        "Proposed Parameter i = 2 Value = 55854.01245438637LL = 173974.39730942014\n",
        "Current Parameter i = 2 Value, 24484.368258835944LL173974.39730942014\n",
        "Proposed Parameter i = 2 Value = 55854.01245438637LL = 173974.39730942014\n",
        "Current Parameter i = "
       ]
      },
      {
       "output_type": "stream",
       "stream": "stdout",
       "text": [
        "2 Value, 24484.368258835944LL173974.39730942014\n",
        "Proposed Parameter i = 2 Value = 55854.01245438637LL = 173974.39730942014\n",
        "Current Parameter i = 2 Value, 24484.368258835944LL173974.39730942014\n",
        "Proposed Parameter i = 2 Value = 55854.01245438637LL = 173974.39730942014\n",
        "Current Parameter i = 2 Value, 24484.368258835944LL173974.39730942014\n",
        "Proposed Parameter i = 2 Value = 55854.01245438637LL = 173974.39730942014\n",
        "Current Parameter i = 2 Value, 24484.368258835944LL173974.39730942014\n",
        "Proposed Parameter i = 2 Value = 55854.01245438637LL = 173974.39730942014\n",
        "Current Parameter i = "
       ]
      },
      {
       "output_type": "stream",
       "stream": "stdout",
       "text": [
        "2 Value, 24484.368258835944LL173974.39730942014\n",
        "Proposed Parameter i = 2 Value = 55854.01245438637LL = 173974.39730942014\n",
        "Current Parameter i = 2 Value, 24484.368258835944LL173974.39730942014\n",
        "Proposed Parameter i = 2 Value = 55854.01245438637LL = 173974.39730942014\n",
        "Current Parameter i = 2 Value, 24484.368258835944LL173974.39730942014\n",
        "Proposed Parameter i = 2 Value = 55854.01245438637LL = 173974.39730942014\n",
        "Current Parameter i = "
       ]
      },
      {
       "output_type": "stream",
       "stream": "stdout",
       "text": [
        "2 Value, 24484.368258835944LL173974.39730942014\n",
        "Proposed Parameter i = 2 Value = 55854.01245438637LL = 173974.39730942014\n",
        "Current Parameter i = 2 Value, 24484.368258835944LL173974.39730942014\n",
        "Proposed Parameter i = 2 Value = 55854.01245438637LL = 173974.39730942014\n",
        "Current Parameter i = 2 Value, 9029.457542076047LL173974.39730942014\n",
        "Proposed Parameter i = 2 Value = 55854.01245438637LL = 173974.39730942014\n",
        "Current Parameter i = 2 Value, 9029.457542076047LL173974.39730942014\n",
        "Proposed Parameter i = 2 Value = 55854.01245438637LL = 173974.39730942014\n",
        "Current Parameter i = "
       ]
      },
      {
       "output_type": "stream",
       "stream": "stdout",
       "text": [
        "2 Value, 9029.457542076047LL173974.39730942014\n",
        "Proposed Parameter i = 2 Value = 55854.01245438637LL = 173974.39730942014\n",
        "Current Parameter i = 2 Value, 9029.457542076047LL173974.39730942014\n",
        "Proposed Parameter i = 2 Value = 55854.01245438637LL = 173974.39730942014\n",
        "Current Parameter i = 2 Value, 9029.457542076047LL173974.39730942014\n",
        "Proposed Parameter i = 2 Value = 55854.01245438637LL = 173974.39730942014\n",
        "Current Parameter i = 2 Value, 9029.457542076047LL173974.39730942014\n",
        "Proposed Parameter i = 2 Value = 55854.01245438637LL = 173974.39730942014\n",
        "Current Parameter i = "
       ]
      },
      {
       "output_type": "stream",
       "stream": "stdout",
       "text": [
        "2 Value, 9029.457542076047LL173974.39730942014\n",
        "Proposed Parameter i = 2 Value = 55854.01245438637LL = 173974.39730942014\n",
        "Current Parameter i = 2 Value, 9029.457542076047LL173974.39730942014\n",
        "Proposed Parameter i = 2 Value = 55854.01245438637LL = 173974.39730942014\n",
        "Current Parameter i = 2 Value, 9029.457542076047LL173974.39730942014\n",
        "Proposed Parameter i = 2 Value = 55854.01245438637LL = 173974.39730942014\n",
        "Current Parameter i = 2 Value, 9029.457542076047LL173974.39730942014\n",
        "Proposed Parameter i = 2 Value = 55854.01245438637LL = 173974.39730942014\n",
        "Current Parameter i = "
       ]
      },
      {
       "output_type": "stream",
       "stream": "stdout",
       "text": [
        "2 Value, 83612.92486934268LL173974.39730942014\n",
        "Proposed Parameter i = 2 Value = 55854.01245438637LL = 173974.39730942014\n",
        "Current Parameter i = 2 Value, 83612.92486934268LL173974.39730942014\n",
        "Proposed Parameter i = 2 Value = 55854.01245438637LL = 173974.39730942014\n",
        "Current Parameter i = 2 Value, 83612.92486934268LL173974.39730942014\n",
        "Proposed Parameter i = 2 Value = 55854.01245438637LL = 173974.39730942014\n",
        "Current Parameter i = "
       ]
      },
      {
       "output_type": "stream",
       "stream": "stdout",
       "text": [
        "2 Value, 83612.92486934268LL173974.39730942014\n",
        "Proposed Parameter i = 2 Value = 55854.01245438637LL = 173974.39730942014\n",
        "Current Parameter i = 2 Value, 83612.92486934268LL173974.39730942014\n",
        "Proposed Parameter i = 2 Value = 55854.01245438637LL = 173974.39730942014\n",
        "Current Parameter i = 2 Value, 83612.92486934268LL173974.39730942014\n",
        "Proposed Parameter i = 2 Value = 55854.01245438637LL = 173974.39730942014\n",
        "Current Parameter i = 2 Value, 83612.92486934268LL173974.39730942014\n",
        "Proposed Parameter i = 2 Value = 55854.01245438637LL = 173974.39730942014\n",
        "Current Parameter i = "
       ]
      },
      {
       "output_type": "stream",
       "stream": "stdout",
       "text": [
        "2 Value, 83612.92486934268LL173974.39730942014\n",
        "Proposed Parameter i = 2 Value = 55854.01245438637LL = 173974.39730942014\n",
        "Current Parameter i = 2 Value, 83612.92486934268LL173974.39730942014\n",
        "Proposed Parameter i = 2 Value = 55854.01245438637LL = 173974.39730942014\n",
        "Current Parameter i = 2 Value, 83612.92486934268LL173974.39730942014\n",
        "Proposed Parameter i = 2 Value = 55854.01245438637LL = 173974.39730942014\n",
        "Current Parameter i = 2 Value, 94789.29289589718LL173974.39730942014\n",
        "Proposed Parameter i = 2 Value = 55854.01245438637LL = 173974.39730942014\n",
        "Current Parameter i = "
       ]
      },
      {
       "output_type": "stream",
       "stream": "stdout",
       "text": [
        "2 Value, 94789.29289589718LL173974.39730942014\n",
        "Proposed Parameter i = 2 Value = 55854.01245438637LL = 173974.39730942014\n",
        "Current Parameter i = 2 Value, 94789.29289589718LL173974.39730942014\n",
        "Proposed Parameter i = 2 Value = 55854.01245438637LL = 173974.39730942014\n",
        "Current Parameter i = 2 Value, 94789.29289589718LL173974.39730942014\n",
        "Proposed Parameter i = 2 Value = 55854.01245438637LL = 173974.39730942014\n",
        "Current Parameter i = "
       ]
      },
      {
       "output_type": "stream",
       "stream": "stdout",
       "text": [
        "2 Value, 94789.29289589718LL173974.39730942014\n",
        "Proposed Parameter i = 2 Value = 55854.01245438637LL = 173974.39730942014\n",
        "Current Parameter i = 2 Value, 94789.29289589718LL173974.39730942014\n",
        "Proposed Parameter i = 2 Value = 55854.01245438637LL = 173974.39730942014\n",
        "Current Parameter i = 2 Value, 94789.29289589718LL173974.39730942014\n",
        "Proposed Parameter i = 2 Value = 55854.01245438637LL = 173974.39730942014\n",
        "Current Parameter i = "
       ]
      },
      {
       "output_type": "stream",
       "stream": "stdout",
       "text": [
        "2 Value, 94789.29289589718LL173974.39730942014\n",
        "Proposed Parameter i = 2 Value = 55854.01245438637LL = 173974.39730942014\n",
        "Current Parameter i = 2 Value, 94789.29289589718LL173974.39730942014\n",
        "Proposed Parameter i = 2 Value = 55854.01245438637LL = 173974.39730942014\n",
        "Current Parameter i = 2 Value, 94789.29289589718LL173974.39730942014\n",
        "Proposed Parameter i = 2 Value = 55854.01245438637LL = 173974.39730942014\n",
        "Current Parameter i = "
       ]
      },
      {
       "output_type": "stream",
       "stream": "stdout",
       "text": [
        "2 Value, 13865.002341699823LL173974.39730942014\n",
        "Proposed Parameter i = 2 Value = 55854.01245438637LL = 173974.39730942014\n",
        "Current Parameter i = 2 Value, 13865.002341699823LL173974.39730942014\n",
        "Proposed Parameter i = 2 Value = 55854.01245438637LL = 173974.39730942014\n",
        "Current Parameter i = 2 Value, 13865.002341699823LL173974.39730942014\n",
        "Proposed Parameter i = 2 Value = 55854.01245438637LL = 173974.39730942014\n",
        "Current Parameter i = 2 Value, 13865.002341699823LL173974.39730942014\n",
        "Proposed Parameter i = 2 Value = 55854.01245438637LL = 173974.39730942014\n",
        "Current Parameter i = 2 Value, 13865.002341699823LL173974.39730942014\n",
        "Proposed Parameter i = 2 Value = 55854.01245438637LL = 173974.39730942014\n",
        "Current Parameter i = 2 Value, 13865.002341699823LL173974.39730942014\n",
        "Proposed Parameter i = 2 Value = 55854.01245438637LL = 173974.39730942014\n",
        "Current Parameter i = 2 Value, 13865.002341699823LL173974.39730942014\n",
        "Proposed Parameter i = 2 Value = 55854.01245438637LL = 173974.39730942014\n",
        "Current Parameter i = 2 Value, 13865.002341699823LL173974.39730942014\n",
        "Proposed Parameter i = 2 Value = 55854.01245438637LL = 173974.39730942014\n",
        "Current Parameter i = 2 Value, 13865.002341699823LL173974.39730942014\n",
        "Proposed Parameter i = 2 Value = 55854.01245438637LL = 173974.39730942014\n",
        "Current Parameter i = 2 Value, 13865.002341699823LL173974.39730942014\n",
        "Proposed Parameter i = 2 Value = 55854.01245438637LL = 173974.39730942014\n",
        "Current Parameter i = 2 Value, 747124.2317007424LL173974.39730942014\n",
        "Proposed Parameter i = 2 Value = 55854.01245438637LL = 173974.39730942014\n",
        "Current Parameter i = 2 Value, 747124.2317007424LL173974.39730942014\n",
        "Proposed Parameter i = 2 Value = 55854.01245438637LL = 173974.39730942014\n",
        "Current Parameter i = 2 Value, 747124.2317007424LL173974.39730942014\n",
        "Proposed Parameter i = 2 Value = 55854.01245438637LL = 173974.39730942014\n",
        "Current Parameter i = 2 Value, 747124.2317007424LL173974.39730942014\n",
        "Proposed Parameter i = 2 Value = 55854.01245438637LL = 173974.39730942014\n",
        "Current Parameter i = "
       ]
      },
      {
       "output_type": "stream",
       "stream": "stdout",
       "text": [
        "2 Value, 747124.2317007424LL173974.39730942014\n",
        "Proposed Parameter i = 2 Value = 55854.01245438637LL = 173974.39730942014\n",
        "Current Parameter i = 2 Value, 747124.2317007424LL173974.39730942014\n",
        "Proposed Parameter i = 2 Value = 55854.01245438637LL = 173974.39730942014\n",
        "Current Parameter i = 2 Value, 747124.2317007424LL173974.39730942014\n",
        "Proposed Parameter i = 2 Value = 55854.01245438637LL = 173974.39730942014\n",
        "Current Parameter i = "
       ]
      },
      {
       "output_type": "stream",
       "stream": "stdout",
       "text": [
        "2 Value, 747124.2317007424LL173974.39730942014\n",
        "Proposed Parameter i = 2 Value = 55854.01245438637LL = 173974.39730942014\n",
        "Current Parameter i = 2 Value, 747124.2317007424LL173974.39730942014\n",
        "Proposed Parameter i = 2 Value = 55854.01245438637LL = 173974.39730942014\n",
        "Current Parameter i = 2 Value, 747124.2317007424LL173974.39730942014\n",
        "Proposed Parameter i = 2 Value = 55854.01245438637LL = 173974.39730942014\n",
        "Current Parameter i = 2 Value, 118786.20876532087LL173974.39730942014\n",
        "Proposed Parameter i = 2 Value = 55854.01245438637LL = 173974.39730942014\n",
        "Current Parameter i = "
       ]
      },
      {
       "output_type": "stream",
       "stream": "stdout",
       "text": [
        "2 Value, 118786.20876532087LL173974.39730942014\n",
        "Proposed Parameter i = 2 Value = 55854.01245438637LL = 173974.39730942014\n",
        "Current Parameter i = 2 Value, 118786.20876532087LL173974.39730942014\n",
        "Proposed Parameter i = 2 Value = 55854.01245438637LL = 173974.39730942014\n",
        "Current Parameter i = 2 Value, 118786.20876532087LL173974.39730942014\n",
        "Proposed Parameter i = 2 Value = 55854.01245438637LL = 173974.39730942014\n",
        "Current Parameter i = "
       ]
      },
      {
       "output_type": "stream",
       "stream": "stdout",
       "text": [
        "2 Value, 118786.20876532087LL173974.39730942014\n",
        "Proposed Parameter i = 2 Value = 55854.01245438637LL = 173974.39730942014\n",
        "Current Parameter i = 2 Value, 118786.20876532087LL173974.39730942014\n",
        "Proposed Parameter i = 2 Value = 55854.01245438637LL = 173974.39730942014\n",
        "Current Parameter i = 2 Value, 118786.20876532087LL173974.39730942014\n",
        "Proposed Parameter i = 2 Value = 55854.01245438637LL = 173974.39730942014\n",
        "Current Parameter i = 2 Value, 118786.20876532087LL173974.39730942014\n",
        "Proposed Parameter i = "
       ]
      },
      {
       "output_type": "stream",
       "stream": "stdout",
       "text": [
        "2 Value = 55854.01245438637LL = 173974.39730942014\n",
        "Current Parameter i = 2 Value, 118786.20876532087LL173974.39730942014\n",
        "Proposed Parameter i = 2 Value = 55854.01245438637LL = 173974.39730942014\n",
        "Current Parameter i = 2 Value, 118786.20876532087LL173974.39730942014\n",
        "Proposed Parameter i = 2 Value = 55854.01245438637LL = 173974.39730942014\n",
        "Current Parameter i = "
       ]
      },
      {
       "output_type": "stream",
       "stream": "stdout",
       "text": [
        "2 Value, 82823.57102249924LL173974.39730942014\n",
        "Proposed Parameter i = 2 Value = 55854.01245438637LL = 173974.39730942014\n",
        "Current Parameter i = 2 Value, 82823.57102249924LL173974.39730942014\n",
        "Proposed Parameter i = 2 Value = 55854.01245438637LL = 173974.39730942014\n",
        "Current Parameter i = 2 Value, 82823.57102249924LL173974.39730942014\n",
        "Proposed Parameter i = 2 Value = 55854.01245438637LL = 173974.39730942014\n",
        "Current Parameter i = "
       ]
      },
      {
       "output_type": "stream",
       "stream": "stdout",
       "text": [
        "2 Value, 82823.57102249924LL173974.39730942014\n",
        "Proposed Parameter i = 2 Value = 55854.01245438637LL = 173974.39730942014\n",
        "Current Parameter i = 2 Value, 82823.57102249924LL173974.39730942014\n",
        "Proposed Parameter i = 2 Value = 55854.01245438637LL = 173974.39730942014\n",
        "Current Parameter i = 2 Value, 82823.57102249924LL173974.39730942014\n",
        "Proposed Parameter i = 2 Value = 55854.01245438637LL = 173974.39730942014\n",
        "Current Parameter i = "
       ]
      },
      {
       "output_type": "stream",
       "stream": "stdout",
       "text": [
        "2 Value, 82823.57102249924LL173974.39730942014\n",
        "Proposed Parameter i = 2 Value = 55854.01245438637LL = 173974.39730942014\n",
        "Current Parameter i = 2 Value, 82823.57102249924LL173974.39730942014\n",
        "Proposed Parameter i = 2 Value = 55854.01245438637LL = 173974.39730942014\n",
        "Current Parameter i = 2 Value, 82823.57102249924LL173974.39730942014\n",
        "Proposed Parameter i = 2 Value = 55854.01245438637LL = 173974.39730942014\n",
        "Current Parameter i = "
       ]
      },
      {
       "output_type": "stream",
       "stream": "stdout",
       "text": [
        "2 Value, 82823.57102249924LL173974.39730942014\n",
        "Proposed Parameter i = 2 Value = 55854.01245438637LL = 173974.39730942014\n",
        "Current Parameter i = 2 Value, 9566.1248871797LL173974.39730942014\n",
        "Proposed Parameter i = 2 Value = 55854.01245438637LL = 173974.39730942014\n",
        "Current Parameter i = 2 Value, 9566.1248871797LL173974.39730942014\n",
        "Proposed Parameter i = 2 Value = 55854.01245438637LL = 173974.39730942014\n",
        "Current Parameter i = 2 Value, 9566.1248871797LL173974.39730942014\n",
        "Proposed Parameter i = 2 Value = 55854.01245438637LL = 173974.39730942014\n",
        "Current Parameter i = 2 Value, 9566.1248871797LL173974.39730942014\n",
        "Proposed Parameter i = 2 Value = 55854.01245438637LL = 173974.39730942014\n",
        "Current Parameter i = 2 Value, 9566.1248871797LL173974.39730942014\n",
        "Proposed Parameter i = 2 Value = 55854.01245438637LL = 173974.39730942014\n",
        "Current Parameter i = 2 Value, 9566.1248871797LL173974.39730942014\n",
        "Proposed Parameter i = 2 Value = 55854.01245438637LL = 173974.39730942014\n",
        "Current Parameter i = 2 Value, 9566.1248871797LL173974.39730942014\n",
        "Proposed Parameter i = 2 Value = 55854.01245438637LL = 173974.39730942014\n",
        "Current Parameter i = 2 Value, 9566.1248871797LL173974.39730942014\n",
        "Proposed Parameter i = 2 Value = 55854.01245438637LL = 173974.39730942014\n",
        "Current Parameter i = 2 Value, 9566.1248871797LL173974.39730942014\n",
        "Proposed Parameter i = 2 Value = 55854.01245438637LL = 173974.39730942014\n",
        "Current Parameter i = 2 Value, 9566.1248871797LL173974.39730942014\n",
        "Proposed Parameter i = 2 Value = 55854.01245438637LL = 173974.39730942014\n",
        "Current Parameter i = 2 Value, 140269.56919329194LL173974.39730942014\n",
        "Proposed Parameter i = 2 Value = 55854.01245438637LL = 173974.39730942014\n",
        "Current Parameter i = 2 Value, 140269.56919329194LL173974.39730942014\n",
        "Proposed Parameter i = 2 Value = 55854.01245438637LL = 173974.39730942014\n",
        "Current Parameter i = 2 Value, 140269.56919329194LL173974.39730942014\n",
        "Proposed Parameter i = 2 Value = 55854.01245438637LL = 173974.39730942014\n",
        "Current Parameter i = 2 Value, 140269.56919329194LL173974.39730942014\n",
        "Proposed Parameter i = 2 Value = 55854.01245438637LL = 173974.39730942014\n",
        "Current Parameter i = 2 Value, 140269.56919329194LL173974.39730942014\n",
        "Proposed Parameter i = 2 Value = 55854.01245438637LL = 173974.39730942014\n",
        "Current Parameter i = 2 Value, 140269.56919329194LL173974.39730942014\n",
        "Proposed Parameter i = 2 Value = 55854.01245438637LL = 173974.39730942014\n",
        "Current Parameter i = 2 Value, 140269.56919329194LL173974.39730942014\n",
        "Proposed Parameter i = 2 Value = 55854.01245438637LL = 173974.39730942014\n",
        "Current Parameter i = 2 Value, 140269.56919329194LL173974.39730942014\n",
        "Proposed Parameter i = 2 Value = 55854.01245438637LL = 173974.39730942014\n",
        "Current Parameter i = 2 Value, 140269.56919329194LL173974.39730942014\n",
        "Proposed Parameter i = 2 Value = 55854.01245438637LL = 173974.39730942014\n",
        "Current Parameter i = 2 Value, 140269.56919329194LL173974.39730942014\n",
        "Proposed Parameter i = 2 Value = 55854.01245438637LL = 173974.39730942014\n",
        "Current Parameter i = 2 Value, 111248.1288371119LL173974.39730942014\n",
        "Proposed Parameter i = 2 Value = 55854.01245438637LL = 173974.39730942014\n",
        "Current Parameter i = 2 Value, 111248.1288371119LL173974.39730942014\n",
        "Proposed Parameter i = 2 Value = 55854.01245438637LL = 173974.39730942014\n",
        "Current Parameter i = "
       ]
      },
      {
       "output_type": "stream",
       "stream": "stdout",
       "text": [
        "2 Value, 111248.1288371119LL173974.39730942014\n",
        "Proposed Parameter i = 2 Value = 55854.01245438637LL = 173974.39730942014\n",
        "Current Parameter i = 2 Value, 111248.1288371119LL173974.39730942014\n",
        "Proposed Parameter i = 2 Value = 55854.01245438637LL = 173974.39730942014\n",
        "Current Parameter i = 2 Value, 111248.1288371119LL173974.39730942014\n",
        "Proposed Parameter i = 2 Value = 55854.01245438637LL = 173974.39730942014\n",
        "Current Parameter i = "
       ]
      },
      {
       "output_type": "stream",
       "stream": "stdout",
       "text": [
        "2 Value, 111248.1288371119LL173974.39730942014\n",
        "Proposed Parameter i = 2 Value = 55854.01245438637LL = 173974.39730942014\n",
        "Current Parameter i = 2 Value, 111248.1288371119LL173974.39730942014\n",
        "Proposed Parameter i = 2 Value = 55854.01245438637LL = 173974.39730942014\n",
        "Current Parameter i = 2 Value, 111248.1288371119LL173974.39730942014\n",
        "Proposed Parameter i = 2 Value = 55854.01245438637LL = 173974.39730942014\n",
        "Current Parameter i = "
       ]
      },
      {
       "output_type": "stream",
       "stream": "stdout",
       "text": [
        "2 Value, 111248.1288371119LL173974.39730942014\n",
        "Proposed Parameter i = 2 Value = 55854.01245438637LL = 173974.39730942014\n",
        "Current Parameter i = 2 Value, 111248.1288371119LL173974.39730942014\n",
        "Proposed Parameter i = 2 Value = 55854.01245438637LL = 173974.39730942014\n",
        "Current Parameter i = 2 Value, 230863.61608056835LL173974.39730942014\n",
        "Proposed Parameter i = 2 Value = 55854.01245438637LL = 173974.39730942014\n",
        "Current Parameter i = 2 Value, 230863.61608056835LL173974.39730942014\n",
        "Proposed Parameter i = 2 Value = 55854.01245438637LL = 173974.39730942014\n",
        "Current Parameter i = "
       ]
      },
      {
       "output_type": "stream",
       "stream": "stdout",
       "text": [
        "2 Value, 230863.61608056835LL173974.39730942014\n",
        "Proposed Parameter i = 2 Value = 55854.01245438637LL = 173974.39730942014\n",
        "Current Parameter i = 2 Value, 230863.61608056835LL173974.39730942014\n",
        "Proposed Parameter i = 2 Value = 55854.01245438637LL = 173974.39730942014\n",
        "Current Parameter i = 2 Value, 230863.61608056835LL173974.39730942014\n",
        "Proposed Parameter i = 2 Value = 55854.01245438637LL = 173974.39730942014\n",
        "Current Parameter i = 2 Value, 230863.61608056835LL173974.39730942014\n",
        "Proposed Parameter i = 2 Value = 55854.01245438637LL = 173974.39730942014\n",
        "Current Parameter i = "
       ]
      },
      {
       "output_type": "stream",
       "stream": "stdout",
       "text": [
        "2 Value, 230863.61608056835LL173974.39730942014\n",
        "Proposed Parameter i = 2 Value = 55854.01245438637LL = 173974.39730942014\n",
        "Current Parameter i = 2 Value, 230863.61608056835LL173974.39730942014\n",
        "Proposed Parameter i = 2 Value = 55854.01245438637LL = 173974.39730942014\n",
        "Current Parameter i = 2 Value, 230863.61608056835LL173974.39730942014\n",
        "Proposed Parameter i = 2 Value = 55854.01245438637LL = 173974.39730942014\n",
        "Current Parameter i = "
       ]
      },
      {
       "output_type": "stream",
       "stream": "stdout",
       "text": [
        "2 Value, 230863.61608056835LL173974.39730942014\n",
        "Proposed Parameter i = 2 Value = 55854.01245438637LL = 173974.39730942014\n",
        "Current Parameter i = 2 Value, 37746.623534426544LL173974.39730942014\n",
        "Proposed Parameter i = 2 Value = 55854.01245438637LL = 173974.39730942014\n",
        "Current Parameter i = 2 Value, 37746.623534426544LL173974.39730942014\n",
        "Proposed Parameter i = 2 Value = 55854.01245438637LL = 173974.39730942014\n",
        "Current Parameter i = "
       ]
      },
      {
       "output_type": "stream",
       "stream": "stdout",
       "text": [
        "2 Value, 37746.623534426544LL173974.39730942014\n",
        "Proposed Parameter i = 2 Value = 55854.01245438637LL = 173974.39730942014\n",
        "Current Parameter i = 2 Value, 37746.623534426544LL173974.39730942014\n",
        "Proposed Parameter i = 2 Value = 55854.01245438637LL = 173974.39730942014\n",
        "Current Parameter i = 2 Value, 37746.623534426544LL173974.39730942014\n",
        "Proposed Parameter i = 2 Value = 55854.01245438637LL = 173974.39730942014\n",
        "Current Parameter i = 2 Value, 37746.623534426544LL173974.39730942014\n",
        "Proposed Parameter i = 2 Value = 55854.01245438637LL = 173974.39730942014\n",
        "Current Parameter i = "
       ]
      },
      {
       "output_type": "stream",
       "stream": "stdout",
       "text": [
        "2 Value, 37746.623534426544LL173974.39730942014\n",
        "Proposed Parameter i = 2 Value = 55854.01245438637LL = 173974.39730942014\n",
        "Current Parameter i = 2 Value, 37746.623534426544LL173974.39730942014\n",
        "Proposed Parameter i = 2 Value = 55854.01245438637LL = 173974.39730942014\n",
        "Current Parameter i = 2 Value, 37746.623534426544LL173974.39730942014\n",
        "Proposed Parameter i = 2 Value = 55854.01245438637LL = 173974.39730942014\n",
        "Current Parameter i = 2 Value, 37746.623534426544LL173974.39730942014\n",
        "Proposed Parameter i = 2 Value = 55854.01245438637LL = 173974.39730942014\n",
        "Current Parameter i = "
       ]
      },
      {
       "output_type": "stream",
       "stream": "stdout",
       "text": [
        "2 Value, 30502.85466885225LL173974.39730942014\n",
        "Proposed Parameter i = 2 Value = 55854.01245438637LL = 173974.39730942014\n",
        "Current Parameter i = 2 Value, 30502.85466885225LL173974.39730942014\n",
        "Proposed Parameter i = 2 Value = 55854.01245438637LL = 173974.39730942014\n",
        "Current Parameter i = 2 Value, 30502.85466885225LL173974.39730942014\n",
        "Proposed Parameter i = 2 Value = 55854.01245438637LL = 173974.39730942014\n",
        "Current Parameter i = 2 Value, 30502.85466885225LL173974.39730942014\n",
        "Proposed Parameter i = 2 Value = 55854.01245438637LL = 173974.39730942014\n",
        "Current Parameter i = "
       ]
      },
      {
       "output_type": "stream",
       "stream": "stdout",
       "text": [
        "2 Value, 30502.85466885225LL173974.39730942014\n",
        "Proposed Parameter i = 2 Value = 55854.01245438637LL = 173974.39730942014\n",
        "Current Parameter i = 2 Value, 30502.85466885225LL173974.39730942014\n",
        "Proposed Parameter i = 2 Value = 55854.01245438637LL = 173974.39730942014\n",
        "Current Parameter i = 2 Value, 30502.85466885225LL173974.39730942014\n",
        "Proposed Parameter i = 2 Value = 55854.01245438637LL = 173974.39730942014\n",
        "Current Parameter i = "
       ]
      },
      {
       "output_type": "stream",
       "stream": "stdout",
       "text": [
        "2 Value, 30502.85466885225LL173974.39730942014\n",
        "Proposed Parameter i = 2 Value = 55854.01245438637LL = 173974.39730942014\n",
        "Current Parameter i = 2 Value, 30502.85466885225LL173974.39730942014\n",
        "Proposed Parameter i = 2 Value = 55854.01245438637LL = 173974.39730942014\n",
        "Current Parameter i = 2 Value, 30502.85466885225LL173974.39730942014\n",
        "Proposed Parameter i = 2 Value = 55854.01245438637LL = 173974.39730942014\n",
        "Current Parameter i = 2 Value, 18548.59546718441LL173974.39730942014\n",
        "Proposed Parameter i = 2 Value = 55854.01245438637LL = 173974.39730942014\n",
        "Current Parameter i = "
       ]
      },
      {
       "output_type": "stream",
       "stream": "stdout",
       "text": [
        "2 Value, 18548.59546718441LL173974.39730942014\n",
        "Proposed Parameter i = 2 Value = 55854.01245438637LL = 173974.39730942014\n",
        "Current Parameter i = 2 Value, 18548.59546718441LL173974.39730942014\n",
        "Proposed Parameter i = 2 Value = 55854.01245438637LL = 173974.39730942014\n",
        "Current Parameter i = 2 Value, 18548.59546718441LL173974.39730942014\n",
        "Proposed Parameter i = 2 Value = 55854.01245438637LL = 173974.39730942014\n",
        "Current Parameter i = "
       ]
      },
      {
       "output_type": "stream",
       "stream": "stdout",
       "text": [
        "2 Value, 18548.59546718441LL173974.39730942014\n",
        "Proposed Parameter i = 2 Value = 55854.01245438637LL = 173974.39730942014\n",
        "Current Parameter i = 2 Value, 18548.59546718441LL173974.39730942014\n",
        "Proposed Parameter i = 2 Value = 55854.01245438637LL = 173974.39730942014\n",
        "Current Parameter i = 2 Value, 18548.59546718441LL173974.39730942014\n",
        "Proposed Parameter i = 2 Value = 55854.01245438637LL = 173974.39730942014\n",
        "Current Parameter i = 2 Value, 18548.59546718441LL173974.39730942014\n",
        "Proposed Parameter i = 2 Value = 55854.01245438637LL = 173974.39730942014\n",
        "Current Parameter i = "
       ]
      },
      {
       "output_type": "stream",
       "stream": "stdout",
       "text": [
        "2 Value, 18548.59546718441LL173974.39730942014\n",
        "Proposed Parameter i = 2 Value = 55854.01245438637LL = 173974.39730942014\n",
        "Current Parameter i = 2 Value, 18548.59546718441LL173974.39730942014\n",
        "Proposed Parameter i = 2 Value = 55854.01245438637LL = 173974.39730942014\n",
        "Current Parameter i = 2 Value, 305932.2655146574LL173974.39730942014\n",
        "Proposed Parameter i = 2 Value = 55854.01245438637LL = 173974.39730942014\n",
        "Current Parameter i = 2 Value, 305932.2655146574LL173974.39730942014\n",
        "Proposed Parameter i = 2 Value = 55854.01245438637LL = 173974.39730942014\n",
        "Current Parameter i = "
       ]
      },
      {
       "output_type": "stream",
       "stream": "stdout",
       "text": [
        "2 Value, 305932.2655146574LL173974.39730942014\n",
        "Proposed Parameter i = 2 Value = 55854.01245438637LL = 173974.39730942014\n",
        "Current Parameter i = 2 Value, 305932.2655146574LL173974.39730942014\n",
        "Proposed Parameter i = 2 Value = 55854.01245438637LL = 173974.39730942014\n",
        "Current Parameter i = 2 Value, 305932.2655146574LL173974.39730942014\n",
        "Proposed Parameter i = 2 Value = 55854.01245438637LL = 173974.39730942014\n",
        "Current Parameter i = 2 Value, 305932.2655146574LL173974.39730942014\n",
        "Proposed Parameter i = 2 Value = 55854.01245438637LL = 173974.39730942014\n",
        "Current Parameter i = "
       ]
      },
      {
       "output_type": "stream",
       "stream": "stdout",
       "text": [
        "2 Value, 305932.2655146574LL173974.39730942014\n",
        "Proposed Parameter i = 2 Value = 55854.01245438637LL = 173974.39730942014\n",
        "Current Parameter i = 2 Value, 305932.2655146574LL173974.39730942014\n",
        "Proposed Parameter i = 2 Value = 55854.01245438637LL = 173974.39730942014\n",
        "Current Parameter i = 2 Value, 305932.2655146574LL173974.39730942014\n",
        "Proposed Parameter i = 2 Value = 55854.01245438637LL = 173974.39730942014\n",
        "Current Parameter i = "
       ]
      },
      {
       "output_type": "stream",
       "stream": "stdout",
       "text": [
        "2 Value, 305932.2655146574LL173974.39730942014\n",
        "Proposed Parameter i = 2 Value = 55854.01245438637LL = 173974.39730942014\n",
        "Current Parameter i = 2 Value, 62494.38169270738LL173974.39730942014\n",
        "Proposed Parameter i = 2 Value = 55854.01245438637LL = 173974.39730942014\n",
        "Current Parameter i = 2 Value, 62494.38169270738LL173974.39730942014\n",
        "Proposed Parameter i = 2 Value = 55854.01245438637LL = 173974.39730942014\n",
        "Current Parameter i = "
       ]
      },
      {
       "output_type": "stream",
       "stream": "stdout",
       "text": [
        "2 Value, 62494.38169270738LL173974.39730942014\n",
        "Proposed Parameter i = 2 Value = 55854.01245438637LL = 173974.39730942014\n",
        "Current Parameter i = 2 Value, 62494.38169270738LL173974.39730942014\n",
        "Proposed Parameter i = 2 Value = 55854.01245438637LL = 173974.39730942014\n",
        "Current Parameter i = 2 Value, 62494.38169270738LL173974.39730942014\n",
        "Proposed Parameter i = 2 Value = 55854.01245438637LL = 173974.39730942014\n",
        "Current Parameter i = 2 Value, 62494.38169270738LL173974.39730942014\n",
        "Proposed Parameter i = 2 Value = 55854.01245438637LL = 173974.39730942014\n",
        "Current Parameter i = "
       ]
      },
      {
       "output_type": "stream",
       "stream": "stdout",
       "text": [
        "2 Value, 62494.38169270738LL173974.39730942014\n",
        "Proposed Parameter i = 2 Value = 55854.01245438637LL = 173974.39730942014\n",
        "Current Parameter i = 2 Value, 62494.38169270738LL173974.39730942014\n",
        "Proposed Parameter i = 2 Value = 55854.01245438637LL = 173974.39730942014\n",
        "Current Parameter i = 2 Value, 62494.38169270738LL173974.39730942014\n",
        "Proposed Parameter i = 2 Value = 55854.01245438637LL = 173974.39730942014\n",
        "Current Parameter i = 2 Value, 62494.38169270738LL173974.39730942014\n",
        "Proposed Parameter i = 2 Value = 55854.01245438637LL = 173974.39730942014\n",
        "Current Parameter i = "
       ]
      },
      {
       "output_type": "stream",
       "stream": "stdout",
       "text": [
        "2 Value, 7797.131794410078LL173974.39730942014\n",
        "Proposed Parameter i = 2 Value = 55854.01245438637LL = 173974.39730942014\n",
        "Current Parameter i = 2 Value, 7797.131794410078LL173974.39730942014\n",
        "Proposed Parameter i = 2 Value = 55854.01245438637LL = 173974.39730942014\n",
        "Current Parameter i = 2 Value, 7797.131794410078LL173974.39730942014\n",
        "Proposed Parameter i = 2 Value = 55854.01245438637LL = 173974.39730942014\n",
        "Current Parameter i = 2 Value, 7797.131794410078LL173974.39730942014\n",
        "Proposed Parameter i = 2 Value = 55854.01245438637LL = 173974.39730942014\n",
        "Current Parameter i = "
       ]
      },
      {
       "output_type": "stream",
       "stream": "stdout",
       "text": [
        "2 Value, 7797.131794410078LL173974.39730942014\n",
        "Proposed Parameter i = 2 Value = 55854.01245438637LL = 173974.39730942014\n",
        "Current Parameter i = 2 Value, 7797.131794410078LL173974.39730942014\n",
        "Proposed Parameter i = 2 Value = 55854.01245438637LL = 173974.39730942014\n",
        "Current Parameter i = 2 Value, 7797.131794410078LL173974.39730942014\n",
        "Proposed Parameter i = 2 Value = 55854.01245438637LL = 173974.39730942014\n",
        "Current Parameter i = 2 Value, 7797.131794410078LL173974.39730942014\n",
        "Proposed Parameter i = 2 Value = 55854.01245438637LL = 173974.39730942014\n",
        "Current Parameter i = "
       ]
      },
      {
       "output_type": "stream",
       "stream": "stdout",
       "text": [
        "2 Value, 7797.131794410078LL173974.39730942014\n",
        "Proposed Parameter i = 2 Value = 55854.01245438637LL = 173974.39730942014\n",
        "Current Parameter i = 2 Value, 7797.131794410078LL173974.39730942014\n",
        "Proposed Parameter i = 2 Value = 55854.01245438637LL = 173974.39730942014\n",
        "Current Parameter i = 2 Value, 29951.776528339265LL173974.39730942014\n",
        "Proposed Parameter i = 2 Value = 55854.01245438637LL = 173974.39730942014\n",
        "Current Parameter i = 2 Value, 29951.776528339265LL173974.39730942014\n",
        "Proposed Parameter i = 2 Value = 55854.01245438637LL = 173974.39730942014\n",
        "Current Parameter i = "
       ]
      },
      {
       "output_type": "stream",
       "stream": "stdout",
       "text": [
        "2 Value, 29951.776528339265LL173974.39730942014\n",
        "Proposed Parameter i = 2 Value = 55854.01245438637LL = 173974.39730942014\n",
        "Current Parameter i = 2 Value, 29951.776528339265LL173974.39730942014\n",
        "Proposed Parameter i = 2 Value = 55854.01245438637LL = 173974.39730942014\n",
        "Current Parameter i = 2 Value, 29951.776528339265LL173974.39730942014\n",
        "Proposed Parameter i = 2 Value = 55854.01245438637LL = 173974.39730942014\n",
        "Current Parameter i = 2 Value, 29951.776528339265LL173974.39730942014\n",
        "Proposed Parameter i = 2 Value = 55854.01245438637LL = 173974.39730942014\n",
        "Current Parameter i = "
       ]
      },
      {
       "output_type": "stream",
       "stream": "stdout",
       "text": [
        "2 Value, 29951.776528339265LL173974.39730942014\n",
        "Proposed Parameter i = 2 Value = 55854.01245438637LL = 173974.39730942014\n",
        "Current Parameter i = 2 Value, 29951.776528339265LL173974.39730942014\n",
        "Proposed Parameter i = 2 Value = 55854.01245438637LL = 173974.39730942014\n",
        "Current Parameter i = 2 Value, 29951.776528339265LL173974.39730942014\n",
        "Proposed Parameter i = 2 Value = 55854.01245438637LL = 173974.39730942014\n",
        "100\n",
        "LL = 173974.39730942014\n",
        "Param values 2806.9736553102184,55854.01245438637,229731.4181357707,6.460420037947477,7375.547904001896,11.28477897561343,1.3248526043765607e8,9274.926971551782,1195.352516480997,1.345936647551443e8\n",
        "Local Acceptance Rate for parameter 1 = 0.04Shrinking StepSize to 0.9\n",
        "Local Acceptance Rate for parameter 2 = 0.04Shrinking StepSize to 0.9\n",
        "Local Acceptance Rate for parameter 3 = 0.04Shrinking StepSize to 0.9\n",
        "Local Acceptance Rate for parameter 4 = 0.04Shrinking StepSize to 0.9\n",
        "Local Acceptance Rate for parameter 5 = 0.04Shrinking StepSize to 0.9\n",
        "Local Acceptance Rate for parameter 6 = 0.04Shrinking StepSize to 0.9\n",
        "Local Acceptance Rate for parameter 7 = 0.04Shrinking StepSize to 0.9\n",
        "Local Acceptance Rate for parameter 8 = 0.04Shrinking StepSize to 0.9\n",
        "Local Acceptance Rate for parameter 9 = 0.04Shrinking StepSize to 0.9\n",
        "Local Acceptance Rate for parameter 10 = 0.04Shrinking StepSize to 0.9\n",
        "Current Parameter i = "
       ]
      },
      {
       "output_type": "stream",
       "stream": "stdout",
       "text": [
        "2 Value, 29951.776528339265LL173974.39730942014\n",
        "Proposed Parameter i = 2 Value = 55854.01245438637LL = 173974.39730942014\n",
        "Current Parameter i = 2 Value, 45289.147949149374LL173974.39730942014\n",
        "Proposed Parameter i = 2 Value = 55854.01245438637LL = 173974.39730942014\n",
        "Current Parameter i = 2 Value, 45289.147949149374LL173974.39730942014\n",
        "Proposed Parameter i = 2 Value = 55854.01245438637LL = 173974.39730942014\n",
        "Current Parameter i = 2 Value, 45289.147949149374LL173974.39730942014\n",
        "Proposed Parameter i = 2 Value = 55854.01245438637LL = 173974.39730942014\n",
        "Current Parameter i = "
       ]
      },
      {
       "output_type": "stream",
       "stream": "stdout",
       "text": [
        "2 Value, 45289.147949149374LL173974.39730942014\n",
        "Proposed Parameter i = 2 Value = 55854.01245438637LL = 173974.39730942014\n",
        "Current Parameter i = 2 Value, 45289.147949149374LL173974.39730942014\n",
        "Proposed Parameter i = 2 Value = 55854.01245438637LL = 173974.39730942014\n",
        "Current Parameter i = 2 Value, 45289.147949149374LL173974.39730942014\n",
        "Proposed Parameter i = 2 Value = 55854.01245438637LL = 173974.39730942014\n",
        "Current Parameter i = 2 Value, 45289.147949149374LL173974.39730942014\n",
        "Proposed Parameter i = 2 Value = 55854.01245438637LL = 173974.39730942014\n",
        "Current Parameter i = "
       ]
      },
      {
       "output_type": "stream",
       "stream": "stdout",
       "text": [
        "2 Value, 45289.147949149374LL173974.39730942014\n",
        "Proposed Parameter i = 2 Value = 55854.01245438637LL = 173974.39730942014\n",
        "Current Parameter i = 2 Value, 45289.147949149374LL173974.39730942014\n",
        "Proposed Parameter i = 2 Value = 55854.01245438637LL = 173974.39730942014\n",
        "Current Parameter i = 2 Value, 45289.147949149374LL173974.39730942014\n",
        "Proposed Parameter i = 2 Value = 55854.01245438637LL = 173974.39730942014\n",
        "Current Parameter i = "
       ]
      },
      {
       "output_type": "stream",
       "stream": "stdout",
       "text": [
        "2 Value, 35455.018307622224LL173974.39730942014\n",
        "Proposed Parameter i = 2 Value = 55854.01245438637LL = 173974.39730942014\n",
        "Current Parameter i = 2 Value, 35455.018307622224LL173974.39730942014\n",
        "Proposed Parameter i = 2 Value = 55854.01245438637LL = 173974.39730942014\n",
        "Current Parameter i = 2 Value, 35455.018307622224LL173974.39730942014\n",
        "Proposed Parameter i = 2 Value = 55854.01245438637LL = 173974.39730942014\n",
        "Current Parameter i = 2 Value, 35455.018307622224LL173974.39730942014\n",
        "Proposed Parameter i = 2 Value = 55854.01245438637LL = 173974.39730942014\n",
        "Current Parameter i = "
       ]
      },
      {
       "output_type": "stream",
       "stream": "stdout",
       "text": [
        "2 Value, 35455.018307622224LL173974.39730942014\n",
        "Proposed Parameter i = 2 Value = 55854.01245438637LL = 173974.39730942014\n",
        "Current Parameter i = 2 Value, 35455.018307622224LL173974.39730942014\n",
        "Proposed Parameter i = 2 Value = 55854.01245438637LL = 173974.39730942014\n",
        "Current Parameter i = 2 Value, 35455.018307622224LL173974.39730942014\n",
        "Proposed Parameter i = 2 Value = 55854.01245438637LL = 173974.39730942014\n",
        "Current Parameter i = 2 Value, 35455.018307622224LL173974.39730942014\n",
        "Proposed Parameter i = 2 Value = 55854.01245438637LL = 173974.39730942014\n",
        "Current Parameter i = "
       ]
      },
      {
       "output_type": "stream",
       "stream": "stdout",
       "text": [
        "2 Value, 35455.018307622224LL173974.39730942014\n",
        "Proposed Parameter i = 2 Value = 55854.01245438637LL = 173974.39730942014\n",
        "Current Parameter i = 2 Value, 35455.018307622224LL173974.39730942014\n",
        "Proposed Parameter i = 2 Value = 55854.01245438637LL = 173974.39730942014\n",
        "Current Parameter i = 2 Value, 14331.319897829768LL173974.39730942014\n",
        "Proposed Parameter i = 2 Value = 55854.01245438637LL = 173974.39730942014\n",
        "Current Parameter i = 2 Value, 14331.319897829768LL173974.39730942014\n",
        "Proposed Parameter i = 2 Value = 55854.01245438637LL = 173974.39730942014\n",
        "Current Parameter i = "
       ]
      },
      {
       "output_type": "stream",
       "stream": "stdout",
       "text": [
        "2 Value, 14331.319897829768LL173974.39730942014\n",
        "Proposed Parameter i = 2 Value = 55854.01245438637LL = 173974.39730942014\n",
        "Current Parameter i = 2 Value, 14331.319897829768LL173974.39730942014\n",
        "Proposed Parameter i = 2 Value = 55854.01245438637LL = 173974.39730942014\n",
        "Current Parameter i = 2 Value, 14331.319897829768LL173974.39730942014\n",
        "Proposed Parameter i = 2 Value = 55854.01245438637LL = 173974.39730942014\n",
        "Current Parameter i = 2 Value, 14331.319897829768LL173974.39730942014\n",
        "Proposed Parameter i = 2 Value = 55854.01245438637LL = 173974.39730942014\n",
        "Current Parameter i = "
       ]
      },
      {
       "output_type": "stream",
       "stream": "stdout",
       "text": [
        "2 Value, 14331.319897829768LL173974.39730942014\n",
        "Proposed Parameter i = 2 Value = 55854.01245438637LL = 173974.39730942014\n",
        "Current Parameter i = 2 Value, 14331.319897829768LL173974.39730942014\n",
        "Proposed Parameter i = 2 Value = 55854.01245438637LL = 173974.39730942014\n",
        "Current Parameter i = 2 Value, 14331.319897829768LL173974.39730942014\n",
        "Proposed Parameter i = 2 Value = 55854.01245438637LL = 173974.39730942014\n",
        "Current Parameter i = "
       ]
      },
      {
       "output_type": "stream",
       "stream": "stdout",
       "text": [
        "2 Value, 14331.319897829768LL173974.39730942014\n",
        "Proposed Parameter i = 2 Value = 55854.01245438637LL = 173974.39730942014\n",
        "Current Parameter i = 2 Value, 10220.521749410887LL173974.39730942014\n",
        "Proposed Parameter i = 2 Value = 55854.01245438637LL = 173974.39730942014\n",
        "Current Parameter i = 2 Value, 10220.521749410887LL173974.39730942014\n",
        "Proposed Parameter i = 2 Value = 55854.01245438637LL = 173974.39730942014\n",
        "Current Parameter i = 2 Value, 10220.521749410887LL173974.39730942014\n",
        "Proposed Parameter i = 2 Value = 55854.01245438637LL = 173974.39730942014\n",
        "Current Parameter i = "
       ]
      },
      {
       "output_type": "stream",
       "stream": "stdout",
       "text": [
        "2 Value, 10220.521749410887LL173974.39730942014\n",
        "Proposed Parameter i = 2 Value = 55854.01245438637LL = 173974.39730942014\n",
        "Current Parameter i = 2 Value, 10220.521749410887LL173974.39730942014\n",
        "Proposed Parameter i = 2 Value = 55854.01245438637LL = 173974.39730942014\n",
        "Current Parameter i = 2 Value, 10220.521749410887LL173974.39730942014\n",
        "Proposed Parameter i = 2 Value = 55854.01245438637LL = 173974.39730942014\n",
        "Current Parameter i = 2 Value, 10220.521749410887LL173974.39730942014\n",
        "Proposed Parameter i = 2 Value = 55854.01245438637LL = 173974.39730942014\n",
        "Current Parameter i = "
       ]
      },
      {
       "output_type": "stream",
       "stream": "stdout",
       "text": [
        "2 Value, 10220.521749410887LL173974.39730942014\n",
        "Proposed Parameter i = 2 Value = 55854.01245438637LL = 173974.39730942014\n",
        "Current Parameter i = 2 Value, 10220.521749410887LL173974.39730942014\n",
        "Proposed Parameter i = 2 Value = 55854.01245438637LL = 173974.39730942014\n",
        "Current Parameter i = 2 Value, 10220.521749410887LL173974.39730942014\n",
        "Proposed Parameter i = 2 Value = 55854.01245438637LL = 173974.39730942014\n",
        "Current Parameter i = 2 Value, 354887.3602401922LL173974.39730942014\n",
        "Proposed Parameter i = 2 Value = 55854.01245438637LL = 173974.39730942014\n",
        "Current Parameter i = "
       ]
      },
      {
       "output_type": "stream",
       "stream": "stdout",
       "text": [
        "2 Value, 354887.3602401922LL173974.39730942014\n",
        "Proposed Parameter i = 2 Value = 55854.01245438637LL = 173974.39730942014\n",
        "Current Parameter i = 2 Value, 354887.3602401922LL173974.39730942014\n",
        "Proposed Parameter i = 2 Value = 55854.01245438637LL = 173974.39730942014\n",
        "Current Parameter i = 2 Value, 354887.3602401922LL173974.39730942014\n",
        "Proposed Parameter i = 2 Value = 55854.01245438637LL = 173974.39730942014\n",
        "Current Parameter i = 2 Value, 354887.3602401922LL173974.39730942014\n",
        "Proposed Parameter i = 2 Value = 55854.01245438637LL = 173974.39730942014\n",
        "Current Parameter i = "
       ]
      },
      {
       "output_type": "stream",
       "stream": "stdout",
       "text": [
        "2 Value, 354887.3602401922LL173974.39730942014\n",
        "Proposed Parameter i = 2 Value = 55854.01245438637LL = 173974.39730942014\n",
        "Current Parameter i = 2 Value, 354887.3602401922LL173974.39730942014\n",
        "Proposed Parameter i = 2 Value = 55854.01245438637LL = 173974.39730942014\n",
        "Current Parameter i = 2 Value, 354887.3602401922LL173974.39730942014\n",
        "Proposed Parameter i = 2 Value = 55854.01245438637LL = 173974.39730942014\n",
        "Current Parameter i = 2 Value, 354887.3602401922LL173974.39730942014\n",
        "Proposed Parameter i = 2 Value = 55854.01245438637LL = 173974.39730942014\n",
        "Current Parameter i = "
       ]
      },
      {
       "output_type": "stream",
       "stream": "stdout",
       "text": [
        "2 Value, 354887.3602401922LL173974.39730942014\n",
        "Proposed Parameter i = 2 Value = 55854.01245438637LL = 173974.39730942014\n",
        "Current Parameter i = 2 Value, 223892.54495512485LL173974.39730942014\n",
        "Proposed Parameter i = 2 Value = 55854.01245438637LL = 173974.39730942014\n",
        "Current Parameter i = 2 Value, 223892.54495512485LL173974.39730942014\n",
        "Proposed Parameter i = 2 Value = 55854.01245438637LL = 173974.39730942014\n",
        "Current Parameter i = "
       ]
      },
      {
       "output_type": "stream",
       "stream": "stdout",
       "text": [
        "2 Value, 223892.54495512485LL173974.39730942014\n",
        "Proposed Parameter i = 2 Value = 55854.01245438637LL = 173974.39730942014\n",
        "Current Parameter i = 2 Value, 223892.54495512485LL173974.39730942014\n",
        "Proposed Parameter i = 2 Value = 55854.01245438637LL = 173974.39730942014\n",
        "Current Parameter i = 2 Value, 223892.54495512485LL173974.39730942014\n",
        "Proposed Parameter i = 2 Value = 55854.01245438637LL = 173974.39730942014\n",
        "Current Parameter i = 2 Value, 223892.54495512485LL173974.39730942014\n",
        "Proposed Parameter i = 2 Value = 55854.01245438637LL = 173974.39730942014\n",
        "Current Parameter i = "
       ]
      },
      {
       "output_type": "stream",
       "stream": "stdout",
       "text": [
        "2 Value, 223892.54495512485LL173974.39730942014\n",
        "Proposed Parameter i = 2 Value = 55854.01245438637LL = 173974.39730942014\n",
        "Current Parameter i = 2 Value, 223892.54495512485LL173974.39730942014\n",
        "Proposed Parameter i = 2 Value = 55854.01245438637LL = 173974.39730942014\n",
        "Current Parameter i = "
       ]
      },
      {
       "output_type": "stream",
       "stream": "stdout",
       "text": [
        "2 Value, 223892.54495512485LL173974.39730942014\n",
        "Proposed Parameter i = 2 Value = 55854.01245438637LL = 173974.39730942014\n",
        "Current Parameter i = 2 Value, 223892.54495512485LL173974.39730942014\n",
        "Proposed Parameter i = 2 Value = 55854.01245438637LL = 173974.39730942014\n",
        "Current Parameter i = 2 Value, 8217.071377550224LL173974.39730942014\n",
        "Proposed Parameter i = 2 Value = 55854.01245438637LL = 173974.39730942014\n",
        "Current Parameter i = "
       ]
      },
      {
       "output_type": "stream",
       "stream": "stdout",
       "text": [
        "2 Value, 8217.071377550224LL173974.39730942014\n",
        "Proposed Parameter i = 2 Value = 55854.01245438637LL = 173974.39730942014\n",
        "Current Parameter i = 2 Value, 8217.071377550224LL173974.39730942014\n",
        "Proposed Parameter i = 2 Value = 55854.01245438637LL = 173974.39730942014\n",
        "Current Parameter i = 2 Value, 8217.071377550224LL173974.39730942014\n",
        "Proposed Parameter i = 2 Value = 55854.01245438637LL = 173974.39730942014\n",
        "Current Parameter i = "
       ]
      },
      {
       "output_type": "stream",
       "stream": "stdout",
       "text": [
        "2 Value, 8217.071377550224LL173974.39730942014\n",
        "Proposed Parameter i = 2 Value = 55854.01245438637LL = 173974.39730942014\n",
        "Current Parameter i = 2 Value, 8217.071377550224LL173974.39730942014\n",
        "Proposed Parameter i = 2 Value = 55854.01245438637LL = 173974.39730942014\n",
        "Current Parameter i = 2 Value, 8217.071377550224LL173974.39730942014\n",
        "Proposed Parameter i = 2 Value = 55854.01245438637LL = 173974.39730942014\n",
        "Current Parameter i = "
       ]
      },
      {
       "output_type": "stream",
       "stream": "stdout",
       "text": [
        "2 Value, 8217.071377550224LL173974.39730942014\n",
        "Proposed Parameter i = 2 Value = 55854.01245438637LL = 173974.39730942014\n",
        "Current Parameter i = 2 Value, 8217.071377550224LL173974.39730942014\n",
        "Proposed Parameter i = 2 Value = 55854.01245438637LL = 173974.39730942014\n",
        "Current Parameter i = 2 Value, 8217.071377550224LL173974.39730942014\n",
        "Proposed Parameter i = 2 Value = 55854.01245438637LL = 173974.39730942014\n",
        "Current Parameter i = "
       ]
      },
      {
       "output_type": "stream",
       "stream": "stdout",
       "text": [
        "2 Value, 165984.33570734435LL173974.39730942014\n",
        "Proposed Parameter i = 2 Value = 55854.01245438637LL = 173974.39730942014\n",
        "Current Parameter i = 2 Value, 165984.33570734435LL173974.39730942014\n",
        "Proposed Parameter i = 2 Value = 55854.01245438637LL = 173974.39730942014\n",
        "Current Parameter i = 2 Value, 165984.33570734435LL173974.39730942014\n",
        "Proposed Parameter i = 2 Value = 55854.01245438637LL = 173974.39730942014\n",
        "Current Parameter i = 2 Value, 165984.33570734435LL173974.39730942014\n",
        "Proposed Parameter i = 2 Value = 55854.01245438637LL = 173974.39730942014\n",
        "Current Parameter i = "
       ]
      },
      {
       "output_type": "stream",
       "stream": "stdout",
       "text": [
        "2 Value, 165984.33570734435LL173974.39730942014\n",
        "Proposed Parameter i = 2 Value = 55854.01245438637LL = 173974.39730942014\n",
        "Current Parameter i = 2 Value, 165984.33570734435LL173974.39730942014\n",
        "Proposed Parameter i = 2 Value = 55854.01245438637LL = 173974.39730942014\n",
        "Current Parameter i = 2 Value, 165984.33570734435LL173974.39730942014\n",
        "Proposed Parameter i = 2 Value = 55854.01245438637LL = 173974.39730942014\n",
        "Current Parameter i = 2 Value, 165984.33570734435LL173974.39730942014\n",
        "Proposed Parameter i = 2 Value = 55854.01245438637LL = 173974.39730942014\n",
        "Current Parameter i = "
       ]
      },
      {
       "output_type": "stream",
       "stream": "stdout",
       "text": [
        "2 Value, 165984.33570734435LL173974.39730942014\n",
        "Proposed Parameter i = 2 Value = 55854.01245438637LL = 173974.39730942014\n",
        "Current Parameter i = 2 Value, 165984.33570734435LL173974.39730942014\n",
        "Proposed Parameter i = 2 Value = 55854.01245438637LL = 173974.39730942014\n",
        "Current Parameter i = 2 Value, 35050.796676586506LL173974.39730942014\n",
        "Proposed Parameter i = 2 Value = 55854.01245438637LL = 173974.39730942014\n",
        "Current Parameter i = "
       ]
      },
      {
       "output_type": "stream",
       "stream": "stdout",
       "text": [
        "2 Value, 35050.796676586506LL173974.39730942014\n",
        "Proposed Parameter i = 2 Value = 55854.01245438637LL = 173974.39730942014\n",
        "Current Parameter i = 2 Value, 35050.796676586506LL173974.39730942014\n",
        "Proposed Parameter i = 2 Value = 55854.01245438637LL = 173974.39730942014\n",
        "Current Parameter i = 2 Value, 35050.796676586506LL173974.39730942014\n",
        "Proposed Parameter i = 2 Value = 55854.01245438637LL = 173974.39730942014\n",
        "Current Parameter i = 2 Value, 35050.796676586506LL173974.39730942014\n",
        "Proposed Parameter i = 2 Value = 55854.01245438637LL = 173974.39730942014\n",
        "Current Parameter i = "
       ]
      },
      {
       "output_type": "stream",
       "stream": "stdout",
       "text": [
        "2 Value, 35050.796676586506LL173974.39730942014\n",
        "Proposed Parameter i = 2 Value = 55854.01245438637LL = 173974.39730942014\n",
        "Current Parameter i = 2 Value, 35050.796676586506LL173974.39730942014\n",
        "Proposed Parameter i = 2 Value = 55854.01245438637LL = 173974.39730942014\n",
        "Current Parameter i = 2 Value, 35050.796676586506LL173974.39730942014\n",
        "Proposed Parameter i = 2 Value = 55854.01245438637LL = 173974.39730942014\n",
        "Current Parameter i = "
       ]
      },
      {
       "output_type": "stream",
       "stream": "stdout",
       "text": [
        "2 Value, 35050.796676586506LL173974.39730942014\n",
        "Proposed Parameter i = 2 Value = 55854.01245438637LL = 173974.39730942014\n",
        "Current Parameter i = 2 Value, 35050.796676586506LL173974.39730942014\n",
        "Proposed Parameter i = 2 Value = 55854.01245438637LL = 173974.39730942014\n",
        "Current Parameter i = 2 Value, 11340.549419636493LL173974.39730942014\n",
        "Proposed Parameter i = 2 Value = 55854.01245438637LL = 173974.39730942014\n",
        "Current Parameter i = "
       ]
      },
      {
       "output_type": "stream",
       "stream": "stdout",
       "text": [
        "2 Value, 11340.549419636493LL173974.39730942014\n",
        "Proposed Parameter i = 2 Value = 55854.01245438637LL = 173974.39730942014\n",
        "Current Parameter i = 2 Value, 11340.549419636493LL173974.39730942014\n",
        "Proposed Parameter i = 2 Value = 55854.01245438637LL = 173974.39730942014\n",
        "Current Parameter i = 2 Value, 11340.549419636493LL173974.39730942014\n",
        "Proposed Parameter i = 2 Value = 55854.01245438637LL = 173974.39730942014\n",
        "Current Parameter i = "
       ]
      },
      {
       "output_type": "stream",
       "stream": "stdout",
       "text": [
        "2 Value, 11340.549419636493LL173974.39730942014\n",
        "Proposed Parameter i = 2 Value = 55854.01245438637LL = 173974.39730942014\n",
        "Current Parameter i = 2 Value, 11340.549419636493LL173974.39730942014\n",
        "Proposed Parameter i = 2 Value = 55854.01245438637LL = 173974.39730942014\n",
        "Current Parameter i = 2 Value, 11340.549419636493LL173974.39730942014\n",
        "Proposed Parameter i = 2 Value = 55854.01245438637LL = 173974.39730942014\n",
        "Current Parameter i = 2 Value, 11340.549419636493LL173974.39730942014\n",
        "Proposed Parameter i = 2 Value = 55854.01245438637LL = 173974.39730942014\n",
        "Current Parameter i = "
       ]
      },
      {
       "output_type": "stream",
       "stream": "stdout",
       "text": [
        "2 Value, 11340.549419636493LL173974.39730942014\n",
        "Proposed Parameter i = 2 Value = 55854.01245438637LL = 173974.39730942014\n",
        "Current Parameter i = 2 Value, 11340.549419636493LL173974.39730942014\n",
        "Proposed Parameter i = 2 Value = 55854.01245438637LL = 173974.39730942014\n",
        "Current Parameter i = 2 Value, 56782.94963327856LL173974.39730942014\n",
        "Proposed Parameter i = 2 Value = 55854.01245438637LL = 173974.39730942014\n",
        "Current Parameter i = 2 Value, 56782.94963327856LL173974.39730942014\n",
        "Proposed Parameter i = 2 Value = 55854.01245438637LL = 173974.39730942014\n",
        "Current Parameter i = "
       ]
      },
      {
       "output_type": "stream",
       "stream": "stdout",
       "text": [
        "2 Value, 56782.94963327856LL173974.39730942014\n",
        "Proposed Parameter i = 2 Value = 55854.01245438637LL = 173974.39730942014\n",
        "Current Parameter i = 2 Value, 56782.94963327856LL173974.39730942014\n",
        "Proposed Parameter i = 2 Value = 55854.01245438637LL = 173974.39730942014\n",
        "Current Parameter i = 2 Value, 56782.94963327856LL173974.39730942014\n",
        "Proposed Parameter i = 2 Value = 55854.01245438637LL = 173974.39730942014\n",
        "Current Parameter i = 2 Value, 56782.94963327856LL173974.39730942014\n",
        "Proposed Parameter i = 2 Value = 55854.01245438637LL = 173974.39730942014\n",
        "Current Parameter i = "
       ]
      },
      {
       "output_type": "stream",
       "stream": "stdout",
       "text": [
        "2 Value, 56782.94963327856LL173974.39730942014\n",
        "Proposed Parameter i = 2 Value = 55854.01245438637LL = 173974.39730942014\n",
        "Current Parameter i = 2 Value, 56782.94963327856LL173974.39730942014\n",
        "Proposed Parameter i = 2 Value = 55854.01245438637LL = 173974.39730942014\n",
        "Current Parameter i = 2 Value, 56782.94963327856LL173974.39730942014\n",
        "Proposed Parameter i = 2 Value = 55854.01245438637LL = 173974.39730942014\n",
        "Current Parameter i = "
       ]
      },
      {
       "output_type": "stream",
       "stream": "stdout",
       "text": [
        "2 Value, 56782.94963327856LL173974.39730942014\n",
        "Proposed Parameter i = 2 Value = 55854.01245438637LL = 173974.39730942014\n",
        "Current Parameter i = 2 Value, 52974.477876676174LL173974.39730942014\n",
        "Proposed Parameter i = 2 Value = 55854.01245438637LL = 173974.39730942014\n",
        "Current Parameter i = 2 Value, 52974.477876676174LL173974.39730942014\n",
        "Proposed Parameter i = 2 Value = 55854.01245438637LL = 173974.39730942014\n",
        "Current Parameter i = 2 Value, 52974.477876676174LL173974.39730942014\n",
        "Proposed Parameter i = 2 Value = 55854.01245438637LL = 173974.39730942014\n",
        "Current Parameter i = "
       ]
      },
      {
       "output_type": "stream",
       "stream": "stdout",
       "text": [
        "2 Value, 52974.477876676174LL173974.39730942014\n",
        "Proposed Parameter i = 2 Value = 55854.01245438637LL = 173974.39730942014\n",
        "Current Parameter i = 2 Value, 52974.477876676174LL173974.39730942014\n",
        "Proposed Parameter i = 2 Value = 55854.01245438637LL = 173974.39730942014\n",
        "Current Parameter i = 2 Value, 52974.477876676174LL173974.39730942014\n",
        "Proposed Parameter i = 2 Value = 55854.01245438637LL = 173974.39730942014\n",
        "Current Parameter i = 2 Value, 52974.477876676174LL173974.39730942014\n",
        "Proposed Parameter i = 2 Value = 55854.01245438637LL = 173974.39730942014\n",
        "Current Parameter i = "
       ]
      },
      {
       "output_type": "stream",
       "stream": "stdout",
       "text": [
        "2 Value, 52974.477876676174LL173974.39730942014\n",
        "Proposed Parameter i = 2 Value = 55854.01245438637LL = 173974.39730942014\n",
        "Current Parameter i = 2 Value, 52974.477876676174LL173974.39730942014\n",
        "Proposed Parameter i = 2 Value = 55854.01245438637LL = 173974.39730942014\n",
        "Current Parameter i = 2 Value, 52974.477876676174LL173974.39730942014\n",
        "Proposed Parameter i = 2 Value = 55854.01245438637LL = 173974.39730942014\n",
        "Current Parameter i = 2 Value, 76475.41056894879LL173974.39730942014\n",
        "Proposed Parameter i = 2 Value = 55854.01245438637LL = 173974.39730942014\n",
        "Current Parameter i = "
       ]
      },
      {
       "output_type": "stream",
       "stream": "stdout",
       "text": [
        "2 Value, 76475.41056894879LL173974.39730942014\n",
        "Proposed Parameter i = 2 Value = 55854.01245438637LL = 173974.39730942014\n",
        "Current Parameter i = 2 Value, 76475.41056894879LL173974.39730942014\n",
        "Proposed Parameter i = 2 Value = 55854.01245438637LL = 173974.39730942014\n",
        "Current Parameter i = 2 Value, 76475.41056894879LL173974.39730942014\n",
        "Proposed Parameter i = 2 Value = 55854.01245438637LL = 173974.39730942014\n",
        "Current Parameter i = 2 Value, 76475.41056894879LL173974.39730942014\n",
        "Proposed Parameter i = 2 Value = 55854.01245438637LL = 173974.39730942014\n",
        "Current Parameter i = "
       ]
      },
      {
       "output_type": "stream",
       "stream": "stdout",
       "text": [
        "2 Value, 76475.41056894879LL173974.39730942014\n",
        "Proposed Parameter i = 2 Value = 55854.01245438637LL = 173974.39730942014\n",
        "Current Parameter i = 2 Value, 76475.41056894879LL173974.39730942014\n",
        "Proposed Parameter i = 2 Value = 55854.01245438637LL = 173974.39730942014\n",
        "Current Parameter i = 2 Value, 76475.41056894879LL173974.39730942014\n",
        "Proposed Parameter i = 2 Value = 55854.01245438637LL = 173974.39730942014\n",
        "Current Parameter i = 2 Value, 76475.41056894879LL173974.39730942014\n",
        "Proposed Parameter i = 2 Value = 55854.01245438637LL = 173974.39730942014\n",
        "Current Parameter i = "
       ]
      },
      {
       "output_type": "stream",
       "stream": "stdout",
       "text": [
        "2 Value, 76475.41056894879LL173974.39730942014\n",
        "Proposed Parameter i = 2 Value = 55854.01245438637LL = 173974.39730942014\n",
        "Current Parameter i = 2 Value, 108888.54721489687LL173974.39730942014\n",
        "Proposed Parameter i = 2 Value = 55854.01245438637LL = 173974.39730942014\n",
        "Current Parameter i = 2 Value, 108888.54721489687LL173974.39730942014\n",
        "Proposed Parameter i = 2 Value = 55854.01245438637LL = 173974.39730942014\n",
        "Current Parameter i = "
       ]
      },
      {
       "output_type": "stream",
       "stream": "stdout",
       "text": [
        "2 Value, 108888.54721489687LL173974.39730942014\n",
        "Proposed Parameter i = 2 Value = 55854.01245438637LL = 173974.39730942014\n",
        "Current Parameter i = 2 Value, 108888.54721489687LL173974.39730942014\n",
        "Proposed Parameter i = 2 Value = 55854.01245438637LL = 173974.39730942014\n",
        "Current Parameter i = 2 Value, 108888.54721489687LL173974.39730942014\n",
        "Proposed Parameter i = 2 Value = 55854.01245438637LL = 173974.39730942014\n",
        "Current Parameter i = "
       ]
      },
      {
       "output_type": "stream",
       "stream": "stdout",
       "text": [
        "2 Value, 108888.54721489687LL173974.39730942014\n",
        "Proposed Parameter i = 2 Value = 55854.01245438637LL = 173974.39730942014\n",
        "Current Parameter i = 2 Value, 108888.54721489687LL173974.39730942014\n",
        "Proposed Parameter i = 2 Value = 55854.01245438637LL = 173974.39730942014\n",
        "Current Parameter i = 2 Value, 108888.54721489687LL173974.39730942014\n",
        "Proposed Parameter i = 2 Value = 55854.01245438637LL = 173974.39730942014\n",
        "Current Parameter i = 2 Value, 108888.54721489687LL173974.39730942014\n",
        "Proposed Parameter i = 2 Value = 55854.01245438637LL = 173974.39730942014\n",
        "Current Parameter i = "
       ]
      },
      {
       "output_type": "stream",
       "stream": "stdout",
       "text": [
        "2 Value, 108888.54721489687LL173974.39730942014\n",
        "Proposed Parameter i = 2 Value = 55854.01245438637LL = 173974.39730942014\n",
        "Current Parameter i = 2 Value, 356402.31132042187LL173974.39730942014\n",
        "Proposed Parameter i = 2 Value = 55854.01245438637LL = 173974.39730942014\n",
        "Current Parameter i = 2 Value, 356402.31132042187LL173974.39730942014\n",
        "Proposed Parameter i = 2 Value = 55854.01245438637LL = 173974.39730942014\n",
        "Current Parameter i = 2 Value, 356402.31132042187LL173974.39730942014\n",
        "Proposed Parameter i = 2 Value = 55854.01245438637LL = 173974.39730942014\n",
        "Current Parameter i = "
       ]
      },
      {
       "output_type": "stream",
       "stream": "stdout",
       "text": [
        "2 Value, 356402.31132042187LL173974.39730942014\n",
        "Proposed Parameter i = 2 Value = 55854.01245438637LL = 173974.39730942014\n",
        "Current Parameter i = 2 Value, 356402.31132042187LL173974.39730942014\n",
        "Proposed Parameter i = 2 Value = 55854.01245438637LL = 173974.39730942014\n",
        "Current Parameter i = 2 Value, 356402.31132042187LL173974.39730942014\n",
        "Proposed Parameter i = 2 Value = 55854.01245438637LL = 173974.39730942014\n",
        "Current Parameter i = 2 Value, 356402.31132042187LL173974.39730942014\n",
        "Proposed Parameter i = 2 Value = 55854.01245438637LL = 173974.39730942014\n",
        "Current Parameter i = "
       ]
      },
      {
       "output_type": "stream",
       "stream": "stdout",
       "text": [
        "2 Value, 356402.31132042187LL173974.39730942014\n",
        "Proposed Parameter i = 2 Value = 55854.01245438637LL = 173974.39730942014\n",
        "Current Parameter i = 2 Value, 356402.31132042187LL173974.39730942014\n",
        "Proposed Parameter i = 2 Value = 55854.01245438637LL = 173974.39730942014\n",
        "Current Parameter i = 2 Value, 356402.31132042187LL173974.39730942014\n",
        "Proposed Parameter i = 2 Value = 55854.01245438637LL = 173974.39730942014\n",
        "Current Parameter i = 2 Value, 67613.62757085332LL173974.39730942014\n",
        "Proposed Parameter i = 2 Value = 55854.01245438637LL = 173974.39730942014\n",
        "Current Parameter i = "
       ]
      },
      {
       "output_type": "stream",
       "stream": "stdout",
       "text": [
        "2 Value, 67613.62757085332LL173974.39730942014\n",
        "Proposed Parameter i = 2 Value = 55854.01245438637LL = 173974.39730942014\n",
        "Current Parameter i = 2 Value, 67613.62757085332LL173974.39730942014\n",
        "Proposed Parameter i = 2 Value = 55854.01245438637LL = 173974.39730942014\n",
        "Current Parameter i = 2 Value, 67613.62757085332LL173974.39730942014\n",
        "Proposed Parameter i = 2 Value = 55854.01245438637LL = 173974.39730942014\n",
        "Current Parameter i = 2 Value, 67613.62757085332LL173974.39730942014\n",
        "Proposed Parameter i = 2 Value = 55854.01245438637LL = 173974.39730942014\n",
        "Current Parameter i = "
       ]
      },
      {
       "output_type": "stream",
       "stream": "stdout",
       "text": [
        "2 Value, 67613.62757085332LL173974.39730942014\n",
        "Proposed Parameter i = 2 Value = 55854.01245438637LL = 173974.39730942014\n",
        "Current Parameter i = 2 Value, 67613.62757085332LL173974.39730942014\n",
        "Proposed Parameter i = 2 Value = 55854.01245438637LL = 173974.39730942014\n",
        "Current Parameter i = 2 Value, 67613.62757085332LL173974.39730942014\n",
        "Proposed Parameter i = 2 Value = 55854.01245438637LL = 173974.39730942014\n",
        "Current Parameter i = 2 Value, 67613.62757085332LL173974.39730942014\n",
        "Proposed Parameter i = 2 Value = 55854.01245438637LL = 173974.39730942014\n",
        "Current Parameter i = "
       ]
      },
      {
       "output_type": "stream",
       "stream": "stdout",
       "text": [
        "2 Value, 67613.62757085332LL173974.39730942014\n",
        "Proposed Parameter i = 2 Value = 55854.01245438637LL = 173974.39730942014\n",
        "Current Parameter i = 2 Value, 178111.7793471464LL173974.39730942014\n",
        "Proposed Parameter i = 2 Value = 55854.01245438637LL = 173974.39730942014\n",
        "Current Parameter i = 2 Value, 178111.7793471464LL173974.39730942014\n",
        "Proposed Parameter i = 2 Value = 55854.01245438637LL = 173974.39730942014\n",
        "Current Parameter i = 2 Value, 178111.7793471464LL173974.39730942014\n",
        "Proposed Parameter i = 2 Value = 55854.01245438637LL = 173974.39730942014\n",
        "Current Parameter i = "
       ]
      },
      {
       "output_type": "stream",
       "stream": "stdout",
       "text": [
        "2 Value, 178111.7793471464LL173974.39730942014\n",
        "Proposed Parameter i = 2 Value = 55854.01245438637LL = 173974.39730942014\n",
        "Current Parameter i = 2 Value, 178111.7793471464LL173974.39730942014\n",
        "Proposed Parameter i = 2 Value = 55854.01245438637LL = 173974.39730942014\n",
        "Current Parameter i = 2 Value, 178111.7793471464LL173974.39730942014\n",
        "Proposed Parameter i = 2 Value = 55854.01245438637LL = 173974.39730942014\n",
        "Current Parameter i = 2 Value, 178111.7793471464LL173974.39730942014\n",
        "Proposed Parameter i = 2 Value = 55854.01245438637LL = 173974.39730942014\n",
        "Current Parameter i = "
       ]
      },
      {
       "output_type": "stream",
       "stream": "stdout",
       "text": [
        "2 Value, 178111.7793471464LL173974.39730942014\n",
        "Proposed Parameter i = 2 Value = 55854.01245438637LL = 173974.39730942014\n",
        "Current Parameter i = 2 Value, 178111.7793471464LL173974.39730942014\n",
        "Proposed Parameter i = 2 Value = 55854.01245438637LL = 173974.39730942014\n",
        "Current Parameter i = 2 Value, 178111.7793471464LL173974.39730942014\n",
        "Proposed Parameter i = 2 Value = 55854.01245438637LL = 173974.39730942014\n",
        "Current Parameter i = "
       ]
      },
      {
       "output_type": "stream",
       "stream": "stdout",
       "text": [
        "2 Value, 25779.94483529107LL173974.39730942014\n",
        "Proposed Parameter i = 2 Value = 55854.01245438637LL = 173974.39730942014\n",
        "Current Parameter i = 2 Value, 25779.94483529107LL173974.39730942014\n",
        "Proposed Parameter i = 2 Value = 55854.01245438637LL = 173974.39730942014\n",
        "Current Parameter i = 2 Value, 25779.94483529107LL173974.39730942014\n",
        "Proposed Parameter i = 2 Value = 55854.01245438637LL = 173974.39730942014\n",
        "Current Parameter i = "
       ]
      },
      {
       "output_type": "stream",
       "stream": "stdout",
       "text": [
        "2 Value, 25779.94483529107LL173974.39730942014\n",
        "Proposed Parameter i = 2 Value = 55854.01245438637LL = 173974.39730942014\n",
        "Current Parameter i = 2 Value, 25779.94483529107LL173974.39730942014\n",
        "Proposed Parameter i = 2 Value = 55854.01245438637LL = 173974.39730942014\n",
        "Current Parameter i = 2 Value, 25779.94483529107LL173974.39730942014\n",
        "Proposed Parameter i = 2 Value = 55854.01245438637LL = 173974.39730942014\n",
        "Current Parameter i = "
       ]
      },
      {
       "output_type": "stream",
       "stream": "stdout",
       "text": [
        "2 Value, 25779.94483529107LL173974.39730942014\n",
        "Proposed Parameter i = 2 Value = 55854.01245438637LL = 173974.39730942014\n",
        "Current Parameter i = 2 Value, 25779.94483529107LL173974.39730942014\n",
        "Proposed Parameter i = 2 Value = 55854.01245438637LL = 173974.39730942014\n",
        "Current Parameter i = 2 Value, 25779.94483529107LL173974.39730942014\n",
        "Proposed Parameter i = 2 Value = 55854.01245438637LL = 173974.39730942014\n",
        "Current Parameter i = "
       ]
      },
      {
       "output_type": "stream",
       "stream": "stdout",
       "text": [
        "2 Value, 25779.94483529107LL173974.39730942014\n",
        "Proposed Parameter i = 2 Value = 55854.01245438637LL = 173974.39730942014\n",
        "Current Parameter i = 2 Value, 78979.32315686434LL173974.39730942014\n",
        "Proposed Parameter i = 2 Value = 55854.01245438637LL = 173974.39730942014\n",
        "Current Parameter i = 2 Value, 78979.32315686434LL173974.39730942014\n",
        "Proposed Parameter i = 2 Value = 55854.01245438637LL = 173974.39730942014\n",
        "Current Parameter i = "
       ]
      },
      {
       "output_type": "stream",
       "stream": "stdout",
       "text": [
        "2 Value, 78979.32315686434LL173974.39730942014\n",
        "Proposed Parameter i = 2 Value = 55854.01245438637LL = 173974.39730942014\n",
        "Current Parameter i = 2 Value, 78979.32315686434LL173974.39730942014\n",
        "Proposed Parameter i = 2 Value = 55854.01245438637LL = 173974.39730942014\n",
        "Current Parameter i = 2 Value, 78979.32315686434LL173974.39730942014\n",
        "Proposed Parameter i = 2 Value = 55854.01245438637LL = 173974.39730942014\n",
        "Current Parameter i = 2 Value, 78979.32315686434LL173974.39730942014\n",
        "Proposed Parameter i = 2 Value = 55854.01245438637LL = 173974.39730942014\n",
        "Current Parameter i = "
       ]
      },
      {
       "output_type": "stream",
       "stream": "stdout",
       "text": [
        "2 Value, 78979.32315686434LL173974.39730942014\n",
        "Proposed Parameter i = 2 Value = 55854.01245438637LL = 173974.39730942014\n",
        "Current Parameter i = 2 Value, 78979.32315686434LL173974.39730942014\n",
        "Proposed Parameter i = 2 Value = 55854.01245438637LL = 173974.39730942014\n",
        "Current Parameter i = 2 Value, 78979.32315686434LL173974.39730942014\n",
        "Proposed Parameter i = 2 Value = 55854.01245438637LL = 173974.39730942014\n",
        "Current Parameter i = 2 Value, 78979.32315686434LL173974.39730942014\n",
        "Proposed Parameter i = 2 Value = 55854.01245438637LL = 173974.39730942014\n",
        "Current Parameter i = "
       ]
      },
      {
       "output_type": "stream",
       "stream": "stdout",
       "text": [
        "2 Value, 37414.75955688561LL173974.39730942014\n",
        "Proposed Parameter i = 2 Value = 55854.01245438637LL = 173974.39730942014\n",
        "Current Parameter i = 2 Value, 37414.75955688561LL173974.39730942014\n",
        "Proposed Parameter i = 2 Value = 55854.01245438637LL = 173974.39730942014\n",
        "Current Parameter i = 2 Value, 37414.75955688561LL173974.39730942014\n",
        "Proposed Parameter i = 2 Value = 55854.01245438637LL = 173974.39730942014\n",
        "Current Parameter i = 2"
       ]
      },
      {
       "output_type": "stream",
       "stream": "stdout",
       "text": [
        " Value, 37414.75955688561LL173974.39730942014\n",
        "Proposed Parameter i = 2 Value = 55854.01245438637LL = 173974.39730942014\n",
        "Current Parameter i = 2 Value, 37414.75955688561LL173974.39730942014\n",
        "Proposed Parameter i = 2 Value = 55854.01245438637LL = 173974.39730942014\n",
        "Current Parameter i = 2 Value, 37414.75955688561LL173974.39730942014\n",
        "Proposed Parameter i = 2 Value = 55854.01245438637LL = 173974.39730942014\n",
        "Current Parameter i = 2 Value, 37414.75955688561LL173974.39730942014\n",
        "Proposed Parameter i = 2 Value = 55854.01245438637LL = 173974.39730942014\n",
        "Current Parameter i = "
       ]
      },
      {
       "output_type": "stream",
       "stream": "stdout",
       "text": [
        "2 Value, 37414.75955688561LL173974.39730942014\n",
        "Proposed Parameter i = 2 Value = 55854.01245438637LL = 173974.39730942014\n",
        "Current Parameter i = 2 Value, 37414.75955688561LL173974.39730942014\n",
        "Proposed Parameter i = 2 Value = 55854.01245438637LL = 173974.39730942014\n",
        "Current Parameter i = 2 Value, 37414.75955688561LL173974.39730942014\n",
        "Proposed Parameter i = 2 Value = 55854.01245438637LL = 173974.39730942014\n",
        "Current Parameter i = 2 Value, 21153.740344959206LL173974.39730942014\n",
        "Proposed Parameter i = 2 Value = 55854.01245438637LL = 173974.39730942014\n",
        "Current Parameter i = "
       ]
      },
      {
       "output_type": "stream",
       "stream": "stdout",
       "text": [
        "2 Value, 21153.740344959206LL173974.39730942014\n",
        "Proposed Parameter i = 2 Value = 55854.01245438637LL = 173974.39730942014\n",
        "Current Parameter i = 2 Value, 21153.740344959206LL173974.39730942014\n",
        "Proposed Parameter i = 2 Value = 55854.01245438637LL = 173974.39730942014\n",
        "Current Parameter i = 2 Value, 21153.740344959206LL173974.39730942014\n",
        "Proposed Parameter i = 2 Value = 55854.01245438637LL = 173974.39730942014\n",
        "Current Parameter i = "
       ]
      },
      {
       "output_type": "stream",
       "stream": "stdout",
       "text": [
        "2 Value, 21153.740344959206LL173974.39730942014\n",
        "Proposed Parameter i = 2 Value = 55854.01245438637LL = 173974.39730942014\n",
        "Current Parameter i = 2 Value, 21153.740344959206LL173974.39730942014\n",
        "Proposed Parameter i = 2 Value = 55854.01245438637LL = 173974.39730942014\n",
        "Current Parameter i = 2 Value, 21153.740344959206LL173974.39730942014\n",
        "Proposed Parameter i = 2 Value = 55854.01245438637LL = 173974.39730942014\n",
        "Current Parameter i = 2 Value, 21153.740344959206LL173974.39730942014\n",
        "Proposed Parameter i = 2 Value = 55854.01245438637LL = 173974.39730942014\n",
        "Current Parameter i = "
       ]
      },
      {
       "output_type": "stream",
       "stream": "stdout",
       "text": [
        "2 Value, 21153.740344959206LL173974.39730942014\n",
        "Proposed Parameter i = 2 Value = 55854.01245438637LL = 173974.39730942014\n",
        "Current Parameter i = 2 Value, 21153.740344959206LL173974.39730942014\n",
        "Proposed Parameter i = 2 Value = 55854.01245438637LL = 173974.39730942014\n",
        "Current Parameter i = 2 Value, 25719.133677346734LL173974.39730942014\n",
        "Proposed Parameter i = 2 Value = 55854.01245438637LL = 173974.39730942014\n",
        "Current Parameter i = 2 Value, 25719.133677346734LL173974.39730942014\n",
        "Proposed Parameter i = 2 Value = 55854.01245438637LL = 173974.39730942014\n",
        "Current Parameter i = "
       ]
      },
      {
       "output_type": "stream",
       "stream": "stdout",
       "text": [
        "2 Value, 25719.133677346734LL173974.39730942014\n",
        "Proposed Parameter i = 2 Value = 55854.01245438637LL = 173974.39730942014\n",
        "Current Parameter i = 2 Value, 25719.133677346734LL173974.39730942014\n",
        "Proposed Parameter i = 2 Value = 55854.01245438637LL = 173974.39730942014\n",
        "Current Parameter i = 2 Value, 25719.133677346734LL173974.39730942014\n",
        "Proposed Parameter i = 2 Value = 55854.01245438637LL = 173974.39730942014\n",
        "Current Parameter i = 2 Value, 25719.133677346734LL173974.39730942014\n",
        "Proposed Parameter i = 2 Value = 55854.01245438637LL = 173974.39730942014\n",
        "Current Parameter i = "
       ]
      },
      {
       "output_type": "stream",
       "stream": "stdout",
       "text": [
        "2 Value, 25719.133677346734LL173974.39730942014\n",
        "Proposed Parameter i = 2 Value = 55854.01245438637LL = 173974.39730942014\n",
        "Current Parameter i = 2 Value, 25719.133677346734LL173974.39730942014\n",
        "Proposed Parameter i = 2 Value = 55854.01245438637LL = 173974.39730942014\n",
        "Current Parameter i = 2 Value, 25719.133677346734LL173974.39730942014\n",
        "Proposed Parameter i = 2 Value = 55854.01245438637LL = 173974.39730942014\n",
        "Current Parameter i = 2 Value, 25719.133677346734LL173974.39730942014\n",
        "Proposed Parameter i = 2 Value = 55854.01245438637LL = 173974.39730942014\n",
        "Current Parameter i = "
       ]
      },
      {
       "output_type": "stream",
       "stream": "stdout",
       "text": [
        "2 Value, 66621.47253442704LL173974.39730942014\n",
        "Proposed Parameter i = 2 Value = 55854.01245438637LL = 173974.39730942014\n",
        "Current Parameter i = 2 Value, 66621.47253442704LL173974.39730942014\n",
        "Proposed Parameter i = 2 Value = 55854.01245438637LL = 173974.39730942014\n",
        "Current Parameter i = 2 Value, 66621.47253442704LL173974.39730942014\n",
        "Proposed Parameter i = 2 Value = 55854.01245438637LL = 173974.39730942014\n",
        "Current Parameter i = "
       ]
      },
      {
       "output_type": "stream",
       "stream": "stdout",
       "text": [
        "2 Value, 66621.47253442704LL173974.39730942014\n",
        "Proposed Parameter i = 2 Value = 55854.01245438637LL = 173974.39730942014\n",
        "Current Parameter i = 2 Value, 66621.47253442704LL173974.39730942014\n",
        "Proposed Parameter i = 2 Value = 55854.01245438637LL = 173974.39730942014\n",
        "Current Parameter i = 2 Value, 66621.47253442704LL173974.39730942014\n",
        "Proposed Parameter i = 2 Value = 55854.01245438637LL = 173974.39730942014\n",
        "Current Parameter i = "
       ]
      },
      {
       "output_type": "stream",
       "stream": "stdout",
       "text": [
        "2 Value, 66621.47253442704LL173974.39730942014\n",
        "Proposed Parameter i = 2 Value = 55854.01245438637LL = 173974.39730942014\n",
        "Current Parameter i = 2 Value, 66621.47253442704LL173974.39730942014\n",
        "Proposed Parameter i = 2 Value = 55854.01245438637LL = 173974.39730942014\n",
        "Current Parameter i = 2 Value, 66621.47253442704LL173974.39730942014\n",
        "Proposed Parameter i = 2 Value = 55854.01245438637LL = 173974.39730942014\n",
        "Current Parameter i = 2 Value, 66621.47253442704LL173974.39730942014\n",
        "Proposed Parameter i = 2 Value = 55854.01245438637LL = 173974.39730942014\n",
        "Current Parameter i = "
       ]
      },
      {
       "output_type": "stream",
       "stream": "stdout",
       "text": [
        "2 Value, 14424.092502301686LL173974.39730942014\n",
        "Proposed Parameter i = 2 Value = 55854.01245438637LL = 173974.39730942014\n",
        "Current Parameter i = 2 Value, 14424.092502301686LL173974.39730942014\n",
        "Proposed Parameter i = 2 Value = 55854.01245438637LL = 173974.39730942014\n",
        "Current Parameter i = 2 Value, 14424.092502301686LL173974.39730942014\n",
        "Proposed Parameter i = 2 Value = 55854.01245438637LL = 173974.39730942014\n",
        "Current Parameter i = "
       ]
      },
      {
       "output_type": "stream",
       "stream": "stdout",
       "text": [
        "2 Value, 14424.092502301686LL173974.39730942014\n",
        "Proposed Parameter i = 2 Value = 55854.01245438637LL = 173974.39730942014\n",
        "Current Parameter i = 2 Value, 14424.092502301686LL173974.39730942014\n",
        "Proposed Parameter i = 2 Value = 55854.01245438637LL = 173974.39730942014\n",
        "Current Parameter i = 2 Value, 14424.092502301686LL173974.39730942014\n",
        "Proposed Parameter i = 2 Value = 55854.01245438637LL = 173974.39730942014\n",
        "Current Parameter i = "
       ]
      },
      {
       "output_type": "stream",
       "stream": "stdout",
       "text": [
        "2 Value, 14424.092502301686LL173974.39730942014\n",
        "Proposed Parameter i = 2 Value = 55854.01245438637LL = 173974.39730942014\n",
        "Current Parameter i = 2 Value, 14424.092502301686LL173974.39730942014\n",
        "Proposed Parameter i = 2 Value = 55854.01245438637LL = 173974.39730942014\n",
        "Current Parameter i = 2 Value, 14424.092502301686LL173974.39730942014\n",
        "Proposed Parameter i = 2 Value = 55854.01245438637LL = 173974.39730942014\n",
        "Current Parameter i = 2 Value, 14424.092502301686LL173974.39730942014\n",
        "Proposed Parameter i = 2 Value = 55854.01245438637LL = 173974.39730942014\n",
        "Current Parameter i = "
       ]
      },
      {
       "output_type": "stream",
       "stream": "stdout",
       "text": [
        "2 Value, 17631.629798232225LL173974.39730942014\n",
        "Proposed Parameter i = 2 Value = 55854.01245438637LL = 173974.39730942014\n",
        "Current Parameter i = 2 Value, 17631.629798232225LL173974.39730942014\n",
        "Proposed Parameter i = 2 Value = 55854.01245438637LL = 173974.39730942014\n",
        "Current Parameter i = 2 Value, 17631.629798232225LL173974.39730942014\n",
        "Proposed Parameter i = 2 Value = 55854.01245438637LL = 173974.39730942014\n",
        "Current Parameter i = "
       ]
      },
      {
       "output_type": "stream",
       "stream": "stdout",
       "text": [
        "2 Value, 17631.629798232225LL173974.39730942014\n",
        "Proposed Parameter i = 2 Value = 55854.01245438637LL = 173974.39730942014\n",
        "Current Parameter i = 2 Value, 17631.629798232225LL173974.39730942014\n",
        "Proposed Parameter i = 2 Value = 55854.01245438637LL = 173974.39730942014\n",
        "Current Parameter i = 2 Value, 17631.629798232225LL173974.39730942014\n",
        "Proposed Parameter i = 2 Value = 55854.01245438637LL = 173974.39730942014\n",
        "Current Parameter i = 2 Value, 17631.629798232225LL173974.39730942014\n",
        "Proposed Parameter i = 2 Value = 55854.01245438637LL = 173974.39730942014\n",
        "Current Parameter i = "
       ]
      },
      {
       "output_type": "stream",
       "stream": "stdout",
       "text": [
        "2 Value, 17631.629798232225LL173974.39730942014\n",
        "Proposed Parameter i = 2 Value = 55854.01245438637LL = 173974.39730942014\n",
        "Current Parameter i = 2 Value, 17631.629798232225LL173974.39730942014\n",
        "Proposed Parameter i = 2 Value = 55854.01245438637LL = 173974.39730942014\n",
        "Current Parameter i = 2 Value, 17631.629798232225LL173974.39730942014\n",
        "Proposed Parameter i = 2 Value = 55854.01245438637LL = 173974.39730942014\n",
        "Current Parameter i = "
       ]
      },
      {
       "output_type": "stream",
       "stream": "stdout",
       "text": [
        "2 Value, 73817.31387202385LL173974.39730942014\n",
        "Proposed Parameter i = 2 Value = 55854.01245438637LL = 173974.39730942014\n",
        "Current Parameter i = 2 Value, 73817.31387202385LL173974.39730942014\n",
        "Proposed Parameter i = 2 Value = 55854.01245438637LL = 173974.39730942014\n",
        "Current Parameter i = 2 Value, 73817.31387202385LL173974.39730942014\n",
        "Proposed Parameter i = 2 Value = 55854.01245438637LL = 173974.39730942014\n",
        "Current Parameter i = "
       ]
      },
      {
       "output_type": "stream",
       "stream": "stdout",
       "text": [
        "2 Value, 73817.31387202385LL173974.39730942014\n",
        "Proposed Parameter i = 2 Value = 55854.01245438637LL = 173974.39730942014\n",
        "Current Parameter i = 2 Value, 73817.31387202385LL173974.39730942014\n",
        "Proposed Parameter i = 2 Value = 55854.01245438637LL = 173974.39730942014\n",
        "Current Parameter i = 2 Value, 73817.31387202385LL173974.39730942014\n",
        "Proposed Parameter i = 2 Value = 55854.01245438637LL = 173974.39730942014\n",
        "Current Parameter i = 2 Value, 73817.31387202385LL173974.39730942014\n",
        "Proposed Parameter i = 2 Value = 55854.01245438637LL = 173974.39730942014\n",
        "Current Parameter i = "
       ]
      },
      {
       "output_type": "stream",
       "stream": "stdout",
       "text": [
        "2 Value, 73817.31387202385LL173974.39730942014\n",
        "Proposed Parameter i = 2 Value = 55854.01245438637LL = 173974.39730942014\n",
        "Current Parameter i = 2 Value, 73817.31387202385LL173974.39730942014\n",
        "Proposed Parameter i = 2 Value = 55854.01245438637LL = 173974.39730942014\n",
        "Current Parameter i = 2 Value, 73817.31387202385LL173974.39730942014\n",
        "Proposed Parameter i = 2 Value = 55854.01245438637LL = 173974.39730942014\n",
        "Current Parameter i = 2 Value, 127472.191221666LL173974.39730942014\n",
        "Proposed Parameter i = 2 Value = 55854.01245438637LL = 173974.39730942014\n",
        "Current Parameter i = "
       ]
      },
      {
       "output_type": "stream",
       "stream": "stdout",
       "text": [
        "2 Value, 127472.191221666LL173974.39730942014\n",
        "Proposed Parameter i = 2 Value = 55854.01245438637LL = 173974.39730942014\n",
        "Current Parameter i = 2 Value, 127472.191221666LL173974.39730942014\n",
        "Proposed Parameter i = 2 Value = 55854.01245438637LL = 173974.39730942014\n",
        "Current Parameter i = 2 Value, 127472.191221666LL173974.39730942014\n",
        "Proposed Parameter i = 2 Value = 55854.01245438637LL = 173974.39730942014\n",
        "Current Parameter i = 2 Value, 127472.191221666LL173974.39730942014\n",
        "Proposed Parameter i = 2 Value = 55854.01245438637LL = 173974.39730942014\n",
        "Current Parameter i = "
       ]
      },
      {
       "output_type": "stream",
       "stream": "stdout",
       "text": [
        "2 Value, 127472.191221666LL173974.39730942014\n",
        "Proposed Parameter i = 2 Value = 55854.01245438637LL = 173974.39730942014\n",
        "Current Parameter i = 2 Value, 127472.191221666LL173974.39730942014\n",
        "Proposed Parameter i = 2 Value = 55854.01245438637LL = 173974.39730942014\n",
        "Current Parameter i = 2 Value, 127472.191221666LL173974.39730942014\n",
        "Proposed Parameter i = 2 Value = 55854.01245438637LL = 173974.39730942014\n",
        "Current Parameter i = 2 Value, 127472.191221666LL173974.39730942014\n",
        "Proposed Parameter i = 2 Value = 55854.01245438637LL = 173974.39730942014\n",
        "Current Parameter i = "
       ]
      },
      {
       "output_type": "stream",
       "stream": "stdout",
       "text": [
        "2 Value, 127472.191221666LL173974.39730942014\n",
        "Proposed Parameter i = 2 Value = 55854.01245438637LL = 173974.39730942014\n",
        "Current Parameter i = 2 Value, 122553.53054854408LL173974.39730942014\n",
        "Proposed Parameter i = 2 Value = 55854.01245438637LL = 173974.39730942014\n",
        "Current Parameter i = 2 Value, 122553.53054854408LL173974.39730942014\n",
        "Proposed Parameter i = 2 Value = 55854.01245438637LL = 173974.39730942014\n",
        "Current Parameter i = 2 Value, 122553.53054854408LL173974.39730942014\n",
        "Proposed Parameter i = 2 Value = 55854.01245438637LL = 173974.39730942014\n",
        "Current Parameter i = "
       ]
      },
      {
       "output_type": "stream",
       "stream": "stdout",
       "text": [
        "2 Value, 122553.53054854408LL173974.39730942014\n",
        "Proposed Parameter i = 2 Value = 55854.01245438637LL = 173974.39730942014\n",
        "Current Parameter i = 2 Value, 122553.53054854408LL173974.39730942014\n",
        "Proposed Parameter i = 2 Value = 55854.01245438637LL = 173974.39730942014\n",
        "Current Parameter i = 2 Value, 122553.53054854408LL173974.39730942014\n",
        "Proposed Parameter i = 2 Value = 55854.01245438637LL = 173974.39730942014\n",
        "Current Parameter i = 2 Value, 122553.53054854408LL173974.39730942014\n",
        "Proposed Parameter i = 2 Value = 55854.01245438637LL = 173974.39730942014\n",
        "Current Parameter i = "
       ]
      },
      {
       "output_type": "stream",
       "stream": "stdout",
       "text": [
        "2 Value, 122553.53054854408LL173974.39730942014\n",
        "Proposed Parameter i = 2 Value = 55854.01245438637LL = 173974.39730942014\n",
        "Current Parameter i = 2 Value, 122553.53054854408LL173974.39730942014\n",
        "Proposed Parameter i = 2 Value = 55854.01245438637LL = 173974.39730942014\n",
        "Current Parameter i = 2 Value, 122553.53054854408LL173974.39730942014\n",
        "Proposed Parameter i = 2 Value = 55854.01245438637LL = 173974.39730942014\n",
        "Current Parameter i = "
       ]
      },
      {
       "output_type": "stream",
       "stream": "stdout",
       "text": [
        "2 Value, 35305.3910357299LL173974.39730942014\n",
        "Proposed Parameter i = 2 Value = 55854.01245438637LL = 173974.39730942014\n",
        "Current Parameter i = 2 Value, 35305.3910357299LL173974.39730942014\n",
        "Proposed Parameter i = 2 Value = 55854.01245438637LL = 173974.39730942014\n",
        "Current Parameter i = 2 Value, 35305.3910357299LL173974.39730942014\n",
        "Proposed Parameter i = 2 Value = 55854.01245438637LL = 173974.39730942014\n",
        "Current Parameter i = 2 Value, 35305.3910357299LL173974.39730942014\n",
        "Proposed Parameter i = 2 Value = 55854.01245438637LL = 173974.39730942014\n",
        "Current Parameter i = "
       ]
      },
      {
       "output_type": "stream",
       "stream": "stdout",
       "text": [
        "2 Value, 35305.3910357299LL173974.39730942014\n",
        "Proposed Parameter i = 2 Value = 55854.01245438637LL = 173974.39730942014\n",
        "Current Parameter i = 2 Value, 35305.3910357299LL173974.39730942014\n",
        "Proposed Parameter i = 2 Value = 55854.01245438637LL = 173974.39730942014\n",
        "Current Parameter i = 2 Value, 35305.3910357299LL173974.39730942014\n",
        "Proposed Parameter i = 2 Value = 55854.01245438637LL = 173974.39730942014\n",
        "Current Parameter i = 2 Value, 35305.3910357299LL173974.39730942014\n",
        "Proposed Parameter i = 2 Value = 55854.01245438637LL = 173974.39730942014\n",
        "Current Parameter i = "
       ]
      },
      {
       "output_type": "stream",
       "stream": "stdout",
       "text": [
        "2 Value, 35305.3910357299LL173974.39730942014\n",
        "Proposed Parameter i = 2 Value = 55854.01245438637LL = 173974.39730942014\n",
        "Current Parameter i = 2 Value, 35305.3910357299LL173974.39730942014\n",
        "Proposed Parameter i = 2 Value = 55854.01245438637LL = 173974.39730942014\n",
        "Current Parameter i = 2 Value, 57142.80005984794LL173974.39730942014\n",
        "Proposed Parameter i = 2 Value = 55854.01245438637LL = 173974.39730942014\n",
        "Current Parameter i = 2 Value, 57142.80005984794LL173974.39730942014\n",
        "Proposed Parameter i = 2 Value = 55854.01245438637LL = 173974.39730942014\n",
        "Current Parameter i = "
       ]
      },
      {
       "output_type": "stream",
       "stream": "stdout",
       "text": [
        "2 Value, 57142.80005984794LL173974.39730942014\n",
        "Proposed Parameter i = 2 Value = 55854.01245438637LL = 173974.39730942014\n",
        "Current Parameter i = 2 Value, 57142.80005984794LL173974.39730942014\n",
        "Proposed Parameter i = 2 Value = 55854.01245438637LL = 173974.39730942014\n",
        "Current Parameter i = 2 Value, 57142.80005984794LL173974.39730942014\n",
        "Proposed Parameter i = 2 Value = 55854.01245438637LL = 173974.39730942014\n",
        "Current Parameter i = 2 Value, 57142.80005984794LL173974.39730942014\n",
        "Proposed Parameter i = 2 Value = 55854.01245438637LL = 173974.39730942014\n",
        "Current Parameter i = "
       ]
      },
      {
       "output_type": "stream",
       "stream": "stdout",
       "text": [
        "2 Value, 57142.80005984794LL173974.39730942014\n",
        "Proposed Parameter i = 2 Value = 55854.01245438637LL = 173974.39730942014\n",
        "Current Parameter i = 2 Value, 57142.80005984794LL173974.39730942014\n",
        "Proposed Parameter i = 2 Value = 55854.01245438637LL = 173974.39730942014\n",
        "Current Parameter i = 2 Value, 57142.80005984794LL173974.39730942014\n",
        "Proposed Parameter i = 2 Value = 55854.01245438637LL = 173974.39730942014\n",
        "Current Parameter i = 2 Value, 57142.80005984794LL173974.39730942014\n",
        "Proposed Parameter i = 2 Value = 55854.01245438637LL = 173974.39730942014\n",
        "Current Parameter i = "
       ]
      },
      {
       "output_type": "stream",
       "stream": "stdout",
       "text": [
        "2 Value, 69103.39284109045LL173974.39730942014\n",
        "Proposed Parameter i = 2 Value = 55854.01245438637LL = 173974.39730942014\n",
        "Current Parameter i = 2 Value, 69103.39284109045LL173974.39730942014\n",
        "Proposed Parameter i = 2 Value = 55854.01245438637LL = 173974.39730942014\n",
        "Current Parameter i = 2 Value, 69103.39284109045LL173974.39730942014\n",
        "Proposed Parameter i = 2 Value = 55854.01245438637LL = 173974.39730942014\n",
        "Current Parameter i = 2 Value, 69103.39284109045LL173974.39730942014\n",
        "Proposed Parameter i = 2 Value = 55854.01245438637LL = 173974.39730942014\n",
        "Current Parameter i = "
       ]
      },
      {
       "output_type": "stream",
       "stream": "stdout",
       "text": [
        "2 Value, 69103.39284109045LL173974.39730942014\n",
        "Proposed Parameter i = 2 Value = 55854.01245438637LL = 173974.39730942014\n",
        "Current Parameter i = 2 Value, 69103.39284109045LL173974.39730942014\n",
        "Proposed Parameter i = 2 Value = 55854.01245438637LL = 173974.39730942014\n",
        "Current Parameter i = 2 Value, 69103.39284109045LL173974.39730942014\n",
        "Proposed Parameter i = 2 Value = 55854.01245438637LL = 173974.39730942014\n",
        "Current Parameter i = 2 Value, 69103.39284109045LL173974.39730942014\n",
        "Proposed Parameter i = 2 Value = 55854.01245438637LL = 173974.39730942014\n",
        "Current Parameter i = "
       ]
      },
      {
       "output_type": "stream",
       "stream": "stdout",
       "text": [
        "2 Value, 69103.39284109045LL173974.39730942014\n",
        "Proposed Parameter i = 2 Value = 55854.01245438637LL = 173974.39730942014\n",
        "Current Parameter i = 2 Value, 69103.39284109045LL173974.39730942014\n",
        "Proposed Parameter i = 2 Value = 55854.01245438637LL = 173974.39730942014\n",
        "Current Parameter i = 2 Value, 61342.752656911995LL173974.39730942014\n",
        "Proposed Parameter i = 2 Value = 55854.01245438637LL = 173974.39730942014\n",
        "Current Parameter i = 2 Value, 61342.752656911995LL173974.39730942014\n",
        "Proposed Parameter i = 2 Value = 55854.01245438637LL = 173974.39730942014\n",
        "Current Parameter i = "
       ]
      },
      {
       "output_type": "stream",
       "stream": "stdout",
       "text": [
        "2 Value, 61342.752656911995LL173974.39730942014\n",
        "Proposed Parameter i = 2 Value = 55854.01245438637LL = 173974.39730942014\n",
        "Current Parameter i = 2 Value, 61342.752656911995LL173974.39730942014\n",
        "Proposed Parameter i = 2 Value = 55854.01245438637LL = 173974.39730942014\n",
        "Current Parameter i = 2 Value, 61342.752656911995LL173974.39730942014\n",
        "Proposed Parameter i = 2 Value = 55854.01245438637LL = 173974.39730942014\n",
        "Current Parameter i = 2 Value, 61342.752656911995LL173974.39730942014\n",
        "Proposed Parameter i = 2 Value = 55854.01245438637LL = 173974.39730942014\n",
        "Current Parameter i = "
       ]
      },
      {
       "output_type": "stream",
       "stream": "stdout",
       "text": [
        "2 Value, 61342.752656911995LL173974.39730942014\n",
        "Proposed Parameter i = 2 Value = 55854.01245438637LL = 173974.39730942014\n",
        "Current Parameter i = 2 Value, 61342.752656911995LL173974.39730942014\n",
        "Proposed Parameter i = 2 Value = 55854.01245438637LL = 173974.39730942014\n",
        "Current Parameter i = 2 Value, 61342.752656911995LL173974.39730942014\n",
        "Proposed Parameter i = 2 Value = 55854.01245438637LL = 173974.39730942014\n",
        "Current Parameter i = 2 Value, 61342.752656911995LL173974.39730942014\n",
        "Proposed Parameter i = 2 Value = 55854.01245438637LL = 173974.39730942014\n",
        "Current Parameter i = "
       ]
      },
      {
       "output_type": "stream",
       "stream": "stdout",
       "text": [
        "2 Value, 68900.44327044878LL173974.39730942014\n",
        "Proposed Parameter i = 2 Value = 55854.01245438637LL = 173974.39730942014\n",
        "Current Parameter i = 2 Value, 68900.44327044878LL173974.39730942014\n",
        "Proposed Parameter i = 2 Value = 55854.01245438637LL = 173974.39730942014\n",
        "Current Parameter i = 2 Value, 68900.44327044878LL173974.39730942014\n",
        "Proposed Parameter i = 2 Value = 55854.01245438637LL = 173974.39730942014\n",
        "Current Parameter i = 2 Value, 68900.44327044878LL173974.39730942014\n",
        "Proposed Parameter i = 2 Value = 55854.01245438637LL = 173974.39730942014\n",
        "Current Parameter i = "
       ]
      },
      {
       "output_type": "stream",
       "stream": "stdout",
       "text": [
        "2 Value, 68900.44327044878LL173974.39730942014\n",
        "Proposed Parameter i = 2 Value = 55854.01245438637LL = 173974.39730942014\n",
        "Current Parameter i = 2 Value, 68900.44327044878LL173974.39730942014\n",
        "Proposed Parameter i = 2 Value = 55854.01245438637LL = 173974.39730942014\n",
        "Current Parameter i = 2 Value, 68900.44327044878LL173974.39730942014\n",
        "Proposed Parameter i = 2 Value = 55854.01245438637LL = 173974.39730942014\n",
        "Current Parameter i = 2 Value, 68900.44327044878LL173974.39730942014\n",
        "Proposed Parameter i = 2 Value = 55854.01245438637LL = 173974.39730942014\n",
        "Current Parameter i = "
       ]
      },
      {
       "output_type": "stream",
       "stream": "stdout",
       "text": [
        "2 Value, 68900.44327044878LL173974.39730942014\n",
        "Proposed Parameter i = 2 Value = 55854.01245438637LL = 173974.39730942014\n",
        "Current Parameter i = 2 Value, 68900.44327044878LL173974.39730942014\n",
        "Proposed Parameter i = 2 Value = 55854.01245438637LL = 173974.39730942014\n",
        "Current Parameter i = 2 Value, 57728.863872037604LL173974.39730942014\n",
        "Proposed Parameter i = 2 Value = 55854.01245438637LL = 173974.39730942014\n",
        "Current Parameter i = 2 Value, 57728.863872037604LL173974.39730942014\n",
        "Proposed Parameter i = 2 Value = 55854.01245438637LL = 173974.39730942014\n",
        "Current Parameter i = "
       ]
      },
      {
       "output_type": "stream",
       "stream": "stdout",
       "text": [
        "2 Value, 57728.863872037604LL173974.39730942014\n",
        "Proposed Parameter i = 2 Value = 55854.01245438637LL = 173974.39730942014\n",
        "Current Parameter i = 2 Value, 57728.863872037604LL173974.39730942014\n",
        "Proposed Parameter i = 2 Value = 55854.01245438637LL = 173974.39730942014\n",
        "Current Parameter i = 2 Value, 57728.863872037604LL173974.39730942014\n",
        "Proposed Parameter i = 2 Value = 55854.01245438637LL = 173974.39730942014\n",
        "Current Parameter i = 2 Value, 57728.863872037604LL173974.39730942014\n",
        "Proposed Parameter i = 2 Value = 55854.01245438637LL = 173974.39730942014\n",
        "Current Parameter i = "
       ]
      },
      {
       "output_type": "stream",
       "stream": "stdout",
       "text": [
        "2 Value, 57728.863872037604LL173974.39730942014\n",
        "Proposed Parameter i = 2 Value = 55854.01245438637LL = 173974.39730942014\n",
        "Current Parameter i = 2 Value, 57728.863872037604LL173974.39730942014\n",
        "Proposed Parameter i = 2 Value = 55854.01245438637LL = 173974.39730942014\n",
        "Current Parameter i = 2 Value, 57728.863872037604LL173974.39730942014\n",
        "Proposed Parameter i = 2 Value = 55854.01245438637LL = 173974.39730942014\n",
        "Current Parameter i = 2 Value, 57728.863872037604LL173974.39730942014\n",
        "Proposed Parameter i = 2 Value = 55854.01245438637LL = 173974.39730942014\n",
        "Current Parameter i = "
       ]
      },
      {
       "output_type": "stream",
       "stream": "stdout",
       "text": [
        "2 Value, 224850.4627488375LL173974.39730942014\n",
        "Proposed Parameter i = 2 Value = 55854.01245438637LL = 173974.39730942014\n",
        "Current Parameter i = 2 Value, 224850.4627488375LL173974.39730942014\n",
        "Proposed Parameter i = 2 Value = 55854.01245438637LL = 173974.39730942014\n",
        "Current Parameter i = 2 Value, 224850.4627488375LL173974.39730942014\n",
        "Proposed Parameter i = 2 Value = 55854.01245438637LL = 173974.39730942014\n",
        "Current Parameter i = 2 Value, 224850.4627488375LL173974.39730942014\n",
        "Proposed Parameter i = 2 Value = 55854.01245438637LL = 173974.39730942014\n",
        "Current Parameter i = "
       ]
      },
      {
       "output_type": "stream",
       "stream": "stdout",
       "text": [
        "2 Value, 224850.4627488375LL173974.39730942014\n",
        "Proposed Parameter i = 2 Value = 55854.01245438637LL = 173974.39730942014\n",
        "Current Parameter i = 2 Value, 224850.4627488375LL173974.39730942014\n",
        "Proposed Parameter i = 2 Value = 55854.01245438637LL = 173974.39730942014\n",
        "Current Parameter i = 2 Value, 224850.4627488375LL173974.39730942014\n",
        "Proposed Parameter i = 2 Value = 55854.01245438637LL = 173974.39730942014\n",
        "Current Parameter i = 2 Value, 224850.4627488375LL173974.39730942014\n",
        "Proposed Parameter i = 2 Value = 55854.01245438637LL = 173974.39730942014\n",
        "Current Parameter i = "
       ]
      },
      {
       "output_type": "stream",
       "stream": "stdout",
       "text": [
        "2 Value, 224850.4627488375LL173974.39730942014\n",
        "Proposed Parameter i = 2 Value = 55854.01245438637LL = 173974.39730942014\n",
        "Current Parameter i = 2 Value, 224850.4627488375LL173974.39730942014\n",
        "Proposed Parameter i = 2 Value = 55854.01245438637LL = 173974.39730942014\n",
        "Current Parameter i = 2 Value, 22512.865050599554LL173974.39730942014\n",
        "Proposed Parameter i = 2 Value = 55854.01245438637LL = 173974.39730942014\n",
        "Current Parameter i = 2 Value, 22512.865050599554LL173974.39730942014\n",
        "Proposed Parameter i = 2 Value = 55854.01245438637LL = 173974.39730942014\n",
        "Current Parameter i = "
       ]
      },
      {
       "output_type": "stream",
       "stream": "stdout",
       "text": [
        "2 Value, 22512.865050599554LL173974.39730942014\n",
        "Proposed Parameter i = 2 Value = 55854.01245438637LL = 173974.39730942014\n",
        "Current Parameter i = 2 Value, 22512.865050599554LL173974.39730942014\n",
        "Proposed Parameter i = 2 Value = 55854.01245438637LL = 173974.39730942014\n",
        "Current Parameter i = 2 Value, 22512.865050599554LL173974.39730942014\n",
        "Proposed Parameter i = 2 Value = 55854.01245438637LL = 173974.39730942014\n",
        "Current Parameter i = 2 Value, 22512.865050599554LL173974.39730942014\n",
        "Proposed Parameter i = 2 Value = 55854.01245438637LL = 173974.39730942014\n",
        "Current Parameter i = "
       ]
      },
      {
       "output_type": "stream",
       "stream": "stdout",
       "text": [
        "2 Value, 22512.865050599554LL173974.39730942014\n",
        "Proposed Parameter i = 2 Value = 55854.01245438637LL = 173974.39730942014\n",
        "Current Parameter i = 2 Value, 22512.865050599554LL173974.39730942014\n",
        "Proposed Parameter i = 2 Value = 55854.01245438637LL = 173974.39730942014\n",
        "Current Parameter i = 2 Value, 22512.865050599554LL173974.39730942014\n",
        "Proposed Parameter i = 2 Value = 55854.01245438637LL = 173974.39730942014\n",
        "Current Parameter i = 2 Value, 22512.865050599554LL173974.39730942014\n",
        "Proposed Parameter i = 2 Value = 55854.01245438637LL = 173974.39730942014\n",
        "Current Parameter i = "
       ]
      },
      {
       "output_type": "stream",
       "stream": "stdout",
       "text": [
        "2 Value, 19853.766045481556LL173974.39730942014\n",
        "Proposed Parameter i = 2 Value = 55854.01245438637LL = 173974.39730942014\n",
        "Current Parameter i = 2 Value, 19853.766045481556LL173974.39730942014\n",
        "Proposed Parameter i = 2 Value = 55854.01245438637LL = 173974.39730942014\n",
        "Current Parameter i = 2 Value, 19853.766045481556LL173974.39730942014\n",
        "Proposed Parameter i = 2 Value = 55854.01245438637LL = 173974.39730942014\n",
        "Current Parameter i = 2 Value, 19853.766045481556LL173974.39730942014\n",
        "Proposed Parameter i = 2 Value = 55854.01245438637LL = 173974.39730942014\n",
        "Current Parameter i = "
       ]
      },
      {
       "output_type": "stream",
       "stream": "stdout",
       "text": [
        "2 Value, 19853.766045481556LL173974.39730942014\n",
        "Proposed Parameter i = 2 Value = 55854.01245438637LL = 173974.39730942014\n",
        "Current Parameter i = 2 Value, 19853.766045481556LL173974.39730942014\n",
        "Proposed Parameter i = 2 Value = 55854.01245438637LL = 173974.39730942014\n",
        "Current Parameter i = 2 Value, 19853.766045481556LL173974.39730942014\n",
        "Proposed Parameter i = 2 Value = 55854.01245438637LL = 173974.39730942014\n",
        "Current Parameter i = 2 Value, 19853.766045481556LL173974.39730942014\n",
        "Proposed Parameter i = 2 Value = 55854.01245438637LL = 173974.39730942014\n",
        "Current Parameter i = "
       ]
      },
      {
       "output_type": "stream",
       "stream": "stdout",
       "text": [
        "2 Value, 19853.766045481556LL173974.39730942014\n",
        "Proposed Parameter i = 2 Value = 55854.01245438637LL = 173974.39730942014\n",
        "Current Parameter i = 2 Value, 19853.766045481556LL173974.39730942014\n",
        "Proposed Parameter i = 2 Value = 55854.01245438637LL = 173974.39730942014\n",
        "Current Parameter i = 2 Value, 376481.62062085816LL173974.39730942014\n",
        "Proposed Parameter i = 2 Value = 55854.01245438637LL = 173974.39730942014\n",
        "Current Parameter i = 2 Value, 376481.62062085816LL173974.39730942014\n",
        "Proposed Parameter i = 2 Value = 55854.01245438637LL = 173974.39730942014\n",
        "Current Parameter i = "
       ]
      },
      {
       "output_type": "stream",
       "stream": "stdout",
       "text": [
        "2 Value, 376481.62062085816LL173974.39730942014\n",
        "Proposed Parameter i = 2 Value = 55854.01245438637LL = 173974.39730942014\n",
        "Current Parameter i = 2 Value, 376481.62062085816LL173974.39730942014\n",
        "Proposed Parameter i = 2 Value = 55854.01245438637LL = 173974.39730942014\n",
        "Current Parameter i = 2 Value, 376481.62062085816LL173974.39730942014\n",
        "Proposed Parameter i = 2 Value = 55854.01245438637LL = 173974.39730942014\n",
        "Current Parameter i = 2 Value, 376481.62062085816LL173974.39730942014\n",
        "Proposed Parameter i = 2 Value = 55854.01245438637LL = 173974.39730942014\n",
        "Current Parameter i = "
       ]
      },
      {
       "output_type": "stream",
       "stream": "stdout",
       "text": [
        "2 Value, 376481.62062085816LL173974.39730942014\n",
        "Proposed Parameter i = 2 Value = 55854.01245438637LL = 173974.39730942014\n",
        "Current Parameter i = 2 Value, 376481.62062085816LL173974.39730942014\n",
        "Proposed Parameter i = 2 Value = 55854.01245438637LL = 173974.39730942014\n",
        "Current Parameter i = 2 Value, 376481.62062085816LL173974.39730942014\n",
        "Proposed Parameter i = 2 Value = 55854.01245438637LL = 173974.39730942014\n",
        "Current Parameter i = 2 Value, 376481.62062085816LL173974.39730942014\n",
        "Proposed Parameter i = 2 Value = 55854.01245438637LL = 173974.39730942014\n",
        "Current Parameter i = "
       ]
      },
      {
       "output_type": "stream",
       "stream": "stdout",
       "text": [
        "2 Value, 173888.7181415287LL173974.39730942014\n",
        "Proposed Parameter i = 2 Value = 55854.01245438637LL = 173974.39730942014\n",
        "Current Parameter i = 2 Value, 173888.7181415287LL173974.39730942014\n",
        "Proposed Parameter i = 2 Value = 55854.01245438637LL = 173974.39730942014\n",
        "Current Parameter i = 2 Value, 173888.7181415287LL173974.39730942014\n",
        "Proposed Parameter i = 2 Value = 55854.01245438637LL = 173974.39730942014\n",
        "Current Parameter i = 2 Value, 173888.7181415287LL173974.39730942014\n",
        "Proposed Parameter i = 2 Value = 55854.01245438637LL = 173974.39730942014\n",
        "Current Parameter i = "
       ]
      },
      {
       "output_type": "stream",
       "stream": "stdout",
       "text": [
        "2 Value, 173888.7181415287LL173974.39730942014\n",
        "Proposed Parameter i = 2 Value = 55854.01245438637LL = 173974.39730942014\n",
        "Current Parameter i = 2 Value, 173888.7181415287LL173974.39730942014\n",
        "Proposed Parameter i = 2 Value = 55854.01245438637LL = 173974.39730942014\n",
        "Current Parameter i = 2 Value, 173888.7181415287LL173974.39730942014\n",
        "Proposed Parameter i = 2 Value = 55854.01245438637LL = 173974.39730942014\n",
        "Current Parameter i = 2 Value, 173888.7181415287LL173974.39730942014\n",
        "Proposed Parameter i = 2 Value = 55854.01245438637LL = 173974.39730942014\n",
        "Current Parameter i = "
       ]
      },
      {
       "output_type": "stream",
       "stream": "stdout",
       "text": [
        "2 Value, 173888.7181415287LL173974.39730942014\n",
        "Proposed Parameter i = 2 Value = 55854.01245438637LL = 173974.39730942014\n",
        "Current Parameter i = 2 Value, 173888.7181415287LL173974.39730942014\n",
        "Proposed Parameter i = 2 Value = 55854.01245438637LL = 173974.39730942014\n",
        "Current Parameter i = 2 Value, 99020.29803352119LL173974.39730942014\n",
        "Proposed Parameter i = 2 Value = 55854.01245438637LL = 173974.39730942014\n",
        "Current Parameter i = 2 Value, 99020.29803352119LL173974.39730942014\n",
        "Proposed Parameter i = 2 Value = 55854.01245438637LL = 173974.39730942014\n",
        "Current Parameter i = "
       ]
      },
      {
       "output_type": "stream",
       "stream": "stdout",
       "text": [
        "2 Value, 99020.29803352119LL173974.39730942014\n",
        "Proposed Parameter i = 2 Value = 55854.01245438637LL = 173974.39730942014\n",
        "Current Parameter i = 2 Value, 99020.29803352119LL173974.39730942014\n",
        "Proposed Parameter i = 2 Value = 55854.01245438637LL = 173974.39730942014\n",
        "Current Parameter i = 2 Value, 99020.29803352119LL173974.39730942014\n",
        "Proposed Parameter i = 2 Value = 55854.01245438637LL = 173974.39730942014\n",
        "Current Parameter i = 2 Value, 99020.29803352119LL173974.39730942014\n",
        "Proposed Parameter i = 2 Value = 55854.01245438637LL = 173974.39730942014\n",
        "Current Parameter i = "
       ]
      },
      {
       "output_type": "stream",
       "stream": "stdout",
       "text": [
        "2 Value, 99020.29803352119LL173974.39730942014\n",
        "Proposed Parameter i = 2 Value = 55854.01245438637LL = 173974.39730942014\n",
        "Current Parameter i = 2 Value, 99020.29803352119LL173974.39730942014\n",
        "Proposed Parameter i = 2 Value = 55854.01245438637LL = 173974.39730942014\n",
        "Current Parameter i = 2 Value, 99020.29803352119LL173974.39730942014\n",
        "Proposed Parameter i = 2 Value = 55854.01245438637LL = 173974.39730942014\n",
        "Current Parameter i = 2 Value, 99020.29803352119LL173974.39730942014\n",
        "Proposed Parameter i = 2 Value = 55854.01245438637LL = 173974.39730942014\n",
        "Current Parameter i = "
       ]
      },
      {
       "output_type": "stream",
       "stream": "stdout",
       "text": [
        "2 Value, 77769.07698712658LL173974.39730942014\n",
        "Proposed Parameter i = 2 Value = 55854.01245438637LL = 173974.39730942014\n",
        "Current Parameter i = 2 Value, 77769.07698712658LL173974.39730942014\n",
        "Proposed Parameter i = 2 Value = 55854.01245438637LL = 173974.39730942014\n",
        "Current Parameter i = 2 Value, 77769.07698712658LL173974.39730942014\n",
        "Proposed Parameter i = 2 Value = 55854.01245438637LL = 173974.39730942014\n",
        "Current Parameter i = 2 Value, 77769.07698712658LL173974.39730942014\n",
        "Proposed Parameter i = 2 Value = 55854.01245438637LL = 173974.39730942014\n",
        "Current Parameter i = "
       ]
      },
      {
       "output_type": "stream",
       "stream": "stdout",
       "text": [
        "2 Value, 77769.07698712658LL173974.39730942014\n",
        "Proposed Parameter i = 2 Value = 55854.01245438637LL = 173974.39730942014\n",
        "Current Parameter i = 2 Value, 77769.07698712658LL173974.39730942014\n",
        "Proposed Parameter i = 2 Value = 55854.01245438637LL = 173974.39730942014\n",
        "Current Parameter i = 2 Value, 77769.07698712658LL173974.39730942014\n",
        "Proposed Parameter i = 2 Value = 55854.01245438637LL = 173974.39730942014\n",
        "Current Parameter i = 2 Value, 77769.07698712658LL173974.39730942014\n",
        "Proposed Parameter i = 2 Value = 55854.01245438637LL = 173974.39730942014\n",
        "Current Parameter i = "
       ]
      },
      {
       "output_type": "stream",
       "stream": "stdout",
       "text": [
        "2 Value, 77769.07698712658LL173974.39730942014\n",
        "Proposed Parameter i = 2 Value = 55854.01245438637LL = 173974.39730942014\n",
        "Current Parameter i = 2 Value, 77769.07698712658LL173974.39730942014\n",
        "Proposed Parameter i = 2 Value = 55854.01245438637LL = 173974.39730942014\n",
        "Current Parameter i = 2 Value, 23358.342934515866LL173974.39730942014\n",
        "Proposed Parameter i = 2 Value = 55854.01245438637LL = 173974.39730942014\n",
        "Current Parameter i = 2 Value, 23358.342934515866LL173974.39730942014\n",
        "Proposed Parameter i = 2 Value = 55854.01245438637LL = 173974.39730942014\n",
        "Current Parameter i = "
       ]
      },
      {
       "output_type": "stream",
       "stream": "stdout",
       "text": [
        "2 Value, 23358.342934515866LL173974.39730942014\n",
        "Proposed Parameter i = 2 Value = 55854.01245438637LL = 173974.39730942014\n",
        "Current Parameter i = 2 Value, 23358.342934515866LL173974.39730942014\n",
        "Proposed Parameter i = 2 Value = 55854.01245438637LL = 173974.39730942014\n",
        "Current Parameter i = 2 Value, 23358.342934515866LL173974.39730942014\n",
        "Proposed Parameter i = 2 Value = 55854.01245438637LL = 173974.39730942014\n",
        "Current Parameter i = 2 Value, 23358.342934515866LL173974.39730942014\n",
        "Proposed Parameter i = 2 Value = 55854.01245438637LL = 173974.39730942014\n",
        "Current Parameter i = "
       ]
      },
      {
       "output_type": "stream",
       "stream": "stdout",
       "text": [
        "2 Value, 23358.342934515866LL173974.39730942014\n",
        "Proposed Parameter i = 2 Value = 55854.01245438637LL = 173974.39730942014\n",
        "Current Parameter i = 2 Value, 23358.342934515866LL173974.39730942014\n",
        "Proposed Parameter i = 2 Value = 55854.01245438637LL = 173974.39730942014\n",
        "Current Parameter i = 2 Value, 23358.342934515866LL173974.39730942014\n",
        "Proposed Parameter i = 2 Value = 55854.01245438637LL = 173974.39730942014\n",
        "Current Parameter i = 2 Value, 23358.342934515866LL173974.39730942014\n",
        "Proposed Parameter i = 2 Value = 55854.01245438637LL = 173974.39730942014\n",
        "Current Parameter i = "
       ]
      },
      {
       "output_type": "stream",
       "stream": "stdout",
       "text": [
        "2 Value, 44568.77586851381LL173974.39730942014\n",
        "Proposed Parameter i = 2 Value = 55854.01245438637LL = 173974.39730942014\n",
        "Current Parameter i = 2 Value, 44568.77586851381LL173974.39730942014\n",
        "Proposed Parameter i = 2 Value = 55854.01245438637LL = 173974.39730942014\n",
        "Current Parameter i = 2 Value, 44568.77586851381LL173974.39730942014\n",
        "Proposed Parameter i = 2 Value = 55854.01245438637LL = 173974.39730942014\n",
        "Current Parameter i = 2 Value, 44568.77586851381LL173974.39730942014\n",
        "Proposed Parameter i = 2 Value = 55854.01245438637LL = 173974.39730942014\n",
        "Current Parameter i = "
       ]
      },
      {
       "output_type": "stream",
       "stream": "stdout",
       "text": [
        "2 Value, 44568.77586851381LL173974.39730942014\n",
        "Proposed Parameter i = 2 Value = 55854.01245438637LL = 173974.39730942014\n",
        "Current Parameter i = 2 Value, 44568.77586851381LL173974.39730942014\n",
        "Proposed Parameter i = 2 Value = 55854.01245438637LL = 173974.39730942014\n",
        "Current Parameter i = 2 Value, 44568.77586851381LL173974.39730942014\n",
        "Proposed Parameter i = 2 Value = 55854.01245438637LL = 173974.39730942014\n",
        "Current Parameter i = 1 Value, 1890.7600093852664LL174301.88086864835\n",
        "Proposed Parameter i = 1 Value = 2806.9736553102184LL = 174301.88086864835\n",
        "Current Parameter i = "
       ]
      },
      {
       "output_type": "stream",
       "stream": "stdout",
       "text": [
        "1 Value, 1890.7600093852664LL174287.66275406466\n",
        "Proposed Parameter i = 1 Value = 2806.9736553102184LL = 174287.66275406466\n",
        "Current Parameter i = 1 Value, 1890.7600093852664LL169660.7725880498\n",
        "Proposed Parameter i = 1 Value = 749.9411863808416LL = 169660.7725880498\n",
        "Current Parameter i = 1 Value, 1890.7600093852664LL170607.97234356139\n",
        "Proposed Parameter i = 1 Value = 749.9411863808416LL = 170607.97234356139\n",
        "Current Parameter i = "
       ]
      },
      {
       "output_type": "stream",
       "stream": "stdout",
       "text": [
        "1 Value, 1890.7600093852664LL170634.36555167247\n",
        "Proposed Parameter i = 1 Value = 749.9411863808416LL = 170634.36555167247\n",
        "Current Parameter i = 1 Value, 1890.7600093852664LL170610.96514408474\n",
        "Proposed Parameter i = 1 Value = 749.9411863808416LL = 170610.96514408474\n",
        "Current Parameter i = 1 Value, 1890.7600093852664LL170433.2572238354\n",
        "Proposed Parameter i = 1 Value = 749.9411863808416LL = 170433.2572238354\n",
        "Current Parameter i = 1 Value, 1890.7600093852664LL168852.65021469278\n",
        "Proposed Parameter i = 1 Value = 749.9411863808416LL = 168852.65021469278\n",
        "Current Parameter i = "
       ]
      },
      {
       "output_type": "stream",
       "stream": "stdout",
       "text": [
        "1 Value, 1890.7600093852664LL169322.54987285545\n",
        "Proposed Parameter i = 1 Value = 749.9411863808416LL = 169322.54987285545\n",
        "Current Parameter i = 1 Value, 1890.7600093852664LL164888.56403542493\n",
        "Proposed Parameter i = 1 Value = 749.9411863808416LL = 164888.56403542493\n",
        "Current Parameter i = 1 Value, 1890.7600093852664LL164873.90432268762\n",
        "Proposed Parameter i = 1 Value = 749.9411863808416LL = 164873.90432268762\n",
        "Current Parameter i = 1 Value, 1890.7600093852664LL164982.17191390332\n",
        "Proposed Parameter i = 1 Value = 749.9411863808416LL = 164982.17191390332\n",
        "Current Parameter i = "
       ]
      },
      {
       "output_type": "stream",
       "stream": "stdout",
       "text": [
        "1 Value, 1890.7600093852664LL164908.64253357606\n",
        "Proposed Parameter i = 1 Value = 861.819532806285LL = 164908.64253357606\n",
        "Current Parameter i = 1 Value, 1890.7600093852664LL169949.34358263828\n",
        "Proposed Parameter i = 1 Value = 861.819532806285LL = 169949.34358263828\n",
        "Current Parameter i = 1 Value, 1890.7600093852664LL169949.48309286588\n",
        "Proposed Parameter i = 1 Value = 861.819532806285LL = 169949.48309286588\n",
        "Current Parameter i = 1 Value, 1890.7600093852664LL169949.4830842056\n",
        "Proposed Parameter i = 1 Value = 861.819532806285LL = 169949.4830842056\n",
        "Current Parameter i = "
       ]
      },
      {
       "output_type": "stream",
       "stream": "stdout",
       "text": [
        "1 Value, 1890.7600093852664LL170496.725403277\n",
        "Proposed Parameter i = 1 Value = 861.819532806285LL = 170496.725403277\n",
        "Current Parameter i = 1 Value, 1890.7600093852664LL170613.3966415234\n",
        "Proposed Parameter i = 1 Value = 861.819532806285LL = 170613.3966415234\n",
        "Current Parameter i = 1 Value, 1890.7600093852664LL170551.55553048372\n",
        "Proposed Parameter i = 1 Value = 861.819532806285LL = 170551.55553048372\n",
        "Current Parameter i = "
       ]
      },
      {
       "output_type": "stream",
       "stream": "stdout",
       "text": [
        "1 Value, 1890.7600093852664LL171013.55157451544\n",
        "Proposed Parameter i = 1 Value = 861.819532806285LL = 171013.55157451544\n",
        "Current Parameter i = 1 Value, 1890.7600093852664LL171050.65621338433\n",
        "Proposed Parameter i = 1 Value = 861.819532806285LL = 171050.65621338433\n",
        "Current Parameter i = 1 Value, 1890.7600093852664LL171047.28144663383\n",
        "Proposed Parameter i = 1 Value = 861.819532806285LL = 171047.28144663383\n",
        "Current Parameter i = 1 Value, 1890.7600093852664LL173697.98264831246\n",
        "Proposed Parameter i = 1 Value = 3444.892418839785LL = 173697.98264831246\n",
        "Current Parameter i = "
       ]
      },
      {
       "output_type": "stream",
       "stream": "stdout",
       "text": [
        "1 Value, 1890.7600093852664LL174383.27689379395\n",
        "Proposed Parameter i = 1 Value = 3444.892418839785LL = 174383.27689379395\n",
        "Current Parameter i = 1 Value, 1890.7600093852664LL174383.28163172395\n",
        "Proposed Parameter i = 1 Value = 3444.892418839785LL = 174383.28163172395\n",
        "Current Parameter i = 1 Value, 1890.7600093852664LL174383.27782868352\n",
        "Proposed Parameter i = 1 Value = 3444.892418839785LL = 174383.27782868352\n",
        "Current Parameter i = 1 Value, 1890.7600093852664LL174371.0375172014\n",
        "Proposed Parameter i = 1 Value = 3444.892418839785LL = 174371.0375172014\n",
        "Current Parameter i = "
       ]
      },
      {
       "output_type": "stream",
       "stream": "stdout",
       "text": [
        "1 Value, 1890.7600093852664LL172485.1927096632\n",
        "Proposed Parameter i = 1 Value = 3444.892418839785LL = 172485.1927096632\n",
        "Current Parameter i = 1 Value, 1890.7600093852664LL170958.24117340235\n",
        "Proposed Parameter i = 1 Value = 3444.892418839785LL = 170958.24117340235\n",
        "Current Parameter i = 1 Value, 1890.7600093852664LL169754.41640745508\n",
        "Proposed Parameter i = 1 Value = 3444.892418839785LL = 169754.41640745508\n",
        "Current Parameter i = "
       ]
      },
      {
       "output_type": "stream",
       "stream": "stdout",
       "text": [
        "1 Value, 1890.7600093852664LL169643.49434279662\n",
        "Proposed Parameter i = 1 Value = 3444.892418839785LL = 169643.49434279662\n",
        "Current Parameter i = 1 Value, 1890.7600093852664LL169692.0969165218\n",
        "Proposed Parameter i = 1 Value = 3444.892418839785LL = 169692.0969165218\n",
        "Current Parameter i = 1 Value, 1890.7600093852664LL157000.04665170185\n",
        "Proposed Parameter i = 1 Value = 13476.457833477943LL = 157000.04665170185\n",
        "Current Parameter i = 1 Value, 1890.7600093852664LL161274.5939028456\n",
        "Proposed Parameter i = 1 Value = 13476.457833477943LL = 161274.5939028456\n",
        "Current Parameter i = "
       ]
      },
      {
       "output_type": "stream",
       "stream": "stdout",
       "text": [
        "1 Value, 1890.7600093852664LL161274.55437991486\n",
        "Proposed Parameter i = 1 Value = 13476.457833477943LL = 161274.55437991486\n",
        "Current Parameter i = 1 Value, 1890.7600093852664LL161274.55435661282\n",
        "Proposed Parameter i = 1 Value = 13476.457833477943LL = 161274.55435661282\n",
        "Current Parameter i = 1 Value, 1890.7600093852664LL160031.26391346217\n",
        "Proposed Parameter i = 1 Value = 13476.457833477943LL = 160031.26391346217\n",
        "Current Parameter i = 1 Value, 1890.7600093852664LL163397.1628818203\n",
        "Proposed Parameter i = 1 Value = 13476.457833477943LL = 163397.1628818203\n",
        "Current Parameter i = "
       ]
      },
      {
       "output_type": "stream",
       "stream": "stdout",
       "text": [
        "1 Value, 1890.7600093852664LL162333.76115404078\n",
        "Proposed Parameter i = 1 Value = 13476.457833477943LL = 162333.76115404078\n",
        "Current Parameter i = 1 Value, 1890.7600093852664LL147793.4885575169\n",
        "Proposed Parameter i = 1 Value = 13476.457833477943LL = 147793.4885575169\n",
        "Current Parameter i = 1 Value, 1890.7600093852664LL147895.51020474063\n",
        "Proposed Parameter i = 1 Value = 13476.457833477943LL = 147895.51020474063\n",
        "Current Parameter i = 1 Value, 1890.7600093852664LL147880.23754045105\n",
        "Proposed Parameter i = 1 Value = 13476.457833477943LL = 147880.23754045105\n",
        "Current Parameter i = "
       ]
      },
      {
       "output_type": "stream",
       "stream": "stdout",
       "text": [
        "1 Value, 1890.7600093852664LL154392.38892165083\n",
        "Proposed Parameter i = 1 Value = 8758.360546959388LL = 154392.38892165083\n",
        "Current Parameter i = 1 Value, 1890.7600093852664LL127700.73227741291\n",
        "Proposed Parameter i = 1 Value = 8758.360546959388LL = 127700.73227741291\n",
        "Current Parameter i = 1 Value, 1890.7600093852664LL127701.26153391619\n",
        "Proposed Parameter i = 1 Value = 8758.360546959388LL = 127701.26153391619\n",
        "Current Parameter i = 1 Value, 1890.7600093852664LL127704.9271693777\n",
        "Proposed Parameter i = 1 Value = 8758.360546959388LL = 127704.9271693777\n",
        "Current Parameter i = "
       ]
      },
      {
       "output_type": "stream",
       "stream": "stdout",
       "text": [
        "1 Value, 1890.7600093852664LL124250.31617419176\n",
        "Proposed Parameter i = 1 Value = 8758.360546959388LL = 124250.31617419176\n",
        "Current Parameter i = 1 Value, 1890.7600093852664LL121646.45776247169\n",
        "Proposed Parameter i = 1 Value = 8758.360546959388LL = 121646.45776247169\n",
        "Current Parameter i = 1 Value, 1890.7600093852664LL122848.099148177\n",
        "Proposed Parameter i = 1 Value = 8758.360546959388LL = 122848.099148177\n",
        "Current Parameter i = 1 Value, 1890.7600093852664LL112368.2253667727\n",
        "Proposed Parameter i = 1 Value = 8758.360546959388LL = 112368.2253667727\n",
        "Current Parameter i = "
       ]
      },
      {
       "output_type": "stream",
       "stream": "stdout",
       "text": [
        "1 Value, 1890.7600093852664LL112260.48951145705\n",
        "Proposed Parameter i = 1 Value = 8758.360546959388LL = 112260.48951145705\n",
        "Current Parameter i = 1 Value, 1890.7600093852664LL112253.86720836863\n",
        "Proposed Parameter i = 1 Value = 8758.360546959388LL = 112253.86720836863\n",
        "Current Parameter i = 1 Value, 1890.7600093852664LL163287.4392221694\n",
        "Proposed Parameter i = 1 Value = 441.4323468067044LL = 163287.4392221694\n",
        "Current Parameter i = 1 Value, 1890.7600093852664LL163290.22148756907\n",
        "Proposed Parameter i = 1 Value = 441.4323468067044LL = 163290.22148756907\n",
        "Current Parameter i = "
       ]
      },
      {
       "output_type": "stream",
       "stream": "stdout",
       "text": [
        "1 Value, 1890.7600093852664LL163289.18465177543\n",
        "Proposed Parameter i = 1 Value = 441.4323468067044LL = 163289.18465177543\n",
        "Current Parameter i = 1 Value, 1890.7600093852664LL163289.17543420292\n",
        "Proposed Parameter i = 1 Value = 441.4323468067044LL = 163289.17543420292\n",
        "Current Parameter i = 1 Value, 1890.7600093852664LL162615.9752332942\n",
        "Proposed Parameter i = 1 Value = 441.4323468067044LL = 162615.9752332942\n",
        "Current Parameter i = 1 Value, 1890.7600093852664LL159690.6679248049\n",
        "Proposed Parameter i = 1 Value = 441.4323468067044LL = 159690.6679248049\n",
        "Current Parameter i = "
       ]
      },
      {
       "output_type": "stream",
       "stream": "stdout",
       "text": [
        "1 Value, 1890.7600093852664LL160299.091006331\n",
        "Proposed Parameter i = 1 Value = 441.4323468067044LL = 160299.091006331\n",
        "Current Parameter i = 1 Value, 1890.7600093852664LL160835.20605440796\n",
        "Proposed Parameter i = 1 Value = 441.4323468067044LL = 160835.20605440796\n",
        "Current Parameter i = 1 Value, 1890.7600093852664LL160331.42260753908\n",
        "Proposed Parameter i = 1 Value = 441.4323468067044LL = 160331.42260753908\n",
        "Current Parameter i = 1 Value, 1890.7600093852664LL160471.94882521656\n",
        "Proposed Parameter i = 1 Value = 441.4323468067044LL = 160471.94882521656\n",
        "Current Parameter i = "
       ]
      },
      {
       "output_type": "stream",
       "stream": "stdout",
       "text": [
        "1 Value, 1890.7600093852664LL167770.38185775827\n",
        "Proposed Parameter i = 1 Value = 3698.7252750412194LL = 167770.38185775827\n",
        "Current Parameter i = 1 Value, 1890.7600093852664LL159669.80120895192\n",
        "Proposed Parameter i = 1 Value = 3698.7252750412194LL = 159669.80120895192\n",
        "Current Parameter i = 1 Value, 1890.7600093852664LL159674.22899447233\n",
        "Proposed Parameter i = 1 Value = 3698.7252750412194LL = 159674.22899447233\n",
        "Current Parameter i = 1 Value, 1890.7600093852664LL159677.68946822005\n",
        "Proposed Parameter i = 1 Value = 3698.7252750412194LL = 159677.68946822005\n",
        "Current Parameter i = "
       ]
      },
      {
       "output_type": "stream",
       "stream": "stdout",
       "text": [
        "1 Value, 1890.7600093852664LL159643.3301204042\n",
        "Proposed Parameter i = 1 Value = 3698.7252750412194LL = 159643.3301204042\n",
        "Current Parameter i = 1 Value, 1890.7600093852664LL159517.44150364367\n",
        "Proposed Parameter i = 1 Value = 3698.7252750412194LL = 159517.44150364367\n",
        "Current Parameter i = 1 Value, 1890.7600093852664LL158855.60000746817\n",
        "Proposed Parameter i = 1 Value = 3698.7252750412194LL = 158855.60000746817\n",
        "Current Parameter i = 1 Value, 1890.7600093852664LL160438.09093006593\n",
        "Proposed Parameter i = 1 Value = 3698.7252750412194LL = 160438.09093006593\n",
        "Current Parameter i = "
       ]
      },
      {
       "output_type": "stream",
       "stream": "stdout",
       "text": [
        "1 Value, 1890.7600093852664LL160455.43368973673\n",
        "Proposed Parameter i = 1 Value = 3698.7252750412194LL = 160455.43368973673\n",
        "Current Parameter i = 1 Value, 1890.7600093852664LL160326.3669042009\n",
        "Proposed Parameter i = 1 Value = 3698.7252750412194LL = 160326.3669042009\n",
        "Current Parameter i = 1 Value, 1890.7600093852664LL156283.92253116413\n",
        "Proposed Parameter i = 1 Value = 4296.800098955859LL = 156283.92253116413\n",
        "Current Parameter i = 1 Value, 1890.7600093852664LL169693.1355308416\n",
        "Proposed Parameter i = 1 Value = 4296.800098955859LL = 169693.1355308416\n",
        "Current Parameter i = "
       ]
      },
      {
       "output_type": "stream",
       "stream": "stdout",
       "text": [
        "1 Value, 1890.7600093852664LL169690.72595343174\n",
        "Proposed Parameter i = 1 Value = 4296.800098955859LL = 169690.72595343174\n",
        "Current Parameter i = 1 Value, 1890.7600093852664LL169690.63688987374\n",
        "Proposed Parameter i = 1 Value = 4296.800098955859LL = 169690.63688987374\n",
        "Current Parameter i = 1 Value, 1890.7600093852664LL169479.39475768522\n",
        "Proposed Parameter i = 1 Value = 4296.800098955859LL = 169479.39475768522\n",
        "Current Parameter i = 1 Value, 1890.7600093852664LL169807.94526129478\n",
        "Proposed Parameter i = 1 Value = 4296.800098955859LL = 169807.94526129478\n",
        "Current Parameter i = "
       ]
      },
      {
       "output_type": "stream",
       "stream": "stdout",
       "text": [
        "1 Value, 1890.7600093852664LL167534.7953120776\n",
        "Proposed Parameter i = 1 Value = 4296.800098955859LL = 167534.7953120776\n",
        "Current Parameter i = 1 Value, 1890.7600093852664LL168052.38226619826\n",
        "Proposed Parameter i = 1 Value = 4296.800098955859LL = 168052.38226619826\n",
        "Current Parameter i = 1 Value, 1890.7600093852664LL168893.5143539631\n",
        "Proposed Parameter i = 1 Value = 4296.800098955859LL = 168893.5143539631\n",
        "Current Parameter i = 1 Value, 1890.7600093852664LL169772.1305220918\n",
        "Proposed Parameter i = 1 Value = 4296.800098955859LL = 169772.1305220918\n",
        "Current Parameter i = "
       ]
      },
      {
       "output_type": "stream",
       "stream": "stdout",
       "text": [
        "1 Value, 1890.7600093852664LL165332.50256605668\n",
        "Proposed Parameter i = 1 Value = 1211.1199325219118LL = 165332.50256605668\n",
        "Current Parameter i = 1 Value, 1890.7600093852664LL170651.16203787978\n",
        "Proposed Parameter i = 1 Value = 1211.1199325219118LL = 170651.16203787978\n",
        "Current Parameter i = 1 Value, 1890.7600093852664LL170658.2193477024\n",
        "Proposed Parameter i = 1 Value = 1211.1199325219118LL = 170658.2193477024\n",
        "Current Parameter i = 1 Value, 1890.7600093852664LL170745.9503612854\n",
        "Proposed Parameter i = 1 Value = 1211.1199325219118LL = 170745.9503612854\n",
        "Current Parameter i = "
       ]
      },
      {
       "output_type": "stream",
       "stream": "stdout",
       "text": [
        "1 Value, 1890.7600093852664LL171050.0947238959\n",
        "Proposed Parameter i = 1 Value = 1211.1199325219118LL = 171050.0947238959\n",
        "Current Parameter i = 1 Value, 1890.7600093852664LL171937.6747508408\n",
        "Proposed Parameter i = 1 Value = 1211.1199325219118LL = 171937.6747508408\n",
        "Current Parameter i = 1 Value, 1890.7600093852664LL173358.92630077715\n",
        "Proposed Parameter i = 1 Value = 1211.1199325219118LL = 173358.92630077715\n",
        "Current Parameter i = 1 Value, 1890.7600093852664LL171607.84040523958\n",
        "Proposed Parameter i = 1 Value = 1211.1199325219118LL = 171607.84040523958\n",
        "Current Parameter i = "
       ]
      },
      {
       "output_type": "stream",
       "stream": "stdout",
       "text": [
        "1 Value, 1890.7600093852664LL171798.80448168053\n",
        "Proposed Parameter i = 1 Value = 1211.1199325219118LL = 171798.80448168053\n",
        "Current Parameter i = 1 Value, 1890.7600093852664LL171677.7254158745\n",
        "Proposed Parameter i = 1 Value = 1211.1199325219118LL = 171677.7254158745\n",
        "Current Parameter i = 1 Value, 1890.7600093852664LL171731.99679674787\n",
        "Proposed Parameter i = 1 Value = 1113.14074069467LL = 171731.99679674787\n",
        "Current Parameter i = "
       ]
      },
      {
       "output_type": "stream",
       "stream": "stdout",
       "text": [
        "1 Value, 1890.7600093852664LL170576.4561047822\n",
        "Proposed Parameter i = 1 Value = 1113.14074069467LL = 170576.4561047822\n",
        "Current Parameter i = 1 Value, 1890.7600093852664LL170546.08293719759\n",
        "Proposed Parameter i = 1 Value = 1113.14074069467LL = 170546.08293719759\n",
        "Current Parameter i = 1 Value, 1890.7600093852664LL170546.5060252295\n",
        "Proposed Parameter i = 1 Value = 1113.14074069467LL = 170546.5060252295\n",
        "Current Parameter i = "
       ]
      },
      {
       "output_type": "stream",
       "stream": "stdout",
       "text": [
        "1 Value, 1890.7600093852664LL170322.5277027934\n",
        "Proposed Parameter i = 1 Value = 1113.14074069467LL = 170322.5277027934\n",
        "Current Parameter i = 1 Value, 1890.7600093852664LL168806.0553396676\n",
        "Proposed Parameter i = 1 Value = 1113.14074069467LL = 168806.0553396676\n",
        "Current Parameter i = 1 Value, 1890.7600093852664LL168596.51610212828\n",
        "Proposed Parameter i = 1 Value = 1113.14074069467LL = 168596.51610212828\n",
        "Current Parameter i = 1 Value, 1890.7600093852664LL169416.04222994755\n",
        "Proposed Parameter i = 1 Value = 1113.14074069467LL = 169416.04222994755\n",
        "Current Parameter i = "
       ]
      },
      {
       "output_type": "stream",
       "stream": "stdout",
       "text": [
        "1 Value, 1890.7600093852664LL169395.43064127053\n",
        "Proposed Parameter i = 1 Value = 1113.14074069467LL = 169395.43064127053\n",
        "Current Parameter i = 1 Value, 1890.7600093852664LL169396.02003264008\n",
        "Proposed Parameter i = 1 Value = 1113.14074069467LL = 169396.02003264008\n",
        "Current Parameter i = 1 Value, 1890.7600093852664LL168495.9941667661\n",
        "Proposed Parameter i = 1 Value = 564.9826119297504LL = 168495.9941667661\n",
        "Current Parameter i = 1 Value, 1890.7600093852664LL158825.72208131457\n",
        "Proposed Parameter i = 1 Value = 564.9826119297504LL = 158825.72208131457\n",
        "Current Parameter i = "
       ]
      },
      {
       "output_type": "stream",
       "stream": "stdout",
       "text": [
        "1 Value, 1890.7600093852664LL158861.6884933623\n",
        "Proposed Parameter i = 1 Value = 564.9826119297504LL = 158861.6884933623\n",
        "Current Parameter i = 1 Value, 1890.7600093852664LL158839.05534323255\n",
        "Proposed Parameter i = 1 Value = 564.9826119297504LL = 158839.05534323255\n",
        "Current Parameter i = 1 Value, 1890.7600093852664LL149026.65215489722\n",
        "Proposed Parameter i = 1 Value = 564.9826119297504LL = 149026.65215489722\n",
        "Current Parameter i = 1 Value, 1890.7600093852664LL150935.06572987387\n",
        "Proposed Parameter i = 1 Value = 564.9826119297504LL = 150935.06572987387\n",
        "Current Parameter i = "
       ]
      },
      {
       "output_type": "stream",
       "stream": "stdout",
       "text": [
        "1 Value, 1890.7600093852664LL149352.79488575007\n",
        "Proposed Parameter i = 1 Value = 564.9826119297504LL = 149352.79488575007\n",
        "Current Parameter i = 1 Value, 1890.7600093852664LL144607.15799059332\n",
        "Proposed Parameter i = 1 Value = 564.9826119297504LL = 144607.15799059332\n",
        "Current Parameter i = 1 Value, 1890.7600093852664LL146942.29367725787\n",
        "Proposed Parameter i = 1 Value = 564.9826119297504LL = 146942.29367725787\n",
        "Current Parameter i = "
       ]
      },
      {
       "output_type": "stream",
       "stream": "stdout",
       "text": [
        "1 Value, 1890.7600093852664LL147275.10076214184\n",
        "Proposed Parameter i = 1 Value = 564.9826119297504LL = 147275.10076214184\n",
        "Current Parameter i = 1 Value, 1890.7600093852664LL160825.84672563855\n",
        "Proposed Parameter i = 1 Value = 8351.365505704433LL = 160825.84672563855\n",
        "Current Parameter i = 1 Value, 1890.7600093852664LL160776.35569892966\n",
        "Proposed Parameter i = 1 Value = 8351.365505704433LL = 160776.35569892966\n",
        "Current Parameter i = 1 Value, 1890.7600093852664LL160845.9487996622\n",
        "Proposed Parameter i = 1 Value = 8351.365505704433LL = 160845.9487996622\n",
        "Current Parameter i = "
       ]
      },
      {
       "output_type": "stream",
       "stream": "stdout",
       "text": [
        "1 Value, 1890.7600093852664LL160641.44323416287\n",
        "Proposed Parameter i = 1 Value = 8351.365505704433LL = 160641.44323416287\n",
        "Current Parameter i = 1 Value, 1890.7600093852664LL163557.32319357098\n",
        "Proposed Parameter i = 1 Value = 8351.365505704433LL = 163557.32319357098\n",
        "Current Parameter i = 1 Value, 1890.7600093852664LL165580.88774151815\n",
        "Proposed Parameter i = 1 Value = 8351.365505704433LL = 165580.88774151815\n",
        "Current Parameter i = 1 Value, 1890.7600093852664LL162969.6709713146\n",
        "Proposed Parameter i = 1 Value = 8351.365505704433LL = 162969.6709713146\n",
        "Current Parameter i = "
       ]
      },
      {
       "output_type": "stream",
       "stream": "stdout",
       "text": [
        "1 Value, 1890.7600093852664LL150577.14285718303\n",
        "Proposed Parameter i = 1 Value = 8351.365505704433LL = 150577.14285718303\n",
        "Current Parameter i = 1 Value, 1890.7600093852664LL150860.54238842044\n",
        "Proposed Parameter i = 1 Value = 8351.365505704433LL = 150860.54238842044\n",
        "Current Parameter i = 1 Value, 1890.7600093852664LL150852.90134812004\n",
        "Proposed Parameter i = 1 Value = 8351.365505704433LL = 150852.90134812004\n",
        "Current Parameter i = 1 Value, 1890.7600093852664LL164695.21971762742\n",
        "Proposed Parameter i = 1 Value = 836.6189879904443LL = 164695.21971762742\n",
        "Current Parameter i = "
       ]
      },
      {
       "output_type": "stream",
       "stream": "stdout",
       "text": [
        "1 Value, 1890.7600093852664LL149264.2378985607\n",
        "Proposed Parameter i = 1 Value = 836.6189879904443LL = 149264.2378985607\n",
        "Current Parameter i = 1 Value, 1890.7600093852664LL149264.35167299697\n",
        "Proposed Parameter i = 1 Value = 836.6189879904443LL = 149264.35167299697\n",
        "Current Parameter i = 1 Value, 1890.7600093852664LL149264.3318028697\n",
        "Proposed Parameter i = 1 Value = 836.6189879904443LL = 149264.3318028697\n",
        "Current Parameter i = 1 Value, 1890.7600093852664LL153805.87334063833\n",
        "Proposed Parameter i = 1 Value = 836.6189879904443LL = 153805.87334063833\n",
        "Current Parameter i = "
       ]
      },
      {
       "output_type": "stream",
       "stream": "stdout",
       "text": [
        "1 Value, 1890.7600093852664LL153902.23710733876\n",
        "Proposed Parameter i = 1 Value = 836.6189879904443LL = 153902.23710733876\n",
        "Current Parameter i = 1 Value, 1890.7600093852664LL155256.0649568377\n",
        "Proposed Parameter i = 1 Value = 836.6189879904443LL = 155256.0649568377\n",
        "Current Parameter i = 1 Value, 1890.7600093852664LL155064.70740232008\n",
        "Proposed Parameter i = 1 Value = 836.6189879904443LL = 155064.70740232008\n",
        "Current Parameter i = 1 Value, 1890.7600093852664LL154984.6726716669\n",
        "Proposed Parameter i = 1 Value = 836.6189879904443LL = 154984.6726716669\n",
        "Current Parameter i = "
       ]
      },
      {
       "output_type": "stream",
       "stream": "stdout",
       "text": [
        "1 Value, 1890.7600093852664LL154982.35167097874\n",
        "Proposed Parameter i = 1 Value = 836.6189879904443LL = 154982.35167097874\n",
        "Current Parameter i = 1 Value, 1890.7600093852664LL160915.87316874767\n",
        "Proposed Parameter i = 1 Value = 1796.0009254824815LL = 160915.87316874767\n",
        "Current Parameter i = 1 Value, 1890.7600093852664LL170986.98561506075\n",
        "Proposed Parameter i = 1 Value = 1796.0009254824815LL = 170986.98561506075\n",
        "Current Parameter i = 1 Value, 1890.7600093852664LL170987.92743827432\n",
        "Proposed Parameter i = 1 Value = 1796.0009254824815LL = 170987.92743827432\n",
        "Current Parameter i = "
       ]
      }
     ],
     "prompt_number": "*"
    },
    {
     "cell_type": "code",
     "collapsed": false,
     "input": [],
     "language": "python",
     "metadata": {},
     "outputs": []
    },
    {
     "cell_type": "code",
     "collapsed": false,
     "input": [
      "readdir(\"Output\")"
     ],
     "language": "python",
     "metadata": {},
     "outputs": [
      {
       "metadata": {},
       "output_type": "pyout",
       "prompt_number": 28,
       "text": [
        "41-element Array{Union(UTF8String,ASCIIString),1}:\n",
        " \".gitignore\"                                                 \n",
        " \"ION_Ball_AdaptiveMH_Output_LL_Part1.0\"                      \n",
        " \"ION_Ball_AdaptiveMH_Output_LL_Part_Final\"                   \n",
        " \"ION_Ball_AdaptiveMH_Output_Part1.0\"                         \n",
        " \"ION_Ball_AdaptiveMH_Output_Part_Final\"                      \n",
        " \"ION_Ball_MultMH_Output_AcceptanceLocal_Part1.0\"             \n",
        " \"ION_Ball_MultMH_Output_AcceptanceLocal_Part_Final\"          \n",
        " \"ION_Ball_MultMH_Output_Acceptance_Part1.0\"                  \n",
        " \"ION_Ball_MultMH_Output_Acceptance_Part_Final\"               \n",
        " \"ION_Ball_MultMH_Output_LL_Part1.0\"                          \n",
        " \"ION_Ball_MultMH_Output_LL_Part_Final\"                       \n",
        " \"ION_Ball_MultMH_Output_Part1.0\"                             \n",
        " \"ION_Ball_MultMH_Output_Part_Final\"                          \n",
        " \u22ee                                                            \n",
        " \"ION_dCK_MultMH_Output_LL_Part1.0\"                           \n",
        " \"ION_dCK_MultMH_Output_LL_Part_Final\"                        \n",
        " \"ION_dCK_MultMH_Output_Part1.0\"                              \n",
        " \"ION_dCK_MultMH_Output_Part_Final\"                           \n",
        " \"ION_SevenState_MultMH_MWG_Output_AcceptanceLocal_Part1.0\"   \n",
        " \"ION_SevenState_MultMH_MWG_Output_AcceptanceLocal_Part_Final\"\n",
        " \"ION_SevenState_MultMH_MWG_Output_Acceptance_Part1.0\"        \n",
        " \"ION_SevenState_MultMH_MWG_Output_Acceptance_Part_Final\"     \n",
        " \"ION_SevenState_MultMH_MWG_Output_LL_Part1.0\"                \n",
        " \"ION_SevenState_MultMH_MWG_Output_LL_Part_Final\"             \n",
        " \"ION_SevenState_MultMH_MWG_Output_Part1.0\"                   \n",
        " \"ION_SevenState_MultMH_MWG_Output_Part_Final\"                "
       ]
      }
     ],
     "prompt_number": 28
    },
    {
     "cell_type": "code",
     "collapsed": false,
     "input": [
      "samples = readdlm(\"Output/ION_SevenState_MultMH_MWG_Output_Part_Final\",',')"
     ],
     "language": "python",
     "metadata": {},
     "outputs": [
      {
       "metadata": {},
       "output_type": "pyout",
       "prompt_number": 6,
       "text": [
        "10x5000 Array{Float64,2}:\n",
        "  1500.0     1500.0     1500.0    \u2026   2082.16        2082.16     \n",
        " 50000.0    50000.0    50000.0       53418.7        53418.7      \n",
        " 13000.0    13000.0    13000.0       24306.0        24306.0      \n",
        "    50.0       50.0       50.0           1.23049        1.23049  \n",
        " 15000.0    15000.0    15000.0        8540.13        8540.13     \n",
        "    10.0       10.0       10.0    \u2026     57.0156        56.9859   \n",
        "     1.0e8      1.0e8      1.0e8         3.79081e8      3.79081e8\n",
        "  6000.0     6000.0     6000.0       10236.5        10236.5      \n",
        "  5000.0     5000.0     5000.0        1655.01        1655.01     \n",
        "     1.0e8      1.0e8      1.0e8         2.12813e8      2.12813e8"
       ]
      }
     ],
     "prompt_number": 6
    },
    {
     "cell_type": "code",
     "collapsed": false,
     "input": [
      "true1 = [2000,52000,6000, 50,50000,150,200000000,1500,10000,400000000]\n",
      "for i in (1,2,3,4,5)\n",
      "    for j in (1,2)\n",
      "        iterator=2*(i-1)+j\n",
      "        subplot(5,2,iterator)\n",
      "        plt.plot(vec(samples[iterator,:]))\n",
      "        hlines(true1[iterator], 0, 15000)\n",
      "        #plt.plot([0, 1500], [true1[iterator], true1[iterator]], color='k', linestyle='-', linewidth=2)\n",
      "        plt.title(model.ParaNames[iterator])\n",
      "        plt.show()\n",
      "    end\n",
      "end\n"
     ],
     "language": "python",
     "metadata": {},
     "outputs": [
      {
       "metadata": {},
       "output_type": "display_data",
       "png": "[encoded data removed]",
       "text": [
        "Figure(PyObject <matplotlib.figure.Figure object at 0x7f433868f150>)"
       ]
      }
     ],
     "prompt_number": 7
    },
    {
     "cell_type": "code",
     "collapsed": false,
     "input": [
      "ASSUME_BURNIN = floor(length(vec(samples[1,:]))/2)\n",
      "plt.scatter(vec(samples[1,ASSUME_BURNIN:end]),vec(samples[2,ASSUME_BURNIN:end]))\n"
     ],
     "language": "python",
     "metadata": {},
     "outputs": [
      {
       "metadata": {},
       "output_type": "display_data",
       "png": "[encoded data removed]",
       "text": [
        "Figure(PyObject <matplotlib.figure.Figure object at 0x7f431dd407d0>)"
       ]
      },
      {
       "metadata": {},
       "output_type": "pyout",
       "prompt_number": 8,
       "text": [
        "PyObject <matplotlib.collections.PathCollection object at 0x7f431dbf7710>"
       ]
      }
     ],
     "prompt_number": 8
    },
    {
     "cell_type": "code",
     "collapsed": false,
     "input": [
      "ASSUME_BURNIN = floor(length(vec(samples[1,:]))/2)\n",
      "println(\"Assuming burnin \", ASSUME_BURNIN)\n",
      "for i in (1,2)\n",
      "    for j in (1,2,3,4,5)\n",
      "        iterator=5*(i-1)+j\n",
      "        subplot(5,2,iterator)\n",
      "        plt.hist(vec(samples[iterator,ASSUME_BURNIN:end]))\n",
      "        vlines(true1[iterator], 0, 3000)\n",
      "        plt.title(model.ParaNames[iterator])\n",
      "        plt.show()\n",
      "    end\n",
      "end"
     ],
     "language": "python",
     "metadata": {},
     "outputs": [
      {
       "output_type": "stream",
       "stream": "stdout",
       "text": [
        "Assuming burnin 25"
       ]
      },
      {
       "output_type": "stream",
       "stream": "stdout",
       "text": [
        "00.0\n"
       ]
      },
      {
       "metadata": {},
       "output_type": "display_data",
       "png": "[encoded data removed]",
       "text": [
        "Figure(PyObject <matplotlib.figure.Figure object at 0x7f431dc311d0>)"
       ]
      }
     ],
     "prompt_number": 9
    },
    {
     "cell_type": "code",
     "collapsed": false,
     "input": [
      "using StatsBase\n",
      "LAGS=100;\n",
      "ASSUME_BURNIN = floor(length(vec(samples[1,:]))/2)\n",
      "println(\"Assuming burnin of \",ASSUME_BURNIN, \" and LAGS of \", LAGS)\n",
      "for i in (1,2)\n",
      "    for j in (1,2,3,4,5)\n",
      "        iterator=5*(i-1)+j\n",
      "        subplot(5,2,iterator)\n",
      "        plt.plot(StatsBase.autocor(vec(samples[iterator,ASSUME_BURNIN:end]),0:LAGS))\n",
      "        plt.title(model.ParaNames[iterator])\n",
      "        \n",
      "        plt.show()\n",
      "    end\n",
      "end\n",
      "plt.suptitle(\"Parameter Autocorrelations\")"
     ],
     "language": "python",
     "metadata": {},
     "outputs": [
      {
       "output_type": "stream",
       "stream": "stdout",
       "text": [
        "Assuming burnin of "
       ]
      },
      {
       "output_type": "stream",
       "stream": "stdout",
       "text": [
        "2500.0 and LAGS of 100\n"
       ]
      },
      {
       "metadata": {},
       "output_type": "display_data",
       "png": "[encoded data removed]",
       "text": [
        "Figure(PyObject <matplotlib.figure.Figure object at 0x7f431df7c390>)"
       ]
      },
      {
       "metadata": {},
       "output_type": "pyout",
       "prompt_number": 10,
       "text": [
        "PyObject <matplotlib.text.Text object at 0x7f431ca0c990>"
       ]
      }
     ],
     "prompt_number": 10
    },
    {
     "cell_type": "code",
     "collapsed": false,
     "input": [
      "LL = readdlm(\"Output/ION_SevenState_MultMH_MWG_Output_LL_Part_Final\",',');"
     ],
     "language": "python",
     "metadata": {},
     "outputs": [],
     "prompt_number": 11
    },
    {
     "cell_type": "code",
     "collapsed": false,
     "input": [
      "plot(LL)\n",
      "ylabel(\"Log-likelihood\")\n",
      "xlabel(\"Iteration\")"
     ],
     "language": "python",
     "metadata": {},
     "outputs": [
      {
       "metadata": {},
       "output_type": "display_data",
       "png": "[encoded data removed]",
       "text": [
        "Figure(PyObject <matplotlib.figure.Figure object at 0x7f431d5b1810>)"
       ]
      },
      {
       "metadata": {},
       "output_type": "pyout",
       "prompt_number": 12,
       "text": [
        "PyObject <matplotlib.text.Text object at 0x7f431d5f3410>"
       ]
      }
     ],
     "prompt_number": 12
    },
    {
     "cell_type": "code",
     "collapsed": false,
     "input": [
      "model.DefaultParas"
     ],
     "language": "python",
     "metadata": {},
     "outputs": [
      {
       "metadata": {},
       "output_type": "pyout",
       "prompt_number": 13,
       "text": [
        "10-element Array{Float64,1}:\n",
        "  1500.0  \n",
        " 50000.0  \n",
        " 13000.0  \n",
        "    50.0  \n",
        " 15000.0  \n",
        "    10.0  \n",
        "     1.0e8\n",
        "  6000.0  \n",
        "  5000.0  \n",
        "     1.0e8"
       ]
      }
     ],
     "prompt_number": 13
    },
    {
     "cell_type": "code",
     "collapsed": false,
     "input": [],
     "language": "python",
     "metadata": {},
     "outputs": [],
     "prompt_number": 37
    }
   ],
   "metadata": {}
  }
 ]
}